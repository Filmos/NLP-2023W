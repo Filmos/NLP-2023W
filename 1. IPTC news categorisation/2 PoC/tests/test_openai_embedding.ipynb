{
 "cells": [
  {
   "cell_type": "code",
   "execution_count": null,
   "metadata": {},
   "outputs": [],
   "source": [
    "import sys\n",
    "sys.path.append('../')"
   ]
  },
  {
   "cell_type": "code",
   "execution_count": 1,
   "metadata": {},
   "outputs": [],
   "source": [
    "import os\n",
    "import pandas as pd\n",
    "from classes.embeddings import OpenaiAdaEmbedding, BertEmbedding\n",
    "from tqdm import tqdm"
   ]
  },
  {
   "cell_type": "code",
   "execution_count": 2,
   "metadata": {},
   "outputs": [],
   "source": [
    "api_key = os.environ['OPENAI_API_KEY']\n",
    "openai_embedding = OpenaiAdaEmbedding(api_key)"
   ]
  },
  {
   "cell_type": "code",
   "execution_count": 2,
   "metadata": {},
   "outputs": [],
   "source": [
    "api_key = os.environ['OPENAI_API_KEY']\n",
    "\n",
    "openai_embedding = OpenaiAdaEmbedding(api_key)\n",
    "\n",
    "df = pd.read_csv('../data/2023_articles/may/2023-05-16.csv')\n",
    "df['text'].fillna(\"\", inplace=True)\n",
    "\n",
    "# Apply the get_embedding function to each row and create a new 'embedding' column\n",
    "df['embedding'] = df['text'].apply(lambda x: openai_embedding.get_embedding(x))\n",
    "\n",
    "# Save the DataFrame to a CSV file\n",
    "df.to_csv('embedded.csv', index=False)\n"
   ]
  },
  {
   "cell_type": "code",
   "execution_count": null,
   "metadata": {},
   "outputs": [],
   "source": [
    "path = '../data/2023_articles_en'\n",
    "for folder in tqdm(os.listdir(path)):\n",
    "    for filename in os.listdir(f'{path}/{folder}'):\n",
    "        if filename.endswith(\".csv\"):\n",
    "            df = pd.read_csv(f'{path}/{folder}/{filename}')\n",
    "            # apply embeddings except rows without text\n",
    "            df['ada_embedding'] = df['text'].apply(lambda x: openai_embedding.get_embedding(x) if x else None)\n",
    "            df.to_csv(f'{path}/{folder}/{filename}_embedded.csv', index=False)"
   ]
  },
  {
   "cell_type": "code",
   "execution_count": null,
   "metadata": {},
   "outputs": [],
   "source": [
    "# save all dataframes to one csv\n",
    "\n",
    "full_df = pd.DataFrame()\n",
    "\n",
    "for folder in tqdm(os.listdir(path)):\n",
    "    for filename in os.listdir(f'{path}/{folder}'):\n",
    "        if filename.endswith(\".csv\"):\n",
    "            df = pd.read_csv(f'{path}/{folder}/{filename}')\n",
    "            # create date column\n",
    "            df['date'] = filename.split('.')[0]\n",
    "            df['date'] = pd.to_datetime(df['date'], format='%Y-%m-%d')\n",
    "            full_df = full_df.append(df)"
   ]
  },
  {
   "cell_type": "code",
   "execution_count": 26,
   "metadata": {},
   "outputs": [],
   "source": [
    "# filter out rows without text\n",
    "full_df = full_df[full_df['text'] != 'None']\n",
    "full_df = full_df[['headline', 'keywords', 'categories', 'text', 'places', 'date', 'high_label', 'ada_embedding']]\n",
    "full_df.to_csv('../data/articles_2023_en.csv', index=False)"
   ]
  }
 ],
 "metadata": {
  "kernelspec": {
   "display_name": "venv",
   "language": "python",
   "name": "python3"
  },
  "language_info": {
   "codemirror_mode": {
    "name": "ipython",
    "version": 3
   },
   "file_extension": ".py",
   "mimetype": "text/x-python",
   "name": "python",
   "nbconvert_exporter": "python",
   "pygments_lexer": "ipython3",
   "version": "3.10.7"
  }
 },
 "nbformat": 4,
 "nbformat_minor": 2
}
