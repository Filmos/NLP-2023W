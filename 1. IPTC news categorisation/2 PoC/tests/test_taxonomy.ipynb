{
 "cells": [
  {
   "cell_type": "code",
   "execution_count": null,
   "metadata": {},
   "outputs": [],
   "source": [
    "import sys\n",
    "sys.path.append('../')"
   ]
  },
  {
   "cell_type": "code",
   "execution_count": 1,
   "metadata": {},
   "outputs": [],
   "source": [
    "import pandas as pd\n",
    "import os\n",
    "from classes.embeddings import OpenaiAdaEmbedding, BertEmbedding"
   ]
  },
  {
   "cell_type": "markdown",
   "metadata": {},
   "source": [
    "# Save taxonomy in nice format"
   ]
  },
  {
   "cell_type": "code",
   "execution_count": 5,
   "metadata": {},
   "outputs": [],
   "source": [
    "df = pd.read_excel('../data/taxonomy/TAKSONOMIJA.xlsx', sheet_name='SubjectCodes', usecols='A:E', nrows=938, skiprows=2)"
   ]
  },
  {
   "cell_type": "code",
   "execution_count": 7,
   "metadata": {},
   "outputs": [],
   "source": [
    "def get_hierarchy(x):\n",
    "    n = x.split(':')[1]\n",
    "    if n[2:] == '0' * len(n[2:]):\n",
    "        return 1\n",
    "    elif n[5:] == '0' * len(n[5:]):\n",
    "        return 2\n",
    "    else:\n",
    "        return 3"
   ]
  },
  {
   "cell_type": "code",
   "execution_count": 8,
   "metadata": {},
   "outputs": [],
   "source": [
    "df['hierarchy'] = df['Qcode'].apply(lambda x: get_hierarchy(x))"
   ]
  },
  {
   "cell_type": "code",
   "execution_count": 13,
   "metadata": {},
   "outputs": [],
   "source": [
    "df = df[['hierarchy', 'IPTC NAME', 'IPTC DESCRIPTION']]\n",
    "\n",
    "df.columns = ['hierarchy', 'name', 'description']"
   ]
  },
  {
   "cell_type": "code",
   "execution_count": null,
   "metadata": {},
   "outputs": [],
   "source": [
    "df.to_csv('../data/taxonomy/taxonomy.csv', index=False)"
   ]
  },
  {
   "cell_type": "code",
   "execution_count": null,
   "metadata": {},
   "outputs": [],
   "source": [
    "api_key = os.environ['OPENAI_API_KEY']\n",
    "openai_ada = OpenaiAdaEmbedding(api_key = api_key)\n",
    "bert = BertEmbedding(model_name = 'bert-base-uncased')\n",
    "df['ada_embedding'] = df['name'].apply(lambda x: openai_ada.get_embedding(x))\n",
    "df['bert_embedding'] = df['name'].apply(lambda x: bert.get_embedding(x))"
   ]
  },
  {
   "cell_type": "markdown",
   "metadata": {},
   "source": [
    "# Evaluate best IPTC categories based on cosine similarity (For now only 1st hierarchy of taxonomy)"
   ]
  },
  {
   "cell_type": "code",
   "execution_count": 1,
   "metadata": {},
   "outputs": [],
   "source": [
    "import pandas as pd\n",
    "from sklearn.metrics.pairwise import cosine_similarity\n",
    "import numpy as np\n",
    "from tqdm import tqdm\n",
    "import os"
   ]
  },
  {
   "cell_type": "code",
   "execution_count": 4,
   "metadata": {},
   "outputs": [],
   "source": [
    "article_df = pd.read_csv('../data/articles_2023_en.csv')\n",
    "article_df = article_df[article_df['ada_embedding'] != None]\n",
    "article_df['ada_embedding'] = article_df['ada_embedding'].apply(eval)\n",
    "article_embeddings = np.array(article_df['ada_embedding'].tolist())"
   ]
  },
  {
   "cell_type": "code",
   "execution_count": 5,
   "metadata": {},
   "outputs": [],
   "source": [
    "category_df = pd.read_csv('../data/taxonomy/taxonomy.csv')\n",
    "category_df = category_df[category_df['hierarchy'] == 1]\n",
    "category_df['ada_embedding'] = category_df['ada_embedding'].apply(eval)\n",
    "category_embeddings = np.array(category_df['ada_embedding'].tolist())"
   ]
  },
  {
   "cell_type": "code",
   "execution_count": 10,
   "metadata": {},
   "outputs": [],
   "source": [
    "cosine_similarity_matrix = cosine_similarity(article_embeddings, category_embeddings)\n",
    "cosine_similarity_df = pd.DataFrame(cosine_similarity_matrix, columns=category_df['name'], index=article_df.index)\n",
    "cosine_similarity_df['high_label'] = cosine_similarity_df.idxmax(axis=1)\n"
   ]
  },
  {
   "cell_type": "code",
   "execution_count": null,
   "metadata": {},
   "outputs": [],
   "source": [
    "article_df['high_label_similarity'] = cosine_similarity_df.max(axis=1)"
   ]
  },
  {
   "cell_type": "code",
   "execution_count": 20,
   "metadata": {},
   "outputs": [],
   "source": [
    "article_df.to_csv('../data/articles_2023_en.csv', index=False)"
   ]
  },
  {
   "cell_type": "code",
   "execution_count": 11,
   "metadata": {},
   "outputs": [],
   "source": [
    "cosine_similarity_df.to_csv('../data/cosine_similarity.csv')"
   ]
  },
  {
   "cell_type": "code",
   "execution_count": 89,
   "metadata": {},
   "outputs": [
    {
     "name": "stderr",
     "output_type": "stream",
     "text": [
      "100%|██████████| 10/10 [02:03<00:00, 12.40s/it]\n"
     ]
    }
   ],
   "source": [
    "path = '../data/2023_articles_en'\n",
    "for folder in tqdm(os.listdir(path)):\n",
    "    for filename in os.listdir(f'{path}/{folder}'):\n",
    "        if filename.endswith(\".csv\"):\n",
    "            article_df = pd.read_csv(f'{path}/{folder}/{filename}')\n",
    "            article_df['ada_embedding'] = article_df['ada_embedding'].apply(eval)\n",
    "            article_embeddings = np.array(article_df['ada_embedding'].tolist())\n",
    "            cosine_similarity_matrix = cosine_similarity(article_embeddings, category_embeddings)\n",
    "            cosine_similarity_df = pd.DataFrame(cosine_similarity_matrix, columns=category_df['name'], index=article_df.index)\n",
    "            cosine_similarity_df['high_label'] = cosine_similarity_df.idxmax(axis=1)\n",
    "            article_df['high_label'] = cosine_similarity_df['high_label']\n",
    "            article_df.to_csv(f'{path}/{folder}/{filename}', index=False)"
   ]
  }
 ],
 "metadata": {
  "kernelspec": {
   "display_name": "venv",
   "language": "python",
   "name": "python3"
  },
  "language_info": {
   "codemirror_mode": {
    "name": "ipython",
    "version": 3
   },
   "file_extension": ".py",
   "mimetype": "text/x-python",
   "name": "python",
   "nbconvert_exporter": "python",
   "pygments_lexer": "ipython3",
   "version": "3.10.7"
  }
 },
 "nbformat": 4,
 "nbformat_minor": 2
}
