{
 "cells": [
  {
   "cell_type": "markdown",
   "metadata": {},
   "source": [
    "# downloading data\n"
   ]
  },
  {
   "cell_type": "code",
   "execution_count": 9,
   "metadata": {},
   "outputs": [],
   "source": [
    "import requests\n",
    "x = requests.get('https://api.connexun.com/news/v2/feed')"
   ]
  },
  {
   "cell_type": "code",
   "execution_count": 37,
   "metadata": {},
   "outputs": [
    {
     "name": "stderr",
     "output_type": "stream",
     "text": [
      "100%|██████████| 32/32 [04:28<00:00,  8.38s/it]\n"
     ]
    }
   ],
   "source": [
    "import requests\n",
    "import datetime as dt\n",
    "import tqdm.auto as tqdm\n",
    "import pandas as pd\n",
    "\n",
    "# API access details\n",
    "username = \"wroclaw\"\n",
    "password = \"k,spa6!z\"\n",
    "\n",
    "def return_articles_ids(date):\n",
    "    url = \"https://api.sta.si/news/en/\" + str(date.day).zfill(2) + '.' + str(date.month).zfill(2) + '.' + str(date.year)\n",
    "    # Replace sl with en for English articles or fa for foreign agency articles\n",
    "\n",
    "    # Make a GET request to the API\n",
    "    response = requests.get(url, auth=(username, password))\n",
    "\n",
    "    # Check if the request was successful\n",
    "    if response.status_code == 200:\n",
    "        # The response contains the data you requested\n",
    "        data = response.json()\n",
    "        # Process the data as needed\n",
    "        return data\n",
    "    else:\n",
    "        # Handle errors if the request was not successful\n",
    "        print(f\"Error: {response.status_code}\")\n",
    "\n",
    "def return_article_content(id):\n",
    "    url = \"https://api.sta.si/news/sta/\" + str(id)\n",
    "    # Replace sl with en for English articles or fa for foreign agency articles\n",
    "\n",
    "    # Make a GET request to the API\n",
    "    response = requests.get(url, auth=(username, password))\n",
    "\n",
    "    # Check if the request was successful\n",
    "    if response.status_code == 200:\n",
    "        # The response contains the data you requested\n",
    "        data = response.json()\n",
    "        # Process the data as needed\n",
    "        return data\n",
    "    else:\n",
    "        # Handle errors if the request was not successful\n",
    "        print(f\"Error: {response.status_code}\")\n",
    "\n",
    "news = []\n",
    "\n",
    "for date in tqdm.tqdm(pd.date_range(dt.date(2023,10,1), dt.date(2023,11,1))):\n",
    "    list_of_arts = return_articles_ids(date)\n",
    "    if list_of_arts:\n",
    "        for art in list_of_arts:\n",
    "            news.append(return_article_content(art))\n"
   ]
  },
  {
   "cell_type": "code",
   "execution_count": 40,
   "metadata": {},
   "outputs": [],
   "source": [
    "#save dict to pickle\n",
    "import pickle\n",
    "with open('news.pickle', 'wb') as handle:\n",
    "    pickle.dump(news, handle, protocol=pickle.HIGHEST_PROTOCOL)"
   ]
  },
  {
   "cell_type": "code",
   "execution_count": 23,
   "metadata": {},
   "outputs": [
    {
     "name": "stdout",
     "output_type": "stream",
     "text": [
      "Error: 404\n"
     ]
    }
   ],
   "source": [
    "import datetime as dt\n",
    "return_articles_ids(dt.date(2023, 10, 1))"
   ]
  },
  {
   "cell_type": "code",
   "execution_count": 21,
   "metadata": {},
   "outputs": [
    {
     "data": {
      "text/plain": [
       "{'byline': 'sm/lpc/sm',\n",
       " 'channels': ['STA'],\n",
       " 'desk': 'AN',\n",
       " 'headline': 'Victims of summary executions in Teharje remembered',\n",
       " 'keywords': ['WAR', 'CHURCH', 'POST-WAR KILLINGS'],\n",
       " 'categories': ['PO'],\n",
       " 'lede': 'An estimated 5,000 victims of war and post-war summary executions were commemorated Sunday at an annual memorial mass in Teharje near Celje.',\n",
       " 'places': [{'city': 'Teharje',\n",
       "   'country': 'SLOVENIA',\n",
       "   'code1': 'SVN',\n",
       "   'code2': 'si'}],\n",
       " 'priority': 4,\n",
       " 'id': 3219672,\n",
       " 'photos': [808230],\n",
       " 'text': 'Maribor Archbishop Marjan Turnšek described Teharje as \"a place unfortunately named\" that should become a place of \"mild memory\" in what is a long process.\\n\\nBut Turnšek said there was still a lot of \"ideological fog\" in the country that prevented new generations from seeing and experiencing the truth about the nation.\\n\\nThe ceremony also featured an address by Tomaž Debevec, whose father was supposed to be executed there but managed to flee in June 1945.\\n\\nHe said it was not easy to understand how someone could take the right to kill other people, but noted that it was now clear that a plan of \"revolutionary extermination\" had already been devised in 1941 and 1942.\\n\\nTeharje was the site of Nazi Germany military barracks that were later used as a concentration camp for members of the Home Guard militia that collaborated with the Nazis, as well as soldiers, civilians, and refugees from Croatia and Serbia apprehended by the Allies in May 1945 and turned over to the Partisans.\\n\\nThe majority were executed without trial, either close to Teharje or in Huda Jama near Laško and the mine shafts in Hrastnik.\\n\\nA memorial park was inaugurated at the site of the former barracks in 2004 but it remains unfinished.',\n",
       " 'versioncreated': 1696160036816}"
      ]
     },
     "execution_count": 21,
     "metadata": {},
     "output_type": "execute_result"
    }
   ],
   "source": [
    "return_article_content('3219672')"
   ]
  },
  {
   "cell_type": "code",
   "execution_count": 11,
   "metadata": {},
   "outputs": [],
   "source": [
    "import pandas as pd\n",
    "from tqdm import tqdm"
   ]
  },
  {
   "cell_type": "code",
   "execution_count": 18,
   "metadata": {},
   "outputs": [
    {
     "name": "stderr",
     "output_type": "stream",
     "text": [
      "100%|██████████| 302/302 [01:23<00:00,  3.61it/s]\n"
     ]
    }
   ],
   "source": [
    "list_of_ids_2023 = {}\n",
    "\n",
    "for date in tqdm(pd.date_range(dt.date(2023,1,1), dt.date.today())):\n",
    "    list_of_ids_2023[date] = return_articles_ids(date)"
   ]
  },
  {
   "cell_type": "code",
   "execution_count": 20,
   "metadata": {},
   "outputs": [],
   "source": [
    "#save dict to pickle\n",
    "import pickle\n",
    "with open('list_of_ids_2023.pickle', 'wb') as handle:\n",
    "    pickle.dump(list_of_ids_2023, handle, protocol=pickle.HIGHEST_PROTOCOL)"
   ]
  },
  {
   "cell_type": "code",
   "execution_count": 12,
   "metadata": {},
   "outputs": [],
   "source": [
    "def download_data(list_of_ids):\n",
    "    list_of_articles = {}\n",
    "    for date in tqdm(list_of_ids.keys()):\n",
    "        list_of_articles[date] = {}\n",
    "        for id in list_of_ids[date]:\n",
    "            list_of_articles[date][id] = return_article_content(id)\n",
    "    return list_of_articles"
   ]
  },
  {
   "cell_type": "code",
   "execution_count": 7,
   "metadata": {},
   "outputs": [],
   "source": [
    "import pandas as pd"
   ]
  },
  {
   "cell_type": "code",
   "execution_count": 8,
   "metadata": {},
   "outputs": [],
   "source": [
    "data = pd.read_pickle('list_of_ids_2023.pickle')\n",
    "example_id = data[pd.Timestamp('2023-01-28 00:00:00')][10]"
   ]
  },
  {
   "cell_type": "code",
   "execution_count": 13,
   "metadata": {},
   "outputs": [
    {
     "data": {
      "text/plain": [
       "{'byline': 'vpu/apo',\n",
       " 'channels': ['STA'],\n",
       " 'desk': 'NP',\n",
       " 'headline': 'V Črni na Koroškem bodo ponovno nastale snežne skulpture',\n",
       " 'keywords': ['PRIREDITEV', 'SNEG', 'ETNOLOGIJA'],\n",
       " 'categories': ['DR'],\n",
       " 'lede': 'V Črni na Koroškem bo danes potekal osrednji del letošnje že 31. prireditve Gradovi kralja Matjaža, to je gradnja snežnih skulptur. Pričakujejo okoli 30 ekip, je pa prijava možna še vse do začetka gradnje. Ta bo potekala med 10. in 16. uro. Najlepše snežne gradove bodo razglasili ob 17. uri. Nedelja prinaša pester program za najmlajše.',\n",
       " 'places': [{'city': 'Črna na Koroškem',\n",
       "   'country': 'SLOVENIJA',\n",
       "   'code1': 'SVN',\n",
       "   'code2': 'si'}],\n",
       " 'next': 3133124,\n",
       " 'priority': 4,\n",
       " 'id': 3132777,\n",
       " 'photos': [985674],\n",
       " 'text': 'Gradnja snežnih gradov, ki je v preteklosti potekala v Podpeci, od leta 2019 poteka na Matevžavih travnikih pod črnjanskim stadionom.\\n\\nKo je že kazalo, da bodo zaradi neugodnih vremenskih razmer morali prireditev letos odpovedati ali prestaviti, pa je v zadnjih dneh v Črni zapadlo precej snega, hkrati so padle tudi temperature, da so za graditelje lahko izdelali zadosti umetnega snega, ki je bolj primeren za gradnjo snežnih skulptur.\\n\\nPo zaključku današnje gradnje, ko bodo skulpturam dodali še ustrezno osvetlitev s svečkami in baklami, bodo razglasili najlepše. V nedeljo nato od 10.30 pripravljajo pester program za najmlajše. Napovedujejo plesne točke, ustvarjalne delavnice, tudi gledališko predstavo, iskanje zaklada in glasbeno presenečenje. Za vstop na prizorišče bodo oba dneva za starejše od 15 let pobirali vstopnino.\\n\\nOrganizator prireditve, ki je po besedah županje Romane Lesjak pomemben turistični produkt, je Občina Črna na Koroškem.',\n",
       " 'versioncreated': 1674878421005}"
      ]
     },
     "execution_count": 13,
     "metadata": {},
     "output_type": "execute_result"
    }
   ],
   "source": [
    "return_article_content(example_id)"
   ]
  },
  {
   "cell_type": "code",
   "execution_count": 35,
   "metadata": {},
   "outputs": [],
   "source": [
    "import numpy as np"
   ]
  },
  {
   "cell_type": "code",
   "execution_count": 56,
   "metadata": {},
   "outputs": [],
   "source": [
    "final_list = np.array([])\n",
    "\n",
    "# for sub_list in tqdm(data.values()):\n",
    "sub_list = data[list(data.keys())[-1]]\n",
    "for key in sub_list:\n",
    "    final_list = np.append(final_list, return_article_content(key))"
   ]
  },
  {
   "cell_type": "code",
   "execution_count": 60,
   "metadata": {},
   "outputs": [
    {
     "data": {
      "text/plain": [
       "Timestamp('2023-10-29 00:00:00')"
      ]
     },
     "execution_count": 60,
     "metadata": {},
     "output_type": "execute_result"
    }
   ],
   "source": [
    "list(data.keys())[-1]"
   ]
  },
  {
   "cell_type": "code",
   "execution_count": 61,
   "metadata": {},
   "outputs": [],
   "source": [
    "with open('data_2023_10_29.pickle', 'wb') as handle:\n",
    "    pickle.dump(final_list, handle, protocol=pickle.HIGHEST_PROTOCOL)"
   ]
  }
 ],
 "metadata": {
  "kernelspec": {
   "display_name": "Python 3",
   "language": "python",
   "name": "python3"
  },
  "language_info": {
   "codemirror_mode": {
    "name": "ipython",
    "version": 3
   },
   "file_extension": ".py",
   "mimetype": "text/x-python",
   "name": "python",
   "nbconvert_exporter": "python",
   "pygments_lexer": "ipython3",
   "version": "3.10.7"
  }
 },
 "nbformat": 4,
 "nbformat_minor": 2
}
