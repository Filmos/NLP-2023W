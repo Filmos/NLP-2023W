{
 "cells": [
  {
   "cell_type": "markdown",
   "metadata": {},
   "source": [
    "This notebook measures performance of our system on the test set of 300 articles with single correct labels.\n",
    "\n",
    "We test 3 different approaches:\n",
    "- classification through article similarity to IPTC category name \n",
    "- classification through article similarity to IPTC category description \n",
    "- classification through article similarity to IPTC category description with keywords"
   ]
  },
  {
   "cell_type": "code",
   "execution_count": null,
   "metadata": {},
   "outputs": [],
   "source": [
    "import autorootcwd\n",
    "import os\n",
    "import pandas as pd\n",
    "from src.exploratory_data_analysis import gather_data\n",
    "from tqdm import tqdm\n",
    "from sklearn.metrics.pairwise import cosine_similarity\n",
    "import numpy as np\n",
    "from pathlib import Path\n",
    "from sklearn.metrics import accuracy_score, precision_recall_fscore_support\n",
    "from sklearn.preprocessing import label_binarize"
   ]
  },
  {
   "cell_type": "markdown",
   "metadata": {},
   "source": [
    "# Benchmark "
   ]
  },
  {
   "cell_type": "markdown",
   "metadata": {},
   "source": [
    "After performing the expansion of IPTC category descriptions, we compare their results with our baseline - IPTC category names embeddings."
   ]
  },
  {
   "cell_type": "code",
   "execution_count": 69,
   "metadata": {},
   "outputs": [],
   "source": [
    "def generate_predictions(df_articles, df_taxonomy, column_name_article_embedding, column_name_category_embedding):\n",
    "    \"\"\"Classifies articles based on the taxonomy.\n",
    "    \n",
    "    Args:\n",
    "        df_articles (pd.DataFrame): Dataframe containing the articles.\n",
    "        df_taxonomy (pd.DataFrame): Dataframe containing the taxonomy.\n",
    "        \n",
    "    Returns:\n",
    "        pd.DataFrame: Dataframe containing the articles with the predicted categories.\n",
    "    \"\"\"\n",
    "    \n",
    "    article_embeddings = df_articles[column_name_article_embedding]\n",
    "    category_embeddings = df_taxonomy[column_name_category_embedding]\n",
    "    \n",
    "    if isinstance(article_embeddings.iloc[0], str):\n",
    "        article_embeddings = article_embeddings.apply(eval)\n",
    "    \n",
    "    if isinstance(category_embeddings.iloc[0], str):\n",
    "        category_embeddings = category_embeddings.apply(eval)\n",
    "    \n",
    "    article_embeddings = np.array(article_embeddings.tolist())\n",
    "    category_embeddings = np.array(category_embeddings.tolist())\n",
    "    \n",
    "    # compute similarity matrix of each article to each category\n",
    "    similarity_scores = cosine_similarity(article_embeddings, category_embeddings)\n",
    "    probabilities = similarity_scores / similarity_scores.sum(axis=1, keepdims=True)\n",
    "    preds = np.argmax(probabilities, axis=1)\n",
    "    preds_names = df_taxonomy['name'].iloc[preds].values\n",
    "    \n",
    "    # create output dataframe\n",
    "    df_output = df_articles.copy()\n",
    "    df_output['predicted_category_name'] = preds_names\n",
    "    df_output['predicted_category_number'] = preds\n",
    "    df_output['predicted_category_probability'] = np.max(probabilities, axis=1)\n",
    "    df_output['predicted_categories_all_probabilities'] = [str(list(probs)) for probs in probabilities]\n",
    "    \n",
    "    return df_output"
   ]
  },
  {
   "cell_type": "markdown",
   "metadata": {},
   "source": [
    "Read test dataset and taxonomy"
   ]
  },
  {
   "cell_type": "code",
   "execution_count": null,
   "metadata": {},
   "outputs": [],
   "source": [
    "# df_articles_testset = pd.read_csv('data/test_sets/test_set_random.csv')\n",
    "df_articles_testset = pd.read_csv('labeling_app/labeled_data.csv')\n",
    "print(df_articles_testset.columns)\n",
    "\n",
    "df_taxonomy = pd.read_csv('data/taxonomy/taxonomy_expanded.csv')\n",
    "print(df_articles_testset.shape, df_taxonomy.shape)"
   ]
  },
  {
   "cell_type": "markdown",
   "metadata": {},
   "source": [
    "Generate predictions using our embedding similarity system"
   ]
  },
  {
   "cell_type": "code",
   "execution_count": null,
   "metadata": {},
   "outputs": [],
   "source": [
    "df_output_testset_names = generate_predictions(df_articles_testset, df_taxonomy, 'ada_embedding', 'ada_embedding_name')\n",
    "print(df_output_testset_names.shape)\n",
    "\n",
    "df_output_testset_descriptions = generate_predictions(df_articles_testset, df_taxonomy, 'ada_embedding', 'ada_embedding_description')\n",
    "print(df_output_testset_descriptions.shape)\n",
    "\n",
    "df_output_testset_expanded_descriptions = generate_predictions(df_articles_testset, df_taxonomy, 'ada_embedding', 'final_description_ada_embedding')\n",
    "print(df_output_testset_expanded_descriptions.shape)"
   ]
  },
  {
   "cell_type": "code",
   "execution_count": 77,
   "metadata": {},
   "outputs": [],
   "source": [
    "def top_k_accuracy_score(y_true, y_score, k=5):\n",
    "    \"\"\"Computes top-k accuracy.\n",
    "    \n",
    "    Args:\n",
    "        y_true (list): True labels.\n",
    "        y_score (list of list): Predicted probabilities for each class.\n",
    "        k (int): Number of top predictions to consider.\n",
    "        \n",
    "    Returns:\n",
    "        float: Top-k accuracy score.\n",
    "    \"\"\"\n",
    "    # Binarize the true labels to a one-vs-all fashion\n",
    "    classes = np.unique(y_true)\n",
    "    y_true_binarized = label_binarize(y_true, classes=classes)\n",
    "    \n",
    "    # Get the indices of the top k scores\n",
    "    top_k_indices = np.argsort(y_score, axis=1)[:, -k:]\n",
    "    \n",
    "    # Check if the true label is among the top k predictions for each sample\n",
    "    top_k_accuracy = 0\n",
    "    for i in range(y_true_binarized.shape[0]):\n",
    "        if y_true_binarized[i, top_k_indices[i]].sum() > 0:\n",
    "            top_k_accuracy += 1\n",
    "    \n",
    "    top_k_accuracy /= y_true_binarized.shape[0]\n",
    "    return top_k_accuracy"
   ]
  },
  {
   "cell_type": "markdown",
   "metadata": {},
   "source": [
    "Declare some label mappings for later usage"
   ]
  },
  {
   "cell_type": "code",
   "execution_count": null,
   "metadata": {},
   "outputs": [],
   "source": [
    "label_mapping = dict(zip(df_taxonomy['name'], list(range(len(df_taxonomy['name'])))))\n",
    "true_labels_names = df_articles_testset[\"proposed_label\"].tolist()\n",
    "true_labels_ids = [label_mapping[label] for label in true_labels_names]\n",
    "true_labels_one_hot = np.zeros((len(true_labels_names), len(df_taxonomy['name'])))\n",
    "\n",
    "len(true_labels_names), len(true_labels_ids), true_labels_one_hot.shape"
   ]
  },
  {
   "cell_type": "markdown",
   "metadata": {},
   "source": [
    "Compute metrics for category name appraoch"
   ]
  },
  {
   "cell_type": "code",
   "execution_count": null,
   "metadata": {},
   "outputs": [],
   "source": [
    "predicted_label_names = df_output_testset_names['predicted_category_name']\n",
    "accuracy = accuracy_score(true_labels_names, predicted_label_names)\n",
    "precision, recall, f1, _ = precision_recall_fscore_support(true_labels_names, predicted_label_names, average='weighted')\n",
    "\n",
    "predicted_label_probabilities = df_output_testset_names['predicted_categories_all_probabilities'].apply(eval).tolist()\n",
    "top3_acc = top_k_accuracy_score(true_labels_names, predicted_label_probabilities, k=3)\n",
    "\n",
    "metrics1 = [accuracy, precision, recall, f1, top3_acc]\n",
    "print(top3_acc)"
   ]
  },
  {
   "cell_type": "markdown",
   "metadata": {},
   "source": [
    "Compute metrics for category description appraoch"
   ]
  },
  {
   "cell_type": "code",
   "execution_count": null,
   "metadata": {},
   "outputs": [],
   "source": [
    "predicted_label_names = df_output_testset_descriptions['predicted_category_name']\n",
    "accuracy = accuracy_score(true_labels_names, predicted_label_names)\n",
    "precision, recall, f1, _ = precision_recall_fscore_support(true_labels_names, predicted_label_names, average='weighted')\n",
    "\n",
    "predicted_label_probabilities = df_output_testset_descriptions['predicted_categories_all_probabilities'].apply(eval).tolist()\n",
    "top3_acc = top_k_accuracy_score(true_labels_names, predicted_label_probabilities, k=3)\n",
    "\n",
    "metrics2 = [accuracy, precision, recall, f1, top3_acc]\n",
    "print(top3_acc)"
   ]
  },
  {
   "cell_type": "markdown",
   "metadata": {},
   "source": [
    "Compute metrics for category description with keywords appraoch"
   ]
  },
  {
   "cell_type": "code",
   "execution_count": 117,
   "metadata": {},
   "outputs": [
    {
     "name": "stdout",
     "output_type": "stream",
     "text": [
      "0.8933333333333333\n"
     ]
    }
   ],
   "source": [
    "predicted_label_names = df_output_testset_expanded_descriptions['predicted_category_name']\n",
    "accuracy = accuracy_score(true_labels_names, predicted_label_names)\n",
    "precision, recall, f1, _ = precision_recall_fscore_support(true_labels_names, predicted_label_names, average='weighted')\n",
    "\n",
    "predicted_label_probabilities = df_output_testset_expanded_descriptions['predicted_categories_all_probabilities'].apply(eval).tolist()\n",
    "top3_acc = top_k_accuracy_score(true_labels_names, predicted_label_probabilities, k=3)\n",
    "\n",
    "metrics3 = [accuracy, precision, recall, f1, top3_acc]\n",
    "print(top3_acc)"
   ]
  },
  {
   "cell_type": "markdown",
   "metadata": {},
   "source": [
    "## Plot the results"
   ]
  },
  {
   "cell_type": "code",
   "execution_count": 114,
   "metadata": {},
   "outputs": [
    {
     "data": {
      "image/png": "[encoded data removed]",
      "text/plain": [
       "<Figure size 1000x600 with 1 Axes>"
      ]
     },
     "metadata": {},
     "output_type": "display_data"
    }
   ],
   "source": [
    "import seaborn as sns\n",
    "import pandas as pd\n",
    "import matplotlib.pyplot as plt\n",
    "\n",
    "metrics_names = ['accuracy', 'precision', 'recall', 'f1', \"top3_acc\"]\n",
    "\n",
    "\n",
    "# Convert the metrics into a DataFrame for easier plotting with Seaborn\n",
    "metrics_df = pd.DataFrame({\n",
    "    'Names': metrics1,\n",
    "    'Descriptions': metrics2,\n",
    "    'Expanded Descriptions': metrics3\n",
    "}, index=metrics_names).T.melt(var_name='Metric', value_name='Score', ignore_index=False).reset_index()\n",
    "\n",
    "# Set the style of the seaborn plot\n",
    "sns.set_theme(style=\"whitegrid\")\n",
    "\n",
    "# Create the barplot\n",
    "plt.figure(figsize=(10, 6))\n",
    "barplot = sns.barplot(x='Metric', y='Score', hue='index', data=metrics_df, palette='muted')\n",
    "\n",
    "# Set the labels and title\n",
    "barplot.set_ylabel('Scores', fontsize=14)\n",
    "barplot.set_xlabel('Metrics', fontsize=14)\n",
    "barplot.set_title('Comparison of Prediction Methods', fontsize=16)\n",
    "\n",
    "# Place the legend outside the plot\n",
    "plt.legend(title='Method', bbox_to_anchor=(1.05, 1), loc='upper left')\n",
    "\n",
    "# Show the plot\n",
    "plt.tight_layout()\n",
    "plt.show()"
   ]
  }
 ],
 "metadata": {
  "kernelspec": {
   "display_name": "venv",
   "language": "python",
   "name": "python3"
  },
  "language_info": {
   "codemirror_mode": {
    "name": "ipython",
    "version": 3
   },
   "file_extension": ".py",
   "mimetype": "text/x-python",
   "name": "python",
   "nbconvert_exporter": "python",
   "pygments_lexer": "ipython3",
   "version": "3.9.13"
  }
 },
 "nbformat": 4,
 "nbformat_minor": 2
}
