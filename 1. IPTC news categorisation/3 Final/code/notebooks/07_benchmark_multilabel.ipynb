{
 "cells": [
  {
   "cell_type": "markdown",
   "metadata": {},
   "source": [
    "This notebook measures performance of our system on the test set of 300 articles with multiple correct labels.\n",
    "\n",
    "So this time we pefrom multilabel classification.\n",
    "\n",
    "We test 3 different approaches:\n",
    "- classification through article similarity to IPTC category name \n",
    "- classification through article similarity to IPTC category description \n",
    "- classification through article similarity to IPTC category description with keywords"
   ]
  },
  {
   "cell_type": "code",
   "execution_count": null,
   "metadata": {},
   "outputs": [],
   "source": [
    "import autorootcwd\n",
    "import os\n",
    "import pandas as pd\n",
    "from src.exploratory_data_analysis import gather_data\n",
    "from tqdm import tqdm\n",
    "from sklearn.metrics.pairwise import cosine_similarity\n",
    "import numpy as np\n",
    "from pathlib import Path\n",
    "from sklearn.metrics import accuracy_score, precision_recall_fscore_support\n",
    "from sklearn.preprocessing import label_binarize\n",
    "import openai\n",
    "import matplotlib.pyplot as plt"
   ]
  },
  {
   "cell_type": "markdown",
   "metadata": {},
   "source": [
    "# Benchmark"
   ]
  },
  {
   "cell_type": "markdown",
   "metadata": {},
   "source": [
    "After performing the expansion of IPTC category descriptions, we compare their results with our baseline - IPTC category names embeddings."
   ]
  },
  {
   "cell_type": "code",
   "execution_count": 2,
   "metadata": {},
   "outputs": [],
   "source": [
    "def generate_predictions(df_articles, df_taxonomy, column_name_article_embedding, column_name_category_embedding):\n",
    "    \"\"\"Classifies articles based on the taxonomy.\n",
    "    \n",
    "    Args:\n",
    "        df_articles (pd.DataFrame): Dataframe containing the articles.\n",
    "        df_taxonomy (pd.DataFrame): Dataframe containing the taxonomy.\n",
    "        \n",
    "    Returns:\n",
    "        pd.DataFrame: Dataframe containing the articles with the predicted categories.\n",
    "    \"\"\"\n",
    "    \n",
    "    article_embeddings = df_articles[column_name_article_embedding]\n",
    "    category_embeddings = df_taxonomy[column_name_category_embedding]\n",
    "    \n",
    "    if isinstance(article_embeddings.iloc[0], str):\n",
    "        article_embeddings = article_embeddings.apply(eval)\n",
    "    \n",
    "    if isinstance(category_embeddings.iloc[0], str):\n",
    "        category_embeddings = category_embeddings.apply(eval)\n",
    "    \n",
    "    article_embeddings = np.array(article_embeddings.tolist())\n",
    "    category_embeddings = np.array(category_embeddings.tolist())\n",
    "    \n",
    "    # compute similarity matrix of each article to each category\n",
    "    similarity_scores = cosine_similarity(article_embeddings, category_embeddings)\n",
    "    probabilities = similarity_scores / similarity_scores.sum(axis=1, keepdims=True)\n",
    "    preds = np.argmax(probabilities, axis=1)\n",
    "    preds_names = df_taxonomy['name'].iloc[preds].values\n",
    "    \n",
    "    # create output dataframe\n",
    "    df_output = df_articles.copy()\n",
    "    df_output['predicted_category_name'] = preds_names\n",
    "    df_output['predicted_category_number'] = preds\n",
    "    df_output['predicted_category_probability'] = np.max(probabilities, axis=1)\n",
    "    df_output['predicted_categories_all_probabilities'] = [str(list(probs)) for probs in probabilities]\n",
    "    \n",
    "    return df_output"
   ]
  },
  {
   "cell_type": "markdown",
   "metadata": {},
   "source": [
    "Load test dataset and taxonomy"
   ]
  },
  {
   "cell_type": "code",
   "execution_count": null,
   "metadata": {},
   "outputs": [],
   "source": [
    "# read test dataset and taxonomy\n",
    "df_articles_testset = pd.read_csv('labeling_app/labeled_data.csv')\n",
    "print(df_articles_testset.columns)\n",
    "\n",
    "df_taxonomy = pd.read_csv('data/taxonomy/taxonomy_expanded.csv')\n",
    "print(df_articles_testset.shape, df_taxonomy.shape)"
   ]
  },
  {
   "cell_type": "markdown",
   "metadata": {},
   "source": [
    "Generate embeddings for articles from test set"
   ]
  },
  {
   "cell_type": "code",
   "execution_count": 4,
   "metadata": {},
   "outputs": [
    {
     "name": "stderr",
     "output_type": "stream",
     "text": [
      "100%|██████████| 300/300 [03:13<00:00,  1.55it/s]\n"
     ]
    }
   ],
   "source": [
    "from tqdm import tqdm\n",
    "tqdm.pandas()\n",
    "\n",
    "client = openai.Client()\n",
    "\n",
    "def get_embedding(text, model=\"text-embedding-ada-002\"):\n",
    "   response = client.embeddings.create(input = [text], model=model)\n",
    "   return response.data[0].embedding\n",
    "\n",
    "# add column 'ada_embedding' to df_articles_testset\n",
    "df_articles_testset['ada_embedding'] = df_articles_testset['text'].progress_apply(get_embedding)"
   ]
  },
  {
   "cell_type": "markdown",
   "metadata": {},
   "source": [
    "Generate predictions"
   ]
  },
  {
   "cell_type": "code",
   "execution_count": null,
   "metadata": {},
   "outputs": [],
   "source": [
    "df_output_testset_names = generate_predictions(df_articles_testset, df_taxonomy, 'ada_embedding', 'ada_embedding_name')\n",
    "print(df_output_testset_names.shape)\n",
    "\n",
    "df_output_testset_descriptions = generate_predictions(df_articles_testset, df_taxonomy, 'ada_embedding', 'ada_embedding_description')\n",
    "print(df_output_testset_descriptions.shape)\n",
    "\n",
    "df_output_testset_expanded_descriptions = generate_predictions(df_articles_testset, df_taxonomy, 'ada_embedding', 'final_description_ada_embedding')\n",
    "print(df_output_testset_expanded_descriptions.shape)"
   ]
  },
  {
   "cell_type": "code",
   "execution_count": 8,
   "metadata": {},
   "outputs": [],
   "source": [
    "import numpy as np\n",
    "from sklearn.preprocessing import MultiLabelBinarizer\n",
    "\n",
    "def dynamic_coverage_top_k_accuracy_score(y_true, y_score):\n",
    "    \"\"\"\n",
    "    Computes dynamic coverage top-k accuracy.\n",
    "\n",
    "    Args:\n",
    "        y_true (list of list): True labels, each sublist containing multiple correct classes.\n",
    "        y_score (list of list): Predicted probabilities for each class.\n",
    "\n",
    "    Returns:\n",
    "        float: Dynamic coverage top-k accuracy score.\n",
    "    \"\"\"\n",
    "    # Flatten the list of true labels and create a binarized matrix\n",
    "    mlb = MultiLabelBinarizer()\n",
    "    y_true_binarized = mlb.fit_transform(y_true)\n",
    "\n",
    "    # Calculate the dynamic coverage accuracy\n",
    "    coverage_scores = []\n",
    "    for i, true_labels in enumerate(y_true):\n",
    "        # Determine the number of top labels to consider (equal to the number of true labels)\n",
    "        top_k = len(true_labels)\n",
    "\n",
    "        # Find the indices of the top k scores\n",
    "        top_k_indices = np.argsort(y_score[i])[-top_k:]\n",
    "\n",
    "        # Find the indices of the true labels in the binarized matrix\n",
    "        true_indices = np.where(mlb.transform([true_labels])[0])[0]\n",
    "\n",
    "        # Count how many true labels are in the top k predictions\n",
    "        match_count = np.sum(np.isin(true_indices, top_k_indices))\n",
    "\n",
    "        # Calculate the coverage for this instance\n",
    "        if len(true_labels) > 0:\n",
    "            coverage_scores.append(match_count / len(true_labels))\n",
    "        else:\n",
    "            coverage_scores.append(1.0)  # Handle case with no true labels\n",
    "\n",
    "    # Return the average coverage\n",
    "    return np.mean(coverage_scores)"
   ]
  },
  {
   "cell_type": "markdown",
   "metadata": {},
   "source": [
    "## Compute metrics for results"
   ]
  },
  {
   "cell_type": "code",
   "execution_count": null,
   "metadata": {},
   "outputs": [],
   "source": [
    "label_mapping = dict(zip(df_taxonomy['name'], list(range(len(df_taxonomy['name'])))))\n",
    "true_labels_names = df_articles_testset[\"proposed_label\"].apply(eval)\n",
    "\n",
    "# true_labels_names are list of labels, map all elements from list for each record into id\n",
    "true_labels_ids = [[label_mapping[label] for label in labels] for labels in true_labels_names]"
   ]
  },
  {
   "cell_type": "code",
   "execution_count": 11,
   "metadata": {},
   "outputs": [
    {
     "name": "stdout",
     "output_type": "stream",
     "text": [
      "0.7382222222222222\n"
     ]
    }
   ],
   "source": [
    "predicted_label_probabilities = df_output_testset_names['predicted_categories_all_probabilities'].apply(eval).tolist()\n",
    "top3_acc_names = dynamic_coverage_top_k_accuracy_score(true_labels_names, predicted_label_probabilities)\n",
    "print(top3_acc_names)"
   ]
  },
  {
   "cell_type": "code",
   "execution_count": 12,
   "metadata": {},
   "outputs": [
    {
     "name": "stdout",
     "output_type": "stream",
     "text": [
      "0.4565555555555555\n"
     ]
    }
   ],
   "source": [
    "predicted_label_probabilities = df_output_testset_descriptions['predicted_categories_all_probabilities'].apply(eval).tolist()\n",
    "top3_acc_desc = dynamic_coverage_top_k_accuracy_score(true_labels_names, predicted_label_probabilities)\n",
    "print(top3_acc_desc)"
   ]
  },
  {
   "cell_type": "code",
   "execution_count": 13,
   "metadata": {},
   "outputs": [
    {
     "name": "stdout",
     "output_type": "stream",
     "text": [
      "0.6826666666666668\n"
     ]
    }
   ],
   "source": [
    "predicted_label_probabilities = df_output_testset_expanded_descriptions['predicted_categories_all_probabilities'].apply(eval).tolist()\n",
    "top3_acc_exp_desc = dynamic_coverage_top_k_accuracy_score(true_labels_names, predicted_label_probabilities)\n",
    "print(top3_acc_exp_desc)"
   ]
  },
  {
   "cell_type": "markdown",
   "metadata": {},
   "source": [
    "## Plot results"
   ]
  },
  {
   "cell_type": "code",
   "execution_count": 17,
   "metadata": {},
   "outputs": [
    {
     "data": {
      "image/png": "[encoded data removed]",
      "text/plain": [
       "<Figure size 640x480 with 1 Axes>"
      ]
     },
     "metadata": {},
     "output_type": "display_data"
    }
   ],
   "source": [
    "# Create a bar chart\n",
    "x = range(3)  # three metrics\n",
    "width = 0.2\n",
    "\n",
    "fig, ax = plt.subplots()\n",
    "bars1 = ax.bar(x[0], top3_acc_names, width, label='Names', align='center')\n",
    "bars2 = ax.bar(x[1], top3_acc_desc, width, label='Descriptions', align='center')\n",
    "bars3 = ax.bar(x[2], top3_acc_exp_desc, width, label='Expanded Descriptions', align='center')\n",
    "\n",
    "# Function to attach a label on each bar\n",
    "def autolabel(bars, score):\n",
    "    for bar in bars:\n",
    "        height = bar.get_height()\n",
    "        ax.text(bar.get_x() + bar.get_width() / 2., 1.05 * height,\n",
    "                '%.2f' % score,\n",
    "                ha='center', va='bottom')\n",
    "\n",
    "autolabel(bars1, top3_acc_names)\n",
    "autolabel(bars2, top3_acc_desc)\n",
    "autolabel(bars3, top3_acc_exp_desc)\n",
    "\n",
    "# Set the labels and title\n",
    "ax.set_ylabel('Scores')\n",
    "ax.set_title('Comparison of percentage multilabel coverage \\n between true categories and top model predictions \\n')\n",
    "ax.set_xticks(x)\n",
    "ax.set_xticklabels(['Names', 'Descriptions', 'Expanded Descriptions'])\n",
    "\n",
    "# Set the legend in the bottom right corner\n",
    "# ax.legend(loc='lower right')\n",
    "\n",
    "# Show the plot\n",
    "plt.show()"
   ]
  }
 ],
 "metadata": {
  "kernelspec": {
   "display_name": "venv",
   "language": "python",
   "name": "python3"
  },
  "language_info": {
   "codemirror_mode": {
    "name": "ipython",
    "version": 3
   },
   "file_extension": ".py",
   "mimetype": "text/x-python",
   "name": "python",
   "nbconvert_exporter": "python",
   "pygments_lexer": "ipython3",
   "version": "3.9.13"
  }
 },
 "nbformat": 4,
 "nbformat_minor": 2
}
