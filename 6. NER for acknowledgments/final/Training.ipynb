{
 "cells": [
  {
   "cell_type": "code",
   "execution_count": null,
   "id": "2b0c633f-f166-442e-96ef-1bcd907ac46e",
   "metadata": {
    "tags": []
   },
   "outputs": [],
   "source": [
    "from flair.data import Corpus\n",
    "from flair.datasets import ColumnCorpus\n",
    "from flair.embeddings import TokenEmbeddings, WordEmbeddings, StackedEmbeddings, FlairEmbeddings, TransformerWordEmbeddings\n",
    "from flair.models import SequenceTagger\n",
    "from flair.trainers import ModelTrainer\n",
    "from flair.data import Sentence\n",
    "from flair.models import SequenceTagger"
   ]
  },
  {
   "cell_type": "markdown",
   "id": "135d06fd-3e9b-4e8b-9c2c-7cf44f4f4f43",
   "metadata": {},
   "source": [
    "As the training was carried out on several computers and virtual machines, this file does not contain the training outputs, but they are in the folder \"training_outputs\"."
   ]
  },
  {
   "cell_type": "markdown",
   "id": "5cb5eea3",
   "metadata": {},
   "source": [
    "## LOAD DATASETS"
   ]
  },
  {
   "cell_type": "code",
   "execution_count": null,
   "id": "f58d70bf-7eab-48d6-81ff-9d53f17eeea0",
   "metadata": {
    "tags": []
   },
   "outputs": [],
   "source": [
    "columns = {0: 'text', 1: 'ner'}\n",
    "\n",
    "\n",
    "label_name_map = {'FUND': 'Funding Agency',\n",
    "                  'IND': 'Person',\n",
    "                  'COR': 'Corporation',\n",
    "                  'GRNB': 'Grant Number',\n",
    "                  'UNI': 'University',\n",
    "                  'MISC': 'Miscellaneous'\n",
    "                  }\n",
    "label_type = 'ner'"
   ]
  },
  {
   "cell_type": "markdown",
   "id": "707755f4",
   "metadata": {},
   "source": [
    "### Corpus 1"
   ]
  },
  {
   "cell_type": "code",
   "execution_count": null,
   "id": "7a899b2d-fc15-4fe1-a4a9-af660f4937aa",
   "metadata": {
    "tags": []
   },
   "outputs": [],
   "source": [
    "data_folder = r'data/corpus1'\n",
    "corpus1: Corpus = ColumnCorpus(data_folder, columns,\n",
    "                              label_name_map=label_name_map,\n",
    "                              train_file='train.txt',\n",
    "                              test_file='test.txt',\n",
    "                              dev_file='dev.txt')\n",
    "label_dict1 = corpus1.make_label_dictionary(label_type=label_type)"
   ]
  },
  {
   "cell_type": "markdown",
   "id": "a99d0d2d",
   "metadata": {},
   "source": [
    "### Corpus2"
   ]
  },
  {
   "cell_type": "code",
   "execution_count": null,
   "id": "85c7f7de-08e2-4493-9822-c5d04254daa8",
   "metadata": {
    "tags": []
   },
   "outputs": [],
   "source": [
    "data_folder = r'data/corpus2'\n",
    "corpus2: Corpus = ColumnCorpus(data_folder, columns,\n",
    "                              label_name_map=label_name_map,\n",
    "                              train_file='train.txt',\n",
    "                              test_file='test.txt',\n",
    "                              dev_file='dev.txt')\n",
    "label_dict2 = corpus2.make_label_dictionary(label_type=label_type)"
   ]
  },
  {
   "cell_type": "markdown",
   "id": "3c9714f1",
   "metadata": {},
   "source": [
    "### Corpus3"
   ]
  },
  {
   "cell_type": "code",
   "execution_count": null,
   "id": "78c09b25-0c2e-4785-85d1-34048d853353",
   "metadata": {
    "tags": []
   },
   "outputs": [],
   "source": [
    "data_folder = r'data/corpus3'\n",
    "corpus3: Corpus = ColumnCorpus(data_folder, columns,\n",
    "                              label_name_map=label_name_map,\n",
    "                              train_file='train.txt',\n",
    "                              test_file='test.txt',\n",
    "                              dev_file='dev.txt')\n",
    "label_dict3 = corpus3.make_label_dictionary(label_type=label_type)"
   ]
  },
  {
   "cell_type": "markdown",
   "id": "7198281f",
   "metadata": {},
   "source": [
    "### Corpus4"
   ]
  },
  {
   "cell_type": "code",
   "execution_count": null,
   "id": "98de9dfd-288f-4903-b27c-32df5e1976b8",
   "metadata": {
    "tags": []
   },
   "outputs": [],
   "source": [
    "data_folder = r'data/corpus4'\n",
    "corpus4: Corpus = ColumnCorpus(data_folder, columns,\n",
    "                              label_name_map=label_name_map,\n",
    "                              train_file='train.txt',\n",
    "                              test_file='test.txt',\n",
    "                              dev_file='dev.txt')\n",
    "label_dict4 = corpus4.make_label_dictionary(label_type=label_type)"
   ]
  },
  {
   "cell_type": "markdown",
   "id": "2e6f4298",
   "metadata": {},
   "source": [
    "### Corpus1 with silver dataset"
   ]
  },
  {
   "cell_type": "code",
   "execution_count": null,
   "id": "60198b47-2cef-4469-bd98-4a126ad4c703",
   "metadata": {
    "tags": []
   },
   "outputs": [],
   "source": [
    "data_folder = r'data/corpus1_silver'\n",
    "corpus1_silver: Corpus = ColumnCorpus(data_folder, columns,\n",
    "                              label_name_map=label_name_map,\n",
    "                              train_file='train.txt',\n",
    "                              test_file='test.txt',\n",
    "                              dev_file='dev.txt')\n",
    "label_dict1_silver = corpus1_silver.make_label_dictionary(label_type=label_type)"
   ]
  },
  {
   "cell_type": "markdown",
   "id": "9ca4e15f",
   "metadata": {},
   "source": [
    "### Corpus4 with silver dataset"
   ]
  },
  {
   "cell_type": "code",
   "execution_count": null,
   "id": "fbe13104-122f-4060-9b57-eb6f1c47be7c",
   "metadata": {
    "tags": []
   },
   "outputs": [],
   "source": [
    "data_folder = r'data/corpus4_silver'\n",
    "corpus4_silver: Corpus = ColumnCorpus(data_folder, columns,\n",
    "                              label_name_map=label_name_map,\n",
    "                              train_file='train.txt',\n",
    "                              test_file='test.txt',\n",
    "                              dev_file='dev.txt')\n",
    "label_dict4_silver = corpus4_silver.make_label_dictionary(label_type=label_type)"
   ]
  },
  {
   "cell_type": "markdown",
   "id": "53fab584",
   "metadata": {},
   "source": [
    "# Flair model (for each corpus)"
   ]
  },
  {
   "cell_type": "code",
   "execution_count": null,
   "id": "9884bffa-f0d4-441e-8eab-18abe3490889",
   "metadata": {
    "tags": []
   },
   "outputs": [],
   "source": [
    "stacked_embeddings = StackedEmbeddings([\n",
    "                                        WordEmbeddings('glove'),\n",
    "                                        FlairEmbeddings('news-forward'),\n",
    "                                        FlairEmbeddings('news-backward'),\n",
    "                                       ])\n",
    "model = SequenceTagger(hidden_size=256,\n",
    "                        embeddings=stacked_embeddings,\n",
    "                        tag_dictionary=label_dict1,\n",
    "                        tag_type=label_type)\n",
    "\n",
    "trainer = ModelTrainer(model, corpus1)\n",
    "\n",
    "trainer.train('resources/taggers/flair_1',\n",
    "              learning_rate=0.1,\n",
    "              mini_batch_size=32,\n",
    "              mini_batch_chunk_size=4,\n",
    "              max_epochs=100)"
   ]
  },
  {
   "cell_type": "code",
   "execution_count": null,
   "id": "2ebd2e02-5c47-486b-ad45-0d4f923a50c9",
   "metadata": {
    "tags": []
   },
   "outputs": [],
   "source": [
    "stacked_embeddings = StackedEmbeddings([\n",
    "                                        WordEmbeddings('glove'),\n",
    "                                        FlairEmbeddings('news-forward'),\n",
    "                                        FlairEmbeddings('news-backward'),\n",
    "                                       ])\n",
    "model = SequenceTagger(hidden_size=256,\n",
    "                        embeddings=stacked_embeddings,\n",
    "                        tag_dictionary=label_dict2,\n",
    "                        tag_type=label_type)\n",
    "\n",
    "trainer = ModelTrainer(model, corpus2)\n",
    "\n",
    "trainer.train('resources/taggers/flair_2',\n",
    "              learning_rate=0.1,\n",
    "              mini_batch_size=32,\n",
    "              mini_batch_chunk_size=4,\n",
    "              max_epochs=100)"
   ]
  },
  {
   "cell_type": "code",
   "execution_count": null,
   "id": "c5ff3368-77fa-4f55-bc01-8bf656d5dcad",
   "metadata": {
    "tags": []
   },
   "outputs": [],
   "source": [
    "stacked_embeddings = StackedEmbeddings([\n",
    "                                        WordEmbeddings('glove'),\n",
    "                                        FlairEmbeddings('news-forward'),\n",
    "                                        FlairEmbeddings('news-backward'),\n",
    "                                       ])\n",
    "model = SequenceTagger(hidden_size=256,\n",
    "                        embeddings=stacked_embeddings,\n",
    "                        tag_dictionary=label_dict3,\n",
    "                        tag_type=label_type)\n",
    "\n",
    "trainer = ModelTrainer(model, corpus3)\n",
    "\n",
    "trainer.train('resources/taggers/flair_3',\n",
    "              learning_rate=0.1,\n",
    "              mini_batch_size=32,\n",
    "              mini_batch_chunk_size=4,\n",
    "              max_epochs=100)"
   ]
  },
  {
   "cell_type": "code",
   "execution_count": null,
   "id": "79b8fa44-4d79-489e-9fe8-8acec51d93cc",
   "metadata": {
    "tags": []
   },
   "outputs": [],
   "source": [
    "stacked_embeddings = StackedEmbeddings([\n",
    "                                        WordEmbeddings('glove'),\n",
    "                                        FlairEmbeddings('news-forward'),\n",
    "                                        FlairEmbeddings('news-backward'),\n",
    "                                       ])\n",
    "model = SequenceTagger(hidden_size=256,\n",
    "                        embeddings=stacked_embeddings,\n",
    "                        tag_dictionary=label_dict4,\n",
    "                        tag_type=label_type)\n",
    "\n",
    "trainer = ModelTrainer(model, corpus4)\n",
    "\n",
    "trainer.train('resources/taggers/flair_4',\n",
    "              learning_rate=0.1,\n",
    "              mini_batch_size=32,\n",
    "              mini_batch_chunk_size=4,\n",
    "              max_epochs=100)"
   ]
  },
  {
   "cell_type": "markdown",
   "id": "41c024ba",
   "metadata": {},
   "source": [
    "# Flair model (corpus 1 with silver dataset)"
   ]
  },
  {
   "cell_type": "code",
   "execution_count": null,
   "id": "5bb767ca-7e52-40b8-b2f7-54f37bd1ed2c",
   "metadata": {
    "tags": []
   },
   "outputs": [],
   "source": [
    "stacked_embeddings = StackedEmbeddings([\n",
    "                                        WordEmbeddings('glove'),\n",
    "                                        FlairEmbeddings('news-forward'),\n",
    "                                        FlairEmbeddings('news-backward'),\n",
    "                                       ])\n",
    "model = SequenceTagger(hidden_size=256,\n",
    "                        embeddings=stacked_embeddings,\n",
    "                        tag_dictionary=label_dict1_silver,\n",
    "                        tag_type=label_type)\n",
    "\n",
    "trainer = ModelTrainer(model, corpus1_silver)\n",
    "\n",
    "trainer.train('resources/taggers/flair_1_silver',\n",
    "              learning_rate=0.1,\n",
    "              mini_batch_size=32,\n",
    "              mini_batch_chunk_size=4,\n",
    "              max_epochs=100)"
   ]
  },
  {
   "cell_type": "markdown",
   "id": "c17905c6",
   "metadata": {},
   "source": [
    "# BERT model (corpus4)"
   ]
  },
  {
   "cell_type": "code",
   "execution_count": null,
   "id": "d5bf1fce-9fbd-44cd-ae19-b817ad24583d",
   "metadata": {
    "tags": []
   },
   "outputs": [],
   "source": [
    "embeddings = TransformerWordEmbeddings(\n",
    "    model='bert-base-uncased',\n",
    "    layers=\"-1\",\n",
    "    subtoken_pooling=\"first\",\n",
    "    fine_tune=True,\n",
    "    use_context=True,\n",
    ")\n",
    "\n",
    "model = SequenceTagger(\n",
    "    hidden_size=256,\n",
    "    embeddings=embeddings,\n",
    "    tag_dictionary=label_dict4,\n",
    "    tag_type='ner',\n",
    "    use_crf=False,\n",
    "    use_rnn=False,\n",
    "    reproject_embeddings=False,\n",
    ")\n",
    "\n",
    "trainer = ModelTrainer(model, corpus4)\n",
    "\n",
    "trainer.train('resources/taggers/bert',\n",
    "              learning_rate=0.01,\n",
    "              mini_batch_size=4,\n",
    "              mini_batch_chunk_size=2,\n",
    "              max_epochs=20,\n",
    "              embeddings_storage_mode='none',\n",
    "              weight_decay=0.,\n",
    "              )"
   ]
  },
  {
   "cell_type": "markdown",
   "id": "b2a90cad",
   "metadata": {},
   "source": [
    "## XLnet - base (corpus4)"
   ]
  },
  {
   "cell_type": "code",
   "execution_count": null,
   "id": "9fca013d-5ca3-4b52-88b6-371be803b761",
   "metadata": {
    "tags": []
   },
   "outputs": [],
   "source": [
    "embeddings = TransformerWordEmbeddings(\n",
    "    model='xlnet-base-cased',\n",
    "    layers=\"-1\",\n",
    "    subtoken_pooling=\"first\",\n",
    "    fine_tune=True,\n",
    "    use_context=True,\n",
    ")\n",
    "\n",
    "model = SequenceTagger(\n",
    "    hidden_size=256,\n",
    "    embeddings=embeddings,\n",
    "    tag_dictionary=label_dict4,\n",
    "    tag_type='ner',\n",
    "    use_crf=False,\n",
    "    use_rnn=False,\n",
    "    reproject_embeddings=False,\n",
    ")\n",
    "\n",
    "trainer = ModelTrainer(model, corpus4)\n",
    "\n",
    "trainer.train('resources/taggers/xlnet-base',\n",
    "              learning_rate=0.01,\n",
    "              mini_batch_size=4,\n",
    "              mini_batch_chunk_size=2,\n",
    "              max_epochs=20,\n",
    "              embeddings_storage_mode='none',\n",
    "              weight_decay=0.,\n",
    "              )"
   ]
  },
  {
   "cell_type": "markdown",
   "id": "c7d451c4",
   "metadata": {},
   "source": [
    "# XLnet - large (corpus4)"
   ]
  },
  {
   "cell_type": "code",
   "execution_count": null,
   "id": "7c2699f6-f21a-428b-a5f4-7b4a746e6a26",
   "metadata": {
    "tags": []
   },
   "outputs": [],
   "source": [
    "embeddings = TransformerWordEmbeddings(\n",
    "    model='xlnet-large-cased',\n",
    "    layers=\"-1\",\n",
    "    subtoken_pooling=\"first\",\n",
    "    fine_tune=True,\n",
    "    use_context=True,\n",
    ")\n",
    "\n",
    "model = SequenceTagger(\n",
    "    hidden_size=256,\n",
    "    embeddings=embeddings,\n",
    "    tag_dictionary=label_dict4,\n",
    "    tag_type='ner',\n",
    "    use_crf=False,\n",
    "    use_rnn=False,\n",
    "    reproject_embeddings=False,\n",
    ")\n",
    "\n",
    "trainer = ModelTrainer(model, corpus4)\n",
    "\n",
    "trainer.train('resources/taggers/xlnet-large',\n",
    "              learning_rate=0.01,\n",
    "              mini_batch_size=4,\n",
    "              mini_batch_chunk_size=2,\n",
    "              max_epochs=20,\n",
    "              embeddings_storage_mode='none',\n",
    "              weight_decay=0.,\n",
    "              )"
   ]
  },
  {
   "cell_type": "markdown",
   "id": "5a0b030a",
   "metadata": {},
   "source": [
    "# XLnet - large (corpus4 with silver)"
   ]
  },
  {
   "cell_type": "code",
   "execution_count": null,
   "id": "a29c497f-0534-4939-92ef-c13f4ee0370b",
   "metadata": {
    "tags": []
   },
   "outputs": [],
   "source": [
    "embeddings = TransformerWordEmbeddings(\n",
    "    model='xlnet-large-cased',\n",
    "    layers=\"-1\",\n",
    "    subtoken_pooling=\"first\",\n",
    "    fine_tune=True,\n",
    "    use_context=True,\n",
    ")\n",
    "\n",
    "model = SequenceTagger(\n",
    "    hidden_size=256,\n",
    "    embeddings=embeddings,\n",
    "    tag_dictionary=label_dict4_silver,\n",
    "    tag_type='ner',\n",
    "    use_crf=False,\n",
    "    use_rnn=False,\n",
    "    reproject_embeddings=False,\n",
    ")\n",
    "\n",
    "trainer = ModelTrainer(model, corpus4_silver)\n",
    "\n",
    "\n",
    "trainer.train('resources/taggers/xlnet-large-silver',\n",
    "              learning_rate=0.01,\n",
    "              mini_batch_size=4,\n",
    "              mini_batch_chunk_size=2,\n",
    "              max_epochs=20,\n",
    "              embeddings_storage_mode='none',\n",
    "              weight_decay=0.,\n",
    "              )"
   ]
  }
 ],
 "metadata": {
  "environment": {
   "kernel": "conda-root-py",
   "name": "workbench-notebooks.m113",
   "type": "gcloud",
   "uri": "gcr.io/deeplearning-platform-release/workbench-notebooks:m113"
  },
  "kernelspec": {
   "display_name": "Python 3 (ipykernel) (Local)",
   "language": "python",
   "name": "conda-root-py"
  },
  "language_info": {
   "codemirror_mode": {
    "name": "ipython",
    "version": 3
   },
   "file_extension": ".py",
   "mimetype": "text/x-python",
   "name": "python",
   "nbconvert_exporter": "python",
   "pygments_lexer": "ipython3",
   "version": "3.10.13"
  }
 },
 "nbformat": 4,
 "nbformat_minor": 5
}
