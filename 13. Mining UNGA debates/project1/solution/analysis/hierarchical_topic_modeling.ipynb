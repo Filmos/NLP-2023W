{
 "cells": [
  {
   "cell_type": "code",
   "execution_count": 10,
   "metadata": {},
   "outputs": [],
   "source": [
    "from bertopic import BERTopic\n",
    "import os\n",
    "from scipy.cluster import hierarchy as sch\n",
    "\n",
    "# add .. to the path so we can import from the parent directory\n",
    "import sys\n",
    "sys.path.append(\"..\")\n",
    "\n",
    "from modeling.bertopic_models import get_texts, EMBEDDING_MODELS\n",
    "\n",
    "\n",
    "# set up the config variables\n",
    "CORPUS_DIR = os.path.join(\"../corpora/UN General Debate Corpus/TXT\")\n",
    "MODELS_DIR = \"../models\"\n",
    "\n",
    "# load in the corpus\n",
    "all_texts = get_texts(CORPUS_DIR)\n",
    "texts = [text[0] for text in all_texts]"
   ]
  },
  {
   "cell_type": "code",
   "execution_count": 30,
   "metadata": {},
   "outputs": [
    {
     "name": "stderr",
     "output_type": "stream",
     "text": [
      "2023-12-11 12:45:22,150 - BERTopic - WARNING: You are loading a BERTopic model without explicitly defining an embedding model.If you want to also load in an embedding model, make sure to useBERTopic.load(my_model, embedding_model=my_embedding_model).\n",
      "2023-12-11 12:45:22,220 - BERTopic - WARNING: You are loading a BERTopic model without explicitly defining an embedding model.If you want to also load in an embedding model, make sure to useBERTopic.load(my_model, embedding_model=my_embedding_model).\n",
      "2023-12-11 12:45:22,283 - BERTopic - WARNING: You are loading a BERTopic model without explicitly defining an embedding model.If you want to also load in an embedding model, make sure to useBERTopic.load(my_model, embedding_model=my_embedding_model).\n"
     ]
    },
    {
     "name": "stdout",
     "output_type": "stream",
     "text": [
      "Loading model all-MiniLM-L6-v2\n",
      "Loading model all-mpnet-base-v2\n",
      "Loading model distilbert\n",
      "Loading model all-MiniLM-L12-v2\n"
     ]
    },
    {
     "name": "stderr",
     "output_type": "stream",
     "text": [
      "2023-12-11 12:45:22,352 - BERTopic - WARNING: You are loading a BERTopic model without explicitly defining an embedding model.If you want to also load in an embedding model, make sure to useBERTopic.load(my_model, embedding_model=my_embedding_model).\n",
      "2023-12-11 12:45:22,417 - BERTopic - WARNING: You are loading a BERTopic model without explicitly defining an embedding model.If you want to also load in an embedding model, make sure to useBERTopic.load(my_model, embedding_model=my_embedding_model).\n"
     ]
    },
    {
     "name": "stdout",
     "output_type": "stream",
     "text": [
      "Loading model roberta\n"
     ]
    }
   ],
   "source": [
    "# load in the pretrained models\n",
    "TOPIC_MODELS = {}\n",
    "\n",
    "for name, embedding_model in EMBEDDING_MODELS.items():\n",
    "    saved_model_path = os.path.join(MODELS_DIR, name)\n",
    "    if not os.path.exists(saved_model_path):\n",
    "        print(f\"Skipping model '{name}' because it does not exist\")\n",
    "        continue\n",
    "    else:\n",
    "        print(f\"Loading model {name}\")\n",
    "    TOPIC_MODELS[name] = BERTopic.load(saved_model_path)"
   ]
  },
  {
   "cell_type": "code",
   "execution_count": 31,
   "metadata": {},
   "outputs": [],
   "source": [
    "t = TOPIC_MODELS[\"all-mpnet-base-v2\"]"
   ]
  },
  {
   "cell_type": "code",
   "execution_count": 28,
   "metadata": {},
   "outputs": [
    {
     "name": "stderr",
     "output_type": "stream",
     "text": [
      "100%|██████████| 201/201 [00:06<00:00, 32.83it/s]\n",
      "100%|██████████| 201/201 [00:04<00:00, 44.25it/s]\n",
      "100%|██████████| 201/201 [00:04<00:00, 43.09it/s]\n",
      "100%|██████████| 201/201 [00:04<00:00, 42.29it/s]\n"
     ]
    }
   ],
   "source": [
    "# get hierarchical topics for different linkage methods\n",
    "\n",
    "linkages = [\"complete\", \"average\", \"centroid\", \"median\"]\n",
    "linkage_functions = [lambda x: sch.linkage(x, method=linkage, optimal_ordering=True) for linkage in linkages]\n",
    "hierarchical_topics = {linkage: t.hierarchical_topics(texts, linkage_function=linkage_function) for linkage, linkage_function in zip(linkages, linkage_functions)}\n"
   ]
  },
  {
   "cell_type": "code",
   "execution_count": 33,
   "metadata": {},
   "outputs": [
    {
     "data": {
      "application/vnd.plotly.v1+json": {
       "config": {
        "plotlyServerURL": "https://plot.ly"
       },
       "data": [
        {
         "hoverinfo": "text",
         "marker": {
          "color": "rgb(61,153,112)"
         },
         "mode": "lines",
         "text": [
          "iraq_iraqi_kuwait_palestine_sovereignty",
          "",
          "",
          "iraq_baghdad_iraqi_iraqis_terrorist"
         ],
         "type": "scatter",
         "x": [
          5,
          5,
          15,
          15
         ],
         "xaxis": "x",
         "y": [
          0,
          0.26485020691464867,
          0.26485020691464867,
          0
         ],
         "yaxis": "y"
        },
        {
         "hoverinfo": "text",
         "marker": {
          "color": "rgb(61,153,112)"
         },
         "mode": "lines",
         "text": [
          "yemen_yemenis_yemeni_houthi_saudi",
          "",
          "",
          "yemen_ethiopia_palestine_nations_palestinian"
         ],
         "type": "scatter",
         "x": [
          25,
          25,
          35,
          35
         ],
         "xaxis": "x",
         "y": [
          0,
          0.2311399663555781,
          0.2311399663555781,
          0
         ],
         "yaxis": "y"
        },
        {
         "hoverinfo": "text",
         "marker": {
          "color": "rgb(61,153,112)"
         },
         "mode": "lines",
         "text": [
          "syria_syrian_israel_nations_arab",
          "",
          "",
          "palestine_palestinians_palestinian_gaza_israel"
         ],
         "type": "scatter",
         "x": [
          65,
          65,
          75,
          75
         ],
         "xaxis": "x",
         "y": [
          0,
          0.17784697161677876,
          0.17784697161677876,
          0
         ],
         "yaxis": "y"
        },
        {
         "hoverinfo": "text",
         "marker": {
          "color": "rgb(61,153,112)"
         },
         "mode": "lines",
         "text": [
          "the_to_and_of_in",
          "",
          "",
          "kuwait_kuwaiti_humanitarian_iraq_palestine"
         ],
         "type": "scatter",
         "x": [
          70,
          70,
          85,
          85
         ],
         "xaxis": "x",
         "y": [
          0.17784697161677876,
          0.30031456242754373,
          0.30031456242754373,
          0
         ],
         "yaxis": "y"
        },
        {
         "hoverinfo": "text",
         "marker": {
          "color": "rgb(61,153,112)"
         },
         "mode": "lines",
         "text": [
          "libya_libyan_libyans_algeria_jamahiriya",
          "",
          "",
          "kuwait_kuwaiti_humanitarian_iraq_palestine"
         ],
         "type": "scatter",
         "x": [
          55,
          55,
          77.5,
          77.5
         ],
         "xaxis": "x",
         "y": [
          0,
          0.33531286590544457,
          0.33531286590544457,
          0.30031456242754373
         ],
         "yaxis": "y"
        },
        {
         "hoverinfo": "text",
         "marker": {
          "color": "rgb(61,153,112)"
         },
         "mode": "lines",
         "text": [
          "libya_libyan_libyans_algeria_jamahiriya",
          "",
          "",
          "amman_palestine_jordanian_palestinian_jordan"
         ],
         "type": "scatter",
         "x": [
          66.25,
          66.25,
          95,
          95
         ],
         "xaxis": "x",
         "y": [
          0.33531286590544457,
          0.37551536142122277,
          0.37551536142122277,
          0
         ],
         "yaxis": "y"
        },
        {
         "hoverinfo": "text",
         "marker": {
          "color": "rgb(61,153,112)"
         },
         "mode": "lines",
         "text": [
          "egypt_syria_egyptian_nations_egyptians",
          "",
          "",
          "amman_palestine_jordanian_palestinian_jordan"
         ],
         "type": "scatter",
         "x": [
          45,
          45,
          80.625,
          80.625
         ],
         "xaxis": "x",
         "y": [
          0,
          0.38781248569671267,
          0.38781248569671267,
          0.37551536142122277
         ],
         "yaxis": "y"
        },
        {
         "hoverinfo": "text",
         "marker": {
          "color": "rgb(61,153,112)"
         },
         "mode": "lines",
         "text": [
          "peaceful_uae_iraq_sultanate_yemen",
          "",
          "",
          "bahrain_kuwait_yemen_saudi_peaceful"
         ],
         "type": "scatter",
         "x": [
          105,
          105,
          115,
          115
         ],
         "xaxis": "x",
         "y": [
          0,
          0.2410577419758526,
          0.2410577419758526,
          0
         ],
         "yaxis": "y"
        },
        {
         "hoverinfo": "text",
         "marker": {
          "color": "rgb(61,153,112)"
         },
         "mode": "lines",
         "text": [
          "peaceful_uae_iraq_sultanate_yemen",
          "",
          "",
          "and_the_to_of_in"
         ],
         "type": "scatter",
         "x": [
          62.8125,
          62.8125,
          110,
          110
         ],
         "xaxis": "x",
         "y": [
          0.38781248569671267,
          0.4020632958727665,
          0.4020632958727665,
          0.2410577419758526
         ],
         "yaxis": "y"
        },
        {
         "hoverinfo": "text",
         "marker": {
          "color": "rgb(61,153,112)"
         },
         "mode": "lines",
         "text": [
          "peaceful_uae_iraq_sultanate_yemen",
          "",
          "",
          "lebanon_beirut_palestine_lebanese_palestinians"
         ],
         "type": "scatter",
         "x": [
          86.40625,
          86.40625,
          125,
          125
         ],
         "xaxis": "x",
         "y": [
          0.4020632958727665,
          0.4402573120068838,
          0.4402573120068838,
          0
         ],
         "yaxis": "y"
        },
        {
         "hoverinfo": "text",
         "marker": {
          "color": "rgb(61,153,112)"
         },
         "mode": "lines",
         "text": [
          "the_to_and_of_that",
          "",
          "",
          "lebanon_beirut_palestine_lebanese_palestinians"
         ],
         "type": "scatter",
         "x": [
          30,
          30,
          105.703125,
          105.703125
         ],
         "xaxis": "x",
         "y": [
          0.2311399663555781,
          0.4551330374831629,
          0.4551330374831629,
          0.4402573120068838
         ],
         "yaxis": "y"
        },
        {
         "hoverinfo": "text",
         "marker": {
          "color": "rgb(61,153,112)"
         },
         "mode": "lines",
         "text": [
          "the_of_and_in_to",
          "",
          "",
          "lebanon_beirut_palestine_lebanese_palestinians"
         ],
         "type": "scatter",
         "x": [
          10,
          10,
          67.8515625,
          67.8515625
         ],
         "xaxis": "x",
         "y": [
          0.26485020691464867,
          0.6257801584179891,
          0.6257801584179891,
          0.4551330374831629
         ],
         "yaxis": "y"
        },
        {
         "hoverinfo": "text",
         "marker": {
          "color": "rgb(255,65,54)"
         },
         "mode": "lines",
         "text": [
          "gabon_gabonese_nations_africa_president",
          "",
          "",
          "togo_togolese_nations_democracy_africa"
         ],
         "type": "scatter",
         "x": [
          175,
          175,
          185,
          185
         ],
         "xaxis": "x",
         "y": [
          0,
          0.2770532496772422,
          0.2770532496772422,
          0
         ],
         "yaxis": "y"
        },
        {
         "hoverinfo": "text",
         "marker": {
          "color": "rgb(255,65,54)"
         },
         "mode": "lines",
         "text": [
          "congo_congolese_angola_disarmament_africa",
          "",
          "",
          "congo_africa_nations_president_countries"
         ],
         "type": "scatter",
         "x": [
          205,
          205,
          215,
          215
         ],
         "xaxis": "x",
         "y": [
          0,
          0.19358569762726974,
          0.19358569762726974,
          0
         ],
         "yaxis": "y"
        },
        {
         "hoverinfo": "text",
         "marker": {
          "color": "rgb(255,65,54)"
         },
         "mode": "lines",
         "text": [
          "guinea_guinean_nations_africa_colonialism",
          "",
          "",
          "congo_africa_nations_president_countries"
         ],
         "type": "scatter",
         "x": [
          195,
          195,
          210,
          210
         ],
         "xaxis": "x",
         "y": [
          0,
          0.22455431525490818,
          0.22455431525490818,
          0.19358569762726974
         ],
         "yaxis": "y"
        },
        {
         "hoverinfo": "text",
         "marker": {
          "color": "rgb(255,65,54)"
         },
         "mode": "lines",
         "text": [
          "guinea_guinean_nations_africa_colonialism",
          "",
          "",
          "congo_africa_nations_president_countries"
         ],
         "type": "scatter",
         "x": [
          180,
          180,
          202.5,
          202.5
         ],
         "xaxis": "x",
         "y": [
          0.2770532496772422,
          0.2796775326884274,
          0.2796775326884274,
          0.22455431525490818
         ],
         "yaxis": "y"
        },
        {
         "hoverinfo": "text",
         "marker": {
          "color": "rgb(255,65,54)"
         },
         "mode": "lines",
         "text": [
          "guinea_guinean_nations_africa_colonialism",
          "",
          "",
          "rwanda_rwandan_genocide_congo_kabila"
         ],
         "type": "scatter",
         "x": [
          191.25,
          191.25,
          225,
          225
         ],
         "xaxis": "x",
         "y": [
          0.2796775326884274,
          0.30517396512499606,
          0.30517396512499606,
          0
         ],
         "yaxis": "y"
        },
        {
         "hoverinfo": "text",
         "marker": {
          "color": "rgb(255,65,54)"
         },
         "mode": "lines",
         "text": [
          "benin_nations_africa_imperialism_countries",
          "",
          "",
          "rwanda_rwandan_genocide_congo_kabila"
         ],
         "type": "scatter",
         "x": [
          165,
          165,
          208.125,
          208.125
         ],
         "xaxis": "x",
         "y": [
          0,
          0.34439059214731055,
          0.34439059214731055,
          0.30517396512499606
         ],
         "yaxis": "y"
        },
        {
         "hoverinfo": "text",
         "marker": {
          "color": "rgb(255,65,54)"
         },
         "mode": "lines",
         "text": [
          "mauritania_mauritanian_maghreb_nations_africa",
          "",
          "",
          "morocco_maghreb_algeria_nations_algerian"
         ],
         "type": "scatter",
         "x": [
          235,
          235,
          245,
          245
         ],
         "xaxis": "x",
         "y": [
          0,
          0.3307222903526468,
          0.3307222903526468,
          0
         ],
         "yaxis": "y"
        },
        {
         "hoverinfo": "text",
         "marker": {
          "color": "rgb(255,65,54)"
         },
         "mode": "lines",
         "text": [
          "mauritania_mauritanian_maghreb_nations_africa",
          "",
          "",
          "morocco_maghreb_algeria_nations_algerian"
         ],
         "type": "scatter",
         "x": [
          186.5625,
          186.5625,
          240,
          240
         ],
         "xaxis": "x",
         "y": [
          0.34439059214731055,
          0.3969286520987508,
          0.3969286520987508,
          0.3307222903526468
         ],
         "yaxis": "y"
        },
        {
         "hoverinfo": "text",
         "marker": {
          "color": "rgb(255,65,54)"
         },
         "mode": "lines",
         "text": [
          "angola_angolan_africa_embargo_nations",
          "",
          "",
          "morocco_maghreb_algeria_nations_algerian"
         ],
         "type": "scatter",
         "x": [
          155,
          155,
          213.28125,
          213.28125
         ],
         "xaxis": "x",
         "y": [
          0,
          0.40915378065727726,
          0.40915378065727726,
          0.3969286520987508
         ],
         "yaxis": "y"
        },
        {
         "hoverinfo": "text",
         "marker": {
          "color": "rgb(255,65,54)"
         },
         "mode": "lines",
         "text": [
          "burkina_faso_gabon_mali_senegal",
          "",
          "",
          "mali_malian_sahel_africa_nations"
         ],
         "type": "scatter",
         "x": [
          255,
          255,
          265,
          265
         ],
         "xaxis": "x",
         "y": [
          0,
          0.38010422771922414,
          0.38010422771922414,
          0
         ],
         "yaxis": "y"
        },
        {
         "hoverinfo": "text",
         "marker": {
          "color": "rgb(255,65,54)"
         },
         "mode": "lines",
         "text": [
          "burkina_faso_gabon_mali_senegal",
          "",
          "",
          "mali_malian_sahel_africa_nations"
         ],
         "type": "scatter",
         "x": [
          184.140625,
          184.140625,
          260,
          260
         ],
         "xaxis": "x",
         "y": [
          0.40915378065727726,
          0.41723249425962394,
          0.41723249425962394,
          0.38010422771922414
         ],
         "yaxis": "y"
        },
        {
         "hoverinfo": "text",
         "marker": {
          "color": "rgb(255,65,54)"
         },
         "mode": "lines",
         "text": [
          "burundi_rwanda_burundian_africa_refugees",
          "",
          "",
          "mali_malian_sahel_africa_nations"
         ],
         "type": "scatter",
         "x": [
          145,
          145,
          222.0703125,
          222.0703125
         ],
         "xaxis": "x",
         "y": [
          0,
          0.4240833616053937,
          0.4240833616053937,
          0.41723249425962394
         ],
         "yaxis": "y"
        },
        {
         "hoverinfo": "text",
         "marker": {
          "color": "rgb(255,65,54)"
         },
         "mode": "lines",
         "text": [
          "burundi_rwanda_burundian_africa_refugees",
          "",
          "",
          "libya_chadian_libyan_nations_chad"
         ],
         "type": "scatter",
         "x": [
          183.53515625,
          183.53515625,
          275,
          275
         ],
         "xaxis": "x",
         "y": [
          0.4240833616053937,
          0.47107622492540085,
          0.47107622492540085,
          0
         ],
         "yaxis": "y"
        },
        {
         "hoverinfo": "text",
         "marker": {
          "color": "rgb(255,65,54)"
         },
         "mode": "lines",
         "text": [
          "guinea_equatorial_nguema_nations_africa",
          "",
          "",
          "libya_chadian_libyan_nations_chad"
         ],
         "type": "scatter",
         "x": [
          135,
          135,
          229.267578125,
          229.267578125
         ],
         "xaxis": "x",
         "y": [
          0,
          0.5227572594096725,
          0.5227572594096725,
          0.47107622492540085
         ],
         "yaxis": "y"
        },
        {
         "hoverinfo": "text",
         "marker": {
          "color": "rgb(255,65,54)"
         },
         "mode": "lines",
         "text": [
          "brunei_namibia_nations_africa_countries",
          "",
          "",
          "disarmament_peaceful_peace_nations_afghanistan"
         ],
         "type": "scatter",
         "x": [
          335,
          335,
          345,
          345
         ],
         "xaxis": "x",
         "y": [
          0,
          0.08259255179755898,
          0.08259255179755898,
          0
         ],
         "yaxis": "y"
        },
        {
         "hoverinfo": "text",
         "marker": {
          "color": "rgb(255,65,54)"
         },
         "mode": "lines",
         "text": [
          "nations_mexico_countries_peace_war",
          "",
          "",
          "disarmament_peaceful_peace_nations_afghanistan"
         ],
         "type": "scatter",
         "x": [
          325,
          325,
          340,
          340
         ],
         "xaxis": "x",
         "y": [
          0,
          0.09369359563229585,
          0.09369359563229585,
          0.08259255179755898
         ],
         "yaxis": "y"
        },
        {
         "hoverinfo": "text",
         "marker": {
          "color": "rgb(255,65,54)"
         },
         "mode": "lines",
         "text": [
          "nations_mexico_countries_peace_war",
          "",
          "",
          "peaceful_nations_peace_negotiations_countries"
         ],
         "type": "scatter",
         "x": [
          332.5,
          332.5,
          355,
          355
         ],
         "xaxis": "x",
         "y": [
          0.09369359563229585,
          0.12027554397905893,
          0.12027554397905893,
          0
         ],
         "yaxis": "y"
        },
        {
         "hoverinfo": "text",
         "marker": {
          "color": "rgb(255,65,54)"
         },
         "mode": "lines",
         "text": [
          "bangladesh_nations_namibia_countries_peace",
          "",
          "",
          "peaceful_nations_peace_negotiations_countries"
         ],
         "type": "scatter",
         "x": [
          315,
          315,
          343.75,
          343.75
         ],
         "xaxis": "x",
         "y": [
          0,
          0.17437697122270576,
          0.17437697122270576,
          0.12027554397905893
         ],
         "yaxis": "y"
        },
        {
         "hoverinfo": "text",
         "marker": {
          "color": "rgb(255,65,54)"
         },
         "mode": "lines",
         "text": [
          "yugoslavia_disarmament_nations_countries_detente",
          "",
          "",
          "algeria_nations_africa_countries_general"
         ],
         "type": "scatter",
         "x": [
          385,
          385,
          395,
          395
         ],
         "xaxis": "x",
         "y": [
          0,
          0.06090842896300397,
          0.06090842896300397,
          0
         ],
         "yaxis": "y"
        },
        {
         "hoverinfo": "text",
         "marker": {
          "color": "rgb(255,65,54)"
         },
         "mode": "lines",
         "text": [
          "the_of_to_in_and",
          "",
          "",
          "zimbabwe_africa_disarmament_nations_countries"
         ],
         "type": "scatter",
         "x": [
          390,
          390,
          405,
          405
         ],
         "xaxis": "x",
         "y": [
          0.06090842896300397,
          0.0808695472313066,
          0.0808695472313066,
          0
         ],
         "yaxis": "y"
        },
        {
         "hoverinfo": "text",
         "marker": {
          "color": "rgb(255,65,54)"
         },
         "mode": "lines",
         "text": [
          "seychelles_zimbabwe_nations_namibia_regime",
          "",
          "",
          "the_of_to_in_and"
         ],
         "type": "scatter",
         "x": [
          375,
          375,
          397.5,
          397.5
         ],
         "xaxis": "x",
         "y": [
          0,
          0.09383870935730088,
          0.09383870935730088,
          0.0808695472313066
         ],
         "yaxis": "y"
        },
        {
         "hoverinfo": "text",
         "marker": {
          "color": "rgb(255,65,54)"
         },
         "mode": "lines",
         "text": [
          "zimbabwe_nations_namibia_africa_regime",
          "",
          "",
          "vanuatu_nations_namibia_secretarygeneral_countries"
         ],
         "type": "scatter",
         "x": [
          415,
          415,
          425,
          425
         ],
         "xaxis": "x",
         "y": [
          0,
          0.0697702041393704,
          0.0697702041393704,
          0
         ],
         "yaxis": "y"
        },
        {
         "hoverinfo": "text",
         "marker": {
          "color": "rgb(255,65,54)"
         },
         "mode": "lines",
         "text": [
          "zimbabwe_nations_namibia_africa_regime",
          "",
          "",
          "the_of_to_in_and"
         ],
         "type": "scatter",
         "x": [
          386.25,
          386.25,
          420,
          420
         ],
         "xaxis": "x",
         "y": [
          0.09383870935730088,
          0.12817363916934466,
          0.12817363916934466,
          0.0697702041393704
         ],
         "yaxis": "y"
        },
        {
         "hoverinfo": "text",
         "marker": {
          "color": "rgb(255,65,54)"
         },
         "mode": "lines",
         "text": [
          "peaceful_disarmament_nations_countries_peace",
          "",
          "",
          "the_of_to_in_and"
         ],
         "type": "scatter",
         "x": [
          365,
          365,
          403.125,
          403.125
         ],
         "xaxis": "x",
         "y": [
          0,
          0.14724919181675866,
          0.14724919181675866,
          0.12817363916934466
         ],
         "yaxis": "y"
        },
        {
         "hoverinfo": "text",
         "marker": {
          "color": "rgb(255,65,54)"
         },
         "mode": "lines",
         "text": [
          "peaceful_disarmament_nations_countries_peace",
          "",
          "",
          "tunisia_tunisian_maghreb_nations_president"
         ],
         "type": "scatter",
         "x": [
          384.0625,
          384.0625,
          435,
          435
         ],
         "xaxis": "x",
         "y": [
          0.14724919181675866,
          0.20274878999974316,
          0.20274878999974316,
          0
         ],
         "yaxis": "y"
        },
        {
         "hoverinfo": "text",
         "marker": {
          "color": "rgb(255,65,54)"
         },
         "mode": "lines",
         "text": [
          "peaceful_disarmament_nations_countries_peace",
          "",
          "",
          "tunisia_tunisian_maghreb_nations_president"
         ],
         "type": "scatter",
         "x": [
          329.375,
          329.375,
          409.53125,
          409.53125
         ],
         "xaxis": "x",
         "y": [
          0.17437697122270576,
          0.21216358279824776,
          0.21216358279824776,
          0.20274878999974316
         ],
         "yaxis": "y"
        },
        {
         "hoverinfo": "text",
         "marker": {
          "color": "rgb(255,65,54)"
         },
         "mode": "lines",
         "text": [
          "mozambique_mozambican_mozambicans_angola_zimbabwe",
          "",
          "",
          "tunisia_tunisian_maghreb_nations_president"
         ],
         "type": "scatter",
         "x": [
          305,
          305,
          369.453125,
          369.453125
         ],
         "xaxis": "x",
         "y": [
          0,
          0.27455364245783054,
          0.27455364245783054,
          0.21216358279824776
         ],
         "yaxis": "y"
        },
        {
         "hoverinfo": "text",
         "marker": {
          "color": "rgb(255,65,54)"
         },
         "mode": "lines",
         "text": [
          "treaty_swaziland_nations_rhodesia_countries",
          "",
          "",
          "rhodesia_nigeria_africa_nations_delegation"
         ],
         "type": "scatter",
         "x": [
          455,
          455,
          465,
          465
         ],
         "xaxis": "x",
         "y": [
          0,
          0.1274550080123963,
          0.1274550080123963,
          0
         ],
         "yaxis": "y"
        },
        {
         "hoverinfo": "text",
         "marker": {
          "color": "rgb(255,65,54)"
         },
         "mode": "lines",
         "text": [
          "disarmament_peaceful_nations_countries_palestine",
          "",
          "",
          "rhodesia_nigeria_africa_nations_delegation"
         ],
         "type": "scatter",
         "x": [
          445,
          445,
          460,
          460
         ],
         "xaxis": "x",
         "y": [
          0,
          0.18361934609065922,
          0.18361934609065922,
          0.1274550080123963
         ],
         "yaxis": "y"
        },
        {
         "hoverinfo": "text",
         "marker": {
          "color": "rgb(255,65,54)"
         },
         "mode": "lines",
         "text": [
          "niger_nigeria_nigerian_nations_africa",
          "",
          "",
          "apartheid_nations_africa_agenda_delegation"
         ],
         "type": "scatter",
         "x": [
          495,
          495,
          505,
          505
         ],
         "xaxis": "x",
         "y": [
          0,
          0.11479536145883884,
          0.11479536145883884,
          0
         ],
         "yaxis": "y"
        },
        {
         "hoverinfo": "text",
         "marker": {
          "color": "rgb(255,65,54)"
         },
         "mode": "lines",
         "text": [
          "niger_nigeria_nigerian_nations_africa",
          "",
          "",
          "ghana_rhodesia_disarmament_nations_africa"
         ],
         "type": "scatter",
         "x": [
          500,
          500,
          515,
          515
         ],
         "xaxis": "x",
         "y": [
          0.11479536145883884,
          0.14705985039908845,
          0.14705985039908845,
          0
         ],
         "yaxis": "y"
        },
        {
         "hoverinfo": "text",
         "marker": {
          "color": "rgb(255,65,54)"
         },
         "mode": "lines",
         "text": [
          "tanzania_africa_rhodesia_apartheid_president",
          "",
          "",
          "ghana_rhodesia_disarmament_nations_africa"
         ],
         "type": "scatter",
         "x": [
          485,
          485,
          507.5,
          507.5
         ],
         "xaxis": "x",
         "y": [
          0,
          0.16903045879388087,
          0.16903045879388087,
          0.14705985039908845
         ],
         "yaxis": "y"
        },
        {
         "hoverinfo": "text",
         "marker": {
          "color": "rgb(255,65,54)"
         },
         "mode": "lines",
         "text": [
          "tanzania_africa_rhodesia_apartheid_president",
          "",
          "",
          "cameroon_cameroons_nations_africa_delegation"
         ],
         "type": "scatter",
         "x": [
          496.25,
          496.25,
          525,
          525
         ],
         "xaxis": "x",
         "y": [
          0.16903045879388087,
          0.19791051869486623,
          0.19791051869486623,
          0
         ],
         "yaxis": "y"
        },
        {
         "hoverinfo": "text",
         "marker": {
          "color": "rgb(255,65,54)"
         },
         "mode": "lines",
         "text": [
          "ethiopia_eritrea_somalia_africa_nations",
          "",
          "",
          "cameroon_cameroons_nations_africa_delegation"
         ],
         "type": "scatter",
         "x": [
          475,
          475,
          510.625,
          510.625
         ],
         "xaxis": "x",
         "y": [
          0,
          0.23755357210643444,
          0.23755357210643444,
          0.19791051869486623
         ],
         "yaxis": "y"
        },
        {
         "hoverinfo": "text",
         "marker": {
          "color": "rgb(255,65,54)"
         },
         "mode": "lines",
         "text": [
          "ethiopia_eritrea_somalia_africa_nations",
          "",
          "",
          "liberia_liberians_liberian_africa_nations"
         ],
         "type": "scatter",
         "x": [
          492.8125,
          492.8125,
          535,
          535
         ],
         "xaxis": "x",
         "y": [
          0.23755357210643444,
          0.24505683911326648,
          0.24505683911326648,
          0
         ],
         "yaxis": "y"
        },
        {
         "hoverinfo": "text",
         "marker": {
          "color": "rgb(255,65,54)"
         },
         "mode": "lines",
         "text": [
          "ethiopia_eritrea_somalia_africa_nations",
          "",
          "",
          "liberia_liberians_liberian_africa_nations"
         ],
         "type": "scatter",
         "x": [
          452.5,
          452.5,
          513.90625,
          513.90625
         ],
         "xaxis": "x",
         "y": [
          0.18361934609065922,
          0.2677272039175586,
          0.2677272039175586,
          0.24505683911326648
         ],
         "yaxis": "y"
        },
        {
         "hoverinfo": "text",
         "marker": {
          "color": "rgb(255,65,54)"
         },
         "mode": "lines",
         "text": [
          "ethiopia_eritrea_somalia_africa_nations",
          "",
          "",
          "liberia_liberians_liberian_africa_nations"
         ],
         "type": "scatter",
         "x": [
          337.2265625,
          337.2265625,
          483.203125,
          483.203125
         ],
         "xaxis": "x",
         "y": [
          0.27455364245783054,
          0.29446656810924,
          0.29446656810924,
          0.2677272039175586
         ],
         "yaxis": "y"
        },
        {
         "hoverinfo": "text",
         "marker": {
          "color": "rgb(255,65,54)"
         },
         "mode": "lines",
         "text": [
          "madagascar_nations_africa_countries_malagasy",
          "",
          "",
          "liberia_liberians_liberian_africa_nations"
         ],
         "type": "scatter",
         "x": [
          295,
          295,
          410.21484375,
          410.21484375
         ],
         "xaxis": "x",
         "y": [
          0,
          0.3002272676244656,
          0.3002272676244656,
          0.29446656810924
         ],
         "yaxis": "y"
        },
        {
         "hoverinfo": "text",
         "marker": {
          "color": "rgb(255,65,54)"
         },
         "mode": "lines",
         "text": [
          "lesotho_apartheid_namibia_angola_africa",
          "",
          "",
          "botswana_angola_namibia_rhodesia_apartheid"
         ],
         "type": "scatter",
         "x": [
          555,
          555,
          565,
          565
         ],
         "xaxis": "x",
         "y": [
          0,
          0.29624076491241835,
          0.29624076491241835,
          0
         ],
         "yaxis": "y"
        },
        {
         "hoverinfo": "text",
         "marker": {
          "color": "rgb(255,65,54)"
         },
         "mode": "lines",
         "text": [
          "kenya_nairobi_sudan_somalia_nations",
          "",
          "",
          "botswana_angola_namibia_rhodesia_apartheid"
         ],
         "type": "scatter",
         "x": [
          545,
          545,
          560,
          560
         ],
         "xaxis": "x",
         "y": [
          0,
          0.3164358144274642,
          0.3164358144274642,
          0.29624076491241835
         ],
         "yaxis": "y"
        },
        {
         "hoverinfo": "text",
         "marker": {
          "color": "rgb(255,65,54)"
         },
         "mode": "lines",
         "text": [
          "kenya_nairobi_sudan_somalia_nations",
          "",
          "",
          "botswana_angola_namibia_rhodesia_apartheid"
         ],
         "type": "scatter",
         "x": [
          352.607421875,
          352.607421875,
          552.5,
          552.5
         ],
         "xaxis": "x",
         "y": [
          0.3002272676244656,
          0.3689523279567022,
          0.3689523279567022,
          0.3164358144274642
         ],
         "yaxis": "y"
        },
        {
         "hoverinfo": "text",
         "marker": {
          "color": "rgb(255,65,54)"
         },
         "mode": "lines",
         "text": [
          "swaziland_swazi_peaceful_nations_africa",
          "",
          "",
          "nepal_disarmament_nations_countries_delegation"
         ],
         "type": "scatter",
         "x": [
          575,
          575,
          585,
          585
         ],
         "xaxis": "x",
         "y": [
          0,
          0.3799009424423322,
          0.3799009424423322,
          0
         ],
         "yaxis": "y"
        },
        {
         "hoverinfo": "text",
         "marker": {
          "color": "rgb(255,65,54)"
         },
         "mode": "lines",
         "text": [
          "swaziland_swazi_peaceful_nations_africa",
          "",
          "",
          "nepal_disarmament_nations_countries_delegation"
         ],
         "type": "scatter",
         "x": [
          452.5537109375,
          452.5537109375,
          580,
          580
         ],
         "xaxis": "x",
         "y": [
          0.3689523279567022,
          0.39868123521448784,
          0.39868123521448784,
          0.3799009424423322
         ],
         "yaxis": "y"
        },
        {
         "hoverinfo": "text",
         "marker": {
          "color": "rgb(255,65,54)"
         },
         "mode": "lines",
         "text": [
          "uganda_rwanda_congo_angola_amin",
          "",
          "",
          "nepal_disarmament_nations_countries_delegation"
         ],
         "type": "scatter",
         "x": [
          285,
          285,
          516.27685546875,
          516.27685546875
         ],
         "xaxis": "x",
         "y": [
          0,
          0.4013302064051062,
          0.4013302064051062,
          0.39868123521448784
         ],
         "yaxis": "y"
        },
        {
         "hoverinfo": "text",
         "marker": {
          "color": "rgb(255,65,54)"
         },
         "mode": "lines",
         "text": [
          "uganda_rwanda_congo_angola_amin",
          "",
          "",
          "mauritius_nations_peace_countries_africa"
         ],
         "type": "scatter",
         "x": [
          400.638427734375,
          400.638427734375,
          595,
          595
         ],
         "xaxis": "x",
         "y": [
          0.4013302064051062,
          0.4206271338515231,
          0.4206271338515231,
          0
         ],
         "yaxis": "y"
        },
        {
         "hoverinfo": "text",
         "marker": {
          "color": "rgb(255,65,54)"
         },
         "mode": "lines",
         "text": [
          "uganda_rwanda_congo_angola_amin",
          "",
          "",
          "lanka_sri_colombo_nations_countries"
         ],
         "type": "scatter",
         "x": [
          497.8192138671875,
          497.8192138671875,
          605,
          605
         ],
         "xaxis": "x",
         "y": [
          0.4206271338515231,
          0.45117670951676236,
          0.45117670951676236,
          0
         ],
         "yaxis": "y"
        },
        {
         "hoverinfo": "text",
         "marker": {
          "color": "rgb(255,65,54)"
         },
         "mode": "lines",
         "text": [
          "uganda_rwanda_congo_angola_amin",
          "",
          "",
          "lanka_sri_colombo_nations_countries"
         ],
         "type": "scatter",
         "x": [
          182.1337890625,
          182.1337890625,
          551.4096069335938,
          551.4096069335938
         ],
         "xaxis": "x",
         "y": [
          0.5227572594096725,
          0.5548986088577583,
          0.5548986088577583,
          0.45117670951676236
         ],
         "yaxis": "y"
        },
        {
         "hoverinfo": "text",
         "marker": {
          "color": "rgb(255,65,54)"
         },
         "mode": "lines",
         "text": [
          "liechtenstein_namibia_peaceful_nations_kuwait",
          "",
          "",
          "nations_countries_democracy_peace_korea"
         ],
         "type": "scatter",
         "x": [
          645,
          645,
          655,
          655
         ],
         "xaxis": "x",
         "y": [
          0,
          0.10907638407639786,
          0.10907638407639786,
          0
         ],
         "yaxis": "y"
        },
        {
         "hoverinfo": "text",
         "marker": {
          "color": "rgb(255,65,54)"
         },
         "mode": "lines",
         "text": [
          "liechtenstein_nations_kuwait_countries_iraq",
          "",
          "",
          "nations_countries_democracy_peace_korea"
         ],
         "type": "scatter",
         "x": [
          635,
          635,
          650,
          650
         ],
         "xaxis": "x",
         "y": [
          0,
          0.12475110894564735,
          0.12475110894564735,
          0.10907638407639786
         ],
         "yaxis": "y"
        },
        {
         "hoverinfo": "text",
         "marker": {
          "color": "rgb(255,65,54)"
         },
         "mode": "lines",
         "text": [
          "and_the_to_of_in",
          "",
          "",
          "peaceful_peace_nations_afghanistan_lebanon"
         ],
         "type": "scatter",
         "x": [
          642.5,
          642.5,
          665,
          665
         ],
         "xaxis": "x",
         "y": [
          0.12475110894564735,
          0.17073343704875438,
          0.17073343704875438,
          0
         ],
         "yaxis": "y"
        },
        {
         "hoverinfo": "text",
         "marker": {
          "color": "rgb(255,65,54)"
         },
         "mode": "lines",
         "text": [
          "malta_nations_neutrality_peace_countries",
          "",
          "",
          "peaceful_peace_nations_afghanistan_lebanon"
         ],
         "type": "scatter",
         "x": [
          625,
          625,
          653.75,
          653.75
         ],
         "xaxis": "x",
         "y": [
          0,
          0.31725036521150124,
          0.31725036521150124,
          0.17073343704875438
         ],
         "yaxis": "y"
        },
        {
         "hoverinfo": "text",
         "marker": {
          "color": "rgb(255,65,54)"
         },
         "mode": "lines",
         "text": [
          "malta_nations_neutrality_peace_countries",
          "",
          "",
          "spain_nations_gibraltar_countries_peace"
         ],
         "type": "scatter",
         "x": [
          639.375,
          639.375,
          675,
          675
         ],
         "xaxis": "x",
         "y": [
          0.31725036521150124,
          0.347709341809825,
          0.347709341809825,
          0
         ],
         "yaxis": "y"
        },
        {
         "hoverinfo": "text",
         "marker": {
          "color": "rgb(255,65,54)"
         },
         "mode": "lines",
         "text": [
          "sweden_disarmament_denmark_nations_swedish",
          "",
          "",
          "treaty_disarmament_peaceful_finland_nations"
         ],
         "type": "scatter",
         "x": [
          685,
          685,
          695,
          695
         ],
         "xaxis": "x",
         "y": [
          0,
          0.2583507451739139,
          0.2583507451739139,
          0
         ],
         "yaxis": "y"
        },
        {
         "hoverinfo": "text",
         "marker": {
          "color": "rgb(255,65,54)"
         },
         "mode": "lines",
         "text": [
          "sweden_disarmament_denmark_nations_swedish",
          "",
          "",
          "treaty_disarmament_peaceful_finland_nations"
         ],
         "type": "scatter",
         "x": [
          657.1875,
          657.1875,
          690,
          690
         ],
         "xaxis": "x",
         "y": [
          0.347709341809825,
          0.36809363613853213,
          0.36809363613853213,
          0.2583507451739139
         ],
         "yaxis": "y"
        },
        {
         "hoverinfo": "text",
         "marker": {
          "color": "rgb(255,65,54)"
         },
         "mode": "lines",
         "text": [
          "sweden_disarmament_denmark_nations_swedish",
          "",
          "",
          "suriname_treaty_nations_countries_government"
         ],
         "type": "scatter",
         "x": [
          673.59375,
          673.59375,
          705,
          705
         ],
         "xaxis": "x",
         "y": [
          0.36809363613853213,
          0.37991475334854546,
          0.37991475334854546,
          0
         ],
         "yaxis": "y"
        },
        {
         "hoverinfo": "text",
         "marker": {
          "color": "rgb(255,65,54)"
         },
         "mode": "lines",
         "text": [
          "disarmament_nations_nuclear_japan_countries",
          "",
          "",
          "suriname_treaty_nations_countries_government"
         ],
         "type": "scatter",
         "x": [
          615,
          615,
          689.296875,
          689.296875
         ],
         "xaxis": "x",
         "y": [
          0,
          0.4238019744282897,
          0.4238019744282897,
          0.37991475334854546
         ],
         "yaxis": "y"
        },
        {
         "hoverinfo": "text",
         "marker": {
          "color": "rgb(255,65,54)"
         },
         "mode": "lines",
         "text": [
          "disarmament_nations_nuclear_japan_countries",
          "",
          "",
          "disarmament_austria_peaceful_nations_vienna"
         ],
         "type": "scatter",
         "x": [
          652.1484375,
          652.1484375,
          715,
          715
         ],
         "xaxis": "x",
         "y": [
          0.4238019744282897,
          0.4296002001755323,
          0.4296002001755323,
          0
         ],
         "yaxis": "y"
        },
        {
         "hoverinfo": "text",
         "marker": {
          "color": "rgb(255,65,54)"
         },
         "mode": "lines",
         "text": [
          "cyprus_disarmament_cypriot_nations_peace",
          "",
          "",
          "greece_greek_balkans_nations_cyprus"
         ],
         "type": "scatter",
         "x": [
          725,
          725,
          735,
          735
         ],
         "xaxis": "x",
         "y": [
          0,
          0.23097098834238183,
          0.23097098834238183,
          0
         ],
         "yaxis": "y"
        },
        {
         "hoverinfo": "text",
         "marker": {
          "color": "rgb(255,65,54)"
         },
         "mode": "lines",
         "text": [
          "congo_nations_algerian_africa_hammarskjold",
          "",
          "",
          "disarmament_ceylon_nations_malaya_delegation"
         ],
         "type": "scatter",
         "x": [
          755,
          755,
          765,
          765
         ],
         "xaxis": "x",
         "y": [
          0,
          0.15460690724989024,
          0.15460690724989024,
          0
         ],
         "yaxis": "y"
        },
        {
         "hoverinfo": "text",
         "marker": {
          "color": "rgb(255,65,54)"
         },
         "mode": "lines",
         "text": [
          "nations_peace_war_france_council",
          "",
          "",
          "the_of_and_in_to"
         ],
         "type": "scatter",
         "x": [
          745,
          745,
          760,
          760
         ],
         "xaxis": "x",
         "y": [
          0,
          0.22301250509617415,
          0.22301250509617415,
          0.15460690724989024
         ],
         "yaxis": "y"
        },
        {
         "hoverinfo": "text",
         "marker": {
          "color": "rgb(255,65,54)"
         },
         "mode": "lines",
         "text": [
          "treaty_nations_countries_australia_council",
          "",
          "",
          "treaty_disarmament_nations_zealand_countries"
         ],
         "type": "scatter",
         "x": [
          785,
          785,
          795,
          795
         ],
         "xaxis": "x",
         "y": [
          0,
          0.2355550653567009,
          0.2355550653567009,
          0
         ],
         "yaxis": "y"
        },
        {
         "hoverinfo": "text",
         "marker": {
          "color": "rgb(255,65,54)"
         },
         "mode": "lines",
         "text": [
          "disarmament_nations_canada_council_government",
          "",
          "",
          "the_of_in_and_to"
         ],
         "type": "scatter",
         "x": [
          775,
          775,
          790,
          790
         ],
         "xaxis": "x",
         "y": [
          0,
          0.2992824501698443,
          0.2992824501698443,
          0.2355550653567009
         ],
         "yaxis": "y"
        },
        {
         "hoverinfo": "text",
         "marker": {
          "color": "rgb(255,65,54)"
         },
         "mode": "lines",
         "text": [
          "indonesia_asean_indonesian_nations_peace",
          "",
          "",
          "nations_india_countries_peace_indian"
         ],
         "type": "scatter",
         "x": [
          845,
          845,
          855,
          855
         ],
         "xaxis": "x",
         "y": [
          0,
          0.1399327301024108,
          0.1399327301024108,
          0
         ],
         "yaxis": "y"
        },
        {
         "hoverinfo": "text",
         "marker": {
          "color": "rgb(255,65,54)"
         },
         "mode": "lines",
         "text": [
          "guyana_nations_venezuela_countries_general",
          "",
          "",
          "nations_india_countries_peace_indian"
         ],
         "type": "scatter",
         "x": [
          835,
          835,
          850,
          850
         ],
         "xaxis": "x",
         "y": [
          0,
          0.16030306424674282,
          0.16030306424674282,
          0.1399327301024108
         ],
         "yaxis": "y"
        },
        {
         "hoverinfo": "text",
         "marker": {
          "color": "rgb(255,65,54)"
         },
         "mode": "lines",
         "text": [
          "nations_countries_peace_government_world",
          "",
          "",
          "malaya_disarmament_nations_malaysia_peace"
         ],
         "type": "scatter",
         "x": [
          875,
          875,
          885,
          885
         ],
         "xaxis": "x",
         "y": [
          0,
          0.0882576465715239,
          0.0882576465715239,
          0
         ],
         "yaxis": "y"
        },
        {
         "hoverinfo": "text",
         "marker": {
          "color": "rgb(255,65,54)"
         },
         "mode": "lines",
         "text": [
          "nations_peace_war_delegation_countries",
          "",
          "",
          "malaya_disarmament_nations_malaysia_peace"
         ],
         "type": "scatter",
         "x": [
          865,
          865,
          880,
          880
         ],
         "xaxis": "x",
         "y": [
          0,
          0.13254061742959972,
          0.13254061742959972,
          0.0882576465715239
         ],
         "yaxis": "y"
        },
        {
         "hoverinfo": "text",
         "marker": {
          "color": "rgb(255,65,54)"
         },
         "mode": "lines",
         "text": [
          "war_peace_nations_economic_political",
          "",
          "",
          "treaty_nations_peace_war_countries"
         ],
         "type": "scatter",
         "x": [
          895,
          895,
          905,
          905
         ],
         "xaxis": "x",
         "y": [
          0,
          0.08694651362996919,
          0.08694651362996919,
          0
         ],
         "yaxis": "y"
        },
        {
         "hoverinfo": "text",
         "marker": {
          "color": "rgb(255,65,54)"
         },
         "mode": "lines",
         "text": [
          "the_of_and_to_in",
          "",
          "",
          "nations_countries_europe_peace_belgium"
         ],
         "type": "scatter",
         "x": [
          900,
          900,
          915,
          915
         ],
         "xaxis": "x",
         "y": [
          0.08694651362996919,
          0.12116375611133903,
          0.12116375611133903,
          0
         ],
         "yaxis": "y"
        },
        {
         "hoverinfo": "text",
         "marker": {
          "color": "rgb(255,65,54)"
         },
         "mode": "lines",
         "text": [
          "the_of_and_to_in",
          "",
          "",
          "nations_countries_europe_peace_belgium"
         ],
         "type": "scatter",
         "x": [
          872.5,
          872.5,
          907.5,
          907.5
         ],
         "xaxis": "x",
         "y": [
          0.13254061742959972,
          0.15087697957280177,
          0.15087697957280177,
          0.12116375611133903
         ],
         "yaxis": "y"
        },
        {
         "hoverinfo": "text",
         "marker": {
          "color": "rgb(255,65,54)"
         },
         "mode": "lines",
         "text": [
          "the_of_and_to_in",
          "",
          "",
          "nations_countries_europe_peace_belgium"
         ],
         "type": "scatter",
         "x": [
          842.5,
          842.5,
          890,
          890
         ],
         "xaxis": "x",
         "y": [
          0.16030306424674282,
          0.17184020625498098,
          0.17184020625498098,
          0.15087697957280177
         ],
         "yaxis": "y"
        },
        {
         "hoverinfo": "text",
         "marker": {
          "color": "rgb(255,65,54)"
         },
         "mode": "lines",
         "text": [
          "the_of_and_to_in",
          "",
          "",
          "disarmament_nations_denmark_iceland_nation"
         ],
         "type": "scatter",
         "x": [
          866.25,
          866.25,
          925,
          925
         ],
         "xaxis": "x",
         "y": [
          0.17184020625498098,
          0.1972239116904845,
          0.1972239116904845,
          0
         ],
         "yaxis": "y"
        },
        {
         "hoverinfo": "text",
         "marker": {
          "color": "rgb(255,65,54)"
         },
         "mode": "lines",
         "text": [
          "italy_disarmament_nations_italian_countries",
          "",
          "",
          "disarmament_nations_denmark_iceland_nation"
         ],
         "type": "scatter",
         "x": [
          825,
          825,
          895.625,
          895.625
         ],
         "xaxis": "x",
         "y": [
          0,
          0.210507278105562,
          0.210507278105562,
          0.1972239116904845
         ],
         "yaxis": "y"
        },
        {
         "hoverinfo": "text",
         "marker": {
          "color": "rgb(255,65,54)"
         },
         "mode": "lines",
         "text": [
          "italy_disarmament_nations_italian_countries",
          "",
          "",
          "nations_countries_peace_negotiations_netherlands"
         ],
         "type": "scatter",
         "x": [
          860.3125,
          860.3125,
          935,
          935
         ],
         "xaxis": "x",
         "y": [
          0.210507278105562,
          0.2359243092556816,
          0.2359243092556816,
          0
         ],
         "yaxis": "y"
        },
        {
         "hoverinfo": "text",
         "marker": {
          "color": "rgb(255,65,54)"
         },
         "mode": "lines",
         "text": [
          "myanmar_burma_peaceful_disarmament_burmese",
          "",
          "",
          "nations_countries_peace_negotiations_netherlands"
         ],
         "type": "scatter",
         "x": [
          815,
          815,
          897.65625,
          897.65625
         ],
         "xaxis": "x",
         "y": [
          0,
          0.24178264140356684,
          0.24178264140356684,
          0.2359243092556816
         ],
         "yaxis": "y"
        },
        {
         "hoverinfo": "text",
         "marker": {
          "color": "rgb(255,65,54)"
         },
         "mode": "lines",
         "text": [
          "philippines_philippine_asean_manila_filipino",
          "",
          "",
          "nations_countries_peace_negotiations_netherlands"
         ],
         "type": "scatter",
         "x": [
          805,
          805,
          856.328125,
          856.328125
         ],
         "xaxis": "x",
         "y": [
          0,
          0.30904455033933526,
          0.30904455033933526,
          0.24178264140356684
         ],
         "yaxis": "y"
        },
        {
         "hoverinfo": "text",
         "marker": {
          "color": "rgb(255,65,54)"
         },
         "mode": "lines",
         "text": [
          "philippines_philippine_asean_manila_filipino",
          "",
          "",
          "asean_thailand_nations_asia_countries"
         ],
         "type": "scatter",
         "x": [
          830.6640625,
          830.6640625,
          945,
          945
         ],
         "xaxis": "x",
         "y": [
          0.30904455033933526,
          0.314829070451089,
          0.314829070451089,
          0
         ],
         "yaxis": "y"
        },
        {
         "hoverinfo": "text",
         "marker": {
          "color": "rgb(255,65,54)"
         },
         "mode": "lines",
         "text": [
          "philippines_philippine_asean_manila_filipino",
          "",
          "",
          "asean_thailand_nations_asia_countries"
         ],
         "type": "scatter",
         "x": [
          782.5,
          782.5,
          887.83203125,
          887.83203125
         ],
         "xaxis": "x",
         "y": [
          0.2992824501698443,
          0.3430535014174318,
          0.3430535014174318,
          0.314829070451089
         ],
         "yaxis": "y"
        },
        {
         "hoverinfo": "text",
         "marker": {
          "color": "rgb(255,65,54)"
         },
         "mode": "lines",
         "text": [
          "philippines_philippine_asean_manila_filipino",
          "",
          "",
          "asean_thailand_nations_asia_countries"
         ],
         "type": "scatter",
         "x": [
          752.5,
          752.5,
          835.166015625,
          835.166015625
         ],
         "xaxis": "x",
         "y": [
          0.22301250509617415,
          0.35238189652762514,
          0.35238189652762514,
          0.3430535014174318
         ],
         "yaxis": "y"
        },
        {
         "hoverinfo": "text",
         "marker": {
          "color": "rgb(255,65,54)"
         },
         "mode": "lines",
         "text": [
          "the_of_to_in_and",
          "",
          "",
          "asean_thailand_nations_asia_countries"
         ],
         "type": "scatter",
         "x": [
          730,
          730,
          793.8330078125,
          793.8330078125
         ],
         "xaxis": "x",
         "y": [
          0.23097098834238183,
          0.48297805998183896,
          0.48297805998183896,
          0.35238189652762514
         ],
         "yaxis": "y"
        },
        {
         "hoverinfo": "text",
         "marker": {
          "color": "rgb(255,65,54)"
         },
         "mode": "lines",
         "text": [
          "disarmament_pakistan_peaceful_afghanistan_nations",
          "",
          "",
          "kabul_taliban_afghanistan_afghan_afghans"
         ],
         "type": "scatter",
         "x": [
          955,
          955,
          965,
          965
         ],
         "xaxis": "x",
         "y": [
          0,
          0.3424212788600669,
          0.3424212788600669,
          0
         ],
         "yaxis": "y"
        },
        {
         "hoverinfo": "text",
         "marker": {
          "color": "rgb(255,65,54)"
         },
         "mode": "lines",
         "text": [
          "disarmament_pakistan_peaceful_afghanistan_nations",
          "",
          "",
          "the_of_to_and_that"
         ],
         "type": "scatter",
         "x": [
          761.91650390625,
          761.91650390625,
          960,
          960
         ],
         "xaxis": "x",
         "y": [
          0.48297805998183896,
          0.4979432821248052,
          0.4979432821248052,
          0.3424212788600669
         ],
         "yaxis": "y"
        },
        {
         "hoverinfo": "text",
         "marker": {
          "color": "rgb(255,65,54)"
         },
         "mode": "lines",
         "text": [
          "disarmament_pakistan_peaceful_afghanistan_nations",
          "",
          "",
          "the_of_to_and_that"
         ],
         "type": "scatter",
         "x": [
          683.57421875,
          683.57421875,
          860.958251953125,
          860.958251953125
         ],
         "xaxis": "x",
         "y": [
          0.4296002001755323,
          0.5207875206264126,
          0.5207875206264126,
          0.4979432821248052
         ],
         "yaxis": "y"
        },
        {
         "hoverinfo": "text",
         "marker": {
          "color": "rgb(255,65,54)"
         },
         "mode": "lines",
         "text": [
          "cambodia_cambodian_khmer_sihanouk_laos",
          "",
          "",
          "asean_peaceful_viet_cambodia_nam"
         ],
         "type": "scatter",
         "x": [
          985,
          985,
          995,
          995
         ],
         "xaxis": "x",
         "y": [
          0,
          0.34023246724034073,
          0.34023246724034073,
          0
         ],
         "yaxis": "y"
        },
        {
         "hoverinfo": "text",
         "marker": {
          "color": "rgb(255,65,54)"
         },
         "mode": "lines",
         "text": [
          "laos_asean_lao_viet_nations",
          "",
          "",
          "asean_peaceful_viet_cambodia_nam"
         ],
         "type": "scatter",
         "x": [
          975,
          975,
          990,
          990
         ],
         "xaxis": "x",
         "y": [
          0,
          0.38157109302991377,
          0.38157109302991377,
          0.34023246724034073
         ],
         "yaxis": "y"
        },
        {
         "hoverinfo": "text",
         "marker": {
          "color": "rgb(255,65,54)"
         },
         "mode": "lines",
         "text": [
          "albania_kosovo_imperialism_nato_albanians",
          "",
          "",
          "disarmament_mao_china_nations_imperialism"
         ],
         "type": "scatter",
         "x": [
          1005,
          1005,
          1015,
          1015
         ],
         "xaxis": "x",
         "y": [
          0,
          0.3695646600964304,
          0.3695646600964304,
          0
         ],
         "yaxis": "y"
        },
        {
         "hoverinfo": "text",
         "marker": {
          "color": "rgb(255,65,54)"
         },
         "mode": "lines",
         "text": [
          "disarmament_peaceful_war_nations_hungary",
          "",
          "",
          "disarmament_bulgaria_balkans_nations_countries"
         ],
         "type": "scatter",
         "x": [
          1035,
          1035,
          1045,
          1045
         ],
         "xaxis": "x",
         "y": [
          0,
          0.18186157804538272,
          0.18186157804538272,
          0
         ],
         "yaxis": "y"
        },
        {
         "hoverinfo": "text",
         "marker": {
          "color": "rgb(255,65,54)"
         },
         "mode": "lines",
         "text": [
          "disarmament_treaty_peaceful_nations_peace",
          "",
          "",
          "poland_disarmament_polish_nations_peaceful"
         ],
         "type": "scatter",
         "x": [
          1055,
          1055,
          1065,
          1065
         ],
         "xaxis": "x",
         "y": [
          0,
          0.18339823827525226,
          0.18339823827525226,
          0
         ],
         "yaxis": "y"
        },
        {
         "hoverinfo": "text",
         "marker": {
          "color": "rgb(255,65,54)"
         },
         "mode": "lines",
         "text": [
          "disarmament_treaty_peaceful_nations_peace",
          "",
          "",
          "poland_disarmament_polish_nations_peaceful"
         ],
         "type": "scatter",
         "x": [
          1040,
          1040,
          1060,
          1060
         ],
         "xaxis": "x",
         "y": [
          0.18186157804538272,
          0.2334725139641728,
          0.2334725139641728,
          0.18339823827525226
         ],
         "yaxis": "y"
        },
        {
         "hoverinfo": "text",
         "marker": {
          "color": "rgb(255,65,54)"
         },
         "mode": "lines",
         "text": [
          "romania_disarmament_nations_romanian_peaceful",
          "",
          "",
          "poland_disarmament_polish_nations_peaceful"
         ],
         "type": "scatter",
         "x": [
          1025,
          1025,
          1050,
          1050
         ],
         "xaxis": "x",
         "y": [
          0,
          0.24780285444301423,
          0.24780285444301423,
          0.2334725139641728
         ],
         "yaxis": "y"
        },
        {
         "hoverinfo": "text",
         "marker": {
          "color": "rgb(255,65,54)"
         },
         "mode": "lines",
         "text": [
          "disarmament_treaty_peaceful_nations_war",
          "",
          "",
          "nations_war_ussr_peace_countries"
         ],
         "type": "scatter",
         "x": [
          1085,
          1085,
          1095,
          1095
         ],
         "xaxis": "x",
         "y": [
          0,
          0.07161465427133484,
          0.07161465427133484,
          0
         ],
         "yaxis": "y"
        },
        {
         "hoverinfo": "text",
         "marker": {
          "color": "rgb(255,65,54)"
         },
         "mode": "lines",
         "text": [
          "of_the_to_and_in",
          "",
          "",
          "war_armistice_korea_nations_ussr"
         ],
         "type": "scatter",
         "x": [
          1090,
          1090,
          1105,
          1105
         ],
         "xaxis": "x",
         "y": [
          0.07161465427133484,
          0.09507330202660497,
          0.09507330202660497,
          0
         ],
         "yaxis": "y"
        },
        {
         "hoverinfo": "text",
         "marker": {
          "color": "rgb(255,65,54)"
         },
         "mode": "lines",
         "text": [
          "treaty_disarmament_peaceful_czechoslovakia_nations",
          "",
          "",
          "of_the_to_in_and"
         ],
         "type": "scatter",
         "x": [
          1075,
          1075,
          1097.5,
          1097.5
         ],
         "xaxis": "x",
         "y": [
          0,
          0.17251194240824871,
          0.17251194240824871,
          0.09507330202660497
         ],
         "yaxis": "y"
        },
        {
         "hoverinfo": "text",
         "marker": {
          "color": "rgb(255,65,54)"
         },
         "mode": "lines",
         "text": [
          "treaty_disarmament_peaceful_czechoslovakia_nations",
          "",
          "",
          "of_the_to_in_and"
         ],
         "type": "scatter",
         "x": [
          1037.5,
          1037.5,
          1086.25,
          1086.25
         ],
         "xaxis": "x",
         "y": [
          0.24780285444301423,
          0.2615016239510435,
          0.2615016239510435,
          0.17251194240824871
         ],
         "yaxis": "y"
        },
        {
         "hoverinfo": "text",
         "marker": {
          "color": "rgb(255,65,54)"
         },
         "mode": "lines",
         "text": [
          "treaty_disarmament_peaceful_czechoslovakia_nations",
          "",
          "",
          "treaty_mongolia_disarmament_soviet_peaceful"
         ],
         "type": "scatter",
         "x": [
          1061.875,
          1061.875,
          1115,
          1115
         ],
         "xaxis": "x",
         "y": [
          0.2615016239510435,
          0.381896442296765,
          0.381896442296765,
          0
         ],
         "yaxis": "y"
        },
        {
         "hoverinfo": "text",
         "marker": {
          "color": "rgb(255,65,54)"
         },
         "mode": "lines",
         "text": [
          "treaty_disarmament_peaceful_czechoslovakia_nations",
          "",
          "",
          "treaty_mongolia_disarmament_soviet_peaceful"
         ],
         "type": "scatter",
         "x": [
          1010,
          1010,
          1088.4375,
          1088.4375
         ],
         "xaxis": "x",
         "y": [
          0.3695646600964304,
          0.41659361362719327,
          0.41659361362719327,
          0.381896442296765
         ],
         "yaxis": "y"
        },
        {
         "hoverinfo": "text",
         "marker": {
          "color": "rgb(255,65,54)"
         },
         "mode": "lines",
         "text": [
          "treaty_disarmament_peaceful_czechoslovakia_nations",
          "",
          "",
          "korea_peaceful_sovereignty_reunification_kim"
         ],
         "type": "scatter",
         "x": [
          1049.21875,
          1049.21875,
          1125,
          1125
         ],
         "xaxis": "x",
         "y": [
          0.41659361362719327,
          0.5749927460064589,
          0.5749927460064589,
          0
         ],
         "yaxis": "y"
        },
        {
         "hoverinfo": "text",
         "marker": {
          "color": "rgb(255,65,54)"
         },
         "mode": "lines",
         "text": [
          "treaty_disarmament_peaceful_czechoslovakia_nations",
          "",
          "",
          "korea_peaceful_sovereignty_reunification_kim"
         ],
         "type": "scatter",
         "x": [
          982.5,
          982.5,
          1087.109375,
          1087.109375
         ],
         "xaxis": "x",
         "y": [
          0.38157109302991377,
          0.5817321279344373,
          0.5817321279344373,
          0.5749927460064589
         ],
         "yaxis": "y"
        },
        {
         "hoverinfo": "text",
         "marker": {
          "color": "rgb(255,65,54)"
         },
         "mode": "lines",
         "text": [
          "treaty_disarmament_peaceful_czechoslovakia_nations",
          "",
          "",
          "korea_peaceful_sovereignty_reunification_kim"
         ],
         "type": "scatter",
         "x": [
          772.2662353515625,
          772.2662353515625,
          1034.8046875,
          1034.8046875
         ],
         "xaxis": "x",
         "y": [
          0.5207875206264126,
          0.699232439646637,
          0.699232439646637,
          0.5817321279344373
         ],
         "yaxis": "y"
        },
        {
         "hoverinfo": "text",
         "marker": {
          "color": "rgb(255,65,54)"
         },
         "mode": "lines",
         "text": [
          "treaty_disarmament_peaceful_czechoslovakia_nations",
          "",
          "",
          "korea_peaceful_sovereignty_reunification_kim"
         ],
         "type": "scatter",
         "x": [
          366.7716979980469,
          366.7716979980469,
          903.5354614257812,
          903.5354614257812
         ],
         "xaxis": "x",
         "y": [
          0.5548986088577583,
          0.8158332564729625,
          0.8158332564729625,
          0.699232439646637
         ],
         "yaxis": "y"
        },
        {
         "hoverinfo": "text",
         "marker": {
          "color": "rgb(255,65,54)"
         },
         "mode": "lines",
         "text": [
          "dominican_haiti_nations_caribbean_republic",
          "",
          "",
          "haiti_duvalier_haitian_haitians_nations"
         ],
         "type": "scatter",
         "x": [
          1145,
          1145,
          1155,
          1155
         ],
         "xaxis": "x",
         "y": [
          0,
          0.30527880518288253,
          0.30527880518288253,
          0
         ],
         "yaxis": "y"
        },
        {
         "hoverinfo": "text",
         "marker": {
          "color": "rgb(255,65,54)"
         },
         "mode": "lines",
         "text": [
          "cuba_cuban_sovereignty_castro_imperialism",
          "",
          "",
          "panama_panamanian_panamanians_treaty_treaties"
         ],
         "type": "scatter",
         "x": [
          1165,
          1165,
          1175,
          1175
         ],
         "xaxis": "x",
         "y": [
          0,
          0.31585321476704387,
          0.31585321476704387,
          0
         ],
         "yaxis": "y"
        },
        {
         "hoverinfo": "text",
         "marker": {
          "color": "rgb(255,65,54)"
         },
         "mode": "lines",
         "text": [
          "venezuela_bolivarian_venezuelan_nations_countries",
          "",
          "",
          "colombia_colombians_colombian_nations_countries"
         ],
         "type": "scatter",
         "x": [
          1195,
          1195,
          1205,
          1205
         ],
         "xaxis": "x",
         "y": [
          0,
          0.22940533313594558,
          0.22940533313594558,
          0
         ],
         "yaxis": "y"
        },
        {
         "hoverinfo": "text",
         "marker": {
          "color": "rgb(255,65,54)"
         },
         "mode": "lines",
         "text": [
          "chile_chilean_nations_countries_government",
          "",
          "",
          "argentina_argentine_nations_sovereignty_countries"
         ],
         "type": "scatter",
         "x": [
          1225,
          1225,
          1235,
          1235
         ],
         "xaxis": "x",
         "y": [
          0,
          0.19319574318607768,
          0.19319574318607768,
          0
         ],
         "yaxis": "y"
        },
        {
         "hoverinfo": "text",
         "marker": {
          "color": "rgb(255,65,54)"
         },
         "mode": "lines",
         "text": [
          "chile_chilean_nations_countries_government",
          "",
          "",
          "uruguay_nations_uruguayan_countries_peace"
         ],
         "type": "scatter",
         "x": [
          1230,
          1230,
          1245,
          1245
         ],
         "xaxis": "x",
         "y": [
          0.19319574318607768,
          0.19857319538708953,
          0.19857319538708953,
          0
         ],
         "yaxis": "y"
        },
        {
         "hoverinfo": "text",
         "marker": {
          "color": "rgb(255,65,54)"
         },
         "mode": "lines",
         "text": [
          "guatemala_guatemalan_guatemalans_belize_nations",
          "",
          "",
          "uruguay_nations_uruguayan_countries_peace"
         ],
         "type": "scatter",
         "x": [
          1215,
          1215,
          1237.5,
          1237.5
         ],
         "xaxis": "x",
         "y": [
          0,
          0.21478523981597425,
          0.21478523981597425,
          0.19857319538708953
         ],
         "yaxis": "y"
        },
        {
         "hoverinfo": "text",
         "marker": {
          "color": "rgb(255,65,54)"
         },
         "mode": "lines",
         "text": [
          "the_of_and_to_in",
          "",
          "",
          "peru_peruvian_nations_countries_democracy"
         ],
         "type": "scatter",
         "x": [
          1226.25,
          1226.25,
          1255,
          1255
         ],
         "xaxis": "x",
         "y": [
          0.21478523981597425,
          0.24277292758834873,
          0.24277292758834873,
          0
         ],
         "yaxis": "y"
        },
        {
         "hoverinfo": "text",
         "marker": {
          "color": "rgb(255,65,54)"
         },
         "mode": "lines",
         "text": [
          "the_of_and_to_in",
          "",
          "",
          "peru_peruvian_nations_countries_democracy"
         ],
         "type": "scatter",
         "x": [
          1200,
          1200,
          1240.625,
          1240.625
         ],
         "xaxis": "x",
         "y": [
          0.22940533313594558,
          0.27188747421682247,
          0.27188747421682247,
          0.24277292758834873
         ],
         "yaxis": "y"
        },
        {
         "hoverinfo": "text",
         "marker": {
          "color": "rgb(255,65,54)"
         },
         "mode": "lines",
         "text": [
          "the_of_and_to_in",
          "",
          "",
          "brazil_disarmament_nations_countries_brazilian"
         ],
         "type": "scatter",
         "x": [
          1220.3125,
          1220.3125,
          1265,
          1265
         ],
         "xaxis": "x",
         "y": [
          0.27188747421682247,
          0.2840076239109802,
          0.2840076239109802,
          0
         ],
         "yaxis": "y"
        },
        {
         "hoverinfo": "text",
         "marker": {
          "color": "rgb(255,65,54)"
         },
         "mode": "lines",
         "text": [
          "ecuador_ecuadorian_nations_peru_countries",
          "",
          "",
          "brazil_disarmament_nations_countries_brazilian"
         ],
         "type": "scatter",
         "x": [
          1185,
          1185,
          1242.65625,
          1242.65625
         ],
         "xaxis": "x",
         "y": [
          0,
          0.28832236080600804,
          0.28832236080600804,
          0.2840076239109802
         ],
         "yaxis": "y"
        },
        {
         "hoverinfo": "text",
         "marker": {
          "color": "rgb(255,65,54)"
         },
         "mode": "lines",
         "text": [
          "ecuador_ecuadorian_nations_peru_countries",
          "",
          "",
          "bolivia_bolivian_bolivians_nations_chile"
         ],
         "type": "scatter",
         "x": [
          1213.828125,
          1213.828125,
          1275,
          1275
         ],
         "xaxis": "x",
         "y": [
          0.28832236080600804,
          0.3304451956755423,
          0.3304451956755423,
          0
         ],
         "yaxis": "y"
        },
        {
         "hoverinfo": "text",
         "marker": {
          "color": "rgb(255,65,54)"
         },
         "mode": "lines",
         "text": [
          "ecuador_ecuadorian_nations_peru_countries",
          "",
          "",
          "bolivia_bolivian_bolivians_nations_chile"
         ],
         "type": "scatter",
         "x": [
          1170,
          1170,
          1244.4140625,
          1244.4140625
         ],
         "xaxis": "x",
         "y": [
          0.31585321476704387,
          0.353826957368215,
          0.353826957368215,
          0.3304451956755423
         ],
         "yaxis": "y"
        },
        {
         "hoverinfo": "text",
         "marker": {
          "color": "rgb(255,65,54)"
         },
         "mode": "lines",
         "text": [
          "ecuador_ecuadorian_nations_peru_countries",
          "",
          "",
          "bolivia_bolivian_bolivians_nations_chile"
         ],
         "type": "scatter",
         "x": [
          1150,
          1150,
          1207.20703125,
          1207.20703125
         ],
         "xaxis": "x",
         "y": [
          0.30527880518288253,
          0.38414971747015114,
          0.38414971747015114,
          0.353826957368215
         ],
         "yaxis": "y"
        },
        {
         "hoverinfo": "text",
         "marker": {
          "color": "rgb(255,65,54)"
         },
         "mode": "lines",
         "text": [
          "honduras_honduran_hondurans_nations_democracy",
          "",
          "",
          "salvador_salvadorian_salvadorans_nations_peace"
         ],
         "type": "scatter",
         "x": [
          1295,
          1295,
          1305,
          1305
         ],
         "xaxis": "x",
         "y": [
          0,
          0.23914811921027512,
          0.23914811921027512,
          0
         ],
         "yaxis": "y"
        },
        {
         "hoverinfo": "text",
         "marker": {
          "color": "rgb(255,65,54)"
         },
         "mode": "lines",
         "text": [
          "nicaragua_nicaraguan_nicaraguans_honduras_cuba",
          "",
          "",
          "salvador_salvadorian_salvadorans_nations_peace"
         ],
         "type": "scatter",
         "x": [
          1285,
          1285,
          1300,
          1300
         ],
         "xaxis": "x",
         "y": [
          0,
          0.3034669924271764,
          0.3034669924271764,
          0.23914811921027512
         ],
         "yaxis": "y"
        },
        {
         "hoverinfo": "text",
         "marker": {
          "color": "rgb(255,65,54)"
         },
         "mode": "lines",
         "text": [
          "nicaragua_nicaraguan_nicaraguans_honduras_cuba",
          "",
          "",
          "rica_nations_countries_peace_democracy"
         ],
         "type": "scatter",
         "x": [
          1292.5,
          1292.5,
          1315,
          1315
         ],
         "xaxis": "x",
         "y": [
          0.3034669924271764,
          0.35587458107413084,
          0.35587458107413084,
          0
         ],
         "yaxis": "y"
        },
        {
         "hoverinfo": "text",
         "marker": {
          "color": "rgb(255,65,54)"
         },
         "mode": "lines",
         "text": [
          "nicaragua_nicaraguan_nicaraguans_honduras_cuba",
          "",
          "",
          "rica_nations_countries_peace_democracy"
         ],
         "type": "scatter",
         "x": [
          1178.603515625,
          1178.603515625,
          1303.75,
          1303.75
         ],
         "xaxis": "x",
         "y": [
          0.38414971747015114,
          0.4191754074916865,
          0.4191754074916865,
          0.35587458107413084
         ],
         "yaxis": "y"
        },
        {
         "hoverinfo": "text",
         "marker": {
          "color": "rgb(255,65,54)"
         },
         "mode": "lines",
         "text": [
          "paraguay_paraguayan_nations_countries_democracy",
          "",
          "",
          "rica_nations_countries_peace_democracy"
         ],
         "type": "scatter",
         "x": [
          1135,
          1135,
          1241.1767578125,
          1241.1767578125
         ],
         "xaxis": "x",
         "y": [
          0,
          0.44643298859733954,
          0.44643298859733954,
          0.4191754074916865
         ],
         "yaxis": "y"
        },
        {
         "hoverinfo": "text",
         "marker": {
          "color": "rgb(255,65,54)"
         },
         "mode": "lines",
         "text": [
          "jamaica_nations_caribbean_countries_peace",
          "",
          "",
          "barbados_antigua_haiti_caribbean_nations"
         ],
         "type": "scatter",
         "x": [
          1345,
          1345,
          1355,
          1355
         ],
         "xaxis": "x",
         "y": [
          0,
          0.24850955549806497,
          0.24850955549806497,
          0
         ],
         "yaxis": "y"
        },
        {
         "hoverinfo": "text",
         "marker": {
          "color": "rgb(255,65,54)"
         },
         "mode": "lines",
         "text": [
          "dominica_nations_lucia_barbados_countries",
          "",
          "",
          "haiti_dominica_hurricane_grenada_caribbean"
         ],
         "type": "scatter",
         "x": [
          1365,
          1365,
          1375,
          1375
         ],
         "xaxis": "x",
         "y": [
          0,
          0.22698986884119166,
          0.22698986884119166,
          0
         ],
         "yaxis": "y"
        },
        {
         "hoverinfo": "text",
         "marker": {
          "color": "rgb(255,65,54)"
         },
         "mode": "lines",
         "text": [
          "dominica_nations_lucia_barbados_countries",
          "",
          "",
          "of_the_and_in_to"
         ],
         "type": "scatter",
         "x": [
          1350,
          1350,
          1370,
          1370
         ],
         "xaxis": "x",
         "y": [
          0.24850955549806497,
          0.3212562544147727,
          0.3212562544147727,
          0.22698986884119166
         ],
         "yaxis": "y"
        },
        {
         "hoverinfo": "text",
         "marker": {
          "color": "rgb(255,65,54)"
         },
         "mode": "lines",
         "text": [
          "belize_guatemala_belizeans_belizean_panama",
          "",
          "",
          "of_the_and_in_to"
         ],
         "type": "scatter",
         "x": [
          1335,
          1335,
          1360,
          1360
         ],
         "xaxis": "x",
         "y": [
          0,
          0.352330153997839,
          0.352330153997839,
          0.3212562544147727
         ],
         "yaxis": "y"
        },
        {
         "hoverinfo": "text",
         "marker": {
          "color": "rgb(255,65,54)"
         },
         "mode": "lines",
         "text": [
          "belize_guatemala_belizeans_belizean_panama",
          "",
          "",
          "grenada_nations_countries_cuba_peace"
         ],
         "type": "scatter",
         "x": [
          1347.5,
          1347.5,
          1385,
          1385
         ],
         "xaxis": "x",
         "y": [
          0.352330153997839,
          0.42711796062226404,
          0.42711796062226404,
          0
         ],
         "yaxis": "y"
        },
        {
         "hoverinfo": "text",
         "marker": {
          "color": "rgb(255,65,54)"
         },
         "mode": "lines",
         "text": [
          "tobago_trinidad_nations_countries_caribbean",
          "",
          "",
          "grenada_nations_countries_cuba_peace"
         ],
         "type": "scatter",
         "x": [
          1325,
          1325,
          1366.25,
          1366.25
         ],
         "xaxis": "x",
         "y": [
          0,
          0.5037858973156524,
          0.5037858973156524,
          0.42711796062226404
         ],
         "yaxis": "y"
        },
        {
         "hoverinfo": "text",
         "marker": {
          "color": "rgb(255,65,54)"
         },
         "mode": "lines",
         "text": [
          "tobago_trinidad_nations_countries_caribbean",
          "",
          "",
          "bahamas_haiti_bahamian_caribbean_nations"
         ],
         "type": "scatter",
         "x": [
          1345.625,
          1345.625,
          1395,
          1395
         ],
         "xaxis": "x",
         "y": [
          0.5037858973156524,
          0.537617723056461,
          0.537617723056461,
          0
         ],
         "yaxis": "y"
        },
        {
         "hoverinfo": "text",
         "marker": {
          "color": "rgb(255,65,54)"
         },
         "mode": "lines",
         "text": [
          "tobago_trinidad_nations_countries_caribbean",
          "",
          "",
          "bahamas_haiti_bahamian_caribbean_nations"
         ],
         "type": "scatter",
         "x": [
          1188.08837890625,
          1188.08837890625,
          1370.3125,
          1370.3125
         ],
         "xaxis": "x",
         "y": [
          0.44643298859733954,
          0.7853397848193373,
          0.7853397848193373,
          0.537617723056461
         ],
         "yaxis": "y"
        },
        {
         "hoverinfo": "text",
         "marker": {
          "color": "rgb(255,65,54)"
         },
         "mode": "lines",
         "text": [
          "tobago_trinidad_nations_countries_caribbean",
          "",
          "",
          "bahamas_haiti_bahamian_caribbean_nations"
         ],
         "type": "scatter",
         "x": [
          635.1535797119141,
          635.1535797119141,
          1279.200439453125,
          1279.200439453125
         ],
         "xaxis": "x",
         "y": [
          0.8158332564729625,
          0.903732187079664,
          0.903732187079664,
          0.7853397848193373
         ],
         "yaxis": "y"
        },
        {
         "hoverinfo": "text",
         "marker": {
          "color": "rgb(0,116,217)"
         },
         "mode": "lines",
         "text": [
          "tobago_trinidad_nations_countries_caribbean",
          "",
          "",
          "bahamas_haiti_bahamian_caribbean_nations"
         ],
         "type": "scatter",
         "x": [
          38.92578125,
          38.92578125,
          957.1770095825195,
          957.1770095825195
         ],
         "xaxis": "x",
         "y": [
          0.6257801584179891,
          1.0413477150028112,
          1.0413477150028112,
          0.903732187079664
         ],
         "yaxis": "y"
        },
        {
         "hoverinfo": "text",
         "marker": {
          "color": "rgb(35,205,205)"
         },
         "mode": "lines",
         "text": [
          "samoa_micronesia_kiribati_climate_fiji",
          "",
          "",
          "climate_haiti_bahamas_dominica_barbados"
         ],
         "type": "scatter",
         "x": [
          1435,
          1435,
          1445,
          1445
         ],
         "xaxis": "x",
         "y": [
          0,
          0.23681018720149793,
          0.23681018720149793,
          0
         ],
         "yaxis": "y"
        },
        {
         "hoverinfo": "text",
         "marker": {
          "color": "rgb(35,205,205)"
         },
         "mode": "lines",
         "text": [
          "seychelles_mauritius_nations_countries_africa",
          "",
          "",
          "climate_haiti_bahamas_dominica_barbados"
         ],
         "type": "scatter",
         "x": [
          1425,
          1425,
          1440,
          1440
         ],
         "xaxis": "x",
         "y": [
          0,
          0.3062768757369854,
          0.3062768757369854,
          0.23681018720149793
         ],
         "yaxis": "y"
        },
        {
         "hoverinfo": "text",
         "marker": {
          "color": "rgb(35,205,205)"
         },
         "mode": "lines",
         "text": [
          "seychelles_mauritius_nations_countries_africa",
          "",
          "",
          "kiribati_un_agenda_acknowledge_climate"
         ],
         "type": "scatter",
         "x": [
          1432.5,
          1432.5,
          1455,
          1455
         ],
         "xaxis": "x",
         "y": [
          0.3062768757369854,
          0.3787737561390863,
          0.3787737561390863,
          0
         ],
         "yaxis": "y"
        },
        {
         "hoverinfo": "text",
         "marker": {
          "color": "rgb(35,205,205)"
         },
         "mode": "lines",
         "text": [
          "nauru_fiji_nations_governance_countries",
          "",
          "",
          "kiribati_un_agenda_acknowledge_climate"
         ],
         "type": "scatter",
         "x": [
          1415,
          1415,
          1443.75,
          1443.75
         ],
         "xaxis": "x",
         "y": [
          0,
          0.4429447549517595,
          0.4429447549517595,
          0.3787737561390863
         ],
         "yaxis": "y"
        },
        {
         "hoverinfo": "text",
         "marker": {
          "color": "rgb(35,205,205)"
         },
         "mode": "lines",
         "text": [
          "nauru_fiji_nations_governance_countries",
          "",
          "",
          "palau_palauan_un_nations_micronesia"
         ],
         "type": "scatter",
         "x": [
          1429.375,
          1429.375,
          1465,
          1465
         ],
         "xaxis": "x",
         "y": [
          0.4429447549517595,
          0.5332719225089815,
          0.5332719225089815,
          0
         ],
         "yaxis": "y"
        },
        {
         "hoverinfo": "text",
         "marker": {
          "color": "rgb(35,205,205)"
         },
         "mode": "lines",
         "text": [
          "tuvalu_kiribati_nations_countries_agenda",
          "",
          "",
          "palau_palauan_un_nations_micronesia"
         ],
         "type": "scatter",
         "x": [
          1405,
          1405,
          1447.1875,
          1447.1875
         ],
         "xaxis": "x",
         "y": [
          0,
          0.5618234142343864,
          0.5618234142343864,
          0.5332719225089815
         ],
         "yaxis": "y"
        },
        {
         "hoverinfo": "text",
         "marker": {
          "color": "rgb(35,205,205)"
         },
         "mode": "lines",
         "text": [
          "islands_nations_nation_marshallese_nuclear",
          "",
          "",
          "disarmament_nations_solomon_countries_government"
         ],
         "type": "scatter",
         "x": [
          1475,
          1475,
          1485,
          1485
         ],
         "xaxis": "x",
         "y": [
          0,
          0.3567008109526102,
          0.3567008109526102,
          0
         ],
         "yaxis": "y"
        },
        {
         "hoverinfo": "text",
         "marker": {
          "color": "rgb(35,205,205)"
         },
         "mode": "lines",
         "text": [
          "papua_guinea_nations_governments_countries",
          "",
          "",
          "vanuatu_papua_nations_multilateral_countries"
         ],
         "type": "scatter",
         "x": [
          1495,
          1495,
          1505,
          1505
         ],
         "xaxis": "x",
         "y": [
          0,
          0.3739145776354639,
          0.3739145776354639,
          0
         ],
         "yaxis": "y"
        },
        {
         "hoverinfo": "text",
         "marker": {
          "color": "rgb(35,205,205)"
         },
         "mode": "lines",
         "text": [
          "papua_guinea_nations_governments_countries",
          "",
          "",
          "fiji_peacekeeping_fijians_fijian_nations"
         ],
         "type": "scatter",
         "x": [
          1500,
          1500,
          1515,
          1515
         ],
         "xaxis": "x",
         "y": [
          0.3739145776354639,
          0.48598019269227855,
          0.48598019269227855,
          0
         ],
         "yaxis": "y"
        },
        {
         "hoverinfo": "text",
         "marker": {
          "color": "rgb(35,205,205)"
         },
         "mode": "lines",
         "text": [
          "papua_guinea_nations_governments_countries",
          "",
          "",
          "fiji_peacekeeping_fijians_fijian_nations"
         ],
         "type": "scatter",
         "x": [
          1480,
          1480,
          1507.5,
          1507.5
         ],
         "xaxis": "x",
         "y": [
          0.3567008109526102,
          0.5083504960356187,
          0.5083504960356187,
          0.48598019269227855
         ],
         "yaxis": "y"
        },
        {
         "hoverinfo": "text",
         "marker": {
          "color": "rgb(35,205,205)"
         },
         "mode": "lines",
         "text": [
          "papua_guinea_nations_governments_countries",
          "",
          "",
          "fiji_peacekeeping_fijians_fijian_nations"
         ],
         "type": "scatter",
         "x": [
          1426.09375,
          1426.09375,
          1493.75,
          1493.75
         ],
         "xaxis": "x",
         "y": [
          0.5618234142343864,
          0.6241488728999809,
          0.6241488728999809,
          0.5083504960356187
         ],
         "yaxis": "y"
        },
        {
         "hoverinfo": "text",
         "marker": {
          "color": "rgb(133,20,75)"
         },
         "mode": "lines",
         "text": [
          "tajikistan_tajik_afghanistan_nations_afghan",
          "",
          "",
          "kyrgyzstan_peacekeeping_kyrgyz_kazakhstan_tajikistan"
         ],
         "type": "scatter",
         "x": [
          1535,
          1535,
          1545,
          1545
         ],
         "xaxis": "x",
         "y": [
          0,
          0.5136169580767369,
          0.5136169580767369,
          0
         ],
         "yaxis": "y"
        },
        {
         "hoverinfo": "text",
         "marker": {
          "color": "rgb(133,20,75)"
         },
         "mode": "lines",
         "text": [
          "tajikistan_tajik_afghanistan_nations_afghan",
          "",
          "",
          "treaty_kazakhstan_nations_almaty_kazakh"
         ],
         "type": "scatter",
         "x": [
          1540,
          1540,
          1555,
          1555
         ],
         "xaxis": "x",
         "y": [
          0.5136169580767369,
          0.5847446968711297,
          0.5847446968711297,
          0
         ],
         "yaxis": "y"
        },
        {
         "hoverinfo": "text",
         "marker": {
          "color": "rgb(133,20,75)"
         },
         "mode": "lines",
         "text": [
          "turkmenistan_afghanistan_neutrality_caspian_nations",
          "",
          "",
          "treaty_kazakhstan_nations_almaty_kazakh"
         ],
         "type": "scatter",
         "x": [
          1525,
          1525,
          1547.5,
          1547.5
         ],
         "xaxis": "x",
         "y": [
          0,
          0.6432289247237267,
          0.6432289247237267,
          0.5847446968711297
         ],
         "yaxis": "y"
        },
        {
         "hoverinfo": "text",
         "marker": {
          "color": "rgb(133,20,75)"
         },
         "mode": "lines",
         "text": [
          "yugoslavia_bosnia_herzegovina_croatia_croats",
          "",
          "",
          "bosnia_herzegovina_yugoslavia_sarajevo_serbia"
         ],
         "type": "scatter",
         "x": [
          1575,
          1575,
          1585,
          1585
         ],
         "xaxis": "x",
         "y": [
          0,
          0.5666423320969693,
          0.5666423320969693,
          0
         ],
         "yaxis": "y"
        },
        {
         "hoverinfo": "text",
         "marker": {
          "color": "rgb(133,20,75)"
         },
         "mode": "lines",
         "text": [
          "kosovo_serbia_balkans_nations_serbs",
          "",
          "",
          "bosnia_herzegovina_yugoslavia_sarajevo_serbia"
         ],
         "type": "scatter",
         "x": [
          1565,
          1565,
          1580,
          1580
         ],
         "xaxis": "x",
         "y": [
          0,
          0.6948054226839568,
          0.6948054226839568,
          0.5666423320969693
         ],
         "yaxis": "y"
        },
        {
         "hoverinfo": "text",
         "marker": {
          "color": "rgb(133,20,75)"
         },
         "mode": "lines",
         "text": [
          "disarmament_ukraine_treaty_ukrainian_nations",
          "",
          "",
          "crimea_ukraine_war_humanitarian_russia"
         ],
         "type": "scatter",
         "x": [
          1625,
          1625,
          1635,
          1635
         ],
         "xaxis": "x",
         "y": [
          0,
          0.23077323950306639,
          0.23077323950306639,
          0
         ],
         "yaxis": "y"
        },
        {
         "hoverinfo": "text",
         "marker": {
          "color": "rgb(133,20,75)"
         },
         "mode": "lines",
         "text": [
          "syria_humanitarian_syrian_war_nations",
          "",
          "",
          "refugees_humanitarian_syria_migrants_terrorism"
         ],
         "type": "scatter",
         "x": [
          1655,
          1655,
          1665,
          1665
         ],
         "xaxis": "x",
         "y": [
          0,
          0.2626157577220547,
          0.2626157577220547,
          0
         ],
         "yaxis": "y"
        },
        {
         "hoverinfo": "text",
         "marker": {
          "color": "rgb(133,20,75)"
         },
         "mode": "lines",
         "text": [
          "nations_peace_ireland_council_conflict",
          "",
          "",
          "kampuchea_lebanon_the_of_and"
         ],
         "type": "scatter",
         "x": [
          1645,
          1645,
          1660,
          1660
         ],
         "xaxis": "x",
         "y": [
          0,
          0.3466719409636289,
          0.3466719409636289,
          0.2626157577220547
         ],
         "yaxis": "y"
        },
        {
         "hoverinfo": "text",
         "marker": {
          "color": "rgb(133,20,75)"
         },
         "mode": "lines",
         "text": [
          "nation_nations_war_prosperity_leaders",
          "",
          "",
          "iran_islam_islamic_iranian_peace"
         ],
         "type": "scatter",
         "x": [
          1675,
          1675,
          1685,
          1685
         ],
         "xaxis": "x",
         "y": [
          0,
          0.3274959396644401,
          0.3274959396644401,
          0
         ],
         "yaxis": "y"
        },
        {
         "hoverinfo": "text",
         "marker": {
          "color": "rgb(133,20,75)"
         },
         "mode": "lines",
         "text": [
          "the_of_and_in_to",
          "",
          "",
          "iran_islam_islamic_iranian_peace"
         ],
         "type": "scatter",
         "x": [
          1652.5,
          1652.5,
          1680,
          1680
         ],
         "xaxis": "x",
         "y": [
          0.3466719409636289,
          0.4564600748263558,
          0.4564600748263558,
          0.3274959396644401
         ],
         "yaxis": "y"
        },
        {
         "hoverinfo": "text",
         "marker": {
          "color": "rgb(133,20,75)"
         },
         "mode": "lines",
         "text": [
          "and_the_of_to_we",
          "",
          "",
          "iran_islam_islamic_iranian_peace"
         ],
         "type": "scatter",
         "x": [
          1630,
          1630,
          1666.25,
          1666.25
         ],
         "xaxis": "x",
         "y": [
          0.23077323950306639,
          0.517355630490036,
          0.517355630490036,
          0.4564600748263558
         ],
         "yaxis": "y"
        },
        {
         "hoverinfo": "text",
         "marker": {
          "color": "rgb(133,20,75)"
         },
         "mode": "lines",
         "text": [
          "and_the_of_to_we",
          "",
          "",
          "andorran_andorra_nations_principality_democracy"
         ],
         "type": "scatter",
         "x": [
          1648.125,
          1648.125,
          1695,
          1695
         ],
         "xaxis": "x",
         "y": [
          0.517355630490036,
          0.5433511052935345,
          0.5433511052935345,
          0
         ],
         "yaxis": "y"
        },
        {
         "hoverinfo": "text",
         "marker": {
          "color": "rgb(133,20,75)"
         },
         "mode": "lines",
         "text": [
          "latvia_peacekeeping_baltic_estonia_latvians",
          "",
          "",
          "andorran_andorra_nations_principality_democracy"
         ],
         "type": "scatter",
         "x": [
          1615,
          1615,
          1671.5625,
          1671.5625
         ],
         "xaxis": "x",
         "y": [
          0,
          0.5931787807451336,
          0.5931787807451336,
          0.5433511052935345
         ],
         "yaxis": "y"
        },
        {
         "hoverinfo": "text",
         "marker": {
          "color": "rgb(133,20,75)"
         },
         "mode": "lines",
         "text": [
          "abkhazian_tbilisi_abkhazia_georgians_nato",
          "",
          "",
          "andorran_andorra_nations_principality_democracy"
         ],
         "type": "scatter",
         "x": [
          1605,
          1605,
          1643.28125,
          1643.28125
         ],
         "xaxis": "x",
         "y": [
          0,
          0.6401993730829785,
          0.6401993730829785,
          0.5931787807451336
         ],
         "yaxis": "y"
        },
        {
         "hoverinfo": "text",
         "marker": {
          "color": "rgb(133,20,75)"
         },
         "mode": "lines",
         "text": [
          "macedonia_yugoslavia_nato_kosovo_balkans",
          "",
          "",
          "montenegro_nations_montenegrin_humanitarian_peace"
         ],
         "type": "scatter",
         "x": [
          1705,
          1705,
          1715,
          1715
         ],
         "xaxis": "x",
         "y": [
          0,
          0.4940842133040736,
          0.4940842133040736,
          0
         ],
         "yaxis": "y"
        },
        {
         "hoverinfo": "text",
         "marker": {
          "color": "rgb(133,20,75)"
         },
         "mode": "lines",
         "text": [
          "peacekeeping_nations_globalization_peace_countries",
          "",
          "",
          "globalization_nations_reform_peace_world"
         ],
         "type": "scatter",
         "x": [
          1775,
          1775,
          1785,
          1785
         ],
         "xaxis": "x",
         "y": [
          0,
          0.07382610793577238,
          0.07382610793577238,
          0
         ],
         "yaxis": "y"
        },
        {
         "hoverinfo": "text",
         "marker": {
          "color": "rgb(133,20,75)"
         },
         "mode": "lines",
         "text": [
          "to_and_the_that_of",
          "",
          "",
          "namibia_angola_ethiopia_nations_africa"
         ],
         "type": "scatter",
         "x": [
          1780,
          1780,
          1795,
          1795
         ],
         "xaxis": "x",
         "y": [
          0.07382610793577238,
          0.09841671762540864,
          0.09841671762540864,
          0
         ],
         "yaxis": "y"
        },
        {
         "hoverinfo": "text",
         "marker": {
          "color": "rgb(133,20,75)"
         },
         "mode": "lines",
         "text": [
          "nations_globalization_kosovo_countries_peace",
          "",
          "",
          "and_to_we_the_that"
         ],
         "type": "scatter",
         "x": [
          1765,
          1765,
          1787.5,
          1787.5
         ],
         "xaxis": "x",
         "y": [
          0,
          0.12311109198846856,
          0.12311109198846856,
          0.09841671762540864
         ],
         "yaxis": "y"
        },
        {
         "hoverinfo": "text",
         "marker": {
          "color": "rgb(133,20,75)"
         },
         "mode": "lines",
         "text": [
          "and_to_we_the_our",
          "",
          "",
          "portugal_angola_nations_timor_portuguese"
         ],
         "type": "scatter",
         "x": [
          1776.25,
          1776.25,
          1805,
          1805
         ],
         "xaxis": "x",
         "y": [
          0.12311109198846856,
          0.20663808146998516,
          0.20663808146998516,
          0
         ],
         "yaxis": "y"
        },
        {
         "hoverinfo": "text",
         "marker": {
          "color": "rgb(133,20,75)"
         },
         "mode": "lines",
         "text": [
          "sudan_darfur_humanitarian_sudanese_peace",
          "",
          "",
          "portugal_angola_nations_timor_portuguese"
         ],
         "type": "scatter",
         "x": [
          1755,
          1755,
          1790.625,
          1790.625
         ],
         "xaxis": "x",
         "y": [
          0,
          0.2548527057166098,
          0.2548527057166098,
          0.20663808146998516
         ],
         "yaxis": "y"
        },
        {
         "hoverinfo": "text",
         "marker": {
          "color": "rgb(133,20,75)"
         },
         "mode": "lines",
         "text": [
          "iraq_timor_terrorism_nations_countries",
          "",
          "",
          "annan_terrorism_terrorist_terrorists_peace"
         ],
         "type": "scatter",
         "x": [
          1815,
          1815,
          1825,
          1825
         ],
         "xaxis": "x",
         "y": [
          0,
          0.07348586029962778,
          0.07348586029962778,
          0
         ],
         "yaxis": "y"
        },
        {
         "hoverinfo": "text",
         "marker": {
          "color": "rgb(133,20,75)"
         },
         "mode": "lines",
         "text": [
          "the_of_in_and_to",
          "",
          "",
          "terrorism_terrorists_terrorist_terror_taliban"
         ],
         "type": "scatter",
         "x": [
          1820,
          1820,
          1835,
          1835
         ],
         "xaxis": "x",
         "y": [
          0.07348586029962778,
          0.15165946636290073,
          0.15165946636290073,
          0
         ],
         "yaxis": "y"
        },
        {
         "hoverinfo": "text",
         "marker": {
          "color": "rgb(133,20,75)"
         },
         "mode": "lines",
         "text": [
          "the_of_in_and_to",
          "",
          "",
          "terrorism_terrorists_terrorist_terror_taliban"
         ],
         "type": "scatter",
         "x": [
          1772.8125,
          1772.8125,
          1827.5,
          1827.5
         ],
         "xaxis": "x",
         "y": [
          0.2548527057166098,
          0.27037662187078615,
          0.27037662187078615,
          0.15165946636290073
         ],
         "yaxis": "y"
        },
        {
         "hoverinfo": "text",
         "marker": {
          "color": "rgb(133,20,75)"
         },
         "mode": "lines",
         "text": [
          "mediation_peaceful_sudan_peace_libya",
          "",
          "",
          "terrorism_terrorists_terrorist_terror_taliban"
         ],
         "type": "scatter",
         "x": [
          1745,
          1745,
          1800.15625,
          1800.15625
         ],
         "xaxis": "x",
         "y": [
          0,
          0.31119890329548694,
          0.31119890329548694,
          0.27037662187078615
         ],
         "yaxis": "y"
        },
        {
         "hoverinfo": "text",
         "marker": {
          "color": "rgb(133,20,75)"
         },
         "mode": "lines",
         "text": [
          "mediation_peaceful_sudan_peace_libya",
          "",
          "",
          "gambia_gambian_gambians_sahel_nations"
         ],
         "type": "scatter",
         "x": [
          1772.578125,
          1772.578125,
          1845,
          1845
         ],
         "xaxis": "x",
         "y": [
          0.31119890329548694,
          0.32801044222011816,
          0.32801044222011816,
          0
         ],
         "yaxis": "y"
        },
        {
         "hoverinfo": "text",
         "marker": {
          "color": "rgb(133,20,75)"
         },
         "mode": "lines",
         "text": [
          "mediation_peaceful_sudan_peace_libya",
          "",
          "",
          "leone_leoneans_nations_africa_delegation"
         ],
         "type": "scatter",
         "x": [
          1808.7890625,
          1808.7890625,
          1855,
          1855
         ],
         "xaxis": "x",
         "y": [
          0.32801044222011816,
          0.390608435194064,
          0.390608435194064,
          0
         ],
         "yaxis": "y"
        },
        {
         "hoverinfo": "text",
         "marker": {
          "color": "rgb(133,20,75)"
         },
         "mode": "lines",
         "text": [
          "somaliland_somalia_somalis_somali_ethiopia",
          "",
          "",
          "leone_leoneans_nations_africa_delegation"
         ],
         "type": "scatter",
         "x": [
          1735,
          1735,
          1831.89453125,
          1831.89453125
         ],
         "xaxis": "x",
         "y": [
          0,
          0.4013611758255928,
          0.4013611758255928,
          0.390608435194064
         ],
         "yaxis": "y"
        },
        {
         "hoverinfo": "text",
         "marker": {
          "color": "rgb(133,20,75)"
         },
         "mode": "lines",
         "text": [
          "climate_sustainable_nations_agenda_environment",
          "",
          "",
          "poverty_africa_nations_agenda_countries"
         ],
         "type": "scatter",
         "x": [
          1885,
          1885,
          1895,
          1895
         ],
         "xaxis": "x",
         "y": [
          0,
          0.06484784493587059,
          0.06484784493587059,
          0
         ],
         "yaxis": "y"
        },
        {
         "hoverinfo": "text",
         "marker": {
          "color": "rgb(133,20,75)"
         },
         "mode": "lines",
         "text": [
          "nations_terrorism_peace_countries_world",
          "",
          "",
          "of_the_to_and_in"
         ],
         "type": "scatter",
         "x": [
          1875,
          1875,
          1890,
          1890
         ],
         "xaxis": "x",
         "y": [
          0,
          0.09728711025317861,
          0.09728711025317861,
          0.06484784493587059
         ],
         "yaxis": "y"
        },
        {
         "hoverinfo": "text",
         "marker": {
          "color": "rgb(133,20,75)"
         },
         "mode": "lines",
         "text": [
          "of_the_to_and_in",
          "",
          "",
          "nations_malawi_agenda_world_countries"
         ],
         "type": "scatter",
         "x": [
          1882.5,
          1882.5,
          1905,
          1905
         ],
         "xaxis": "x",
         "y": [
          0.09728711025317861,
          0.1823892346091953,
          0.1823892346091953,
          0
         ],
         "yaxis": "y"
        },
        {
         "hoverinfo": "text",
         "marker": {
          "color": "rgb(133,20,75)"
         },
         "mode": "lines",
         "text": [
          "pandemic_coronavirus_multilateralism_covid_vaccines",
          "",
          "",
          "nations_malawi_agenda_world_countries"
         ],
         "type": "scatter",
         "x": [
          1865,
          1865,
          1893.75,
          1893.75
         ],
         "xaxis": "x",
         "y": [
          0,
          0.21070701593516683,
          0.21070701593516683,
          0.1823892346091953
         ],
         "yaxis": "y"
        },
        {
         "hoverinfo": "text",
         "marker": {
          "color": "rgb(133,20,75)"
         },
         "mode": "lines",
         "text": [
          "pandemic_coronavirus_multilateralism_covid_vaccines",
          "",
          "",
          "multilateralism_multilateral_nations_peace_agenda"
         ],
         "type": "scatter",
         "x": [
          1879.375,
          1879.375,
          1915,
          1915
         ],
         "xaxis": "x",
         "y": [
          0.21070701593516683,
          0.2289405656498784,
          0.2289405656498784,
          0
         ],
         "yaxis": "y"
        },
        {
         "hoverinfo": "text",
         "marker": {
          "color": "rgb(133,20,75)"
         },
         "mode": "lines",
         "text": [
          "poverty_agriculture_food_hunger_mali",
          "",
          "",
          "multilateralism_economies_economy_governance_economic"
         ],
         "type": "scatter",
         "x": [
          1925,
          1925,
          1935,
          1935
         ],
         "xaxis": "x",
         "y": [
          0,
          0.20846714746542216,
          0.20846714746542216,
          0
         ],
         "yaxis": "y"
        },
        {
         "hoverinfo": "text",
         "marker": {
          "color": "rgb(133,20,75)"
         },
         "mode": "lines",
         "text": [
          "poverty_agriculture_food_hunger_mali",
          "",
          "",
          "netherlands_irian_the_to_of"
         ],
         "type": "scatter",
         "x": [
          1897.1875,
          1897.1875,
          1930,
          1930
         ],
         "xaxis": "x",
         "y": [
          0.2289405656498784,
          0.24748529024644594,
          0.24748529024644594,
          0.20846714746542216
         ],
         "yaxis": "y"
        },
        {
         "hoverinfo": "text",
         "marker": {
          "color": "rgb(133,20,75)"
         },
         "mode": "lines",
         "text": [
          "poverty_agriculture_food_hunger_mali",
          "",
          "",
          "netherlands_irian_the_to_of"
         ],
         "type": "scatter",
         "x": [
          1783.447265625,
          1783.447265625,
          1913.59375,
          1913.59375
         ],
         "xaxis": "x",
         "y": [
          0.4013611758255928,
          0.42181172203711803,
          0.42181172203711803,
          0.24748529024644594
         ],
         "yaxis": "y"
        },
        {
         "hoverinfo": "text",
         "marker": {
          "color": "rgb(133,20,75)"
         },
         "mode": "lines",
         "text": [
          "poverty_agriculture_food_hunger_mali",
          "",
          "",
          "malawi_mozambique_zambia_angola_africa"
         ],
         "type": "scatter",
         "x": [
          1848.5205078125,
          1848.5205078125,
          1945,
          1945
         ],
         "xaxis": "x",
         "y": [
          0.42181172203711803,
          0.4514028151764991,
          0.4514028151764991,
          0
         ],
         "yaxis": "y"
        },
        {
         "hoverinfo": "text",
         "marker": {
          "color": "rgb(133,20,75)"
         },
         "mode": "lines",
         "text": [
          "nations_verde_countries_cabo_africa",
          "",
          "",
          "malawi_mozambique_zambia_angola_africa"
         ],
         "type": "scatter",
         "x": [
          1725,
          1725,
          1896.76025390625,
          1896.76025390625
         ],
         "xaxis": "x",
         "y": [
          0,
          0.4896746970747732,
          0.4896746970747732,
          0.4514028151764991
         ],
         "yaxis": "y"
        },
        {
         "hoverinfo": "text",
         "marker": {
          "color": "rgb(133,20,75)"
         },
         "mode": "lines",
         "text": [
          "nations_verde_countries_cabo_africa",
          "",
          "",
          "bhutan_bangladesh_nations_countries_agenda"
         ],
         "type": "scatter",
         "x": [
          1810.880126953125,
          1810.880126953125,
          1955,
          1955
         ],
         "xaxis": "x",
         "y": [
          0.4896746970747732,
          0.5023687069112563,
          0.5023687069112563,
          0
         ],
         "yaxis": "y"
        },
        {
         "hoverinfo": "text",
         "marker": {
          "color": "rgb(133,20,75)"
         },
         "mode": "lines",
         "text": [
          "nations_verde_countries_cabo_africa",
          "",
          "",
          "maldives_democracy_maldivian_nations_election"
         ],
         "type": "scatter",
         "x": [
          1882.9400634765625,
          1882.9400634765625,
          1965,
          1965
         ],
         "xaxis": "x",
         "y": [
          0.5023687069112563,
          0.5143885833929085,
          0.5143885833929085,
          0
         ],
         "yaxis": "y"
        },
        {
         "hoverinfo": "text",
         "marker": {
          "color": "rgb(133,20,75)"
         },
         "mode": "lines",
         "text": [
          "nations_verde_countries_cabo_africa",
          "",
          "",
          "maldives_democracy_maldivian_nations_election"
         ],
         "type": "scatter",
         "x": [
          1710,
          1710,
          1923.9700317382812,
          1923.9700317382812
         ],
         "xaxis": "x",
         "y": [
          0.4940842133040736,
          0.5741832995540649,
          0.5741832995540649,
          0.5143885833929085
         ],
         "yaxis": "y"
        },
        {
         "hoverinfo": "text",
         "marker": {
          "color": "rgb(133,20,75)"
         },
         "mode": "lines",
         "text": [
          "nations_verde_countries_cabo_africa",
          "",
          "",
          "eritrea_ethiopia_sudan_eritreans_eritrean"
         ],
         "type": "scatter",
         "x": [
          1816.9850158691406,
          1816.9850158691406,
          1975,
          1975
         ],
         "xaxis": "x",
         "y": [
          0.5741832995540649,
          0.6781397458271649,
          0.6781397458271649,
          0
         ],
         "yaxis": "y"
        },
        {
         "hoverinfo": "text",
         "marker": {
          "color": "rgb(133,20,75)"
         },
         "mode": "lines",
         "text": [
          "nations_verde_countries_cabo_africa",
          "",
          "",
          "eritrea_ethiopia_sudan_eritreans_eritrean"
         ],
         "type": "scatter",
         "x": [
          1624.140625,
          1624.140625,
          1895.9925079345703,
          1895.9925079345703
         ],
         "xaxis": "x",
         "y": [
          0.6401993730829785,
          0.6928939943800805,
          0.6928939943800805,
          0.6781397458271649
         ],
         "yaxis": "y"
        },
        {
         "hoverinfo": "text",
         "marker": {
          "color": "rgb(133,20,75)"
         },
         "mode": "lines",
         "text": [
          "timor_timorese_asean_indonesia_myanmar",
          "",
          "",
          "eritrea_ethiopia_sudan_eritreans_eritrean"
         ],
         "type": "scatter",
         "x": [
          1595,
          1595,
          1760.0665664672852,
          1760.0665664672852
         ],
         "xaxis": "x",
         "y": [
          0,
          0.7020550181354082,
          0.7020550181354082,
          0.6928939943800805
         ],
         "yaxis": "y"
        },
        {
         "hoverinfo": "text",
         "marker": {
          "color": "rgb(133,20,75)"
         },
         "mode": "lines",
         "text": [
          "slovakia_peacekeeping_kosovo_treaty_bratislava",
          "",
          "",
          "moldova_peacekeeping_moldovan_ukraine_nations"
         ],
         "type": "scatter",
         "x": [
          1985,
          1985,
          1995,
          1995
         ],
         "xaxis": "x",
         "y": [
          0,
          0.6149901198074743,
          0.6149901198074743,
          0
         ],
         "yaxis": "y"
        },
        {
         "hoverinfo": "text",
         "marker": {
          "color": "rgb(133,20,75)"
         },
         "mode": "lines",
         "text": [
          "slovakia_peacekeeping_kosovo_treaty_bratislava",
          "",
          "",
          "multilateralism_nations_humanitarian_president_agenda"
         ],
         "type": "scatter",
         "x": [
          1990,
          1990,
          2005,
          2005
         ],
         "xaxis": "x",
         "y": [
          0.6149901198074743,
          0.6675854096767433,
          0.6675854096767433,
          0
         ],
         "yaxis": "y"
        },
        {
         "hoverinfo": "text",
         "marker": {
          "color": "rgb(133,20,75)"
         },
         "mode": "lines",
         "text": [
          "slovakia_peacekeeping_kosovo_treaty_bratislava",
          "",
          "",
          "multilateralism_nations_humanitarian_president_agenda"
         ],
         "type": "scatter",
         "x": [
          1677.5332832336426,
          1677.5332832336426,
          1997.5,
          1997.5
         ],
         "xaxis": "x",
         "y": [
          0.7020550181354082,
          0.7190817527199372,
          0.7190817527199372,
          0.6675854096767433
         ],
         "yaxis": "y"
        },
        {
         "hoverinfo": "text",
         "marker": {
          "color": "rgb(133,20,75)"
         },
         "mode": "lines",
         "text": [
          "slovakia_peacekeeping_kosovo_treaty_bratislava",
          "",
          "",
          "azerbaijan_armenia_genocide_humanitarian_armenians"
         ],
         "type": "scatter",
         "x": [
          1837.5166416168213,
          1837.5166416168213,
          2015,
          2015
         ],
         "xaxis": "x",
         "y": [
          0.7190817527199372,
          0.7732992539145755,
          0.7732992539145755,
          0
         ],
         "yaxis": "y"
        },
        {
         "hoverinfo": "text",
         "marker": {
          "color": "rgb(133,20,75)"
         },
         "mode": "lines",
         "text": [
          "slovakia_peacekeeping_kosovo_treaty_bratislava",
          "",
          "",
          "azerbaijan_armenia_genocide_humanitarian_armenians"
         ],
         "type": "scatter",
         "x": [
          1572.5,
          1572.5,
          1926.2583208084106,
          1926.2583208084106
         ],
         "xaxis": "x",
         "y": [
          0.6948054226839568,
          0.8324849312048925,
          0.8324849312048925,
          0.7732992539145755
         ],
         "yaxis": "y"
        },
        {
         "hoverinfo": "text",
         "marker": {
          "color": "rgb(133,20,75)"
         },
         "mode": "lines",
         "text": [
          "slovakia_peacekeeping_kosovo_treaty_bratislava",
          "",
          "",
          "azerbaijan_armenia_genocide_humanitarian_armenians"
         ],
         "type": "scatter",
         "x": [
          1536.25,
          1536.25,
          1749.3791604042053,
          1749.3791604042053
         ],
         "xaxis": "x",
         "y": [
          0.6432289247237267,
          0.9322841889202395,
          0.9322841889202395,
          0.8324849312048925
         ],
         "yaxis": "y"
        },
        {
         "hoverinfo": "text",
         "marker": {
          "color": "rgb(0,116,217)"
         },
         "mode": "lines",
         "text": [
          "slovakia_peacekeeping_kosovo_treaty_bratislava",
          "",
          "",
          "azerbaijan_armenia_genocide_humanitarian_armenians"
         ],
         "type": "scatter",
         "x": [
          1459.921875,
          1459.921875,
          1642.8145802021027,
          1642.8145802021027
         ],
         "xaxis": "x",
         "y": [
          0.6241488728999809,
          1.205355785250925,
          1.205355785250925,
          0.9322841889202395
         ],
         "yaxis": "y"
        },
        {
         "hoverinfo": "text",
         "marker": {
          "color": "rgb(0,116,217)"
         },
         "mode": "lines",
         "text": [
          "slovakia_peacekeeping_kosovo_treaty_bratislava",
          "",
          "",
          "azerbaijan_armenia_genocide_humanitarian_armenians"
         ],
         "type": "scatter",
         "x": [
          498.05139541625977,
          498.05139541625977,
          1551.3682276010513,
          1551.3682276010513
         ],
         "xaxis": "x",
         "y": [
          1.0413477150028112,
          1.5326036954216786,
          1.5326036954216786,
          1.205355785250925
         ],
         "yaxis": "y"
        },
        {
         "hoverinfo": "text",
         "hovertext": [
          "the_to_and_of_in",
          "libya_libyan_libyans_algeria_jamahiriya",
          "peaceful_uae_iraq_sultanate_yemen",
          "peaceful_uae_iraq_sultanate_yemen",
          "the_to_and_of_that",
          "the_of_and_in_to",
          "guinea_guinean_nations_africa_colonialism",
          "guinea_guinean_nations_africa_colonialism",
          "mauritania_mauritanian_maghreb_nations_africa",
          "burkina_faso_gabon_mali_senegal",
          "burundi_rwanda_burundian_africa_refugees",
          "nations_mexico_countries_peace_war",
          "the_of_to_in_and",
          "zimbabwe_nations_namibia_africa_regime",
          "peaceful_disarmament_nations_countries_peace",
          "peaceful_disarmament_nations_countries_peace",
          "niger_nigeria_nigerian_nations_africa",
          "tanzania_africa_rhodesia_apartheid_president",
          "ethiopia_eritrea_somalia_africa_nations",
          "ethiopia_eritrea_somalia_africa_nations",
          "ethiopia_eritrea_somalia_africa_nations",
          "kenya_nairobi_sudan_somalia_nations",
          "swaziland_swazi_peaceful_nations_africa",
          "uganda_rwanda_congo_angola_amin",
          "uganda_rwanda_congo_angola_amin",
          "uganda_rwanda_congo_angola_amin",
          "and_the_to_of_in",
          "malta_nations_neutrality_peace_countries",
          "sweden_disarmament_denmark_nations_swedish",
          "sweden_disarmament_denmark_nations_swedish",
          "disarmament_nations_nuclear_japan_countries",
          "the_of_and_to_in",
          "the_of_and_to_in",
          "the_of_and_to_in",
          "the_of_and_to_in",
          "italy_disarmament_nations_italian_countries",
          "philippines_philippine_asean_manila_filipino",
          "philippines_philippine_asean_manila_filipino",
          "philippines_philippine_asean_manila_filipino",
          "the_of_to_in_and",
          "disarmament_pakistan_peaceful_afghanistan_nations",
          "disarmament_pakistan_peaceful_afghanistan_nations",
          "disarmament_treaty_peaceful_nations_peace",
          "of_the_to_and_in",
          "treaty_disarmament_peaceful_czechoslovakia_nations",
          "treaty_disarmament_peaceful_czechoslovakia_nations",
          "treaty_disarmament_peaceful_czechoslovakia_nations",
          "treaty_disarmament_peaceful_czechoslovakia_nations",
          "treaty_disarmament_peaceful_czechoslovakia_nations",
          "treaty_disarmament_peaceful_czechoslovakia_nations",
          "treaty_disarmament_peaceful_czechoslovakia_nations",
          "chile_chilean_nations_countries_government",
          "the_of_and_to_in",
          "the_of_and_to_in",
          "the_of_and_to_in",
          "ecuador_ecuadorian_nations_peru_countries",
          "ecuador_ecuadorian_nations_peru_countries",
          "ecuador_ecuadorian_nations_peru_countries",
          "nicaragua_nicaraguan_nicaraguans_honduras_cuba",
          "nicaragua_nicaraguan_nicaraguans_honduras_cuba",
          "dominica_nations_lucia_barbados_countries",
          "belize_guatemala_belizeans_belizean_panama",
          "tobago_trinidad_nations_countries_caribbean",
          "tobago_trinidad_nations_countries_caribbean",
          "tobago_trinidad_nations_countries_caribbean",
          "tobago_trinidad_nations_countries_caribbean",
          "seychelles_mauritius_nations_countries_africa",
          "nauru_fiji_nations_governance_countries",
          "papua_guinea_nations_governments_countries",
          "papua_guinea_nations_governments_countries",
          "papua_guinea_nations_governments_countries",
          "tajikistan_tajik_afghanistan_nations_afghan",
          "the_of_and_in_to",
          "and_the_of_to_we",
          "and_the_of_to_we",
          "to_and_the_that_of",
          "and_to_we_the_our",
          "the_of_in_and_to",
          "the_of_in_and_to",
          "mediation_peaceful_sudan_peace_libya",
          "mediation_peaceful_sudan_peace_libya",
          "of_the_to_and_in",
          "pandemic_coronavirus_multilateralism_covid_vaccines",
          "poverty_agriculture_food_hunger_mali",
          "poverty_agriculture_food_hunger_mali",
          "poverty_agriculture_food_hunger_mali",
          "nations_verde_countries_cabo_africa",
          "nations_verde_countries_cabo_africa",
          "nations_verde_countries_cabo_africa",
          "nations_verde_countries_cabo_africa",
          "nations_verde_countries_cabo_africa",
          "slovakia_peacekeeping_kosovo_treaty_bratislava",
          "slovakia_peacekeeping_kosovo_treaty_bratislava",
          "slovakia_peacekeeping_kosovo_treaty_bratislava",
          "slovakia_peacekeeping_kosovo_treaty_bratislava",
          "slovakia_peacekeeping_kosovo_treaty_bratislava",
          "slovakia_peacekeeping_kosovo_treaty_bratislava",
          "slovakia_peacekeeping_kosovo_treaty_bratislava"
         ],
         "marker": {
          "color": "black"
         },
         "mode": "markers",
         "showlegend": false,
         "type": "scatter",
         "x": [
          70,
          66.25,
          62.8125,
          86.40625,
          30,
          10,
          180,
          191.25,
          186.5625,
          184.140625,
          183.53515625,
          332.5,
          390,
          386.25,
          384.0625,
          329.375,
          500,
          496.25,
          492.8125,
          452.5,
          337.2265625,
          352.607421875,
          452.5537109375,
          400.638427734375,
          497.8192138671875,
          182.1337890625,
          642.5,
          639.375,
          657.1875,
          673.59375,
          652.1484375,
          900,
          872.5,
          842.5,
          866.25,
          860.3125,
          830.6640625,
          782.5,
          752.5,
          730,
          761.91650390625,
          683.57421875,
          1040,
          1090,
          1037.5,
          1061.875,
          1010,
          1049.21875,
          982.5,
          772.2662353515625,
          366.7716979980469,
          1230,
          1226.25,
          1200,
          1220.3125,
          1213.828125,
          1170,
          1150,
          1292.5,
          1178.603515625,
          1350,
          1347.5,
          1345.625,
          1188.08837890625,
          635.1535797119141,
          38.92578125,
          1432.5,
          1429.375,
          1500,
          1480,
          1426.09375,
          1540,
          1652.5,
          1630,
          1648.125,
          1780,
          1776.25,
          1820,
          1772.8125,
          1772.578125,
          1808.7890625,
          1882.5,
          1879.375,
          1897.1875,
          1783.447265625,
          1848.5205078125,
          1810.880126953125,
          1882.9400634765625,
          1710,
          1816.9850158691406,
          1624.140625,
          1990,
          1677.5332832336426,
          1837.5166416168213,
          1572.5,
          1536.25,
          1459.921875,
          498.05139541625977
         ],
         "y": [
          0.17784697161677876,
          0.33531286590544457,
          0.38781248569671267,
          0.4020632958727665,
          0.2311399663555781,
          0.26485020691464867,
          0.2770532496772422,
          0.2796775326884274,
          0.34439059214731055,
          0.40915378065727726,
          0.4240833616053937,
          0.09369359563229585,
          0.06090842896300397,
          0.09383870935730088,
          0.14724919181675866,
          0.17437697122270576,
          0.11479536145883884,
          0.16903045879388087,
          0.23755357210643444,
          0.18361934609065922,
          0.27455364245783054,
          0.3002272676244656,
          0.3689523279567022,
          0.4013302064051062,
          0.4206271338515231,
          0.5227572594096725,
          0.12475110894564735,
          0.31725036521150124,
          0.347709341809825,
          0.36809363613853213,
          0.4238019744282897,
          0.08694651362996919,
          0.13254061742959972,
          0.16030306424674282,
          0.17184020625498098,
          0.210507278105562,
          0.30904455033933526,
          0.2992824501698443,
          0.22301250509617415,
          0.23097098834238183,
          0.48297805998183896,
          0.4296002001755323,
          0.18186157804538272,
          0.07161465427133484,
          0.24780285444301423,
          0.2615016239510435,
          0.3695646600964304,
          0.41659361362719327,
          0.38157109302991377,
          0.5207875206264126,
          0.5548986088577583,
          0.19319574318607768,
          0.21478523981597425,
          0.22940533313594558,
          0.27188747421682247,
          0.28832236080600804,
          0.31585321476704387,
          0.30527880518288253,
          0.3034669924271764,
          0.38414971747015114,
          0.24850955549806497,
          0.352330153997839,
          0.5037858973156524,
          0.44643298859733954,
          0.8158332564729625,
          0.6257801584179891,
          0.3062768757369854,
          0.4429447549517595,
          0.3739145776354639,
          0.3567008109526102,
          0.5618234142343864,
          0.5136169580767369,
          0.3466719409636289,
          0.23077323950306639,
          0.517355630490036,
          0.07382610793577238,
          0.12311109198846856,
          0.07348586029962778,
          0.2548527057166098,
          0.31119890329548694,
          0.32801044222011816,
          0.09728711025317861,
          0.21070701593516683,
          0.2289405656498784,
          0.4013611758255928,
          0.42181172203711803,
          0.4896746970747732,
          0.5023687069112563,
          0.4940842133040736,
          0.5741832995540649,
          0.6401993730829785,
          0.6149901198074743,
          0.7020550181354082,
          0.7190817527199372,
          0.6948054226839568,
          0.6432289247237267,
          0.6241488728999809,
          1.0413477150028112
         ]
        },
        {
         "hoverinfo": "text",
         "hovertext": [
          "kuwait_kuwaiti_humanitarian_iraq_palestine",
          "amman_palestine_jordanian_palestinian_jordan",
          "and_the_to_of_in",
          "lebanon_beirut_palestine_lebanese_palestinians",
          "lebanon_beirut_palestine_lebanese_palestinians",
          "congo_africa_nations_president_countries",
          "congo_africa_nations_president_countries",
          "rwanda_rwandan_genocide_congo_kabila",
          "morocco_maghreb_algeria_nations_algerian",
          "morocco_maghreb_algeria_nations_algerian",
          "mali_malian_sahel_africa_nations",
          "mali_malian_sahel_africa_nations",
          "libya_chadian_libyan_nations_chad",
          "disarmament_peaceful_peace_nations_afghanistan",
          "peaceful_nations_peace_negotiations_countries",
          "the_of_to_in_and",
          "the_of_to_in_and",
          "the_of_to_in_and",
          "tunisia_tunisian_maghreb_nations_president",
          "tunisia_tunisian_maghreb_nations_president",
          "rhodesia_nigeria_africa_nations_delegation",
          "ghana_rhodesia_disarmament_nations_africa",
          "cameroon_cameroons_nations_africa_delegation",
          "liberia_liberians_liberian_africa_nations",
          "liberia_liberians_liberian_africa_nations",
          "liberia_liberians_liberian_africa_nations",
          "botswana_angola_namibia_rhodesia_apartheid",
          "botswana_angola_namibia_rhodesia_apartheid",
          "nepal_disarmament_nations_countries_delegation",
          "nepal_disarmament_nations_countries_delegation",
          "lanka_sri_colombo_nations_countries",
          "nations_countries_democracy_peace_korea",
          "peaceful_peace_nations_afghanistan_lebanon",
          "treaty_disarmament_peaceful_finland_nations",
          "suriname_treaty_nations_countries_government",
          "the_of_and_in_to",
          "the_of_in_and_to",
          "nations_india_countries_peace_indian",
          "malaya_disarmament_nations_malaysia_peace",
          "nations_countries_europe_peace_belgium",
          "nations_countries_europe_peace_belgium",
          "disarmament_nations_denmark_iceland_nation",
          "nations_countries_peace_negotiations_netherlands",
          "nations_countries_peace_negotiations_netherlands",
          "asean_thailand_nations_asia_countries",
          "asean_thailand_nations_asia_countries",
          "asean_thailand_nations_asia_countries",
          "the_of_to_and_that",
          "the_of_to_and_that",
          "asean_peaceful_viet_cambodia_nam",
          "poland_disarmament_polish_nations_peaceful",
          "poland_disarmament_polish_nations_peaceful",
          "of_the_to_in_and",
          "of_the_to_in_and",
          "treaty_mongolia_disarmament_soviet_peaceful",
          "korea_peaceful_sovereignty_reunification_kim",
          "korea_peaceful_sovereignty_reunification_kim",
          "korea_peaceful_sovereignty_reunification_kim",
          "uruguay_nations_uruguayan_countries_peace",
          "peru_peruvian_nations_countries_democracy",
          "brazil_disarmament_nations_countries_brazilian",
          "bolivia_bolivian_bolivians_nations_chile",
          "bolivia_bolivian_bolivians_nations_chile",
          "salvador_salvadorian_salvadorans_nations_peace",
          "rica_nations_countries_peace_democracy",
          "rica_nations_countries_peace_democracy",
          "of_the_and_in_to",
          "of_the_and_in_to",
          "grenada_nations_countries_cuba_peace",
          "bahamas_haiti_bahamian_caribbean_nations",
          "bahamas_haiti_bahamian_caribbean_nations",
          "bahamas_haiti_bahamian_caribbean_nations",
          "climate_haiti_bahamas_dominica_barbados",
          "kiribati_un_agenda_acknowledge_climate",
          "palau_palauan_un_nations_micronesia",
          "fiji_peacekeeping_fijians_fijian_nations",
          "fiji_peacekeeping_fijians_fijian_nations",
          "treaty_kazakhstan_nations_almaty_kazakh",
          "bosnia_herzegovina_yugoslavia_sarajevo_serbia",
          "kampuchea_lebanon_the_of_and",
          "iran_islam_islamic_iranian_peace",
          "iran_islam_islamic_iranian_peace",
          "andorran_andorra_nations_principality_democracy",
          "andorran_andorra_nations_principality_democracy",
          "and_to_we_the_that",
          "portugal_angola_nations_timor_portuguese",
          "terrorism_terrorists_terrorist_terror_taliban",
          "terrorism_terrorists_terrorist_terror_taliban",
          "leone_leoneans_nations_africa_delegation",
          "of_the_to_and_in",
          "nations_malawi_agenda_world_countries",
          "netherlands_irian_the_to_of",
          "netherlands_irian_the_to_of",
          "malawi_mozambique_zambia_angola_africa",
          "maldives_democracy_maldivian_nations_election",
          "eritrea_ethiopia_sudan_eritreans_eritrean",
          "eritrea_ethiopia_sudan_eritreans_eritrean",
          "multilateralism_nations_humanitarian_president_agenda",
          "azerbaijan_armenia_genocide_humanitarian_armenians",
          "azerbaijan_armenia_genocide_humanitarian_armenians",
          "azerbaijan_armenia_genocide_humanitarian_armenians",
          "azerbaijan_armenia_genocide_humanitarian_armenians"
         ],
         "marker": {
          "color": "black"
         },
         "mode": "markers",
         "showlegend": false,
         "type": "scatter",
         "x": [
          77.5,
          80.625,
          110,
          105.703125,
          67.8515625,
          210,
          202.5,
          208.125,
          240,
          213.28125,
          260,
          222.0703125,
          229.267578125,
          340,
          343.75,
          397.5,
          420,
          403.125,
          409.53125,
          369.453125,
          460,
          507.5,
          510.625,
          513.90625,
          483.203125,
          410.21484375,
          560,
          552.5,
          580,
          516.27685546875,
          551.4096069335938,
          650,
          653.75,
          690,
          689.296875,
          760,
          790,
          850,
          880,
          907.5,
          890,
          895.625,
          897.65625,
          856.328125,
          887.83203125,
          835.166015625,
          793.8330078125,
          960,
          860.958251953125,
          990,
          1060,
          1050,
          1097.5,
          1086.25,
          1088.4375,
          1087.109375,
          1034.8046875,
          903.5354614257812,
          1237.5,
          1240.625,
          1242.65625,
          1244.4140625,
          1207.20703125,
          1300,
          1303.75,
          1241.1767578125,
          1370,
          1360,
          1366.25,
          1370.3125,
          1279.200439453125,
          957.1770095825195,
          1440,
          1443.75,
          1447.1875,
          1507.5,
          1493.75,
          1547.5,
          1580,
          1660,
          1680,
          1666.25,
          1671.5625,
          1643.28125,
          1787.5,
          1790.625,
          1827.5,
          1800.15625,
          1831.89453125,
          1890,
          1893.75,
          1930,
          1913.59375,
          1896.76025390625,
          1923.9700317382812,
          1895.9925079345703,
          1760.0665664672852,
          1997.5,
          1926.2583208084106,
          1749.3791604042053,
          1642.8145802021027,
          1551.3682276010513
         ],
         "y": [
          0.30031456242754373,
          0.37551536142122277,
          0.2410577419758526,
          0.4402573120068838,
          0.4551330374831629,
          0.19358569762726974,
          0.22455431525490818,
          0.30517396512499606,
          0.3307222903526468,
          0.3969286520987508,
          0.38010422771922414,
          0.41723249425962394,
          0.47107622492540085,
          0.08259255179755898,
          0.12027554397905893,
          0.0808695472313066,
          0.0697702041393704,
          0.12817363916934466,
          0.20274878999974316,
          0.21216358279824776,
          0.1274550080123963,
          0.14705985039908845,
          0.19791051869486623,
          0.24505683911326648,
          0.2677272039175586,
          0.29446656810924,
          0.29624076491241835,
          0.3164358144274642,
          0.3799009424423322,
          0.39868123521448784,
          0.45117670951676236,
          0.10907638407639786,
          0.17073343704875438,
          0.2583507451739139,
          0.37991475334854546,
          0.15460690724989024,
          0.2355550653567009,
          0.1399327301024108,
          0.0882576465715239,
          0.12116375611133903,
          0.15087697957280177,
          0.1972239116904845,
          0.2359243092556816,
          0.24178264140356684,
          0.314829070451089,
          0.3430535014174318,
          0.35238189652762514,
          0.3424212788600669,
          0.4979432821248052,
          0.34023246724034073,
          0.18339823827525226,
          0.2334725139641728,
          0.09507330202660497,
          0.17251194240824871,
          0.381896442296765,
          0.5749927460064589,
          0.5817321279344373,
          0.699232439646637,
          0.19857319538708953,
          0.24277292758834873,
          0.2840076239109802,
          0.3304451956755423,
          0.353826957368215,
          0.23914811921027512,
          0.35587458107413084,
          0.4191754074916865,
          0.22698986884119166,
          0.3212562544147727,
          0.42711796062226404,
          0.537617723056461,
          0.7853397848193373,
          0.903732187079664,
          0.23681018720149793,
          0.3787737561390863,
          0.5332719225089815,
          0.48598019269227855,
          0.5083504960356187,
          0.5847446968711297,
          0.5666423320969693,
          0.2626157577220547,
          0.3274959396644401,
          0.4564600748263558,
          0.5433511052935345,
          0.5931787807451336,
          0.09841671762540864,
          0.20663808146998516,
          0.15165946636290073,
          0.27037662187078615,
          0.390608435194064,
          0.06484784493587059,
          0.1823892346091953,
          0.20846714746542216,
          0.24748529024644594,
          0.4514028151764991,
          0.5143885833929085,
          0.6781397458271649,
          0.6928939943800805,
          0.6675854096767433,
          0.7732992539145755,
          0.8324849312048925,
          0.9322841889202395,
          1.205355785250925
         ]
        }
       ],
       "layout": {
        "autosize": false,
        "height": 600,
        "hoverlabel": {
         "bgcolor": "white",
         "font": {
          "family": "Rockwell",
          "size": 16
         }
        },
        "hovermode": "closest",
        "plot_bgcolor": "#ECEFF1",
        "showlegend": false,
        "template": {
         "data": {
          "bar": [
           {
            "error_x": {
             "color": "#2a3f5f"
            },
            "error_y": {
             "color": "#2a3f5f"
            },
            "marker": {
             "line": {
              "color": "white",
              "width": 0.5
             },
             "pattern": {
              "fillmode": "overlay",
              "size": 10,
              "solidity": 0.2
             }
            },
            "type": "bar"
           }
          ],
          "barpolar": [
           {
            "marker": {
             "line": {
              "color": "white",
              "width": 0.5
             },
             "pattern": {
              "fillmode": "overlay",
              "size": 10,
              "solidity": 0.2
             }
            },
            "type": "barpolar"
           }
          ],
          "carpet": [
           {
            "aaxis": {
             "endlinecolor": "#2a3f5f",
             "gridcolor": "#C8D4E3",
             "linecolor": "#C8D4E3",
             "minorgridcolor": "#C8D4E3",
             "startlinecolor": "#2a3f5f"
            },
            "baxis": {
             "endlinecolor": "#2a3f5f",
             "gridcolor": "#C8D4E3",
             "linecolor": "#C8D4E3",
             "minorgridcolor": "#C8D4E3",
             "startlinecolor": "#2a3f5f"
            },
            "type": "carpet"
           }
          ],
          "choropleth": [
           {
            "colorbar": {
             "outlinewidth": 0,
             "ticks": ""
            },
            "type": "choropleth"
           }
          ],
          "contour": [
           {
            "colorbar": {
             "outlinewidth": 0,
             "ticks": ""
            },
            "colorscale": [
             [
              0,
              "#0d0887"
             ],
             [
              0.1111111111111111,
              "#46039f"
             ],
             [
              0.2222222222222222,
              "#7201a8"
             ],
             [
              0.3333333333333333,
              "#9c179e"
             ],
             [
              0.4444444444444444,
              "#bd3786"
             ],
             [
              0.5555555555555556,
              "#d8576b"
             ],
             [
              0.6666666666666666,
              "#ed7953"
             ],
             [
              0.7777777777777778,
              "#fb9f3a"
             ],
             [
              0.8888888888888888,
              "#fdca26"
             ],
             [
              1,
              "#f0f921"
             ]
            ],
            "type": "contour"
           }
          ],
          "contourcarpet": [
           {
            "colorbar": {
             "outlinewidth": 0,
             "ticks": ""
            },
            "type": "contourcarpet"
           }
          ],
          "heatmap": [
           {
            "colorbar": {
             "outlinewidth": 0,
             "ticks": ""
            },
            "colorscale": [
             [
              0,
              "#0d0887"
             ],
             [
              0.1111111111111111,
              "#46039f"
             ],
             [
              0.2222222222222222,
              "#7201a8"
             ],
             [
              0.3333333333333333,
              "#9c179e"
             ],
             [
              0.4444444444444444,
              "#bd3786"
             ],
             [
              0.5555555555555556,
              "#d8576b"
             ],
             [
              0.6666666666666666,
              "#ed7953"
             ],
             [
              0.7777777777777778,
              "#fb9f3a"
             ],
             [
              0.8888888888888888,
              "#fdca26"
             ],
             [
              1,
              "#f0f921"
             ]
            ],
            "type": "heatmap"
           }
          ],
          "heatmapgl": [
           {
            "colorbar": {
             "outlinewidth": 0,
             "ticks": ""
            },
            "colorscale": [
             [
              0,
              "#0d0887"
             ],
             [
              0.1111111111111111,
              "#46039f"
             ],
             [
              0.2222222222222222,
              "#7201a8"
             ],
             [
              0.3333333333333333,
              "#9c179e"
             ],
             [
              0.4444444444444444,
              "#bd3786"
             ],
             [
              0.5555555555555556,
              "#d8576b"
             ],
             [
              0.6666666666666666,
              "#ed7953"
             ],
             [
              0.7777777777777778,
              "#fb9f3a"
             ],
             [
              0.8888888888888888,
              "#fdca26"
             ],
             [
              1,
              "#f0f921"
             ]
            ],
            "type": "heatmapgl"
           }
          ],
          "histogram": [
           {
            "marker": {
             "pattern": {
              "fillmode": "overlay",
              "size": 10,
              "solidity": 0.2
             }
            },
            "type": "histogram"
           }
          ],
          "histogram2d": [
           {
            "colorbar": {
             "outlinewidth": 0,
             "ticks": ""
            },
            "colorscale": [
             [
              0,
              "#0d0887"
             ],
             [
              0.1111111111111111,
              "#46039f"
             ],
             [
              0.2222222222222222,
              "#7201a8"
             ],
             [
              0.3333333333333333,
              "#9c179e"
             ],
             [
              0.4444444444444444,
              "#bd3786"
             ],
             [
              0.5555555555555556,
              "#d8576b"
             ],
             [
              0.6666666666666666,
              "#ed7953"
             ],
             [
              0.7777777777777778,
              "#fb9f3a"
             ],
             [
              0.8888888888888888,
              "#fdca26"
             ],
             [
              1,
              "#f0f921"
             ]
            ],
            "type": "histogram2d"
           }
          ],
          "histogram2dcontour": [
           {
            "colorbar": {
             "outlinewidth": 0,
             "ticks": ""
            },
            "colorscale": [
             [
              0,
              "#0d0887"
             ],
             [
              0.1111111111111111,
              "#46039f"
             ],
             [
              0.2222222222222222,
              "#7201a8"
             ],
             [
              0.3333333333333333,
              "#9c179e"
             ],
             [
              0.4444444444444444,
              "#bd3786"
             ],
             [
              0.5555555555555556,
              "#d8576b"
             ],
             [
              0.6666666666666666,
              "#ed7953"
             ],
             [
              0.7777777777777778,
              "#fb9f3a"
             ],
             [
              0.8888888888888888,
              "#fdca26"
             ],
             [
              1,
              "#f0f921"
             ]
            ],
            "type": "histogram2dcontour"
           }
          ],
          "mesh3d": [
           {
            "colorbar": {
             "outlinewidth": 0,
             "ticks": ""
            },
            "type": "mesh3d"
           }
          ],
          "parcoords": [
           {
            "line": {
             "colorbar": {
              "outlinewidth": 0,
              "ticks": ""
             }
            },
            "type": "parcoords"
           }
          ],
          "pie": [
           {
            "automargin": true,
            "type": "pie"
           }
          ],
          "scatter": [
           {
            "fillpattern": {
             "fillmode": "overlay",
             "size": 10,
             "solidity": 0.2
            },
            "type": "scatter"
           }
          ],
          "scatter3d": [
           {
            "line": {
             "colorbar": {
              "outlinewidth": 0,
              "ticks": ""
             }
            },
            "marker": {
             "colorbar": {
              "outlinewidth": 0,
              "ticks": ""
             }
            },
            "type": "scatter3d"
           }
          ],
          "scattercarpet": [
           {
            "marker": {
             "colorbar": {
              "outlinewidth": 0,
              "ticks": ""
             }
            },
            "type": "scattercarpet"
           }
          ],
          "scattergeo": [
           {
            "marker": {
             "colorbar": {
              "outlinewidth": 0,
              "ticks": ""
             }
            },
            "type": "scattergeo"
           }
          ],
          "scattergl": [
           {
            "marker": {
             "colorbar": {
              "outlinewidth": 0,
              "ticks": ""
             }
            },
            "type": "scattergl"
           }
          ],
          "scattermapbox": [
           {
            "marker": {
             "colorbar": {
              "outlinewidth": 0,
              "ticks": ""
             }
            },
            "type": "scattermapbox"
           }
          ],
          "scatterpolar": [
           {
            "marker": {
             "colorbar": {
              "outlinewidth": 0,
              "ticks": ""
             }
            },
            "type": "scatterpolar"
           }
          ],
          "scatterpolargl": [
           {
            "marker": {
             "colorbar": {
              "outlinewidth": 0,
              "ticks": ""
             }
            },
            "type": "scatterpolargl"
           }
          ],
          "scatterternary": [
           {
            "marker": {
             "colorbar": {
              "outlinewidth": 0,
              "ticks": ""
             }
            },
            "type": "scatterternary"
           }
          ],
          "surface": [
           {
            "colorbar": {
             "outlinewidth": 0,
             "ticks": ""
            },
            "colorscale": [
             [
              0,
              "#0d0887"
             ],
             [
              0.1111111111111111,
              "#46039f"
             ],
             [
              0.2222222222222222,
              "#7201a8"
             ],
             [
              0.3333333333333333,
              "#9c179e"
             ],
             [
              0.4444444444444444,
              "#bd3786"
             ],
             [
              0.5555555555555556,
              "#d8576b"
             ],
             [
              0.6666666666666666,
              "#ed7953"
             ],
             [
              0.7777777777777778,
              "#fb9f3a"
             ],
             [
              0.8888888888888888,
              "#fdca26"
             ],
             [
              1,
              "#f0f921"
             ]
            ],
            "type": "surface"
           }
          ],
          "table": [
           {
            "cells": {
             "fill": {
              "color": "#EBF0F8"
             },
             "line": {
              "color": "white"
             }
            },
            "header": {
             "fill": {
              "color": "#C8D4E3"
             },
             "line": {
              "color": "white"
             }
            },
            "type": "table"
           }
          ]
         },
         "layout": {
          "annotationdefaults": {
           "arrowcolor": "#2a3f5f",
           "arrowhead": 0,
           "arrowwidth": 1
          },
          "autotypenumbers": "strict",
          "coloraxis": {
           "colorbar": {
            "outlinewidth": 0,
            "ticks": ""
           }
          },
          "colorscale": {
           "diverging": [
            [
             0,
             "#8e0152"
            ],
            [
             0.1,
             "#c51b7d"
            ],
            [
             0.2,
             "#de77ae"
            ],
            [
             0.3,
             "#f1b6da"
            ],
            [
             0.4,
             "#fde0ef"
            ],
            [
             0.5,
             "#f7f7f7"
            ],
            [
             0.6,
             "#e6f5d0"
            ],
            [
             0.7,
             "#b8e186"
            ],
            [
             0.8,
             "#7fbc41"
            ],
            [
             0.9,
             "#4d9221"
            ],
            [
             1,
             "#276419"
            ]
           ],
           "sequential": [
            [
             0,
             "#0d0887"
            ],
            [
             0.1111111111111111,
             "#46039f"
            ],
            [
             0.2222222222222222,
             "#7201a8"
            ],
            [
             0.3333333333333333,
             "#9c179e"
            ],
            [
             0.4444444444444444,
             "#bd3786"
            ],
            [
             0.5555555555555556,
             "#d8576b"
            ],
            [
             0.6666666666666666,
             "#ed7953"
            ],
            [
             0.7777777777777778,
             "#fb9f3a"
            ],
            [
             0.8888888888888888,
             "#fdca26"
            ],
            [
             1,
             "#f0f921"
            ]
           ],
           "sequentialminus": [
            [
             0,
             "#0d0887"
            ],
            [
             0.1111111111111111,
             "#46039f"
            ],
            [
             0.2222222222222222,
             "#7201a8"
            ],
            [
             0.3333333333333333,
             "#9c179e"
            ],
            [
             0.4444444444444444,
             "#bd3786"
            ],
            [
             0.5555555555555556,
             "#d8576b"
            ],
            [
             0.6666666666666666,
             "#ed7953"
            ],
            [
             0.7777777777777778,
             "#fb9f3a"
            ],
            [
             0.8888888888888888,
             "#fdca26"
            ],
            [
             1,
             "#f0f921"
            ]
           ]
          },
          "colorway": [
           "#636efa",
           "#EF553B",
           "#00cc96",
           "#ab63fa",
           "#FFA15A",
           "#19d3f3",
           "#FF6692",
           "#B6E880",
           "#FF97FF",
           "#FECB52"
          ],
          "font": {
           "color": "#2a3f5f"
          },
          "geo": {
           "bgcolor": "white",
           "lakecolor": "white",
           "landcolor": "white",
           "showlakes": true,
           "showland": true,
           "subunitcolor": "#C8D4E3"
          },
          "hoverlabel": {
           "align": "left"
          },
          "hovermode": "closest",
          "mapbox": {
           "style": "light"
          },
          "paper_bgcolor": "white",
          "plot_bgcolor": "white",
          "polar": {
           "angularaxis": {
            "gridcolor": "#EBF0F8",
            "linecolor": "#EBF0F8",
            "ticks": ""
           },
           "bgcolor": "white",
           "radialaxis": {
            "gridcolor": "#EBF0F8",
            "linecolor": "#EBF0F8",
            "ticks": ""
           }
          },
          "scene": {
           "xaxis": {
            "backgroundcolor": "white",
            "gridcolor": "#DFE8F3",
            "gridwidth": 2,
            "linecolor": "#EBF0F8",
            "showbackground": true,
            "ticks": "",
            "zerolinecolor": "#EBF0F8"
           },
           "yaxis": {
            "backgroundcolor": "white",
            "gridcolor": "#DFE8F3",
            "gridwidth": 2,
            "linecolor": "#EBF0F8",
            "showbackground": true,
            "ticks": "",
            "zerolinecolor": "#EBF0F8"
           },
           "zaxis": {
            "backgroundcolor": "white",
            "gridcolor": "#DFE8F3",
            "gridwidth": 2,
            "linecolor": "#EBF0F8",
            "showbackground": true,
            "ticks": "",
            "zerolinecolor": "#EBF0F8"
           }
          },
          "shapedefaults": {
           "line": {
            "color": "#2a3f5f"
           }
          },
          "ternary": {
           "aaxis": {
            "gridcolor": "#DFE8F3",
            "linecolor": "#A2B1C6",
            "ticks": ""
           },
           "baxis": {
            "gridcolor": "#DFE8F3",
            "linecolor": "#A2B1C6",
            "ticks": ""
           },
           "bgcolor": "white",
           "caxis": {
            "gridcolor": "#DFE8F3",
            "linecolor": "#A2B1C6",
            "ticks": ""
           }
          },
          "title": {
           "x": 0.05
          },
          "xaxis": {
           "automargin": true,
           "gridcolor": "#EBF0F8",
           "linecolor": "#EBF0F8",
           "ticks": "",
           "title": {
            "standoff": 15
           },
           "zerolinecolor": "#EBF0F8",
           "zerolinewidth": 2
          },
          "yaxis": {
           "automargin": true,
           "gridcolor": "#EBF0F8",
           "linecolor": "#EBF0F8",
           "ticks": "",
           "title": {
            "standoff": 15
           },
           "zerolinecolor": "#EBF0F8",
           "zerolinewidth": 2
          }
         }
        },
        "title": {
         "font": {
          "color": "Black",
          "size": 22
         },
         "text": "<b>Hierarchical Clustering</b>",
         "x": 0.5,
         "xanchor": "center",
         "yanchor": "top"
        },
        "width": 3230,
        "xaxis": {
         "mirror": "allticks",
         "rangemode": "tozero",
         "showgrid": false,
         "showline": true,
         "showticklabels": true,
         "tickmode": "array",
         "ticks": "outside",
         "ticktext": [
          "198_iraq_iraqi_kuwait",
          "158_iraq_baghdad_iraqi",
          "98_yemen_yemenis_yemeni",
          "199_yemen_ethiopia_palestine",
          "150_egypt_syria_egyptian",
          "118_libya_libyan_libyans",
          "137_syria_syrian_israel",
          "6_palestine_palestinians_pa...",
          "119_kuwait_kuwaiti_humanita...",
          "194_amman_palestine_jordanian",
          "76_peaceful_uae_iraq",
          "157_bahrain_kuwait_yemen",
          "28_lebanon_beirut_palestine",
          "120_guinea_equatorial_nguema",
          "58_burundi_rwanda_burundian",
          "131_angola_angolan_africa",
          "175_benin_nations_africa",
          "84_gabon_gabonese_nations",
          "116_togo_togolese_nations",
          "85_guinea_guinean_nations",
          "65_congo_congolese_angola",
          "186_congo_africa_nations",
          "87_rwanda_rwandan_genocide",
          "167_mauritania_mauritanian_...",
          "93_morocco_maghreb_algeria",
          "146_burkina_faso_gabon",
          "99_mali_malian_sahel",
          "191_libya_chadian_libyan",
          "127_uganda_rwanda_congo",
          "121_madagascar_nations_africa",
          "159_mozambique_mozambican_m...",
          "15_bangladesh_nations_namibia",
          "8_nations_mexico_countries",
          "16_brunei_namibia_nations",
          "69_disarmament_peaceful_peace",
          "181_peaceful_nations_peace",
          "193_peaceful_disarmament_na...",
          "88_seychelles_zimbabwe_nati...",
          "97_yugoslavia_disarmament_n...",
          "3_algeria_nations_africa",
          "138_zimbabwe_africa_disarma...",
          "17_zimbabwe_nations_namibia",
          "83_vanuatu_nations_namibia",
          "37_tunisia_tunisian_maghreb",
          "188_disarmament_peaceful_na...",
          "171_treaty_swaziland_nations",
          "140_rhodesia_nigeria_africa",
          "94_ethiopia_eritrea_somalia",
          "115_tanzania_africa_rhodesia",
          "105_niger_nigeria_nigerian",
          "21_apartheid_nations_africa",
          "38_ghana_rhodesia_disarmament",
          "164_cameroon_cameroons_nati...",
          "32_liberia_liberians_liberian",
          "103_kenya_nairobi_sudan",
          "170_lesotho_apartheid_namibia",
          "152_botswana_angola_namibia",
          "111_swaziland_swazi_peaceful",
          "66_nepal_disarmament_nations",
          "197_mauritius_nations_peace",
          "95_lanka_sri_colombo",
          "67_disarmament_nations_nucl...",
          "89_malta_nations_neutrality",
          "145_liechtenstein_nations_k...",
          "114_liechtenstein_namibia_p...",
          "62_nations_countries_democr...",
          "174_peaceful_peace_nations",
          "128_spain_nations_gibraltar",
          "155_sweden_disarmament_denm...",
          "82_treaty_disarmament_peace...",
          "81_suriname_treaty_nations",
          "135_disarmament_austria_pea...",
          "124_cyprus_disarmament_cypr...",
          "55_greece_greek_balkans",
          "126_nations_peace_war",
          "185_congo_nations_algerian",
          "189_disarmament_ceylon_nati...",
          "36_disarmament_nations_canada",
          "73_treaty_nations_countries",
          "91_treaty_disarmament_nations",
          "63_philippines_philippine_a...",
          "40_myanmar_burma_peaceful",
          "70_italy_disarmament_nations",
          "54_guyana_nations_venezuela",
          "51_indonesia_asean_indonesian",
          "96_nations_india_countries",
          "168_nations_peace_war",
          "100_nations_countries_peace",
          "34_malaya_disarmament_nations",
          "122_war_peace_nations",
          "60_treaty_nations_peace",
          "22_nations_countries_europe",
          "92_disarmament_nations_denm...",
          "192_nations_countries_peace",
          "41_asean_thailand_nations",
          "68_disarmament_pakistan_pea...",
          "48_kabul_taliban_afghanistan",
          "109_laos_asean_lao",
          "61_cambodia_cambodian_khmer",
          "142_asean_peaceful_viet",
          "33_albania_kosovo_imperialism",
          "139_disarmament_mao_china",
          "26_romania_disarmament_nati...",
          "31_disarmament_peaceful_war",
          "19_disarmament_bulgaria_bal...",
          "129_disarmament_treaty_peac...",
          "43_poland_disarmament_polish",
          "80_treaty_disarmament_peace...",
          "1_disarmament_treaty_peaceful",
          "5_nations_war_ussr",
          "101_war_armistice_korea",
          "108_treaty_mongolia_disarma...",
          "42_korea_peaceful_sovereignty",
          "59_paraguay_paraguayan_nati...",
          "50_dominican_haiti_nations",
          "27_haiti_duvalier_haitian",
          "71_cuba_cuban_sovereignty",
          "14_panama_panamanian_panama...",
          "79_ecuador_ecuadorian_nations",
          "30_venezuela_bolivarian_ven...",
          "25_colombia_colombians_colo...",
          "10_guatemala_guatemalan_gua...",
          "53_chile_chilean_nations",
          "57_argentina_argentine_nati...",
          "72_uruguay_nations_uruguayan",
          "18_peru_peruvian_nations",
          "78_brazil_disarmament_nations",
          "46_bolivia_bolivian_bolivians",
          "74_nicaragua_nicaraguan_nic...",
          "29_honduras_honduran_hondur...",
          "49_salvador_salvadorian_sal...",
          "44_rica_nations_countries",
          "106_tobago_trinidad_nations",
          "86_belize_guatemala_belizeans",
          "110_jamaica_nations_caribbean",
          "56_barbados_antigua_haiti",
          "107_dominica_nations_lucia",
          "200_haiti_dominica_hurricane",
          "130_grenada_nations_countries",
          "113_bahamas_haiti_bahamian",
          "141_tuvalu_kiribati_nations",
          "160_nauru_fiji_nations",
          "162_seychelles_mauritius_na...",
          "35_samoa_micronesia_kiribati",
          "154_climate_haiti_bahamas",
          "182_kiribati_un_agenda",
          "161_palau_palauan_un",
          "153_islands_nations_nation",
          "39_disarmament_nations_solo...",
          "75_papua_guinea_nations",
          "144_vanuatu_papua_nations",
          "133_fiji_peacekeeping_fijians",
          "125_turkmenistan_afghanista...",
          "123_tajikistan_tajik_afghan...",
          "147_kyrgyzstan_peacekeeping...",
          "201_treaty_kazakhstan_nations",
          "184_kosovo_serbia_balkans",
          "178_yugoslavia_bosnia_herze...",
          "149_bosnia_herzegovina_yugo...",
          "180_timor_timorese_asean",
          "156_abkhazian_tbilisi_abkha...",
          "117_latvia_peacekeeping_bal...",
          "112_disarmament_ukraine_tre...",
          "20_crimea_ukraine_war",
          "90_nations_peace_ireland",
          "190_syria_humanitarian_syrian",
          "169_refugees_humanitarian_s...",
          "196_nation_nations_war",
          "165_iran_islam_islamic",
          "187_andorran_andorra_nations",
          "166_macedonia_yugoslavia_nato",
          "143_montenegro_nations_mont...",
          "195_nations_verde_countries",
          "102_somaliland_somalia_soma...",
          "148_mediation_peaceful_sudan",
          "12_sudan_darfur_humanitarian",
          "134_nations_globalization_k...",
          "13_peacekeeping_nations_glo...",
          "9_globalization_nations_ref...",
          "24_namibia_angola_ethiopia",
          "23_portugal_angola_nations",
          "52_iraq_timor_terrorism",
          "4_annan_terrorism_terrorist",
          "45_terrorism_terrorists_ter...",
          "173_gambia_gambian_gambians",
          "64_leone_leoneans_nations",
          "0_pandemic_coronavirus_mult...",
          "11_nations_terrorism_peace",
          "7_climate_sustainable_nations",
          "2_poverty_africa_nations",
          "177_nations_malawi_agenda",
          "183_multilateralism_multila...",
          "77_poverty_agriculture_food",
          "136_multilateralism_economi...",
          "104_malawi_mozambique_zambia",
          "163_bhutan_bangladesh_nations",
          "172_maldives_democracy_mald...",
          "176_eritrea_ethiopia_sudan",
          "179_slovakia_peacekeeping_k...",
          "151_moldova_peacekeeping_mo...",
          "132_multilateralism_nations...",
          "47_azerbaijan_armenia_genoc..."
         ],
         "tickvals": [
          5,
          15,
          25,
          35,
          45,
          55,
          65,
          75,
          85,
          95,
          105,
          115,
          125,
          135,
          145,
          155,
          165,
          175,
          185,
          195,
          205,
          215,
          225,
          235,
          245,
          255,
          265,
          275,
          285,
          295,
          305,
          315,
          325,
          335,
          345,
          355,
          365,
          375,
          385,
          395,
          405,
          415,
          425,
          435,
          445,
          455,
          465,
          475,
          485,
          495,
          505,
          515,
          525,
          535,
          545,
          555,
          565,
          575,
          585,
          595,
          605,
          615,
          625,
          635,
          645,
          655,
          665,
          675,
          685,
          695,
          705,
          715,
          725,
          735,
          745,
          755,
          765,
          775,
          785,
          795,
          805,
          815,
          825,
          835,
          845,
          855,
          865,
          875,
          885,
          895,
          905,
          915,
          925,
          935,
          945,
          955,
          965,
          975,
          985,
          995,
          1005,
          1015,
          1025,
          1035,
          1045,
          1055,
          1065,
          1075,
          1085,
          1095,
          1105,
          1115,
          1125,
          1135,
          1145,
          1155,
          1165,
          1175,
          1185,
          1195,
          1205,
          1215,
          1225,
          1235,
          1245,
          1255,
          1265,
          1275,
          1285,
          1295,
          1305,
          1315,
          1325,
          1335,
          1345,
          1355,
          1365,
          1375,
          1385,
          1395,
          1405,
          1415,
          1425,
          1435,
          1445,
          1455,
          1465,
          1475,
          1485,
          1495,
          1505,
          1515,
          1525,
          1535,
          1545,
          1555,
          1565,
          1575,
          1585,
          1595,
          1605,
          1615,
          1625,
          1635,
          1645,
          1655,
          1665,
          1675,
          1685,
          1695,
          1705,
          1715,
          1725,
          1735,
          1745,
          1755,
          1765,
          1775,
          1785,
          1795,
          1805,
          1815,
          1825,
          1835,
          1845,
          1855,
          1865,
          1875,
          1885,
          1895,
          1905,
          1915,
          1925,
          1935,
          1945,
          1955,
          1965,
          1975,
          1985,
          1995,
          2005,
          2015
         ],
         "type": "linear",
         "zeroline": false
        },
        "yaxis": {
         "mirror": "allticks",
         "rangemode": "tozero",
         "showgrid": false,
         "showline": true,
         "showticklabels": true,
         "ticks": "outside",
         "type": "linear",
         "zeroline": false
        }
       }
      }
     },
     "metadata": {},
     "output_type": "display_data"
    }
   ],
   "source": [
    "# visualize the hierarchy for complete linkage\n",
    "t.visualize_hierarchy(hierarchical_topics=hierarchical_topics['complete'], orientation=\"bottom\")"
   ]
  },
  {
   "cell_type": "code",
   "execution_count": 42,
   "metadata": {},
   "outputs": [
    {
     "name": "stdout",
     "output_type": "stream",
     "text": [
      ".\n",
      "├─■──azerbaijan_armenia_genocide_humanitarian_armenians ── Topic: 47\n",
      "└─of_the_and_to_in\n",
      "  ├─the_of_and_to_in\n",
      "  │ ├─■──eritrea_ethiopia_sudan_eritreans_eritrean ── Topic: 176\n",
      "  │ └─that_and_to_the_of\n",
      "  │   ├─that_and_to_the_of\n",
      "  │   │ ├─that_and_to_the_of\n",
      "  │   │ │ ├─■──timor_timorese_asean_indonesia_myanmar ── Topic: 180\n",
      "  │   │ │ └─the_of_and_to_in\n",
      "  │   │ │   ├─the_united_of_to_states\n",
      "  │   │ │   │ ├─■──abkhazian_tbilisi_abkhazia_georgians_nato ── Topic: 156\n",
      "  │   │ │   │ └─the_of_and_to_in\n",
      "  │   │ │   │   ├─and_to_the_in_of\n",
      "  │   │ │   │   │ ├─the_of_and_to_in\n",
      "  │   │ │   │   │ │ ├─and_to_the_in_of\n",
      "  │   │ │   │   │ │ │ ├─and_to_the_in_of\n",
      "  │   │ │   │   │ │ │ │ ├─the_of_and_to_in\n",
      "  │   │ │   │   │ │ │ │ │ ├─■──korea_peaceful_sovereignty_reunification_kim ── Topic: 42\n",
      "  │   │ │   │   │ │ │ │ │ └─and_in_to_the_of\n",
      "  │   │ │   │   │ │ │ │ │   ├─and_in_to_the_of\n",
      "  │   │ │   │   │ │ │ │ │   │ ├─the_of_and_to_in\n",
      "  │   │ │   │   │ │ │ │ │   │ │ ├─and_in_to_the_of\n",
      "  │   │ │   │   │ │ │ │ │   │ │ │ ├─■──bahamas_haiti_bahamian_caribbean_nations ── Topic: 113\n",
      "  │   │ │   │   │ │ │ │ │   │ │ │ └─the_of_and_to_in\n",
      "  │   │ │   │   │ │ │ │ │   │ │ │   ├─■──tobago_trinidad_nations_countries_caribbean ── Topic: 106\n",
      "  │   │ │   │   │ │ │ │ │   │ │ │   └─the_of_and_to_in\n",
      "  │   │ │   │   │ │ │ │ │   │ │ │     ├─the_of_and_to_in\n",
      "  │   │ │   │   │ │ │ │ │   │ │ │     │ ├─the_of_and_to_in\n",
      "  │   │ │   │   │ │ │ │ │   │ │ │     │ │ ├─had_that_the_and_in\n",
      "  │   │ │   │   │ │ │ │ │   │ │ │     │ │ │ ├─had_that_the_and_in\n",
      "  │   │ │   │   │ │ │ │ │   │ │ │     │ │ │ │ ├─the_of_and_to_in\n",
      "  │   │ │   │   │ │ │ │ │   │ │ │     │ │ │ │ │ ├─had_that_the_and_in\n",
      "  │   │ │   │   │ │ │ │ │   │ │ │     │ │ │ │ │ │ ├─■──islands_nations_nation_marshallese_nuclear ── Topic: 153\n",
      "  │   │ │   │   │ │ │ │ │   │ │ │     │ │ │ │ │ │ └─the_in_to_of_and\n",
      "  │   │ │   │   │ │ │ │ │   │ │ │     │ │ │ │ │ │   ├─■──nauru_fiji_nations_governance_countries ── Topic: 160\n",
      "  │   │ │   │   │ │ │ │ │   │ │ │     │ │ │ │ │ │   └─malta_and_the_in_of\n",
      "  │   │ │   │   │ │ │ │ │   │ │ │     │ │ │ │ │ │     ├─■──fiji_peacekeeping_fijians_fijian_nations ── Topic: 133\n",
      "  │   │ │   │   │ │ │ │ │   │ │ │     │ │ │ │ │ │     └─the_of_and_to_in\n",
      "  │   │ │   │   │ │ │ │ │   │ │ │     │ │ │ │ │ │       ├─■──papua_guinea_nations_governments_countries ── Topic: 75\n",
      "  │   │ │   │   │ │ │ │ │   │ │ │     │ │ │ │ │ │       └─we_is_to_the_of\n",
      "  │   │ │   │   │ │ │ │ │   │ │ │     │ │ │ │ │ │         ├─■──guinea_equatorial_nguema_nations_africa ── Topic: 120\n",
      "  │   │ │   │   │ │ │ │ │   │ │ │     │ │ │ │ │ │         └─the_of_and_to_in\n",
      "  │   │ │   │   │ │ │ │ │   │ │ │     │ │ │ │ │ │           ├─the_of_and_to_in\n",
      "  │   │ │   │   │ │ │ │ │   │ │ │     │ │ │ │ │ │           │ ├─the_of_and_to_in\n",
      "  │   │ │   │   │ │ │ │ │   │ │ │     │ │ │ │ │ │           │ │ ├─the_of_and_to_in\n",
      "  │   │ │   │   │ │ │ │ │   │ │ │     │ │ │ │ │ │           │ │ │ ├─the_of_and_to_in\n",
      "  │   │ │   │   │ │ │ │ │   │ │ │     │ │ │ │ │ │           │ │ │ │ ├─the_of_and_in_to\n",
      "  │   │ │   │   │ │ │ │ │   │ │ │     │ │ │ │ │ │           │ │ │ │ │ ├─the_of_and_in_to\n",
      "  │   │ │   │   │ │ │ │ │   │ │ │     │ │ │ │ │ │           │ │ │ │ │ │ ├─■──iraq_baghdad_iraqi_iraqis_terrorist ── Topic: 158\n",
      "  │   │ │   │   │ │ │ │ │   │ │ │     │ │ │ │ │ │           │ │ │ │ │ │ └─■──iraq_iraqi_kuwait_palestine_sovereignty ── Topic: 198\n",
      "  │   │ │   │   │ │ │ │ │   │ │ │     │ │ │ │ │ │           │ │ │ │ │ └─of_the_to_in_and\n",
      "  │   │ │   │   │ │ │ │ │   │ │ │     │ │ │ │ │ │           │ │ │ │ │   ├─of_the_to_in_and\n",
      "  │   │ │   │   │ │ │ │ │   │ │ │     │ │ │ │ │ │           │ │ │ │ │   │ ├─of_the_to_in_and\n",
      "  │   │ │   │   │ │ │ │ │   │ │ │     │ │ │ │ │ │           │ │ │ │ │   │ │ ├─■──albania_kosovo_imperialism_nato_albanians ── Topic: 33\n",
      "  │   │ │   │   │ │ │ │ │   │ │ │     │ │ │ │ │ │           │ │ │ │ │   │ │ └─the_of_and_in_to\n",
      "  │   │ │   │   │ │ │ │ │   │ │ │     │ │ │ │ │ │           │ │ │ │ │   │ │   ├─■──treaty_mongolia_disarmament_soviet_peaceful ── Topic: 108\n",
      "  │   │ │   │   │ │ │ │ │   │ │ │     │ │ │ │ │ │           │ │ │ │ │   │ │   └─the_of_and_to_in\n",
      "  │   │ │   │   │ │ │ │ │   │ │ │     │ │ │ │ │ │           │ │ │ │ │   │ │     ├─■──disarmament_nations_nuclear_japan_countries ── Topic: 67\n",
      "  │   │ │   │   │ │ │ │ │   │ │ │     │ │ │ │ │ │           │ │ │ │ │   │ │     └─the_of_and_to_in\n",
      "  │   │ │   │   │ │ │ │ │   │ │ │     │ │ │ │ │ │           │ │ │ │ │   │ │       ├─■──lanka_sri_colombo_nations_countries ── Topic: 95\n",
      "  │   │ │   │   │ │ │ │ │   │ │ │     │ │ │ │ │ │           │ │ │ │ │   │ │       └─kazakhstan_honduras_serbia_nuclear_or\n",
      "  │   │ │   │   │ │ │ │ │   │ │ │     │ │ │ │ │ │           │ │ │ │ │   │ │         ├─■──mauritius_nations_peace_countries_africa ── Topic: 197\n",
      "  │   │ │   │   │ │ │ │ │   │ │ │     │ │ │ │ │ │           │ │ │ │ │   │ │         └─the_of_and_to_in\n",
      "  │   │ │   │   │ │ │ │ │   │ │ │     │ │ │ │ │ │           │ │ │ │ │   │ │           ├─■──rica_nations_countries_peace_democracy ── Topic: 44\n",
      "  │   │ │   │   │ │ │ │ │   │ │ │     │ │ │ │ │ │           │ │ │ │ │   │ │           └─the_of_and_to_in\n",
      "  │   │ │   │   │ │ │ │ │   │ │ │     │ │ │ │ │ │           │ │ │ │ │   │ │             ├─■──burundi_rwanda_burundian_africa_refugees ── Topic: 58\n",
      "  │   │ │   │   │ │ │ │ │   │ │ │     │ │ │ │ │ │           │ │ │ │ │   │ │             └─of_the_and_to_that\n",
      "  │   │ │   │   │ │ │ │ │   │ │ │     │ │ │ │ │ │           │ │ │ │ │   │ │               ├─■──mali_malian_sahel_africa_nations ── Topic: 99\n",
      "  │   │ │   │   │ │ │ │ │   │ │ │     │ │ │ │ │ │           │ │ │ │ │   │ │               └─the_of_and_to_in\n",
      "  │   │ │   │   │ │ │ │ │   │ │ │     │ │ │ │ │ │           │ │ │ │ │   │ │                 ├─■──burkina_faso_gabon_mali_senegal ── Topic: 146\n",
      "  │   │ │   │   │ │ │ │ │   │ │ │     │ │ │ │ │ │           │ │ │ │ │   │ │                 └─and_of_the_is_in\n",
      "  │   │ │   │   │ │ │ │ │   │ │ │     │ │ │ │ │ │           │ │ │ │ │   │ │                   ├─■──uganda_rwanda_congo_angola_amin ── Topic: 127\n",
      "  │   │ │   │   │ │ │ │ │   │ │ │     │ │ │ │ │ │           │ │ │ │ │   │ │                   └─to_the_of_and_in\n",
      "  │   │ │   │   │ │ │ │ │   │ │ │     │ │ │ │ │ │           │ │ │ │ │   │ │                     ├─■──somaliland_somalia_somalis_somali_ethiopia ── Topic: 102\n",
      "  │   │ │   │   │ │ │ │ │   │ │ │     │ │ │ │ │ │           │ │ │ │ │   │ │                     └─and_the_of_to_in\n",
      "  │   │ │   │   │ │ │ │ │   │ │ │     │ │ │ │ │ │           │ │ │ │ │   │ │                       ├─■──leone_leoneans_nations_africa_delegation ── Topic: 64\n",
      "  │   │ │   │   │ │ │ │ │   │ │ │     │ │ │ │ │ │           │ │ │ │ │   │ │                       └─of_the_we_that_to\n",
      "  │   │ │   │   │ │ │ │ │   │ │ │     │ │ │ │ │ │           │ │ │ │ │   │ │                         ├─■──swaziland_swazi_peaceful_nations_africa ── Topic: 111\n",
      "  │   │ │   │   │ │ │ │ │   │ │ │     │ │ │ │ │ │           │ │ │ │ │   │ │                         └─the_and_that_to_of\n",
      "  │   │ │   │   │ │ │ │ │   │ │ │     │ │ │ │ │ │           │ │ │ │ │   │ │                           ├─the_and_that_to_of\n",
      "  │   │ │   │   │ │ │ │ │   │ │ │     │ │ │ │ │ │           │ │ │ │ │   │ │                           │ ├─the_and_that_to_of\n",
      "  │   │ │   │   │ │ │ │ │   │ │ │     │ │ │ │ │ │           │ │ │ │ │   │ │                           │ │ ├─the_of_and_to_in\n",
      "  │   │ │   │   │ │ │ │ │   │ │ │     │ │ │ │ │ │           │ │ │ │ │   │ │                           │ │ │ ├─the_and_to_of_that\n",
      "  │   │ │   │   │ │ │ │ │   │ │ │     │ │ │ │ │ │           │ │ │ │ │   │ │                           │ │ │ │ ├─the_and_that_to_of\n",
      "  │   │ │   │   │ │ │ │ │   │ │ │     │ │ │ │ │ │           │ │ │ │ │   │ │                           │ │ │ │ │ ├─■──kiribati_un_agenda_acknowledge_climate ── Topic: 182\n",
      "  │   │ │   │   │ │ │ │ │   │ │ │     │ │ │ │ │ │           │ │ │ │ │   │ │                           │ │ │ │ │ └─■──samoa_micronesia_kiribati_climate_fiji ── Topic: 35\n",
      "  │   │ │   │   │ │ │ │ │   │ │ │     │ │ │ │ │ │           │ │ │ │ │   │ │                           │ │ │ │ └─■──seychelles_mauritius_nations_countries_africa ── Topic: 162\n",
      "  │   │ │   │   │ │ │ │ │   │ │ │     │ │ │ │ │ │           │ │ │ │ │   │ │                           │ │ │ └─■──vanuatu_papua_nations_multilateral_countries ── Topic: 144\n",
      "  │   │ │   │   │ │ │ │ │   │ │ │     │ │ │ │ │ │           │ │ │ │ │   │ │                           │ │ └─the_of_and_to_in\n",
      "  │   │ │   │   │ │ │ │ │   │ │ │     │ │ │ │ │ │           │ │ │ │ │   │ │                           │ │   ├─the_of_and_to_in\n",
      "  │   │ │   │   │ │ │ │ │   │ │ │     │ │ │ │ │ │           │ │ │ │ │   │ │                           │ │   │ ├─the_of_and_to_in\n",
      "  │   │ │   │   │ │ │ │ │   │ │ │     │ │ │ │ │ │           │ │ │ │ │   │ │                           │ │   │ │ ├─of_the_and_which_to\n",
      "  │   │ │   │   │ │ │ │ │   │ │ │     │ │ │ │ │ │           │ │ │ │ │   │ │                           │ │   │ │ │ ├─of_the_and_which_to\n",
      "  │   │ │   │   │ │ │ │ │   │ │ │     │ │ │ │ │ │           │ │ │ │ │   │ │                           │ │   │ │ │ │ ├─the_of_and_to_in\n",
      "  │   │ │   │   │ │ │ │ │   │ │ │     │ │ │ │ │ │           │ │ │ │ │   │ │                           │ │   │ │ │ │ │ ├─the_of_and_to_in\n",
      "  │   │ │   │   │ │ │ │ │   │ │ │     │ │ │ │ │ │           │ │ │ │ │   │ │                           │ │   │ │ │ │ │ │ ├─■──benin_nations_africa_imperialism_countries ── Topic: 175\n",
      "  │   │ │   │   │ │ │ │ │   │ │ │     │ │ │ │ │ │           │ │ │ │ │   │ │                           │ │   │ │ │ │ │ │ └─the_of_in_to_and\n",
      "  │   │ │   │   │ │ │ │ │   │ │ │     │ │ │ │ │ │           │ │ │ │ │   │ │                           │ │   │ │ │ │ │ │   ├─the_of_in_to_and\n",
      "  │   │ │   │   │ │ │ │ │   │ │ │     │ │ │ │ │ │           │ │ │ │ │   │ │                           │ │   │ │ │ │ │ │   │ ├─the_of_in_to_and\n",
      "  │   │ │   │   │ │ │ │ │   │ │ │     │ │ │ │ │ │           │ │ │ │ │   │ │                           │ │   │ │ │ │ │ │   │ │ ├─the_of_in_to_and\n",
      "  │   │ │   │   │ │ │ │ │   │ │ │     │ │ │ │ │ │           │ │ │ │ │   │ │                           │ │   │ │ │ │ │ │   │ │ │ ├─the_of_and_to_in\n",
      "  │   │ │   │   │ │ │ │ │   │ │ │     │ │ │ │ │ │           │ │ │ │ │   │ │                           │ │   │ │ │ │ │ │   │ │ │ │ ├─■──bolivia_bolivian_bolivians_nations_chile ── Topic: 46\n",
      "  │   │ │   │   │ │ │ │ │   │ │ │     │ │ │ │ │ │           │ │ │ │ │   │ │                           │ │   │ │ │ │ │ │   │ │ │ │ └─of_and_the_in_to\n",
      "  │   │ │   │   │ │ │ │ │   │ │ │     │ │ │ │ │ │           │ │ │ │ │   │ │                           │ │   │ │ │ │ │ │   │ │ │ │   ├─■──cuba_cuban_sovereignty_castro_imperialism ── Topic: 71\n",
      "  │   │ │   │   │ │ │ │ │   │ │ │     │ │ │ │ │ │           │ │ │ │ │   │ │                           │ │   │ │ │ │ │ │   │ │ │ │   └─of_the_and_to_in\n",
      "  │   │ │   │   │ │ │ │ │   │ │ │     │ │ │ │ │ │           │ │ │ │ │   │ │                           │ │   │ │ │ │ │ │   │ │ │ │     ├─■──nicaragua_nicaraguan_nicaraguans_honduras_cuba ── Topic: 74\n",
      "  │   │ │   │   │ │ │ │ │   │ │ │     │ │ │ │ │ │           │ │ │ │ │   │ │                           │ │   │ │ │ │ │ │   │ │ │ │     └─the_of_in_to_and\n",
      "  │   │ │   │   │ │ │ │ │   │ │ │     │ │ │ │ │ │           │ │ │ │ │   │ │                           │ │   │ │ │ │ │ │   │ │ │ │       ├─■──salvador_salvadorian_salvadorans_nations_peace ── Topic: 49\n",
      "  │   │ │   │   │ │ │ │ │   │ │ │     │ │ │ │ │ │           │ │ │ │ │   │ │                           │ │   │ │ │ │ │ │   │ │ │ │       └─the_of_and_to_in\n",
      "  │   │ │   │   │ │ │ │ │   │ │ │     │ │ │ │ │ │           │ │ │ │ │   │ │                           │ │   │ │ │ │ │ │   │ │ │ │         ├─■──dominican_haiti_nations_caribbean_republic ── Topic: 50\n",
      "  │   │ │   │   │ │ │ │ │   │ │ │     │ │ │ │ │ │           │ │ │ │ │   │ │                           │ │   │ │ │ │ │ │   │ │ │ │         └─the_of_in_to_we\n",
      "  │   │ │   │   │ │ │ │ │   │ │ │     │ │ │ │ │ │           │ │ │ │ │   │ │                           │ │   │ │ │ │ │ │   │ │ │ │           ├─■──haiti_duvalier_haitian_haitians_nations ── Topic: 27\n",
      "  │   │ │   │   │ │ │ │ │   │ │ │     │ │ │ │ │ │           │ │ │ │ │   │ │                           │ │   │ │ │ │ │ │   │ │ │ │           └─the_of_to_and_in\n",
      "  │   │ │   │   │ │ │ │ │   │ │ │     │ │ │ │ │ │           │ │ │ │ │   │ │                           │ │   │ │ │ │ │ │   │ │ │ │             ├─■──panama_panamanian_panamanians_treaty_treaties ── Topic: 14\n",
      "  │   │ │   │   │ │ │ │ │   │ │ │     │ │ │ │ │ │           │ │ │ │ │   │ │                           │ │   │ │ │ │ │ │   │ │ │ │             └─the_of_and_to_in\n",
      "  │   │ │   │   │ │ │ │ │   │ │ │     │ │ │ │ │ │           │ │ │ │ │   │ │                           │ │   │ │ │ │ │ │   │ │ │ │               ├─of_the_and_in_to\n",
      "  │   │ │   │   │ │ │ │ │   │ │ │     │ │ │ │ │ │           │ │ │ │ │   │ │                           │ │   │ │ │ │ │ │   │ │ │ │               │ ├─■──asean_thailand_nations_asia_countries ── Topic: 41\n",
      "  │   │ │   │   │ │ │ │ │   │ │ │     │ │ │ │ │ │           │ │ │ │ │   │ │                           │ │   │ │ │ │ │ │   │ │ │ │               │ └─the_of_in_to_and\n",
      "  │   │ │   │   │ │ │ │ │   │ │ │     │ │ │ │ │ │           │ │ │ │ │   │ │                           │ │   │ │ │ │ │ │   │ │ │ │               │   ├─■──philippines_philippine_asean_manila_filipino ── Topic: 63\n",
      "  │   │ │   │   │ │ │ │ │   │ │ │     │ │ │ │ │ │           │ │ │ │ │   │ │                           │ │   │ │ │ │ │ │   │ │ │ │               │   └─the_of_and_to_in\n",
      "  │   │ │   │   │ │ │ │ │   │ │ │     │ │ │ │ │ │           │ │ │ │ │   │ │                           │ │   │ │ │ │ │ │   │ │ │ │               │     ├─■──disarmament_nations_canada_council_government ── Topic: 36\n",
      "  │   │ │   │   │ │ │ │ │   │ │ │     │ │ │ │ │ │           │ │ │ │ │   │ │                           │ │   │ │ │ │ │ │   │ │ │ │               │     └─the_of_and_to_in\n",
      "  │   │ │   │   │ │ │ │ │   │ │ │     │ │ │ │ │ │           │ │ │ │ │   │ │                           │ │   │ │ │ │ │ │   │ │ │ │               │       ├─and_the_to_of_we\n",
      "  │   │ │   │   │ │ │ │ │   │ │ │     │ │ │ │ │ │           │ │ │ │ │   │ │                           │ │   │ │ │ │ │ │   │ │ │ │               │       │ ├─the_of_and_to_in\n",
      "  │   │ │   │   │ │ │ │ │   │ │ │     │ │ │ │ │ │           │ │ │ │ │   │ │                           │ │   │ │ │ │ │ │   │ │ │ │               │       │ │ ├─and_the_to_of_we\n",
      "  │   │ │   │   │ │ │ │ │   │ │ │     │ │ │ │ │ │           │ │ │ │ │   │ │                           │ │   │ │ │ │ │ │   │ │ │ │               │       │ │ │ ├─and_the_to_of_we\n",
      "  │   │ │   │   │ │ │ │ │   │ │ │     │ │ │ │ │ │           │ │ │ │ │   │ │                           │ │   │ │ │ │ │ │   │ │ │ │               │       │ │ │ │ ├─the_of_and_to_in\n",
      "  │   │ │   │   │ │ │ │ │   │ │ │     │ │ │ │ │ │           │ │ │ │ │   │ │                           │ │   │ │ │ │ │ │   │ │ │ │               │       │ │ │ │ │ ├─our_we_to_that_06\n",
      "  │   │ │   │   │ │ │ │ │   │ │ │     │ │ │ │ │ │           │ │ │ │ │   │ │                           │ │   │ │ │ │ │ │   │ │ │ │               │       │ │ │ │ │ │ ├─■──mediation_peaceful_sudan_peace_libya ── Topic: 148\n",
      "  │   │ │   │   │ │ │ │ │   │ │ │     │ │ │ │ │ │           │ │ │ │ │   │ │                           │ │   │ │ │ │ │ │   │ │ │ │               │       │ │ │ │ │ │ └─and_the_to_of_we\n",
      "  │   │ │   │   │ │ │ │ │   │ │ │     │ │ │ │ │ │           │ │ │ │ │   │ │                           │ │   │ │ │ │ │ │   │ │ │ │               │       │ │ │ │ │ │   ├─is_our_we_this_it\n",
      "  │   │ │   │   │ │ │ │ │   │ │ │     │ │ │ │ │ │           │ │ │ │ │   │ │                           │ │   │ │ │ │ │ │   │ │ │ │               │       │ │ │ │ │ │   │ ├─■──multilateralism_multilateral_nations_peace_agenda ── Topic: 183\n",
      "  │   │ │   │   │ │ │ │ │   │ │ │     │ │ │ │ │ │           │ │ │ │ │   │ │                           │ │   │ │ │ │ │ │   │ │ │ │               │       │ │ │ │ │ │   │ └─netherlands_irian_indonesia_west_the\n",
      "  │   │ │   │   │ │ │ │ │   │ │ │     │ │ │ │ │ │           │ │ │ │ │   │ │                           │ │   │ │ │ │ │ │   │ │ │ │               │       │ │ │ │ │ │   │   ├─the_and_to_of_in\n",
      "  │   │ │   │   │ │ │ │ │   │ │ │     │ │ │ │ │ │           │ │ │ │ │   │ │                           │ │   │ │ │ │ │ │   │ │ │ │               │       │ │ │ │ │ │   │   │ ├─netherlands_irian_the_to_of\n",
      "  │   │ │   │   │ │ │ │ │   │ │ │     │ │ │ │ │ │           │ │ │ │ │   │ │                           │ │   │ │ │ │ │ │   │ │ │ │               │       │ │ │ │ │ │   │   │ │ ├─■──multilateralism_economies_economy_governance_economic ── Topic: 136\n",
      "  │   │ │   │   │ │ │ │ │   │ │ │     │ │ │ │ │ │           │ │ │ │ │   │ │                           │ │   │ │ │ │ │ │   │ │ │ │               │       │ │ │ │ │ │   │   │ │ └─■──poverty_agriculture_food_hunger_mali ── Topic: 77\n",
      "  │   │ │   │   │ │ │ │ │   │ │ │     │ │ │ │ │ │           │ │ │ │ │   │ │                           │ │   │ │ │ │ │ │   │ │ │ │               │       │ │ │ │ │ │   │   │ └─■──pandemic_coronavirus_multilateralism_covid_vaccines ── Topic: 0\n",
      "  │   │ │   │   │ │ │ │ │   │ │ │     │ │ │ │ │ │           │ │ │ │ │   │ │                           │ │   │ │ │ │ │ │   │ │ │ │               │       │ │ │ │ │ │   │   └─■──nations_malawi_agenda_world_countries ── Topic: 177\n",
      "  │   │ │   │   │ │ │ │ │   │ │ │     │ │ │ │ │ │           │ │ │ │ │   │ │                           │ │   │ │ │ │ │ │   │ │ │ │               │       │ │ │ │ │ │   └─■──sudan_darfur_humanitarian_sudanese_peace ── Topic: 12\n",
      "  │   │ │   │   │ │ │ │ │   │ │ │     │ │ │ │ │ │           │ │ │ │ │   │ │                           │ │   │ │ │ │ │ │   │ │ │ │               │       │ │ │ │ │ └─the_of_to_and_in\n",
      "  │   │ │   │   │ │ │ │ │   │ │ │     │ │ │ │ │ │           │ │ │ │ │   │ │                           │ │   │ │ │ │ │ │   │ │ │ │               │       │ │ │ │ │   ├─■──jamaica_nations_caribbean_countries_peace ── Topic: 110\n",
      "  │   │ │   │   │ │ │ │ │   │ │ │     │ │ │ │ │ │           │ │ │ │ │   │ │                           │ │   │ │ │ │ │ │   │ │ │ │               │       │ │ │ │ │   └─the_to_and_of_in\n",
      "  │   │ │   │   │ │ │ │ │   │ │ │     │ │ │ │ │ │           │ │ │ │ │   │ │                           │ │   │ │ │ │ │ │   │ │ │ │               │       │ │ │ │ │     ├─■──barbados_antigua_haiti_caribbean_nations ── Topic: 56\n",
      "  │   │ │   │   │ │ │ │ │   │ │ │     │ │ │ │ │ │           │ │ │ │ │   │ │                           │ │   │ │ │ │ │ │   │ │ │ │               │       │ │ │ │ │     └─the_of_and_to_in\n",
      "  │   │ │   │   │ │ │ │ │   │ │ │     │ │ │ │ │ │           │ │ │ │ │   │ │                           │ │   │ │ │ │ │ │   │ │ │ │               │       │ │ │ │ │       ├─■──climate_haiti_bahamas_dominica_barbados ── Topic: 154\n",
      "  │   │ │   │   │ │ │ │ │   │ │ │     │ │ │ │ │ │           │ │ │ │ │   │ │                           │ │   │ │ │ │ │ │   │ │ │ │               │       │ │ │ │ │       └─of_the_and_in_to\n",
      "  │   │ │   │   │ │ │ │ │   │ │ │     │ │ │ │ │ │           │ │ │ │ │   │ │                           │ │   │ │ │ │ │ │   │ │ │ │               │       │ │ │ │ │         ├─■──dominica_nations_lucia_barbados_countries ── Topic: 107\n",
      "  │   │ │   │   │ │ │ │ │   │ │ │     │ │ │ │ │ │           │ │ │ │ │   │ │                           │ │   │ │ │ │ │ │   │ │ │ │               │       │ │ │ │ │         └─■──haiti_dominica_hurricane_grenada_caribbean ── Topic: 200\n",
      "  │   │ │   │   │ │ │ │ │   │ │ │     │ │ │ │ │ │           │ │ │ │ │   │ │                           │ │   │ │ │ │ │ │   │ │ │ │               │       │ │ │ │ └─the_of_and_to_in\n",
      "  │   │ │   │   │ │ │ │ │   │ │ │     │ │ │ │ │ │           │ │ │ │ │   │ │                           │ │   │ │ │ │ │ │   │ │ │ │               │       │ │ │ │   ├─the_of_and_to_in\n",
      "  │   │ │   │   │ │ │ │ │   │ │ │     │ │ │ │ │ │           │ │ │ │ │   │ │                           │ │   │ │ │ │ │ │   │ │ │ │               │       │ │ │ │   │ ├─the_of_and_to_in\n",
      "  │   │ │   │   │ │ │ │ │   │ │ │     │ │ │ │ │ │           │ │ │ │ │   │ │                           │ │   │ │ │ │ │ │   │ │ │ │               │       │ │ │ │   │ │ ├─the_of_and_to_in\n",
      "  │   │ │   │   │ │ │ │ │   │ │ │     │ │ │ │ │ │           │ │ │ │ │   │ │                           │ │   │ │ │ │ │ │   │ │ │ │               │       │ │ │ │   │ │ │ ├─the_of_in_and_to\n",
      "  │   │ │   │   │ │ │ │ │   │ │ │     │ │ │ │ │ │           │ │ │ │ │   │ │                           │ │   │ │ │ │ │ │   │ │ │ │               │       │ │ │ │   │ │ │ │ ├─■──treaty_disarmament_nations_zealand_countries ── Topic: 91\n",
      "  │   │ │   │   │ │ │ │ │   │ │ │     │ │ │ │ │ │           │ │ │ │ │   │ │                           │ │   │ │ │ │ │ │   │ │ │ │               │       │ │ │ │   │ │ │ │ └─■──treaty_nations_countries_australia_council ── Topic: 73\n",
      "  │   │ │   │   │ │ │ │ │   │ │ │     │ │ │ │ │ │           │ │ │ │ │   │ │                           │ │   │ │ │ │ │ │   │ │ │ │               │       │ │ │ │   │ │ │ └─of_the_to_be_in\n",
      "  │   │ │   │   │ │ │ │ │   │ │ │     │ │ │ │ │ │           │ │ │ │ │   │ │                           │ │   │ │ │ │ │ │   │ │ │ │               │       │ │ │ │   │ │ │   ├─■──nations_countries_peace_negotiations_netherlands ── Topic: 192\n",
      "  │   │ │   │   │ │ │ │ │   │ │ │     │ │ │ │ │ │           │ │ │ │ │   │ │                           │ │   │ │ │ │ │ │   │ │ │ │               │       │ │ │ │   │ │ │   └─the_of_and_in_is\n",
      "  │   │ │   │   │ │ │ │ │   │ │ │     │ │ │ │ │ │           │ │ │ │ │   │ │                           │ │   │ │ │ │ │ │   │ │ │ │               │       │ │ │ │   │ │ │     ├─■──myanmar_burma_peaceful_disarmament_burmese ── Topic: 40\n",
      "  │   │ │   │   │ │ │ │ │   │ │ │     │ │ │ │ │ │           │ │ │ │ │   │ │                           │ │   │ │ │ │ │ │   │ │ │ │               │       │ │ │ │   │ │ │     └─the_to_of_and_in\n",
      "  │   │ │   │   │ │ │ │ │   │ │ │     │ │ │ │ │ │           │ │ │ │ │   │ │                           │ │   │ │ │ │ │ │   │ │ │ │               │       │ │ │ │   │ │ │       ├─■──ethiopia_eritrea_somalia_africa_nations ── Topic: 94\n",
      "  │   │ │   │   │ │ │ │ │   │ │ │     │ │ │ │ │ │           │ │ │ │ │   │ │                           │ │   │ │ │ │ │ │   │ │ │ │               │       │ │ │ │   │ │ │       └─the_of_to_and_in\n",
      "  │   │ │   │   │ │ │ │ │   │ │ │     │ │ │ │ │ │           │ │ │ │ │   │ │                           │ │   │ │ │ │ │ │   │ │ │ │               │       │ │ │ │   │ │ │         ├─■──liberia_liberians_liberian_africa_nations ── Topic: 32\n",
      "  │   │ │   │   │ │ │ │ │   │ │ │     │ │ │ │ │ │           │ │ │ │ │   │ │                           │ │   │ │ │ │ │ │   │ │ │ │               │       │ │ │ │   │ │ │         └─the_of_to_in_and\n",
      "  │   │ │   │   │ │ │ │ │   │ │ │     │ │ │ │ │ │           │ │ │ │ │   │ │                           │ │   │ │ │ │ │ │   │ │ │ │               │       │ │ │ │   │ │ │           ├─the_of_to_and_in\n",
      "  │   │ │   │   │ │ │ │ │   │ │ │     │ │ │ │ │ │           │ │ │ │ │   │ │                           │ │   │ │ │ │ │ │   │ │ │ │               │       │ │ │ │   │ │ │           │ ├─■──togo_togolese_nations_democracy_africa ── Topic: 116\n",
      "  │   │ │   │   │ │ │ │ │   │ │ │     │ │ │ │ │ │           │ │ │ │ │   │ │                           │ │   │ │ │ │ │ │   │ │ │ │               │       │ │ │ │   │ │ │           │ └─the_of_to_and_in\n",
      "  │   │ │   │   │ │ │ │ │   │ │ │     │ │ │ │ │ │           │ │ │ │ │   │ │                           │ │   │ │ │ │ │ │   │ │ │ │               │       │ │ │ │   │ │ │           │   ├─the_and_of_in_to\n",
      "  │   │ │   │   │ │ │ │ │   │ │ │     │ │ │ │ │ │           │ │ │ │ │   │ │                           │ │   │ │ │ │ │ │   │ │ │ │               │       │ │ │ │   │ │ │           │   │ ├─■──guinea_guinean_nations_africa_colonialism ── Topic: 85\n",
      "  │   │ │   │   │ │ │ │ │   │ │ │     │ │ │ │ │ │           │ │ │ │ │   │ │                           │ │   │ │ │ │ │ │   │ │ │ │               │       │ │ │ │   │ │ │           │   │ └─of_the_to_in_and\n",
      "  │   │ │   │   │ │ │ │ │   │ │ │     │ │ │ │ │ │           │ │ │ │ │   │ │                           │ │   │ │ │ │ │ │   │ │ │ │               │       │ │ │ │   │ │ │           │   │   ├─■──congo_congolese_angola_disarmament_africa ── Topic: 65\n",
      "  │   │ │   │   │ │ │ │ │   │ │ │     │ │ │ │ │ │           │ │ │ │ │   │ │                           │ │   │ │ │ │ │ │   │ │ │ │               │       │ │ │ │   │ │ │           │   │   └─of_the_and_to_in\n",
      "  │   │ │   │   │ │ │ │ │   │ │ │     │ │ │ │ │ │           │ │ │ │ │   │ │                           │ │   │ │ │ │ │ │   │ │ │ │               │       │ │ │ │   │ │ │           │   │     ├─■──cameroon_cameroons_nations_africa_delegation ── Topic: 164\n",
      "  │   │ │   │   │ │ │ │ │   │ │ │     │ │ │ │ │ │           │ │ │ │ │   │ │                           │ │   │ │ │ │ │ │   │ │ │ │               │       │ │ │ │   │ │ │           │   │     └─the_of_and_in_to\n",
      "  │   │ │   │   │ │ │ │ │   │ │ │     │ │ │ │ │ │           │ │ │ │ │   │ │                           │ │   │ │ │ │ │ │   │ │ │ │               │       │ │ │ │   │ │ │           │   │       ├─the_of_and_in_to\n",
      "  │   │ │   │   │ │ │ │ │   │ │ │     │ │ │ │ │ │           │ │ │ │ │   │ │                           │ │   │ │ │ │ │ │   │ │ │ │               │       │ │ │ │   │ │ │           │   │       │ ├─■──congo_nations_algerian_africa_hammarskjold ── Topic: 185\n",
      "  │   │ │   │   │ │ │ │ │   │ │ │     │ │ │ │ │ │           │ │ │ │ │   │ │                           │ │   │ │ │ │ │ │   │ │ │ │               │       │ │ │ │   │ │ │           │   │       │ └─■──disarmament_ceylon_nations_malaya_delegation ── Topic: 189\n",
      "  │   │ │   │   │ │ │ │ │   │ │ │     │ │ │ │ │ │           │ │ │ │ │   │ │                           │ │   │ │ │ │ │ │   │ │ │ │               │       │ │ │ │   │ │ │           │   │       └─the_of_to_and_in\n",
      "  │   │ │   │   │ │ │ │ │   │ │ │     │ │ │ │ │ │           │ │ │ │ │   │ │                           │ │   │ │ │ │ │ │   │ │ │ │               │       │ │ │ │   │ │ │           │   │         ├─■──disarmament_peaceful_nations_countries_palestine ── Topic: 188\n",
      "  │   │ │   │   │ │ │ │ │   │ │ │     │ │ │ │ │ │           │ │ │ │ │   │ │                           │ │   │ │ │ │ │ │   │ │ │ │               │       │ │ │ │   │ │ │           │   │         └─the_of_to_and_is\n",
      "  │   │ │   │   │ │ │ │ │   │ │ │     │ │ │ │ │ │           │ │ │ │ │   │ │                           │ │   │ │ │ │ │ │   │ │ │ │               │       │ │ │ │   │ │ │           │   │           ├─■──italy_disarmament_nations_italian_countries ── Topic: 70\n",
      "  │   │ │   │   │ │ │ │ │   │ │ │     │ │ │ │ │ │           │ │ │ │ │   │ │                           │ │   │ │ │ │ │ │   │ │ │ │               │       │ │ │ │   │ │ │           │   │           └─the_of_and_in_to\n",
      "  │   │ │   │   │ │ │ │ │   │ │ │     │ │ │ │ │ │           │ │ │ │ │   │ │                           │ │   │ │ │ │ │ │   │ │ │ │               │       │ │ │ │   │ │ │           │   │             ├─■──disarmament_nations_denmark_iceland_nation ── Topic: 92\n",
      "  │   │ │   │   │ │ │ │ │   │ │ │     │ │ │ │ │ │           │ │ │ │ │   │ │                           │ │   │ │ │ │ │ │   │ │ │ │               │       │ │ │ │   │ │ │           │   │             └─climate_norway_sustainable_our_we\n",
      "  │   │ │   │   │ │ │ │ │   │ │ │     │ │ │ │ │ │           │ │ │ │ │   │ │                           │ │   │ │ │ │ │ │   │ │ │ │               │       │ │ │ │   │ │ │           │   │               ├─climate_norway_sustainable_our_we\n",
      "  │   │ │   │   │ │ │ │ │   │ │ │     │ │ │ │ │ │           │ │ │ │ │   │ │                           │ │   │ │ │ │ │ │   │ │ │ │               │       │ │ │ │   │ │ │           │   │               │ ├─■──peaceful_disarmament_nations_countries_peace ── Topic: 193\n",
      "  │   │ │   │   │ │ │ │ │   │ │ │     │ │ │ │ │ │           │ │ │ │ │   │ │                           │ │   │ │ │ │ │ │   │ │ │ │               │       │ │ │ │   │ │ │           │   │               │ └─the_to_and_of_in\n",
      "  │   │ │   │   │ │ │ │ │   │ │ │     │ │ │ │ │ │           │ │ │ │ │   │ │                           │ │   │ │ │ │ │ │   │ │ │ │               │       │ │ │ │   │ │ │           │   │               │   ├─■──disarmament_peaceful_war_nations_hungary ── Topic: 31\n",
      "  │   │ │   │   │ │ │ │ │   │ │ │     │ │ │ │ │ │           │ │ │ │ │   │ │                           │ │   │ │ │ │ │ │   │ │ │ │               │       │ │ │ │   │ │ │           │   │               │   └─the_of_to_in_and\n",
      "  │   │ │   │   │ │ │ │ │   │ │ │     │ │ │ │ │ │           │ │ │ │ │   │ │                           │ │   │ │ │ │ │ │   │ │ │ │               │       │ │ │ │   │ │ │           │   │               │     ├─■──treaty_disarmament_peaceful_czechoslovakia_nations ── Topic: 80\n",
      "  │   │ │   │   │ │ │ │ │   │ │ │     │ │ │ │ │ │           │ │ │ │ │   │ │                           │ │   │ │ │ │ │ │   │ │ │ │               │       │ │ │ │   │ │ │           │   │               │     └─the_of_to_and_in\n",
      "  │   │ │   │   │ │ │ │ │   │ │ │     │ │ │ │ │ │           │ │ │ │ │   │ │                           │ │   │ │ │ │ │ │   │ │ │ │               │       │ │ │ │   │ │ │           │   │               │       ├─■──poland_disarmament_polish_nations_peaceful ── Topic: 43\n",
      "  │   │ │   │   │ │ │ │ │   │ │ │     │ │ │ │ │ │           │ │ │ │ │   │ │                           │ │   │ │ │ │ │ │   │ │ │ │               │       │ │ │ │   │ │ │           │   │               │       └─■──disarmament_treaty_peaceful_nations_peace ── Topic: 129\n",
      "  │   │ │   │   │ │ │ │ │   │ │ │     │ │ │ │ │ │           │ │ │ │ │   │ │                           │ │   │ │ │ │ │ │   │ │ │ │               │       │ │ │ │   │ │ │           │   │               └─the_of_and_to_in\n",
      "  │   │ │   │   │ │ │ │ │   │ │ │     │ │ │ │ │ │           │ │ │ │ │   │ │                           │ │   │ │ │ │ │ │   │ │ │ │               │       │ │ │ │   │ │ │           │   │                 ├─the_of_to_and_in\n",
      "  │   │ │   │   │ │ │ │ │   │ │ │     │ │ │ │ │ │           │ │ │ │ │   │ │                           │ │   │ │ │ │ │ │   │ │ │ │               │       │ │ │ │   │ │ │           │   │                 │ ├─the_of_and_to_in\n",
      "  │   │ │   │   │ │ │ │ │   │ │ │     │ │ │ │ │ │           │ │ │ │ │   │ │                           │ │   │ │ │ │ │ │   │ │ │ │               │       │ │ │ │   │ │ │           │   │                 │ │ ├─the_of_to_and_in\n",
      "  │   │ │   │   │ │ │ │ │   │ │ │     │ │ │ │ │ │           │ │ │ │ │   │ │                           │ │   │ │ │ │ │ │   │ │ │ │               │       │ │ │ │   │ │ │           │   │                 │ │ │ ├─the_of_to_and_in\n",
      "  │   │ │   │   │ │ │ │ │   │ │ │     │ │ │ │ │ │           │ │ │ │ │   │ │                           │ │   │ │ │ │ │ │   │ │ │ │               │       │ │ │ │   │ │ │           │   │                 │ │ │ │ ├─the_of_and_to_in\n",
      "  │   │ │   │   │ │ │ │ │   │ │ │     │ │ │ │ │ │           │ │ │ │ │   │ │                           │ │   │ │ │ │ │ │   │ │ │ │               │       │ │ │ │   │ │ │           │   │                 │ │ │ │ │ ├─■──terrorism_terrorists_terrorist_terror_taliban ── Topic: 45\n",
      "  │   │ │   │   │ │ │ │ │   │ │ │     │ │ │ │ │ │           │ │ │ │ │   │ │                           │ │   │ │ │ │ │ │   │ │ │ │               │       │ │ │ │   │ │ │           │   │                 │ │ │ │ │ └─the_of_in_and_to\n",
      "  │   │ │   │   │ │ │ │ │   │ │ │     │ │ │ │ │ │           │ │ │ │ │   │ │                           │ │   │ │ │ │ │ │   │ │ │ │               │       │ │ │ │   │ │ │           │   │                 │ │ │ │ │   ├─the_of_in_and_to\n",
      "  │   │ │   │   │ │ │ │ │   │ │ │     │ │ │ │ │ │           │ │ │ │ │   │ │                           │ │   │ │ │ │ │ │   │ │ │ │               │       │ │ │ │   │ │ │           │   │                 │ │ │ │ │   │ ├─■──iraq_timor_terrorism_nations_countries ── Topic: 52\n",
      "  │   │ │   │   │ │ │ │ │   │ │ │     │ │ │ │ │ │           │ │ │ │ │   │ │                           │ │   │ │ │ │ │ │   │ │ │ │               │       │ │ │ │   │ │ │           │   │                 │ │ │ │ │   │ └─■──annan_terrorism_terrorist_terrorists_peace ── Topic: 4\n",
      "  │   │ │   │   │ │ │ │ │   │ │ │     │ │ │ │ │ │           │ │ │ │ │   │ │                           │ │   │ │ │ │ │ │   │ │ │ │               │       │ │ │ │   │ │ │           │   │                 │ │ │ │ │   └─the_of_and_to_in\n",
      "  │   │ │   │   │ │ │ │ │   │ │ │     │ │ │ │ │ │           │ │ │ │ │   │ │                           │ │   │ │ │ │ │ │   │ │ │ │               │       │ │ │ │   │ │ │           │   │                 │ │ │ │ │     ├─and_to_we_the_our\n",
      "  │   │ │   │   │ │ │ │ │   │ │ │     │ │ │ │ │ │           │ │ │ │ │   │ │                           │ │   │ │ │ │ │ │   │ │ │ │               │       │ │ │ │   │ │ │           │   │                 │ │ │ │ │     │ ├─and_to_we_the_that\n",
      "  │   │ │   │   │ │ │ │ │   │ │ │     │ │ │ │ │ │           │ │ │ │ │   │ │                           │ │   │ │ │ │ │ │   │ │ │ │               │       │ │ │ │   │ │ │           │   │                 │ │ │ │ │     │ │ ├─■──namibia_angola_ethiopia_nations_africa ── Topic: 24\n",
      "  │   │ │   │   │ │ │ │ │   │ │ │     │ │ │ │ │ │           │ │ │ │ │   │ │                           │ │   │ │ │ │ │ │   │ │ │ │               │       │ │ │ │   │ │ │           │   │                 │ │ │ │ │     │ │ └─to_and_the_that_of\n",
      "  │   │ │   │   │ │ │ │ │   │ │ │     │ │ │ │ │ │           │ │ │ │ │   │ │                           │ │   │ │ │ │ │ │   │ │ │ │               │       │ │ │ │   │ │ │           │   │                 │ │ │ │ │     │ │   ├─■──globalization_nations_reform_peace_world ── Topic: 9\n",
      "  │   │ │   │   │ │ │ │ │   │ │ │     │ │ │ │ │ │           │ │ │ │ │   │ │                           │ │   │ │ │ │ │ │   │ │ │ │               │       │ │ │ │   │ │ │           │   │                 │ │ │ │ │     │ │   └─■──peacekeeping_nations_globalization_peace_countries ── Topic: 13\n",
      "  │   │ │   │   │ │ │ │ │   │ │ │     │ │ │ │ │ │           │ │ │ │ │   │ │                           │ │   │ │ │ │ │ │   │ │ │ │               │       │ │ │ │   │ │ │           │   │                 │ │ │ │ │     │ └─■──nations_globalization_kosovo_countries_peace ── Topic: 134\n",
      "  │   │ │   │   │ │ │ │ │   │ │ │     │ │ │ │ │ │           │ │ │ │ │   │ │                           │ │   │ │ │ │ │ │   │ │ │ │               │       │ │ │ │   │ │ │           │   │                 │ │ │ │ │     └─of_the_to_and_in\n",
      "  │   │ │   │   │ │ │ │ │   │ │ │     │ │ │ │ │ │           │ │ │ │ │   │ │                           │ │   │ │ │ │ │ │   │ │ │ │               │       │ │ │ │   │ │ │           │   │                 │ │ │ │ │       ├─■──nations_terrorism_peace_countries_world ── Topic: 11\n",
      "  │   │ │   │   │ │ │ │ │   │ │ │     │ │ │ │ │ │           │ │ │ │ │   │ │                           │ │   │ │ │ │ │ │   │ │ │ │               │       │ │ │ │   │ │ │           │   │                 │ │ │ │ │       └─of_the_to_and_in\n",
      "  │   │ │   │   │ │ │ │ │   │ │ │     │ │ │ │ │ │           │ │ │ │ │   │ │                           │ │   │ │ │ │ │ │   │ │ │ │               │       │ │ │ │   │ │ │           │   │                 │ │ │ │ │         ├─■──climate_sustainable_nations_agenda_environment ── Topic: 7\n",
      "  │   │ │   │   │ │ │ │ │   │ │ │     │ │ │ │ │ │           │ │ │ │ │   │ │                           │ │   │ │ │ │ │ │   │ │ │ │               │       │ │ │ │   │ │ │           │   │                 │ │ │ │ │         └─■──poverty_africa_nations_agenda_countries ── Topic: 2\n",
      "  │   │ │   │   │ │ │ │ │   │ │ │     │ │ │ │ │ │           │ │ │ │ │   │ │                           │ │   │ │ │ │ │ │   │ │ │ │               │       │ │ │ │   │ │ │           │   │                 │ │ │ │ └─the_of_to_and_in\n",
      "  │   │ │   │   │ │ │ │ │   │ │ │     │ │ │ │ │ │           │ │ │ │ │   │ │                           │ │   │ │ │ │ │ │   │ │ │ │               │       │ │ │ │   │ │ │           │   │                 │ │ │ │   ├─■──portugal_angola_nations_timor_portuguese ── Topic: 23\n",
      "  │   │ │   │   │ │ │ │ │   │ │ │     │ │ │ │ │ │           │ │ │ │ │   │ │                           │ │   │ │ │ │ │ │   │ │ │ │               │       │ │ │ │   │ │ │           │   │                 │ │ │ │   └─the_of_to_and_in\n",
      "  │   │ │   │   │ │ │ │ │   │ │ │     │ │ │ │ │ │           │ │ │ │ │   │ │                           │ │   │ │ │ │ │ │   │ │ │ │               │       │ │ │ │   │ │ │           │   │                 │ │ │ │     ├─■──disarmament_bulgaria_balkans_nations_countries ── Topic: 19\n",
      "  │   │ │   │   │ │ │ │ │   │ │ │     │ │ │ │ │ │           │ │ │ │ │   │ │                           │ │   │ │ │ │ │ │   │ │ │ │               │       │ │ │ │   │ │ │           │   │                 │ │ │ │     └─the_of_to_and_in\n",
      "  │   │ │   │   │ │ │ │ │   │ │ │     │ │ │ │ │ │           │ │ │ │ │   │ │                           │ │   │ │ │ │ │ │   │ │ │ │               │       │ │ │ │   │ │ │           │   │                 │ │ │ │       ├─the_of_and_to_in\n",
      "  │   │ │   │   │ │ │ │ │   │ │ │     │ │ │ │ │ │           │ │ │ │ │   │ │                           │ │   │ │ │ │ │ │   │ │ │ │               │       │ │ │ │   │ │ │           │   │                 │ │ │ │       │ ├─■──peaceful_peace_nations_afghanistan_lebanon ── Topic: 174\n",
      "  │   │ │   │   │ │ │ │ │   │ │ │     │ │ │ │ │ │           │ │ │ │ │   │ │                           │ │   │ │ │ │ │ │   │ │ │ │               │       │ │ │ │   │ │ │           │   │                 │ │ │ │       │ └─the_and_of_to_in\n",
      "  │   │ │   │   │ │ │ │ │   │ │ │     │ │ │ │ │ │           │ │ │ │ │   │ │                           │ │   │ │ │ │ │ │   │ │ │ │               │       │ │ │ │   │ │ │           │   │                 │ │ │ │       │   ├─■──nations_countries_europe_peace_belgium ── Topic: 22\n",
      "  │   │ │   │   │ │ │ │ │   │ │ │     │ │ │ │ │ │           │ │ │ │ │   │ │                           │ │   │ │ │ │ │ │   │ │ │ │               │       │ │ │ │   │ │ │           │   │                 │ │ │ │       │   └─sustainable_70_and_development_our\n",
      "  │   │ │   │   │ │ │ │ │   │ │ │     │ │ │ │ │ │           │ │ │ │ │   │ │                           │ │   │ │ │ │ │ │   │ │ │ │               │       │ │ │ │   │ │ │           │   │                 │ │ │ │       │     ├─and_the_to_of_in\n",
      "  │   │ │   │   │ │ │ │ │   │ │ │     │ │ │ │ │ │           │ │ │ │ │   │ │                           │ │   │ │ │ │ │ │   │ │ │ │               │       │ │ │ │   │ │ │           │   │                 │ │ │ │       │     │ ├─■──nations_countries_democracy_peace_korea ── Topic: 62\n",
      "  │   │ │   │   │ │ │ │ │   │ │ │     │ │ │ │ │ │           │ │ │ │ │   │ │                           │ │   │ │ │ │ │ │   │ │ │ │               │       │ │ │ │   │ │ │           │   │                 │ │ │ │       │     │ └─■──liechtenstein_namibia_peaceful_nations_kuwait ── Topic: 114\n",
      "  │   │ │   │   │ │ │ │ │   │ │ │     │ │ │ │ │ │           │ │ │ │ │   │ │                           │ │   │ │ │ │ │ │   │ │ │ │               │       │ │ │ │   │ │ │           │   │                 │ │ │ │       │     └─■──liechtenstein_nations_kuwait_countries_iraq ── Topic: 145\n",
      "  │   │ │   │   │ │ │ │ │   │ │ │     │ │ │ │ │ │           │ │ │ │ │   │ │                           │ │   │ │ │ │ │ │   │ │ │ │               │       │ │ │ │   │ │ │           │   │                 │ │ │ │       └─of_the_in_is_that\n",
      "  │   │ │   │   │ │ │ │ │   │ │ │     │ │ │ │ │ │           │ │ │ │ │   │ │                           │ │   │ │ │ │ │ │   │ │ │ │               │       │ │ │ │   │ │ │           │   │                 │ │ │ │         ├─■──guyana_nations_venezuela_countries_general ── Topic: 54\n",
      "  │   │ │   │   │ │ │ │ │   │ │ │     │ │ │ │ │ │           │ │ │ │ │   │ │                           │ │   │ │ │ │ │ │   │ │ │ │               │       │ │ │ │   │ │ │           │   │                 │ │ │ │         └─the_in_and_to_of\n",
      "  │   │ │   │   │ │ │ │ │   │ │ │     │ │ │ │ │ │           │ │ │ │ │   │ │                           │ │   │ │ │ │ │ │   │ │ │ │               │       │ │ │ │   │ │ │           │   │                 │ │ │ │           ├─■──nations_india_countries_peace_indian ── Topic: 96\n",
      "  │   │ │   │   │ │ │ │ │   │ │ │     │ │ │ │ │ │           │ │ │ │ │   │ │                           │ │   │ │ │ │ │ │   │ │ │ │               │       │ │ │ │   │ │ │           │   │                 │ │ │ │           └─the_of_to_and_in\n",
      "  │   │ │   │   │ │ │ │ │   │ │ │     │ │ │ │ │ │           │ │ │ │ │   │ │                           │ │   │ │ │ │ │ │   │ │ │ │               │       │ │ │ │   │ │ │           │   │                 │ │ │ │             ├─■──indonesia_asean_indonesian_nations_peace ── Topic: 51\n",
      "  │   │ │   │   │ │ │ │ │   │ │ │     │ │ │ │ │ │           │ │ │ │ │   │ │                           │ │   │ │ │ │ │ │   │ │ │ │               │       │ │ │ │   │ │ │           │   │                 │ │ │ │             └─of_which_the_in_to\n",
      "  │   │ │   │   │ │ │ │ │   │ │ │     │ │ │ │ │ │           │ │ │ │ │   │ │                           │ │   │ │ │ │ │ │   │ │ │ │               │       │ │ │ │   │ │ │           │   │                 │ │ │ │               ├─■──treaty_swaziland_nations_rhodesia_countries ── Topic: 171\n",
      "  │   │ │   │   │ │ │ │ │   │ │ │     │ │ │ │ │ │           │ │ │ │ │   │ │                           │ │   │ │ │ │ │ │   │ │ │ │               │       │ │ │ │   │ │ │           │   │                 │ │ │ │               └─the_of_to_and_in\n",
      "  │   │ │   │   │ │ │ │ │   │ │ │     │ │ │ │ │ │           │ │ │ │ │   │ │                           │ │   │ │ │ │ │ │   │ │ │ │               │       │ │ │ │   │ │ │           │   │                 │ │ │ │                 ├─the_of_to_and_in\n",
      "  │   │ │   │   │ │ │ │ │   │ │ │     │ │ │ │ │ │           │ │ │ │ │   │ │                           │ │   │ │ │ │ │ │   │ │ │ │               │       │ │ │ │   │ │ │           │   │                 │ │ │ │                 │ ├─the_of_to_and_in\n",
      "  │   │ │   │   │ │ │ │ │   │ │ │     │ │ │ │ │ │           │ │ │ │ │   │ │                           │ │   │ │ │ │ │ │   │ │ │ │               │       │ │ │ │   │ │ │           │   │                 │ │ │ │                 │ │ ├─the_of_to_and_in\n",
      "  │   │ │   │   │ │ │ │ │   │ │ │     │ │ │ │ │ │           │ │ │ │ │   │ │                           │ │   │ │ │ │ │ │   │ │ │ │               │       │ │ │ │   │ │ │           │   │                 │ │ │ │                 │ │ │ ├─■──niger_nigeria_nigerian_nations_africa ── Topic: 105\n",
      "  │   │ │   │   │ │ │ │ │   │ │ │     │ │ │ │ │ │           │ │ │ │ │   │ │                           │ │   │ │ │ │ │ │   │ │ │ │               │       │ │ │ │   │ │ │           │   │                 │ │ │ │                 │ │ │ └─the_to_of_and_in\n",
      "  │   │ │   │   │ │ │ │ │   │ │ │     │ │ │ │ │ │           │ │ │ │ │   │ │                           │ │   │ │ │ │ │ │   │ │ │ │               │       │ │ │ │   │ │ │           │   │                 │ │ │ │                 │ │ │   ├─■──apartheid_nations_africa_agenda_delegation ── Topic: 21\n",
      "  │   │ │   │   │ │ │ │ │   │ │ │     │ │ │ │ │ │           │ │ │ │ │   │ │                           │ │   │ │ │ │ │ │   │ │ │ │               │       │ │ │ │   │ │ │           │   │                 │ │ │ │                 │ │ │   └─the_of_to_and_in\n",
      "  │   │ │   │   │ │ │ │ │   │ │ │     │ │ │ │ │ │           │ │ │ │ │   │ │                           │ │   │ │ │ │ │ │   │ │ │ │               │       │ │ │ │   │ │ │           │   │                 │ │ │ │                 │ │ │     ├─■──peaceful_nations_peace_negotiations_countries ── Topic: 181\n",
      "  │   │ │   │   │ │ │ │ │   │ │ │     │ │ │ │ │ │           │ │ │ │ │   │ │                           │ │   │ │ │ │ │ │   │ │ │ │               │       │ │ │ │   │ │ │           │   │                 │ │ │ │                 │ │ │     └─the_of_to_and_in\n",
      "  │   │ │   │   │ │ │ │ │   │ │ │     │ │ │ │ │ │           │ │ │ │ │   │ │                           │ │   │ │ │ │ │ │   │ │ │ │               │       │ │ │ │   │ │ │           │   │                 │ │ │ │                 │ │ │       ├─and_to_we_the_in\n",
      "  │   │ │   │   │ │ │ │ │   │ │ │     │ │ │ │ │ │           │ │ │ │ │   │ │                           │ │   │ │ │ │ │ │   │ │ │ │               │       │ │ │ │   │ │ │           │   │                 │ │ │ │                 │ │ │       │ ├─■──nations_mexico_countries_peace_war ── Topic: 8\n",
      "  │   │ │   │   │ │ │ │ │   │ │ │     │ │ │ │ │ │           │ │ │ │ │   │ │                           │ │   │ │ │ │ │ │   │ │ │ │               │       │ │ │ │   │ │ │           │   │                 │ │ │ │                 │ │ │       │ └─■──disarmament_peaceful_peace_nations_afghanistan ── Topic: 69\n",
      "  │   │ │   │   │ │ │ │ │   │ │ │     │ │ │ │ │ │           │ │ │ │ │   │ │                           │ │   │ │ │ │ │ │   │ │ │ │               │       │ │ │ │   │ │ │           │   │                 │ │ │ │                 │ │ │       └─the_of_to_in_and\n",
      "  │   │ │   │   │ │ │ │ │   │ │ │     │ │ │ │ │ │           │ │ │ │ │   │ │                           │ │   │ │ │ │ │ │   │ │ │ │               │       │ │ │ │   │ │ │           │   │                 │ │ │ │                 │ │ │         ├─the_to_nations_and_united\n",
      "  │   │ │   │   │ │ │ │ │   │ │ │     │ │ │ │ │ │           │ │ │ │ │   │ │                           │ │   │ │ │ │ │ │   │ │ │ │               │       │ │ │ │   │ │ │           │   │                 │ │ │ │                 │ │ │         │ ├─the_of_to_in_and\n",
      "  │   │ │   │   │ │ │ │ │   │ │ │     │ │ │ │ │ │           │ │ │ │ │   │ │                           │ │   │ │ │ │ │ │   │ │ │ │               │       │ │ │ │   │ │ │           │   │                 │ │ │ │                 │ │ │         │ │ ├─the_of_to_in_and\n",
      "  │   │ │   │   │ │ │ │ │   │ │ │     │ │ │ │ │ │           │ │ │ │ │   │ │                           │ │   │ │ │ │ │ │   │ │ │ │               │       │ │ │ │   │ │ │           │   │                 │ │ │ │                 │ │ │         │ │ │ ├─■──vanuatu_nations_namibia_secretarygeneral_countries ── Topic: 83\n",
      "  │   │ │   │   │ │ │ │ │   │ │ │     │ │ │ │ │ │           │ │ │ │ │   │ │                           │ │   │ │ │ │ │ │   │ │ │ │               │       │ │ │ │   │ │ │           │   │                 │ │ │ │                 │ │ │         │ │ │ └─■──zimbabwe_nations_namibia_africa_regime ── Topic: 17\n",
      "  │   │ │   │   │ │ │ │ │   │ │ │     │ │ │ │ │ │           │ │ │ │ │   │ │                           │ │   │ │ │ │ │ │   │ │ │ │               │       │ │ │ │   │ │ │           │   │                 │ │ │ │                 │ │ │         │ │ └─■──brunei_namibia_nations_africa_countries ── Topic: 16\n",
      "  │   │ │   │   │ │ │ │ │   │ │ │     │ │ │ │ │ │           │ │ │ │ │   │ │                           │ │   │ │ │ │ │ │   │ │ │ │               │       │ │ │ │   │ │ │           │   │                 │ │ │ │                 │ │ │         │ └─the_of_to_in_and\n",
      "  │   │ │   │   │ │ │ │ │   │ │ │     │ │ │ │ │ │           │ │ │ │ │   │ │                           │ │   │ │ │ │ │ │   │ │ │ │               │       │ │ │ │   │ │ │           │   │                 │ │ │ │                 │ │ │         │   ├─the_of_to_in_and\n",
      "  │   │ │   │   │ │ │ │ │   │ │ │     │ │ │ │ │ │           │ │ │ │ │   │ │                           │ │   │ │ │ │ │ │   │ │ │ │               │       │ │ │ │   │ │ │           │   │                 │ │ │ │                 │ │ │         │   │ ├─■──yugoslavia_disarmament_nations_countries_detente ── Topic: 97\n",
      "  │   │ │   │   │ │ │ │ │   │ │ │     │ │ │ │ │ │           │ │ │ │ │   │ │                           │ │   │ │ │ │ │ │   │ │ │ │               │       │ │ │ │   │ │ │           │   │                 │ │ │ │                 │ │ │         │   │ └─■──algeria_nations_africa_countries_general ── Topic: 3\n",
      "  │   │ │   │   │ │ │ │ │   │ │ │     │ │ │ │ │ │           │ │ │ │ │   │ │                           │ │   │ │ │ │ │ │   │ │ │ │               │       │ │ │ │   │ │ │           │   │                 │ │ │ │                 │ │ │         │   └─■──zimbabwe_africa_disarmament_nations_countries ── Topic: 138\n",
      "  │   │ │   │   │ │ │ │ │   │ │ │     │ │ │ │ │ │           │ │ │ │ │   │ │                           │ │   │ │ │ │ │ │   │ │ │ │               │       │ │ │ │   │ │ │           │   │                 │ │ │ │                 │ │ │         └─■──seychelles_zimbabwe_nations_namibia_regime ── Topic: 88\n",
      "  │   │ │   │   │ │ │ │ │   │ │ │     │ │ │ │ │ │           │ │ │ │ │   │ │                           │ │   │ │ │ │ │ │   │ │ │ │               │       │ │ │ │   │ │ │           │   │                 │ │ │ │                 │ │ └─■──ghana_rhodesia_disarmament_nations_africa ── Topic: 38\n",
      "  │   │ │   │   │ │ │ │ │   │ │ │     │ │ │ │ │ │           │ │ │ │ │   │ │                           │ │   │ │ │ │ │ │   │ │ │ │               │       │ │ │ │   │ │ │           │   │                 │ │ │ │                 │ └─■──rhodesia_nigeria_africa_nations_delegation ── Topic: 140\n",
      "  │   │ │   │   │ │ │ │ │   │ │ │     │ │ │ │ │ │           │ │ │ │ │   │ │                           │ │   │ │ │ │ │ │   │ │ │ │               │       │ │ │ │   │ │ │           │   │                 │ │ │ │                 └─of_the_to_and_in\n",
      "  │   │ │   │   │ │ │ │ │   │ │ │     │ │ │ │ │ │           │ │ │ │ │   │ │                           │ │   │ │ │ │ │ │   │ │ │ │               │       │ │ │ │   │ │ │           │   │                 │ │ │ │                   ├─of_the_to_and_in\n",
      "  │   │ │   │   │ │ │ │ │   │ │ │     │ │ │ │ │ │           │ │ │ │ │   │ │                           │ │   │ │ │ │ │ │   │ │ │ │               │       │ │ │ │   │ │ │           │   │                 │ │ │ │                   │ ├─■──nations_peace_war_delegation_countries ── Topic: 168\n",
      "  │   │ │   │   │ │ │ │ │   │ │ │     │ │ │ │ │ │           │ │ │ │ │   │ │                           │ │   │ │ │ │ │ │   │ │ │ │               │       │ │ │ │   │ │ │           │   │                 │ │ │ │                   │ └─and_of_the_to_in\n",
      "  │   │ │   │   │ │ │ │ │   │ │ │     │ │ │ │ │ │           │ │ │ │ │   │ │                           │ │   │ │ │ │ │ │   │ │ │ │               │       │ │ │ │   │ │ │           │   │                 │ │ │ │                   │   ├─of_the_to_and_in\n",
      "  │   │ │   │   │ │ │ │ │   │ │ │     │ │ │ │ │ │           │ │ │ │ │   │ │                           │ │   │ │ │ │ │ │   │ │ │ │               │       │ │ │ │   │ │ │           │   │                 │ │ │ │                   │   │ ├─■──malaya_disarmament_nations_malaysia_peace ── Topic: 34\n",
      "  │   │ │   │   │ │ │ │ │   │ │ │     │ │ │ │ │ │           │ │ │ │ │   │ │                           │ │   │ │ │ │ │ │   │ │ │ │               │       │ │ │ │   │ │ │           │   │                 │ │ │ │                   │   │ └─■──nations_countries_peace_government_world ── Topic: 100\n",
      "  │   │ │   │   │ │ │ │ │   │ │ │     │ │ │ │ │ │           │ │ │ │ │   │ │                           │ │   │ │ │ │ │ │   │ │ │ │               │       │ │ │ │   │ │ │           │   │                 │ │ │ │                   │   └─the_of_and_to_in\n",
      "  │   │ │   │   │ │ │ │ │   │ │ │     │ │ │ │ │ │           │ │ │ │ │   │ │                           │ │   │ │ │ │ │ │   │ │ │ │               │       │ │ │ │   │ │ │           │   │                 │ │ │ │                   │     ├─■──treaty_nations_peace_war_countries ── Topic: 60\n",
      "  │   │ │   │   │ │ │ │ │   │ │ │     │ │ │ │ │ │           │ │ │ │ │   │ │                           │ │   │ │ │ │ │ │   │ │ │ │               │       │ │ │ │   │ │ │           │   │                 │ │ │ │                   │     └─■──war_peace_nations_economic_political ── Topic: 122\n",
      "  │   │ │   │   │ │ │ │ │   │ │ │     │ │ │ │ │ │           │ │ │ │ │   │ │                           │ │   │ │ │ │ │ │   │ │ │ │               │       │ │ │ │   │ │ │           │   │                 │ │ │ │                   └─of_the_to_in_and\n",
      "  │   │ │   │   │ │ │ │ │   │ │ │     │ │ │ │ │ │           │ │ │ │ │   │ │                           │ │   │ │ │ │ │ │   │ │ │ │               │       │ │ │ │   │ │ │           │   │                 │ │ │ │                     ├─of_the_to_and_in\n",
      "  │   │ │   │   │ │ │ │ │   │ │ │     │ │ │ │ │ │           │ │ │ │ │   │ │                           │ │   │ │ │ │ │ │   │ │ │ │               │       │ │ │ │   │ │ │           │   │                 │ │ │ │                     │ ├─■──disarmament_treaty_peaceful_nations_war ── Topic: 1\n",
      "  │   │ │   │   │ │ │ │ │   │ │ │     │ │ │ │ │ │           │ │ │ │ │   │ │                           │ │   │ │ │ │ │ │   │ │ │ │               │       │ │ │ │   │ │ │           │   │                 │ │ │ │                     │ └─■──nations_war_ussr_peace_countries ── Topic: 5\n",
      "  │   │ │   │   │ │ │ │ │   │ │ │     │ │ │ │ │ │           │ │ │ │ │   │ │                           │ │   │ │ │ │ │ │   │ │ │ │               │       │ │ │ │   │ │ │           │   │                 │ │ │ │                     └─■──war_armistice_korea_nations_ussr ── Topic: 101\n",
      "  │   │ │   │   │ │ │ │ │   │ │ │     │ │ │ │ │ │           │ │ │ │ │   │ │                           │ │   │ │ │ │ │ │   │ │ │ │               │       │ │ │ │   │ │ │           │   │                 │ │ │ └─■──bangladesh_nations_namibia_countries_peace ── Topic: 15\n",
      "  │   │ │   │   │ │ │ │ │   │ │ │     │ │ │ │ │ │           │ │ │ │ │   │ │                           │ │   │ │ │ │ │ │   │ │ │ │               │       │ │ │ │   │ │ │           │   │                 │ │ └─■──tanzania_africa_rhodesia_apartheid_president ── Topic: 115\n",
      "  │   │ │   │   │ │ │ │ │   │ │ │     │ │ │ │ │ │           │ │ │ │ │   │ │                           │ │   │ │ │ │ │ │   │ │ │ │               │       │ │ │ │   │ │ │           │   │                 │ └─■──tunisia_tunisian_maghreb_nations_president ── Topic: 37\n",
      "  │   │ │   │   │ │ │ │ │   │ │ │     │ │ │ │ │ │           │ │ │ │ │   │ │                           │ │   │ │ │ │ │ │   │ │ │ │               │       │ │ │ │   │ │ │           │   │                 └─the_to_and_of_in\n",
      "  │   │ │   │   │ │ │ │ │   │ │ │     │ │ │ │ │ │           │ │ │ │ │   │ │                           │ │   │ │ │ │ │ │   │ │ │ │               │       │ │ │ │   │ │ │           │   │                   ├─■──syria_syrian_israel_nations_arab ── Topic: 137\n",
      "  │   │ │   │   │ │ │ │ │   │ │ │     │ │ │ │ │ │           │ │ │ │ │   │ │                           │ │   │ │ │ │ │ │   │ │ │ │               │       │ │ │ │   │ │ │           │   │                   └─■──palestine_palestinians_palestinian_gaza_israel ── Topic: 6\n",
      "  │   │ │   │   │ │ │ │ │   │ │ │     │ │ │ │ │ │           │ │ │ │ │   │ │                           │ │   │ │ │ │ │ │   │ │ │ │               │       │ │ │ │   │ │ │           │   └─■──congo_africa_nations_president_countries ── Topic: 186\n",
      "  │   │ │   │   │ │ │ │ │   │ │ │     │ │ │ │ │ │           │ │ │ │ │   │ │                           │ │   │ │ │ │ │ │   │ │ │ │               │       │ │ │ │   │ │ │           └─■──gabon_gabonese_nations_africa_president ── Topic: 84\n",
      "  │   │ │   │   │ │ │ │ │   │ │ │     │ │ │ │ │ │           │ │ │ │ │   │ │                           │ │   │ │ │ │ │ │   │ │ │ │               │       │ │ │ │   │ │ └─■──nations_peace_war_france_council ── Topic: 126\n",
      "  │   │ │   │   │ │ │ │ │   │ │ │     │ │ │ │ │ │           │ │ │ │ │   │ │                           │ │   │ │ │ │ │ │   │ │ │ │               │       │ │ │ │   │ └─the_of_and_to_in\n",
      "  │   │ │   │   │ │ │ │ │   │ │ │     │ │ │ │ │ │           │ │ │ │ │   │ │                           │ │   │ │ │ │ │ │   │ │ │ │               │       │ │ │ │   │   ├─the_of_and_to_in\n",
      "  │   │ │   │   │ │ │ │ │   │ │ │     │ │ │ │ │ │           │ │ │ │ │   │ │                           │ │   │ │ │ │ │ │   │ │ │ │               │       │ │ │ │   │   │ ├─of_the_and_to_for\n",
      "  │   │ │   │   │ │ │ │ │   │ │ │     │ │ │ │ │ │           │ │ │ │ │   │ │                           │ │   │ │ │ │ │ │   │ │ │ │               │       │ │ │ │   │   │ │ ├─■──venezuela_bolivarian_venezuelan_nations_countries ── Topic: 30\n",
      "  │   │ │   │   │ │ │ │ │   │ │ │     │ │ │ │ │ │           │ │ │ │ │   │ │                           │ │   │ │ │ │ │ │   │ │ │ │               │       │ │ │ │   │   │ │ └─the_of_and_to_in\n",
      "  │   │ │   │   │ │ │ │ │   │ │ │     │ │ │ │ │ │           │ │ │ │ │   │ │                           │ │   │ │ │ │ │ │   │ │ │ │               │       │ │ │ │   │   │ │   ├─■──colombia_colombians_colombian_nations_countries ── Topic: 25\n",
      "  │   │ │   │   │ │ │ │ │   │ │ │     │ │ │ │ │ │           │ │ │ │ │   │ │                           │ │   │ │ │ │ │ │   │ │ │ │               │       │ │ │ │   │   │ │   └─the_of_and_to_in\n",
      "  │   │ │   │   │ │ │ │ │   │ │ │     │ │ │ │ │ │           │ │ │ │ │   │ │                           │ │   │ │ │ │ │ │   │ │ │ │               │       │ │ │ │   │   │ │     ├─of_the_to_and_in\n",
      "  │   │ │   │   │ │ │ │ │   │ │ │     │ │ │ │ │ │           │ │ │ │ │   │ │                           │ │   │ │ │ │ │ │   │ │ │ │               │       │ │ │ │   │   │ │     │ ├─of_the_to_and_in\n",
      "  │   │ │   │   │ │ │ │ │   │ │ │     │ │ │ │ │ │           │ │ │ │ │   │ │                           │ │   │ │ │ │ │ │   │ │ │ │               │       │ │ │ │   │   │ │     │ │ ├─■──uruguay_nations_uruguayan_countries_peace ── Topic: 72\n",
      "  │   │ │   │   │ │ │ │ │   │ │ │     │ │ │ │ │ │           │ │ │ │ │   │ │                           │ │   │ │ │ │ │ │   │ │ │ │               │       │ │ │ │   │   │ │     │ │ └─the_of_and_to_in\n",
      "  │   │ │   │   │ │ │ │ │   │ │ │     │ │ │ │ │ │           │ │ │ │ │   │ │                           │ │   │ │ │ │ │ │   │ │ │ │               │       │ │ │ │   │   │ │     │ │   ├─■──argentina_argentine_nations_sovereignty_countries ── Topic: 57\n",
      "  │   │ │   │   │ │ │ │ │   │ │ │     │ │ │ │ │ │           │ │ │ │ │   │ │                           │ │   │ │ │ │ │ │   │ │ │ │               │       │ │ │ │   │   │ │     │ │   └─■──chile_chilean_nations_countries_government ── Topic: 53\n",
      "  │   │ │   │   │ │ │ │ │   │ │ │     │ │ │ │ │ │           │ │ │ │ │   │ │                           │ │   │ │ │ │ │ │   │ │ │ │               │       │ │ │ │   │   │ │     │ └─■──guatemala_guatemalan_guatemalans_belize_nations ── Topic: 10\n",
      "  │   │ │   │   │ │ │ │ │   │ │ │     │ │ │ │ │ │           │ │ │ │ │   │ │                           │ │   │ │ │ │ │ │   │ │ │ │               │       │ │ │ │   │   │ │     └─■──honduras_honduran_hondurans_nations_democracy ── Topic: 29\n",
      "  │   │ │   │   │ │ │ │ │   │ │ │     │ │ │ │ │ │           │ │ │ │ │   │ │                           │ │   │ │ │ │ │ │   │ │ │ │               │       │ │ │ │   │   │ └─■──peru_peruvian_nations_countries_democracy ── Topic: 18\n",
      "  │   │ │   │   │ │ │ │ │   │ │ │     │ │ │ │ │ │           │ │ │ │ │   │ │                           │ │   │ │ │ │ │ │   │ │ │ │               │       │ │ │ │   │   └─■──ecuador_ecuadorian_nations_peru_countries ── Topic: 79\n",
      "  │   │ │   │   │ │ │ │ │   │ │ │     │ │ │ │ │ │           │ │ │ │ │   │ │                           │ │   │ │ │ │ │ │   │ │ │ │               │       │ │ │ │   └─■──brazil_disarmament_nations_countries_brazilian ── Topic: 78\n",
      "  │   │ │   │   │ │ │ │ │   │ │ │     │ │ │ │ │ │           │ │ │ │ │   │ │                           │ │   │ │ │ │ │ │   │ │ │ │               │       │ │ │ └─■──madagascar_nations_africa_countries_malagasy ── Topic: 121\n",
      "  │   │ │   │   │ │ │ │ │   │ │ │     │ │ │ │ │ │           │ │ │ │ │   │ │                           │ │   │ │ │ │ │ │   │ │ │ │               │       │ │ └─■──sweden_disarmament_denmark_nations_swedish ── Topic: 155\n",
      "  │   │ │   │   │ │ │ │ │   │ │ │     │ │ │ │ │ │           │ │ │ │ │   │ │                           │ │   │ │ │ │ │ │   │ │ │ │               │       │ └─■──treaty_disarmament_peaceful_finland_nations ── Topic: 82\n",
      "  │   │ │   │   │ │ │ │ │   │ │ │     │ │ │ │ │ │           │ │ │ │ │   │ │                           │ │   │ │ │ │ │ │   │ │ │ │               │       └─■──romania_disarmament_nations_romanian_peaceful ── Topic: 26\n",
      "  │   │ │   │   │ │ │ │ │   │ │ │     │ │ │ │ │ │           │ │ │ │ │   │ │                           │ │   │ │ │ │ │ │   │ │ │ │               └─the_of_and_to_in\n",
      "  │   │ │   │   │ │ │ │ │   │ │ │     │ │ │ │ │ │           │ │ │ │ │   │ │                           │ │   │ │ │ │ │ │   │ │ │ │                 ├─■──libya_libyan_libyans_algeria_jamahiriya ── Topic: 118\n",
      "  │   │ │   │   │ │ │ │ │   │ │ │     │ │ │ │ │ │           │ │ │ │ │   │ │                           │ │   │ │ │ │ │ │   │ │ │ │                 └─the_and_of_to_in\n",
      "  │   │ │   │   │ │ │ │ │   │ │ │     │ │ │ │ │ │           │ │ │ │ │   │ │                           │ │   │ │ │ │ │ │   │ │ │ │                   ├─the_to_and_of_that\n",
      "  │   │ │   │   │ │ │ │ │   │ │ │     │ │ │ │ │ │           │ │ │ │ │   │ │                           │ │   │ │ │ │ │ │   │ │ │ │                   │ ├─■──yemen_yemenis_yemeni_houthi_saudi ── Topic: 98\n",
      "  │   │ │   │   │ │ │ │ │   │ │ │     │ │ │ │ │ │           │ │ │ │ │   │ │                           │ │   │ │ │ │ │ │   │ │ │ │                   │ └─■──yemen_ethiopia_palestine_nations_palestinian ── Topic: 199\n",
      "  │   │ │   │   │ │ │ │ │   │ │ │     │ │ │ │ │ │           │ │ │ │ │   │ │                           │ │   │ │ │ │ │ │   │ │ │ │                   └─the_of_and_to_in\n",
      "  │   │ │   │   │ │ │ │ │   │ │ │     │ │ │ │ │ │           │ │ │ │ │   │ │                           │ │   │ │ │ │ │ │   │ │ │ │                     ├─■──kuwait_kuwaiti_humanitarian_iraq_palestine ── Topic: 119\n",
      "  │   │ │   │   │ │ │ │ │   │ │ │     │ │ │ │ │ │           │ │ │ │ │   │ │                           │ │   │ │ │ │ │ │   │ │ │ │                     └─and_the_to_of_in\n",
      "  │   │ │   │   │ │ │ │ │   │ │ │     │ │ │ │ │ │           │ │ │ │ │   │ │                           │ │   │ │ │ │ │ │   │ │ │ │                       ├─■──peaceful_uae_iraq_sultanate_yemen ── Topic: 76\n",
      "  │   │ │   │   │ │ │ │ │   │ │ │     │ │ │ │ │ │           │ │ │ │ │   │ │                           │ │   │ │ │ │ │ │   │ │ │ │                       └─■──bahrain_kuwait_yemen_saudi_peaceful ── Topic: 157\n",
      "  │   │ │   │   │ │ │ │ │   │ │ │     │ │ │ │ │ │           │ │ │ │ │   │ │                           │ │   │ │ │ │ │ │   │ │ │ └─and_the_of_in_to\n",
      "  │   │ │   │   │ │ │ │ │   │ │ │     │ │ │ │ │ │           │ │ │ │ │   │ │                           │ │   │ │ │ │ │ │   │ │ │   ├─■──rwanda_rwandan_genocide_congo_kabila ── Topic: 87\n",
      "  │   │ │   │   │ │ │ │ │   │ │ │     │ │ │ │ │ │           │ │ │ │ │   │ │                           │ │   │ │ │ │ │ │   │ │ │   └─india_pakistan_and_be_the\n",
      "  │   │ │   │   │ │ │ │ │   │ │ │     │ │ │ │ │ │           │ │ │ │ │   │ │                           │ │   │ │ │ │ │ │   │ │ │     ├─■──gambia_gambian_gambians_sahel_nations ── Topic: 173\n",
      "  │   │ │   │   │ │ │ │ │   │ │ │     │ │ │ │ │ │           │ │ │ │ │   │ │                           │ │   │ │ │ │ │ │   │ │ │     └─and_to_that_our_the\n",
      "  │   │ │   │   │ │ │ │ │   │ │ │     │ │ │ │ │ │           │ │ │ │ │   │ │                           │ │   │ │ │ │ │ │   │ │ │       ├─and_to_that_our_the\n",
      "  │   │ │   │   │ │ │ │ │   │ │ │     │ │ │ │ │ │           │ │ │ │ │   │ │                           │ │   │ │ │ │ │ │   │ │ │       │ ├─the_of_and_to_in\n",
      "  │   │ │   │   │ │ │ │ │   │ │ │     │ │ │ │ │ │           │ │ │ │ │   │ │                           │ │   │ │ │ │ │ │   │ │ │       │ │ ├─■──botswana_angola_namibia_rhodesia_apartheid ── Topic: 152\n",
      "  │   │ │   │   │ │ │ │ │   │ │ │     │ │ │ │ │ │           │ │ │ │ │   │ │                           │ │   │ │ │ │ │ │   │ │ │       │ │ └─■──lesotho_apartheid_namibia_angola_africa ── Topic: 170\n",
      "  │   │ │   │   │ │ │ │ │   │ │ │     │ │ │ │ │ │           │ │ │ │ │   │ │                           │ │   │ │ │ │ │ │   │ │ │       │ └─■──kenya_nairobi_sudan_somalia_nations ── Topic: 103\n",
      "  │   │ │   │   │ │ │ │ │   │ │ │     │ │ │ │ │ │           │ │ │ │ │   │ │                           │ │   │ │ │ │ │ │   │ │ │       └─of_the_and_to_in\n",
      "  │   │ │   │   │ │ │ │ │   │ │ │     │ │ │ │ │ │           │ │ │ │ │   │ │                           │ │   │ │ │ │ │ │   │ │ │         ├─■──mozambique_mozambican_mozambicans_angola_zimbabwe ── Topic: 159\n",
      "  │   │ │   │   │ │ │ │ │   │ │ │     │ │ │ │ │ │           │ │ │ │ │   │ │                           │ │   │ │ │ │ │ │   │ │ │         └─■──angola_angolan_africa_embargo_nations ── Topic: 131\n",
      "  │   │ │   │   │ │ │ │ │   │ │ │     │ │ │ │ │ │           │ │ │ │ │   │ │                           │ │   │ │ │ │ │ │   │ │ └─■──spain_nations_gibraltar_countries_peace ── Topic: 128\n",
      "  │   │ │   │   │ │ │ │ │   │ │ │     │ │ │ │ │ │           │ │ │ │ │   │ │                           │ │   │ │ │ │ │ │   │ └─■──morocco_maghreb_algeria_nations_algerian ── Topic: 93\n",
      "  │   │ │   │   │ │ │ │ │   │ │ │     │ │ │ │ │ │           │ │ │ │ │   │ │                           │ │   │ │ │ │ │ │   └─■──mauritania_mauritanian_maghreb_nations_africa ── Topic: 167\n",
      "  │   │ │   │   │ │ │ │ │   │ │ │     │ │ │ │ │ │           │ │ │ │ │   │ │                           │ │   │ │ │ │ │ └─the_and_of_in_to\n",
      "  │   │ │   │   │ │ │ │ │   │ │ │     │ │ │ │ │ │           │ │ │ │ │   │ │                           │ │   │ │ │ │ │   ├─and_the_of_to_we\n",
      "  │   │ │   │   │ │ │ │ │   │ │ │     │ │ │ │ │ │           │ │ │ │ │   │ │                           │ │   │ │ │ │ │   │ ├─■──disarmament_ukraine_treaty_ukrainian_nations ── Topic: 112\n",
      "  │   │ │   │   │ │ │ │ │   │ │ │     │ │ │ │ │ │           │ │ │ │ │   │ │                           │ │   │ │ │ │ │   │ └─■──crimea_ukraine_war_humanitarian_russia ── Topic: 20\n",
      "  │   │ │   │   │ │ │ │ │   │ │ │     │ │ │ │ │ │           │ │ │ │ │   │ │                           │ │   │ │ │ │ │   └─the_of_and_in_to\n",
      "  │   │ │   │   │ │ │ │ │   │ │ │     │ │ │ │ │ │           │ │ │ │ │   │ │                           │ │   │ │ │ │ │     ├─■──nation_nations_war_prosperity_leaders ── Topic: 196\n",
      "  │   │ │   │   │ │ │ │ │   │ │ │     │ │ │ │ │ │           │ │ │ │ │   │ │                           │ │   │ │ │ │ │     └─the_of_and_in_to\n",
      "  │   │ │   │   │ │ │ │ │   │ │ │     │ │ │ │ │ │           │ │ │ │ │   │ │                           │ │   │ │ │ │ │       ├─kampuchea_lebanon_the_of_and\n",
      "  │   │ │   │   │ │ │ │ │   │ │ │     │ │ │ │ │ │           │ │ │ │ │   │ │                           │ │   │ │ │ │ │       │ ├─■──refugees_humanitarian_syria_migrants_terrorism ── Topic: 169\n",
      "  │   │ │   │   │ │ │ │ │   │ │ │     │ │ │ │ │ │           │ │ │ │ │   │ │                           │ │   │ │ │ │ │       │ └─■──syria_humanitarian_syrian_war_nations ── Topic: 190\n",
      "  │   │ │   │   │ │ │ │ │   │ │ │     │ │ │ │ │ │           │ │ │ │ │   │ │                           │ │   │ │ │ │ │       └─■──nations_peace_ireland_council_conflict ── Topic: 90\n",
      "  │   │ │   │   │ │ │ │ │   │ │ │     │ │ │ │ │ │           │ │ │ │ │   │ │                           │ │   │ │ │ │ └─■──malta_nations_neutrality_peace_countries ── Topic: 89\n",
      "  │   │ │   │   │ │ │ │ │   │ │ │     │ │ │ │ │ │           │ │ │ │ │   │ │                           │ │   │ │ │ └─the_of_to_in_and\n",
      "  │   │ │   │   │ │ │ │ │   │ │ │     │ │ │ │ │ │           │ │ │ │ │   │ │                           │ │   │ │ │   ├─■──greece_greek_balkans_nations_cyprus ── Topic: 55\n",
      "  │   │ │   │   │ │ │ │ │   │ │ │     │ │ │ │ │ │           │ │ │ │ │   │ │                           │ │   │ │ │   └─■──cyprus_disarmament_cypriot_nations_peace ── Topic: 124\n",
      "  │   │ │   │   │ │ │ │ │   │ │ │     │ │ │ │ │ │           │ │ │ │ │   │ │                           │ │   │ │ └─■──nepal_disarmament_nations_countries_delegation ── Topic: 66\n",
      "  │   │ │   │   │ │ │ │ │   │ │ │     │ │ │ │ │ │           │ │ │ │ │   │ │                           │ │   │ └─■──disarmament_nations_solomon_countries_government ── Topic: 39\n",
      "  │   │ │   │   │ │ │ │ │   │ │ │     │ │ │ │ │ │           │ │ │ │ │   │ │                           │ │   └─■──suriname_treaty_nations_countries_government ── Topic: 81\n",
      "  │   │ │   │   │ │ │ │ │   │ │ │     │ │ │ │ │ │           │ │ │ │ │   │ │                           │ └─■──belize_guatemala_belizeans_belizean_panama ── Topic: 86\n",
      "  │   │ │   │   │ │ │ │ │   │ │ │     │ │ │ │ │ │           │ │ │ │ │   │ │                           └─of_and_the_afghanistan_to\n",
      "  │   │ │   │   │ │ │ │ │   │ │ │     │ │ │ │ │ │           │ │ │ │ │   │ │                             ├─the_of_and_to_in\n",
      "  │   │ │   │   │ │ │ │ │   │ │ │     │ │ │ │ │ │           │ │ │ │ │   │ │                             │ ├─■──iran_islam_islamic_iranian_peace ── Topic: 165\n",
      "  │   │ │   │   │ │ │ │ │   │ │ │     │ │ │ │ │ │           │ │ │ │ │   │ │                             │ └─the_of_to_and_that\n",
      "  │   │ │   │   │ │ │ │ │   │ │ │     │ │ │ │ │ │           │ │ │ │ │   │ │                             │   ├─■──kabul_taliban_afghanistan_afghan_afghans ── Topic: 48\n",
      "  │   │ │   │   │ │ │ │ │   │ │ │     │ │ │ │ │ │           │ │ │ │ │   │ │                             │   └─■──disarmament_pakistan_peaceful_afghanistan_nations ── Topic: 68\n",
      "  │   │ │   │   │ │ │ │ │   │ │ │     │ │ │ │ │ │           │ │ │ │ │   │ │                             └─of_and_the_to_that\n",
      "  │   │ │   │   │ │ │ │ │   │ │ │     │ │ │ │ │ │           │ │ │ │ │   │ │                               ├─of_and_the_to_that\n",
      "  │   │ │   │   │ │ │ │ │   │ │ │     │ │ │ │ │ │           │ │ │ │ │   │ │                               │ ├─■──disarmament_mao_china_nations_imperialism ── Topic: 139\n",
      "  │   │ │   │   │ │ │ │ │   │ │ │     │ │ │ │ │ │           │ │ │ │ │   │ │                               │ └─the_of_to_in_and\n",
      "  │   │ │   │   │ │ │ │ │   │ │ │     │ │ │ │ │ │           │ │ │ │ │   │ │                               │   ├─■──asean_peaceful_viet_cambodia_nam ── Topic: 142\n",
      "  │   │ │   │   │ │ │ │ │   │ │ │     │ │ │ │ │ │           │ │ │ │ │   │ │                               │   └─■──cambodia_cambodian_khmer_sihanouk_laos ── Topic: 61\n",
      "  │   │ │   │   │ │ │ │ │   │ │ │     │ │ │ │ │ │           │ │ │ │ │   │ │                               └─■──laos_asean_lao_viet_nations ── Topic: 109\n",
      "  │   │ │   │   │ │ │ │ │   │ │ │     │ │ │ │ │ │           │ │ │ │ │   │ └─the_of_and_to_in\n",
      "  │   │ │   │   │ │ │ │ │   │ │ │     │ │ │ │ │ │           │ │ │ │ │   │   ├─■──egypt_syria_egyptian_nations_egyptians ── Topic: 150\n",
      "  │   │ │   │   │ │ │ │ │   │ │ │     │ │ │ │ │ │           │ │ │ │ │   │   └─■──amman_palestine_jordanian_palestinian_jordan ── Topic: 194\n",
      "  │   │ │   │   │ │ │ │ │   │ │ │     │ │ │ │ │ │           │ │ │ │ │   └─■──lebanon_beirut_palestine_lebanese_palestinians ── Topic: 28\n",
      "  │   │ │   │   │ │ │ │ │   │ │ │     │ │ │ │ │ │           │ │ │ │ └─■──disarmament_austria_peaceful_nations_vienna ── Topic: 135\n",
      "  │   │ │   │   │ │ │ │ │   │ │ │     │ │ │ │ │ │           │ │ │ └─■──paraguay_paraguayan_nations_countries_democracy ── Topic: 59\n",
      "  │   │ │   │   │ │ │ │ │   │ │ │     │ │ │ │ │ │           │ │ └─■──malawi_mozambique_zambia_angola_africa ── Topic: 104\n",
      "  │   │ │   │   │ │ │ │ │   │ │ │     │ │ │ │ │ │           │ └─■──nations_verde_countries_cabo_africa ── Topic: 195\n",
      "  │   │ │   │   │ │ │ │ │   │ │ │     │ │ │ │ │ │           └─■──libya_chadian_libyan_nations_chad ── Topic: 191\n",
      "  │   │ │   │   │ │ │ │ │   │ │ │     │ │ │ │ │ └─■──grenada_nations_countries_cuba_peace ── Topic: 130\n",
      "  │   │ │   │   │ │ │ │ │   │ │ │     │ │ │ │ └─■──maldives_democracy_maldivian_nations_election ── Topic: 172\n",
      "  │   │ │   │   │ │ │ │ │   │ │ │     │ │ │ └─■──bhutan_bangladesh_nations_countries_agenda ── Topic: 163\n",
      "  │   │ │   │   │ │ │ │ │   │ │ │     │ │ └─■──montenegro_nations_montenegrin_humanitarian_peace ── Topic: 143\n",
      "  │   │ │   │   │ │ │ │ │   │ │ │     │ └─■──macedonia_yugoslavia_nato_kosovo_balkans ── Topic: 166\n",
      "  │   │ │   │   │ │ │ │ │   │ │ │     └─■──andorran_andorra_nations_principality_democracy ── Topic: 187\n",
      "  │   │ │   │   │ │ │ │ │   │ │ └─■──latvia_peacekeeping_baltic_estonia_latvians ── Topic: 117\n",
      "  │   │ │   │   │ │ │ │ │   │ └─the_of_and_to_in\n",
      "  │   │ │   │   │ │ │ │ │   │   ├─■──kyrgyzstan_peacekeeping_kyrgyz_kazakhstan_tajikistan ── Topic: 147\n",
      "  │   │ │   │   │ │ │ │ │   │   └─■──tajikistan_tajik_afghanistan_nations_afghan ── Topic: 123\n",
      "  │   │ │   │   │ │ │ │ │   └─■──treaty_kazakhstan_nations_almaty_kazakh ── Topic: 201\n",
      "  │   │ │   │   │ │ │ │ └─■──moldova_peacekeeping_moldovan_ukraine_nations ── Topic: 151\n",
      "  │   │ │   │   │ │ │ └─■──slovakia_peacekeeping_kosovo_treaty_bratislava ── Topic: 179\n",
      "  │   │ │   │   │ │ └─■──yugoslavia_bosnia_herzegovina_croatia_croats ── Topic: 178\n",
      "  │   │ │   │   │ └─■──bosnia_herzegovina_yugoslavia_sarajevo_serbia ── Topic: 149\n",
      "  │   │ │   │   └─■──kosovo_serbia_balkans_nations_serbs ── Topic: 184\n",
      "  │   │ │   └─■──multilateralism_nations_humanitarian_president_agenda ── Topic: 132\n",
      "  │   │ └─■──palau_palauan_un_nations_micronesia ── Topic: 161\n",
      "  │   └─■──tuvalu_kiribati_nations_countries_agenda ── Topic: 141\n",
      "  └─■──turkmenistan_afghanistan_neutrality_caspian_nations ── Topic: 125\n",
      "\n"
     ]
    }
   ],
   "source": [
    "# analyze the topic tree for complete linkage\n",
    "tree_complete = t.get_topic_tree(hierarchical_topics['complete'], tight_layout=True)\n",
    "print(tree_complete)"
   ]
  },
  {
   "cell_type": "code",
   "execution_count": 37,
   "metadata": {},
   "outputs": [
    {
     "data": {
      "application/vnd.plotly.v1+json": {
       "config": {
        "plotlyServerURL": "https://plot.ly"
       },
       "data": [
        {
         "hoverinfo": "text",
         "marker": {
          "color": "rgb(61,153,112)"
         },
         "mode": "lines",
         "text": [
          "iraq_iraqi_kuwait_palestine_sovereignty",
          "",
          "",
          "iraq_baghdad_iraqi_iraqis_terrorist"
         ],
         "type": "scatter",
         "x": [
          5,
          5,
          15,
          15
         ],
         "xaxis": "x",
         "y": [
          0,
          0.26485020691464867,
          0.26485020691464867,
          0
         ],
         "yaxis": "y"
        },
        {
         "hoverinfo": "text",
         "marker": {
          "color": "rgb(61,153,112)"
         },
         "mode": "lines",
         "text": [
          "yemen_yemenis_yemeni_houthi_saudi",
          "",
          "",
          "yemen_ethiopia_palestine_nations_palestinian"
         ],
         "type": "scatter",
         "x": [
          25,
          25,
          35,
          35
         ],
         "xaxis": "x",
         "y": [
          0,
          0.2311399663555781,
          0.2311399663555781,
          0
         ],
         "yaxis": "y"
        },
        {
         "hoverinfo": "text",
         "marker": {
          "color": "rgb(61,153,112)"
         },
         "mode": "lines",
         "text": [
          "syria_syrian_israel_nations_arab",
          "",
          "",
          "palestine_palestinians_palestinian_gaza_israel"
         ],
         "type": "scatter",
         "x": [
          65,
          65,
          75,
          75
         ],
         "xaxis": "x",
         "y": [
          0,
          0.17784697161677876,
          0.17784697161677876,
          0
         ],
         "yaxis": "y"
        },
        {
         "hoverinfo": "text",
         "marker": {
          "color": "rgb(61,153,112)"
         },
         "mode": "lines",
         "text": [
          "the_to_and_of_in",
          "",
          "",
          "kuwait_kuwaiti_humanitarian_iraq_palestine"
         ],
         "type": "scatter",
         "x": [
          70,
          70,
          85,
          85
         ],
         "xaxis": "x",
         "y": [
          0.17784697161677876,
          0.30031456242754373,
          0.30031456242754373,
          0
         ],
         "yaxis": "y"
        },
        {
         "hoverinfo": "text",
         "marker": {
          "color": "rgb(61,153,112)"
         },
         "mode": "lines",
         "text": [
          "libya_libyan_libyans_algeria_jamahiriya",
          "",
          "",
          "kuwait_kuwaiti_humanitarian_iraq_palestine"
         ],
         "type": "scatter",
         "x": [
          55,
          55,
          77.5,
          77.5
         ],
         "xaxis": "x",
         "y": [
          0,
          0.33531286590544457,
          0.33531286590544457,
          0.30031456242754373
         ],
         "yaxis": "y"
        },
        {
         "hoverinfo": "text",
         "marker": {
          "color": "rgb(61,153,112)"
         },
         "mode": "lines",
         "text": [
          "libya_libyan_libyans_algeria_jamahiriya",
          "",
          "",
          "amman_palestine_jordanian_palestinian_jordan"
         ],
         "type": "scatter",
         "x": [
          66.25,
          66.25,
          95,
          95
         ],
         "xaxis": "x",
         "y": [
          0.33531286590544457,
          0.37551536142122277,
          0.37551536142122277,
          0
         ],
         "yaxis": "y"
        },
        {
         "hoverinfo": "text",
         "marker": {
          "color": "rgb(61,153,112)"
         },
         "mode": "lines",
         "text": [
          "egypt_syria_egyptian_nations_egyptians",
          "",
          "",
          "amman_palestine_jordanian_palestinian_jordan"
         ],
         "type": "scatter",
         "x": [
          45,
          45,
          80.625,
          80.625
         ],
         "xaxis": "x",
         "y": [
          0,
          0.38781248569671267,
          0.38781248569671267,
          0.37551536142122277
         ],
         "yaxis": "y"
        },
        {
         "hoverinfo": "text",
         "marker": {
          "color": "rgb(61,153,112)"
         },
         "mode": "lines",
         "text": [
          "peaceful_uae_iraq_sultanate_yemen",
          "",
          "",
          "bahrain_kuwait_yemen_saudi_peaceful"
         ],
         "type": "scatter",
         "x": [
          105,
          105,
          115,
          115
         ],
         "xaxis": "x",
         "y": [
          0,
          0.2410577419758526,
          0.2410577419758526,
          0
         ],
         "yaxis": "y"
        },
        {
         "hoverinfo": "text",
         "marker": {
          "color": "rgb(61,153,112)"
         },
         "mode": "lines",
         "text": [
          "peaceful_uae_iraq_sultanate_yemen",
          "",
          "",
          "and_the_to_of_in"
         ],
         "type": "scatter",
         "x": [
          62.8125,
          62.8125,
          110,
          110
         ],
         "xaxis": "x",
         "y": [
          0.38781248569671267,
          0.4020632958727665,
          0.4020632958727665,
          0.2410577419758526
         ],
         "yaxis": "y"
        },
        {
         "hoverinfo": "text",
         "marker": {
          "color": "rgb(61,153,112)"
         },
         "mode": "lines",
         "text": [
          "peaceful_uae_iraq_sultanate_yemen",
          "",
          "",
          "lebanon_beirut_palestine_lebanese_palestinians"
         ],
         "type": "scatter",
         "x": [
          86.40625,
          86.40625,
          125,
          125
         ],
         "xaxis": "x",
         "y": [
          0.4020632958727665,
          0.4402573120068838,
          0.4402573120068838,
          0
         ],
         "yaxis": "y"
        },
        {
         "hoverinfo": "text",
         "marker": {
          "color": "rgb(61,153,112)"
         },
         "mode": "lines",
         "text": [
          "the_to_and_of_that",
          "",
          "",
          "lebanon_beirut_palestine_lebanese_palestinians"
         ],
         "type": "scatter",
         "x": [
          30,
          30,
          105.703125,
          105.703125
         ],
         "xaxis": "x",
         "y": [
          0.2311399663555781,
          0.4551330374831629,
          0.4551330374831629,
          0.4402573120068838
         ],
         "yaxis": "y"
        },
        {
         "hoverinfo": "text",
         "marker": {
          "color": "rgb(61,153,112)"
         },
         "mode": "lines",
         "text": [
          "the_of_and_in_to",
          "",
          "",
          "lebanon_beirut_palestine_lebanese_palestinians"
         ],
         "type": "scatter",
         "x": [
          10,
          10,
          67.8515625,
          67.8515625
         ],
         "xaxis": "x",
         "y": [
          0.26485020691464867,
          0.6257801584179891,
          0.6257801584179891,
          0.4551330374831629
         ],
         "yaxis": "y"
        },
        {
         "hoverinfo": "text",
         "marker": {
          "color": "rgb(255,65,54)"
         },
         "mode": "lines",
         "text": [
          "gabon_gabonese_nations_africa_president",
          "",
          "",
          "togo_togolese_nations_democracy_africa"
         ],
         "type": "scatter",
         "x": [
          175,
          175,
          185,
          185
         ],
         "xaxis": "x",
         "y": [
          0,
          0.2770532496772422,
          0.2770532496772422,
          0
         ],
         "yaxis": "y"
        },
        {
         "hoverinfo": "text",
         "marker": {
          "color": "rgb(255,65,54)"
         },
         "mode": "lines",
         "text": [
          "congo_congolese_angola_disarmament_africa",
          "",
          "",
          "congo_africa_nations_president_countries"
         ],
         "type": "scatter",
         "x": [
          205,
          205,
          215,
          215
         ],
         "xaxis": "x",
         "y": [
          0,
          0.19358569762726974,
          0.19358569762726974,
          0
         ],
         "yaxis": "y"
        },
        {
         "hoverinfo": "text",
         "marker": {
          "color": "rgb(255,65,54)"
         },
         "mode": "lines",
         "text": [
          "guinea_guinean_nations_africa_colonialism",
          "",
          "",
          "congo_africa_nations_president_countries"
         ],
         "type": "scatter",
         "x": [
          195,
          195,
          210,
          210
         ],
         "xaxis": "x",
         "y": [
          0,
          0.22455431525490818,
          0.22455431525490818,
          0.19358569762726974
         ],
         "yaxis": "y"
        },
        {
         "hoverinfo": "text",
         "marker": {
          "color": "rgb(255,65,54)"
         },
         "mode": "lines",
         "text": [
          "guinea_guinean_nations_africa_colonialism",
          "",
          "",
          "congo_africa_nations_president_countries"
         ],
         "type": "scatter",
         "x": [
          180,
          180,
          202.5,
          202.5
         ],
         "xaxis": "x",
         "y": [
          0.2770532496772422,
          0.2796775326884274,
          0.2796775326884274,
          0.22455431525490818
         ],
         "yaxis": "y"
        },
        {
         "hoverinfo": "text",
         "marker": {
          "color": "rgb(255,65,54)"
         },
         "mode": "lines",
         "text": [
          "guinea_guinean_nations_africa_colonialism",
          "",
          "",
          "rwanda_rwandan_genocide_congo_kabila"
         ],
         "type": "scatter",
         "x": [
          191.25,
          191.25,
          225,
          225
         ],
         "xaxis": "x",
         "y": [
          0.2796775326884274,
          0.30517396512499606,
          0.30517396512499606,
          0
         ],
         "yaxis": "y"
        },
        {
         "hoverinfo": "text",
         "marker": {
          "color": "rgb(255,65,54)"
         },
         "mode": "lines",
         "text": [
          "benin_nations_africa_imperialism_countries",
          "",
          "",
          "rwanda_rwandan_genocide_congo_kabila"
         ],
         "type": "scatter",
         "x": [
          165,
          165,
          208.125,
          208.125
         ],
         "xaxis": "x",
         "y": [
          0,
          0.34439059214731055,
          0.34439059214731055,
          0.30517396512499606
         ],
         "yaxis": "y"
        },
        {
         "hoverinfo": "text",
         "marker": {
          "color": "rgb(255,65,54)"
         },
         "mode": "lines",
         "text": [
          "mauritania_mauritanian_maghreb_nations_africa",
          "",
          "",
          "morocco_maghreb_algeria_nations_algerian"
         ],
         "type": "scatter",
         "x": [
          235,
          235,
          245,
          245
         ],
         "xaxis": "x",
         "y": [
          0,
          0.3307222903526468,
          0.3307222903526468,
          0
         ],
         "yaxis": "y"
        },
        {
         "hoverinfo": "text",
         "marker": {
          "color": "rgb(255,65,54)"
         },
         "mode": "lines",
         "text": [
          "mauritania_mauritanian_maghreb_nations_africa",
          "",
          "",
          "morocco_maghreb_algeria_nations_algerian"
         ],
         "type": "scatter",
         "x": [
          186.5625,
          186.5625,
          240,
          240
         ],
         "xaxis": "x",
         "y": [
          0.34439059214731055,
          0.3969286520987508,
          0.3969286520987508,
          0.3307222903526468
         ],
         "yaxis": "y"
        },
        {
         "hoverinfo": "text",
         "marker": {
          "color": "rgb(255,65,54)"
         },
         "mode": "lines",
         "text": [
          "angola_angolan_africa_embargo_nations",
          "",
          "",
          "morocco_maghreb_algeria_nations_algerian"
         ],
         "type": "scatter",
         "x": [
          155,
          155,
          213.28125,
          213.28125
         ],
         "xaxis": "x",
         "y": [
          0,
          0.40915378065727726,
          0.40915378065727726,
          0.3969286520987508
         ],
         "yaxis": "y"
        },
        {
         "hoverinfo": "text",
         "marker": {
          "color": "rgb(255,65,54)"
         },
         "mode": "lines",
         "text": [
          "burkina_faso_gabon_mali_senegal",
          "",
          "",
          "mali_malian_sahel_africa_nations"
         ],
         "type": "scatter",
         "x": [
          255,
          255,
          265,
          265
         ],
         "xaxis": "x",
         "y": [
          0,
          0.38010422771922414,
          0.38010422771922414,
          0
         ],
         "yaxis": "y"
        },
        {
         "hoverinfo": "text",
         "marker": {
          "color": "rgb(255,65,54)"
         },
         "mode": "lines",
         "text": [
          "burkina_faso_gabon_mali_senegal",
          "",
          "",
          "mali_malian_sahel_africa_nations"
         ],
         "type": "scatter",
         "x": [
          184.140625,
          184.140625,
          260,
          260
         ],
         "xaxis": "x",
         "y": [
          0.40915378065727726,
          0.41723249425962394,
          0.41723249425962394,
          0.38010422771922414
         ],
         "yaxis": "y"
        },
        {
         "hoverinfo": "text",
         "marker": {
          "color": "rgb(255,65,54)"
         },
         "mode": "lines",
         "text": [
          "burundi_rwanda_burundian_africa_refugees",
          "",
          "",
          "mali_malian_sahel_africa_nations"
         ],
         "type": "scatter",
         "x": [
          145,
          145,
          222.0703125,
          222.0703125
         ],
         "xaxis": "x",
         "y": [
          0,
          0.4240833616053937,
          0.4240833616053937,
          0.41723249425962394
         ],
         "yaxis": "y"
        },
        {
         "hoverinfo": "text",
         "marker": {
          "color": "rgb(255,65,54)"
         },
         "mode": "lines",
         "text": [
          "burundi_rwanda_burundian_africa_refugees",
          "",
          "",
          "libya_chadian_libyan_nations_chad"
         ],
         "type": "scatter",
         "x": [
          183.53515625,
          183.53515625,
          275,
          275
         ],
         "xaxis": "x",
         "y": [
          0.4240833616053937,
          0.47107622492540085,
          0.47107622492540085,
          0
         ],
         "yaxis": "y"
        },
        {
         "hoverinfo": "text",
         "marker": {
          "color": "rgb(255,65,54)"
         },
         "mode": "lines",
         "text": [
          "guinea_equatorial_nguema_nations_africa",
          "",
          "",
          "libya_chadian_libyan_nations_chad"
         ],
         "type": "scatter",
         "x": [
          135,
          135,
          229.267578125,
          229.267578125
         ],
         "xaxis": "x",
         "y": [
          0,
          0.5227572594096725,
          0.5227572594096725,
          0.47107622492540085
         ],
         "yaxis": "y"
        },
        {
         "hoverinfo": "text",
         "marker": {
          "color": "rgb(255,65,54)"
         },
         "mode": "lines",
         "text": [
          "brunei_namibia_nations_africa_countries",
          "",
          "",
          "disarmament_peaceful_peace_nations_afghanistan"
         ],
         "type": "scatter",
         "x": [
          335,
          335,
          345,
          345
         ],
         "xaxis": "x",
         "y": [
          0,
          0.08259255179755898,
          0.08259255179755898,
          0
         ],
         "yaxis": "y"
        },
        {
         "hoverinfo": "text",
         "marker": {
          "color": "rgb(255,65,54)"
         },
         "mode": "lines",
         "text": [
          "nations_mexico_countries_peace_war",
          "",
          "",
          "disarmament_peaceful_peace_nations_afghanistan"
         ],
         "type": "scatter",
         "x": [
          325,
          325,
          340,
          340
         ],
         "xaxis": "x",
         "y": [
          0,
          0.09369359563229585,
          0.09369359563229585,
          0.08259255179755898
         ],
         "yaxis": "y"
        },
        {
         "hoverinfo": "text",
         "marker": {
          "color": "rgb(255,65,54)"
         },
         "mode": "lines",
         "text": [
          "nations_mexico_countries_peace_war",
          "",
          "",
          "peaceful_nations_peace_negotiations_countries"
         ],
         "type": "scatter",
         "x": [
          332.5,
          332.5,
          355,
          355
         ],
         "xaxis": "x",
         "y": [
          0.09369359563229585,
          0.12027554397905893,
          0.12027554397905893,
          0
         ],
         "yaxis": "y"
        },
        {
         "hoverinfo": "text",
         "marker": {
          "color": "rgb(255,65,54)"
         },
         "mode": "lines",
         "text": [
          "bangladesh_nations_namibia_countries_peace",
          "",
          "",
          "peaceful_nations_peace_negotiations_countries"
         ],
         "type": "scatter",
         "x": [
          315,
          315,
          343.75,
          343.75
         ],
         "xaxis": "x",
         "y": [
          0,
          0.17437697122270576,
          0.17437697122270576,
          0.12027554397905893
         ],
         "yaxis": "y"
        },
        {
         "hoverinfo": "text",
         "marker": {
          "color": "rgb(255,65,54)"
         },
         "mode": "lines",
         "text": [
          "yugoslavia_disarmament_nations_countries_detente",
          "",
          "",
          "algeria_nations_africa_countries_general"
         ],
         "type": "scatter",
         "x": [
          385,
          385,
          395,
          395
         ],
         "xaxis": "x",
         "y": [
          0,
          0.06090842896300397,
          0.06090842896300397,
          0
         ],
         "yaxis": "y"
        },
        {
         "hoverinfo": "text",
         "marker": {
          "color": "rgb(255,65,54)"
         },
         "mode": "lines",
         "text": [
          "the_of_to_in_and",
          "",
          "",
          "zimbabwe_africa_disarmament_nations_countries"
         ],
         "type": "scatter",
         "x": [
          390,
          390,
          405,
          405
         ],
         "xaxis": "x",
         "y": [
          0.06090842896300397,
          0.0808695472313066,
          0.0808695472313066,
          0
         ],
         "yaxis": "y"
        },
        {
         "hoverinfo": "text",
         "marker": {
          "color": "rgb(255,65,54)"
         },
         "mode": "lines",
         "text": [
          "seychelles_zimbabwe_nations_namibia_regime",
          "",
          "",
          "the_of_to_in_and"
         ],
         "type": "scatter",
         "x": [
          375,
          375,
          397.5,
          397.5
         ],
         "xaxis": "x",
         "y": [
          0,
          0.09383870935730088,
          0.09383870935730088,
          0.0808695472313066
         ],
         "yaxis": "y"
        },
        {
         "hoverinfo": "text",
         "marker": {
          "color": "rgb(255,65,54)"
         },
         "mode": "lines",
         "text": [
          "zimbabwe_nations_namibia_africa_regime",
          "",
          "",
          "vanuatu_nations_namibia_secretarygeneral_countries"
         ],
         "type": "scatter",
         "x": [
          415,
          415,
          425,
          425
         ],
         "xaxis": "x",
         "y": [
          0,
          0.0697702041393704,
          0.0697702041393704,
          0
         ],
         "yaxis": "y"
        },
        {
         "hoverinfo": "text",
         "marker": {
          "color": "rgb(255,65,54)"
         },
         "mode": "lines",
         "text": [
          "zimbabwe_nations_namibia_africa_regime",
          "",
          "",
          "the_of_to_in_and"
         ],
         "type": "scatter",
         "x": [
          386.25,
          386.25,
          420,
          420
         ],
         "xaxis": "x",
         "y": [
          0.09383870935730088,
          0.12817363916934466,
          0.12817363916934466,
          0.0697702041393704
         ],
         "yaxis": "y"
        },
        {
         "hoverinfo": "text",
         "marker": {
          "color": "rgb(255,65,54)"
         },
         "mode": "lines",
         "text": [
          "peaceful_disarmament_nations_countries_peace",
          "",
          "",
          "the_of_to_in_and"
         ],
         "type": "scatter",
         "x": [
          365,
          365,
          403.125,
          403.125
         ],
         "xaxis": "x",
         "y": [
          0,
          0.14724919181675866,
          0.14724919181675866,
          0.12817363916934466
         ],
         "yaxis": "y"
        },
        {
         "hoverinfo": "text",
         "marker": {
          "color": "rgb(255,65,54)"
         },
         "mode": "lines",
         "text": [
          "peaceful_disarmament_nations_countries_peace",
          "",
          "",
          "tunisia_tunisian_maghreb_nations_president"
         ],
         "type": "scatter",
         "x": [
          384.0625,
          384.0625,
          435,
          435
         ],
         "xaxis": "x",
         "y": [
          0.14724919181675866,
          0.20274878999974316,
          0.20274878999974316,
          0
         ],
         "yaxis": "y"
        },
        {
         "hoverinfo": "text",
         "marker": {
          "color": "rgb(255,65,54)"
         },
         "mode": "lines",
         "text": [
          "peaceful_disarmament_nations_countries_peace",
          "",
          "",
          "tunisia_tunisian_maghreb_nations_president"
         ],
         "type": "scatter",
         "x": [
          329.375,
          329.375,
          409.53125,
          409.53125
         ],
         "xaxis": "x",
         "y": [
          0.17437697122270576,
          0.21216358279824776,
          0.21216358279824776,
          0.20274878999974316
         ],
         "yaxis": "y"
        },
        {
         "hoverinfo": "text",
         "marker": {
          "color": "rgb(255,65,54)"
         },
         "mode": "lines",
         "text": [
          "mozambique_mozambican_mozambicans_angola_zimbabwe",
          "",
          "",
          "tunisia_tunisian_maghreb_nations_president"
         ],
         "type": "scatter",
         "x": [
          305,
          305,
          369.453125,
          369.453125
         ],
         "xaxis": "x",
         "y": [
          0,
          0.27455364245783054,
          0.27455364245783054,
          0.21216358279824776
         ],
         "yaxis": "y"
        },
        {
         "hoverinfo": "text",
         "marker": {
          "color": "rgb(255,65,54)"
         },
         "mode": "lines",
         "text": [
          "treaty_swaziland_nations_rhodesia_countries",
          "",
          "",
          "rhodesia_nigeria_africa_nations_delegation"
         ],
         "type": "scatter",
         "x": [
          455,
          455,
          465,
          465
         ],
         "xaxis": "x",
         "y": [
          0,
          0.1274550080123963,
          0.1274550080123963,
          0
         ],
         "yaxis": "y"
        },
        {
         "hoverinfo": "text",
         "marker": {
          "color": "rgb(255,65,54)"
         },
         "mode": "lines",
         "text": [
          "disarmament_peaceful_nations_countries_palestine",
          "",
          "",
          "rhodesia_nigeria_africa_nations_delegation"
         ],
         "type": "scatter",
         "x": [
          445,
          445,
          460,
          460
         ],
         "xaxis": "x",
         "y": [
          0,
          0.18361934609065922,
          0.18361934609065922,
          0.1274550080123963
         ],
         "yaxis": "y"
        },
        {
         "hoverinfo": "text",
         "marker": {
          "color": "rgb(255,65,54)"
         },
         "mode": "lines",
         "text": [
          "niger_nigeria_nigerian_nations_africa",
          "",
          "",
          "apartheid_nations_africa_agenda_delegation"
         ],
         "type": "scatter",
         "x": [
          495,
          495,
          505,
          505
         ],
         "xaxis": "x",
         "y": [
          0,
          0.11479536145883884,
          0.11479536145883884,
          0
         ],
         "yaxis": "y"
        },
        {
         "hoverinfo": "text",
         "marker": {
          "color": "rgb(255,65,54)"
         },
         "mode": "lines",
         "text": [
          "niger_nigeria_nigerian_nations_africa",
          "",
          "",
          "ghana_rhodesia_disarmament_nations_africa"
         ],
         "type": "scatter",
         "x": [
          500,
          500,
          515,
          515
         ],
         "xaxis": "x",
         "y": [
          0.11479536145883884,
          0.14705985039908845,
          0.14705985039908845,
          0
         ],
         "yaxis": "y"
        },
        {
         "hoverinfo": "text",
         "marker": {
          "color": "rgb(255,65,54)"
         },
         "mode": "lines",
         "text": [
          "tanzania_africa_rhodesia_apartheid_president",
          "",
          "",
          "ghana_rhodesia_disarmament_nations_africa"
         ],
         "type": "scatter",
         "x": [
          485,
          485,
          507.5,
          507.5
         ],
         "xaxis": "x",
         "y": [
          0,
          0.16903045879388087,
          0.16903045879388087,
          0.14705985039908845
         ],
         "yaxis": "y"
        },
        {
         "hoverinfo": "text",
         "marker": {
          "color": "rgb(255,65,54)"
         },
         "mode": "lines",
         "text": [
          "tanzania_africa_rhodesia_apartheid_president",
          "",
          "",
          "cameroon_cameroons_nations_africa_delegation"
         ],
         "type": "scatter",
         "x": [
          496.25,
          496.25,
          525,
          525
         ],
         "xaxis": "x",
         "y": [
          0.16903045879388087,
          0.19791051869486623,
          0.19791051869486623,
          0
         ],
         "yaxis": "y"
        },
        {
         "hoverinfo": "text",
         "marker": {
          "color": "rgb(255,65,54)"
         },
         "mode": "lines",
         "text": [
          "ethiopia_eritrea_somalia_africa_nations",
          "",
          "",
          "cameroon_cameroons_nations_africa_delegation"
         ],
         "type": "scatter",
         "x": [
          475,
          475,
          510.625,
          510.625
         ],
         "xaxis": "x",
         "y": [
          0,
          0.23755357210643444,
          0.23755357210643444,
          0.19791051869486623
         ],
         "yaxis": "y"
        },
        {
         "hoverinfo": "text",
         "marker": {
          "color": "rgb(255,65,54)"
         },
         "mode": "lines",
         "text": [
          "ethiopia_eritrea_somalia_africa_nations",
          "",
          "",
          "liberia_liberians_liberian_africa_nations"
         ],
         "type": "scatter",
         "x": [
          492.8125,
          492.8125,
          535,
          535
         ],
         "xaxis": "x",
         "y": [
          0.23755357210643444,
          0.24505683911326648,
          0.24505683911326648,
          0
         ],
         "yaxis": "y"
        },
        {
         "hoverinfo": "text",
         "marker": {
          "color": "rgb(255,65,54)"
         },
         "mode": "lines",
         "text": [
          "ethiopia_eritrea_somalia_africa_nations",
          "",
          "",
          "liberia_liberians_liberian_africa_nations"
         ],
         "type": "scatter",
         "x": [
          452.5,
          452.5,
          513.90625,
          513.90625
         ],
         "xaxis": "x",
         "y": [
          0.18361934609065922,
          0.2677272039175586,
          0.2677272039175586,
          0.24505683911326648
         ],
         "yaxis": "y"
        },
        {
         "hoverinfo": "text",
         "marker": {
          "color": "rgb(255,65,54)"
         },
         "mode": "lines",
         "text": [
          "ethiopia_eritrea_somalia_africa_nations",
          "",
          "",
          "liberia_liberians_liberian_africa_nations"
         ],
         "type": "scatter",
         "x": [
          337.2265625,
          337.2265625,
          483.203125,
          483.203125
         ],
         "xaxis": "x",
         "y": [
          0.27455364245783054,
          0.29446656810924,
          0.29446656810924,
          0.2677272039175586
         ],
         "yaxis": "y"
        },
        {
         "hoverinfo": "text",
         "marker": {
          "color": "rgb(255,65,54)"
         },
         "mode": "lines",
         "text": [
          "madagascar_nations_africa_countries_malagasy",
          "",
          "",
          "liberia_liberians_liberian_africa_nations"
         ],
         "type": "scatter",
         "x": [
          295,
          295,
          410.21484375,
          410.21484375
         ],
         "xaxis": "x",
         "y": [
          0,
          0.3002272676244656,
          0.3002272676244656,
          0.29446656810924
         ],
         "yaxis": "y"
        },
        {
         "hoverinfo": "text",
         "marker": {
          "color": "rgb(255,65,54)"
         },
         "mode": "lines",
         "text": [
          "lesotho_apartheid_namibia_angola_africa",
          "",
          "",
          "botswana_angola_namibia_rhodesia_apartheid"
         ],
         "type": "scatter",
         "x": [
          555,
          555,
          565,
          565
         ],
         "xaxis": "x",
         "y": [
          0,
          0.29624076491241835,
          0.29624076491241835,
          0
         ],
         "yaxis": "y"
        },
        {
         "hoverinfo": "text",
         "marker": {
          "color": "rgb(255,65,54)"
         },
         "mode": "lines",
         "text": [
          "kenya_nairobi_sudan_somalia_nations",
          "",
          "",
          "botswana_angola_namibia_rhodesia_apartheid"
         ],
         "type": "scatter",
         "x": [
          545,
          545,
          560,
          560
         ],
         "xaxis": "x",
         "y": [
          0,
          0.3164358144274642,
          0.3164358144274642,
          0.29624076491241835
         ],
         "yaxis": "y"
        },
        {
         "hoverinfo": "text",
         "marker": {
          "color": "rgb(255,65,54)"
         },
         "mode": "lines",
         "text": [
          "kenya_nairobi_sudan_somalia_nations",
          "",
          "",
          "botswana_angola_namibia_rhodesia_apartheid"
         ],
         "type": "scatter",
         "x": [
          352.607421875,
          352.607421875,
          552.5,
          552.5
         ],
         "xaxis": "x",
         "y": [
          0.3002272676244656,
          0.3689523279567022,
          0.3689523279567022,
          0.3164358144274642
         ],
         "yaxis": "y"
        },
        {
         "hoverinfo": "text",
         "marker": {
          "color": "rgb(255,65,54)"
         },
         "mode": "lines",
         "text": [
          "swaziland_swazi_peaceful_nations_africa",
          "",
          "",
          "nepal_disarmament_nations_countries_delegation"
         ],
         "type": "scatter",
         "x": [
          575,
          575,
          585,
          585
         ],
         "xaxis": "x",
         "y": [
          0,
          0.3799009424423322,
          0.3799009424423322,
          0
         ],
         "yaxis": "y"
        },
        {
         "hoverinfo": "text",
         "marker": {
          "color": "rgb(255,65,54)"
         },
         "mode": "lines",
         "text": [
          "swaziland_swazi_peaceful_nations_africa",
          "",
          "",
          "nepal_disarmament_nations_countries_delegation"
         ],
         "type": "scatter",
         "x": [
          452.5537109375,
          452.5537109375,
          580,
          580
         ],
         "xaxis": "x",
         "y": [
          0.3689523279567022,
          0.39868123521448784,
          0.39868123521448784,
          0.3799009424423322
         ],
         "yaxis": "y"
        },
        {
         "hoverinfo": "text",
         "marker": {
          "color": "rgb(255,65,54)"
         },
         "mode": "lines",
         "text": [
          "uganda_rwanda_congo_angola_amin",
          "",
          "",
          "nepal_disarmament_nations_countries_delegation"
         ],
         "type": "scatter",
         "x": [
          285,
          285,
          516.27685546875,
          516.27685546875
         ],
         "xaxis": "x",
         "y": [
          0,
          0.4013302064051062,
          0.4013302064051062,
          0.39868123521448784
         ],
         "yaxis": "y"
        },
        {
         "hoverinfo": "text",
         "marker": {
          "color": "rgb(255,65,54)"
         },
         "mode": "lines",
         "text": [
          "uganda_rwanda_congo_angola_amin",
          "",
          "",
          "mauritius_nations_peace_countries_africa"
         ],
         "type": "scatter",
         "x": [
          400.638427734375,
          400.638427734375,
          595,
          595
         ],
         "xaxis": "x",
         "y": [
          0.4013302064051062,
          0.4206271338515231,
          0.4206271338515231,
          0
         ],
         "yaxis": "y"
        },
        {
         "hoverinfo": "text",
         "marker": {
          "color": "rgb(255,65,54)"
         },
         "mode": "lines",
         "text": [
          "uganda_rwanda_congo_angola_amin",
          "",
          "",
          "lanka_sri_colombo_nations_countries"
         ],
         "type": "scatter",
         "x": [
          497.8192138671875,
          497.8192138671875,
          605,
          605
         ],
         "xaxis": "x",
         "y": [
          0.4206271338515231,
          0.45117670951676236,
          0.45117670951676236,
          0
         ],
         "yaxis": "y"
        },
        {
         "hoverinfo": "text",
         "marker": {
          "color": "rgb(255,65,54)"
         },
         "mode": "lines",
         "text": [
          "uganda_rwanda_congo_angola_amin",
          "",
          "",
          "lanka_sri_colombo_nations_countries"
         ],
         "type": "scatter",
         "x": [
          182.1337890625,
          182.1337890625,
          551.4096069335938,
          551.4096069335938
         ],
         "xaxis": "x",
         "y": [
          0.5227572594096725,
          0.5548986088577583,
          0.5548986088577583,
          0.45117670951676236
         ],
         "yaxis": "y"
        },
        {
         "hoverinfo": "text",
         "marker": {
          "color": "rgb(255,65,54)"
         },
         "mode": "lines",
         "text": [
          "liechtenstein_namibia_peaceful_nations_kuwait",
          "",
          "",
          "nations_countries_democracy_peace_korea"
         ],
         "type": "scatter",
         "x": [
          645,
          645,
          655,
          655
         ],
         "xaxis": "x",
         "y": [
          0,
          0.10907638407639786,
          0.10907638407639786,
          0
         ],
         "yaxis": "y"
        },
        {
         "hoverinfo": "text",
         "marker": {
          "color": "rgb(255,65,54)"
         },
         "mode": "lines",
         "text": [
          "liechtenstein_nations_kuwait_countries_iraq",
          "",
          "",
          "nations_countries_democracy_peace_korea"
         ],
         "type": "scatter",
         "x": [
          635,
          635,
          650,
          650
         ],
         "xaxis": "x",
         "y": [
          0,
          0.12475110894564735,
          0.12475110894564735,
          0.10907638407639786
         ],
         "yaxis": "y"
        },
        {
         "hoverinfo": "text",
         "marker": {
          "color": "rgb(255,65,54)"
         },
         "mode": "lines",
         "text": [
          "and_the_to_of_in",
          "",
          "",
          "peaceful_peace_nations_afghanistan_lebanon"
         ],
         "type": "scatter",
         "x": [
          642.5,
          642.5,
          665,
          665
         ],
         "xaxis": "x",
         "y": [
          0.12475110894564735,
          0.17073343704875438,
          0.17073343704875438,
          0
         ],
         "yaxis": "y"
        },
        {
         "hoverinfo": "text",
         "marker": {
          "color": "rgb(255,65,54)"
         },
         "mode": "lines",
         "text": [
          "malta_nations_neutrality_peace_countries",
          "",
          "",
          "peaceful_peace_nations_afghanistan_lebanon"
         ],
         "type": "scatter",
         "x": [
          625,
          625,
          653.75,
          653.75
         ],
         "xaxis": "x",
         "y": [
          0,
          0.31725036521150124,
          0.31725036521150124,
          0.17073343704875438
         ],
         "yaxis": "y"
        },
        {
         "hoverinfo": "text",
         "marker": {
          "color": "rgb(255,65,54)"
         },
         "mode": "lines",
         "text": [
          "malta_nations_neutrality_peace_countries",
          "",
          "",
          "spain_nations_gibraltar_countries_peace"
         ],
         "type": "scatter",
         "x": [
          639.375,
          639.375,
          675,
          675
         ],
         "xaxis": "x",
         "y": [
          0.31725036521150124,
          0.347709341809825,
          0.347709341809825,
          0
         ],
         "yaxis": "y"
        },
        {
         "hoverinfo": "text",
         "marker": {
          "color": "rgb(255,65,54)"
         },
         "mode": "lines",
         "text": [
          "sweden_disarmament_denmark_nations_swedish",
          "",
          "",
          "treaty_disarmament_peaceful_finland_nations"
         ],
         "type": "scatter",
         "x": [
          685,
          685,
          695,
          695
         ],
         "xaxis": "x",
         "y": [
          0,
          0.2583507451739139,
          0.2583507451739139,
          0
         ],
         "yaxis": "y"
        },
        {
         "hoverinfo": "text",
         "marker": {
          "color": "rgb(255,65,54)"
         },
         "mode": "lines",
         "text": [
          "sweden_disarmament_denmark_nations_swedish",
          "",
          "",
          "treaty_disarmament_peaceful_finland_nations"
         ],
         "type": "scatter",
         "x": [
          657.1875,
          657.1875,
          690,
          690
         ],
         "xaxis": "x",
         "y": [
          0.347709341809825,
          0.36809363613853213,
          0.36809363613853213,
          0.2583507451739139
         ],
         "yaxis": "y"
        },
        {
         "hoverinfo": "text",
         "marker": {
          "color": "rgb(255,65,54)"
         },
         "mode": "lines",
         "text": [
          "sweden_disarmament_denmark_nations_swedish",
          "",
          "",
          "suriname_treaty_nations_countries_government"
         ],
         "type": "scatter",
         "x": [
          673.59375,
          673.59375,
          705,
          705
         ],
         "xaxis": "x",
         "y": [
          0.36809363613853213,
          0.37991475334854546,
          0.37991475334854546,
          0
         ],
         "yaxis": "y"
        },
        {
         "hoverinfo": "text",
         "marker": {
          "color": "rgb(255,65,54)"
         },
         "mode": "lines",
         "text": [
          "disarmament_nations_nuclear_japan_countries",
          "",
          "",
          "suriname_treaty_nations_countries_government"
         ],
         "type": "scatter",
         "x": [
          615,
          615,
          689.296875,
          689.296875
         ],
         "xaxis": "x",
         "y": [
          0,
          0.4238019744282897,
          0.4238019744282897,
          0.37991475334854546
         ],
         "yaxis": "y"
        },
        {
         "hoverinfo": "text",
         "marker": {
          "color": "rgb(255,65,54)"
         },
         "mode": "lines",
         "text": [
          "disarmament_nations_nuclear_japan_countries",
          "",
          "",
          "disarmament_austria_peaceful_nations_vienna"
         ],
         "type": "scatter",
         "x": [
          652.1484375,
          652.1484375,
          715,
          715
         ],
         "xaxis": "x",
         "y": [
          0.4238019744282897,
          0.4296002001755323,
          0.4296002001755323,
          0
         ],
         "yaxis": "y"
        },
        {
         "hoverinfo": "text",
         "marker": {
          "color": "rgb(255,65,54)"
         },
         "mode": "lines",
         "text": [
          "cyprus_disarmament_cypriot_nations_peace",
          "",
          "",
          "greece_greek_balkans_nations_cyprus"
         ],
         "type": "scatter",
         "x": [
          725,
          725,
          735,
          735
         ],
         "xaxis": "x",
         "y": [
          0,
          0.23097098834238183,
          0.23097098834238183,
          0
         ],
         "yaxis": "y"
        },
        {
         "hoverinfo": "text",
         "marker": {
          "color": "rgb(255,65,54)"
         },
         "mode": "lines",
         "text": [
          "congo_nations_algerian_africa_hammarskjold",
          "",
          "",
          "disarmament_ceylon_nations_malaya_delegation"
         ],
         "type": "scatter",
         "x": [
          755,
          755,
          765,
          765
         ],
         "xaxis": "x",
         "y": [
          0,
          0.15460690724989024,
          0.15460690724989024,
          0
         ],
         "yaxis": "y"
        },
        {
         "hoverinfo": "text",
         "marker": {
          "color": "rgb(255,65,54)"
         },
         "mode": "lines",
         "text": [
          "nations_peace_war_france_council",
          "",
          "",
          "the_of_and_in_to"
         ],
         "type": "scatter",
         "x": [
          745,
          745,
          760,
          760
         ],
         "xaxis": "x",
         "y": [
          0,
          0.22301250509617415,
          0.22301250509617415,
          0.15460690724989024
         ],
         "yaxis": "y"
        },
        {
         "hoverinfo": "text",
         "marker": {
          "color": "rgb(255,65,54)"
         },
         "mode": "lines",
         "text": [
          "treaty_nations_countries_australia_council",
          "",
          "",
          "treaty_disarmament_nations_zealand_countries"
         ],
         "type": "scatter",
         "x": [
          785,
          785,
          795,
          795
         ],
         "xaxis": "x",
         "y": [
          0,
          0.2355550653567009,
          0.2355550653567009,
          0
         ],
         "yaxis": "y"
        },
        {
         "hoverinfo": "text",
         "marker": {
          "color": "rgb(255,65,54)"
         },
         "mode": "lines",
         "text": [
          "disarmament_nations_canada_council_government",
          "",
          "",
          "the_of_in_and_to"
         ],
         "type": "scatter",
         "x": [
          775,
          775,
          790,
          790
         ],
         "xaxis": "x",
         "y": [
          0,
          0.2992824501698443,
          0.2992824501698443,
          0.2355550653567009
         ],
         "yaxis": "y"
        },
        {
         "hoverinfo": "text",
         "marker": {
          "color": "rgb(255,65,54)"
         },
         "mode": "lines",
         "text": [
          "indonesia_asean_indonesian_nations_peace",
          "",
          "",
          "nations_india_countries_peace_indian"
         ],
         "type": "scatter",
         "x": [
          845,
          845,
          855,
          855
         ],
         "xaxis": "x",
         "y": [
          0,
          0.1399327301024108,
          0.1399327301024108,
          0
         ],
         "yaxis": "y"
        },
        {
         "hoverinfo": "text",
         "marker": {
          "color": "rgb(255,65,54)"
         },
         "mode": "lines",
         "text": [
          "guyana_nations_venezuela_countries_general",
          "",
          "",
          "nations_india_countries_peace_indian"
         ],
         "type": "scatter",
         "x": [
          835,
          835,
          850,
          850
         ],
         "xaxis": "x",
         "y": [
          0,
          0.16030306424674282,
          0.16030306424674282,
          0.1399327301024108
         ],
         "yaxis": "y"
        },
        {
         "hoverinfo": "text",
         "marker": {
          "color": "rgb(255,65,54)"
         },
         "mode": "lines",
         "text": [
          "nations_countries_peace_government_world",
          "",
          "",
          "malaya_disarmament_nations_malaysia_peace"
         ],
         "type": "scatter",
         "x": [
          875,
          875,
          885,
          885
         ],
         "xaxis": "x",
         "y": [
          0,
          0.0882576465715239,
          0.0882576465715239,
          0
         ],
         "yaxis": "y"
        },
        {
         "hoverinfo": "text",
         "marker": {
          "color": "rgb(255,65,54)"
         },
         "mode": "lines",
         "text": [
          "nations_peace_war_delegation_countries",
          "",
          "",
          "malaya_disarmament_nations_malaysia_peace"
         ],
         "type": "scatter",
         "x": [
          865,
          865,
          880,
          880
         ],
         "xaxis": "x",
         "y": [
          0,
          0.13254061742959972,
          0.13254061742959972,
          0.0882576465715239
         ],
         "yaxis": "y"
        },
        {
         "hoverinfo": "text",
         "marker": {
          "color": "rgb(255,65,54)"
         },
         "mode": "lines",
         "text": [
          "war_peace_nations_economic_political",
          "",
          "",
          "treaty_nations_peace_war_countries"
         ],
         "type": "scatter",
         "x": [
          895,
          895,
          905,
          905
         ],
         "xaxis": "x",
         "y": [
          0,
          0.08694651362996919,
          0.08694651362996919,
          0
         ],
         "yaxis": "y"
        },
        {
         "hoverinfo": "text",
         "marker": {
          "color": "rgb(255,65,54)"
         },
         "mode": "lines",
         "text": [
          "the_of_and_to_in",
          "",
          "",
          "nations_countries_europe_peace_belgium"
         ],
         "type": "scatter",
         "x": [
          900,
          900,
          915,
          915
         ],
         "xaxis": "x",
         "y": [
          0.08694651362996919,
          0.12116375611133903,
          0.12116375611133903,
          0
         ],
         "yaxis": "y"
        },
        {
         "hoverinfo": "text",
         "marker": {
          "color": "rgb(255,65,54)"
         },
         "mode": "lines",
         "text": [
          "the_of_and_to_in",
          "",
          "",
          "nations_countries_europe_peace_belgium"
         ],
         "type": "scatter",
         "x": [
          872.5,
          872.5,
          907.5,
          907.5
         ],
         "xaxis": "x",
         "y": [
          0.13254061742959972,
          0.15087697957280177,
          0.15087697957280177,
          0.12116375611133903
         ],
         "yaxis": "y"
        },
        {
         "hoverinfo": "text",
         "marker": {
          "color": "rgb(255,65,54)"
         },
         "mode": "lines",
         "text": [
          "the_of_and_to_in",
          "",
          "",
          "nations_countries_europe_peace_belgium"
         ],
         "type": "scatter",
         "x": [
          842.5,
          842.5,
          890,
          890
         ],
         "xaxis": "x",
         "y": [
          0.16030306424674282,
          0.17184020625498098,
          0.17184020625498098,
          0.15087697957280177
         ],
         "yaxis": "y"
        },
        {
         "hoverinfo": "text",
         "marker": {
          "color": "rgb(255,65,54)"
         },
         "mode": "lines",
         "text": [
          "the_of_and_to_in",
          "",
          "",
          "disarmament_nations_denmark_iceland_nation"
         ],
         "type": "scatter",
         "x": [
          866.25,
          866.25,
          925,
          925
         ],
         "xaxis": "x",
         "y": [
          0.17184020625498098,
          0.1972239116904845,
          0.1972239116904845,
          0
         ],
         "yaxis": "y"
        },
        {
         "hoverinfo": "text",
         "marker": {
          "color": "rgb(255,65,54)"
         },
         "mode": "lines",
         "text": [
          "italy_disarmament_nations_italian_countries",
          "",
          "",
          "disarmament_nations_denmark_iceland_nation"
         ],
         "type": "scatter",
         "x": [
          825,
          825,
          895.625,
          895.625
         ],
         "xaxis": "x",
         "y": [
          0,
          0.210507278105562,
          0.210507278105562,
          0.1972239116904845
         ],
         "yaxis": "y"
        },
        {
         "hoverinfo": "text",
         "marker": {
          "color": "rgb(255,65,54)"
         },
         "mode": "lines",
         "text": [
          "italy_disarmament_nations_italian_countries",
          "",
          "",
          "nations_countries_peace_negotiations_netherlands"
         ],
         "type": "scatter",
         "x": [
          860.3125,
          860.3125,
          935,
          935
         ],
         "xaxis": "x",
         "y": [
          0.210507278105562,
          0.2359243092556816,
          0.2359243092556816,
          0
         ],
         "yaxis": "y"
        },
        {
         "hoverinfo": "text",
         "marker": {
          "color": "rgb(255,65,54)"
         },
         "mode": "lines",
         "text": [
          "myanmar_burma_peaceful_disarmament_burmese",
          "",
          "",
          "nations_countries_peace_negotiations_netherlands"
         ],
         "type": "scatter",
         "x": [
          815,
          815,
          897.65625,
          897.65625
         ],
         "xaxis": "x",
         "y": [
          0,
          0.24178264140356684,
          0.24178264140356684,
          0.2359243092556816
         ],
         "yaxis": "y"
        },
        {
         "hoverinfo": "text",
         "marker": {
          "color": "rgb(255,65,54)"
         },
         "mode": "lines",
         "text": [
          "philippines_philippine_asean_manila_filipino",
          "",
          "",
          "nations_countries_peace_negotiations_netherlands"
         ],
         "type": "scatter",
         "x": [
          805,
          805,
          856.328125,
          856.328125
         ],
         "xaxis": "x",
         "y": [
          0,
          0.30904455033933526,
          0.30904455033933526,
          0.24178264140356684
         ],
         "yaxis": "y"
        },
        {
         "hoverinfo": "text",
         "marker": {
          "color": "rgb(255,65,54)"
         },
         "mode": "lines",
         "text": [
          "philippines_philippine_asean_manila_filipino",
          "",
          "",
          "asean_thailand_nations_asia_countries"
         ],
         "type": "scatter",
         "x": [
          830.6640625,
          830.6640625,
          945,
          945
         ],
         "xaxis": "x",
         "y": [
          0.30904455033933526,
          0.314829070451089,
          0.314829070451089,
          0
         ],
         "yaxis": "y"
        },
        {
         "hoverinfo": "text",
         "marker": {
          "color": "rgb(255,65,54)"
         },
         "mode": "lines",
         "text": [
          "philippines_philippine_asean_manila_filipino",
          "",
          "",
          "asean_thailand_nations_asia_countries"
         ],
         "type": "scatter",
         "x": [
          782.5,
          782.5,
          887.83203125,
          887.83203125
         ],
         "xaxis": "x",
         "y": [
          0.2992824501698443,
          0.3430535014174318,
          0.3430535014174318,
          0.314829070451089
         ],
         "yaxis": "y"
        },
        {
         "hoverinfo": "text",
         "marker": {
          "color": "rgb(255,65,54)"
         },
         "mode": "lines",
         "text": [
          "philippines_philippine_asean_manila_filipino",
          "",
          "",
          "asean_thailand_nations_asia_countries"
         ],
         "type": "scatter",
         "x": [
          752.5,
          752.5,
          835.166015625,
          835.166015625
         ],
         "xaxis": "x",
         "y": [
          0.22301250509617415,
          0.35238189652762514,
          0.35238189652762514,
          0.3430535014174318
         ],
         "yaxis": "y"
        },
        {
         "hoverinfo": "text",
         "marker": {
          "color": "rgb(255,65,54)"
         },
         "mode": "lines",
         "text": [
          "the_of_to_in_and",
          "",
          "",
          "asean_thailand_nations_asia_countries"
         ],
         "type": "scatter",
         "x": [
          730,
          730,
          793.8330078125,
          793.8330078125
         ],
         "xaxis": "x",
         "y": [
          0.23097098834238183,
          0.48297805998183896,
          0.48297805998183896,
          0.35238189652762514
         ],
         "yaxis": "y"
        },
        {
         "hoverinfo": "text",
         "marker": {
          "color": "rgb(255,65,54)"
         },
         "mode": "lines",
         "text": [
          "disarmament_pakistan_peaceful_afghanistan_nations",
          "",
          "",
          "kabul_taliban_afghanistan_afghan_afghans"
         ],
         "type": "scatter",
         "x": [
          955,
          955,
          965,
          965
         ],
         "xaxis": "x",
         "y": [
          0,
          0.3424212788600669,
          0.3424212788600669,
          0
         ],
         "yaxis": "y"
        },
        {
         "hoverinfo": "text",
         "marker": {
          "color": "rgb(255,65,54)"
         },
         "mode": "lines",
         "text": [
          "disarmament_pakistan_peaceful_afghanistan_nations",
          "",
          "",
          "the_of_to_and_that"
         ],
         "type": "scatter",
         "x": [
          761.91650390625,
          761.91650390625,
          960,
          960
         ],
         "xaxis": "x",
         "y": [
          0.48297805998183896,
          0.4979432821248052,
          0.4979432821248052,
          0.3424212788600669
         ],
         "yaxis": "y"
        },
        {
         "hoverinfo": "text",
         "marker": {
          "color": "rgb(255,65,54)"
         },
         "mode": "lines",
         "text": [
          "disarmament_pakistan_peaceful_afghanistan_nations",
          "",
          "",
          "the_of_to_and_that"
         ],
         "type": "scatter",
         "x": [
          683.57421875,
          683.57421875,
          860.958251953125,
          860.958251953125
         ],
         "xaxis": "x",
         "y": [
          0.4296002001755323,
          0.5207875206264126,
          0.5207875206264126,
          0.4979432821248052
         ],
         "yaxis": "y"
        },
        {
         "hoverinfo": "text",
         "marker": {
          "color": "rgb(255,65,54)"
         },
         "mode": "lines",
         "text": [
          "cambodia_cambodian_khmer_sihanouk_laos",
          "",
          "",
          "asean_peaceful_viet_cambodia_nam"
         ],
         "type": "scatter",
         "x": [
          985,
          985,
          995,
          995
         ],
         "xaxis": "x",
         "y": [
          0,
          0.34023246724034073,
          0.34023246724034073,
          0
         ],
         "yaxis": "y"
        },
        {
         "hoverinfo": "text",
         "marker": {
          "color": "rgb(255,65,54)"
         },
         "mode": "lines",
         "text": [
          "laos_asean_lao_viet_nations",
          "",
          "",
          "asean_peaceful_viet_cambodia_nam"
         ],
         "type": "scatter",
         "x": [
          975,
          975,
          990,
          990
         ],
         "xaxis": "x",
         "y": [
          0,
          0.38157109302991377,
          0.38157109302991377,
          0.34023246724034073
         ],
         "yaxis": "y"
        },
        {
         "hoverinfo": "text",
         "marker": {
          "color": "rgb(255,65,54)"
         },
         "mode": "lines",
         "text": [
          "albania_kosovo_imperialism_nato_albanians",
          "",
          "",
          "disarmament_mao_china_nations_imperialism"
         ],
         "type": "scatter",
         "x": [
          1005,
          1005,
          1015,
          1015
         ],
         "xaxis": "x",
         "y": [
          0,
          0.3695646600964304,
          0.3695646600964304,
          0
         ],
         "yaxis": "y"
        },
        {
         "hoverinfo": "text",
         "marker": {
          "color": "rgb(255,65,54)"
         },
         "mode": "lines",
         "text": [
          "disarmament_peaceful_war_nations_hungary",
          "",
          "",
          "disarmament_bulgaria_balkans_nations_countries"
         ],
         "type": "scatter",
         "x": [
          1035,
          1035,
          1045,
          1045
         ],
         "xaxis": "x",
         "y": [
          0,
          0.18186157804538272,
          0.18186157804538272,
          0
         ],
         "yaxis": "y"
        },
        {
         "hoverinfo": "text",
         "marker": {
          "color": "rgb(255,65,54)"
         },
         "mode": "lines",
         "text": [
          "disarmament_treaty_peaceful_nations_peace",
          "",
          "",
          "poland_disarmament_polish_nations_peaceful"
         ],
         "type": "scatter",
         "x": [
          1055,
          1055,
          1065,
          1065
         ],
         "xaxis": "x",
         "y": [
          0,
          0.18339823827525226,
          0.18339823827525226,
          0
         ],
         "yaxis": "y"
        },
        {
         "hoverinfo": "text",
         "marker": {
          "color": "rgb(255,65,54)"
         },
         "mode": "lines",
         "text": [
          "disarmament_treaty_peaceful_nations_peace",
          "",
          "",
          "poland_disarmament_polish_nations_peaceful"
         ],
         "type": "scatter",
         "x": [
          1040,
          1040,
          1060,
          1060
         ],
         "xaxis": "x",
         "y": [
          0.18186157804538272,
          0.2334725139641728,
          0.2334725139641728,
          0.18339823827525226
         ],
         "yaxis": "y"
        },
        {
         "hoverinfo": "text",
         "marker": {
          "color": "rgb(255,65,54)"
         },
         "mode": "lines",
         "text": [
          "romania_disarmament_nations_romanian_peaceful",
          "",
          "",
          "poland_disarmament_polish_nations_peaceful"
         ],
         "type": "scatter",
         "x": [
          1025,
          1025,
          1050,
          1050
         ],
         "xaxis": "x",
         "y": [
          0,
          0.24780285444301423,
          0.24780285444301423,
          0.2334725139641728
         ],
         "yaxis": "y"
        },
        {
         "hoverinfo": "text",
         "marker": {
          "color": "rgb(255,65,54)"
         },
         "mode": "lines",
         "text": [
          "disarmament_treaty_peaceful_nations_war",
          "",
          "",
          "nations_war_ussr_peace_countries"
         ],
         "type": "scatter",
         "x": [
          1085,
          1085,
          1095,
          1095
         ],
         "xaxis": "x",
         "y": [
          0,
          0.07161465427133484,
          0.07161465427133484,
          0
         ],
         "yaxis": "y"
        },
        {
         "hoverinfo": "text",
         "marker": {
          "color": "rgb(255,65,54)"
         },
         "mode": "lines",
         "text": [
          "of_the_to_and_in",
          "",
          "",
          "war_armistice_korea_nations_ussr"
         ],
         "type": "scatter",
         "x": [
          1090,
          1090,
          1105,
          1105
         ],
         "xaxis": "x",
         "y": [
          0.07161465427133484,
          0.09507330202660497,
          0.09507330202660497,
          0
         ],
         "yaxis": "y"
        },
        {
         "hoverinfo": "text",
         "marker": {
          "color": "rgb(255,65,54)"
         },
         "mode": "lines",
         "text": [
          "treaty_disarmament_peaceful_czechoslovakia_nations",
          "",
          "",
          "of_the_to_in_and"
         ],
         "type": "scatter",
         "x": [
          1075,
          1075,
          1097.5,
          1097.5
         ],
         "xaxis": "x",
         "y": [
          0,
          0.17251194240824871,
          0.17251194240824871,
          0.09507330202660497
         ],
         "yaxis": "y"
        },
        {
         "hoverinfo": "text",
         "marker": {
          "color": "rgb(255,65,54)"
         },
         "mode": "lines",
         "text": [
          "treaty_disarmament_peaceful_czechoslovakia_nations",
          "",
          "",
          "of_the_to_in_and"
         ],
         "type": "scatter",
         "x": [
          1037.5,
          1037.5,
          1086.25,
          1086.25
         ],
         "xaxis": "x",
         "y": [
          0.24780285444301423,
          0.2615016239510435,
          0.2615016239510435,
          0.17251194240824871
         ],
         "yaxis": "y"
        },
        {
         "hoverinfo": "text",
         "marker": {
          "color": "rgb(255,65,54)"
         },
         "mode": "lines",
         "text": [
          "treaty_disarmament_peaceful_czechoslovakia_nations",
          "",
          "",
          "treaty_mongolia_disarmament_soviet_peaceful"
         ],
         "type": "scatter",
         "x": [
          1061.875,
          1061.875,
          1115,
          1115
         ],
         "xaxis": "x",
         "y": [
          0.2615016239510435,
          0.381896442296765,
          0.381896442296765,
          0
         ],
         "yaxis": "y"
        },
        {
         "hoverinfo": "text",
         "marker": {
          "color": "rgb(255,65,54)"
         },
         "mode": "lines",
         "text": [
          "treaty_disarmament_peaceful_czechoslovakia_nations",
          "",
          "",
          "treaty_mongolia_disarmament_soviet_peaceful"
         ],
         "type": "scatter",
         "x": [
          1010,
          1010,
          1088.4375,
          1088.4375
         ],
         "xaxis": "x",
         "y": [
          0.3695646600964304,
          0.41659361362719327,
          0.41659361362719327,
          0.381896442296765
         ],
         "yaxis": "y"
        },
        {
         "hoverinfo": "text",
         "marker": {
          "color": "rgb(255,65,54)"
         },
         "mode": "lines",
         "text": [
          "treaty_disarmament_peaceful_czechoslovakia_nations",
          "",
          "",
          "korea_peaceful_sovereignty_reunification_kim"
         ],
         "type": "scatter",
         "x": [
          1049.21875,
          1049.21875,
          1125,
          1125
         ],
         "xaxis": "x",
         "y": [
          0.41659361362719327,
          0.5749927460064589,
          0.5749927460064589,
          0
         ],
         "yaxis": "y"
        },
        {
         "hoverinfo": "text",
         "marker": {
          "color": "rgb(255,65,54)"
         },
         "mode": "lines",
         "text": [
          "treaty_disarmament_peaceful_czechoslovakia_nations",
          "",
          "",
          "korea_peaceful_sovereignty_reunification_kim"
         ],
         "type": "scatter",
         "x": [
          982.5,
          982.5,
          1087.109375,
          1087.109375
         ],
         "xaxis": "x",
         "y": [
          0.38157109302991377,
          0.5817321279344373,
          0.5817321279344373,
          0.5749927460064589
         ],
         "yaxis": "y"
        },
        {
         "hoverinfo": "text",
         "marker": {
          "color": "rgb(255,65,54)"
         },
         "mode": "lines",
         "text": [
          "treaty_disarmament_peaceful_czechoslovakia_nations",
          "",
          "",
          "korea_peaceful_sovereignty_reunification_kim"
         ],
         "type": "scatter",
         "x": [
          772.2662353515625,
          772.2662353515625,
          1034.8046875,
          1034.8046875
         ],
         "xaxis": "x",
         "y": [
          0.5207875206264126,
          0.699232439646637,
          0.699232439646637,
          0.5817321279344373
         ],
         "yaxis": "y"
        },
        {
         "hoverinfo": "text",
         "marker": {
          "color": "rgb(255,65,54)"
         },
         "mode": "lines",
         "text": [
          "treaty_disarmament_peaceful_czechoslovakia_nations",
          "",
          "",
          "korea_peaceful_sovereignty_reunification_kim"
         ],
         "type": "scatter",
         "x": [
          366.7716979980469,
          366.7716979980469,
          903.5354614257812,
          903.5354614257812
         ],
         "xaxis": "x",
         "y": [
          0.5548986088577583,
          0.8158332564729625,
          0.8158332564729625,
          0.699232439646637
         ],
         "yaxis": "y"
        },
        {
         "hoverinfo": "text",
         "marker": {
          "color": "rgb(255,65,54)"
         },
         "mode": "lines",
         "text": [
          "dominican_haiti_nations_caribbean_republic",
          "",
          "",
          "haiti_duvalier_haitian_haitians_nations"
         ],
         "type": "scatter",
         "x": [
          1145,
          1145,
          1155,
          1155
         ],
         "xaxis": "x",
         "y": [
          0,
          0.30527880518288253,
          0.30527880518288253,
          0
         ],
         "yaxis": "y"
        },
        {
         "hoverinfo": "text",
         "marker": {
          "color": "rgb(255,65,54)"
         },
         "mode": "lines",
         "text": [
          "cuba_cuban_sovereignty_castro_imperialism",
          "",
          "",
          "panama_panamanian_panamanians_treaty_treaties"
         ],
         "type": "scatter",
         "x": [
          1165,
          1165,
          1175,
          1175
         ],
         "xaxis": "x",
         "y": [
          0,
          0.31585321476704387,
          0.31585321476704387,
          0
         ],
         "yaxis": "y"
        },
        {
         "hoverinfo": "text",
         "marker": {
          "color": "rgb(255,65,54)"
         },
         "mode": "lines",
         "text": [
          "venezuela_bolivarian_venezuelan_nations_countries",
          "",
          "",
          "colombia_colombians_colombian_nations_countries"
         ],
         "type": "scatter",
         "x": [
          1195,
          1195,
          1205,
          1205
         ],
         "xaxis": "x",
         "y": [
          0,
          0.22940533313594558,
          0.22940533313594558,
          0
         ],
         "yaxis": "y"
        },
        {
         "hoverinfo": "text",
         "marker": {
          "color": "rgb(255,65,54)"
         },
         "mode": "lines",
         "text": [
          "chile_chilean_nations_countries_government",
          "",
          "",
          "argentina_argentine_nations_sovereignty_countries"
         ],
         "type": "scatter",
         "x": [
          1225,
          1225,
          1235,
          1235
         ],
         "xaxis": "x",
         "y": [
          0,
          0.19319574318607768,
          0.19319574318607768,
          0
         ],
         "yaxis": "y"
        },
        {
         "hoverinfo": "text",
         "marker": {
          "color": "rgb(255,65,54)"
         },
         "mode": "lines",
         "text": [
          "chile_chilean_nations_countries_government",
          "",
          "",
          "uruguay_nations_uruguayan_countries_peace"
         ],
         "type": "scatter",
         "x": [
          1230,
          1230,
          1245,
          1245
         ],
         "xaxis": "x",
         "y": [
          0.19319574318607768,
          0.19857319538708953,
          0.19857319538708953,
          0
         ],
         "yaxis": "y"
        },
        {
         "hoverinfo": "text",
         "marker": {
          "color": "rgb(255,65,54)"
         },
         "mode": "lines",
         "text": [
          "guatemala_guatemalan_guatemalans_belize_nations",
          "",
          "",
          "uruguay_nations_uruguayan_countries_peace"
         ],
         "type": "scatter",
         "x": [
          1215,
          1215,
          1237.5,
          1237.5
         ],
         "xaxis": "x",
         "y": [
          0,
          0.21478523981597425,
          0.21478523981597425,
          0.19857319538708953
         ],
         "yaxis": "y"
        },
        {
         "hoverinfo": "text",
         "marker": {
          "color": "rgb(255,65,54)"
         },
         "mode": "lines",
         "text": [
          "the_of_and_to_in",
          "",
          "",
          "peru_peruvian_nations_countries_democracy"
         ],
         "type": "scatter",
         "x": [
          1226.25,
          1226.25,
          1255,
          1255
         ],
         "xaxis": "x",
         "y": [
          0.21478523981597425,
          0.24277292758834873,
          0.24277292758834873,
          0
         ],
         "yaxis": "y"
        },
        {
         "hoverinfo": "text",
         "marker": {
          "color": "rgb(255,65,54)"
         },
         "mode": "lines",
         "text": [
          "the_of_and_to_in",
          "",
          "",
          "peru_peruvian_nations_countries_democracy"
         ],
         "type": "scatter",
         "x": [
          1200,
          1200,
          1240.625,
          1240.625
         ],
         "xaxis": "x",
         "y": [
          0.22940533313594558,
          0.27188747421682247,
          0.27188747421682247,
          0.24277292758834873
         ],
         "yaxis": "y"
        },
        {
         "hoverinfo": "text",
         "marker": {
          "color": "rgb(255,65,54)"
         },
         "mode": "lines",
         "text": [
          "the_of_and_to_in",
          "",
          "",
          "brazil_disarmament_nations_countries_brazilian"
         ],
         "type": "scatter",
         "x": [
          1220.3125,
          1220.3125,
          1265,
          1265
         ],
         "xaxis": "x",
         "y": [
          0.27188747421682247,
          0.2840076239109802,
          0.2840076239109802,
          0
         ],
         "yaxis": "y"
        },
        {
         "hoverinfo": "text",
         "marker": {
          "color": "rgb(255,65,54)"
         },
         "mode": "lines",
         "text": [
          "ecuador_ecuadorian_nations_peru_countries",
          "",
          "",
          "brazil_disarmament_nations_countries_brazilian"
         ],
         "type": "scatter",
         "x": [
          1185,
          1185,
          1242.65625,
          1242.65625
         ],
         "xaxis": "x",
         "y": [
          0,
          0.28832236080600804,
          0.28832236080600804,
          0.2840076239109802
         ],
         "yaxis": "y"
        },
        {
         "hoverinfo": "text",
         "marker": {
          "color": "rgb(255,65,54)"
         },
         "mode": "lines",
         "text": [
          "ecuador_ecuadorian_nations_peru_countries",
          "",
          "",
          "bolivia_bolivian_bolivians_nations_chile"
         ],
         "type": "scatter",
         "x": [
          1213.828125,
          1213.828125,
          1275,
          1275
         ],
         "xaxis": "x",
         "y": [
          0.28832236080600804,
          0.3304451956755423,
          0.3304451956755423,
          0
         ],
         "yaxis": "y"
        },
        {
         "hoverinfo": "text",
         "marker": {
          "color": "rgb(255,65,54)"
         },
         "mode": "lines",
         "text": [
          "ecuador_ecuadorian_nations_peru_countries",
          "",
          "",
          "bolivia_bolivian_bolivians_nations_chile"
         ],
         "type": "scatter",
         "x": [
          1170,
          1170,
          1244.4140625,
          1244.4140625
         ],
         "xaxis": "x",
         "y": [
          0.31585321476704387,
          0.353826957368215,
          0.353826957368215,
          0.3304451956755423
         ],
         "yaxis": "y"
        },
        {
         "hoverinfo": "text",
         "marker": {
          "color": "rgb(255,65,54)"
         },
         "mode": "lines",
         "text": [
          "ecuador_ecuadorian_nations_peru_countries",
          "",
          "",
          "bolivia_bolivian_bolivians_nations_chile"
         ],
         "type": "scatter",
         "x": [
          1150,
          1150,
          1207.20703125,
          1207.20703125
         ],
         "xaxis": "x",
         "y": [
          0.30527880518288253,
          0.38414971747015114,
          0.38414971747015114,
          0.353826957368215
         ],
         "yaxis": "y"
        },
        {
         "hoverinfo": "text",
         "marker": {
          "color": "rgb(255,65,54)"
         },
         "mode": "lines",
         "text": [
          "honduras_honduran_hondurans_nations_democracy",
          "",
          "",
          "salvador_salvadorian_salvadorans_nations_peace"
         ],
         "type": "scatter",
         "x": [
          1295,
          1295,
          1305,
          1305
         ],
         "xaxis": "x",
         "y": [
          0,
          0.23914811921027512,
          0.23914811921027512,
          0
         ],
         "yaxis": "y"
        },
        {
         "hoverinfo": "text",
         "marker": {
          "color": "rgb(255,65,54)"
         },
         "mode": "lines",
         "text": [
          "nicaragua_nicaraguan_nicaraguans_honduras_cuba",
          "",
          "",
          "salvador_salvadorian_salvadorans_nations_peace"
         ],
         "type": "scatter",
         "x": [
          1285,
          1285,
          1300,
          1300
         ],
         "xaxis": "x",
         "y": [
          0,
          0.3034669924271764,
          0.3034669924271764,
          0.23914811921027512
         ],
         "yaxis": "y"
        },
        {
         "hoverinfo": "text",
         "marker": {
          "color": "rgb(255,65,54)"
         },
         "mode": "lines",
         "text": [
          "nicaragua_nicaraguan_nicaraguans_honduras_cuba",
          "",
          "",
          "rica_nations_countries_peace_democracy"
         ],
         "type": "scatter",
         "x": [
          1292.5,
          1292.5,
          1315,
          1315
         ],
         "xaxis": "x",
         "y": [
          0.3034669924271764,
          0.35587458107413084,
          0.35587458107413084,
          0
         ],
         "yaxis": "y"
        },
        {
         "hoverinfo": "text",
         "marker": {
          "color": "rgb(255,65,54)"
         },
         "mode": "lines",
         "text": [
          "nicaragua_nicaraguan_nicaraguans_honduras_cuba",
          "",
          "",
          "rica_nations_countries_peace_democracy"
         ],
         "type": "scatter",
         "x": [
          1178.603515625,
          1178.603515625,
          1303.75,
          1303.75
         ],
         "xaxis": "x",
         "y": [
          0.38414971747015114,
          0.4191754074916865,
          0.4191754074916865,
          0.35587458107413084
         ],
         "yaxis": "y"
        },
        {
         "hoverinfo": "text",
         "marker": {
          "color": "rgb(255,65,54)"
         },
         "mode": "lines",
         "text": [
          "paraguay_paraguayan_nations_countries_democracy",
          "",
          "",
          "rica_nations_countries_peace_democracy"
         ],
         "type": "scatter",
         "x": [
          1135,
          1135,
          1241.1767578125,
          1241.1767578125
         ],
         "xaxis": "x",
         "y": [
          0,
          0.44643298859733954,
          0.44643298859733954,
          0.4191754074916865
         ],
         "yaxis": "y"
        },
        {
         "hoverinfo": "text",
         "marker": {
          "color": "rgb(255,65,54)"
         },
         "mode": "lines",
         "text": [
          "jamaica_nations_caribbean_countries_peace",
          "",
          "",
          "barbados_antigua_haiti_caribbean_nations"
         ],
         "type": "scatter",
         "x": [
          1345,
          1345,
          1355,
          1355
         ],
         "xaxis": "x",
         "y": [
          0,
          0.24850955549806497,
          0.24850955549806497,
          0
         ],
         "yaxis": "y"
        },
        {
         "hoverinfo": "text",
         "marker": {
          "color": "rgb(255,65,54)"
         },
         "mode": "lines",
         "text": [
          "dominica_nations_lucia_barbados_countries",
          "",
          "",
          "haiti_dominica_hurricane_grenada_caribbean"
         ],
         "type": "scatter",
         "x": [
          1365,
          1365,
          1375,
          1375
         ],
         "xaxis": "x",
         "y": [
          0,
          0.22698986884119166,
          0.22698986884119166,
          0
         ],
         "yaxis": "y"
        },
        {
         "hoverinfo": "text",
         "marker": {
          "color": "rgb(255,65,54)"
         },
         "mode": "lines",
         "text": [
          "dominica_nations_lucia_barbados_countries",
          "",
          "",
          "of_the_and_in_to"
         ],
         "type": "scatter",
         "x": [
          1350,
          1350,
          1370,
          1370
         ],
         "xaxis": "x",
         "y": [
          0.24850955549806497,
          0.3212562544147727,
          0.3212562544147727,
          0.22698986884119166
         ],
         "yaxis": "y"
        },
        {
         "hoverinfo": "text",
         "marker": {
          "color": "rgb(255,65,54)"
         },
         "mode": "lines",
         "text": [
          "belize_guatemala_belizeans_belizean_panama",
          "",
          "",
          "of_the_and_in_to"
         ],
         "type": "scatter",
         "x": [
          1335,
          1335,
          1360,
          1360
         ],
         "xaxis": "x",
         "y": [
          0,
          0.352330153997839,
          0.352330153997839,
          0.3212562544147727
         ],
         "yaxis": "y"
        },
        {
         "hoverinfo": "text",
         "marker": {
          "color": "rgb(255,65,54)"
         },
         "mode": "lines",
         "text": [
          "belize_guatemala_belizeans_belizean_panama",
          "",
          "",
          "grenada_nations_countries_cuba_peace"
         ],
         "type": "scatter",
         "x": [
          1347.5,
          1347.5,
          1385,
          1385
         ],
         "xaxis": "x",
         "y": [
          0.352330153997839,
          0.42711796062226404,
          0.42711796062226404,
          0
         ],
         "yaxis": "y"
        },
        {
         "hoverinfo": "text",
         "marker": {
          "color": "rgb(255,65,54)"
         },
         "mode": "lines",
         "text": [
          "tobago_trinidad_nations_countries_caribbean",
          "",
          "",
          "grenada_nations_countries_cuba_peace"
         ],
         "type": "scatter",
         "x": [
          1325,
          1325,
          1366.25,
          1366.25
         ],
         "xaxis": "x",
         "y": [
          0,
          0.5037858973156524,
          0.5037858973156524,
          0.42711796062226404
         ],
         "yaxis": "y"
        },
        {
         "hoverinfo": "text",
         "marker": {
          "color": "rgb(255,65,54)"
         },
         "mode": "lines",
         "text": [
          "tobago_trinidad_nations_countries_caribbean",
          "",
          "",
          "bahamas_haiti_bahamian_caribbean_nations"
         ],
         "type": "scatter",
         "x": [
          1345.625,
          1345.625,
          1395,
          1395
         ],
         "xaxis": "x",
         "y": [
          0.5037858973156524,
          0.537617723056461,
          0.537617723056461,
          0
         ],
         "yaxis": "y"
        },
        {
         "hoverinfo": "text",
         "marker": {
          "color": "rgb(255,65,54)"
         },
         "mode": "lines",
         "text": [
          "tobago_trinidad_nations_countries_caribbean",
          "",
          "",
          "bahamas_haiti_bahamian_caribbean_nations"
         ],
         "type": "scatter",
         "x": [
          1188.08837890625,
          1188.08837890625,
          1370.3125,
          1370.3125
         ],
         "xaxis": "x",
         "y": [
          0.44643298859733954,
          0.7853397848193373,
          0.7853397848193373,
          0.537617723056461
         ],
         "yaxis": "y"
        },
        {
         "hoverinfo": "text",
         "marker": {
          "color": "rgb(255,65,54)"
         },
         "mode": "lines",
         "text": [
          "tobago_trinidad_nations_countries_caribbean",
          "",
          "",
          "bahamas_haiti_bahamian_caribbean_nations"
         ],
         "type": "scatter",
         "x": [
          635.1535797119141,
          635.1535797119141,
          1279.200439453125,
          1279.200439453125
         ],
         "xaxis": "x",
         "y": [
          0.8158332564729625,
          0.903732187079664,
          0.903732187079664,
          0.7853397848193373
         ],
         "yaxis": "y"
        },
        {
         "hoverinfo": "text",
         "marker": {
          "color": "rgb(0,116,217)"
         },
         "mode": "lines",
         "text": [
          "tobago_trinidad_nations_countries_caribbean",
          "",
          "",
          "bahamas_haiti_bahamian_caribbean_nations"
         ],
         "type": "scatter",
         "x": [
          38.92578125,
          38.92578125,
          957.1770095825195,
          957.1770095825195
         ],
         "xaxis": "x",
         "y": [
          0.6257801584179891,
          1.0413477150028112,
          1.0413477150028112,
          0.903732187079664
         ],
         "yaxis": "y"
        },
        {
         "hoverinfo": "text",
         "marker": {
          "color": "rgb(35,205,205)"
         },
         "mode": "lines",
         "text": [
          "samoa_micronesia_kiribati_climate_fiji",
          "",
          "",
          "climate_haiti_bahamas_dominica_barbados"
         ],
         "type": "scatter",
         "x": [
          1435,
          1435,
          1445,
          1445
         ],
         "xaxis": "x",
         "y": [
          0,
          0.23681018720149793,
          0.23681018720149793,
          0
         ],
         "yaxis": "y"
        },
        {
         "hoverinfo": "text",
         "marker": {
          "color": "rgb(35,205,205)"
         },
         "mode": "lines",
         "text": [
          "seychelles_mauritius_nations_countries_africa",
          "",
          "",
          "climate_haiti_bahamas_dominica_barbados"
         ],
         "type": "scatter",
         "x": [
          1425,
          1425,
          1440,
          1440
         ],
         "xaxis": "x",
         "y": [
          0,
          0.3062768757369854,
          0.3062768757369854,
          0.23681018720149793
         ],
         "yaxis": "y"
        },
        {
         "hoverinfo": "text",
         "marker": {
          "color": "rgb(35,205,205)"
         },
         "mode": "lines",
         "text": [
          "seychelles_mauritius_nations_countries_africa",
          "",
          "",
          "kiribati_un_agenda_acknowledge_climate"
         ],
         "type": "scatter",
         "x": [
          1432.5,
          1432.5,
          1455,
          1455
         ],
         "xaxis": "x",
         "y": [
          0.3062768757369854,
          0.3787737561390863,
          0.3787737561390863,
          0
         ],
         "yaxis": "y"
        },
        {
         "hoverinfo": "text",
         "marker": {
          "color": "rgb(35,205,205)"
         },
         "mode": "lines",
         "text": [
          "nauru_fiji_nations_governance_countries",
          "",
          "",
          "kiribati_un_agenda_acknowledge_climate"
         ],
         "type": "scatter",
         "x": [
          1415,
          1415,
          1443.75,
          1443.75
         ],
         "xaxis": "x",
         "y": [
          0,
          0.4429447549517595,
          0.4429447549517595,
          0.3787737561390863
         ],
         "yaxis": "y"
        },
        {
         "hoverinfo": "text",
         "marker": {
          "color": "rgb(35,205,205)"
         },
         "mode": "lines",
         "text": [
          "nauru_fiji_nations_governance_countries",
          "",
          "",
          "palau_palauan_un_nations_micronesia"
         ],
         "type": "scatter",
         "x": [
          1429.375,
          1429.375,
          1465,
          1465
         ],
         "xaxis": "x",
         "y": [
          0.4429447549517595,
          0.5332719225089815,
          0.5332719225089815,
          0
         ],
         "yaxis": "y"
        },
        {
         "hoverinfo": "text",
         "marker": {
          "color": "rgb(35,205,205)"
         },
         "mode": "lines",
         "text": [
          "tuvalu_kiribati_nations_countries_agenda",
          "",
          "",
          "palau_palauan_un_nations_micronesia"
         ],
         "type": "scatter",
         "x": [
          1405,
          1405,
          1447.1875,
          1447.1875
         ],
         "xaxis": "x",
         "y": [
          0,
          0.5618234142343864,
          0.5618234142343864,
          0.5332719225089815
         ],
         "yaxis": "y"
        },
        {
         "hoverinfo": "text",
         "marker": {
          "color": "rgb(35,205,205)"
         },
         "mode": "lines",
         "text": [
          "islands_nations_nation_marshallese_nuclear",
          "",
          "",
          "disarmament_nations_solomon_countries_government"
         ],
         "type": "scatter",
         "x": [
          1475,
          1475,
          1485,
          1485
         ],
         "xaxis": "x",
         "y": [
          0,
          0.3567008109526102,
          0.3567008109526102,
          0
         ],
         "yaxis": "y"
        },
        {
         "hoverinfo": "text",
         "marker": {
          "color": "rgb(35,205,205)"
         },
         "mode": "lines",
         "text": [
          "papua_guinea_nations_governments_countries",
          "",
          "",
          "vanuatu_papua_nations_multilateral_countries"
         ],
         "type": "scatter",
         "x": [
          1495,
          1495,
          1505,
          1505
         ],
         "xaxis": "x",
         "y": [
          0,
          0.3739145776354639,
          0.3739145776354639,
          0
         ],
         "yaxis": "y"
        },
        {
         "hoverinfo": "text",
         "marker": {
          "color": "rgb(35,205,205)"
         },
         "mode": "lines",
         "text": [
          "papua_guinea_nations_governments_countries",
          "",
          "",
          "fiji_peacekeeping_fijians_fijian_nations"
         ],
         "type": "scatter",
         "x": [
          1500,
          1500,
          1515,
          1515
         ],
         "xaxis": "x",
         "y": [
          0.3739145776354639,
          0.48598019269227855,
          0.48598019269227855,
          0
         ],
         "yaxis": "y"
        },
        {
         "hoverinfo": "text",
         "marker": {
          "color": "rgb(35,205,205)"
         },
         "mode": "lines",
         "text": [
          "papua_guinea_nations_governments_countries",
          "",
          "",
          "fiji_peacekeeping_fijians_fijian_nations"
         ],
         "type": "scatter",
         "x": [
          1480,
          1480,
          1507.5,
          1507.5
         ],
         "xaxis": "x",
         "y": [
          0.3567008109526102,
          0.5083504960356187,
          0.5083504960356187,
          0.48598019269227855
         ],
         "yaxis": "y"
        },
        {
         "hoverinfo": "text",
         "marker": {
          "color": "rgb(35,205,205)"
         },
         "mode": "lines",
         "text": [
          "papua_guinea_nations_governments_countries",
          "",
          "",
          "fiji_peacekeeping_fijians_fijian_nations"
         ],
         "type": "scatter",
         "x": [
          1426.09375,
          1426.09375,
          1493.75,
          1493.75
         ],
         "xaxis": "x",
         "y": [
          0.5618234142343864,
          0.6241488728999809,
          0.6241488728999809,
          0.5083504960356187
         ],
         "yaxis": "y"
        },
        {
         "hoverinfo": "text",
         "marker": {
          "color": "rgb(133,20,75)"
         },
         "mode": "lines",
         "text": [
          "tajikistan_tajik_afghanistan_nations_afghan",
          "",
          "",
          "kyrgyzstan_peacekeeping_kyrgyz_kazakhstan_tajikistan"
         ],
         "type": "scatter",
         "x": [
          1535,
          1535,
          1545,
          1545
         ],
         "xaxis": "x",
         "y": [
          0,
          0.5136169580767369,
          0.5136169580767369,
          0
         ],
         "yaxis": "y"
        },
        {
         "hoverinfo": "text",
         "marker": {
          "color": "rgb(133,20,75)"
         },
         "mode": "lines",
         "text": [
          "tajikistan_tajik_afghanistan_nations_afghan",
          "",
          "",
          "treaty_kazakhstan_nations_almaty_kazakh"
         ],
         "type": "scatter",
         "x": [
          1540,
          1540,
          1555,
          1555
         ],
         "xaxis": "x",
         "y": [
          0.5136169580767369,
          0.5847446968711297,
          0.5847446968711297,
          0
         ],
         "yaxis": "y"
        },
        {
         "hoverinfo": "text",
         "marker": {
          "color": "rgb(133,20,75)"
         },
         "mode": "lines",
         "text": [
          "turkmenistan_afghanistan_neutrality_caspian_nations",
          "",
          "",
          "treaty_kazakhstan_nations_almaty_kazakh"
         ],
         "type": "scatter",
         "x": [
          1525,
          1525,
          1547.5,
          1547.5
         ],
         "xaxis": "x",
         "y": [
          0,
          0.6432289247237267,
          0.6432289247237267,
          0.5847446968711297
         ],
         "yaxis": "y"
        },
        {
         "hoverinfo": "text",
         "marker": {
          "color": "rgb(133,20,75)"
         },
         "mode": "lines",
         "text": [
          "yugoslavia_bosnia_herzegovina_croatia_croats",
          "",
          "",
          "bosnia_herzegovina_yugoslavia_sarajevo_serbia"
         ],
         "type": "scatter",
         "x": [
          1575,
          1575,
          1585,
          1585
         ],
         "xaxis": "x",
         "y": [
          0,
          0.5666423320969693,
          0.5666423320969693,
          0
         ],
         "yaxis": "y"
        },
        {
         "hoverinfo": "text",
         "marker": {
          "color": "rgb(133,20,75)"
         },
         "mode": "lines",
         "text": [
          "kosovo_serbia_balkans_nations_serbs",
          "",
          "",
          "bosnia_herzegovina_yugoslavia_sarajevo_serbia"
         ],
         "type": "scatter",
         "x": [
          1565,
          1565,
          1580,
          1580
         ],
         "xaxis": "x",
         "y": [
          0,
          0.6948054226839568,
          0.6948054226839568,
          0.5666423320969693
         ],
         "yaxis": "y"
        },
        {
         "hoverinfo": "text",
         "marker": {
          "color": "rgb(133,20,75)"
         },
         "mode": "lines",
         "text": [
          "disarmament_ukraine_treaty_ukrainian_nations",
          "",
          "",
          "crimea_ukraine_war_humanitarian_russia"
         ],
         "type": "scatter",
         "x": [
          1625,
          1625,
          1635,
          1635
         ],
         "xaxis": "x",
         "y": [
          0,
          0.23077323950306639,
          0.23077323950306639,
          0
         ],
         "yaxis": "y"
        },
        {
         "hoverinfo": "text",
         "marker": {
          "color": "rgb(133,20,75)"
         },
         "mode": "lines",
         "text": [
          "syria_humanitarian_syrian_war_nations",
          "",
          "",
          "refugees_humanitarian_syria_migrants_terrorism"
         ],
         "type": "scatter",
         "x": [
          1655,
          1655,
          1665,
          1665
         ],
         "xaxis": "x",
         "y": [
          0,
          0.2626157577220547,
          0.2626157577220547,
          0
         ],
         "yaxis": "y"
        },
        {
         "hoverinfo": "text",
         "marker": {
          "color": "rgb(133,20,75)"
         },
         "mode": "lines",
         "text": [
          "nations_peace_ireland_council_conflict",
          "",
          "",
          "kampuchea_lebanon_the_of_and"
         ],
         "type": "scatter",
         "x": [
          1645,
          1645,
          1660,
          1660
         ],
         "xaxis": "x",
         "y": [
          0,
          0.3466719409636289,
          0.3466719409636289,
          0.2626157577220547
         ],
         "yaxis": "y"
        },
        {
         "hoverinfo": "text",
         "marker": {
          "color": "rgb(133,20,75)"
         },
         "mode": "lines",
         "text": [
          "nation_nations_war_prosperity_leaders",
          "",
          "",
          "iran_islam_islamic_iranian_peace"
         ],
         "type": "scatter",
         "x": [
          1675,
          1675,
          1685,
          1685
         ],
         "xaxis": "x",
         "y": [
          0,
          0.3274959396644401,
          0.3274959396644401,
          0
         ],
         "yaxis": "y"
        },
        {
         "hoverinfo": "text",
         "marker": {
          "color": "rgb(133,20,75)"
         },
         "mode": "lines",
         "text": [
          "the_of_and_in_to",
          "",
          "",
          "iran_islam_islamic_iranian_peace"
         ],
         "type": "scatter",
         "x": [
          1652.5,
          1652.5,
          1680,
          1680
         ],
         "xaxis": "x",
         "y": [
          0.3466719409636289,
          0.4564600748263558,
          0.4564600748263558,
          0.3274959396644401
         ],
         "yaxis": "y"
        },
        {
         "hoverinfo": "text",
         "marker": {
          "color": "rgb(133,20,75)"
         },
         "mode": "lines",
         "text": [
          "and_the_of_to_we",
          "",
          "",
          "iran_islam_islamic_iranian_peace"
         ],
         "type": "scatter",
         "x": [
          1630,
          1630,
          1666.25,
          1666.25
         ],
         "xaxis": "x",
         "y": [
          0.23077323950306639,
          0.517355630490036,
          0.517355630490036,
          0.4564600748263558
         ],
         "yaxis": "y"
        },
        {
         "hoverinfo": "text",
         "marker": {
          "color": "rgb(133,20,75)"
         },
         "mode": "lines",
         "text": [
          "and_the_of_to_we",
          "",
          "",
          "andorran_andorra_nations_principality_democracy"
         ],
         "type": "scatter",
         "x": [
          1648.125,
          1648.125,
          1695,
          1695
         ],
         "xaxis": "x",
         "y": [
          0.517355630490036,
          0.5433511052935345,
          0.5433511052935345,
          0
         ],
         "yaxis": "y"
        },
        {
         "hoverinfo": "text",
         "marker": {
          "color": "rgb(133,20,75)"
         },
         "mode": "lines",
         "text": [
          "latvia_peacekeeping_baltic_estonia_latvians",
          "",
          "",
          "andorran_andorra_nations_principality_democracy"
         ],
         "type": "scatter",
         "x": [
          1615,
          1615,
          1671.5625,
          1671.5625
         ],
         "xaxis": "x",
         "y": [
          0,
          0.5931787807451336,
          0.5931787807451336,
          0.5433511052935345
         ],
         "yaxis": "y"
        },
        {
         "hoverinfo": "text",
         "marker": {
          "color": "rgb(133,20,75)"
         },
         "mode": "lines",
         "text": [
          "abkhazian_tbilisi_abkhazia_georgians_nato",
          "",
          "",
          "andorran_andorra_nations_principality_democracy"
         ],
         "type": "scatter",
         "x": [
          1605,
          1605,
          1643.28125,
          1643.28125
         ],
         "xaxis": "x",
         "y": [
          0,
          0.6401993730829785,
          0.6401993730829785,
          0.5931787807451336
         ],
         "yaxis": "y"
        },
        {
         "hoverinfo": "text",
         "marker": {
          "color": "rgb(133,20,75)"
         },
         "mode": "lines",
         "text": [
          "macedonia_yugoslavia_nato_kosovo_balkans",
          "",
          "",
          "montenegro_nations_montenegrin_humanitarian_peace"
         ],
         "type": "scatter",
         "x": [
          1705,
          1705,
          1715,
          1715
         ],
         "xaxis": "x",
         "y": [
          0,
          0.4940842133040736,
          0.4940842133040736,
          0
         ],
         "yaxis": "y"
        },
        {
         "hoverinfo": "text",
         "marker": {
          "color": "rgb(133,20,75)"
         },
         "mode": "lines",
         "text": [
          "peacekeeping_nations_globalization_peace_countries",
          "",
          "",
          "globalization_nations_reform_peace_world"
         ],
         "type": "scatter",
         "x": [
          1775,
          1775,
          1785,
          1785
         ],
         "xaxis": "x",
         "y": [
          0,
          0.07382610793577238,
          0.07382610793577238,
          0
         ],
         "yaxis": "y"
        },
        {
         "hoverinfo": "text",
         "marker": {
          "color": "rgb(133,20,75)"
         },
         "mode": "lines",
         "text": [
          "to_and_the_that_of",
          "",
          "",
          "namibia_angola_ethiopia_nations_africa"
         ],
         "type": "scatter",
         "x": [
          1780,
          1780,
          1795,
          1795
         ],
         "xaxis": "x",
         "y": [
          0.07382610793577238,
          0.09841671762540864,
          0.09841671762540864,
          0
         ],
         "yaxis": "y"
        },
        {
         "hoverinfo": "text",
         "marker": {
          "color": "rgb(133,20,75)"
         },
         "mode": "lines",
         "text": [
          "nations_globalization_kosovo_countries_peace",
          "",
          "",
          "and_to_we_the_that"
         ],
         "type": "scatter",
         "x": [
          1765,
          1765,
          1787.5,
          1787.5
         ],
         "xaxis": "x",
         "y": [
          0,
          0.12311109198846856,
          0.12311109198846856,
          0.09841671762540864
         ],
         "yaxis": "y"
        },
        {
         "hoverinfo": "text",
         "marker": {
          "color": "rgb(133,20,75)"
         },
         "mode": "lines",
         "text": [
          "and_to_we_the_our",
          "",
          "",
          "portugal_angola_nations_timor_portuguese"
         ],
         "type": "scatter",
         "x": [
          1776.25,
          1776.25,
          1805,
          1805
         ],
         "xaxis": "x",
         "y": [
          0.12311109198846856,
          0.20663808146998516,
          0.20663808146998516,
          0
         ],
         "yaxis": "y"
        },
        {
         "hoverinfo": "text",
         "marker": {
          "color": "rgb(133,20,75)"
         },
         "mode": "lines",
         "text": [
          "sudan_darfur_humanitarian_sudanese_peace",
          "",
          "",
          "portugal_angola_nations_timor_portuguese"
         ],
         "type": "scatter",
         "x": [
          1755,
          1755,
          1790.625,
          1790.625
         ],
         "xaxis": "x",
         "y": [
          0,
          0.2548527057166098,
          0.2548527057166098,
          0.20663808146998516
         ],
         "yaxis": "y"
        },
        {
         "hoverinfo": "text",
         "marker": {
          "color": "rgb(133,20,75)"
         },
         "mode": "lines",
         "text": [
          "iraq_timor_terrorism_nations_countries",
          "",
          "",
          "annan_terrorism_terrorist_terrorists_peace"
         ],
         "type": "scatter",
         "x": [
          1815,
          1815,
          1825,
          1825
         ],
         "xaxis": "x",
         "y": [
          0,
          0.07348586029962778,
          0.07348586029962778,
          0
         ],
         "yaxis": "y"
        },
        {
         "hoverinfo": "text",
         "marker": {
          "color": "rgb(133,20,75)"
         },
         "mode": "lines",
         "text": [
          "the_of_in_and_to",
          "",
          "",
          "terrorism_terrorists_terrorist_terror_taliban"
         ],
         "type": "scatter",
         "x": [
          1820,
          1820,
          1835,
          1835
         ],
         "xaxis": "x",
         "y": [
          0.07348586029962778,
          0.15165946636290073,
          0.15165946636290073,
          0
         ],
         "yaxis": "y"
        },
        {
         "hoverinfo": "text",
         "marker": {
          "color": "rgb(133,20,75)"
         },
         "mode": "lines",
         "text": [
          "the_of_in_and_to",
          "",
          "",
          "terrorism_terrorists_terrorist_terror_taliban"
         ],
         "type": "scatter",
         "x": [
          1772.8125,
          1772.8125,
          1827.5,
          1827.5
         ],
         "xaxis": "x",
         "y": [
          0.2548527057166098,
          0.27037662187078615,
          0.27037662187078615,
          0.15165946636290073
         ],
         "yaxis": "y"
        },
        {
         "hoverinfo": "text",
         "marker": {
          "color": "rgb(133,20,75)"
         },
         "mode": "lines",
         "text": [
          "mediation_peaceful_sudan_peace_libya",
          "",
          "",
          "terrorism_terrorists_terrorist_terror_taliban"
         ],
         "type": "scatter",
         "x": [
          1745,
          1745,
          1800.15625,
          1800.15625
         ],
         "xaxis": "x",
         "y": [
          0,
          0.31119890329548694,
          0.31119890329548694,
          0.27037662187078615
         ],
         "yaxis": "y"
        },
        {
         "hoverinfo": "text",
         "marker": {
          "color": "rgb(133,20,75)"
         },
         "mode": "lines",
         "text": [
          "mediation_peaceful_sudan_peace_libya",
          "",
          "",
          "gambia_gambian_gambians_sahel_nations"
         ],
         "type": "scatter",
         "x": [
          1772.578125,
          1772.578125,
          1845,
          1845
         ],
         "xaxis": "x",
         "y": [
          0.31119890329548694,
          0.32801044222011816,
          0.32801044222011816,
          0
         ],
         "yaxis": "y"
        },
        {
         "hoverinfo": "text",
         "marker": {
          "color": "rgb(133,20,75)"
         },
         "mode": "lines",
         "text": [
          "mediation_peaceful_sudan_peace_libya",
          "",
          "",
          "leone_leoneans_nations_africa_delegation"
         ],
         "type": "scatter",
         "x": [
          1808.7890625,
          1808.7890625,
          1855,
          1855
         ],
         "xaxis": "x",
         "y": [
          0.32801044222011816,
          0.390608435194064,
          0.390608435194064,
          0
         ],
         "yaxis": "y"
        },
        {
         "hoverinfo": "text",
         "marker": {
          "color": "rgb(133,20,75)"
         },
         "mode": "lines",
         "text": [
          "somaliland_somalia_somalis_somali_ethiopia",
          "",
          "",
          "leone_leoneans_nations_africa_delegation"
         ],
         "type": "scatter",
         "x": [
          1735,
          1735,
          1831.89453125,
          1831.89453125
         ],
         "xaxis": "x",
         "y": [
          0,
          0.4013611758255928,
          0.4013611758255928,
          0.390608435194064
         ],
         "yaxis": "y"
        },
        {
         "hoverinfo": "text",
         "marker": {
          "color": "rgb(133,20,75)"
         },
         "mode": "lines",
         "text": [
          "climate_sustainable_nations_agenda_environment",
          "",
          "",
          "poverty_africa_nations_agenda_countries"
         ],
         "type": "scatter",
         "x": [
          1885,
          1885,
          1895,
          1895
         ],
         "xaxis": "x",
         "y": [
          0,
          0.06484784493587059,
          0.06484784493587059,
          0
         ],
         "yaxis": "y"
        },
        {
         "hoverinfo": "text",
         "marker": {
          "color": "rgb(133,20,75)"
         },
         "mode": "lines",
         "text": [
          "nations_terrorism_peace_countries_world",
          "",
          "",
          "of_the_to_and_in"
         ],
         "type": "scatter",
         "x": [
          1875,
          1875,
          1890,
          1890
         ],
         "xaxis": "x",
         "y": [
          0,
          0.09728711025317861,
          0.09728711025317861,
          0.06484784493587059
         ],
         "yaxis": "y"
        },
        {
         "hoverinfo": "text",
         "marker": {
          "color": "rgb(133,20,75)"
         },
         "mode": "lines",
         "text": [
          "of_the_to_and_in",
          "",
          "",
          "nations_malawi_agenda_world_countries"
         ],
         "type": "scatter",
         "x": [
          1882.5,
          1882.5,
          1905,
          1905
         ],
         "xaxis": "x",
         "y": [
          0.09728711025317861,
          0.1823892346091953,
          0.1823892346091953,
          0
         ],
         "yaxis": "y"
        },
        {
         "hoverinfo": "text",
         "marker": {
          "color": "rgb(133,20,75)"
         },
         "mode": "lines",
         "text": [
          "pandemic_coronavirus_multilateralism_covid_vaccines",
          "",
          "",
          "nations_malawi_agenda_world_countries"
         ],
         "type": "scatter",
         "x": [
          1865,
          1865,
          1893.75,
          1893.75
         ],
         "xaxis": "x",
         "y": [
          0,
          0.21070701593516683,
          0.21070701593516683,
          0.1823892346091953
         ],
         "yaxis": "y"
        },
        {
         "hoverinfo": "text",
         "marker": {
          "color": "rgb(133,20,75)"
         },
         "mode": "lines",
         "text": [
          "pandemic_coronavirus_multilateralism_covid_vaccines",
          "",
          "",
          "multilateralism_multilateral_nations_peace_agenda"
         ],
         "type": "scatter",
         "x": [
          1879.375,
          1879.375,
          1915,
          1915
         ],
         "xaxis": "x",
         "y": [
          0.21070701593516683,
          0.2289405656498784,
          0.2289405656498784,
          0
         ],
         "yaxis": "y"
        },
        {
         "hoverinfo": "text",
         "marker": {
          "color": "rgb(133,20,75)"
         },
         "mode": "lines",
         "text": [
          "poverty_agriculture_food_hunger_mali",
          "",
          "",
          "multilateralism_economies_economy_governance_economic"
         ],
         "type": "scatter",
         "x": [
          1925,
          1925,
          1935,
          1935
         ],
         "xaxis": "x",
         "y": [
          0,
          0.20846714746542216,
          0.20846714746542216,
          0
         ],
         "yaxis": "y"
        },
        {
         "hoverinfo": "text",
         "marker": {
          "color": "rgb(133,20,75)"
         },
         "mode": "lines",
         "text": [
          "poverty_agriculture_food_hunger_mali",
          "",
          "",
          "netherlands_irian_the_to_of"
         ],
         "type": "scatter",
         "x": [
          1897.1875,
          1897.1875,
          1930,
          1930
         ],
         "xaxis": "x",
         "y": [
          0.2289405656498784,
          0.24748529024644594,
          0.24748529024644594,
          0.20846714746542216
         ],
         "yaxis": "y"
        },
        {
         "hoverinfo": "text",
         "marker": {
          "color": "rgb(133,20,75)"
         },
         "mode": "lines",
         "text": [
          "poverty_agriculture_food_hunger_mali",
          "",
          "",
          "netherlands_irian_the_to_of"
         ],
         "type": "scatter",
         "x": [
          1783.447265625,
          1783.447265625,
          1913.59375,
          1913.59375
         ],
         "xaxis": "x",
         "y": [
          0.4013611758255928,
          0.42181172203711803,
          0.42181172203711803,
          0.24748529024644594
         ],
         "yaxis": "y"
        },
        {
         "hoverinfo": "text",
         "marker": {
          "color": "rgb(133,20,75)"
         },
         "mode": "lines",
         "text": [
          "poverty_agriculture_food_hunger_mali",
          "",
          "",
          "malawi_mozambique_zambia_angola_africa"
         ],
         "type": "scatter",
         "x": [
          1848.5205078125,
          1848.5205078125,
          1945,
          1945
         ],
         "xaxis": "x",
         "y": [
          0.42181172203711803,
          0.4514028151764991,
          0.4514028151764991,
          0
         ],
         "yaxis": "y"
        },
        {
         "hoverinfo": "text",
         "marker": {
          "color": "rgb(133,20,75)"
         },
         "mode": "lines",
         "text": [
          "nations_verde_countries_cabo_africa",
          "",
          "",
          "malawi_mozambique_zambia_angola_africa"
         ],
         "type": "scatter",
         "x": [
          1725,
          1725,
          1896.76025390625,
          1896.76025390625
         ],
         "xaxis": "x",
         "y": [
          0,
          0.4896746970747732,
          0.4896746970747732,
          0.4514028151764991
         ],
         "yaxis": "y"
        },
        {
         "hoverinfo": "text",
         "marker": {
          "color": "rgb(133,20,75)"
         },
         "mode": "lines",
         "text": [
          "nations_verde_countries_cabo_africa",
          "",
          "",
          "bhutan_bangladesh_nations_countries_agenda"
         ],
         "type": "scatter",
         "x": [
          1810.880126953125,
          1810.880126953125,
          1955,
          1955
         ],
         "xaxis": "x",
         "y": [
          0.4896746970747732,
          0.5023687069112563,
          0.5023687069112563,
          0
         ],
         "yaxis": "y"
        },
        {
         "hoverinfo": "text",
         "marker": {
          "color": "rgb(133,20,75)"
         },
         "mode": "lines",
         "text": [
          "nations_verde_countries_cabo_africa",
          "",
          "",
          "maldives_democracy_maldivian_nations_election"
         ],
         "type": "scatter",
         "x": [
          1882.9400634765625,
          1882.9400634765625,
          1965,
          1965
         ],
         "xaxis": "x",
         "y": [
          0.5023687069112563,
          0.5143885833929085,
          0.5143885833929085,
          0
         ],
         "yaxis": "y"
        },
        {
         "hoverinfo": "text",
         "marker": {
          "color": "rgb(133,20,75)"
         },
         "mode": "lines",
         "text": [
          "nations_verde_countries_cabo_africa",
          "",
          "",
          "maldives_democracy_maldivian_nations_election"
         ],
         "type": "scatter",
         "x": [
          1710,
          1710,
          1923.9700317382812,
          1923.9700317382812
         ],
         "xaxis": "x",
         "y": [
          0.4940842133040736,
          0.5741832995540649,
          0.5741832995540649,
          0.5143885833929085
         ],
         "yaxis": "y"
        },
        {
         "hoverinfo": "text",
         "marker": {
          "color": "rgb(133,20,75)"
         },
         "mode": "lines",
         "text": [
          "nations_verde_countries_cabo_africa",
          "",
          "",
          "eritrea_ethiopia_sudan_eritreans_eritrean"
         ],
         "type": "scatter",
         "x": [
          1816.9850158691406,
          1816.9850158691406,
          1975,
          1975
         ],
         "xaxis": "x",
         "y": [
          0.5741832995540649,
          0.6781397458271649,
          0.6781397458271649,
          0
         ],
         "yaxis": "y"
        },
        {
         "hoverinfo": "text",
         "marker": {
          "color": "rgb(133,20,75)"
         },
         "mode": "lines",
         "text": [
          "nations_verde_countries_cabo_africa",
          "",
          "",
          "eritrea_ethiopia_sudan_eritreans_eritrean"
         ],
         "type": "scatter",
         "x": [
          1624.140625,
          1624.140625,
          1895.9925079345703,
          1895.9925079345703
         ],
         "xaxis": "x",
         "y": [
          0.6401993730829785,
          0.6928939943800805,
          0.6928939943800805,
          0.6781397458271649
         ],
         "yaxis": "y"
        },
        {
         "hoverinfo": "text",
         "marker": {
          "color": "rgb(133,20,75)"
         },
         "mode": "lines",
         "text": [
          "timor_timorese_asean_indonesia_myanmar",
          "",
          "",
          "eritrea_ethiopia_sudan_eritreans_eritrean"
         ],
         "type": "scatter",
         "x": [
          1595,
          1595,
          1760.0665664672852,
          1760.0665664672852
         ],
         "xaxis": "x",
         "y": [
          0,
          0.7020550181354082,
          0.7020550181354082,
          0.6928939943800805
         ],
         "yaxis": "y"
        },
        {
         "hoverinfo": "text",
         "marker": {
          "color": "rgb(133,20,75)"
         },
         "mode": "lines",
         "text": [
          "slovakia_peacekeeping_kosovo_treaty_bratislava",
          "",
          "",
          "moldova_peacekeeping_moldovan_ukraine_nations"
         ],
         "type": "scatter",
         "x": [
          1985,
          1985,
          1995,
          1995
         ],
         "xaxis": "x",
         "y": [
          0,
          0.6149901198074743,
          0.6149901198074743,
          0
         ],
         "yaxis": "y"
        },
        {
         "hoverinfo": "text",
         "marker": {
          "color": "rgb(133,20,75)"
         },
         "mode": "lines",
         "text": [
          "slovakia_peacekeeping_kosovo_treaty_bratislava",
          "",
          "",
          "multilateralism_nations_humanitarian_president_agenda"
         ],
         "type": "scatter",
         "x": [
          1990,
          1990,
          2005,
          2005
         ],
         "xaxis": "x",
         "y": [
          0.6149901198074743,
          0.6675854096767433,
          0.6675854096767433,
          0
         ],
         "yaxis": "y"
        },
        {
         "hoverinfo": "text",
         "marker": {
          "color": "rgb(133,20,75)"
         },
         "mode": "lines",
         "text": [
          "slovakia_peacekeeping_kosovo_treaty_bratislava",
          "",
          "",
          "multilateralism_nations_humanitarian_president_agenda"
         ],
         "type": "scatter",
         "x": [
          1677.5332832336426,
          1677.5332832336426,
          1997.5,
          1997.5
         ],
         "xaxis": "x",
         "y": [
          0.7020550181354082,
          0.7190817527199372,
          0.7190817527199372,
          0.6675854096767433
         ],
         "yaxis": "y"
        },
        {
         "hoverinfo": "text",
         "marker": {
          "color": "rgb(133,20,75)"
         },
         "mode": "lines",
         "text": [
          "slovakia_peacekeeping_kosovo_treaty_bratislava",
          "",
          "",
          "azerbaijan_armenia_genocide_humanitarian_armenians"
         ],
         "type": "scatter",
         "x": [
          1837.5166416168213,
          1837.5166416168213,
          2015,
          2015
         ],
         "xaxis": "x",
         "y": [
          0.7190817527199372,
          0.7732992539145755,
          0.7732992539145755,
          0
         ],
         "yaxis": "y"
        },
        {
         "hoverinfo": "text",
         "marker": {
          "color": "rgb(133,20,75)"
         },
         "mode": "lines",
         "text": [
          "slovakia_peacekeeping_kosovo_treaty_bratislava",
          "",
          "",
          "azerbaijan_armenia_genocide_humanitarian_armenians"
         ],
         "type": "scatter",
         "x": [
          1572.5,
          1572.5,
          1926.2583208084106,
          1926.2583208084106
         ],
         "xaxis": "x",
         "y": [
          0.6948054226839568,
          0.8324849312048925,
          0.8324849312048925,
          0.7732992539145755
         ],
         "yaxis": "y"
        },
        {
         "hoverinfo": "text",
         "marker": {
          "color": "rgb(133,20,75)"
         },
         "mode": "lines",
         "text": [
          "slovakia_peacekeeping_kosovo_treaty_bratislava",
          "",
          "",
          "azerbaijan_armenia_genocide_humanitarian_armenians"
         ],
         "type": "scatter",
         "x": [
          1536.25,
          1536.25,
          1749.3791604042053,
          1749.3791604042053
         ],
         "xaxis": "x",
         "y": [
          0.6432289247237267,
          0.9322841889202395,
          0.9322841889202395,
          0.8324849312048925
         ],
         "yaxis": "y"
        },
        {
         "hoverinfo": "text",
         "marker": {
          "color": "rgb(0,116,217)"
         },
         "mode": "lines",
         "text": [
          "slovakia_peacekeeping_kosovo_treaty_bratislava",
          "",
          "",
          "azerbaijan_armenia_genocide_humanitarian_armenians"
         ],
         "type": "scatter",
         "x": [
          1459.921875,
          1459.921875,
          1642.8145802021027,
          1642.8145802021027
         ],
         "xaxis": "x",
         "y": [
          0.6241488728999809,
          1.205355785250925,
          1.205355785250925,
          0.9322841889202395
         ],
         "yaxis": "y"
        },
        {
         "hoverinfo": "text",
         "marker": {
          "color": "rgb(0,116,217)"
         },
         "mode": "lines",
         "text": [
          "slovakia_peacekeeping_kosovo_treaty_bratislava",
          "",
          "",
          "azerbaijan_armenia_genocide_humanitarian_armenians"
         ],
         "type": "scatter",
         "x": [
          498.05139541625977,
          498.05139541625977,
          1551.3682276010513,
          1551.3682276010513
         ],
         "xaxis": "x",
         "y": [
          1.0413477150028112,
          1.5326036954216786,
          1.5326036954216786,
          1.205355785250925
         ],
         "yaxis": "y"
        },
        {
         "hoverinfo": "text",
         "hovertext": [
          "the_to_and_of_in",
          "libya_libyan_libyans_algeria_jamahiriya",
          "peaceful_uae_iraq_sultanate_yemen",
          "peaceful_uae_iraq_sultanate_yemen",
          "the_to_and_of_that",
          "the_of_and_in_to",
          "guinea_guinean_nations_africa_colonialism",
          "guinea_guinean_nations_africa_colonialism",
          "mauritania_mauritanian_maghreb_nations_africa",
          "burkina_faso_gabon_mali_senegal",
          "burundi_rwanda_burundian_africa_refugees",
          "nations_mexico_countries_peace_war",
          "the_of_to_in_and",
          "zimbabwe_nations_namibia_africa_regime",
          "peaceful_disarmament_nations_countries_peace",
          "peaceful_disarmament_nations_countries_peace",
          "niger_nigeria_nigerian_nations_africa",
          "tanzania_africa_rhodesia_apartheid_president",
          "ethiopia_eritrea_somalia_africa_nations",
          "ethiopia_eritrea_somalia_africa_nations",
          "ethiopia_eritrea_somalia_africa_nations",
          "kenya_nairobi_sudan_somalia_nations",
          "swaziland_swazi_peaceful_nations_africa",
          "uganda_rwanda_congo_angola_amin",
          "uganda_rwanda_congo_angola_amin",
          "uganda_rwanda_congo_angola_amin",
          "and_the_to_of_in",
          "malta_nations_neutrality_peace_countries",
          "sweden_disarmament_denmark_nations_swedish",
          "sweden_disarmament_denmark_nations_swedish",
          "disarmament_nations_nuclear_japan_countries",
          "the_of_and_to_in",
          "the_of_and_to_in",
          "the_of_and_to_in",
          "the_of_and_to_in",
          "italy_disarmament_nations_italian_countries",
          "philippines_philippine_asean_manila_filipino",
          "philippines_philippine_asean_manila_filipino",
          "philippines_philippine_asean_manila_filipino",
          "the_of_to_in_and",
          "disarmament_pakistan_peaceful_afghanistan_nations",
          "disarmament_pakistan_peaceful_afghanistan_nations",
          "disarmament_treaty_peaceful_nations_peace",
          "of_the_to_and_in",
          "treaty_disarmament_peaceful_czechoslovakia_nations",
          "treaty_disarmament_peaceful_czechoslovakia_nations",
          "treaty_disarmament_peaceful_czechoslovakia_nations",
          "treaty_disarmament_peaceful_czechoslovakia_nations",
          "treaty_disarmament_peaceful_czechoslovakia_nations",
          "treaty_disarmament_peaceful_czechoslovakia_nations",
          "treaty_disarmament_peaceful_czechoslovakia_nations",
          "chile_chilean_nations_countries_government",
          "the_of_and_to_in",
          "the_of_and_to_in",
          "the_of_and_to_in",
          "ecuador_ecuadorian_nations_peru_countries",
          "ecuador_ecuadorian_nations_peru_countries",
          "ecuador_ecuadorian_nations_peru_countries",
          "nicaragua_nicaraguan_nicaraguans_honduras_cuba",
          "nicaragua_nicaraguan_nicaraguans_honduras_cuba",
          "dominica_nations_lucia_barbados_countries",
          "belize_guatemala_belizeans_belizean_panama",
          "tobago_trinidad_nations_countries_caribbean",
          "tobago_trinidad_nations_countries_caribbean",
          "tobago_trinidad_nations_countries_caribbean",
          "tobago_trinidad_nations_countries_caribbean",
          "seychelles_mauritius_nations_countries_africa",
          "nauru_fiji_nations_governance_countries",
          "papua_guinea_nations_governments_countries",
          "papua_guinea_nations_governments_countries",
          "papua_guinea_nations_governments_countries",
          "tajikistan_tajik_afghanistan_nations_afghan",
          "the_of_and_in_to",
          "and_the_of_to_we",
          "and_the_of_to_we",
          "to_and_the_that_of",
          "and_to_we_the_our",
          "the_of_in_and_to",
          "the_of_in_and_to",
          "mediation_peaceful_sudan_peace_libya",
          "mediation_peaceful_sudan_peace_libya",
          "of_the_to_and_in",
          "pandemic_coronavirus_multilateralism_covid_vaccines",
          "poverty_agriculture_food_hunger_mali",
          "poverty_agriculture_food_hunger_mali",
          "poverty_agriculture_food_hunger_mali",
          "nations_verde_countries_cabo_africa",
          "nations_verde_countries_cabo_africa",
          "nations_verde_countries_cabo_africa",
          "nations_verde_countries_cabo_africa",
          "nations_verde_countries_cabo_africa",
          "slovakia_peacekeeping_kosovo_treaty_bratislava",
          "slovakia_peacekeeping_kosovo_treaty_bratislava",
          "slovakia_peacekeeping_kosovo_treaty_bratislava",
          "slovakia_peacekeeping_kosovo_treaty_bratislava",
          "slovakia_peacekeeping_kosovo_treaty_bratislava",
          "slovakia_peacekeeping_kosovo_treaty_bratislava",
          "slovakia_peacekeeping_kosovo_treaty_bratislava"
         ],
         "marker": {
          "color": "black"
         },
         "mode": "markers",
         "showlegend": false,
         "type": "scatter",
         "x": [
          70,
          66.25,
          62.8125,
          86.40625,
          30,
          10,
          180,
          191.25,
          186.5625,
          184.140625,
          183.53515625,
          332.5,
          390,
          386.25,
          384.0625,
          329.375,
          500,
          496.25,
          492.8125,
          452.5,
          337.2265625,
          352.607421875,
          452.5537109375,
          400.638427734375,
          497.8192138671875,
          182.1337890625,
          642.5,
          639.375,
          657.1875,
          673.59375,
          652.1484375,
          900,
          872.5,
          842.5,
          866.25,
          860.3125,
          830.6640625,
          782.5,
          752.5,
          730,
          761.91650390625,
          683.57421875,
          1040,
          1090,
          1037.5,
          1061.875,
          1010,
          1049.21875,
          982.5,
          772.2662353515625,
          366.7716979980469,
          1230,
          1226.25,
          1200,
          1220.3125,
          1213.828125,
          1170,
          1150,
          1292.5,
          1178.603515625,
          1350,
          1347.5,
          1345.625,
          1188.08837890625,
          635.1535797119141,
          38.92578125,
          1432.5,
          1429.375,
          1500,
          1480,
          1426.09375,
          1540,
          1652.5,
          1630,
          1648.125,
          1780,
          1776.25,
          1820,
          1772.8125,
          1772.578125,
          1808.7890625,
          1882.5,
          1879.375,
          1897.1875,
          1783.447265625,
          1848.5205078125,
          1810.880126953125,
          1882.9400634765625,
          1710,
          1816.9850158691406,
          1624.140625,
          1990,
          1677.5332832336426,
          1837.5166416168213,
          1572.5,
          1536.25,
          1459.921875,
          498.05139541625977
         ],
         "y": [
          0.17784697161677876,
          0.33531286590544457,
          0.38781248569671267,
          0.4020632958727665,
          0.2311399663555781,
          0.26485020691464867,
          0.2770532496772422,
          0.2796775326884274,
          0.34439059214731055,
          0.40915378065727726,
          0.4240833616053937,
          0.09369359563229585,
          0.06090842896300397,
          0.09383870935730088,
          0.14724919181675866,
          0.17437697122270576,
          0.11479536145883884,
          0.16903045879388087,
          0.23755357210643444,
          0.18361934609065922,
          0.27455364245783054,
          0.3002272676244656,
          0.3689523279567022,
          0.4013302064051062,
          0.4206271338515231,
          0.5227572594096725,
          0.12475110894564735,
          0.31725036521150124,
          0.347709341809825,
          0.36809363613853213,
          0.4238019744282897,
          0.08694651362996919,
          0.13254061742959972,
          0.16030306424674282,
          0.17184020625498098,
          0.210507278105562,
          0.30904455033933526,
          0.2992824501698443,
          0.22301250509617415,
          0.23097098834238183,
          0.48297805998183896,
          0.4296002001755323,
          0.18186157804538272,
          0.07161465427133484,
          0.24780285444301423,
          0.2615016239510435,
          0.3695646600964304,
          0.41659361362719327,
          0.38157109302991377,
          0.5207875206264126,
          0.5548986088577583,
          0.19319574318607768,
          0.21478523981597425,
          0.22940533313594558,
          0.27188747421682247,
          0.28832236080600804,
          0.31585321476704387,
          0.30527880518288253,
          0.3034669924271764,
          0.38414971747015114,
          0.24850955549806497,
          0.352330153997839,
          0.5037858973156524,
          0.44643298859733954,
          0.8158332564729625,
          0.6257801584179891,
          0.3062768757369854,
          0.4429447549517595,
          0.3739145776354639,
          0.3567008109526102,
          0.5618234142343864,
          0.5136169580767369,
          0.3466719409636289,
          0.23077323950306639,
          0.517355630490036,
          0.07382610793577238,
          0.12311109198846856,
          0.07348586029962778,
          0.2548527057166098,
          0.31119890329548694,
          0.32801044222011816,
          0.09728711025317861,
          0.21070701593516683,
          0.2289405656498784,
          0.4013611758255928,
          0.42181172203711803,
          0.4896746970747732,
          0.5023687069112563,
          0.4940842133040736,
          0.5741832995540649,
          0.6401993730829785,
          0.6149901198074743,
          0.7020550181354082,
          0.7190817527199372,
          0.6948054226839568,
          0.6432289247237267,
          0.6241488728999809,
          1.0413477150028112
         ]
        },
        {
         "hoverinfo": "text",
         "hovertext": [
          "kuwait_kuwaiti_humanitarian_iraq_palestine",
          "amman_palestine_jordanian_palestinian_jordan",
          "and_the_to_of_in",
          "lebanon_beirut_palestine_lebanese_palestinians",
          "lebanon_beirut_palestine_lebanese_palestinians",
          "congo_africa_nations_president_countries",
          "congo_africa_nations_president_countries",
          "rwanda_rwandan_genocide_congo_kabila",
          "morocco_maghreb_algeria_nations_algerian",
          "morocco_maghreb_algeria_nations_algerian",
          "mali_malian_sahel_africa_nations",
          "mali_malian_sahel_africa_nations",
          "libya_chadian_libyan_nations_chad",
          "disarmament_peaceful_peace_nations_afghanistan",
          "peaceful_nations_peace_negotiations_countries",
          "the_of_to_in_and",
          "the_of_to_in_and",
          "the_of_to_in_and",
          "tunisia_tunisian_maghreb_nations_president",
          "tunisia_tunisian_maghreb_nations_president",
          "rhodesia_nigeria_africa_nations_delegation",
          "ghana_rhodesia_disarmament_nations_africa",
          "cameroon_cameroons_nations_africa_delegation",
          "liberia_liberians_liberian_africa_nations",
          "liberia_liberians_liberian_africa_nations",
          "liberia_liberians_liberian_africa_nations",
          "botswana_angola_namibia_rhodesia_apartheid",
          "botswana_angola_namibia_rhodesia_apartheid",
          "nepal_disarmament_nations_countries_delegation",
          "nepal_disarmament_nations_countries_delegation",
          "lanka_sri_colombo_nations_countries",
          "nations_countries_democracy_peace_korea",
          "peaceful_peace_nations_afghanistan_lebanon",
          "treaty_disarmament_peaceful_finland_nations",
          "suriname_treaty_nations_countries_government",
          "the_of_and_in_to",
          "the_of_in_and_to",
          "nations_india_countries_peace_indian",
          "malaya_disarmament_nations_malaysia_peace",
          "nations_countries_europe_peace_belgium",
          "nations_countries_europe_peace_belgium",
          "disarmament_nations_denmark_iceland_nation",
          "nations_countries_peace_negotiations_netherlands",
          "nations_countries_peace_negotiations_netherlands",
          "asean_thailand_nations_asia_countries",
          "asean_thailand_nations_asia_countries",
          "asean_thailand_nations_asia_countries",
          "the_of_to_and_that",
          "the_of_to_and_that",
          "asean_peaceful_viet_cambodia_nam",
          "poland_disarmament_polish_nations_peaceful",
          "poland_disarmament_polish_nations_peaceful",
          "of_the_to_in_and",
          "of_the_to_in_and",
          "treaty_mongolia_disarmament_soviet_peaceful",
          "korea_peaceful_sovereignty_reunification_kim",
          "korea_peaceful_sovereignty_reunification_kim",
          "korea_peaceful_sovereignty_reunification_kim",
          "uruguay_nations_uruguayan_countries_peace",
          "peru_peruvian_nations_countries_democracy",
          "brazil_disarmament_nations_countries_brazilian",
          "bolivia_bolivian_bolivians_nations_chile",
          "bolivia_bolivian_bolivians_nations_chile",
          "salvador_salvadorian_salvadorans_nations_peace",
          "rica_nations_countries_peace_democracy",
          "rica_nations_countries_peace_democracy",
          "of_the_and_in_to",
          "of_the_and_in_to",
          "grenada_nations_countries_cuba_peace",
          "bahamas_haiti_bahamian_caribbean_nations",
          "bahamas_haiti_bahamian_caribbean_nations",
          "bahamas_haiti_bahamian_caribbean_nations",
          "climate_haiti_bahamas_dominica_barbados",
          "kiribati_un_agenda_acknowledge_climate",
          "palau_palauan_un_nations_micronesia",
          "fiji_peacekeeping_fijians_fijian_nations",
          "fiji_peacekeeping_fijians_fijian_nations",
          "treaty_kazakhstan_nations_almaty_kazakh",
          "bosnia_herzegovina_yugoslavia_sarajevo_serbia",
          "kampuchea_lebanon_the_of_and",
          "iran_islam_islamic_iranian_peace",
          "iran_islam_islamic_iranian_peace",
          "andorran_andorra_nations_principality_democracy",
          "andorran_andorra_nations_principality_democracy",
          "and_to_we_the_that",
          "portugal_angola_nations_timor_portuguese",
          "terrorism_terrorists_terrorist_terror_taliban",
          "terrorism_terrorists_terrorist_terror_taliban",
          "leone_leoneans_nations_africa_delegation",
          "of_the_to_and_in",
          "nations_malawi_agenda_world_countries",
          "netherlands_irian_the_to_of",
          "netherlands_irian_the_to_of",
          "malawi_mozambique_zambia_angola_africa",
          "maldives_democracy_maldivian_nations_election",
          "eritrea_ethiopia_sudan_eritreans_eritrean",
          "eritrea_ethiopia_sudan_eritreans_eritrean",
          "multilateralism_nations_humanitarian_president_agenda",
          "azerbaijan_armenia_genocide_humanitarian_armenians",
          "azerbaijan_armenia_genocide_humanitarian_armenians",
          "azerbaijan_armenia_genocide_humanitarian_armenians",
          "azerbaijan_armenia_genocide_humanitarian_armenians"
         ],
         "marker": {
          "color": "black"
         },
         "mode": "markers",
         "showlegend": false,
         "type": "scatter",
         "x": [
          77.5,
          80.625,
          110,
          105.703125,
          67.8515625,
          210,
          202.5,
          208.125,
          240,
          213.28125,
          260,
          222.0703125,
          229.267578125,
          340,
          343.75,
          397.5,
          420,
          403.125,
          409.53125,
          369.453125,
          460,
          507.5,
          510.625,
          513.90625,
          483.203125,
          410.21484375,
          560,
          552.5,
          580,
          516.27685546875,
          551.4096069335938,
          650,
          653.75,
          690,
          689.296875,
          760,
          790,
          850,
          880,
          907.5,
          890,
          895.625,
          897.65625,
          856.328125,
          887.83203125,
          835.166015625,
          793.8330078125,
          960,
          860.958251953125,
          990,
          1060,
          1050,
          1097.5,
          1086.25,
          1088.4375,
          1087.109375,
          1034.8046875,
          903.5354614257812,
          1237.5,
          1240.625,
          1242.65625,
          1244.4140625,
          1207.20703125,
          1300,
          1303.75,
          1241.1767578125,
          1370,
          1360,
          1366.25,
          1370.3125,
          1279.200439453125,
          957.1770095825195,
          1440,
          1443.75,
          1447.1875,
          1507.5,
          1493.75,
          1547.5,
          1580,
          1660,
          1680,
          1666.25,
          1671.5625,
          1643.28125,
          1787.5,
          1790.625,
          1827.5,
          1800.15625,
          1831.89453125,
          1890,
          1893.75,
          1930,
          1913.59375,
          1896.76025390625,
          1923.9700317382812,
          1895.9925079345703,
          1760.0665664672852,
          1997.5,
          1926.2583208084106,
          1749.3791604042053,
          1642.8145802021027,
          1551.3682276010513
         ],
         "y": [
          0.30031456242754373,
          0.37551536142122277,
          0.2410577419758526,
          0.4402573120068838,
          0.4551330374831629,
          0.19358569762726974,
          0.22455431525490818,
          0.30517396512499606,
          0.3307222903526468,
          0.3969286520987508,
          0.38010422771922414,
          0.41723249425962394,
          0.47107622492540085,
          0.08259255179755898,
          0.12027554397905893,
          0.0808695472313066,
          0.0697702041393704,
          0.12817363916934466,
          0.20274878999974316,
          0.21216358279824776,
          0.1274550080123963,
          0.14705985039908845,
          0.19791051869486623,
          0.24505683911326648,
          0.2677272039175586,
          0.29446656810924,
          0.29624076491241835,
          0.3164358144274642,
          0.3799009424423322,
          0.39868123521448784,
          0.45117670951676236,
          0.10907638407639786,
          0.17073343704875438,
          0.2583507451739139,
          0.37991475334854546,
          0.15460690724989024,
          0.2355550653567009,
          0.1399327301024108,
          0.0882576465715239,
          0.12116375611133903,
          0.15087697957280177,
          0.1972239116904845,
          0.2359243092556816,
          0.24178264140356684,
          0.314829070451089,
          0.3430535014174318,
          0.35238189652762514,
          0.3424212788600669,
          0.4979432821248052,
          0.34023246724034073,
          0.18339823827525226,
          0.2334725139641728,
          0.09507330202660497,
          0.17251194240824871,
          0.381896442296765,
          0.5749927460064589,
          0.5817321279344373,
          0.699232439646637,
          0.19857319538708953,
          0.24277292758834873,
          0.2840076239109802,
          0.3304451956755423,
          0.353826957368215,
          0.23914811921027512,
          0.35587458107413084,
          0.4191754074916865,
          0.22698986884119166,
          0.3212562544147727,
          0.42711796062226404,
          0.537617723056461,
          0.7853397848193373,
          0.903732187079664,
          0.23681018720149793,
          0.3787737561390863,
          0.5332719225089815,
          0.48598019269227855,
          0.5083504960356187,
          0.5847446968711297,
          0.5666423320969693,
          0.2626157577220547,
          0.3274959396644401,
          0.4564600748263558,
          0.5433511052935345,
          0.5931787807451336,
          0.09841671762540864,
          0.20663808146998516,
          0.15165946636290073,
          0.27037662187078615,
          0.390608435194064,
          0.06484784493587059,
          0.1823892346091953,
          0.20846714746542216,
          0.24748529024644594,
          0.4514028151764991,
          0.5143885833929085,
          0.6781397458271649,
          0.6928939943800805,
          0.6675854096767433,
          0.7732992539145755,
          0.8324849312048925,
          0.9322841889202395,
          1.205355785250925
         ]
        }
       ],
       "layout": {
        "autosize": false,
        "height": 600,
        "hoverlabel": {
         "bgcolor": "white",
         "font": {
          "family": "Rockwell",
          "size": 16
         }
        },
        "hovermode": "closest",
        "plot_bgcolor": "#ECEFF1",
        "showlegend": false,
        "template": {
         "data": {
          "bar": [
           {
            "error_x": {
             "color": "#2a3f5f"
            },
            "error_y": {
             "color": "#2a3f5f"
            },
            "marker": {
             "line": {
              "color": "white",
              "width": 0.5
             },
             "pattern": {
              "fillmode": "overlay",
              "size": 10,
              "solidity": 0.2
             }
            },
            "type": "bar"
           }
          ],
          "barpolar": [
           {
            "marker": {
             "line": {
              "color": "white",
              "width": 0.5
             },
             "pattern": {
              "fillmode": "overlay",
              "size": 10,
              "solidity": 0.2
             }
            },
            "type": "barpolar"
           }
          ],
          "carpet": [
           {
            "aaxis": {
             "endlinecolor": "#2a3f5f",
             "gridcolor": "#C8D4E3",
             "linecolor": "#C8D4E3",
             "minorgridcolor": "#C8D4E3",
             "startlinecolor": "#2a3f5f"
            },
            "baxis": {
             "endlinecolor": "#2a3f5f",
             "gridcolor": "#C8D4E3",
             "linecolor": "#C8D4E3",
             "minorgridcolor": "#C8D4E3",
             "startlinecolor": "#2a3f5f"
            },
            "type": "carpet"
           }
          ],
          "choropleth": [
           {
            "colorbar": {
             "outlinewidth": 0,
             "ticks": ""
            },
            "type": "choropleth"
           }
          ],
          "contour": [
           {
            "colorbar": {
             "outlinewidth": 0,
             "ticks": ""
            },
            "colorscale": [
             [
              0,
              "#0d0887"
             ],
             [
              0.1111111111111111,
              "#46039f"
             ],
             [
              0.2222222222222222,
              "#7201a8"
             ],
             [
              0.3333333333333333,
              "#9c179e"
             ],
             [
              0.4444444444444444,
              "#bd3786"
             ],
             [
              0.5555555555555556,
              "#d8576b"
             ],
             [
              0.6666666666666666,
              "#ed7953"
             ],
             [
              0.7777777777777778,
              "#fb9f3a"
             ],
             [
              0.8888888888888888,
              "#fdca26"
             ],
             [
              1,
              "#f0f921"
             ]
            ],
            "type": "contour"
           }
          ],
          "contourcarpet": [
           {
            "colorbar": {
             "outlinewidth": 0,
             "ticks": ""
            },
            "type": "contourcarpet"
           }
          ],
          "heatmap": [
           {
            "colorbar": {
             "outlinewidth": 0,
             "ticks": ""
            },
            "colorscale": [
             [
              0,
              "#0d0887"
             ],
             [
              0.1111111111111111,
              "#46039f"
             ],
             [
              0.2222222222222222,
              "#7201a8"
             ],
             [
              0.3333333333333333,
              "#9c179e"
             ],
             [
              0.4444444444444444,
              "#bd3786"
             ],
             [
              0.5555555555555556,
              "#d8576b"
             ],
             [
              0.6666666666666666,
              "#ed7953"
             ],
             [
              0.7777777777777778,
              "#fb9f3a"
             ],
             [
              0.8888888888888888,
              "#fdca26"
             ],
             [
              1,
              "#f0f921"
             ]
            ],
            "type": "heatmap"
           }
          ],
          "heatmapgl": [
           {
            "colorbar": {
             "outlinewidth": 0,
             "ticks": ""
            },
            "colorscale": [
             [
              0,
              "#0d0887"
             ],
             [
              0.1111111111111111,
              "#46039f"
             ],
             [
              0.2222222222222222,
              "#7201a8"
             ],
             [
              0.3333333333333333,
              "#9c179e"
             ],
             [
              0.4444444444444444,
              "#bd3786"
             ],
             [
              0.5555555555555556,
              "#d8576b"
             ],
             [
              0.6666666666666666,
              "#ed7953"
             ],
             [
              0.7777777777777778,
              "#fb9f3a"
             ],
             [
              0.8888888888888888,
              "#fdca26"
             ],
             [
              1,
              "#f0f921"
             ]
            ],
            "type": "heatmapgl"
           }
          ],
          "histogram": [
           {
            "marker": {
             "pattern": {
              "fillmode": "overlay",
              "size": 10,
              "solidity": 0.2
             }
            },
            "type": "histogram"
           }
          ],
          "histogram2d": [
           {
            "colorbar": {
             "outlinewidth": 0,
             "ticks": ""
            },
            "colorscale": [
             [
              0,
              "#0d0887"
             ],
             [
              0.1111111111111111,
              "#46039f"
             ],
             [
              0.2222222222222222,
              "#7201a8"
             ],
             [
              0.3333333333333333,
              "#9c179e"
             ],
             [
              0.4444444444444444,
              "#bd3786"
             ],
             [
              0.5555555555555556,
              "#d8576b"
             ],
             [
              0.6666666666666666,
              "#ed7953"
             ],
             [
              0.7777777777777778,
              "#fb9f3a"
             ],
             [
              0.8888888888888888,
              "#fdca26"
             ],
             [
              1,
              "#f0f921"
             ]
            ],
            "type": "histogram2d"
           }
          ],
          "histogram2dcontour": [
           {
            "colorbar": {
             "outlinewidth": 0,
             "ticks": ""
            },
            "colorscale": [
             [
              0,
              "#0d0887"
             ],
             [
              0.1111111111111111,
              "#46039f"
             ],
             [
              0.2222222222222222,
              "#7201a8"
             ],
             [
              0.3333333333333333,
              "#9c179e"
             ],
             [
              0.4444444444444444,
              "#bd3786"
             ],
             [
              0.5555555555555556,
              "#d8576b"
             ],
             [
              0.6666666666666666,
              "#ed7953"
             ],
             [
              0.7777777777777778,
              "#fb9f3a"
             ],
             [
              0.8888888888888888,
              "#fdca26"
             ],
             [
              1,
              "#f0f921"
             ]
            ],
            "type": "histogram2dcontour"
           }
          ],
          "mesh3d": [
           {
            "colorbar": {
             "outlinewidth": 0,
             "ticks": ""
            },
            "type": "mesh3d"
           }
          ],
          "parcoords": [
           {
            "line": {
             "colorbar": {
              "outlinewidth": 0,
              "ticks": ""
             }
            },
            "type": "parcoords"
           }
          ],
          "pie": [
           {
            "automargin": true,
            "type": "pie"
           }
          ],
          "scatter": [
           {
            "fillpattern": {
             "fillmode": "overlay",
             "size": 10,
             "solidity": 0.2
            },
            "type": "scatter"
           }
          ],
          "scatter3d": [
           {
            "line": {
             "colorbar": {
              "outlinewidth": 0,
              "ticks": ""
             }
            },
            "marker": {
             "colorbar": {
              "outlinewidth": 0,
              "ticks": ""
             }
            },
            "type": "scatter3d"
           }
          ],
          "scattercarpet": [
           {
            "marker": {
             "colorbar": {
              "outlinewidth": 0,
              "ticks": ""
             }
            },
            "type": "scattercarpet"
           }
          ],
          "scattergeo": [
           {
            "marker": {
             "colorbar": {
              "outlinewidth": 0,
              "ticks": ""
             }
            },
            "type": "scattergeo"
           }
          ],
          "scattergl": [
           {
            "marker": {
             "colorbar": {
              "outlinewidth": 0,
              "ticks": ""
             }
            },
            "type": "scattergl"
           }
          ],
          "scattermapbox": [
           {
            "marker": {
             "colorbar": {
              "outlinewidth": 0,
              "ticks": ""
             }
            },
            "type": "scattermapbox"
           }
          ],
          "scatterpolar": [
           {
            "marker": {
             "colorbar": {
              "outlinewidth": 0,
              "ticks": ""
             }
            },
            "type": "scatterpolar"
           }
          ],
          "scatterpolargl": [
           {
            "marker": {
             "colorbar": {
              "outlinewidth": 0,
              "ticks": ""
             }
            },
            "type": "scatterpolargl"
           }
          ],
          "scatterternary": [
           {
            "marker": {
             "colorbar": {
              "outlinewidth": 0,
              "ticks": ""
             }
            },
            "type": "scatterternary"
           }
          ],
          "surface": [
           {
            "colorbar": {
             "outlinewidth": 0,
             "ticks": ""
            },
            "colorscale": [
             [
              0,
              "#0d0887"
             ],
             [
              0.1111111111111111,
              "#46039f"
             ],
             [
              0.2222222222222222,
              "#7201a8"
             ],
             [
              0.3333333333333333,
              "#9c179e"
             ],
             [
              0.4444444444444444,
              "#bd3786"
             ],
             [
              0.5555555555555556,
              "#d8576b"
             ],
             [
              0.6666666666666666,
              "#ed7953"
             ],
             [
              0.7777777777777778,
              "#fb9f3a"
             ],
             [
              0.8888888888888888,
              "#fdca26"
             ],
             [
              1,
              "#f0f921"
             ]
            ],
            "type": "surface"
           }
          ],
          "table": [
           {
            "cells": {
             "fill": {
              "color": "#EBF0F8"
             },
             "line": {
              "color": "white"
             }
            },
            "header": {
             "fill": {
              "color": "#C8D4E3"
             },
             "line": {
              "color": "white"
             }
            },
            "type": "table"
           }
          ]
         },
         "layout": {
          "annotationdefaults": {
           "arrowcolor": "#2a3f5f",
           "arrowhead": 0,
           "arrowwidth": 1
          },
          "autotypenumbers": "strict",
          "coloraxis": {
           "colorbar": {
            "outlinewidth": 0,
            "ticks": ""
           }
          },
          "colorscale": {
           "diverging": [
            [
             0,
             "#8e0152"
            ],
            [
             0.1,
             "#c51b7d"
            ],
            [
             0.2,
             "#de77ae"
            ],
            [
             0.3,
             "#f1b6da"
            ],
            [
             0.4,
             "#fde0ef"
            ],
            [
             0.5,
             "#f7f7f7"
            ],
            [
             0.6,
             "#e6f5d0"
            ],
            [
             0.7,
             "#b8e186"
            ],
            [
             0.8,
             "#7fbc41"
            ],
            [
             0.9,
             "#4d9221"
            ],
            [
             1,
             "#276419"
            ]
           ],
           "sequential": [
            [
             0,
             "#0d0887"
            ],
            [
             0.1111111111111111,
             "#46039f"
            ],
            [
             0.2222222222222222,
             "#7201a8"
            ],
            [
             0.3333333333333333,
             "#9c179e"
            ],
            [
             0.4444444444444444,
             "#bd3786"
            ],
            [
             0.5555555555555556,
             "#d8576b"
            ],
            [
             0.6666666666666666,
             "#ed7953"
            ],
            [
             0.7777777777777778,
             "#fb9f3a"
            ],
            [
             0.8888888888888888,
             "#fdca26"
            ],
            [
             1,
             "#f0f921"
            ]
           ],
           "sequentialminus": [
            [
             0,
             "#0d0887"
            ],
            [
             0.1111111111111111,
             "#46039f"
            ],
            [
             0.2222222222222222,
             "#7201a8"
            ],
            [
             0.3333333333333333,
             "#9c179e"
            ],
            [
             0.4444444444444444,
             "#bd3786"
            ],
            [
             0.5555555555555556,
             "#d8576b"
            ],
            [
             0.6666666666666666,
             "#ed7953"
            ],
            [
             0.7777777777777778,
             "#fb9f3a"
            ],
            [
             0.8888888888888888,
             "#fdca26"
            ],
            [
             1,
             "#f0f921"
            ]
           ]
          },
          "colorway": [
           "#636efa",
           "#EF553B",
           "#00cc96",
           "#ab63fa",
           "#FFA15A",
           "#19d3f3",
           "#FF6692",
           "#B6E880",
           "#FF97FF",
           "#FECB52"
          ],
          "font": {
           "color": "#2a3f5f"
          },
          "geo": {
           "bgcolor": "white",
           "lakecolor": "white",
           "landcolor": "white",
           "showlakes": true,
           "showland": true,
           "subunitcolor": "#C8D4E3"
          },
          "hoverlabel": {
           "align": "left"
          },
          "hovermode": "closest",
          "mapbox": {
           "style": "light"
          },
          "paper_bgcolor": "white",
          "plot_bgcolor": "white",
          "polar": {
           "angularaxis": {
            "gridcolor": "#EBF0F8",
            "linecolor": "#EBF0F8",
            "ticks": ""
           },
           "bgcolor": "white",
           "radialaxis": {
            "gridcolor": "#EBF0F8",
            "linecolor": "#EBF0F8",
            "ticks": ""
           }
          },
          "scene": {
           "xaxis": {
            "backgroundcolor": "white",
            "gridcolor": "#DFE8F3",
            "gridwidth": 2,
            "linecolor": "#EBF0F8",
            "showbackground": true,
            "ticks": "",
            "zerolinecolor": "#EBF0F8"
           },
           "yaxis": {
            "backgroundcolor": "white",
            "gridcolor": "#DFE8F3",
            "gridwidth": 2,
            "linecolor": "#EBF0F8",
            "showbackground": true,
            "ticks": "",
            "zerolinecolor": "#EBF0F8"
           },
           "zaxis": {
            "backgroundcolor": "white",
            "gridcolor": "#DFE8F3",
            "gridwidth": 2,
            "linecolor": "#EBF0F8",
            "showbackground": true,
            "ticks": "",
            "zerolinecolor": "#EBF0F8"
           }
          },
          "shapedefaults": {
           "line": {
            "color": "#2a3f5f"
           }
          },
          "ternary": {
           "aaxis": {
            "gridcolor": "#DFE8F3",
            "linecolor": "#A2B1C6",
            "ticks": ""
           },
           "baxis": {
            "gridcolor": "#DFE8F3",
            "linecolor": "#A2B1C6",
            "ticks": ""
           },
           "bgcolor": "white",
           "caxis": {
            "gridcolor": "#DFE8F3",
            "linecolor": "#A2B1C6",
            "ticks": ""
           }
          },
          "title": {
           "x": 0.05
          },
          "xaxis": {
           "automargin": true,
           "gridcolor": "#EBF0F8",
           "linecolor": "#EBF0F8",
           "ticks": "",
           "title": {
            "standoff": 15
           },
           "zerolinecolor": "#EBF0F8",
           "zerolinewidth": 2
          },
          "yaxis": {
           "automargin": true,
           "gridcolor": "#EBF0F8",
           "linecolor": "#EBF0F8",
           "ticks": "",
           "title": {
            "standoff": 15
           },
           "zerolinecolor": "#EBF0F8",
           "zerolinewidth": 2
          }
         }
        },
        "title": {
         "font": {
          "color": "Black",
          "size": 22
         },
         "text": "<b>Hierarchical Clustering</b>",
         "x": 0.5,
         "xanchor": "center",
         "yanchor": "top"
        },
        "width": 3230,
        "xaxis": {
         "mirror": "allticks",
         "rangemode": "tozero",
         "showgrid": false,
         "showline": true,
         "showticklabels": true,
         "tickmode": "array",
         "ticks": "outside",
         "ticktext": [
          "198_iraq_iraqi_kuwait",
          "158_iraq_baghdad_iraqi",
          "98_yemen_yemenis_yemeni",
          "199_yemen_ethiopia_palestine",
          "150_egypt_syria_egyptian",
          "118_libya_libyan_libyans",
          "137_syria_syrian_israel",
          "6_palestine_palestinians_pa...",
          "119_kuwait_kuwaiti_humanita...",
          "194_amman_palestine_jordanian",
          "76_peaceful_uae_iraq",
          "157_bahrain_kuwait_yemen",
          "28_lebanon_beirut_palestine",
          "120_guinea_equatorial_nguema",
          "58_burundi_rwanda_burundian",
          "131_angola_angolan_africa",
          "175_benin_nations_africa",
          "84_gabon_gabonese_nations",
          "116_togo_togolese_nations",
          "85_guinea_guinean_nations",
          "65_congo_congolese_angola",
          "186_congo_africa_nations",
          "87_rwanda_rwandan_genocide",
          "167_mauritania_mauritanian_...",
          "93_morocco_maghreb_algeria",
          "146_burkina_faso_gabon",
          "99_mali_malian_sahel",
          "191_libya_chadian_libyan",
          "127_uganda_rwanda_congo",
          "121_madagascar_nations_africa",
          "159_mozambique_mozambican_m...",
          "15_bangladesh_nations_namibia",
          "8_nations_mexico_countries",
          "16_brunei_namibia_nations",
          "69_disarmament_peaceful_peace",
          "181_peaceful_nations_peace",
          "193_peaceful_disarmament_na...",
          "88_seychelles_zimbabwe_nati...",
          "97_yugoslavia_disarmament_n...",
          "3_algeria_nations_africa",
          "138_zimbabwe_africa_disarma...",
          "17_zimbabwe_nations_namibia",
          "83_vanuatu_nations_namibia",
          "37_tunisia_tunisian_maghreb",
          "188_disarmament_peaceful_na...",
          "171_treaty_swaziland_nations",
          "140_rhodesia_nigeria_africa",
          "94_ethiopia_eritrea_somalia",
          "115_tanzania_africa_rhodesia",
          "105_niger_nigeria_nigerian",
          "21_apartheid_nations_africa",
          "38_ghana_rhodesia_disarmament",
          "164_cameroon_cameroons_nati...",
          "32_liberia_liberians_liberian",
          "103_kenya_nairobi_sudan",
          "170_lesotho_apartheid_namibia",
          "152_botswana_angola_namibia",
          "111_swaziland_swazi_peaceful",
          "66_nepal_disarmament_nations",
          "197_mauritius_nations_peace",
          "95_lanka_sri_colombo",
          "67_disarmament_nations_nucl...",
          "89_malta_nations_neutrality",
          "145_liechtenstein_nations_k...",
          "114_liechtenstein_namibia_p...",
          "62_nations_countries_democr...",
          "174_peaceful_peace_nations",
          "128_spain_nations_gibraltar",
          "155_sweden_disarmament_denm...",
          "82_treaty_disarmament_peace...",
          "81_suriname_treaty_nations",
          "135_disarmament_austria_pea...",
          "124_cyprus_disarmament_cypr...",
          "55_greece_greek_balkans",
          "126_nations_peace_war",
          "185_congo_nations_algerian",
          "189_disarmament_ceylon_nati...",
          "36_disarmament_nations_canada",
          "73_treaty_nations_countries",
          "91_treaty_disarmament_nations",
          "63_philippines_philippine_a...",
          "40_myanmar_burma_peaceful",
          "70_italy_disarmament_nations",
          "54_guyana_nations_venezuela",
          "51_indonesia_asean_indonesian",
          "96_nations_india_countries",
          "168_nations_peace_war",
          "100_nations_countries_peace",
          "34_malaya_disarmament_nations",
          "122_war_peace_nations",
          "60_treaty_nations_peace",
          "22_nations_countries_europe",
          "92_disarmament_nations_denm...",
          "192_nations_countries_peace",
          "41_asean_thailand_nations",
          "68_disarmament_pakistan_pea...",
          "48_kabul_taliban_afghanistan",
          "109_laos_asean_lao",
          "61_cambodia_cambodian_khmer",
          "142_asean_peaceful_viet",
          "33_albania_kosovo_imperialism",
          "139_disarmament_mao_china",
          "26_romania_disarmament_nati...",
          "31_disarmament_peaceful_war",
          "19_disarmament_bulgaria_bal...",
          "129_disarmament_treaty_peac...",
          "43_poland_disarmament_polish",
          "80_treaty_disarmament_peace...",
          "1_disarmament_treaty_peaceful",
          "5_nations_war_ussr",
          "101_war_armistice_korea",
          "108_treaty_mongolia_disarma...",
          "42_korea_peaceful_sovereignty",
          "59_paraguay_paraguayan_nati...",
          "50_dominican_haiti_nations",
          "27_haiti_duvalier_haitian",
          "71_cuba_cuban_sovereignty",
          "14_panama_panamanian_panama...",
          "79_ecuador_ecuadorian_nations",
          "30_venezuela_bolivarian_ven...",
          "25_colombia_colombians_colo...",
          "10_guatemala_guatemalan_gua...",
          "53_chile_chilean_nations",
          "57_argentina_argentine_nati...",
          "72_uruguay_nations_uruguayan",
          "18_peru_peruvian_nations",
          "78_brazil_disarmament_nations",
          "46_bolivia_bolivian_bolivians",
          "74_nicaragua_nicaraguan_nic...",
          "29_honduras_honduran_hondur...",
          "49_salvador_salvadorian_sal...",
          "44_rica_nations_countries",
          "106_tobago_trinidad_nations",
          "86_belize_guatemala_belizeans",
          "110_jamaica_nations_caribbean",
          "56_barbados_antigua_haiti",
          "107_dominica_nations_lucia",
          "200_haiti_dominica_hurricane",
          "130_grenada_nations_countries",
          "113_bahamas_haiti_bahamian",
          "141_tuvalu_kiribati_nations",
          "160_nauru_fiji_nations",
          "162_seychelles_mauritius_na...",
          "35_samoa_micronesia_kiribati",
          "154_climate_haiti_bahamas",
          "182_kiribati_un_agenda",
          "161_palau_palauan_un",
          "153_islands_nations_nation",
          "39_disarmament_nations_solo...",
          "75_papua_guinea_nations",
          "144_vanuatu_papua_nations",
          "133_fiji_peacekeeping_fijians",
          "125_turkmenistan_afghanista...",
          "123_tajikistan_tajik_afghan...",
          "147_kyrgyzstan_peacekeeping...",
          "201_treaty_kazakhstan_nations",
          "184_kosovo_serbia_balkans",
          "178_yugoslavia_bosnia_herze...",
          "149_bosnia_herzegovina_yugo...",
          "180_timor_timorese_asean",
          "156_abkhazian_tbilisi_abkha...",
          "117_latvia_peacekeeping_bal...",
          "112_disarmament_ukraine_tre...",
          "20_crimea_ukraine_war",
          "90_nations_peace_ireland",
          "190_syria_humanitarian_syrian",
          "169_refugees_humanitarian_s...",
          "196_nation_nations_war",
          "165_iran_islam_islamic",
          "187_andorran_andorra_nations",
          "166_macedonia_yugoslavia_nato",
          "143_montenegro_nations_mont...",
          "195_nations_verde_countries",
          "102_somaliland_somalia_soma...",
          "148_mediation_peaceful_sudan",
          "12_sudan_darfur_humanitarian",
          "134_nations_globalization_k...",
          "13_peacekeeping_nations_glo...",
          "9_globalization_nations_ref...",
          "24_namibia_angola_ethiopia",
          "23_portugal_angola_nations",
          "52_iraq_timor_terrorism",
          "4_annan_terrorism_terrorist",
          "45_terrorism_terrorists_ter...",
          "173_gambia_gambian_gambians",
          "64_leone_leoneans_nations",
          "0_pandemic_coronavirus_mult...",
          "11_nations_terrorism_peace",
          "7_climate_sustainable_nations",
          "2_poverty_africa_nations",
          "177_nations_malawi_agenda",
          "183_multilateralism_multila...",
          "77_poverty_agriculture_food",
          "136_multilateralism_economi...",
          "104_malawi_mozambique_zambia",
          "163_bhutan_bangladesh_nations",
          "172_maldives_democracy_mald...",
          "176_eritrea_ethiopia_sudan",
          "179_slovakia_peacekeeping_k...",
          "151_moldova_peacekeeping_mo...",
          "132_multilateralism_nations...",
          "47_azerbaijan_armenia_genoc..."
         ],
         "tickvals": [
          5,
          15,
          25,
          35,
          45,
          55,
          65,
          75,
          85,
          95,
          105,
          115,
          125,
          135,
          145,
          155,
          165,
          175,
          185,
          195,
          205,
          215,
          225,
          235,
          245,
          255,
          265,
          275,
          285,
          295,
          305,
          315,
          325,
          335,
          345,
          355,
          365,
          375,
          385,
          395,
          405,
          415,
          425,
          435,
          445,
          455,
          465,
          475,
          485,
          495,
          505,
          515,
          525,
          535,
          545,
          555,
          565,
          575,
          585,
          595,
          605,
          615,
          625,
          635,
          645,
          655,
          665,
          675,
          685,
          695,
          705,
          715,
          725,
          735,
          745,
          755,
          765,
          775,
          785,
          795,
          805,
          815,
          825,
          835,
          845,
          855,
          865,
          875,
          885,
          895,
          905,
          915,
          925,
          935,
          945,
          955,
          965,
          975,
          985,
          995,
          1005,
          1015,
          1025,
          1035,
          1045,
          1055,
          1065,
          1075,
          1085,
          1095,
          1105,
          1115,
          1125,
          1135,
          1145,
          1155,
          1165,
          1175,
          1185,
          1195,
          1205,
          1215,
          1225,
          1235,
          1245,
          1255,
          1265,
          1275,
          1285,
          1295,
          1305,
          1315,
          1325,
          1335,
          1345,
          1355,
          1365,
          1375,
          1385,
          1395,
          1405,
          1415,
          1425,
          1435,
          1445,
          1455,
          1465,
          1475,
          1485,
          1495,
          1505,
          1515,
          1525,
          1535,
          1545,
          1555,
          1565,
          1575,
          1585,
          1595,
          1605,
          1615,
          1625,
          1635,
          1645,
          1655,
          1665,
          1675,
          1685,
          1695,
          1705,
          1715,
          1725,
          1735,
          1745,
          1755,
          1765,
          1775,
          1785,
          1795,
          1805,
          1815,
          1825,
          1835,
          1845,
          1855,
          1865,
          1875,
          1885,
          1895,
          1905,
          1915,
          1925,
          1935,
          1945,
          1955,
          1965,
          1975,
          1985,
          1995,
          2005,
          2015
         ],
         "type": "linear",
         "zeroline": false
        },
        "yaxis": {
         "mirror": "allticks",
         "rangemode": "tozero",
         "showgrid": false,
         "showline": true,
         "showticklabels": true,
         "ticks": "outside",
         "type": "linear",
         "zeroline": false
        }
       }
      }
     },
     "metadata": {},
     "output_type": "display_data"
    }
   ],
   "source": [
    "# visualize the hierarchy for average linkage\n",
    "t.visualize_hierarchy(hierarchical_topics=hierarchical_topics['average'], orientation=\"bottom\")"
   ]
  },
  {
   "cell_type": "code",
   "execution_count": 43,
   "metadata": {},
   "outputs": [
    {
     "name": "stdout",
     "output_type": "stream",
     "text": [
      ".\n",
      "├─■──azerbaijan_armenia_genocide_humanitarian_armenians ── Topic: 47\n",
      "└─of_the_and_to_in\n",
      "  ├─the_of_and_to_in\n",
      "  │ ├─■──eritrea_ethiopia_sudan_eritreans_eritrean ── Topic: 176\n",
      "  │ └─that_and_to_the_of\n",
      "  │   ├─that_and_to_the_of\n",
      "  │   │ ├─that_and_to_the_of\n",
      "  │   │ │ ├─■──timor_timorese_asean_indonesia_myanmar ── Topic: 180\n",
      "  │   │ │ └─the_of_and_to_in\n",
      "  │   │ │   ├─the_united_of_to_states\n",
      "  │   │ │   │ ├─■──abkhazian_tbilisi_abkhazia_georgians_nato ── Topic: 156\n",
      "  │   │ │   │ └─the_of_and_to_in\n",
      "  │   │ │   │   ├─and_to_the_in_of\n",
      "  │   │ │   │   │ ├─the_of_and_to_in\n",
      "  │   │ │   │   │ │ ├─and_to_the_in_of\n",
      "  │   │ │   │   │ │ │ ├─and_to_the_in_of\n",
      "  │   │ │   │   │ │ │ │ ├─the_of_and_to_in\n",
      "  │   │ │   │   │ │ │ │ │ ├─■──korea_peaceful_sovereignty_reunification_kim ── Topic: 42\n",
      "  │   │ │   │   │ │ │ │ │ └─and_in_to_the_of\n",
      "  │   │ │   │   │ │ │ │ │   ├─and_in_to_the_of\n",
      "  │   │ │   │   │ │ │ │ │   │ ├─the_of_and_to_in\n",
      "  │   │ │   │   │ │ │ │ │   │ │ ├─and_in_to_the_of\n",
      "  │   │ │   │   │ │ │ │ │   │ │ │ ├─■──bahamas_haiti_bahamian_caribbean_nations ── Topic: 113\n",
      "  │   │ │   │   │ │ │ │ │   │ │ │ └─the_of_and_to_in\n",
      "  │   │ │   │   │ │ │ │ │   │ │ │   ├─■──tobago_trinidad_nations_countries_caribbean ── Topic: 106\n",
      "  │   │ │   │   │ │ │ │ │   │ │ │   └─the_of_and_to_in\n",
      "  │   │ │   │   │ │ │ │ │   │ │ │     ├─the_of_and_to_in\n",
      "  │   │ │   │   │ │ │ │ │   │ │ │     │ ├─the_of_and_to_in\n",
      "  │   │ │   │   │ │ │ │ │   │ │ │     │ │ ├─had_that_the_and_in\n",
      "  │   │ │   │   │ │ │ │ │   │ │ │     │ │ │ ├─had_that_the_and_in\n",
      "  │   │ │   │   │ │ │ │ │   │ │ │     │ │ │ │ ├─the_of_and_to_in\n",
      "  │   │ │   │   │ │ │ │ │   │ │ │     │ │ │ │ │ ├─had_that_the_and_in\n",
      "  │   │ │   │   │ │ │ │ │   │ │ │     │ │ │ │ │ │ ├─■──islands_nations_nation_marshallese_nuclear ── Topic: 153\n",
      "  │   │ │   │   │ │ │ │ │   │ │ │     │ │ │ │ │ │ └─the_in_to_of_and\n",
      "  │   │ │   │   │ │ │ │ │   │ │ │     │ │ │ │ │ │   ├─■──nauru_fiji_nations_governance_countries ── Topic: 160\n",
      "  │   │ │   │   │ │ │ │ │   │ │ │     │ │ │ │ │ │   └─malta_and_the_in_of\n",
      "  │   │ │   │   │ │ │ │ │   │ │ │     │ │ │ │ │ │     ├─■──fiji_peacekeeping_fijians_fijian_nations ── Topic: 133\n",
      "  │   │ │   │   │ │ │ │ │   │ │ │     │ │ │ │ │ │     └─the_of_and_to_in\n",
      "  │   │ │   │   │ │ │ │ │   │ │ │     │ │ │ │ │ │       ├─■──papua_guinea_nations_governments_countries ── Topic: 75\n",
      "  │   │ │   │   │ │ │ │ │   │ │ │     │ │ │ │ │ │       └─we_is_to_the_of\n",
      "  │   │ │   │   │ │ │ │ │   │ │ │     │ │ │ │ │ │         ├─■──guinea_equatorial_nguema_nations_africa ── Topic: 120\n",
      "  │   │ │   │   │ │ │ │ │   │ │ │     │ │ │ │ │ │         └─the_of_and_to_in\n",
      "  │   │ │   │   │ │ │ │ │   │ │ │     │ │ │ │ │ │           ├─the_of_and_to_in\n",
      "  │   │ │   │   │ │ │ │ │   │ │ │     │ │ │ │ │ │           │ ├─the_of_and_to_in\n",
      "  │   │ │   │   │ │ │ │ │   │ │ │     │ │ │ │ │ │           │ │ ├─the_of_and_to_in\n",
      "  │   │ │   │   │ │ │ │ │   │ │ │     │ │ │ │ │ │           │ │ │ ├─the_of_and_to_in\n",
      "  │   │ │   │   │ │ │ │ │   │ │ │     │ │ │ │ │ │           │ │ │ │ ├─the_of_and_in_to\n",
      "  │   │ │   │   │ │ │ │ │   │ │ │     │ │ │ │ │ │           │ │ │ │ │ ├─the_of_and_in_to\n",
      "  │   │ │   │   │ │ │ │ │   │ │ │     │ │ │ │ │ │           │ │ │ │ │ │ ├─■──iraq_baghdad_iraqi_iraqis_terrorist ── Topic: 158\n",
      "  │   │ │   │   │ │ │ │ │   │ │ │     │ │ │ │ │ │           │ │ │ │ │ │ └─■──iraq_iraqi_kuwait_palestine_sovereignty ── Topic: 198\n",
      "  │   │ │   │   │ │ │ │ │   │ │ │     │ │ │ │ │ │           │ │ │ │ │ └─of_the_to_in_and\n",
      "  │   │ │   │   │ │ │ │ │   │ │ │     │ │ │ │ │ │           │ │ │ │ │   ├─of_the_to_in_and\n",
      "  │   │ │   │   │ │ │ │ │   │ │ │     │ │ │ │ │ │           │ │ │ │ │   │ ├─of_the_to_in_and\n",
      "  │   │ │   │   │ │ │ │ │   │ │ │     │ │ │ │ │ │           │ │ │ │ │   │ │ ├─■──albania_kosovo_imperialism_nato_albanians ── Topic: 33\n",
      "  │   │ │   │   │ │ │ │ │   │ │ │     │ │ │ │ │ │           │ │ │ │ │   │ │ └─the_of_and_in_to\n",
      "  │   │ │   │   │ │ │ │ │   │ │ │     │ │ │ │ │ │           │ │ │ │ │   │ │   ├─■──treaty_mongolia_disarmament_soviet_peaceful ── Topic: 108\n",
      "  │   │ │   │   │ │ │ │ │   │ │ │     │ │ │ │ │ │           │ │ │ │ │   │ │   └─the_of_and_to_in\n",
      "  │   │ │   │   │ │ │ │ │   │ │ │     │ │ │ │ │ │           │ │ │ │ │   │ │     ├─■──disarmament_nations_nuclear_japan_countries ── Topic: 67\n",
      "  │   │ │   │   │ │ │ │ │   │ │ │     │ │ │ │ │ │           │ │ │ │ │   │ │     └─the_of_and_to_in\n",
      "  │   │ │   │   │ │ │ │ │   │ │ │     │ │ │ │ │ │           │ │ │ │ │   │ │       ├─■──lanka_sri_colombo_nations_countries ── Topic: 95\n",
      "  │   │ │   │   │ │ │ │ │   │ │ │     │ │ │ │ │ │           │ │ │ │ │   │ │       └─kazakhstan_honduras_serbia_nuclear_or\n",
      "  │   │ │   │   │ │ │ │ │   │ │ │     │ │ │ │ │ │           │ │ │ │ │   │ │         ├─■──mauritius_nations_peace_countries_africa ── Topic: 197\n",
      "  │   │ │   │   │ │ │ │ │   │ │ │     │ │ │ │ │ │           │ │ │ │ │   │ │         └─the_of_and_to_in\n",
      "  │   │ │   │   │ │ │ │ │   │ │ │     │ │ │ │ │ │           │ │ │ │ │   │ │           ├─■──rica_nations_countries_peace_democracy ── Topic: 44\n",
      "  │   │ │   │   │ │ │ │ │   │ │ │     │ │ │ │ │ │           │ │ │ │ │   │ │           └─the_of_and_to_in\n",
      "  │   │ │   │   │ │ │ │ │   │ │ │     │ │ │ │ │ │           │ │ │ │ │   │ │             ├─■──burundi_rwanda_burundian_africa_refugees ── Topic: 58\n",
      "  │   │ │   │   │ │ │ │ │   │ │ │     │ │ │ │ │ │           │ │ │ │ │   │ │             └─of_the_and_to_that\n",
      "  │   │ │   │   │ │ │ │ │   │ │ │     │ │ │ │ │ │           │ │ │ │ │   │ │               ├─■──mali_malian_sahel_africa_nations ── Topic: 99\n",
      "  │   │ │   │   │ │ │ │ │   │ │ │     │ │ │ │ │ │           │ │ │ │ │   │ │               └─the_of_and_to_in\n",
      "  │   │ │   │   │ │ │ │ │   │ │ │     │ │ │ │ │ │           │ │ │ │ │   │ │                 ├─■──burkina_faso_gabon_mali_senegal ── Topic: 146\n",
      "  │   │ │   │   │ │ │ │ │   │ │ │     │ │ │ │ │ │           │ │ │ │ │   │ │                 └─and_of_the_is_in\n",
      "  │   │ │   │   │ │ │ │ │   │ │ │     │ │ │ │ │ │           │ │ │ │ │   │ │                   ├─■──uganda_rwanda_congo_angola_amin ── Topic: 127\n",
      "  │   │ │   │   │ │ │ │ │   │ │ │     │ │ │ │ │ │           │ │ │ │ │   │ │                   └─to_the_of_and_in\n",
      "  │   │ │   │   │ │ │ │ │   │ │ │     │ │ │ │ │ │           │ │ │ │ │   │ │                     ├─■──somaliland_somalia_somalis_somali_ethiopia ── Topic: 102\n",
      "  │   │ │   │   │ │ │ │ │   │ │ │     │ │ │ │ │ │           │ │ │ │ │   │ │                     └─and_the_of_to_in\n",
      "  │   │ │   │   │ │ │ │ │   │ │ │     │ │ │ │ │ │           │ │ │ │ │   │ │                       ├─■──leone_leoneans_nations_africa_delegation ── Topic: 64\n",
      "  │   │ │   │   │ │ │ │ │   │ │ │     │ │ │ │ │ │           │ │ │ │ │   │ │                       └─of_the_we_that_to\n",
      "  │   │ │   │   │ │ │ │ │   │ │ │     │ │ │ │ │ │           │ │ │ │ │   │ │                         ├─■──swaziland_swazi_peaceful_nations_africa ── Topic: 111\n",
      "  │   │ │   │   │ │ │ │ │   │ │ │     │ │ │ │ │ │           │ │ │ │ │   │ │                         └─the_and_that_to_of\n",
      "  │   │ │   │   │ │ │ │ │   │ │ │     │ │ │ │ │ │           │ │ │ │ │   │ │                           ├─the_and_that_to_of\n",
      "  │   │ │   │   │ │ │ │ │   │ │ │     │ │ │ │ │ │           │ │ │ │ │   │ │                           │ ├─the_and_that_to_of\n",
      "  │   │ │   │   │ │ │ │ │   │ │ │     │ │ │ │ │ │           │ │ │ │ │   │ │                           │ │ ├─the_of_and_to_in\n",
      "  │   │ │   │   │ │ │ │ │   │ │ │     │ │ │ │ │ │           │ │ │ │ │   │ │                           │ │ │ ├─the_and_to_of_that\n",
      "  │   │ │   │   │ │ │ │ │   │ │ │     │ │ │ │ │ │           │ │ │ │ │   │ │                           │ │ │ │ ├─the_and_that_to_of\n",
      "  │   │ │   │   │ │ │ │ │   │ │ │     │ │ │ │ │ │           │ │ │ │ │   │ │                           │ │ │ │ │ ├─■──kiribati_un_agenda_acknowledge_climate ── Topic: 182\n",
      "  │   │ │   │   │ │ │ │ │   │ │ │     │ │ │ │ │ │           │ │ │ │ │   │ │                           │ │ │ │ │ └─■──samoa_micronesia_kiribati_climate_fiji ── Topic: 35\n",
      "  │   │ │   │   │ │ │ │ │   │ │ │     │ │ │ │ │ │           │ │ │ │ │   │ │                           │ │ │ │ └─■──seychelles_mauritius_nations_countries_africa ── Topic: 162\n",
      "  │   │ │   │   │ │ │ │ │   │ │ │     │ │ │ │ │ │           │ │ │ │ │   │ │                           │ │ │ └─■──vanuatu_papua_nations_multilateral_countries ── Topic: 144\n",
      "  │   │ │   │   │ │ │ │ │   │ │ │     │ │ │ │ │ │           │ │ │ │ │   │ │                           │ │ └─the_of_and_to_in\n",
      "  │   │ │   │   │ │ │ │ │   │ │ │     │ │ │ │ │ │           │ │ │ │ │   │ │                           │ │   ├─the_of_and_to_in\n",
      "  │   │ │   │   │ │ │ │ │   │ │ │     │ │ │ │ │ │           │ │ │ │ │   │ │                           │ │   │ ├─the_of_and_to_in\n",
      "  │   │ │   │   │ │ │ │ │   │ │ │     │ │ │ │ │ │           │ │ │ │ │   │ │                           │ │   │ │ ├─of_the_and_which_to\n",
      "  │   │ │   │   │ │ │ │ │   │ │ │     │ │ │ │ │ │           │ │ │ │ │   │ │                           │ │   │ │ │ ├─of_the_and_which_to\n",
      "  │   │ │   │   │ │ │ │ │   │ │ │     │ │ │ │ │ │           │ │ │ │ │   │ │                           │ │   │ │ │ │ ├─the_of_and_to_in\n",
      "  │   │ │   │   │ │ │ │ │   │ │ │     │ │ │ │ │ │           │ │ │ │ │   │ │                           │ │   │ │ │ │ │ ├─the_of_and_to_in\n",
      "  │   │ │   │   │ │ │ │ │   │ │ │     │ │ │ │ │ │           │ │ │ │ │   │ │                           │ │   │ │ │ │ │ │ ├─■──benin_nations_africa_imperialism_countries ── Topic: 175\n",
      "  │   │ │   │   │ │ │ │ │   │ │ │     │ │ │ │ │ │           │ │ │ │ │   │ │                           │ │   │ │ │ │ │ │ └─the_of_in_to_and\n",
      "  │   │ │   │   │ │ │ │ │   │ │ │     │ │ │ │ │ │           │ │ │ │ │   │ │                           │ │   │ │ │ │ │ │   ├─the_of_in_to_and\n",
      "  │   │ │   │   │ │ │ │ │   │ │ │     │ │ │ │ │ │           │ │ │ │ │   │ │                           │ │   │ │ │ │ │ │   │ ├─the_of_in_to_and\n",
      "  │   │ │   │   │ │ │ │ │   │ │ │     │ │ │ │ │ │           │ │ │ │ │   │ │                           │ │   │ │ │ │ │ │   │ │ ├─the_of_in_to_and\n",
      "  │   │ │   │   │ │ │ │ │   │ │ │     │ │ │ │ │ │           │ │ │ │ │   │ │                           │ │   │ │ │ │ │ │   │ │ │ ├─the_of_and_to_in\n",
      "  │   │ │   │   │ │ │ │ │   │ │ │     │ │ │ │ │ │           │ │ │ │ │   │ │                           │ │   │ │ │ │ │ │   │ │ │ │ ├─■──bolivia_bolivian_bolivians_nations_chile ── Topic: 46\n",
      "  │   │ │   │   │ │ │ │ │   │ │ │     │ │ │ │ │ │           │ │ │ │ │   │ │                           │ │   │ │ │ │ │ │   │ │ │ │ └─of_and_the_in_to\n",
      "  │   │ │   │   │ │ │ │ │   │ │ │     │ │ │ │ │ │           │ │ │ │ │   │ │                           │ │   │ │ │ │ │ │   │ │ │ │   ├─■──cuba_cuban_sovereignty_castro_imperialism ── Topic: 71\n",
      "  │   │ │   │   │ │ │ │ │   │ │ │     │ │ │ │ │ │           │ │ │ │ │   │ │                           │ │   │ │ │ │ │ │   │ │ │ │   └─of_the_and_to_in\n",
      "  │   │ │   │   │ │ │ │ │   │ │ │     │ │ │ │ │ │           │ │ │ │ │   │ │                           │ │   │ │ │ │ │ │   │ │ │ │     ├─■──nicaragua_nicaraguan_nicaraguans_honduras_cuba ── Topic: 74\n",
      "  │   │ │   │   │ │ │ │ │   │ │ │     │ │ │ │ │ │           │ │ │ │ │   │ │                           │ │   │ │ │ │ │ │   │ │ │ │     └─the_of_in_to_and\n",
      "  │   │ │   │   │ │ │ │ │   │ │ │     │ │ │ │ │ │           │ │ │ │ │   │ │                           │ │   │ │ │ │ │ │   │ │ │ │       ├─■──salvador_salvadorian_salvadorans_nations_peace ── Topic: 49\n",
      "  │   │ │   │   │ │ │ │ │   │ │ │     │ │ │ │ │ │           │ │ │ │ │   │ │                           │ │   │ │ │ │ │ │   │ │ │ │       └─the_of_and_to_in\n",
      "  │   │ │   │   │ │ │ │ │   │ │ │     │ │ │ │ │ │           │ │ │ │ │   │ │                           │ │   │ │ │ │ │ │   │ │ │ │         ├─■──dominican_haiti_nations_caribbean_republic ── Topic: 50\n",
      "  │   │ │   │   │ │ │ │ │   │ │ │     │ │ │ │ │ │           │ │ │ │ │   │ │                           │ │   │ │ │ │ │ │   │ │ │ │         └─the_of_in_to_we\n",
      "  │   │ │   │   │ │ │ │ │   │ │ │     │ │ │ │ │ │           │ │ │ │ │   │ │                           │ │   │ │ │ │ │ │   │ │ │ │           ├─■──haiti_duvalier_haitian_haitians_nations ── Topic: 27\n",
      "  │   │ │   │   │ │ │ │ │   │ │ │     │ │ │ │ │ │           │ │ │ │ │   │ │                           │ │   │ │ │ │ │ │   │ │ │ │           └─the_of_to_and_in\n",
      "  │   │ │   │   │ │ │ │ │   │ │ │     │ │ │ │ │ │           │ │ │ │ │   │ │                           │ │   │ │ │ │ │ │   │ │ │ │             ├─■──panama_panamanian_panamanians_treaty_treaties ── Topic: 14\n",
      "  │   │ │   │   │ │ │ │ │   │ │ │     │ │ │ │ │ │           │ │ │ │ │   │ │                           │ │   │ │ │ │ │ │   │ │ │ │             └─the_of_and_to_in\n",
      "  │   │ │   │   │ │ │ │ │   │ │ │     │ │ │ │ │ │           │ │ │ │ │   │ │                           │ │   │ │ │ │ │ │   │ │ │ │               ├─of_the_and_in_to\n",
      "  │   │ │   │   │ │ │ │ │   │ │ │     │ │ │ │ │ │           │ │ │ │ │   │ │                           │ │   │ │ │ │ │ │   │ │ │ │               │ ├─■──asean_thailand_nations_asia_countries ── Topic: 41\n",
      "  │   │ │   │   │ │ │ │ │   │ │ │     │ │ │ │ │ │           │ │ │ │ │   │ │                           │ │   │ │ │ │ │ │   │ │ │ │               │ └─the_of_in_to_and\n",
      "  │   │ │   │   │ │ │ │ │   │ │ │     │ │ │ │ │ │           │ │ │ │ │   │ │                           │ │   │ │ │ │ │ │   │ │ │ │               │   ├─■──philippines_philippine_asean_manila_filipino ── Topic: 63\n",
      "  │   │ │   │   │ │ │ │ │   │ │ │     │ │ │ │ │ │           │ │ │ │ │   │ │                           │ │   │ │ │ │ │ │   │ │ │ │               │   └─the_of_and_to_in\n",
      "  │   │ │   │   │ │ │ │ │   │ │ │     │ │ │ │ │ │           │ │ │ │ │   │ │                           │ │   │ │ │ │ │ │   │ │ │ │               │     ├─■──disarmament_nations_canada_council_government ── Topic: 36\n",
      "  │   │ │   │   │ │ │ │ │   │ │ │     │ │ │ │ │ │           │ │ │ │ │   │ │                           │ │   │ │ │ │ │ │   │ │ │ │               │     └─the_of_and_to_in\n",
      "  │   │ │   │   │ │ │ │ │   │ │ │     │ │ │ │ │ │           │ │ │ │ │   │ │                           │ │   │ │ │ │ │ │   │ │ │ │               │       ├─and_the_to_of_we\n",
      "  │   │ │   │   │ │ │ │ │   │ │ │     │ │ │ │ │ │           │ │ │ │ │   │ │                           │ │   │ │ │ │ │ │   │ │ │ │               │       │ ├─the_of_and_to_in\n",
      "  │   │ │   │   │ │ │ │ │   │ │ │     │ │ │ │ │ │           │ │ │ │ │   │ │                           │ │   │ │ │ │ │ │   │ │ │ │               │       │ │ ├─and_the_to_of_we\n",
      "  │   │ │   │   │ │ │ │ │   │ │ │     │ │ │ │ │ │           │ │ │ │ │   │ │                           │ │   │ │ │ │ │ │   │ │ │ │               │       │ │ │ ├─and_the_to_of_we\n",
      "  │   │ │   │   │ │ │ │ │   │ │ │     │ │ │ │ │ │           │ │ │ │ │   │ │                           │ │   │ │ │ │ │ │   │ │ │ │               │       │ │ │ │ ├─the_of_and_to_in\n",
      "  │   │ │   │   │ │ │ │ │   │ │ │     │ │ │ │ │ │           │ │ │ │ │   │ │                           │ │   │ │ │ │ │ │   │ │ │ │               │       │ │ │ │ │ ├─our_we_to_that_06\n",
      "  │   │ │   │   │ │ │ │ │   │ │ │     │ │ │ │ │ │           │ │ │ │ │   │ │                           │ │   │ │ │ │ │ │   │ │ │ │               │       │ │ │ │ │ │ ├─■──mediation_peaceful_sudan_peace_libya ── Topic: 148\n",
      "  │   │ │   │   │ │ │ │ │   │ │ │     │ │ │ │ │ │           │ │ │ │ │   │ │                           │ │   │ │ │ │ │ │   │ │ │ │               │       │ │ │ │ │ │ └─and_the_to_of_we\n",
      "  │   │ │   │   │ │ │ │ │   │ │ │     │ │ │ │ │ │           │ │ │ │ │   │ │                           │ │   │ │ │ │ │ │   │ │ │ │               │       │ │ │ │ │ │   ├─is_our_we_this_it\n",
      "  │   │ │   │   │ │ │ │ │   │ │ │     │ │ │ │ │ │           │ │ │ │ │   │ │                           │ │   │ │ │ │ │ │   │ │ │ │               │       │ │ │ │ │ │   │ ├─■──multilateralism_multilateral_nations_peace_agenda ── Topic: 183\n",
      "  │   │ │   │   │ │ │ │ │   │ │ │     │ │ │ │ │ │           │ │ │ │ │   │ │                           │ │   │ │ │ │ │ │   │ │ │ │               │       │ │ │ │ │ │   │ └─netherlands_irian_indonesia_west_the\n",
      "  │   │ │   │   │ │ │ │ │   │ │ │     │ │ │ │ │ │           │ │ │ │ │   │ │                           │ │   │ │ │ │ │ │   │ │ │ │               │       │ │ │ │ │ │   │   ├─the_and_to_of_in\n",
      "  │   │ │   │   │ │ │ │ │   │ │ │     │ │ │ │ │ │           │ │ │ │ │   │ │                           │ │   │ │ │ │ │ │   │ │ │ │               │       │ │ │ │ │ │   │   │ ├─netherlands_irian_the_to_of\n",
      "  │   │ │   │   │ │ │ │ │   │ │ │     │ │ │ │ │ │           │ │ │ │ │   │ │                           │ │   │ │ │ │ │ │   │ │ │ │               │       │ │ │ │ │ │   │   │ │ ├─■──multilateralism_economies_economy_governance_economic ── Topic: 136\n",
      "  │   │ │   │   │ │ │ │ │   │ │ │     │ │ │ │ │ │           │ │ │ │ │   │ │                           │ │   │ │ │ │ │ │   │ │ │ │               │       │ │ │ │ │ │   │   │ │ └─■──poverty_agriculture_food_hunger_mali ── Topic: 77\n",
      "  │   │ │   │   │ │ │ │ │   │ │ │     │ │ │ │ │ │           │ │ │ │ │   │ │                           │ │   │ │ │ │ │ │   │ │ │ │               │       │ │ │ │ │ │   │   │ └─■──pandemic_coronavirus_multilateralism_covid_vaccines ── Topic: 0\n",
      "  │   │ │   │   │ │ │ │ │   │ │ │     │ │ │ │ │ │           │ │ │ │ │   │ │                           │ │   │ │ │ │ │ │   │ │ │ │               │       │ │ │ │ │ │   │   └─■──nations_malawi_agenda_world_countries ── Topic: 177\n",
      "  │   │ │   │   │ │ │ │ │   │ │ │     │ │ │ │ │ │           │ │ │ │ │   │ │                           │ │   │ │ │ │ │ │   │ │ │ │               │       │ │ │ │ │ │   └─■──sudan_darfur_humanitarian_sudanese_peace ── Topic: 12\n",
      "  │   │ │   │   │ │ │ │ │   │ │ │     │ │ │ │ │ │           │ │ │ │ │   │ │                           │ │   │ │ │ │ │ │   │ │ │ │               │       │ │ │ │ │ └─the_of_to_and_in\n",
      "  │   │ │   │   │ │ │ │ │   │ │ │     │ │ │ │ │ │           │ │ │ │ │   │ │                           │ │   │ │ │ │ │ │   │ │ │ │               │       │ │ │ │ │   ├─■──jamaica_nations_caribbean_countries_peace ── Topic: 110\n",
      "  │   │ │   │   │ │ │ │ │   │ │ │     │ │ │ │ │ │           │ │ │ │ │   │ │                           │ │   │ │ │ │ │ │   │ │ │ │               │       │ │ │ │ │   └─the_to_and_of_in\n",
      "  │   │ │   │   │ │ │ │ │   │ │ │     │ │ │ │ │ │           │ │ │ │ │   │ │                           │ │   │ │ │ │ │ │   │ │ │ │               │       │ │ │ │ │     ├─■──barbados_antigua_haiti_caribbean_nations ── Topic: 56\n",
      "  │   │ │   │   │ │ │ │ │   │ │ │     │ │ │ │ │ │           │ │ │ │ │   │ │                           │ │   │ │ │ │ │ │   │ │ │ │               │       │ │ │ │ │     └─the_of_and_to_in\n",
      "  │   │ │   │   │ │ │ │ │   │ │ │     │ │ │ │ │ │           │ │ │ │ │   │ │                           │ │   │ │ │ │ │ │   │ │ │ │               │       │ │ │ │ │       ├─■──climate_haiti_bahamas_dominica_barbados ── Topic: 154\n",
      "  │   │ │   │   │ │ │ │ │   │ │ │     │ │ │ │ │ │           │ │ │ │ │   │ │                           │ │   │ │ │ │ │ │   │ │ │ │               │       │ │ │ │ │       └─of_the_and_in_to\n",
      "  │   │ │   │   │ │ │ │ │   │ │ │     │ │ │ │ │ │           │ │ │ │ │   │ │                           │ │   │ │ │ │ │ │   │ │ │ │               │       │ │ │ │ │         ├─■──dominica_nations_lucia_barbados_countries ── Topic: 107\n",
      "  │   │ │   │   │ │ │ │ │   │ │ │     │ │ │ │ │ │           │ │ │ │ │   │ │                           │ │   │ │ │ │ │ │   │ │ │ │               │       │ │ │ │ │         └─■──haiti_dominica_hurricane_grenada_caribbean ── Topic: 200\n",
      "  │   │ │   │   │ │ │ │ │   │ │ │     │ │ │ │ │ │           │ │ │ │ │   │ │                           │ │   │ │ │ │ │ │   │ │ │ │               │       │ │ │ │ └─the_of_and_to_in\n",
      "  │   │ │   │   │ │ │ │ │   │ │ │     │ │ │ │ │ │           │ │ │ │ │   │ │                           │ │   │ │ │ │ │ │   │ │ │ │               │       │ │ │ │   ├─the_of_and_to_in\n",
      "  │   │ │   │   │ │ │ │ │   │ │ │     │ │ │ │ │ │           │ │ │ │ │   │ │                           │ │   │ │ │ │ │ │   │ │ │ │               │       │ │ │ │   │ ├─the_of_and_to_in\n",
      "  │   │ │   │   │ │ │ │ │   │ │ │     │ │ │ │ │ │           │ │ │ │ │   │ │                           │ │   │ │ │ │ │ │   │ │ │ │               │       │ │ │ │   │ │ ├─the_of_and_to_in\n",
      "  │   │ │   │   │ │ │ │ │   │ │ │     │ │ │ │ │ │           │ │ │ │ │   │ │                           │ │   │ │ │ │ │ │   │ │ │ │               │       │ │ │ │   │ │ │ ├─the_of_in_and_to\n",
      "  │   │ │   │   │ │ │ │ │   │ │ │     │ │ │ │ │ │           │ │ │ │ │   │ │                           │ │   │ │ │ │ │ │   │ │ │ │               │       │ │ │ │   │ │ │ │ ├─■──treaty_disarmament_nations_zealand_countries ── Topic: 91\n",
      "  │   │ │   │   │ │ │ │ │   │ │ │     │ │ │ │ │ │           │ │ │ │ │   │ │                           │ │   │ │ │ │ │ │   │ │ │ │               │       │ │ │ │   │ │ │ │ └─■──treaty_nations_countries_australia_council ── Topic: 73\n",
      "  │   │ │   │   │ │ │ │ │   │ │ │     │ │ │ │ │ │           │ │ │ │ │   │ │                           │ │   │ │ │ │ │ │   │ │ │ │               │       │ │ │ │   │ │ │ └─of_the_to_be_in\n",
      "  │   │ │   │   │ │ │ │ │   │ │ │     │ │ │ │ │ │           │ │ │ │ │   │ │                           │ │   │ │ │ │ │ │   │ │ │ │               │       │ │ │ │   │ │ │   ├─■──nations_countries_peace_negotiations_netherlands ── Topic: 192\n",
      "  │   │ │   │   │ │ │ │ │   │ │ │     │ │ │ │ │ │           │ │ │ │ │   │ │                           │ │   │ │ │ │ │ │   │ │ │ │               │       │ │ │ │   │ │ │   └─the_of_and_in_is\n",
      "  │   │ │   │   │ │ │ │ │   │ │ │     │ │ │ │ │ │           │ │ │ │ │   │ │                           │ │   │ │ │ │ │ │   │ │ │ │               │       │ │ │ │   │ │ │     ├─■──myanmar_burma_peaceful_disarmament_burmese ── Topic: 40\n",
      "  │   │ │   │   │ │ │ │ │   │ │ │     │ │ │ │ │ │           │ │ │ │ │   │ │                           │ │   │ │ │ │ │ │   │ │ │ │               │       │ │ │ │   │ │ │     └─the_to_of_and_in\n",
      "  │   │ │   │   │ │ │ │ │   │ │ │     │ │ │ │ │ │           │ │ │ │ │   │ │                           │ │   │ │ │ │ │ │   │ │ │ │               │       │ │ │ │   │ │ │       ├─■──ethiopia_eritrea_somalia_africa_nations ── Topic: 94\n",
      "  │   │ │   │   │ │ │ │ │   │ │ │     │ │ │ │ │ │           │ │ │ │ │   │ │                           │ │   │ │ │ │ │ │   │ │ │ │               │       │ │ │ │   │ │ │       └─the_of_to_and_in\n",
      "  │   │ │   │   │ │ │ │ │   │ │ │     │ │ │ │ │ │           │ │ │ │ │   │ │                           │ │   │ │ │ │ │ │   │ │ │ │               │       │ │ │ │   │ │ │         ├─■──liberia_liberians_liberian_africa_nations ── Topic: 32\n",
      "  │   │ │   │   │ │ │ │ │   │ │ │     │ │ │ │ │ │           │ │ │ │ │   │ │                           │ │   │ │ │ │ │ │   │ │ │ │               │       │ │ │ │   │ │ │         └─the_of_to_in_and\n",
      "  │   │ │   │   │ │ │ │ │   │ │ │     │ │ │ │ │ │           │ │ │ │ │   │ │                           │ │   │ │ │ │ │ │   │ │ │ │               │       │ │ │ │   │ │ │           ├─the_of_to_and_in\n",
      "  │   │ │   │   │ │ │ │ │   │ │ │     │ │ │ │ │ │           │ │ │ │ │   │ │                           │ │   │ │ │ │ │ │   │ │ │ │               │       │ │ │ │   │ │ │           │ ├─■──togo_togolese_nations_democracy_africa ── Topic: 116\n",
      "  │   │ │   │   │ │ │ │ │   │ │ │     │ │ │ │ │ │           │ │ │ │ │   │ │                           │ │   │ │ │ │ │ │   │ │ │ │               │       │ │ │ │   │ │ │           │ └─the_of_to_and_in\n",
      "  │   │ │   │   │ │ │ │ │   │ │ │     │ │ │ │ │ │           │ │ │ │ │   │ │                           │ │   │ │ │ │ │ │   │ │ │ │               │       │ │ │ │   │ │ │           │   ├─the_and_of_in_to\n",
      "  │   │ │   │   │ │ │ │ │   │ │ │     │ │ │ │ │ │           │ │ │ │ │   │ │                           │ │   │ │ │ │ │ │   │ │ │ │               │       │ │ │ │   │ │ │           │   │ ├─■──guinea_guinean_nations_africa_colonialism ── Topic: 85\n",
      "  │   │ │   │   │ │ │ │ │   │ │ │     │ │ │ │ │ │           │ │ │ │ │   │ │                           │ │   │ │ │ │ │ │   │ │ │ │               │       │ │ │ │   │ │ │           │   │ └─of_the_to_in_and\n",
      "  │   │ │   │   │ │ │ │ │   │ │ │     │ │ │ │ │ │           │ │ │ │ │   │ │                           │ │   │ │ │ │ │ │   │ │ │ │               │       │ │ │ │   │ │ │           │   │   ├─■──congo_congolese_angola_disarmament_africa ── Topic: 65\n",
      "  │   │ │   │   │ │ │ │ │   │ │ │     │ │ │ │ │ │           │ │ │ │ │   │ │                           │ │   │ │ │ │ │ │   │ │ │ │               │       │ │ │ │   │ │ │           │   │   └─of_the_and_to_in\n",
      "  │   │ │   │   │ │ │ │ │   │ │ │     │ │ │ │ │ │           │ │ │ │ │   │ │                           │ │   │ │ │ │ │ │   │ │ │ │               │       │ │ │ │   │ │ │           │   │     ├─■──cameroon_cameroons_nations_africa_delegation ── Topic: 164\n",
      "  │   │ │   │   │ │ │ │ │   │ │ │     │ │ │ │ │ │           │ │ │ │ │   │ │                           │ │   │ │ │ │ │ │   │ │ │ │               │       │ │ │ │   │ │ │           │   │     └─the_of_and_in_to\n",
      "  │   │ │   │   │ │ │ │ │   │ │ │     │ │ │ │ │ │           │ │ │ │ │   │ │                           │ │   │ │ │ │ │ │   │ │ │ │               │       │ │ │ │   │ │ │           │   │       ├─the_of_and_in_to\n",
      "  │   │ │   │   │ │ │ │ │   │ │ │     │ │ │ │ │ │           │ │ │ │ │   │ │                           │ │   │ │ │ │ │ │   │ │ │ │               │       │ │ │ │   │ │ │           │   │       │ ├─■──congo_nations_algerian_africa_hammarskjold ── Topic: 185\n",
      "  │   │ │   │   │ │ │ │ │   │ │ │     │ │ │ │ │ │           │ │ │ │ │   │ │                           │ │   │ │ │ │ │ │   │ │ │ │               │       │ │ │ │   │ │ │           │   │       │ └─■──disarmament_ceylon_nations_malaya_delegation ── Topic: 189\n",
      "  │   │ │   │   │ │ │ │ │   │ │ │     │ │ │ │ │ │           │ │ │ │ │   │ │                           │ │   │ │ │ │ │ │   │ │ │ │               │       │ │ │ │   │ │ │           │   │       └─the_of_to_and_in\n",
      "  │   │ │   │   │ │ │ │ │   │ │ │     │ │ │ │ │ │           │ │ │ │ │   │ │                           │ │   │ │ │ │ │ │   │ │ │ │               │       │ │ │ │   │ │ │           │   │         ├─■──disarmament_peaceful_nations_countries_palestine ── Topic: 188\n",
      "  │   │ │   │   │ │ │ │ │   │ │ │     │ │ │ │ │ │           │ │ │ │ │   │ │                           │ │   │ │ │ │ │ │   │ │ │ │               │       │ │ │ │   │ │ │           │   │         └─the_of_to_and_is\n",
      "  │   │ │   │   │ │ │ │ │   │ │ │     │ │ │ │ │ │           │ │ │ │ │   │ │                           │ │   │ │ │ │ │ │   │ │ │ │               │       │ │ │ │   │ │ │           │   │           ├─■──italy_disarmament_nations_italian_countries ── Topic: 70\n",
      "  │   │ │   │   │ │ │ │ │   │ │ │     │ │ │ │ │ │           │ │ │ │ │   │ │                           │ │   │ │ │ │ │ │   │ │ │ │               │       │ │ │ │   │ │ │           │   │           └─the_of_and_in_to\n",
      "  │   │ │   │   │ │ │ │ │   │ │ │     │ │ │ │ │ │           │ │ │ │ │   │ │                           │ │   │ │ │ │ │ │   │ │ │ │               │       │ │ │ │   │ │ │           │   │             ├─■──disarmament_nations_denmark_iceland_nation ── Topic: 92\n",
      "  │   │ │   │   │ │ │ │ │   │ │ │     │ │ │ │ │ │           │ │ │ │ │   │ │                           │ │   │ │ │ │ │ │   │ │ │ │               │       │ │ │ │   │ │ │           │   │             └─climate_norway_sustainable_our_we\n",
      "  │   │ │   │   │ │ │ │ │   │ │ │     │ │ │ │ │ │           │ │ │ │ │   │ │                           │ │   │ │ │ │ │ │   │ │ │ │               │       │ │ │ │   │ │ │           │   │               ├─climate_norway_sustainable_our_we\n",
      "  │   │ │   │   │ │ │ │ │   │ │ │     │ │ │ │ │ │           │ │ │ │ │   │ │                           │ │   │ │ │ │ │ │   │ │ │ │               │       │ │ │ │   │ │ │           │   │               │ ├─■──peaceful_disarmament_nations_countries_peace ── Topic: 193\n",
      "  │   │ │   │   │ │ │ │ │   │ │ │     │ │ │ │ │ │           │ │ │ │ │   │ │                           │ │   │ │ │ │ │ │   │ │ │ │               │       │ │ │ │   │ │ │           │   │               │ └─the_to_and_of_in\n",
      "  │   │ │   │   │ │ │ │ │   │ │ │     │ │ │ │ │ │           │ │ │ │ │   │ │                           │ │   │ │ │ │ │ │   │ │ │ │               │       │ │ │ │   │ │ │           │   │               │   ├─■──disarmament_peaceful_war_nations_hungary ── Topic: 31\n",
      "  │   │ │   │   │ │ │ │ │   │ │ │     │ │ │ │ │ │           │ │ │ │ │   │ │                           │ │   │ │ │ │ │ │   │ │ │ │               │       │ │ │ │   │ │ │           │   │               │   └─the_of_to_in_and\n",
      "  │   │ │   │   │ │ │ │ │   │ │ │     │ │ │ │ │ │           │ │ │ │ │   │ │                           │ │   │ │ │ │ │ │   │ │ │ │               │       │ │ │ │   │ │ │           │   │               │     ├─■──treaty_disarmament_peaceful_czechoslovakia_nations ── Topic: 80\n",
      "  │   │ │   │   │ │ │ │ │   │ │ │     │ │ │ │ │ │           │ │ │ │ │   │ │                           │ │   │ │ │ │ │ │   │ │ │ │               │       │ │ │ │   │ │ │           │   │               │     └─the_of_to_and_in\n",
      "  │   │ │   │   │ │ │ │ │   │ │ │     │ │ │ │ │ │           │ │ │ │ │   │ │                           │ │   │ │ │ │ │ │   │ │ │ │               │       │ │ │ │   │ │ │           │   │               │       ├─■──poland_disarmament_polish_nations_peaceful ── Topic: 43\n",
      "  │   │ │   │   │ │ │ │ │   │ │ │     │ │ │ │ │ │           │ │ │ │ │   │ │                           │ │   │ │ │ │ │ │   │ │ │ │               │       │ │ │ │   │ │ │           │   │               │       └─■──disarmament_treaty_peaceful_nations_peace ── Topic: 129\n",
      "  │   │ │   │   │ │ │ │ │   │ │ │     │ │ │ │ │ │           │ │ │ │ │   │ │                           │ │   │ │ │ │ │ │   │ │ │ │               │       │ │ │ │   │ │ │           │   │               └─the_of_and_to_in\n",
      "  │   │ │   │   │ │ │ │ │   │ │ │     │ │ │ │ │ │           │ │ │ │ │   │ │                           │ │   │ │ │ │ │ │   │ │ │ │               │       │ │ │ │   │ │ │           │   │                 ├─the_of_to_and_in\n",
      "  │   │ │   │   │ │ │ │ │   │ │ │     │ │ │ │ │ │           │ │ │ │ │   │ │                           │ │   │ │ │ │ │ │   │ │ │ │               │       │ │ │ │   │ │ │           │   │                 │ ├─the_of_and_to_in\n",
      "  │   │ │   │   │ │ │ │ │   │ │ │     │ │ │ │ │ │           │ │ │ │ │   │ │                           │ │   │ │ │ │ │ │   │ │ │ │               │       │ │ │ │   │ │ │           │   │                 │ │ ├─the_of_to_and_in\n",
      "  │   │ │   │   │ │ │ │ │   │ │ │     │ │ │ │ │ │           │ │ │ │ │   │ │                           │ │   │ │ │ │ │ │   │ │ │ │               │       │ │ │ │   │ │ │           │   │                 │ │ │ ├─the_of_to_and_in\n",
      "  │   │ │   │   │ │ │ │ │   │ │ │     │ │ │ │ │ │           │ │ │ │ │   │ │                           │ │   │ │ │ │ │ │   │ │ │ │               │       │ │ │ │   │ │ │           │   │                 │ │ │ │ ├─the_of_and_to_in\n",
      "  │   │ │   │   │ │ │ │ │   │ │ │     │ │ │ │ │ │           │ │ │ │ │   │ │                           │ │   │ │ │ │ │ │   │ │ │ │               │       │ │ │ │   │ │ │           │   │                 │ │ │ │ │ ├─■──terrorism_terrorists_terrorist_terror_taliban ── Topic: 45\n",
      "  │   │ │   │   │ │ │ │ │   │ │ │     │ │ │ │ │ │           │ │ │ │ │   │ │                           │ │   │ │ │ │ │ │   │ │ │ │               │       │ │ │ │   │ │ │           │   │                 │ │ │ │ │ └─the_of_in_and_to\n",
      "  │   │ │   │   │ │ │ │ │   │ │ │     │ │ │ │ │ │           │ │ │ │ │   │ │                           │ │   │ │ │ │ │ │   │ │ │ │               │       │ │ │ │   │ │ │           │   │                 │ │ │ │ │   ├─the_of_in_and_to\n",
      "  │   │ │   │   │ │ │ │ │   │ │ │     │ │ │ │ │ │           │ │ │ │ │   │ │                           │ │   │ │ │ │ │ │   │ │ │ │               │       │ │ │ │   │ │ │           │   │                 │ │ │ │ │   │ ├─■──iraq_timor_terrorism_nations_countries ── Topic: 52\n",
      "  │   │ │   │   │ │ │ │ │   │ │ │     │ │ │ │ │ │           │ │ │ │ │   │ │                           │ │   │ │ │ │ │ │   │ │ │ │               │       │ │ │ │   │ │ │           │   │                 │ │ │ │ │   │ └─■──annan_terrorism_terrorist_terrorists_peace ── Topic: 4\n",
      "  │   │ │   │   │ │ │ │ │   │ │ │     │ │ │ │ │ │           │ │ │ │ │   │ │                           │ │   │ │ │ │ │ │   │ │ │ │               │       │ │ │ │   │ │ │           │   │                 │ │ │ │ │   └─the_of_and_to_in\n",
      "  │   │ │   │   │ │ │ │ │   │ │ │     │ │ │ │ │ │           │ │ │ │ │   │ │                           │ │   │ │ │ │ │ │   │ │ │ │               │       │ │ │ │   │ │ │           │   │                 │ │ │ │ │     ├─and_to_we_the_our\n",
      "  │   │ │   │   │ │ │ │ │   │ │ │     │ │ │ │ │ │           │ │ │ │ │   │ │                           │ │   │ │ │ │ │ │   │ │ │ │               │       │ │ │ │   │ │ │           │   │                 │ │ │ │ │     │ ├─and_to_we_the_that\n",
      "  │   │ │   │   │ │ │ │ │   │ │ │     │ │ │ │ │ │           │ │ │ │ │   │ │                           │ │   │ │ │ │ │ │   │ │ │ │               │       │ │ │ │   │ │ │           │   │                 │ │ │ │ │     │ │ ├─■──namibia_angola_ethiopia_nations_africa ── Topic: 24\n",
      "  │   │ │   │   │ │ │ │ │   │ │ │     │ │ │ │ │ │           │ │ │ │ │   │ │                           │ │   │ │ │ │ │ │   │ │ │ │               │       │ │ │ │   │ │ │           │   │                 │ │ │ │ │     │ │ └─to_and_the_that_of\n",
      "  │   │ │   │   │ │ │ │ │   │ │ │     │ │ │ │ │ │           │ │ │ │ │   │ │                           │ │   │ │ │ │ │ │   │ │ │ │               │       │ │ │ │   │ │ │           │   │                 │ │ │ │ │     │ │   ├─■──globalization_nations_reform_peace_world ── Topic: 9\n",
      "  │   │ │   │   │ │ │ │ │   │ │ │     │ │ │ │ │ │           │ │ │ │ │   │ │                           │ │   │ │ │ │ │ │   │ │ │ │               │       │ │ │ │   │ │ │           │   │                 │ │ │ │ │     │ │   └─■──peacekeeping_nations_globalization_peace_countries ── Topic: 13\n",
      "  │   │ │   │   │ │ │ │ │   │ │ │     │ │ │ │ │ │           │ │ │ │ │   │ │                           │ │   │ │ │ │ │ │   │ │ │ │               │       │ │ │ │   │ │ │           │   │                 │ │ │ │ │     │ └─■──nations_globalization_kosovo_countries_peace ── Topic: 134\n",
      "  │   │ │   │   │ │ │ │ │   │ │ │     │ │ │ │ │ │           │ │ │ │ │   │ │                           │ │   │ │ │ │ │ │   │ │ │ │               │       │ │ │ │   │ │ │           │   │                 │ │ │ │ │     └─of_the_to_and_in\n",
      "  │   │ │   │   │ │ │ │ │   │ │ │     │ │ │ │ │ │           │ │ │ │ │   │ │                           │ │   │ │ │ │ │ │   │ │ │ │               │       │ │ │ │   │ │ │           │   │                 │ │ │ │ │       ├─■──nations_terrorism_peace_countries_world ── Topic: 11\n",
      "  │   │ │   │   │ │ │ │ │   │ │ │     │ │ │ │ │ │           │ │ │ │ │   │ │                           │ │   │ │ │ │ │ │   │ │ │ │               │       │ │ │ │   │ │ │           │   │                 │ │ │ │ │       └─of_the_to_and_in\n",
      "  │   │ │   │   │ │ │ │ │   │ │ │     │ │ │ │ │ │           │ │ │ │ │   │ │                           │ │   │ │ │ │ │ │   │ │ │ │               │       │ │ │ │   │ │ │           │   │                 │ │ │ │ │         ├─■──climate_sustainable_nations_agenda_environment ── Topic: 7\n",
      "  │   │ │   │   │ │ │ │ │   │ │ │     │ │ │ │ │ │           │ │ │ │ │   │ │                           │ │   │ │ │ │ │ │   │ │ │ │               │       │ │ │ │   │ │ │           │   │                 │ │ │ │ │         └─■──poverty_africa_nations_agenda_countries ── Topic: 2\n",
      "  │   │ │   │   │ │ │ │ │   │ │ │     │ │ │ │ │ │           │ │ │ │ │   │ │                           │ │   │ │ │ │ │ │   │ │ │ │               │       │ │ │ │   │ │ │           │   │                 │ │ │ │ └─the_of_to_and_in\n",
      "  │   │ │   │   │ │ │ │ │   │ │ │     │ │ │ │ │ │           │ │ │ │ │   │ │                           │ │   │ │ │ │ │ │   │ │ │ │               │       │ │ │ │   │ │ │           │   │                 │ │ │ │   ├─■──portugal_angola_nations_timor_portuguese ── Topic: 23\n",
      "  │   │ │   │   │ │ │ │ │   │ │ │     │ │ │ │ │ │           │ │ │ │ │   │ │                           │ │   │ │ │ │ │ │   │ │ │ │               │       │ │ │ │   │ │ │           │   │                 │ │ │ │   └─the_of_to_and_in\n",
      "  │   │ │   │   │ │ │ │ │   │ │ │     │ │ │ │ │ │           │ │ │ │ │   │ │                           │ │   │ │ │ │ │ │   │ │ │ │               │       │ │ │ │   │ │ │           │   │                 │ │ │ │     ├─■──disarmament_bulgaria_balkans_nations_countries ── Topic: 19\n",
      "  │   │ │   │   │ │ │ │ │   │ │ │     │ │ │ │ │ │           │ │ │ │ │   │ │                           │ │   │ │ │ │ │ │   │ │ │ │               │       │ │ │ │   │ │ │           │   │                 │ │ │ │     └─the_of_to_and_in\n",
      "  │   │ │   │   │ │ │ │ │   │ │ │     │ │ │ │ │ │           │ │ │ │ │   │ │                           │ │   │ │ │ │ │ │   │ │ │ │               │       │ │ │ │   │ │ │           │   │                 │ │ │ │       ├─the_of_and_to_in\n",
      "  │   │ │   │   │ │ │ │ │   │ │ │     │ │ │ │ │ │           │ │ │ │ │   │ │                           │ │   │ │ │ │ │ │   │ │ │ │               │       │ │ │ │   │ │ │           │   │                 │ │ │ │       │ ├─■──peaceful_peace_nations_afghanistan_lebanon ── Topic: 174\n",
      "  │   │ │   │   │ │ │ │ │   │ │ │     │ │ │ │ │ │           │ │ │ │ │   │ │                           │ │   │ │ │ │ │ │   │ │ │ │               │       │ │ │ │   │ │ │           │   │                 │ │ │ │       │ └─the_and_of_to_in\n",
      "  │   │ │   │   │ │ │ │ │   │ │ │     │ │ │ │ │ │           │ │ │ │ │   │ │                           │ │   │ │ │ │ │ │   │ │ │ │               │       │ │ │ │   │ │ │           │   │                 │ │ │ │       │   ├─■──nations_countries_europe_peace_belgium ── Topic: 22\n",
      "  │   │ │   │   │ │ │ │ │   │ │ │     │ │ │ │ │ │           │ │ │ │ │   │ │                           │ │   │ │ │ │ │ │   │ │ │ │               │       │ │ │ │   │ │ │           │   │                 │ │ │ │       │   └─sustainable_70_and_development_our\n",
      "  │   │ │   │   │ │ │ │ │   │ │ │     │ │ │ │ │ │           │ │ │ │ │   │ │                           │ │   │ │ │ │ │ │   │ │ │ │               │       │ │ │ │   │ │ │           │   │                 │ │ │ │       │     ├─and_the_to_of_in\n",
      "  │   │ │   │   │ │ │ │ │   │ │ │     │ │ │ │ │ │           │ │ │ │ │   │ │                           │ │   │ │ │ │ │ │   │ │ │ │               │       │ │ │ │   │ │ │           │   │                 │ │ │ │       │     │ ├─■──nations_countries_democracy_peace_korea ── Topic: 62\n",
      "  │   │ │   │   │ │ │ │ │   │ │ │     │ │ │ │ │ │           │ │ │ │ │   │ │                           │ │   │ │ │ │ │ │   │ │ │ │               │       │ │ │ │   │ │ │           │   │                 │ │ │ │       │     │ └─■──liechtenstein_namibia_peaceful_nations_kuwait ── Topic: 114\n",
      "  │   │ │   │   │ │ │ │ │   │ │ │     │ │ │ │ │ │           │ │ │ │ │   │ │                           │ │   │ │ │ │ │ │   │ │ │ │               │       │ │ │ │   │ │ │           │   │                 │ │ │ │       │     └─■──liechtenstein_nations_kuwait_countries_iraq ── Topic: 145\n",
      "  │   │ │   │   │ │ │ │ │   │ │ │     │ │ │ │ │ │           │ │ │ │ │   │ │                           │ │   │ │ │ │ │ │   │ │ │ │               │       │ │ │ │   │ │ │           │   │                 │ │ │ │       └─of_the_in_is_that\n",
      "  │   │ │   │   │ │ │ │ │   │ │ │     │ │ │ │ │ │           │ │ │ │ │   │ │                           │ │   │ │ │ │ │ │   │ │ │ │               │       │ │ │ │   │ │ │           │   │                 │ │ │ │         ├─■──guyana_nations_venezuela_countries_general ── Topic: 54\n",
      "  │   │ │   │   │ │ │ │ │   │ │ │     │ │ │ │ │ │           │ │ │ │ │   │ │                           │ │   │ │ │ │ │ │   │ │ │ │               │       │ │ │ │   │ │ │           │   │                 │ │ │ │         └─the_in_and_to_of\n",
      "  │   │ │   │   │ │ │ │ │   │ │ │     │ │ │ │ │ │           │ │ │ │ │   │ │                           │ │   │ │ │ │ │ │   │ │ │ │               │       │ │ │ │   │ │ │           │   │                 │ │ │ │           ├─■──nations_india_countries_peace_indian ── Topic: 96\n",
      "  │   │ │   │   │ │ │ │ │   │ │ │     │ │ │ │ │ │           │ │ │ │ │   │ │                           │ │   │ │ │ │ │ │   │ │ │ │               │       │ │ │ │   │ │ │           │   │                 │ │ │ │           └─the_of_to_and_in\n",
      "  │   │ │   │   │ │ │ │ │   │ │ │     │ │ │ │ │ │           │ │ │ │ │   │ │                           │ │   │ │ │ │ │ │   │ │ │ │               │       │ │ │ │   │ │ │           │   │                 │ │ │ │             ├─■──indonesia_asean_indonesian_nations_peace ── Topic: 51\n",
      "  │   │ │   │   │ │ │ │ │   │ │ │     │ │ │ │ │ │           │ │ │ │ │   │ │                           │ │   │ │ │ │ │ │   │ │ │ │               │       │ │ │ │   │ │ │           │   │                 │ │ │ │             └─of_which_the_in_to\n",
      "  │   │ │   │   │ │ │ │ │   │ │ │     │ │ │ │ │ │           │ │ │ │ │   │ │                           │ │   │ │ │ │ │ │   │ │ │ │               │       │ │ │ │   │ │ │           │   │                 │ │ │ │               ├─■──treaty_swaziland_nations_rhodesia_countries ── Topic: 171\n",
      "  │   │ │   │   │ │ │ │ │   │ │ │     │ │ │ │ │ │           │ │ │ │ │   │ │                           │ │   │ │ │ │ │ │   │ │ │ │               │       │ │ │ │   │ │ │           │   │                 │ │ │ │               └─the_of_to_and_in\n",
      "  │   │ │   │   │ │ │ │ │   │ │ │     │ │ │ │ │ │           │ │ │ │ │   │ │                           │ │   │ │ │ │ │ │   │ │ │ │               │       │ │ │ │   │ │ │           │   │                 │ │ │ │                 ├─the_of_to_and_in\n",
      "  │   │ │   │   │ │ │ │ │   │ │ │     │ │ │ │ │ │           │ │ │ │ │   │ │                           │ │   │ │ │ │ │ │   │ │ │ │               │       │ │ │ │   │ │ │           │   │                 │ │ │ │                 │ ├─the_of_to_and_in\n",
      "  │   │ │   │   │ │ │ │ │   │ │ │     │ │ │ │ │ │           │ │ │ │ │   │ │                           │ │   │ │ │ │ │ │   │ │ │ │               │       │ │ │ │   │ │ │           │   │                 │ │ │ │                 │ │ ├─the_of_to_and_in\n",
      "  │   │ │   │   │ │ │ │ │   │ │ │     │ │ │ │ │ │           │ │ │ │ │   │ │                           │ │   │ │ │ │ │ │   │ │ │ │               │       │ │ │ │   │ │ │           │   │                 │ │ │ │                 │ │ │ ├─■──niger_nigeria_nigerian_nations_africa ── Topic: 105\n",
      "  │   │ │   │   │ │ │ │ │   │ │ │     │ │ │ │ │ │           │ │ │ │ │   │ │                           │ │   │ │ │ │ │ │   │ │ │ │               │       │ │ │ │   │ │ │           │   │                 │ │ │ │                 │ │ │ └─the_to_of_and_in\n",
      "  │   │ │   │   │ │ │ │ │   │ │ │     │ │ │ │ │ │           │ │ │ │ │   │ │                           │ │   │ │ │ │ │ │   │ │ │ │               │       │ │ │ │   │ │ │           │   │                 │ │ │ │                 │ │ │   ├─■──apartheid_nations_africa_agenda_delegation ── Topic: 21\n",
      "  │   │ │   │   │ │ │ │ │   │ │ │     │ │ │ │ │ │           │ │ │ │ │   │ │                           │ │   │ │ │ │ │ │   │ │ │ │               │       │ │ │ │   │ │ │           │   │                 │ │ │ │                 │ │ │   └─the_of_to_and_in\n",
      "  │   │ │   │   │ │ │ │ │   │ │ │     │ │ │ │ │ │           │ │ │ │ │   │ │                           │ │   │ │ │ │ │ │   │ │ │ │               │       │ │ │ │   │ │ │           │   │                 │ │ │ │                 │ │ │     ├─■──peaceful_nations_peace_negotiations_countries ── Topic: 181\n",
      "  │   │ │   │   │ │ │ │ │   │ │ │     │ │ │ │ │ │           │ │ │ │ │   │ │                           │ │   │ │ │ │ │ │   │ │ │ │               │       │ │ │ │   │ │ │           │   │                 │ │ │ │                 │ │ │     └─the_of_to_and_in\n",
      "  │   │ │   │   │ │ │ │ │   │ │ │     │ │ │ │ │ │           │ │ │ │ │   │ │                           │ │   │ │ │ │ │ │   │ │ │ │               │       │ │ │ │   │ │ │           │   │                 │ │ │ │                 │ │ │       ├─and_to_we_the_in\n",
      "  │   │ │   │   │ │ │ │ │   │ │ │     │ │ │ │ │ │           │ │ │ │ │   │ │                           │ │   │ │ │ │ │ │   │ │ │ │               │       │ │ │ │   │ │ │           │   │                 │ │ │ │                 │ │ │       │ ├─■──nations_mexico_countries_peace_war ── Topic: 8\n",
      "  │   │ │   │   │ │ │ │ │   │ │ │     │ │ │ │ │ │           │ │ │ │ │   │ │                           │ │   │ │ │ │ │ │   │ │ │ │               │       │ │ │ │   │ │ │           │   │                 │ │ │ │                 │ │ │       │ └─■──disarmament_peaceful_peace_nations_afghanistan ── Topic: 69\n",
      "  │   │ │   │   │ │ │ │ │   │ │ │     │ │ │ │ │ │           │ │ │ │ │   │ │                           │ │   │ │ │ │ │ │   │ │ │ │               │       │ │ │ │   │ │ │           │   │                 │ │ │ │                 │ │ │       └─the_of_to_in_and\n",
      "  │   │ │   │   │ │ │ │ │   │ │ │     │ │ │ │ │ │           │ │ │ │ │   │ │                           │ │   │ │ │ │ │ │   │ │ │ │               │       │ │ │ │   │ │ │           │   │                 │ │ │ │                 │ │ │         ├─the_to_nations_and_united\n",
      "  │   │ │   │   │ │ │ │ │   │ │ │     │ │ │ │ │ │           │ │ │ │ │   │ │                           │ │   │ │ │ │ │ │   │ │ │ │               │       │ │ │ │   │ │ │           │   │                 │ │ │ │                 │ │ │         │ ├─the_of_to_in_and\n",
      "  │   │ │   │   │ │ │ │ │   │ │ │     │ │ │ │ │ │           │ │ │ │ │   │ │                           │ │   │ │ │ │ │ │   │ │ │ │               │       │ │ │ │   │ │ │           │   │                 │ │ │ │                 │ │ │         │ │ ├─the_of_to_in_and\n",
      "  │   │ │   │   │ │ │ │ │   │ │ │     │ │ │ │ │ │           │ │ │ │ │   │ │                           │ │   │ │ │ │ │ │   │ │ │ │               │       │ │ │ │   │ │ │           │   │                 │ │ │ │                 │ │ │         │ │ │ ├─■──vanuatu_nations_namibia_secretarygeneral_countries ── Topic: 83\n",
      "  │   │ │   │   │ │ │ │ │   │ │ │     │ │ │ │ │ │           │ │ │ │ │   │ │                           │ │   │ │ │ │ │ │   │ │ │ │               │       │ │ │ │   │ │ │           │   │                 │ │ │ │                 │ │ │         │ │ │ └─■──zimbabwe_nations_namibia_africa_regime ── Topic: 17\n",
      "  │   │ │   │   │ │ │ │ │   │ │ │     │ │ │ │ │ │           │ │ │ │ │   │ │                           │ │   │ │ │ │ │ │   │ │ │ │               │       │ │ │ │   │ │ │           │   │                 │ │ │ │                 │ │ │         │ │ └─■──brunei_namibia_nations_africa_countries ── Topic: 16\n",
      "  │   │ │   │   │ │ │ │ │   │ │ │     │ │ │ │ │ │           │ │ │ │ │   │ │                           │ │   │ │ │ │ │ │   │ │ │ │               │       │ │ │ │   │ │ │           │   │                 │ │ │ │                 │ │ │         │ └─the_of_to_in_and\n",
      "  │   │ │   │   │ │ │ │ │   │ │ │     │ │ │ │ │ │           │ │ │ │ │   │ │                           │ │   │ │ │ │ │ │   │ │ │ │               │       │ │ │ │   │ │ │           │   │                 │ │ │ │                 │ │ │         │   ├─the_of_to_in_and\n",
      "  │   │ │   │   │ │ │ │ │   │ │ │     │ │ │ │ │ │           │ │ │ │ │   │ │                           │ │   │ │ │ │ │ │   │ │ │ │               │       │ │ │ │   │ │ │           │   │                 │ │ │ │                 │ │ │         │   │ ├─■──yugoslavia_disarmament_nations_countries_detente ── Topic: 97\n",
      "  │   │ │   │   │ │ │ │ │   │ │ │     │ │ │ │ │ │           │ │ │ │ │   │ │                           │ │   │ │ │ │ │ │   │ │ │ │               │       │ │ │ │   │ │ │           │   │                 │ │ │ │                 │ │ │         │   │ └─■──algeria_nations_africa_countries_general ── Topic: 3\n",
      "  │   │ │   │   │ │ │ │ │   │ │ │     │ │ │ │ │ │           │ │ │ │ │   │ │                           │ │   │ │ │ │ │ │   │ │ │ │               │       │ │ │ │   │ │ │           │   │                 │ │ │ │                 │ │ │         │   └─■──zimbabwe_africa_disarmament_nations_countries ── Topic: 138\n",
      "  │   │ │   │   │ │ │ │ │   │ │ │     │ │ │ │ │ │           │ │ │ │ │   │ │                           │ │   │ │ │ │ │ │   │ │ │ │               │       │ │ │ │   │ │ │           │   │                 │ │ │ │                 │ │ │         └─■──seychelles_zimbabwe_nations_namibia_regime ── Topic: 88\n",
      "  │   │ │   │   │ │ │ │ │   │ │ │     │ │ │ │ │ │           │ │ │ │ │   │ │                           │ │   │ │ │ │ │ │   │ │ │ │               │       │ │ │ │   │ │ │           │   │                 │ │ │ │                 │ │ └─■──ghana_rhodesia_disarmament_nations_africa ── Topic: 38\n",
      "  │   │ │   │   │ │ │ │ │   │ │ │     │ │ │ │ │ │           │ │ │ │ │   │ │                           │ │   │ │ │ │ │ │   │ │ │ │               │       │ │ │ │   │ │ │           │   │                 │ │ │ │                 │ └─■──rhodesia_nigeria_africa_nations_delegation ── Topic: 140\n",
      "  │   │ │   │   │ │ │ │ │   │ │ │     │ │ │ │ │ │           │ │ │ │ │   │ │                           │ │   │ │ │ │ │ │   │ │ │ │               │       │ │ │ │   │ │ │           │   │                 │ │ │ │                 └─of_the_to_and_in\n",
      "  │   │ │   │   │ │ │ │ │   │ │ │     │ │ │ │ │ │           │ │ │ │ │   │ │                           │ │   │ │ │ │ │ │   │ │ │ │               │       │ │ │ │   │ │ │           │   │                 │ │ │ │                   ├─of_the_to_and_in\n",
      "  │   │ │   │   │ │ │ │ │   │ │ │     │ │ │ │ │ │           │ │ │ │ │   │ │                           │ │   │ │ │ │ │ │   │ │ │ │               │       │ │ │ │   │ │ │           │   │                 │ │ │ │                   │ ├─■──nations_peace_war_delegation_countries ── Topic: 168\n",
      "  │   │ │   │   │ │ │ │ │   │ │ │     │ │ │ │ │ │           │ │ │ │ │   │ │                           │ │   │ │ │ │ │ │   │ │ │ │               │       │ │ │ │   │ │ │           │   │                 │ │ │ │                   │ └─and_of_the_to_in\n",
      "  │   │ │   │   │ │ │ │ │   │ │ │     │ │ │ │ │ │           │ │ │ │ │   │ │                           │ │   │ │ │ │ │ │   │ │ │ │               │       │ │ │ │   │ │ │           │   │                 │ │ │ │                   │   ├─of_the_to_and_in\n",
      "  │   │ │   │   │ │ │ │ │   │ │ │     │ │ │ │ │ │           │ │ │ │ │   │ │                           │ │   │ │ │ │ │ │   │ │ │ │               │       │ │ │ │   │ │ │           │   │                 │ │ │ │                   │   │ ├─■──malaya_disarmament_nations_malaysia_peace ── Topic: 34\n",
      "  │   │ │   │   │ │ │ │ │   │ │ │     │ │ │ │ │ │           │ │ │ │ │   │ │                           │ │   │ │ │ │ │ │   │ │ │ │               │       │ │ │ │   │ │ │           │   │                 │ │ │ │                   │   │ └─■──nations_countries_peace_government_world ── Topic: 100\n",
      "  │   │ │   │   │ │ │ │ │   │ │ │     │ │ │ │ │ │           │ │ │ │ │   │ │                           │ │   │ │ │ │ │ │   │ │ │ │               │       │ │ │ │   │ │ │           │   │                 │ │ │ │                   │   └─the_of_and_to_in\n",
      "  │   │ │   │   │ │ │ │ │   │ │ │     │ │ │ │ │ │           │ │ │ │ │   │ │                           │ │   │ │ │ │ │ │   │ │ │ │               │       │ │ │ │   │ │ │           │   │                 │ │ │ │                   │     ├─■──treaty_nations_peace_war_countries ── Topic: 60\n",
      "  │   │ │   │   │ │ │ │ │   │ │ │     │ │ │ │ │ │           │ │ │ │ │   │ │                           │ │   │ │ │ │ │ │   │ │ │ │               │       │ │ │ │   │ │ │           │   │                 │ │ │ │                   │     └─■──war_peace_nations_economic_political ── Topic: 122\n",
      "  │   │ │   │   │ │ │ │ │   │ │ │     │ │ │ │ │ │           │ │ │ │ │   │ │                           │ │   │ │ │ │ │ │   │ │ │ │               │       │ │ │ │   │ │ │           │   │                 │ │ │ │                   └─of_the_to_in_and\n",
      "  │   │ │   │   │ │ │ │ │   │ │ │     │ │ │ │ │ │           │ │ │ │ │   │ │                           │ │   │ │ │ │ │ │   │ │ │ │               │       │ │ │ │   │ │ │           │   │                 │ │ │ │                     ├─of_the_to_and_in\n",
      "  │   │ │   │   │ │ │ │ │   │ │ │     │ │ │ │ │ │           │ │ │ │ │   │ │                           │ │   │ │ │ │ │ │   │ │ │ │               │       │ │ │ │   │ │ │           │   │                 │ │ │ │                     │ ├─■──disarmament_treaty_peaceful_nations_war ── Topic: 1\n",
      "  │   │ │   │   │ │ │ │ │   │ │ │     │ │ │ │ │ │           │ │ │ │ │   │ │                           │ │   │ │ │ │ │ │   │ │ │ │               │       │ │ │ │   │ │ │           │   │                 │ │ │ │                     │ └─■──nations_war_ussr_peace_countries ── Topic: 5\n",
      "  │   │ │   │   │ │ │ │ │   │ │ │     │ │ │ │ │ │           │ │ │ │ │   │ │                           │ │   │ │ │ │ │ │   │ │ │ │               │       │ │ │ │   │ │ │           │   │                 │ │ │ │                     └─■──war_armistice_korea_nations_ussr ── Topic: 101\n",
      "  │   │ │   │   │ │ │ │ │   │ │ │     │ │ │ │ │ │           │ │ │ │ │   │ │                           │ │   │ │ │ │ │ │   │ │ │ │               │       │ │ │ │   │ │ │           │   │                 │ │ │ └─■──bangladesh_nations_namibia_countries_peace ── Topic: 15\n",
      "  │   │ │   │   │ │ │ │ │   │ │ │     │ │ │ │ │ │           │ │ │ │ │   │ │                           │ │   │ │ │ │ │ │   │ │ │ │               │       │ │ │ │   │ │ │           │   │                 │ │ └─■──tanzania_africa_rhodesia_apartheid_president ── Topic: 115\n",
      "  │   │ │   │   │ │ │ │ │   │ │ │     │ │ │ │ │ │           │ │ │ │ │   │ │                           │ │   │ │ │ │ │ │   │ │ │ │               │       │ │ │ │   │ │ │           │   │                 │ └─■──tunisia_tunisian_maghreb_nations_president ── Topic: 37\n",
      "  │   │ │   │   │ │ │ │ │   │ │ │     │ │ │ │ │ │           │ │ │ │ │   │ │                           │ │   │ │ │ │ │ │   │ │ │ │               │       │ │ │ │   │ │ │           │   │                 └─the_to_and_of_in\n",
      "  │   │ │   │   │ │ │ │ │   │ │ │     │ │ │ │ │ │           │ │ │ │ │   │ │                           │ │   │ │ │ │ │ │   │ │ │ │               │       │ │ │ │   │ │ │           │   │                   ├─■──syria_syrian_israel_nations_arab ── Topic: 137\n",
      "  │   │ │   │   │ │ │ │ │   │ │ │     │ │ │ │ │ │           │ │ │ │ │   │ │                           │ │   │ │ │ │ │ │   │ │ │ │               │       │ │ │ │   │ │ │           │   │                   └─■──palestine_palestinians_palestinian_gaza_israel ── Topic: 6\n",
      "  │   │ │   │   │ │ │ │ │   │ │ │     │ │ │ │ │ │           │ │ │ │ │   │ │                           │ │   │ │ │ │ │ │   │ │ │ │               │       │ │ │ │   │ │ │           │   └─■──congo_africa_nations_president_countries ── Topic: 186\n",
      "  │   │ │   │   │ │ │ │ │   │ │ │     │ │ │ │ │ │           │ │ │ │ │   │ │                           │ │   │ │ │ │ │ │   │ │ │ │               │       │ │ │ │   │ │ │           └─■──gabon_gabonese_nations_africa_president ── Topic: 84\n",
      "  │   │ │   │   │ │ │ │ │   │ │ │     │ │ │ │ │ │           │ │ │ │ │   │ │                           │ │   │ │ │ │ │ │   │ │ │ │               │       │ │ │ │   │ │ └─■──nations_peace_war_france_council ── Topic: 126\n",
      "  │   │ │   │   │ │ │ │ │   │ │ │     │ │ │ │ │ │           │ │ │ │ │   │ │                           │ │   │ │ │ │ │ │   │ │ │ │               │       │ │ │ │   │ └─the_of_and_to_in\n",
      "  │   │ │   │   │ │ │ │ │   │ │ │     │ │ │ │ │ │           │ │ │ │ │   │ │                           │ │   │ │ │ │ │ │   │ │ │ │               │       │ │ │ │   │   ├─the_of_and_to_in\n",
      "  │   │ │   │   │ │ │ │ │   │ │ │     │ │ │ │ │ │           │ │ │ │ │   │ │                           │ │   │ │ │ │ │ │   │ │ │ │               │       │ │ │ │   │   │ ├─of_the_and_to_for\n",
      "  │   │ │   │   │ │ │ │ │   │ │ │     │ │ │ │ │ │           │ │ │ │ │   │ │                           │ │   │ │ │ │ │ │   │ │ │ │               │       │ │ │ │   │   │ │ ├─■──venezuela_bolivarian_venezuelan_nations_countries ── Topic: 30\n",
      "  │   │ │   │   │ │ │ │ │   │ │ │     │ │ │ │ │ │           │ │ │ │ │   │ │                           │ │   │ │ │ │ │ │   │ │ │ │               │       │ │ │ │   │   │ │ └─the_of_and_to_in\n",
      "  │   │ │   │   │ │ │ │ │   │ │ │     │ │ │ │ │ │           │ │ │ │ │   │ │                           │ │   │ │ │ │ │ │   │ │ │ │               │       │ │ │ │   │   │ │   ├─■──colombia_colombians_colombian_nations_countries ── Topic: 25\n",
      "  │   │ │   │   │ │ │ │ │   │ │ │     │ │ │ │ │ │           │ │ │ │ │   │ │                           │ │   │ │ │ │ │ │   │ │ │ │               │       │ │ │ │   │   │ │   └─the_of_and_to_in\n",
      "  │   │ │   │   │ │ │ │ │   │ │ │     │ │ │ │ │ │           │ │ │ │ │   │ │                           │ │   │ │ │ │ │ │   │ │ │ │               │       │ │ │ │   │   │ │     ├─of_the_to_and_in\n",
      "  │   │ │   │   │ │ │ │ │   │ │ │     │ │ │ │ │ │           │ │ │ │ │   │ │                           │ │   │ │ │ │ │ │   │ │ │ │               │       │ │ │ │   │   │ │     │ ├─of_the_to_and_in\n",
      "  │   │ │   │   │ │ │ │ │   │ │ │     │ │ │ │ │ │           │ │ │ │ │   │ │                           │ │   │ │ │ │ │ │   │ │ │ │               │       │ │ │ │   │   │ │     │ │ ├─■──uruguay_nations_uruguayan_countries_peace ── Topic: 72\n",
      "  │   │ │   │   │ │ │ │ │   │ │ │     │ │ │ │ │ │           │ │ │ │ │   │ │                           │ │   │ │ │ │ │ │   │ │ │ │               │       │ │ │ │   │   │ │     │ │ └─the_of_and_to_in\n",
      "  │   │ │   │   │ │ │ │ │   │ │ │     │ │ │ │ │ │           │ │ │ │ │   │ │                           │ │   │ │ │ │ │ │   │ │ │ │               │       │ │ │ │   │   │ │     │ │   ├─■──argentina_argentine_nations_sovereignty_countries ── Topic: 57\n",
      "  │   │ │   │   │ │ │ │ │   │ │ │     │ │ │ │ │ │           │ │ │ │ │   │ │                           │ │   │ │ │ │ │ │   │ │ │ │               │       │ │ │ │   │   │ │     │ │   └─■──chile_chilean_nations_countries_government ── Topic: 53\n",
      "  │   │ │   │   │ │ │ │ │   │ │ │     │ │ │ │ │ │           │ │ │ │ │   │ │                           │ │   │ │ │ │ │ │   │ │ │ │               │       │ │ │ │   │   │ │     │ └─■──guatemala_guatemalan_guatemalans_belize_nations ── Topic: 10\n",
      "  │   │ │   │   │ │ │ │ │   │ │ │     │ │ │ │ │ │           │ │ │ │ │   │ │                           │ │   │ │ │ │ │ │   │ │ │ │               │       │ │ │ │   │   │ │     └─■──honduras_honduran_hondurans_nations_democracy ── Topic: 29\n",
      "  │   │ │   │   │ │ │ │ │   │ │ │     │ │ │ │ │ │           │ │ │ │ │   │ │                           │ │   │ │ │ │ │ │   │ │ │ │               │       │ │ │ │   │   │ └─■──peru_peruvian_nations_countries_democracy ── Topic: 18\n",
      "  │   │ │   │   │ │ │ │ │   │ │ │     │ │ │ │ │ │           │ │ │ │ │   │ │                           │ │   │ │ │ │ │ │   │ │ │ │               │       │ │ │ │   │   └─■──ecuador_ecuadorian_nations_peru_countries ── Topic: 79\n",
      "  │   │ │   │   │ │ │ │ │   │ │ │     │ │ │ │ │ │           │ │ │ │ │   │ │                           │ │   │ │ │ │ │ │   │ │ │ │               │       │ │ │ │   └─■──brazil_disarmament_nations_countries_brazilian ── Topic: 78\n",
      "  │   │ │   │   │ │ │ │ │   │ │ │     │ │ │ │ │ │           │ │ │ │ │   │ │                           │ │   │ │ │ │ │ │   │ │ │ │               │       │ │ │ └─■──madagascar_nations_africa_countries_malagasy ── Topic: 121\n",
      "  │   │ │   │   │ │ │ │ │   │ │ │     │ │ │ │ │ │           │ │ │ │ │   │ │                           │ │   │ │ │ │ │ │   │ │ │ │               │       │ │ └─■──sweden_disarmament_denmark_nations_swedish ── Topic: 155\n",
      "  │   │ │   │   │ │ │ │ │   │ │ │     │ │ │ │ │ │           │ │ │ │ │   │ │                           │ │   │ │ │ │ │ │   │ │ │ │               │       │ └─■──treaty_disarmament_peaceful_finland_nations ── Topic: 82\n",
      "  │   │ │   │   │ │ │ │ │   │ │ │     │ │ │ │ │ │           │ │ │ │ │   │ │                           │ │   │ │ │ │ │ │   │ │ │ │               │       └─■──romania_disarmament_nations_romanian_peaceful ── Topic: 26\n",
      "  │   │ │   │   │ │ │ │ │   │ │ │     │ │ │ │ │ │           │ │ │ │ │   │ │                           │ │   │ │ │ │ │ │   │ │ │ │               └─the_of_and_to_in\n",
      "  │   │ │   │   │ │ │ │ │   │ │ │     │ │ │ │ │ │           │ │ │ │ │   │ │                           │ │   │ │ │ │ │ │   │ │ │ │                 ├─■──libya_libyan_libyans_algeria_jamahiriya ── Topic: 118\n",
      "  │   │ │   │   │ │ │ │ │   │ │ │     │ │ │ │ │ │           │ │ │ │ │   │ │                           │ │   │ │ │ │ │ │   │ │ │ │                 └─the_and_of_to_in\n",
      "  │   │ │   │   │ │ │ │ │   │ │ │     │ │ │ │ │ │           │ │ │ │ │   │ │                           │ │   │ │ │ │ │ │   │ │ │ │                   ├─the_to_and_of_that\n",
      "  │   │ │   │   │ │ │ │ │   │ │ │     │ │ │ │ │ │           │ │ │ │ │   │ │                           │ │   │ │ │ │ │ │   │ │ │ │                   │ ├─■──yemen_yemenis_yemeni_houthi_saudi ── Topic: 98\n",
      "  │   │ │   │   │ │ │ │ │   │ │ │     │ │ │ │ │ │           │ │ │ │ │   │ │                           │ │   │ │ │ │ │ │   │ │ │ │                   │ └─■──yemen_ethiopia_palestine_nations_palestinian ── Topic: 199\n",
      "  │   │ │   │   │ │ │ │ │   │ │ │     │ │ │ │ │ │           │ │ │ │ │   │ │                           │ │   │ │ │ │ │ │   │ │ │ │                   └─the_of_and_to_in\n",
      "  │   │ │   │   │ │ │ │ │   │ │ │     │ │ │ │ │ │           │ │ │ │ │   │ │                           │ │   │ │ │ │ │ │   │ │ │ │                     ├─■──kuwait_kuwaiti_humanitarian_iraq_palestine ── Topic: 119\n",
      "  │   │ │   │   │ │ │ │ │   │ │ │     │ │ │ │ │ │           │ │ │ │ │   │ │                           │ │   │ │ │ │ │ │   │ │ │ │                     └─and_the_to_of_in\n",
      "  │   │ │   │   │ │ │ │ │   │ │ │     │ │ │ │ │ │           │ │ │ │ │   │ │                           │ │   │ │ │ │ │ │   │ │ │ │                       ├─■──peaceful_uae_iraq_sultanate_yemen ── Topic: 76\n",
      "  │   │ │   │   │ │ │ │ │   │ │ │     │ │ │ │ │ │           │ │ │ │ │   │ │                           │ │   │ │ │ │ │ │   │ │ │ │                       └─■──bahrain_kuwait_yemen_saudi_peaceful ── Topic: 157\n",
      "  │   │ │   │   │ │ │ │ │   │ │ │     │ │ │ │ │ │           │ │ │ │ │   │ │                           │ │   │ │ │ │ │ │   │ │ │ └─and_the_of_in_to\n",
      "  │   │ │   │   │ │ │ │ │   │ │ │     │ │ │ │ │ │           │ │ │ │ │   │ │                           │ │   │ │ │ │ │ │   │ │ │   ├─■──rwanda_rwandan_genocide_congo_kabila ── Topic: 87\n",
      "  │   │ │   │   │ │ │ │ │   │ │ │     │ │ │ │ │ │           │ │ │ │ │   │ │                           │ │   │ │ │ │ │ │   │ │ │   └─india_pakistan_and_be_the\n",
      "  │   │ │   │   │ │ │ │ │   │ │ │     │ │ │ │ │ │           │ │ │ │ │   │ │                           │ │   │ │ │ │ │ │   │ │ │     ├─■──gambia_gambian_gambians_sahel_nations ── Topic: 173\n",
      "  │   │ │   │   │ │ │ │ │   │ │ │     │ │ │ │ │ │           │ │ │ │ │   │ │                           │ │   │ │ │ │ │ │   │ │ │     └─and_to_that_our_the\n",
      "  │   │ │   │   │ │ │ │ │   │ │ │     │ │ │ │ │ │           │ │ │ │ │   │ │                           │ │   │ │ │ │ │ │   │ │ │       ├─and_to_that_our_the\n",
      "  │   │ │   │   │ │ │ │ │   │ │ │     │ │ │ │ │ │           │ │ │ │ │   │ │                           │ │   │ │ │ │ │ │   │ │ │       │ ├─the_of_and_to_in\n",
      "  │   │ │   │   │ │ │ │ │   │ │ │     │ │ │ │ │ │           │ │ │ │ │   │ │                           │ │   │ │ │ │ │ │   │ │ │       │ │ ├─■──botswana_angola_namibia_rhodesia_apartheid ── Topic: 152\n",
      "  │   │ │   │   │ │ │ │ │   │ │ │     │ │ │ │ │ │           │ │ │ │ │   │ │                           │ │   │ │ │ │ │ │   │ │ │       │ │ └─■──lesotho_apartheid_namibia_angola_africa ── Topic: 170\n",
      "  │   │ │   │   │ │ │ │ │   │ │ │     │ │ │ │ │ │           │ │ │ │ │   │ │                           │ │   │ │ │ │ │ │   │ │ │       │ └─■──kenya_nairobi_sudan_somalia_nations ── Topic: 103\n",
      "  │   │ │   │   │ │ │ │ │   │ │ │     │ │ │ │ │ │           │ │ │ │ │   │ │                           │ │   │ │ │ │ │ │   │ │ │       └─of_the_and_to_in\n",
      "  │   │ │   │   │ │ │ │ │   │ │ │     │ │ │ │ │ │           │ │ │ │ │   │ │                           │ │   │ │ │ │ │ │   │ │ │         ├─■──mozambique_mozambican_mozambicans_angola_zimbabwe ── Topic: 159\n",
      "  │   │ │   │   │ │ │ │ │   │ │ │     │ │ │ │ │ │           │ │ │ │ │   │ │                           │ │   │ │ │ │ │ │   │ │ │         └─■──angola_angolan_africa_embargo_nations ── Topic: 131\n",
      "  │   │ │   │   │ │ │ │ │   │ │ │     │ │ │ │ │ │           │ │ │ │ │   │ │                           │ │   │ │ │ │ │ │   │ │ └─■──spain_nations_gibraltar_countries_peace ── Topic: 128\n",
      "  │   │ │   │   │ │ │ │ │   │ │ │     │ │ │ │ │ │           │ │ │ │ │   │ │                           │ │   │ │ │ │ │ │   │ └─■──morocco_maghreb_algeria_nations_algerian ── Topic: 93\n",
      "  │   │ │   │   │ │ │ │ │   │ │ │     │ │ │ │ │ │           │ │ │ │ │   │ │                           │ │   │ │ │ │ │ │   └─■──mauritania_mauritanian_maghreb_nations_africa ── Topic: 167\n",
      "  │   │ │   │   │ │ │ │ │   │ │ │     │ │ │ │ │ │           │ │ │ │ │   │ │                           │ │   │ │ │ │ │ └─the_and_of_in_to\n",
      "  │   │ │   │   │ │ │ │ │   │ │ │     │ │ │ │ │ │           │ │ │ │ │   │ │                           │ │   │ │ │ │ │   ├─and_the_of_to_we\n",
      "  │   │ │   │   │ │ │ │ │   │ │ │     │ │ │ │ │ │           │ │ │ │ │   │ │                           │ │   │ │ │ │ │   │ ├─■──disarmament_ukraine_treaty_ukrainian_nations ── Topic: 112\n",
      "  │   │ │   │   │ │ │ │ │   │ │ │     │ │ │ │ │ │           │ │ │ │ │   │ │                           │ │   │ │ │ │ │   │ └─■──crimea_ukraine_war_humanitarian_russia ── Topic: 20\n",
      "  │   │ │   │   │ │ │ │ │   │ │ │     │ │ │ │ │ │           │ │ │ │ │   │ │                           │ │   │ │ │ │ │   └─the_of_and_in_to\n",
      "  │   │ │   │   │ │ │ │ │   │ │ │     │ │ │ │ │ │           │ │ │ │ │   │ │                           │ │   │ │ │ │ │     ├─■──nation_nations_war_prosperity_leaders ── Topic: 196\n",
      "  │   │ │   │   │ │ │ │ │   │ │ │     │ │ │ │ │ │           │ │ │ │ │   │ │                           │ │   │ │ │ │ │     └─the_of_and_in_to\n",
      "  │   │ │   │   │ │ │ │ │   │ │ │     │ │ │ │ │ │           │ │ │ │ │   │ │                           │ │   │ │ │ │ │       ├─kampuchea_lebanon_the_of_and\n",
      "  │   │ │   │   │ │ │ │ │   │ │ │     │ │ │ │ │ │           │ │ │ │ │   │ │                           │ │   │ │ │ │ │       │ ├─■──refugees_humanitarian_syria_migrants_terrorism ── Topic: 169\n",
      "  │   │ │   │   │ │ │ │ │   │ │ │     │ │ │ │ │ │           │ │ │ │ │   │ │                           │ │   │ │ │ │ │       │ └─■──syria_humanitarian_syrian_war_nations ── Topic: 190\n",
      "  │   │ │   │   │ │ │ │ │   │ │ │     │ │ │ │ │ │           │ │ │ │ │   │ │                           │ │   │ │ │ │ │       └─■──nations_peace_ireland_council_conflict ── Topic: 90\n",
      "  │   │ │   │   │ │ │ │ │   │ │ │     │ │ │ │ │ │           │ │ │ │ │   │ │                           │ │   │ │ │ │ └─■──malta_nations_neutrality_peace_countries ── Topic: 89\n",
      "  │   │ │   │   │ │ │ │ │   │ │ │     │ │ │ │ │ │           │ │ │ │ │   │ │                           │ │   │ │ │ └─the_of_to_in_and\n",
      "  │   │ │   │   │ │ │ │ │   │ │ │     │ │ │ │ │ │           │ │ │ │ │   │ │                           │ │   │ │ │   ├─■──greece_greek_balkans_nations_cyprus ── Topic: 55\n",
      "  │   │ │   │   │ │ │ │ │   │ │ │     │ │ │ │ │ │           │ │ │ │ │   │ │                           │ │   │ │ │   └─■──cyprus_disarmament_cypriot_nations_peace ── Topic: 124\n",
      "  │   │ │   │   │ │ │ │ │   │ │ │     │ │ │ │ │ │           │ │ │ │ │   │ │                           │ │   │ │ └─■──nepal_disarmament_nations_countries_delegation ── Topic: 66\n",
      "  │   │ │   │   │ │ │ │ │   │ │ │     │ │ │ │ │ │           │ │ │ │ │   │ │                           │ │   │ └─■──disarmament_nations_solomon_countries_government ── Topic: 39\n",
      "  │   │ │   │   │ │ │ │ │   │ │ │     │ │ │ │ │ │           │ │ │ │ │   │ │                           │ │   └─■──suriname_treaty_nations_countries_government ── Topic: 81\n",
      "  │   │ │   │   │ │ │ │ │   │ │ │     │ │ │ │ │ │           │ │ │ │ │   │ │                           │ └─■──belize_guatemala_belizeans_belizean_panama ── Topic: 86\n",
      "  │   │ │   │   │ │ │ │ │   │ │ │     │ │ │ │ │ │           │ │ │ │ │   │ │                           └─of_and_the_afghanistan_to\n",
      "  │   │ │   │   │ │ │ │ │   │ │ │     │ │ │ │ │ │           │ │ │ │ │   │ │                             ├─the_of_and_to_in\n",
      "  │   │ │   │   │ │ │ │ │   │ │ │     │ │ │ │ │ │           │ │ │ │ │   │ │                             │ ├─■──iran_islam_islamic_iranian_peace ── Topic: 165\n",
      "  │   │ │   │   │ │ │ │ │   │ │ │     │ │ │ │ │ │           │ │ │ │ │   │ │                             │ └─the_of_to_and_that\n",
      "  │   │ │   │   │ │ │ │ │   │ │ │     │ │ │ │ │ │           │ │ │ │ │   │ │                             │   ├─■──kabul_taliban_afghanistan_afghan_afghans ── Topic: 48\n",
      "  │   │ │   │   │ │ │ │ │   │ │ │     │ │ │ │ │ │           │ │ │ │ │   │ │                             │   └─■──disarmament_pakistan_peaceful_afghanistan_nations ── Topic: 68\n",
      "  │   │ │   │   │ │ │ │ │   │ │ │     │ │ │ │ │ │           │ │ │ │ │   │ │                             └─of_and_the_to_that\n",
      "  │   │ │   │   │ │ │ │ │   │ │ │     │ │ │ │ │ │           │ │ │ │ │   │ │                               ├─of_and_the_to_that\n",
      "  │   │ │   │   │ │ │ │ │   │ │ │     │ │ │ │ │ │           │ │ │ │ │   │ │                               │ ├─■──disarmament_mao_china_nations_imperialism ── Topic: 139\n",
      "  │   │ │   │   │ │ │ │ │   │ │ │     │ │ │ │ │ │           │ │ │ │ │   │ │                               │ └─the_of_to_in_and\n",
      "  │   │ │   │   │ │ │ │ │   │ │ │     │ │ │ │ │ │           │ │ │ │ │   │ │                               │   ├─■──asean_peaceful_viet_cambodia_nam ── Topic: 142\n",
      "  │   │ │   │   │ │ │ │ │   │ │ │     │ │ │ │ │ │           │ │ │ │ │   │ │                               │   └─■──cambodia_cambodian_khmer_sihanouk_laos ── Topic: 61\n",
      "  │   │ │   │   │ │ │ │ │   │ │ │     │ │ │ │ │ │           │ │ │ │ │   │ │                               └─■──laos_asean_lao_viet_nations ── Topic: 109\n",
      "  │   │ │   │   │ │ │ │ │   │ │ │     │ │ │ │ │ │           │ │ │ │ │   │ └─the_of_and_to_in\n",
      "  │   │ │   │   │ │ │ │ │   │ │ │     │ │ │ │ │ │           │ │ │ │ │   │   ├─■──egypt_syria_egyptian_nations_egyptians ── Topic: 150\n",
      "  │   │ │   │   │ │ │ │ │   │ │ │     │ │ │ │ │ │           │ │ │ │ │   │   └─■──amman_palestine_jordanian_palestinian_jordan ── Topic: 194\n",
      "  │   │ │   │   │ │ │ │ │   │ │ │     │ │ │ │ │ │           │ │ │ │ │   └─■──lebanon_beirut_palestine_lebanese_palestinians ── Topic: 28\n",
      "  │   │ │   │   │ │ │ │ │   │ │ │     │ │ │ │ │ │           │ │ │ │ └─■──disarmament_austria_peaceful_nations_vienna ── Topic: 135\n",
      "  │   │ │   │   │ │ │ │ │   │ │ │     │ │ │ │ │ │           │ │ │ └─■──paraguay_paraguayan_nations_countries_democracy ── Topic: 59\n",
      "  │   │ │   │   │ │ │ │ │   │ │ │     │ │ │ │ │ │           │ │ └─■──malawi_mozambique_zambia_angola_africa ── Topic: 104\n",
      "  │   │ │   │   │ │ │ │ │   │ │ │     │ │ │ │ │ │           │ └─■──nations_verde_countries_cabo_africa ── Topic: 195\n",
      "  │   │ │   │   │ │ │ │ │   │ │ │     │ │ │ │ │ │           └─■──libya_chadian_libyan_nations_chad ── Topic: 191\n",
      "  │   │ │   │   │ │ │ │ │   │ │ │     │ │ │ │ │ └─■──grenada_nations_countries_cuba_peace ── Topic: 130\n",
      "  │   │ │   │   │ │ │ │ │   │ │ │     │ │ │ │ └─■──maldives_democracy_maldivian_nations_election ── Topic: 172\n",
      "  │   │ │   │   │ │ │ │ │   │ │ │     │ │ │ └─■──bhutan_bangladesh_nations_countries_agenda ── Topic: 163\n",
      "  │   │ │   │   │ │ │ │ │   │ │ │     │ │ └─■──montenegro_nations_montenegrin_humanitarian_peace ── Topic: 143\n",
      "  │   │ │   │   │ │ │ │ │   │ │ │     │ └─■──macedonia_yugoslavia_nato_kosovo_balkans ── Topic: 166\n",
      "  │   │ │   │   │ │ │ │ │   │ │ │     └─■──andorran_andorra_nations_principality_democracy ── Topic: 187\n",
      "  │   │ │   │   │ │ │ │ │   │ │ └─■──latvia_peacekeeping_baltic_estonia_latvians ── Topic: 117\n",
      "  │   │ │   │   │ │ │ │ │   │ └─the_of_and_to_in\n",
      "  │   │ │   │   │ │ │ │ │   │   ├─■──kyrgyzstan_peacekeeping_kyrgyz_kazakhstan_tajikistan ── Topic: 147\n",
      "  │   │ │   │   │ │ │ │ │   │   └─■──tajikistan_tajik_afghanistan_nations_afghan ── Topic: 123\n",
      "  │   │ │   │   │ │ │ │ │   └─■──treaty_kazakhstan_nations_almaty_kazakh ── Topic: 201\n",
      "  │   │ │   │   │ │ │ │ └─■──moldova_peacekeeping_moldovan_ukraine_nations ── Topic: 151\n",
      "  │   │ │   │   │ │ │ └─■──slovakia_peacekeeping_kosovo_treaty_bratislava ── Topic: 179\n",
      "  │   │ │   │   │ │ └─■──yugoslavia_bosnia_herzegovina_croatia_croats ── Topic: 178\n",
      "  │   │ │   │   │ └─■──bosnia_herzegovina_yugoslavia_sarajevo_serbia ── Topic: 149\n",
      "  │   │ │   │   └─■──kosovo_serbia_balkans_nations_serbs ── Topic: 184\n",
      "  │   │ │   └─■──multilateralism_nations_humanitarian_president_agenda ── Topic: 132\n",
      "  │   │ └─■──palau_palauan_un_nations_micronesia ── Topic: 161\n",
      "  │   └─■──tuvalu_kiribati_nations_countries_agenda ── Topic: 141\n",
      "  └─■──turkmenistan_afghanistan_neutrality_caspian_nations ── Topic: 125\n",
      "\n"
     ]
    }
   ],
   "source": [
    "# analyze the topic tree for average linkage\n",
    "tree_average = t.get_topic_tree(hierarchical_topics['average'], tight_layout=True)\n",
    "print(tree_average)"
   ]
  }
 ],
 "metadata": {
  "kernelspec": {
   "display_name": ".venv",
   "language": "python",
   "name": "python3"
  },
  "language_info": {
   "codemirror_mode": {
    "name": "ipython",
    "version": 3
   },
   "file_extension": ".py",
   "mimetype": "text/x-python",
   "name": "python",
   "nbconvert_exporter": "python",
   "pygments_lexer": "ipython3",
   "version": "3.11.6"
  }
 },
 "nbformat": 4,
 "nbformat_minor": 2
}
