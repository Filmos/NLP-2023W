{
 "cells": [
  {
   "cell_type": "code",
   "execution_count": 9,
   "metadata": {},
   "outputs": [],
   "source": [
    "# imports\n",
    "from pathlib import Path\n",
    "\n",
    "import sys\n",
    "sys.path.append('..')\n",
    "\n",
    "from modeling.bertopic_models import get_texts, EMBEDDING_MODELS\n",
    "\n",
    "from bertopic import BERTopic"
   ]
  },
  {
   "cell_type": "code",
   "execution_count": 10,
   "metadata": {},
   "outputs": [],
   "source": [
    "# set global vars\n",
    "CORPUS_DIR = Path('../corpora/UN General Debate Corpus/TXT')\n",
    "MODELS_DIR = Path('../models')"
   ]
  },
  {
   "cell_type": "code",
   "execution_count": 11,
   "metadata": {},
   "outputs": [
    {
     "name": "stderr",
     "output_type": "stream",
     "text": [
      "2023-12-11 13:05:12,859 - BERTopic - WARNING: You are loading a BERTopic model without explicitly defining an embedding model.If you want to also load in an embedding model, make sure to useBERTopic.load(my_model, embedding_model=my_embedding_model).\n"
     ]
    },
    {
     "name": "stdout",
     "output_type": "stream",
     "text": [
      "Loading model all-MiniLM-L6-v2\n"
     ]
    },
    {
     "name": "stderr",
     "output_type": "stream",
     "text": [
      "2023-12-11 13:05:13,251 - BERTopic - WARNING: You are loading a BERTopic model without explicitly defining an embedding model.If you want to also load in an embedding model, make sure to useBERTopic.load(my_model, embedding_model=my_embedding_model).\n"
     ]
    },
    {
     "name": "stdout",
     "output_type": "stream",
     "text": [
      "Loading model all-mpnet-base-v2\n"
     ]
    },
    {
     "name": "stderr",
     "output_type": "stream",
     "text": [
      "2023-12-11 13:05:14,419 - BERTopic - WARNING: You are loading a BERTopic model without explicitly defining an embedding model.If you want to also load in an embedding model, make sure to useBERTopic.load(my_model, embedding_model=my_embedding_model).\n"
     ]
    },
    {
     "name": "stdout",
     "output_type": "stream",
     "text": [
      "Loading model all-MiniLM-L12-v2\n"
     ]
    },
    {
     "data": {
      "text/plain": [
       "dict_keys(['all-MiniLM-L6-v2', 'all-mpnet-base-v2', 'all-MiniLM-L12-v2'])"
      ]
     },
     "execution_count": 11,
     "metadata": {},
     "output_type": "execute_result"
    }
   ],
   "source": [
    "# load models to dict\n",
    "TOPIC_MODELS = {}\n",
    "\n",
    "for name, embedding_model in EMBEDDING_MODELS.items():\n",
    "    saved_model_path = Path(MODELS_DIR) / name\n",
    "    if not saved_model_path.exists():\n",
    "        print(f\"Skipping model '{name}' because it does not exist\")\n",
    "        continue\n",
    "    else:\n",
    "        print(f\"Loading model {name}\")\n",
    "    TOPIC_MODELS[name] = BERTopic.load(saved_model_path, embedding_model=name)\n",
    "\n",
    "TOPIC_MODELS.keys()"
   ]
  },
  {
   "cell_type": "code",
   "execution_count": 12,
   "metadata": {},
   "outputs": [],
   "source": [
    "# set more global vars\n",
    "MODEL_NAME = 'all-MiniLM-L12-v2'\n",
    "N_BINS = 76\n",
    "N_TOP = 15"
   ]
  },
  {
   "cell_type": "code",
   "execution_count": 13,
   "metadata": {},
   "outputs": [],
   "source": [
    "# load txts as list of strings\n",
    "all_texts = get_texts(CORPUS_DIR)\n",
    "texts = [text[0] for text in all_texts]\n",
    "timesteps = [int(text[1]['year']) for text in all_texts]"
   ]
  },
  {
   "cell_type": "code",
   "execution_count": 14,
   "metadata": {},
   "outputs": [],
   "source": [
    "# pick specific model\n",
    "model = TOPIC_MODELS[MODEL_NAME]"
   ]
  },
  {
   "cell_type": "code",
   "execution_count": 15,
   "metadata": {},
   "outputs": [
    {
     "name": "stderr",
     "output_type": "stream",
     "text": [
      "76it [01:01,  1.24it/s]\n"
     ]
    }
   ],
   "source": [
    "# get topics over time\n",
    "topics_over_time = model.topics_over_time(texts, timesteps, nr_bins = N_BINS)"
   ]
  },
  {
   "cell_type": "code",
   "execution_count": 16,
   "metadata": {},
   "outputs": [
    {
     "ename": "ValueError",
     "evalue": "Mime type rendering requires nbformat>=4.2.0 but it is not installed",
     "output_type": "error",
     "traceback": [
      "\u001b[0;31m---------------------------------------------------------------------------\u001b[0m",
      "\u001b[0;31mValueError\u001b[0m                                Traceback (most recent call last)",
      "File \u001b[0;32m~/miniforge3/envs/nlp-un/lib/python3.9/site-packages/IPython/core/formatters.py:922\u001b[0m, in \u001b[0;36mIPythonDisplayFormatter.__call__\u001b[0;34m(self, obj)\u001b[0m\n\u001b[1;32m    920\u001b[0m method \u001b[38;5;241m=\u001b[39m get_real_method(obj, \u001b[38;5;28mself\u001b[39m\u001b[38;5;241m.\u001b[39mprint_method)\n\u001b[1;32m    921\u001b[0m \u001b[38;5;28;01mif\u001b[39;00m method \u001b[38;5;129;01mis\u001b[39;00m \u001b[38;5;129;01mnot\u001b[39;00m \u001b[38;5;28;01mNone\u001b[39;00m:\n\u001b[0;32m--> 922\u001b[0m     \u001b[43mmethod\u001b[49m\u001b[43m(\u001b[49m\u001b[43m)\u001b[49m\n\u001b[1;32m    923\u001b[0m     \u001b[38;5;28;01mreturn\u001b[39;00m \u001b[38;5;28;01mTrue\u001b[39;00m\n",
      "File \u001b[0;32m~/miniforge3/envs/nlp-un/lib/python3.9/site-packages/plotly/basedatatypes.py:832\u001b[0m, in \u001b[0;36mBaseFigure._ipython_display_\u001b[0;34m(self)\u001b[0m\n\u001b[1;32m    829\u001b[0m \u001b[38;5;28;01mimport\u001b[39;00m \u001b[38;5;21;01mplotly\u001b[39;00m\u001b[38;5;21;01m.\u001b[39;00m\u001b[38;5;21;01mio\u001b[39;00m \u001b[38;5;28;01mas\u001b[39;00m \u001b[38;5;21;01mpio\u001b[39;00m\n\u001b[1;32m    831\u001b[0m \u001b[38;5;28;01mif\u001b[39;00m pio\u001b[38;5;241m.\u001b[39mrenderers\u001b[38;5;241m.\u001b[39mrender_on_display \u001b[38;5;129;01mand\u001b[39;00m pio\u001b[38;5;241m.\u001b[39mrenderers\u001b[38;5;241m.\u001b[39mdefault:\n\u001b[0;32m--> 832\u001b[0m     \u001b[43mpio\u001b[49m\u001b[38;5;241;43m.\u001b[39;49m\u001b[43mshow\u001b[49m\u001b[43m(\u001b[49m\u001b[38;5;28;43mself\u001b[39;49m\u001b[43m)\u001b[49m\n\u001b[1;32m    833\u001b[0m \u001b[38;5;28;01melse\u001b[39;00m:\n\u001b[1;32m    834\u001b[0m     \u001b[38;5;28mprint\u001b[39m(\u001b[38;5;28mrepr\u001b[39m(\u001b[38;5;28mself\u001b[39m))\n",
      "File \u001b[0;32m~/miniforge3/envs/nlp-un/lib/python3.9/site-packages/plotly/io/_renderers.py:394\u001b[0m, in \u001b[0;36mshow\u001b[0;34m(fig, renderer, validate, **kwargs)\u001b[0m\n\u001b[1;32m    389\u001b[0m         \u001b[38;5;28;01mraise\u001b[39;00m \u001b[38;5;167;01mValueError\u001b[39;00m(\n\u001b[1;32m    390\u001b[0m             \u001b[38;5;124m\"\u001b[39m\u001b[38;5;124mMime type rendering requires ipython but it is not installed\u001b[39m\u001b[38;5;124m\"\u001b[39m\n\u001b[1;32m    391\u001b[0m         )\n\u001b[1;32m    393\u001b[0m     \u001b[38;5;28;01mif\u001b[39;00m \u001b[38;5;129;01mnot\u001b[39;00m nbformat \u001b[38;5;129;01mor\u001b[39;00m Version(nbformat\u001b[38;5;241m.\u001b[39m__version__) \u001b[38;5;241m<\u001b[39m Version(\u001b[38;5;124m\"\u001b[39m\u001b[38;5;124m4.2.0\u001b[39m\u001b[38;5;124m\"\u001b[39m):\n\u001b[0;32m--> 394\u001b[0m         \u001b[38;5;28;01mraise\u001b[39;00m \u001b[38;5;167;01mValueError\u001b[39;00m(\n\u001b[1;32m    395\u001b[0m             \u001b[38;5;124m\"\u001b[39m\u001b[38;5;124mMime type rendering requires nbformat>=4.2.0 but it is not installed\u001b[39m\u001b[38;5;124m\"\u001b[39m\n\u001b[1;32m    396\u001b[0m         )\n\u001b[1;32m    398\u001b[0m     ipython_display\u001b[38;5;241m.\u001b[39mdisplay(bundle, raw\u001b[38;5;241m=\u001b[39m\u001b[38;5;28;01mTrue\u001b[39;00m)\n\u001b[1;32m    400\u001b[0m \u001b[38;5;66;03m# external renderers\u001b[39;00m\n",
      "\u001b[0;31mValueError\u001b[0m: Mime type rendering requires nbformat>=4.2.0 but it is not installed"
     ]
    },
    {
     "data": {
      "application/vnd.plotly.v1+json": {
       "config": {
        "plotlyServerURL": "https://plot.ly"
       },
       "data": [
        {
         "hoverinfo": "text",
         "hovertext": [
          "<b>Topic 0</b><br>Words: soviet, atomic, war, union, states",
          "<b>Topic 0</b><br>Words: had, was, council, were, social",
          "<b>Topic 0</b><br>Words: had, jerusalem, israel, greece, was",
          "<b>Topic 0</b><br>Words: korea, it, which, is, the",
          "<b>Topic 0</b><br>Words: imprisonment, court, executed, police, supervision",
          "<b>Topic 0</b><br>Words: bolivia, it, which, creditor, not",
          "<b>Topic 0</b><br>Words: dulles, soviet, circles, union, aggressive",
          "<b>Topic 0</b><br>Words: it, not, is, that, atomic",
          "<b>Topic 0</b><br>Words: egypt, israel, canal, not, united",
          "<b>Topic 0</b><br>Words: the, that, soviet, of, not",
          "<b>Topic 0</b><br>Words: this, be, is, in, of",
          "<b>Topic 0</b><br>Words: algerian, oman, optimism, united, arab",
          "<b>Topic 0</b><br>Words: is, of, not, that, the",
          "<b>Topic 0</b><br>Words: german, the, of, is, netherlands",
          "<b>Topic 0</b><br>Words: volta, upper, the, of, which",
          "<b>Topic 0</b><br>Words: the, of, which, that, to",
          "<b>Topic 0</b><br>Words: of, the, which, it, to",
          "<b>Topic 0</b><br>Words: the, of, to, viet, in",
          "<b>Topic 0</b><br>Words: that, the, is, of, which",
          "<b>Topic 0</b><br>Words: soviet, viet, of, the, is",
          "<b>Topic 0</b><br>Words: of, is, the, which, that",
          "<b>Topic 0</b><br>Words: of, which, the, in, is",
          "<b>Topic 0</b><br>Words: of, the, which, that, it",
          "<b>Topic 0</b><br>Words: of, the, to, that, and",
          "<b>Topic 0</b><br>Words: of, soviet, the, that, by",
          "<b>Topic 0</b><br>Words: of, the, to, that, is",
          "<b>Topic 0</b><br>Words: of, the, and, in, to",
          "<b>Topic 0</b><br>Words: of, the, and, in, to",
          "<b>Topic 0</b><br>Words: of, the, detente, and, in",
          "<b>Topic 0</b><br>Words: the, of, and, to, in",
          "<b>Topic 0</b><br>Words: which, venezuela, new, is, of",
          "<b>Topic 0</b><br>Words: the, of, that, and, in",
          "<b>Topic 0</b><br>Words: of, the, and, to, in",
          "<b>Topic 0</b><br>Words: the, of, in, to, and",
          "<b>Topic 0</b><br>Words: of, the, and, to, in",
          "<b>Topic 0</b><br>Words: of, the, and, to, in",
          "<b>Topic 0</b><br>Words: of, the, and, to, in",
          "<b>Topic 0</b><br>Words: the, of, and, to, in",
          "<b>Topic 0</b><br>Words: iranian, iran, iraq, regime, the",
          "<b>Topic 0</b><br>Words: the, of, in, that, to",
          "<b>Topic 0</b><br>Words: burundi, the, in, that, to",
          "<b>Topic 0</b><br>Words: the, of, in, and, to",
          "<b>Topic 0</b><br>Words: the, of, and, in, to",
          "<b>Topic 0</b><br>Words: the, of, and, in, to",
          "<b>Topic 0</b><br>Words: to, the, is, in, that",
          "<b>Topic 0</b><br>Words: the, of, and, to, in",
          "<b>Topic 0</b><br>Words: united, nations, the, to, and",
          "<b>Topic 0</b><br>Words: the, to, and, united, in",
          "<b>Topic 0</b><br>Words: the, to, of, and, we",
          "<b>Topic 0</b><br>Words: taliban, the, to, of, human",
          "<b>Topic 0</b><br>Words: the, of, to, in, and",
          "<b>Topic 0</b><br>Words: the, of, to, united, and",
          "<b>Topic 0</b><br>Words: we, and, to, the, in",
          "<b>Topic 0</b><br>Words: we, the, to, and, of",
          "<b>Topic 0</b><br>Words: to, and, that, the, we",
          "<b>Topic 0</b><br>Words: to, the, in, and, of",
          "<b>Topic 0</b><br>Words: and, to, the, we, of",
          "<b>Topic 0</b><br>Words: and, development, the, that, to",
          "<b>Topic 0</b><br>Words: climate, change, to, that, the",
          "<b>Topic 0</b><br>Words: that, food, we, to, and",
          "<b>Topic 0</b><br>Words: global, we, and, to, that",
          "<b>Topic 0</b><br>Words: and, to, the, that, united",
          "<b>Topic 0</b><br>Words: the, to, we, of, and",
          "<b>Topic 0</b><br>Words: we, and, is, to, our",
          "<b>Topic 0</b><br>Words: development, we, that, and, the",
          "<b>Topic 0</b><br>Words: we, our, and, to, that",
          "<b>Topic 0</b><br>Words: we, 70, that, and, is",
          "<b>Topic 0</b><br>Words: our, we, is, that, and",
          "<b>Topic 0</b><br>Words: sudan, that, our, to, algeria",
          "<b>Topic 0</b><br>Words: we, that, and, to, our",
          "<b>Topic 0</b><br>Words: we, our, that, are, climate",
          "<b>Topic 0</b><br>Words: pandemic, un, covid, mr, our",
          "<b>Topic 0</b><br>Words: pandemic, and, covid, to, we",
          "<b>Topic 0</b><br>Words: we, our, climate, and, is"
         ],
         "marker": {
          "color": "#E69F00"
         },
         "mode": "lines",
         "name": "0_peace_nations_general_organization",
         "type": "scatter",
         "x": [
          1945.923,
          1947.013,
          1948.026,
          1949.039,
          1950.053,
          1951.066,
          1952.079,
          1953.092,
          1955.118,
          1956.132,
          1957.145,
          1958.158,
          1959.171,
          1960.184,
          1961.197,
          1962.211,
          1964.237,
          1965.25,
          1966.263,
          1967.276,
          1968.289,
          1969.303,
          1970.316,
          1971.329,
          1972.342,
          1973.355,
          1974.368,
          1975.382,
          1976.395,
          1977.408,
          1978.421,
          1979.434,
          1980.447,
          1981.461,
          1982.474,
          1983.487,
          1984.5,
          1985.513,
          1986.526,
          1987.539,
          1988.553,
          1989.566,
          1990.579,
          1991.592,
          1992.605,
          1993.618,
          1994.632,
          1995.645,
          1996.658,
          1997.671,
          1998.684,
          1999.697,
          2000.711,
          2001.724,
          2002.737,
          2003.75,
          2004.763,
          2005.776,
          2006.789,
          2007.803,
          2008.816,
          2009.829,
          2010.842,
          2011.855,
          2012.868,
          2013.882,
          2014.895,
          2015.908,
          2016.921,
          2017.934,
          2018.947,
          2019.961,
          2020.974,
          2021.987
         ],
         "y": [
          5,
          5,
          3,
          19,
          2,
          2,
          1,
          4,
          7,
          6,
          4,
          2,
          8,
          5,
          3,
          9,
          21,
          52,
          4,
          5,
          17,
          6,
          12,
          12,
          5,
          39,
          23,
          21,
          6,
          32,
          2,
          5,
          13,
          7,
          13,
          10,
          13,
          15,
          5,
          20,
          4,
          10,
          34,
          19,
          8,
          28,
          32,
          14,
          14,
          7,
          10,
          29,
          11,
          8,
          13,
          13,
          30,
          30,
          12,
          24,
          9,
          15,
          21,
          12,
          13,
          26,
          12,
          9,
          6,
          107,
          26,
          8,
          42,
          23
         ]
        },
        {
         "hoverinfo": "text",
         "hovertext": [
          "<b>Topic 1</b><br>Words: veto, charter, the, of, members",
          "<b>Topic 1</b><br>Words: had, was, were, would, nations",
          "<b>Topic 1</b><br>Words: had, was, would, were, assembly",
          "<b>Topic 1</b><br>Words: ussr, salvadorean, delegation, united, it",
          "<b>Topic 1</b><br>Words: korea, the, of, chinese, is",
          "<b>Topic 1</b><br>Words: atomic, czechoslovak, propaganda, war, 1954",
          "<b>Topic 1</b><br>Words: economic, ten, which, it, this",
          "<b>Topic 1</b><br>Words: hungarian, hungary, 1957, resolution, counter",
          "<b>Topic 1</b><br>Words: states, united, kingdom, the, of",
          "<b>Topic 1</b><br>Words: not, or, it, there, this",
          "<b>Topic 1</b><br>Words: cameroon, cameroons, delegation, or, federal",
          "<b>Topic 1</b><br>Words: cuba, you, not, it, is",
          "<b>Topic 1</b><br>Words: which, of, be, this, in",
          "<b>Topic 1</b><br>Words: it, not, is, zealand, we",
          "<b>Topic 1</b><br>Words: of, the, viet, this, united",
          "<b>Topic 1</b><br>Words: is, that, in, of, the",
          "<b>Topic 1</b><br>Words: which, it, that, of, to",
          "<b>Topic 1</b><br>Words: mongolian, nam, republic, viet, asia",
          "<b>Topic 1</b><br>Words: committees, lebanon, nations, united, which",
          "<b>Topic 1</b><br>Words: which, of, it, the, to",
          "<b>Topic 1</b><br>Words: of, the, in, which, this",
          "<b>Topic 1</b><br>Words: poland, of, operation, the, all",
          "<b>Topic 1</b><br>Words: of, the, that, to, in",
          "<b>Topic 1</b><br>Words: kampuchea, of, the, and, which",
          "<b>Topic 1</b><br>Words: soviet, union, of, states, it",
          "<b>Topic 1</b><br>Words: zionist, the, of, in, entity",
          "<b>Topic 1</b><br>Words: fish, oceans, ocean, global, are",
          "<b>Topic 1</b><br>Words: of, the, this, which, in",
          "<b>Topic 1</b><br>Words: of, the, and, in, to",
          "<b>Topic 1</b><br>Words: japan, to, northsouth, be, the",
          "<b>Topic 1</b><br>Words: of, the, and, to, in",
          "<b>Topic 1</b><br>Words: of, the, to, in, and",
          "<b>Topic 1</b><br>Words: of, the, to, in, and",
          "<b>Topic 1</b><br>Words: us, not, people, some, our",
          "<b>Topic 1</b><br>Words: israel, jews, soviet, lebanon, terror",
          "<b>Topic 1</b><br>Words: the, of, is, to, that",
          "<b>Topic 1</b><br>Words: of, the, in, to, that",
          "<b>Topic 1</b><br>Words: the, of, to, in, and",
          "<b>Topic 1</b><br>Words: the, of, in, and, that",
          "<b>Topic 1</b><br>Words: jordan, to, the, of, and",
          "<b>Topic 1</b><br>Words: some, in, that, body, should",
          "<b>Topic 1</b><br>Words: the, and, of, in, to",
          "<b>Topic 1</b><br>Words: albania, greek, in, to, the",
          "<b>Topic 1</b><br>Words: the, of, to, in, and",
          "<b>Topic 1</b><br>Words: the, of, this, in, and",
          "<b>Topic 1</b><br>Words: china, democracy, nicaragua, programmes, central",
          "<b>Topic 1</b><br>Words: the, of, to, in, and",
          "<b>Topic 1</b><br>Words: the, this, and, to, be",
          "<b>Topic 1</b><br>Words: kosovo, and, the, human, to",
          "<b>Topic 1</b><br>Words: terrorism, and, the, to, united",
          "<b>Topic 1</b><br>Words: to, the, of, and, that",
          "<b>Topic 1</b><br>Words: iraq, iraqi, and, iraqis, the",
          "<b>Topic 1</b><br>Words: and, that, the, to, we",
          "<b>Topic 1</b><br>Words: tuvalu, and, to, the, we",
          "<b>Topic 1</b><br>Words: tonga, ireland, islam, muslim, the",
          "<b>Topic 1</b><br>Words: to, ethiopia, and, the, in",
          "<b>Topic 1</b><br>Words: latvia, yemen, that, and, the",
          "<b>Topic 1</b><br>Words: to, and, we, our, the",
          "<b>Topic 1</b><br>Words: palau, our, pacific, climate, change",
          "<b>Topic 1</b><br>Words: malta, libya, libyan, africa, au",
          "<b>Topic 1</b><br>Words: ireland, we, our, are, rights",
          "<b>Topic 1</b><br>Words: development, 2015, that, to, the",
          "<b>Topic 1</b><br>Words: development, we, that, the, and",
          "<b>Topic 1</b><br>Words: 70, we, and, that, to",
          "<b>Topic 1</b><br>Words: sustainable, we, and, development, our",
          "<b>Topic 1</b><br>Words: and, we, to, our, that",
          "<b>Topic 1</b><br>Words: yemen, mexico, yemeni, croatia, our",
          "<b>Topic 1</b><br>Words: cabo, korean, korea, peninsula, verde",
          "<b>Topic 1</b><br>Words: azerbaijan, armenia, un, moldova, pandemic",
          "<b>Topic 1</b><br>Words: covid, thailand, 19, pandemic, herzegovina",
          "<b>Topic 1</b><br>Words: our, we, and, to, is"
         ],
         "marker": {
          "color": "#56B4E9"
         },
         "mode": "lines",
         "name": "1_general_nations_political_government",
         "type": "scatter",
         "x": [
          1945.923,
          1947.013,
          1948.026,
          1950.053,
          1952.079,
          1953.092,
          1954.105,
          1956.132,
          1957.145,
          1959.171,
          1960.184,
          1961.197,
          1962.211,
          1963.224,
          1964.237,
          1965.25,
          1967.276,
          1968.289,
          1969.303,
          1970.316,
          1971.329,
          1972.342,
          1973.355,
          1974.368,
          1975.382,
          1976.395,
          1977.408,
          1978.421,
          1979.434,
          1980.447,
          1981.461,
          1982.474,
          1983.487,
          1984.5,
          1985.513,
          1986.526,
          1987.539,
          1988.553,
          1989.566,
          1990.579,
          1991.592,
          1992.605,
          1993.618,
          1994.632,
          1995.645,
          1996.658,
          1997.671,
          1998.684,
          1999.697,
          2000.711,
          2001.724,
          2002.737,
          2003.75,
          2004.763,
          2005.776,
          2006.789,
          2007.803,
          2008.816,
          2009.829,
          2010.842,
          2011.855,
          2012.868,
          2013.882,
          2014.895,
          2015.908,
          2016.921,
          2017.934,
          2018.947,
          2019.961,
          2020.974,
          2021.987
         ],
         "y": [
          7,
          3,
          2,
          2,
          5,
          1,
          1,
          1,
          6,
          6,
          2,
          2,
          9,
          3,
          15,
          7,
          7,
          1,
          2,
          11,
          19,
          3,
          9,
          5,
          1,
          7,
          1,
          14,
          17,
          2,
          7,
          23,
          6,
          1,
          1,
          14,
          6,
          13,
          7,
          4,
          1,
          18,
          4,
          17,
          26,
          1,
          30,
          6,
          8,
          8,
          13,
          6,
          13,
          7,
          3,
          13,
          4,
          26,
          3,
          2,
          3,
          12,
          9,
          27,
          11,
          16,
          3,
          4,
          7,
          4,
          19
         ]
        },
        {
         "hoverinfo": "text",
         "hovertext": [
          "<b>Topic 2</b><br>Words: council, the, veto, of, this",
          "<b>Topic 2</b><br>Words: which, the, of, in, it",
          "<b>Topic 2</b><br>Words: of, the, this, in, to",
          "<b>Topic 2</b><br>Words: rica, costa, trade, nations, united",
          "<b>Topic 2</b><br>Words: environment, planetary, life, of, these",
          "<b>Topic 2</b><br>Words: of, the, and, in, this",
          "<b>Topic 2</b><br>Words: equatorial, guinea, by, which, independence",
          "<b>Topic 2</b><br>Words: ireland, northern, irish, particular, this",
          "<b>Topic 2</b><br>Words: jamahiriya, david, zionist, arab, camp",
          "<b>Topic 2</b><br>Words: grenada, caribbean, imperialism, our, people",
          "<b>Topic 2</b><br>Words: venezuela, of, and, the, countries",
          "<b>Topic 2</b><br>Words: the, of, and, in, to",
          "<b>Topic 2</b><br>Words: antarctica, my, small, we, contracting",
          "<b>Topic 2</b><br>Words: salvador, el, the, democracy, has",
          "<b>Topic 2</b><br>Words: rights, human, the, of, and",
          "<b>Topic 2</b><br>Words: arf, thailand, development, agenda, meeting",
          "<b>Topic 2</b><br>Words: senegal, conflicts, organization, must, of",
          "<b>Topic 2</b><br>Words: pakistan, india, kashmir, ctbt, nuclear",
          "<b>Topic 2</b><br>Words: mauritius, century, wto, the, in",
          "<b>Topic 2</b><br>Words: angola, reconstruction, institutions, continent, african",
          "<b>Topic 2</b><br>Words: germany, iran, sudan, responsibility, dialogue",
          "<b>Topic 2</b><br>Words: hungary, afghanistan, canada, rights, democracy",
          "<b>Topic 2</b><br>Words: niger, 2009, held, 52598, president",
          "<b>Topic 2</b><br>Words: uruguay, system, 55396, country, haiti",
          "<b>Topic 2</b><br>Words: spain, year, continue, will, to",
          "<b>Topic 2</b><br>Words: afghanistan, afghan, socioeconomic, cooperation, decade",
          "<b>Topic 2</b><br>Words: kenya, unep, sustainable, challenges, platform",
          "<b>Topic 2</b><br>Words: korea, korean, peninsula, carbon, neutrality",
          "<b>Topic 2</b><br>Words: ukraine, russia, global, we, italy"
         ],
         "marker": {
          "color": "#009E73"
         },
         "mode": "lines",
         "name": "2_ukraine_republic_ukrainian_general",
         "type": "scatter",
         "x": [
          1945.923,
          1953.092,
          1961.197,
          1963.224,
          1971.329,
          1972.342,
          1974.368,
          1976.395,
          1977.408,
          1978.421,
          1980.447,
          1981.461,
          1982.474,
          1987.539,
          1991.592,
          1993.618,
          1995.645,
          1997.671,
          1998.684,
          2002.737,
          2005.776,
          2006.789,
          2008.816,
          2009.829,
          2011.855,
          2013.882,
          2016.921,
          2020.974,
          2021.987
         ],
         "y": [
          13,
          10,
          28,
          1,
          1,
          5,
          1,
          1,
          1,
          1,
          1,
          23,
          1,
          2,
          2,
          1,
          1,
          1,
          2,
          1,
          1,
          2,
          1,
          1,
          1,
          1,
          1,
          1,
          3
         ]
        },
        {
         "hoverinfo": "text",
         "hovertext": [
          "<b>Topic 3</b><br>Words: atomic, appropriations, ussr, war, propaganda",
          "<b>Topic 3</b><br>Words: is, it, the, of, mexico",
          "<b>Topic 3</b><br>Words: of, the, mexico, to, in",
          "<b>Topic 3</b><br>Words: of, arab, to, we, resolution",
          "<b>Topic 3</b><br>Words: danish, denmark, co, operation, in",
          "<b>Topic 3</b><br>Words: niger, we, our, uruguay, of",
          "<b>Topic 3</b><br>Words: yemen, co, operation, countries, international",
          "<b>Topic 3</b><br>Words: france, it, that, to, for",
          "<b>Topic 3</b><br>Words: ecuador, of, that, justice, with",
          "<b>Topic 3</b><br>Words: nigeria, africa, decade, to, south",
          "<b>Topic 3</b><br>Words: of, that, the, is, to",
          "<b>Topic 3</b><br>Words: gulf, of, the, continued, world",
          "<b>Topic 3</b><br>Words: of, is, and, mexico, the",
          "<b>Topic 3</b><br>Words: the, of, and, to, in",
          "<b>Topic 3</b><br>Words: angola, hong, kong, south, for",
          "<b>Topic 3</b><br>Words: the, in, of, and, mexico",
          "<b>Topic 3</b><br>Words: keeping, gambia, peace, we, will",
          "<b>Topic 3</b><br>Words: nuclear, iran, values, council, and",
          "<b>Topic 3</b><br>Words: slovakia, slovak, united, nations, for",
          "<b>Topic 3</b><br>Words: morocco, madagascar, quds, as, economic",
          "<b>Topic 3</b><br>Words: spain, on, the, of, to",
          "<b>Topic 3</b><br>Words: mexico, international, exclusion, that, shaping",
          "<b>Topic 3</b><br>Words: that, the, to, in, we",
          "<b>Topic 3</b><br>Words: philippines, debt, us, dot, francisco",
          "<b>Topic 3</b><br>Words: ethiopia, millennium, igad, somalia, development",
          "<b>Topic 3</b><br>Words: philippines, rule, rules, law, ramparts",
          "<b>Topic 3</b><br>Words: marshall, islands, pacific, marshallese, mdgs",
          "<b>Topic 3</b><br>Words: lao, lldcs, democratic, republic, cooperation",
          "<b>Topic 3</b><br>Words: luxembourg, must, conflict, humanitarian, 2015",
          "<b>Topic 3</b><br>Words: family, market, belarus, chaos, different",
          "<b>Topic 3</b><br>Words: jamaica, madagascar, our, mexico, we",
          "<b>Topic 3</b><br>Words: armenia, nagorno, tuvalu, karabakh, climate",
          "<b>Topic 3</b><br>Words: romania, youth, un, covid, digital",
          "<b>Topic 3</b><br>Words: st, kitts, nevis, covid, pandemic",
          "<b>Topic 3</b><br>Words: sri, lanka, we, climate, food"
         ],
         "marker": {
          "color": "#F0E442"
         },
         "mode": "lines",
         "name": "3_mexico_mexican_nations_international",
         "type": "scatter",
         "x": [
          1949.039,
          1956.132,
          1968.289,
          1970.316,
          1971.329,
          1972.342,
          1976.395,
          1977.408,
          1978.421,
          1979.434,
          1981.461,
          1983.487,
          1986.526,
          1987.539,
          1988.553,
          1989.566,
          1991.592,
          1993.618,
          1995.645,
          1997.671,
          1998.684,
          2000.711,
          2003.75,
          2004.763,
          2007.803,
          2010.842,
          2011.855,
          2012.868,
          2013.882,
          2015.908,
          2016.921,
          2018.947,
          2019.961,
          2020.974,
          2021.987
         ],
         "y": [
          2,
          5,
          22,
          1,
          1,
          2,
          1,
          1,
          1,
          1,
          3,
          1,
          2,
          8,
          2,
          26,
          2,
          1,
          1,
          2,
          2,
          1,
          6,
          1,
          1,
          1,
          1,
          1,
          1,
          1,
          2,
          2,
          1,
          1,
          1
         ]
        },
        {
         "hoverinfo": "text",
         "hovertext": [
          "<b>Topic 4</b><br>Words: nepal, history, great, asia, of",
          "<b>Topic 4</b><br>Words: arab, israel, algeria, properties, refugees",
          "<b>Topic 4</b><br>Words: arab, algeria, arabian, league, lahej",
          "<b>Topic 4</b><br>Words: arab, aggression, zionist, israel, struggle",
          "<b>Topic 4</b><br>Words: palestine, racist, resolutions, states, the",
          "<b>Topic 4</b><br>Words: argentina, of, latin, the, by",
          "<b>Topic 4</b><br>Words: malaysia, antarctica, international, south, kampuchean",
          "<b>Topic 4</b><br>Words: delegation, drug, waste, countries, must",
          "<b>Topic 4</b><br>Words: the, of, in, and, to",
          "<b>Topic 4</b><br>Words: ireland, timor, irish, agreement, the",
          "<b>Topic 4</b><br>Words: gabon, poverty, africa, development, is",
          "<b>Topic 4</b><br>Words: tobago, trinidad, suriname, we, aids",
          "<b>Topic 4</b><br>Words: macedonia, republic, terrorism, civilizations, kosovo",
          "<b>Topic 4</b><br>Words: and, africa, african, the, in",
          "<b>Topic 4</b><br>Words: marino, san, vis, reform, women",
          "<b>Topic 4</b><br>Words: leste, timor, horta, ramos, police",
          "<b>Topic 4</b><br>Words: malta, and, to, the, of",
          "<b>Topic 4</b><br>Words: zimbabwe, emirates, palestinian, arab, we",
          "<b>Topic 4</b><br>Words: ethiopia, ethiopians, somalia, sudan, challenge",
          "<b>Topic 4</b><br>Words: celac, caribbean, latin, region, american",
          "<b>Topic 4</b><br>Words: micronesia, climate, change, montreal, and",
          "<b>Topic 4</b><br>Words: poland, law, lemkin, war, international",
          "<b>Topic 4</b><br>Words: we, our, and, to, the",
          "<b>Topic 4</b><br>Words: croatia, global, and, peacekeeping, crises",
          "<b>Topic 4</b><br>Words: tunisia, essebsi, our, women, and",
          "<b>Topic 4</b><br>Words: bissau, guinea, covid, excellencies, excellency",
          "<b>Topic 4</b><br>Words: macedonia, ukraine, north, global, solutions"
         ],
         "marker": {
          "color": "#D55E00"
         },
         "mode": "lines",
         "name": "4_tanzania_republic_zimbabwe_nations",
         "type": "scatter",
         "x": [
          1955.118,
          1956.132,
          1957.145,
          1970.316,
          1975.382,
          1979.434,
          1982.474,
          1987.539,
          1992.605,
          1998.684,
          1999.697,
          2000.711,
          2001.724,
          2003.75,
          2004.763,
          2005.776,
          2006.789,
          2009.829,
          2011.855,
          2012.868,
          2013.882,
          2014.895,
          2015.908,
          2016.921,
          2018.947,
          2019.961,
          2021.987
         ],
         "y": [
          1,
          1,
          1,
          1,
          1,
          1,
          1,
          1,
          29,
          1,
          1,
          2,
          1,
          3,
          1,
          1,
          6,
          2,
          1,
          1,
          2,
          1,
          31,
          1,
          2,
          1,
          1
         ]
        },
        {
         "hoverinfo": "text",
         "hovertext": [
          "<b>Topic 5</b><br>Words: and, of, the, war, to",
          "<b>Topic 5</b><br>Words: france, which, we, us, have",
          "<b>Topic 5</b><br>Words: question, it, in, be, disarmament",
          "<b>Topic 5</b><br>Words: to, be, that, of, and",
          "<b>Topic 5</b><br>Words: and, to, in, we, is",
          "<b>Topic 5</b><br>Words: panama, canal, panamanian, states, american",
          "<b>Topic 5</b><br>Words: and, the, of, in, to",
          "<b>Topic 5</b><br>Words: mexico, world, that, america, and",
          "<b>Topic 5</b><br>Words: and, we, the, of, world",
          "<b>Topic 5</b><br>Words: latvia, latvian, former, citizenship, russian",
          "<b>Topic 5</b><br>Words: peru, accordingly, cooperation, human, and",
          "<b>Topic 5</b><br>Words: zealand, timor, council, security, new",
          "<b>Topic 5</b><br>Words: children, spoke, canada, people, winnipeg",
          "<b>Topic 5</b><br>Words: kenya, poverty, conflicts, terrorism, aids",
          "<b>Topic 5</b><br>Words: kenya, we, to, in, the",
          "<b>Topic 5</b><br>Words: we, that, our, must, human",
          "<b>Topic 5</b><br>Words: tuvalu, climate, emissions, change, bali",
          "<b>Topic 5</b><br>Words: emirates, energy, arab, we, to",
          "<b>Topic 5</b><br>Words: lucia, saint, growth, sids, gdp",
          "<b>Topic 5</b><br>Words: tunisia, tunisian, and, who, their",
          "<b>Topic 5</b><br>Words: that, we, and, in, to",
          "<b>Topic 5</b><br>Words: iran, rouhani, nuclear, he, marino",
          "<b>Topic 5</b><br>Words: we, that, and, is, to",
          "<b>Topic 5</b><br>Words: pandemic, we, ethiopia, sweden, our"
         ],
         "marker": {
          "color": "#0072B2"
         },
         "mode": "lines",
         "name": "5_terrorists_terrorism_terrorist_iraq",
         "type": "scatter",
         "x": [
          1951.066,
          1953.092,
          1958.158,
          1963.224,
          1966.263,
          1975.382,
          1983.487,
          1984.5,
          1985.513,
          1991.592,
          1996.658,
          1998.684,
          1999.697,
          2000.711,
          2002.737,
          2004.763,
          2006.789,
          2007.803,
          2009.829,
          2010.842,
          2011.855,
          2012.868,
          2018.947,
          2020.974
         ],
         "y": [
          5,
          1,
          1,
          9,
          8,
          1,
          5,
          1,
          5,
          1,
          1,
          2,
          1,
          1,
          4,
          6,
          1,
          2,
          1,
          3,
          4,
          2,
          13,
          5
         ]
        },
        {
         "hoverinfo": "text",
         "hovertext": [
          "<b>Topic 6</b><br>Words: had, chile, chilean, was, francisco",
          "<b>Topic 6</b><br>Words: which, bolivia, the, my, that",
          "<b>Topic 6</b><br>Words: bandung, palestine, be, geneva, freedom",
          "<b>Topic 6</b><br>Words: agency, energy, the, in, of",
          "<b>Topic 6</b><br>Words: million, cuban, cuba, be, to",
          "<b>Topic 6</b><br>Words: turkey, these, disarmament, which, under",
          "<b>Topic 6</b><br>Words: argentine, man, which, peoples, and",
          "<b>Topic 6</b><br>Words: kuwait, nations, which, world, this",
          "<b>Topic 6</b><br>Words: nuclear, viet, the, of, united",
          "<b>Topic 6</b><br>Words: laotian, war, years, laos, twenty",
          "<b>Topic 6</b><br>Words: israel, palestinian, which, italian, the",
          "<b>Topic 6</b><br>Words: which, the, european, of, is",
          "<b>Topic 6</b><br>Words: niger, rhodesia, which, in, this",
          "<b>Topic 6</b><br>Words: laos, it, vientiane, which, be",
          "<b>Topic 6</b><br>Words: the, of, ethiopia, my, countries",
          "<b>Topic 6</b><br>Words: swaziland, my, peace, non, justice",
          "<b>Topic 6</b><br>Words: ecuador, co, it, the, of",
          "<b>Topic 6</b><br>Words: japan, my, hijacking, co, country",
          "<b>Topic 6</b><br>Words: which, have, been, to, we",
          "<b>Topic 6</b><br>Words: of, the, afghanistan, to, in",
          "<b>Topic 6</b><br>Words: my, and, of, the, refugee",
          "<b>Topic 6</b><br>Words: pakistan, of, to, the, must",
          "<b>Topic 6</b><br>Words: honduras, central, american, government, america",
          "<b>Topic 6</b><br>Words: the, of, imperialist, which, has",
          "<b>Topic 6</b><br>Words: in, the, is, of, be",
          "<b>Topic 6</b><br>Words: indonesia, the, be, and, in",
          "<b>Topic 6</b><br>Words: gabon, should, solidarity, community, international",
          "<b>Topic 6</b><br>Words: in, the, to, and, of",
          "<b>Topic 6</b><br>Words: kazakstan, sudan, should, the, by",
          "<b>Topic 6</b><br>Words: paraguay, to, the, this, on",
          "<b>Topic 6</b><br>Words: vanuatu, eritrea, community, the, in",
          "<b>Topic 6</b><br>Words: european, union, terror, against, nations",
          "<b>Topic 6</b><br>Words: latvia, european, within, union, century",
          "<b>Topic 6</b><br>Words: croatia, croatian, wmds, european, europe",
          "<b>Topic 6</b><br>Words: peru, cape, potato, verde, change",
          "<b>Topic 6</b><br>Words: crisis, cameroon, financial, that, global",
          "<b>Topic 6</b><br>Words: syria, iraq, cancún, israel, we",
          "<b>Topic 6</b><br>Words: slovenia, 50847, rights, human, development",
          "<b>Topic 6</b><br>Words: energy, dependency, nuclear, safety, lithuania",
          "<b>Topic 6</b><br>Words: ghana, girls, are, marriage, those",
          "<b>Topic 6</b><br>Words: denmark, bissau, guinea, our, we",
          "<b>Topic 6</b><br>Words: cambodia, interference, multilateralism, world, being",
          "<b>Topic 6</b><br>Words: rakhine, myanmar, state, qatar, covid",
          "<b>Topic 6</b><br>Words: usav7, bahamas, un, 78th, 2023"
         ],
         "marker": {
          "color": "#CC79A7"
         },
         "mode": "lines",
         "name": "6_luxembourg_general_council_nations",
         "type": "scatter",
         "x": [
          1947.013,
          1949.039,
          1954.105,
          1955.118,
          1957.145,
          1958.158,
          1960.184,
          1962.211,
          1964.237,
          1966.263,
          1967.276,
          1970.316,
          1971.329,
          1972.342,
          1973.355,
          1975.382,
          1976.395,
          1977.408,
          1978.421,
          1979.434,
          1980.447,
          1982.474,
          1985.513,
          1986.526,
          1988.553,
          1989.566,
          1991.592,
          1992.605,
          1994.632,
          1996.658,
          2000.711,
          2001.724,
          2002.737,
          2003.75,
          2006.789,
          2008.816,
          2009.829,
          2010.842,
          2011.855,
          2014.895,
          2016.921,
          2018.947,
          2019.961,
          2021.987
         ],
         "y": [
          1,
          1,
          1,
          1,
          1,
          1,
          1,
          1,
          3,
          1,
          2,
          3,
          1,
          1,
          3,
          1,
          1,
          1,
          1,
          6,
          1,
          1,
          1,
          3,
          6,
          1,
          1,
          10,
          2,
          3,
          3,
          1,
          1,
          1,
          2,
          1,
          1,
          1,
          1,
          1,
          2,
          1,
          2,
          2
         ]
        },
        {
         "hoverinfo": "text",
         "hovertext": [
          "<b>Topic 7</b><br>Words: united, states, this, nations, to",
          "<b>Topic 7</b><br>Words: communist, chinese, viet, regime, mainland",
          "<b>Topic 7</b><br>Words: their, or, delegation, they, great",
          "<b>Topic 7</b><br>Words: swaziland, delegation, your, mozambique, peace",
          "<b>Topic 7</b><br>Words: socialist, czechoslovak, czechoslovakia, relations, of",
          "<b>Topic 7</b><br>Words: bangladesh, through, countries, of, world",
          "<b>Topic 7</b><br>Words: hungarian, government, nuclear, international, relations",
          "<b>Topic 7</b><br>Words: the, of, to, in, and",
          "<b>Topic 7</b><br>Words: ecuador, peru, my, countries, and",
          "<b>Topic 7</b><br>Words: cameroon, africa, development, diplomacy, machinery",
          "<b>Topic 7</b><br>Words: kenya, burundi, to, igadd, on",
          "<b>Topic 7</b><br>Words: level, levels, community, increasingly, well",
          "<b>Topic 7</b><br>Words: turkmenistan, caspian, cooperation, nations, of",
          "<b>Topic 7</b><br>Words: suriname, indigenous, maritime, slave, award",
          "<b>Topic 7</b><br>Words: bhutan, happiness, king, 52272, democracy",
          "<b>Topic 7</b><br>Words: greece, european, macedonia, cyprus, our",
          "<b>Topic 7</b><br>Words: malaysia, mediation, moderates, transformation, moderation",
          "<b>Topic 7</b><br>Words: poverty, income, quality, social, development",
          "<b>Topic 7</b><br>Words: australia, aliir, we, esh, smuggling",
          "<b>Topic 7</b><br>Words: pandemic, covid, 19, and, we"
         ],
         "marker": {
          "color": "#E69F00"
         },
         "mode": "lines",
         "name": "7_zambia_africa_african_namibia",
         "type": "scatter",
         "x": [
          1969.303,
          1970.316,
          1971.329,
          1973.355,
          1975.382,
          1977.408,
          1983.487,
          1989.566,
          1991.592,
          1993.618,
          1995.645,
          1999.697,
          2003.75,
          2006.789,
          2007.803,
          2009.829,
          2010.842,
          2011.855,
          2015.908,
          2019.961
         ],
         "y": [
          1,
          1,
          1,
          1,
          1,
          1,
          1,
          26,
          1,
          1,
          1,
          1,
          2,
          1,
          1,
          1,
          1,
          1,
          1,
          35
         ]
        },
        {
         "hoverinfo": "text",
         "hovertext": [
          "<b>Topic 8</b><br>Words: the, of, united, nations, and",
          "<b>Topic 8</b><br>Words: israel, and, of, the, to",
          "<b>Topic 8</b><br>Words: and, we, our, the, to"
         ],
         "marker": {
          "color": "#56B4E9"
         },
         "mode": "lines",
         "name": "8_freitas_amaral_nations_general",
         "type": "scatter",
         "x": [
          1969.303,
          1980.447,
          2016.921
         ],
         "y": [
          29,
          4,
          44
         ]
        },
        {
         "hoverinfo": "text",
         "hovertext": [
          "<b>Topic 9</b><br>Words: council, nations, article, united, the",
          "<b>Topic 9</b><br>Words: which, organization, african, south, this",
          "<b>Topic 9</b><br>Words: in, nations, the, of, which",
          "<b>Topic 9</b><br>Words: chairman, nations, the, of, in",
          "<b>Topic 9</b><br>Words: netherlands, the, of, this, in",
          "<b>Topic 9</b><br>Words: detente, poland, states, conference, of",
          "<b>Topic 9</b><br>Words: the, of, and, to, in",
          "<b>Topic 9</b><br>Words: malaysia, their, nations, rich, is",
          "<b>Topic 9</b><br>Words: israeli, syria, israelis, lebanese, arab",
          "<b>Topic 9</b><br>Words: international, countries, we, the, and",
          "<b>Topic 9</b><br>Words: swaziland, accordingly, nations, of, south",
          "<b>Topic 9</b><br>Words: fiji, and, nations, the, united",
          "<b>Topic 9</b><br>Words: palestinian, barbados, process, israeli, this",
          "<b>Topic 9</b><br>Words: iraq, al, globalization, okinawa, sharif",
          "<b>Topic 9</b><br>Words: bissau, guinea, yalá, kumba, programmes",
          "<b>Topic 9</b><br>Words: my, delegation, your, issues, and",
          "<b>Topic 9</b><br>Words: children, seen, humanity, childrenís, nuclear",
          "<b>Topic 9</b><br>Words: darussalam, brunei, causes, consensus, injustice",
          "<b>Topic 9</b><br>Words: grenada, caribbean, delegation, my, looks",
          "<b>Topic 9</b><br>Words: lao, cluster, munitions, democratic, uxo",
          "<b>Topic 9</b><br>Words: mali, his, ldcs, mediation, development",
          "<b>Topic 9</b><br>Words: paraguay, paraguayan, paraguayans, its, international",
          "<b>Topic 9</b><br>Words: nepal, mr, un, president, rss",
          "<b>Topic 9</b><br>Words: thailand, sustainable, global, climate, sustainability"
         ],
         "marker": {
          "color": "#009E73"
         },
         "mode": "lines",
         "name": "9_malaysia_general_secretary_government",
         "type": "scatter",
         "x": [
          1945.923,
          1950.053,
          1953.092,
          1961.197,
          1969.303,
          1974.368,
          1980.447,
          1981.461,
          1984.5,
          1988.553,
          1989.566,
          1994.632,
          1997.671,
          1999.697,
          2000.711,
          2002.737,
          2003.75,
          2004.763,
          2005.776,
          2008.816,
          2010.842,
          2011.855,
          2019.961,
          2021.987
         ],
         "y": [
          4,
          1,
          7,
          7,
          2,
          1,
          32,
          1,
          1,
          2,
          1,
          4,
          2,
          1,
          1,
          1,
          1,
          1,
          1,
          1,
          1,
          1,
          2,
          1
         ]
        },
        {
         "hoverinfo": "text",
         "hovertext": [
          "<b>Topic 10</b><br>Words: had, was, zeeland, van, were",
          "<b>Topic 10</b><br>Words: the, of, and, international, in",
          "<b>Topic 10</b><br>Words: modernity, malawi, montaigne, sadc, and",
          "<b>Topic 10</b><br>Words: and, the, to, we, that"
         ],
         "marker": {
          "color": "#F0E442"
         },
         "mode": "lines",
         "name": "10_caputo_general_conference_nations",
         "type": "scatter",
         "x": [
          1948.026,
          1986.526,
          2000.711,
          2012.868
         ],
         "y": [
          3,
          32,
          2,
          40
         ]
        },
        {
         "hoverinfo": "text",
         "hovertext": [
          "<b>Topic 11</b><br>Words: veto, which, or, great, international",
          "<b>Topic 11</b><br>Words: panama, liberty, system, individual, my",
          "<b>Topic 11</b><br>Words: prove, what, tenth, would, prodigies",
          "<b>Topic 11</b><br>Words: relations, favourable, it, colombia, that",
          "<b>Topic 11</b><br>Words: algerian, french, government, colombia, and",
          "<b>Topic 11</b><br>Words: portugal, colombia, decolonization, we, is",
          "<b>Topic 11</b><br>Words: peking, australia, viet, nam, asia",
          "<b>Topic 11</b><br>Words: viet, polish, colombia, nam, german",
          "<b>Topic 11</b><br>Words: manifesto, african, africa, régime, agencies",
          "<b>Topic 11</b><br>Words: colombia, of, which, the, to",
          "<b>Topic 11</b><br>Words: colombia, which, of, the, to",
          "<b>Topic 11</b><br>Words: mauritania, problem, which, colombia, of",
          "<b>Topic 11</b><br>Words: sweden, swedish, must, all, co",
          "<b>Topic 11</b><br>Words: egypt, colombia, its, the, of",
          "<b>Topic 11</b><br>Words: mexico, negotiations, colombia, or, which",
          "<b>Topic 11</b><br>Words: pakistan, afghanistan, international, co, colombia",
          "<b>Topic 11</b><br>Words: equatorial, guinea, of, countries, which",
          "<b>Topic 11</b><br>Words: nevis, christopher, st, saint, dutch",
          "<b>Topic 11</b><br>Words: japan, nuclear, colombia, to, efforts",
          "<b>Topic 11</b><br>Words: cyprus, turkey, problem, super, resolutions",
          "<b>Topic 11</b><br>Words: grenada, my, government, wishes, operatives",
          "<b>Topic 11</b><br>Words: haiti, aristide, losing, output, billion",
          "<b>Topic 11</b><br>Words: malawi, delegation, 1993, mozambique, my",
          "<b>Topic 11</b><br>Words: slovenia, human, nations, united, of",
          "<b>Topic 11</b><br>Words: lithuania, osce, keeping, nations, united",
          "<b>Topic 11</b><br>Words: denmark, rights, human, landmine, must",
          "<b>Topic 11</b><br>Words: dominica, caribbean, this, commonwealth, wto",
          "<b>Topic 11</b><br>Words: portugal, angola, cplp, timorese, colombia",
          "<b>Topic 11</b><br>Words: austria, terrorism, danube, vienna, odccp",
          "<b>Topic 11</b><br>Words: russia, instruments, work, nations, united",
          "<b>Topic 11</b><br>Words: sudan, with, community, international, darfur",
          "<b>Topic 11</b><br>Words: climate, change, water, more, must",
          "<b>Topic 11</b><br>Words: togo, togolese, 53129, audit, 08",
          "<b>Topic 11</b><br>Words: bahamas, mozambique, colombia, our, haiti",
          "<b>Topic 11</b><br>Words: maldives, our, india, colombia, pakistan",
          "<b>Topic 11</b><br>Words: tonga, ncds, irena, elected, definition",
          "<b>Topic 11</b><br>Words: bolivia, chile, echeñique, piñera, who",
          "<b>Topic 11</b><br>Words: panama, colombia, our, that, we",
          "<b>Topic 11</b><br>Words: colombia, and, we, to, our",
          "<b>Topic 11</b><br>Words: suriname, covid, forest, 19, puzzle",
          "<b>Topic 11</b><br>Words: paraguay, we, that, colombia, with"
         ],
         "marker": {
          "color": "#D55E00"
         },
         "mode": "lines",
         "name": "11_colombia_colombian_nations_country",
         "type": "scatter",
         "x": [
          1945.923,
          1949.039,
          1954.105,
          1955.118,
          1958.158,
          1962.211,
          1965.25,
          1966.263,
          1968.289,
          1970.316,
          1971.329,
          1974.368,
          1975.382,
          1977.408,
          1980.447,
          1981.461,
          1983.487,
          1984.5,
          1985.513,
          1986.526,
          1989.566,
          1990.579,
          1992.605,
          1993.618,
          1994.632,
          1995.645,
          1996.658,
          1997.671,
          2001.724,
          2002.737,
          2004.763,
          2005.776,
          2007.803,
          2008.816,
          2009.829,
          2010.842,
          2012.868,
          2014.895,
          2015.908,
          2020.974,
          2021.987
         ],
         "y": [
          1,
          1,
          1,
          1,
          1,
          1,
          1,
          1,
          1,
          11,
          1,
          1,
          1,
          1,
          1,
          1,
          1,
          1,
          1,
          1,
          1,
          1,
          1,
          1,
          1,
          1,
          1,
          1,
          1,
          1,
          1,
          1,
          1,
          3,
          2,
          1,
          1,
          1,
          22,
          1,
          1
         ]
        },
        {
         "hoverinfo": "text",
         "hovertext": [
          "<b>Topic 12</b><br>Words: liberian, definite, had, would, world",
          "<b>Topic 12</b><br>Words: panama, peace, which, not, authority",
          "<b>Topic 12</b><br>Words: panama, soviet, cuba, union, which",
          "<b>Topic 12</b><br>Words: panama, canal, which, of, the",
          "<b>Topic 12</b><br>Words: romanian, panama, german, germany, states",
          "<b>Topic 12</b><br>Words: panama, delegation, my, which, this",
          "<b>Topic 12</b><br>Words: british, panama, manila, federation, malaysia",
          "<b>Topic 12</b><br>Words: mali, panama, government, stanleyville, republic",
          "<b>Topic 12</b><br>Words: goa, indian, india, panama, or",
          "<b>Topic 12</b><br>Words: somaliland, panama, french, territory, ethiopia",
          "<b>Topic 12</b><br>Words: yemen, palestine, panama, yemeni, people",
          "<b>Topic 12</b><br>Words: portuguese, panama, overseas, portugal, provinces",
          "<b>Topic 12</b><br>Words: panama, oil, of, the, which",
          "<b>Topic 12</b><br>Words: afghanistan, panama, this, session, of",
          "<b>Topic 12</b><br>Words: bolivia, panama, tin, andean, of",
          "<b>Topic 12</b><br>Words: panama, which, haiti, haitian, of",
          "<b>Topic 12</b><br>Words: panama, which, andean, money, screen",
          "<b>Topic 12</b><br>Words: paraguay, panama, republic, that, of",
          "<b>Topic 12</b><br>Words: panama, mexico, respect, latin, american",
          "<b>Topic 12</b><br>Words: panama, pacific, kuwait, south, our",
          "<b>Topic 12</b><br>Words: greece, panama, democracy, cyprus, greeks",
          "<b>Topic 12</b><br>Words: nigeria, panama, liberia, peace, in",
          "<b>Topic 12</b><br>Words: burundi, panama, has, the, and",
          "<b>Topic 12</b><br>Words: senegal, panama, solidarity, new, conflicts",
          "<b>Topic 12</b><br>Words: azerbaijan, osce, panama, azerbaijani, population",
          "<b>Topic 12</b><br>Words: korean, korea, reunification, peninsula, panama",
          "<b>Topic 12</b><br>Words: georgia, abkhazia, panama, unomig, georgian",
          "<b>Topic 12</b><br>Words: gabon, panama, of, african, the",
          "<b>Topic 12</b><br>Words: nauru, panama, pacific, bless, laundering",
          "<b>Topic 12</b><br>Words: leste, timor, panama, genocide, oda",
          "<b>Topic 12</b><br>Words: senegal, panama, fund, debt, with",
          "<b>Topic 12</b><br>Words: ecuador, minimums, minimum, panama, mdgs",
          "<b>Topic 12</b><br>Words: azerbaijan, region, panama, territories, eiti",
          "<b>Topic 12</b><br>Words: egypt, panama, 52586, international, in",
          "<b>Topic 12</b><br>Words: colom, panama, guatemala, 55276, have",
          "<b>Topic 12</b><br>Words: price, panama, food, financial, barrel",
          "<b>Topic 12</b><br>Words: lao, asean, panama, democratic, community",
          "<b>Topic 12</b><br>Words: herzegovina, bosnia, panama, european, and",
          "<b>Topic 12</b><br>Words: grenada, panama, island, climate, energy",
          "<b>Topic 12</b><br>Words: tonga, panama, samaritan, conservation, pacific",
          "<b>Topic 12</b><br>Words: climate, change, panama, dominica, insurance",
          "<b>Topic 12</b><br>Words: mongolia, panama, young, energy, climate",
          "<b>Topic 12</b><br>Words: panama, pandemic, covid, un, 19",
          "<b>Topic 12</b><br>Words: russia, lithuania, ukrainian, ukraine, gentlemen"
         ],
         "marker": {
          "color": "#0072B2"
         },
         "mode": "lines",
         "name": "12_panamanian_panama_panamanians_nations",
         "type": "scatter",
         "x": [
          1948.026,
          1950.053,
          1952.079,
          1955.118,
          1960.184,
          1961.197,
          1962.211,
          1963.224,
          1964.237,
          1965.25,
          1967.276,
          1971.329,
          1973.355,
          1974.368,
          1978.421,
          1980.447,
          1983.487,
          1986.526,
          1987.539,
          1989.566,
          1990.579,
          1992.605,
          1993.618,
          1994.632,
          1995.645,
          1996.658,
          1997.671,
          1998.684,
          2000.711,
          2003.75,
          2005.776,
          2006.789,
          2007.803,
          2008.816,
          2009.829,
          2010.842,
          2011.855,
          2012.868,
          2013.882,
          2015.908,
          2017.934,
          2018.947,
          2019.961,
          2021.987
         ],
         "y": [
          1,
          1,
          1,
          11,
          1,
          1,
          1,
          1,
          1,
          1,
          1,
          1,
          3,
          1,
          1,
          1,
          1,
          1,
          1,
          1,
          1,
          1,
          1,
          1,
          1,
          1,
          1,
          1,
          1,
          1,
          1,
          1,
          1,
          1,
          1,
          1,
          1,
          1,
          1,
          1,
          2,
          1,
          19,
          1
         ]
        },
        {
         "hoverinfo": "text",
         "hovertext": [
          "<b>Topic 13</b><br>Words: relief, norwegian, must, problems, we",
          "<b>Topic 13</b><br>Words: and, the, to, of, international",
          "<b>Topic 13</b><br>Words: boy, summit, challenge, sweden, commitments",
          "<b>Topic 13</b><br>Words: holy, holiness, pope, francis, cultures",
          "<b>Topic 13</b><br>Words: our, we, and, climate, to"
         ],
         "marker": {
          "color": "#CC79A7"
         },
         "mode": "lines",
         "name": "13_jeremić_president_republic_arab",
         "type": "scatter",
         "x": [
          1968.289,
          1985.513,
          2004.763,
          2013.882,
          2018.947
         ],
         "y": [
          1,
          40,
          1,
          1,
          32
         ]
        },
        {
         "hoverinfo": "text",
         "hovertext": [
          "<b>Topic 14</b><br>Words: had, egypt, was, egyptian, which",
          "<b>Topic 14</b><br>Words: the, of, in, united, to",
          "<b>Topic 14</b><br>Words: shatt, persian, iranian, al, this",
          "<b>Topic 14</b><br>Words: which, of, the, in, to",
          "<b>Topic 14</b><br>Words: this, rights, human, the, of",
          "<b>Topic 14</b><br>Words: this, for, of, independence, and",
          "<b>Topic 14</b><br>Words: papua, pacific, my, government, guinea",
          "<b>Topic 14</b><br>Words: thailand, delegation, kampuchean, thai, international",
          "<b>Topic 14</b><br>Words: nicaragua, made, economic, nicaraguan, social",
          "<b>Topic 14</b><br>Words: to, the, and, of, for",
          "<b>Topic 14</b><br>Words: malaysia, iraq, nations, must, islam",
          "<b>Topic 14</b><br>Words: iran, germany, emissions, departed, is",
          "<b>Topic 14</b><br>Words: czech, fukushima, energy, north, locations",
          "<b>Topic 14</b><br>Words: jordan, muslim, global, syria, communities",
          "<b>Topic 14</b><br>Words: inequality, jobs, cent, per, 29437",
          "<b>Topic 14</b><br>Words: africa, marked, continent, development, flows",
          "<b>Topic 14</b><br>Words: our, we, to, and, vanuatu",
          "<b>Topic 14</b><br>Words: francis, pope, holy, compact, common",
          "<b>Topic 14</b><br>Words: portugal, multilateralism, pandemic, pandemics, crises",
          "<b>Topic 14</b><br>Words: mauritius, chagos, archipelago, law, 295"
         ],
         "marker": {
          "color": "#E69F00"
         },
         "mode": "lines",
         "name": "14_guyana_general_venezuela_nations",
         "type": "scatter",
         "x": [
          1947.013,
          1957.145,
          1968.289,
          1971.329,
          1976.395,
          1977.408,
          1978.421,
          1985.513,
          1991.592,
          2001.724,
          2003.75,
          2006.789,
          2010.842,
          2013.882,
          2014.895,
          2015.908,
          2016.921,
          2018.947,
          2020.974,
          2021.987
         ],
         "y": [
          1,
          22,
          1,
          5,
          2,
          1,
          1,
          1,
          1,
          23,
          1,
          1,
          1,
          1,
          2,
          1,
          6,
          1,
          1,
          1
         ]
        }
       ],
       "layout": {
        "height": 450,
        "hoverlabel": {
         "bgcolor": "white",
         "font": {
          "family": "Rockwell",
          "size": 16
         }
        },
        "legend": {
         "title": {
          "text": "<b>Global Topic Representation"
         }
        },
        "template": {
         "data": {
          "bar": [
           {
            "error_x": {
             "color": "rgb(36,36,36)"
            },
            "error_y": {
             "color": "rgb(36,36,36)"
            },
            "marker": {
             "line": {
              "color": "white",
              "width": 0.5
             },
             "pattern": {
              "fillmode": "overlay",
              "size": 10,
              "solidity": 0.2
             }
            },
            "type": "bar"
           }
          ],
          "barpolar": [
           {
            "marker": {
             "line": {
              "color": "white",
              "width": 0.5
             },
             "pattern": {
              "fillmode": "overlay",
              "size": 10,
              "solidity": 0.2
             }
            },
            "type": "barpolar"
           }
          ],
          "carpet": [
           {
            "aaxis": {
             "endlinecolor": "rgb(36,36,36)",
             "gridcolor": "white",
             "linecolor": "white",
             "minorgridcolor": "white",
             "startlinecolor": "rgb(36,36,36)"
            },
            "baxis": {
             "endlinecolor": "rgb(36,36,36)",
             "gridcolor": "white",
             "linecolor": "white",
             "minorgridcolor": "white",
             "startlinecolor": "rgb(36,36,36)"
            },
            "type": "carpet"
           }
          ],
          "choropleth": [
           {
            "colorbar": {
             "outlinewidth": 1,
             "tickcolor": "rgb(36,36,36)",
             "ticks": "outside"
            },
            "type": "choropleth"
           }
          ],
          "contour": [
           {
            "colorbar": {
             "outlinewidth": 1,
             "tickcolor": "rgb(36,36,36)",
             "ticks": "outside"
            },
            "colorscale": [
             [
              0,
              "#440154"
             ],
             [
              0.1111111111111111,
              "#482878"
             ],
             [
              0.2222222222222222,
              "#3e4989"
             ],
             [
              0.3333333333333333,
              "#31688e"
             ],
             [
              0.4444444444444444,
              "#26828e"
             ],
             [
              0.5555555555555556,
              "#1f9e89"
             ],
             [
              0.6666666666666666,
              "#35b779"
             ],
             [
              0.7777777777777778,
              "#6ece58"
             ],
             [
              0.8888888888888888,
              "#b5de2b"
             ],
             [
              1,
              "#fde725"
             ]
            ],
            "type": "contour"
           }
          ],
          "contourcarpet": [
           {
            "colorbar": {
             "outlinewidth": 1,
             "tickcolor": "rgb(36,36,36)",
             "ticks": "outside"
            },
            "type": "contourcarpet"
           }
          ],
          "heatmap": [
           {
            "colorbar": {
             "outlinewidth": 1,
             "tickcolor": "rgb(36,36,36)",
             "ticks": "outside"
            },
            "colorscale": [
             [
              0,
              "#440154"
             ],
             [
              0.1111111111111111,
              "#482878"
             ],
             [
              0.2222222222222222,
              "#3e4989"
             ],
             [
              0.3333333333333333,
              "#31688e"
             ],
             [
              0.4444444444444444,
              "#26828e"
             ],
             [
              0.5555555555555556,
              "#1f9e89"
             ],
             [
              0.6666666666666666,
              "#35b779"
             ],
             [
              0.7777777777777778,
              "#6ece58"
             ],
             [
              0.8888888888888888,
              "#b5de2b"
             ],
             [
              1,
              "#fde725"
             ]
            ],
            "type": "heatmap"
           }
          ],
          "heatmapgl": [
           {
            "colorbar": {
             "outlinewidth": 1,
             "tickcolor": "rgb(36,36,36)",
             "ticks": "outside"
            },
            "colorscale": [
             [
              0,
              "#440154"
             ],
             [
              0.1111111111111111,
              "#482878"
             ],
             [
              0.2222222222222222,
              "#3e4989"
             ],
             [
              0.3333333333333333,
              "#31688e"
             ],
             [
              0.4444444444444444,
              "#26828e"
             ],
             [
              0.5555555555555556,
              "#1f9e89"
             ],
             [
              0.6666666666666666,
              "#35b779"
             ],
             [
              0.7777777777777778,
              "#6ece58"
             ],
             [
              0.8888888888888888,
              "#b5de2b"
             ],
             [
              1,
              "#fde725"
             ]
            ],
            "type": "heatmapgl"
           }
          ],
          "histogram": [
           {
            "marker": {
             "line": {
              "color": "white",
              "width": 0.6
             }
            },
            "type": "histogram"
           }
          ],
          "histogram2d": [
           {
            "colorbar": {
             "outlinewidth": 1,
             "tickcolor": "rgb(36,36,36)",
             "ticks": "outside"
            },
            "colorscale": [
             [
              0,
              "#440154"
             ],
             [
              0.1111111111111111,
              "#482878"
             ],
             [
              0.2222222222222222,
              "#3e4989"
             ],
             [
              0.3333333333333333,
              "#31688e"
             ],
             [
              0.4444444444444444,
              "#26828e"
             ],
             [
              0.5555555555555556,
              "#1f9e89"
             ],
             [
              0.6666666666666666,
              "#35b779"
             ],
             [
              0.7777777777777778,
              "#6ece58"
             ],
             [
              0.8888888888888888,
              "#b5de2b"
             ],
             [
              1,
              "#fde725"
             ]
            ],
            "type": "histogram2d"
           }
          ],
          "histogram2dcontour": [
           {
            "colorbar": {
             "outlinewidth": 1,
             "tickcolor": "rgb(36,36,36)",
             "ticks": "outside"
            },
            "colorscale": [
             [
              0,
              "#440154"
             ],
             [
              0.1111111111111111,
              "#482878"
             ],
             [
              0.2222222222222222,
              "#3e4989"
             ],
             [
              0.3333333333333333,
              "#31688e"
             ],
             [
              0.4444444444444444,
              "#26828e"
             ],
             [
              0.5555555555555556,
              "#1f9e89"
             ],
             [
              0.6666666666666666,
              "#35b779"
             ],
             [
              0.7777777777777778,
              "#6ece58"
             ],
             [
              0.8888888888888888,
              "#b5de2b"
             ],
             [
              1,
              "#fde725"
             ]
            ],
            "type": "histogram2dcontour"
           }
          ],
          "mesh3d": [
           {
            "colorbar": {
             "outlinewidth": 1,
             "tickcolor": "rgb(36,36,36)",
             "ticks": "outside"
            },
            "type": "mesh3d"
           }
          ],
          "parcoords": [
           {
            "line": {
             "colorbar": {
              "outlinewidth": 1,
              "tickcolor": "rgb(36,36,36)",
              "ticks": "outside"
             }
            },
            "type": "parcoords"
           }
          ],
          "pie": [
           {
            "automargin": true,
            "type": "pie"
           }
          ],
          "scatter": [
           {
            "fillpattern": {
             "fillmode": "overlay",
             "size": 10,
             "solidity": 0.2
            },
            "type": "scatter"
           }
          ],
          "scatter3d": [
           {
            "line": {
             "colorbar": {
              "outlinewidth": 1,
              "tickcolor": "rgb(36,36,36)",
              "ticks": "outside"
             }
            },
            "marker": {
             "colorbar": {
              "outlinewidth": 1,
              "tickcolor": "rgb(36,36,36)",
              "ticks": "outside"
             }
            },
            "type": "scatter3d"
           }
          ],
          "scattercarpet": [
           {
            "marker": {
             "colorbar": {
              "outlinewidth": 1,
              "tickcolor": "rgb(36,36,36)",
              "ticks": "outside"
             }
            },
            "type": "scattercarpet"
           }
          ],
          "scattergeo": [
           {
            "marker": {
             "colorbar": {
              "outlinewidth": 1,
              "tickcolor": "rgb(36,36,36)",
              "ticks": "outside"
             }
            },
            "type": "scattergeo"
           }
          ],
          "scattergl": [
           {
            "marker": {
             "colorbar": {
              "outlinewidth": 1,
              "tickcolor": "rgb(36,36,36)",
              "ticks": "outside"
             }
            },
            "type": "scattergl"
           }
          ],
          "scattermapbox": [
           {
            "marker": {
             "colorbar": {
              "outlinewidth": 1,
              "tickcolor": "rgb(36,36,36)",
              "ticks": "outside"
             }
            },
            "type": "scattermapbox"
           }
          ],
          "scatterpolar": [
           {
            "marker": {
             "colorbar": {
              "outlinewidth": 1,
              "tickcolor": "rgb(36,36,36)",
              "ticks": "outside"
             }
            },
            "type": "scatterpolar"
           }
          ],
          "scatterpolargl": [
           {
            "marker": {
             "colorbar": {
              "outlinewidth": 1,
              "tickcolor": "rgb(36,36,36)",
              "ticks": "outside"
             }
            },
            "type": "scatterpolargl"
           }
          ],
          "scatterternary": [
           {
            "marker": {
             "colorbar": {
              "outlinewidth": 1,
              "tickcolor": "rgb(36,36,36)",
              "ticks": "outside"
             }
            },
            "type": "scatterternary"
           }
          ],
          "surface": [
           {
            "colorbar": {
             "outlinewidth": 1,
             "tickcolor": "rgb(36,36,36)",
             "ticks": "outside"
            },
            "colorscale": [
             [
              0,
              "#440154"
             ],
             [
              0.1111111111111111,
              "#482878"
             ],
             [
              0.2222222222222222,
              "#3e4989"
             ],
             [
              0.3333333333333333,
              "#31688e"
             ],
             [
              0.4444444444444444,
              "#26828e"
             ],
             [
              0.5555555555555556,
              "#1f9e89"
             ],
             [
              0.6666666666666666,
              "#35b779"
             ],
             [
              0.7777777777777778,
              "#6ece58"
             ],
             [
              0.8888888888888888,
              "#b5de2b"
             ],
             [
              1,
              "#fde725"
             ]
            ],
            "type": "surface"
           }
          ],
          "table": [
           {
            "cells": {
             "fill": {
              "color": "rgb(237,237,237)"
             },
             "line": {
              "color": "white"
             }
            },
            "header": {
             "fill": {
              "color": "rgb(217,217,217)"
             },
             "line": {
              "color": "white"
             }
            },
            "type": "table"
           }
          ]
         },
         "layout": {
          "annotationdefaults": {
           "arrowhead": 0,
           "arrowwidth": 1
          },
          "autotypenumbers": "strict",
          "coloraxis": {
           "colorbar": {
            "outlinewidth": 1,
            "tickcolor": "rgb(36,36,36)",
            "ticks": "outside"
           }
          },
          "colorscale": {
           "diverging": [
            [
             0,
             "rgb(103,0,31)"
            ],
            [
             0.1,
             "rgb(178,24,43)"
            ],
            [
             0.2,
             "rgb(214,96,77)"
            ],
            [
             0.3,
             "rgb(244,165,130)"
            ],
            [
             0.4,
             "rgb(253,219,199)"
            ],
            [
             0.5,
             "rgb(247,247,247)"
            ],
            [
             0.6,
             "rgb(209,229,240)"
            ],
            [
             0.7,
             "rgb(146,197,222)"
            ],
            [
             0.8,
             "rgb(67,147,195)"
            ],
            [
             0.9,
             "rgb(33,102,172)"
            ],
            [
             1,
             "rgb(5,48,97)"
            ]
           ],
           "sequential": [
            [
             0,
             "#440154"
            ],
            [
             0.1111111111111111,
             "#482878"
            ],
            [
             0.2222222222222222,
             "#3e4989"
            ],
            [
             0.3333333333333333,
             "#31688e"
            ],
            [
             0.4444444444444444,
             "#26828e"
            ],
            [
             0.5555555555555556,
             "#1f9e89"
            ],
            [
             0.6666666666666666,
             "#35b779"
            ],
            [
             0.7777777777777778,
             "#6ece58"
            ],
            [
             0.8888888888888888,
             "#b5de2b"
            ],
            [
             1,
             "#fde725"
            ]
           ],
           "sequentialminus": [
            [
             0,
             "#440154"
            ],
            [
             0.1111111111111111,
             "#482878"
            ],
            [
             0.2222222222222222,
             "#3e4989"
            ],
            [
             0.3333333333333333,
             "#31688e"
            ],
            [
             0.4444444444444444,
             "#26828e"
            ],
            [
             0.5555555555555556,
             "#1f9e89"
            ],
            [
             0.6666666666666666,
             "#35b779"
            ],
            [
             0.7777777777777778,
             "#6ece58"
            ],
            [
             0.8888888888888888,
             "#b5de2b"
            ],
            [
             1,
             "#fde725"
            ]
           ]
          },
          "colorway": [
           "#1F77B4",
           "#FF7F0E",
           "#2CA02C",
           "#D62728",
           "#9467BD",
           "#8C564B",
           "#E377C2",
           "#7F7F7F",
           "#BCBD22",
           "#17BECF"
          ],
          "font": {
           "color": "rgb(36,36,36)"
          },
          "geo": {
           "bgcolor": "white",
           "lakecolor": "white",
           "landcolor": "white",
           "showlakes": true,
           "showland": true,
           "subunitcolor": "white"
          },
          "hoverlabel": {
           "align": "left"
          },
          "hovermode": "closest",
          "mapbox": {
           "style": "light"
          },
          "paper_bgcolor": "white",
          "plot_bgcolor": "white",
          "polar": {
           "angularaxis": {
            "gridcolor": "rgb(232,232,232)",
            "linecolor": "rgb(36,36,36)",
            "showgrid": false,
            "showline": true,
            "ticks": "outside"
           },
           "bgcolor": "white",
           "radialaxis": {
            "gridcolor": "rgb(232,232,232)",
            "linecolor": "rgb(36,36,36)",
            "showgrid": false,
            "showline": true,
            "ticks": "outside"
           }
          },
          "scene": {
           "xaxis": {
            "backgroundcolor": "white",
            "gridcolor": "rgb(232,232,232)",
            "gridwidth": 2,
            "linecolor": "rgb(36,36,36)",
            "showbackground": true,
            "showgrid": false,
            "showline": true,
            "ticks": "outside",
            "zeroline": false,
            "zerolinecolor": "rgb(36,36,36)"
           },
           "yaxis": {
            "backgroundcolor": "white",
            "gridcolor": "rgb(232,232,232)",
            "gridwidth": 2,
            "linecolor": "rgb(36,36,36)",
            "showbackground": true,
            "showgrid": false,
            "showline": true,
            "ticks": "outside",
            "zeroline": false,
            "zerolinecolor": "rgb(36,36,36)"
           },
           "zaxis": {
            "backgroundcolor": "white",
            "gridcolor": "rgb(232,232,232)",
            "gridwidth": 2,
            "linecolor": "rgb(36,36,36)",
            "showbackground": true,
            "showgrid": false,
            "showline": true,
            "ticks": "outside",
            "zeroline": false,
            "zerolinecolor": "rgb(36,36,36)"
           }
          },
          "shapedefaults": {
           "fillcolor": "black",
           "line": {
            "width": 0
           },
           "opacity": 0.3
          },
          "ternary": {
           "aaxis": {
            "gridcolor": "rgb(232,232,232)",
            "linecolor": "rgb(36,36,36)",
            "showgrid": false,
            "showline": true,
            "ticks": "outside"
           },
           "baxis": {
            "gridcolor": "rgb(232,232,232)",
            "linecolor": "rgb(36,36,36)",
            "showgrid": false,
            "showline": true,
            "ticks": "outside"
           },
           "bgcolor": "white",
           "caxis": {
            "gridcolor": "rgb(232,232,232)",
            "linecolor": "rgb(36,36,36)",
            "showgrid": false,
            "showline": true,
            "ticks": "outside"
           }
          },
          "title": {
           "x": 0.05
          },
          "xaxis": {
           "automargin": true,
           "gridcolor": "rgb(232,232,232)",
           "linecolor": "rgb(36,36,36)",
           "showgrid": false,
           "showline": true,
           "ticks": "outside",
           "title": {
            "standoff": 15
           },
           "zeroline": false,
           "zerolinecolor": "rgb(36,36,36)"
          },
          "yaxis": {
           "automargin": true,
           "gridcolor": "rgb(232,232,232)",
           "linecolor": "rgb(36,36,36)",
           "showgrid": false,
           "showline": true,
           "ticks": "outside",
           "title": {
            "standoff": 15
           },
           "zeroline": false,
           "zerolinecolor": "rgb(36,36,36)"
          }
         }
        },
        "title": {
         "font": {
          "color": "Black",
          "size": 22
         },
         "text": "<b>Topics over Time</b>",
         "x": 0.4,
         "xanchor": "center",
         "y": 0.95,
         "yanchor": "top"
        },
        "width": 1250,
        "xaxis": {
         "showgrid": true
        },
        "yaxis": {
         "showgrid": true,
         "title": {
          "text": "Frequency"
         }
        }
       }
      },
      "text/html": [
       "<div>                        <script type=\"text/javascript\">window.PlotlyConfig = {MathJaxConfig: 'local'};</script>\n",
       "        <script charset=\"utf-8\" src=\"https://cdn.plot.ly/plotly-2.27.0.min.js\"></script>                <div id=\"b6509887-0422-4119-8f51-548e20a4067d\" class=\"plotly-graph-div\" style=\"height:450px; width:1250px;\"></div>            <script type=\"text/javascript\">                                    window.PLOTLYENV=window.PLOTLYENV || {};                                    if (document.getElementById(\"b6509887-0422-4119-8f51-548e20a4067d\")) {                    Plotly.newPlot(                        \"b6509887-0422-4119-8f51-548e20a4067d\",                        [{\"hoverinfo\":\"text\",\"hovertext\":[\"\\u003cb\\u003eTopic 0\\u003c\\u002fb\\u003e\\u003cbr\\u003eWords: soviet, atomic, war, union, states\",\"\\u003cb\\u003eTopic 0\\u003c\\u002fb\\u003e\\u003cbr\\u003eWords: had, was, council, were, social\",\"\\u003cb\\u003eTopic 0\\u003c\\u002fb\\u003e\\u003cbr\\u003eWords: had, jerusalem, israel, greece, was\",\"\\u003cb\\u003eTopic 0\\u003c\\u002fb\\u003e\\u003cbr\\u003eWords: korea, it, which, is, the\",\"\\u003cb\\u003eTopic 0\\u003c\\u002fb\\u003e\\u003cbr\\u003eWords: imprisonment, court, executed, police, supervision\",\"\\u003cb\\u003eTopic 0\\u003c\\u002fb\\u003e\\u003cbr\\u003eWords: bolivia, it, which, creditor, not\",\"\\u003cb\\u003eTopic 0\\u003c\\u002fb\\u003e\\u003cbr\\u003eWords: dulles, soviet, circles, union, aggressive\",\"\\u003cb\\u003eTopic 0\\u003c\\u002fb\\u003e\\u003cbr\\u003eWords: it, not, is, that, atomic\",\"\\u003cb\\u003eTopic 0\\u003c\\u002fb\\u003e\\u003cbr\\u003eWords: egypt, israel, canal, not, united\",\"\\u003cb\\u003eTopic 0\\u003c\\u002fb\\u003e\\u003cbr\\u003eWords: the, that, soviet, of, not\",\"\\u003cb\\u003eTopic 0\\u003c\\u002fb\\u003e\\u003cbr\\u003eWords: this, be, is, in, of\",\"\\u003cb\\u003eTopic 0\\u003c\\u002fb\\u003e\\u003cbr\\u003eWords: algerian, oman, optimism, united, arab\",\"\\u003cb\\u003eTopic 0\\u003c\\u002fb\\u003e\\u003cbr\\u003eWords: is, of, not, that, the\",\"\\u003cb\\u003eTopic 0\\u003c\\u002fb\\u003e\\u003cbr\\u003eWords: german, the, of, is, netherlands\",\"\\u003cb\\u003eTopic 0\\u003c\\u002fb\\u003e\\u003cbr\\u003eWords: volta, upper, the, of, which\",\"\\u003cb\\u003eTopic 0\\u003c\\u002fb\\u003e\\u003cbr\\u003eWords: the, of, which, that, to\",\"\\u003cb\\u003eTopic 0\\u003c\\u002fb\\u003e\\u003cbr\\u003eWords: of, the, which, it, to\",\"\\u003cb\\u003eTopic 0\\u003c\\u002fb\\u003e\\u003cbr\\u003eWords: the, of, to, viet, in\",\"\\u003cb\\u003eTopic 0\\u003c\\u002fb\\u003e\\u003cbr\\u003eWords: that, the, is, of, which\",\"\\u003cb\\u003eTopic 0\\u003c\\u002fb\\u003e\\u003cbr\\u003eWords: soviet, viet, of, the, is\",\"\\u003cb\\u003eTopic 0\\u003c\\u002fb\\u003e\\u003cbr\\u003eWords: of, is, the, which, that\",\"\\u003cb\\u003eTopic 0\\u003c\\u002fb\\u003e\\u003cbr\\u003eWords: of, which, the, in, is\",\"\\u003cb\\u003eTopic 0\\u003c\\u002fb\\u003e\\u003cbr\\u003eWords: of, the, which, that, it\",\"\\u003cb\\u003eTopic 0\\u003c\\u002fb\\u003e\\u003cbr\\u003eWords: of, the, to, that, and\",\"\\u003cb\\u003eTopic 0\\u003c\\u002fb\\u003e\\u003cbr\\u003eWords: of, soviet, the, that, by\",\"\\u003cb\\u003eTopic 0\\u003c\\u002fb\\u003e\\u003cbr\\u003eWords: of, the, to, that, is\",\"\\u003cb\\u003eTopic 0\\u003c\\u002fb\\u003e\\u003cbr\\u003eWords: of, the, and, in, to\",\"\\u003cb\\u003eTopic 0\\u003c\\u002fb\\u003e\\u003cbr\\u003eWords: of, the, and, in, to\",\"\\u003cb\\u003eTopic 0\\u003c\\u002fb\\u003e\\u003cbr\\u003eWords: of, the, detente, and, in\",\"\\u003cb\\u003eTopic 0\\u003c\\u002fb\\u003e\\u003cbr\\u003eWords: the, of, and, to, in\",\"\\u003cb\\u003eTopic 0\\u003c\\u002fb\\u003e\\u003cbr\\u003eWords: which, venezuela, new, is, of\",\"\\u003cb\\u003eTopic 0\\u003c\\u002fb\\u003e\\u003cbr\\u003eWords: the, of, that, and, in\",\"\\u003cb\\u003eTopic 0\\u003c\\u002fb\\u003e\\u003cbr\\u003eWords: of, the, and, to, in\",\"\\u003cb\\u003eTopic 0\\u003c\\u002fb\\u003e\\u003cbr\\u003eWords: the, of, in, to, and\",\"\\u003cb\\u003eTopic 0\\u003c\\u002fb\\u003e\\u003cbr\\u003eWords: of, the, and, to, in\",\"\\u003cb\\u003eTopic 0\\u003c\\u002fb\\u003e\\u003cbr\\u003eWords: of, the, and, to, in\",\"\\u003cb\\u003eTopic 0\\u003c\\u002fb\\u003e\\u003cbr\\u003eWords: of, the, and, to, in\",\"\\u003cb\\u003eTopic 0\\u003c\\u002fb\\u003e\\u003cbr\\u003eWords: the, of, and, to, in\",\"\\u003cb\\u003eTopic 0\\u003c\\u002fb\\u003e\\u003cbr\\u003eWords: iranian, iran, iraq, regime, the\",\"\\u003cb\\u003eTopic 0\\u003c\\u002fb\\u003e\\u003cbr\\u003eWords: the, of, in, that, to\",\"\\u003cb\\u003eTopic 0\\u003c\\u002fb\\u003e\\u003cbr\\u003eWords: burundi, the, in, that, to\",\"\\u003cb\\u003eTopic 0\\u003c\\u002fb\\u003e\\u003cbr\\u003eWords: the, of, in, and, to\",\"\\u003cb\\u003eTopic 0\\u003c\\u002fb\\u003e\\u003cbr\\u003eWords: the, of, and, in, to\",\"\\u003cb\\u003eTopic 0\\u003c\\u002fb\\u003e\\u003cbr\\u003eWords: the, of, and, in, to\",\"\\u003cb\\u003eTopic 0\\u003c\\u002fb\\u003e\\u003cbr\\u003eWords: to, the, is, in, that\",\"\\u003cb\\u003eTopic 0\\u003c\\u002fb\\u003e\\u003cbr\\u003eWords: the, of, and, to, in\",\"\\u003cb\\u003eTopic 0\\u003c\\u002fb\\u003e\\u003cbr\\u003eWords: united, nations, the, to, and\",\"\\u003cb\\u003eTopic 0\\u003c\\u002fb\\u003e\\u003cbr\\u003eWords: the, to, and, united, in\",\"\\u003cb\\u003eTopic 0\\u003c\\u002fb\\u003e\\u003cbr\\u003eWords: the, to, of, and, we\",\"\\u003cb\\u003eTopic 0\\u003c\\u002fb\\u003e\\u003cbr\\u003eWords: taliban, the, to, of, human\",\"\\u003cb\\u003eTopic 0\\u003c\\u002fb\\u003e\\u003cbr\\u003eWords: the, of, to, in, and\",\"\\u003cb\\u003eTopic 0\\u003c\\u002fb\\u003e\\u003cbr\\u003eWords: the, of, to, united, and\",\"\\u003cb\\u003eTopic 0\\u003c\\u002fb\\u003e\\u003cbr\\u003eWords: we, and, to, the, in\",\"\\u003cb\\u003eTopic 0\\u003c\\u002fb\\u003e\\u003cbr\\u003eWords: we, the, to, and, of\",\"\\u003cb\\u003eTopic 0\\u003c\\u002fb\\u003e\\u003cbr\\u003eWords: to, and, that, the, we\",\"\\u003cb\\u003eTopic 0\\u003c\\u002fb\\u003e\\u003cbr\\u003eWords: to, the, in, and, of\",\"\\u003cb\\u003eTopic 0\\u003c\\u002fb\\u003e\\u003cbr\\u003eWords: and, to, the, we, of\",\"\\u003cb\\u003eTopic 0\\u003c\\u002fb\\u003e\\u003cbr\\u003eWords: and, development, the, that, to\",\"\\u003cb\\u003eTopic 0\\u003c\\u002fb\\u003e\\u003cbr\\u003eWords: climate, change, to, that, the\",\"\\u003cb\\u003eTopic 0\\u003c\\u002fb\\u003e\\u003cbr\\u003eWords: that, food, we, to, and\",\"\\u003cb\\u003eTopic 0\\u003c\\u002fb\\u003e\\u003cbr\\u003eWords: global, we, and, to, that\",\"\\u003cb\\u003eTopic 0\\u003c\\u002fb\\u003e\\u003cbr\\u003eWords: and, to, the, that, united\",\"\\u003cb\\u003eTopic 0\\u003c\\u002fb\\u003e\\u003cbr\\u003eWords: the, to, we, of, and\",\"\\u003cb\\u003eTopic 0\\u003c\\u002fb\\u003e\\u003cbr\\u003eWords: we, and, is, to, our\",\"\\u003cb\\u003eTopic 0\\u003c\\u002fb\\u003e\\u003cbr\\u003eWords: development, we, that, and, the\",\"\\u003cb\\u003eTopic 0\\u003c\\u002fb\\u003e\\u003cbr\\u003eWords: we, our, and, to, that\",\"\\u003cb\\u003eTopic 0\\u003c\\u002fb\\u003e\\u003cbr\\u003eWords: we, 70, that, and, is\",\"\\u003cb\\u003eTopic 0\\u003c\\u002fb\\u003e\\u003cbr\\u003eWords: our, we, is, that, and\",\"\\u003cb\\u003eTopic 0\\u003c\\u002fb\\u003e\\u003cbr\\u003eWords: sudan, that, our, to, algeria\",\"\\u003cb\\u003eTopic 0\\u003c\\u002fb\\u003e\\u003cbr\\u003eWords: we, that, and, to, our\",\"\\u003cb\\u003eTopic 0\\u003c\\u002fb\\u003e\\u003cbr\\u003eWords: we, our, that, are, climate\",\"\\u003cb\\u003eTopic 0\\u003c\\u002fb\\u003e\\u003cbr\\u003eWords: pandemic, un, covid, mr, our\",\"\\u003cb\\u003eTopic 0\\u003c\\u002fb\\u003e\\u003cbr\\u003eWords: pandemic, and, covid, to, we\",\"\\u003cb\\u003eTopic 0\\u003c\\u002fb\\u003e\\u003cbr\\u003eWords: we, our, climate, and, is\"],\"marker\":{\"color\":\"#E69F00\"},\"mode\":\"lines\",\"name\":\"0_peace_nations_general_organization\",\"x\":[1945.923,1947.013,1948.026,1949.039,1950.053,1951.066,1952.079,1953.092,1955.118,1956.132,1957.145,1958.158,1959.171,1960.184,1961.197,1962.211,1964.237,1965.25,1966.263,1967.276,1968.289,1969.303,1970.316,1971.329,1972.342,1973.355,1974.368,1975.382,1976.395,1977.408,1978.421,1979.434,1980.447,1981.461,1982.474,1983.487,1984.5,1985.513,1986.526,1987.539,1988.553,1989.566,1990.579,1991.592,1992.605,1993.618,1994.632,1995.645,1996.658,1997.671,1998.684,1999.697,2000.711,2001.724,2002.737,2003.75,2004.763,2005.776,2006.789,2007.803,2008.816,2009.829,2010.842,2011.855,2012.868,2013.882,2014.895,2015.908,2016.921,2017.934,2018.947,2019.961,2020.974,2021.987],\"y\":[5,5,3,19,2,2,1,4,7,6,4,2,8,5,3,9,21,52,4,5,17,6,12,12,5,39,23,21,6,32,2,5,13,7,13,10,13,15,5,20,4,10,34,19,8,28,32,14,14,7,10,29,11,8,13,13,30,30,12,24,9,15,21,12,13,26,12,9,6,107,26,8,42,23],\"type\":\"scatter\"},{\"hoverinfo\":\"text\",\"hovertext\":[\"\\u003cb\\u003eTopic 1\\u003c\\u002fb\\u003e\\u003cbr\\u003eWords: veto, charter, the, of, members\",\"\\u003cb\\u003eTopic 1\\u003c\\u002fb\\u003e\\u003cbr\\u003eWords: had, was, were, would, nations\",\"\\u003cb\\u003eTopic 1\\u003c\\u002fb\\u003e\\u003cbr\\u003eWords: had, was, would, were, assembly\",\"\\u003cb\\u003eTopic 1\\u003c\\u002fb\\u003e\\u003cbr\\u003eWords: ussr, salvadorean, delegation, united, it\",\"\\u003cb\\u003eTopic 1\\u003c\\u002fb\\u003e\\u003cbr\\u003eWords: korea, the, of, chinese, is\",\"\\u003cb\\u003eTopic 1\\u003c\\u002fb\\u003e\\u003cbr\\u003eWords: atomic, czechoslovak, propaganda, war, 1954\",\"\\u003cb\\u003eTopic 1\\u003c\\u002fb\\u003e\\u003cbr\\u003eWords: economic, ten, which, it, this\",\"\\u003cb\\u003eTopic 1\\u003c\\u002fb\\u003e\\u003cbr\\u003eWords: hungarian, hungary, 1957, resolution, counter\",\"\\u003cb\\u003eTopic 1\\u003c\\u002fb\\u003e\\u003cbr\\u003eWords: states, united, kingdom, the, of\",\"\\u003cb\\u003eTopic 1\\u003c\\u002fb\\u003e\\u003cbr\\u003eWords: not, or, it, there, this\",\"\\u003cb\\u003eTopic 1\\u003c\\u002fb\\u003e\\u003cbr\\u003eWords: cameroon, cameroons, delegation, or, federal\",\"\\u003cb\\u003eTopic 1\\u003c\\u002fb\\u003e\\u003cbr\\u003eWords: cuba, you, not, it, is\",\"\\u003cb\\u003eTopic 1\\u003c\\u002fb\\u003e\\u003cbr\\u003eWords: which, of, be, this, in\",\"\\u003cb\\u003eTopic 1\\u003c\\u002fb\\u003e\\u003cbr\\u003eWords: it, not, is, zealand, we\",\"\\u003cb\\u003eTopic 1\\u003c\\u002fb\\u003e\\u003cbr\\u003eWords: of, the, viet, this, united\",\"\\u003cb\\u003eTopic 1\\u003c\\u002fb\\u003e\\u003cbr\\u003eWords: is, that, in, of, the\",\"\\u003cb\\u003eTopic 1\\u003c\\u002fb\\u003e\\u003cbr\\u003eWords: which, it, that, of, to\",\"\\u003cb\\u003eTopic 1\\u003c\\u002fb\\u003e\\u003cbr\\u003eWords: mongolian, nam, republic, viet, asia\",\"\\u003cb\\u003eTopic 1\\u003c\\u002fb\\u003e\\u003cbr\\u003eWords: committees, lebanon, nations, united, which\",\"\\u003cb\\u003eTopic 1\\u003c\\u002fb\\u003e\\u003cbr\\u003eWords: which, of, it, the, to\",\"\\u003cb\\u003eTopic 1\\u003c\\u002fb\\u003e\\u003cbr\\u003eWords: of, the, in, which, this\",\"\\u003cb\\u003eTopic 1\\u003c\\u002fb\\u003e\\u003cbr\\u003eWords: poland, of, operation, the, all\",\"\\u003cb\\u003eTopic 1\\u003c\\u002fb\\u003e\\u003cbr\\u003eWords: of, the, that, to, in\",\"\\u003cb\\u003eTopic 1\\u003c\\u002fb\\u003e\\u003cbr\\u003eWords: kampuchea, of, the, and, which\",\"\\u003cb\\u003eTopic 1\\u003c\\u002fb\\u003e\\u003cbr\\u003eWords: soviet, union, of, states, it\",\"\\u003cb\\u003eTopic 1\\u003c\\u002fb\\u003e\\u003cbr\\u003eWords: zionist, the, of, in, entity\",\"\\u003cb\\u003eTopic 1\\u003c\\u002fb\\u003e\\u003cbr\\u003eWords: fish, oceans, ocean, global, are\",\"\\u003cb\\u003eTopic 1\\u003c\\u002fb\\u003e\\u003cbr\\u003eWords: of, the, this, which, in\",\"\\u003cb\\u003eTopic 1\\u003c\\u002fb\\u003e\\u003cbr\\u003eWords: of, the, and, in, to\",\"\\u003cb\\u003eTopic 1\\u003c\\u002fb\\u003e\\u003cbr\\u003eWords: japan, to, northsouth, be, the\",\"\\u003cb\\u003eTopic 1\\u003c\\u002fb\\u003e\\u003cbr\\u003eWords: of, the, and, to, in\",\"\\u003cb\\u003eTopic 1\\u003c\\u002fb\\u003e\\u003cbr\\u003eWords: of, the, to, in, and\",\"\\u003cb\\u003eTopic 1\\u003c\\u002fb\\u003e\\u003cbr\\u003eWords: of, the, to, in, and\",\"\\u003cb\\u003eTopic 1\\u003c\\u002fb\\u003e\\u003cbr\\u003eWords: us, not, people, some, our\",\"\\u003cb\\u003eTopic 1\\u003c\\u002fb\\u003e\\u003cbr\\u003eWords: israel, jews, soviet, lebanon, terror\",\"\\u003cb\\u003eTopic 1\\u003c\\u002fb\\u003e\\u003cbr\\u003eWords: the, of, is, to, that\",\"\\u003cb\\u003eTopic 1\\u003c\\u002fb\\u003e\\u003cbr\\u003eWords: of, the, in, to, that\",\"\\u003cb\\u003eTopic 1\\u003c\\u002fb\\u003e\\u003cbr\\u003eWords: the, of, to, in, and\",\"\\u003cb\\u003eTopic 1\\u003c\\u002fb\\u003e\\u003cbr\\u003eWords: the, of, in, and, that\",\"\\u003cb\\u003eTopic 1\\u003c\\u002fb\\u003e\\u003cbr\\u003eWords: jordan, to, the, of, and\",\"\\u003cb\\u003eTopic 1\\u003c\\u002fb\\u003e\\u003cbr\\u003eWords: some, in, that, body, should\",\"\\u003cb\\u003eTopic 1\\u003c\\u002fb\\u003e\\u003cbr\\u003eWords: the, and, of, in, to\",\"\\u003cb\\u003eTopic 1\\u003c\\u002fb\\u003e\\u003cbr\\u003eWords: albania, greek, in, to, the\",\"\\u003cb\\u003eTopic 1\\u003c\\u002fb\\u003e\\u003cbr\\u003eWords: the, of, to, in, and\",\"\\u003cb\\u003eTopic 1\\u003c\\u002fb\\u003e\\u003cbr\\u003eWords: the, of, this, in, and\",\"\\u003cb\\u003eTopic 1\\u003c\\u002fb\\u003e\\u003cbr\\u003eWords: china, democracy, nicaragua, programmes, central\",\"\\u003cb\\u003eTopic 1\\u003c\\u002fb\\u003e\\u003cbr\\u003eWords: the, of, to, in, and\",\"\\u003cb\\u003eTopic 1\\u003c\\u002fb\\u003e\\u003cbr\\u003eWords: the, this, and, to, be\",\"\\u003cb\\u003eTopic 1\\u003c\\u002fb\\u003e\\u003cbr\\u003eWords: kosovo, and, the, human, to\",\"\\u003cb\\u003eTopic 1\\u003c\\u002fb\\u003e\\u003cbr\\u003eWords: terrorism, and, the, to, united\",\"\\u003cb\\u003eTopic 1\\u003c\\u002fb\\u003e\\u003cbr\\u003eWords: to, the, of, and, that\",\"\\u003cb\\u003eTopic 1\\u003c\\u002fb\\u003e\\u003cbr\\u003eWords: iraq, iraqi, and, iraqis, the\",\"\\u003cb\\u003eTopic 1\\u003c\\u002fb\\u003e\\u003cbr\\u003eWords: and, that, the, to, we\",\"\\u003cb\\u003eTopic 1\\u003c\\u002fb\\u003e\\u003cbr\\u003eWords: tuvalu, and, to, the, we\",\"\\u003cb\\u003eTopic 1\\u003c\\u002fb\\u003e\\u003cbr\\u003eWords: tonga, ireland, islam, muslim, the\",\"\\u003cb\\u003eTopic 1\\u003c\\u002fb\\u003e\\u003cbr\\u003eWords: to, ethiopia, and, the, in\",\"\\u003cb\\u003eTopic 1\\u003c\\u002fb\\u003e\\u003cbr\\u003eWords: latvia, yemen, that, and, the\",\"\\u003cb\\u003eTopic 1\\u003c\\u002fb\\u003e\\u003cbr\\u003eWords: to, and, we, our, the\",\"\\u003cb\\u003eTopic 1\\u003c\\u002fb\\u003e\\u003cbr\\u003eWords: palau, our, pacific, climate, change\",\"\\u003cb\\u003eTopic 1\\u003c\\u002fb\\u003e\\u003cbr\\u003eWords: malta, libya, libyan, africa, au\",\"\\u003cb\\u003eTopic 1\\u003c\\u002fb\\u003e\\u003cbr\\u003eWords: ireland, we, our, are, rights\",\"\\u003cb\\u003eTopic 1\\u003c\\u002fb\\u003e\\u003cbr\\u003eWords: development, 2015, that, to, the\",\"\\u003cb\\u003eTopic 1\\u003c\\u002fb\\u003e\\u003cbr\\u003eWords: development, we, that, the, and\",\"\\u003cb\\u003eTopic 1\\u003c\\u002fb\\u003e\\u003cbr\\u003eWords: 70, we, and, that, to\",\"\\u003cb\\u003eTopic 1\\u003c\\u002fb\\u003e\\u003cbr\\u003eWords: sustainable, we, and, development, our\",\"\\u003cb\\u003eTopic 1\\u003c\\u002fb\\u003e\\u003cbr\\u003eWords: and, we, to, our, that\",\"\\u003cb\\u003eTopic 1\\u003c\\u002fb\\u003e\\u003cbr\\u003eWords: yemen, mexico, yemeni, croatia, our\",\"\\u003cb\\u003eTopic 1\\u003c\\u002fb\\u003e\\u003cbr\\u003eWords: cabo, korean, korea, peninsula, verde\",\"\\u003cb\\u003eTopic 1\\u003c\\u002fb\\u003e\\u003cbr\\u003eWords: azerbaijan, armenia, un, moldova, pandemic\",\"\\u003cb\\u003eTopic 1\\u003c\\u002fb\\u003e\\u003cbr\\u003eWords: covid, thailand, 19, pandemic, herzegovina\",\"\\u003cb\\u003eTopic 1\\u003c\\u002fb\\u003e\\u003cbr\\u003eWords: our, we, and, to, is\"],\"marker\":{\"color\":\"#56B4E9\"},\"mode\":\"lines\",\"name\":\"1_general_nations_political_government\",\"x\":[1945.923,1947.013,1948.026,1950.053,1952.079,1953.092,1954.105,1956.132,1957.145,1959.171,1960.184,1961.197,1962.211,1963.224,1964.237,1965.25,1967.276,1968.289,1969.303,1970.316,1971.329,1972.342,1973.355,1974.368,1975.382,1976.395,1977.408,1978.421,1979.434,1980.447,1981.461,1982.474,1983.487,1984.5,1985.513,1986.526,1987.539,1988.553,1989.566,1990.579,1991.592,1992.605,1993.618,1994.632,1995.645,1996.658,1997.671,1998.684,1999.697,2000.711,2001.724,2002.737,2003.75,2004.763,2005.776,2006.789,2007.803,2008.816,2009.829,2010.842,2011.855,2012.868,2013.882,2014.895,2015.908,2016.921,2017.934,2018.947,2019.961,2020.974,2021.987],\"y\":[7,3,2,2,5,1,1,1,6,6,2,2,9,3,15,7,7,1,2,11,19,3,9,5,1,7,1,14,17,2,7,23,6,1,1,14,6,13,7,4,1,18,4,17,26,1,30,6,8,8,13,6,13,7,3,13,4,26,3,2,3,12,9,27,11,16,3,4,7,4,19],\"type\":\"scatter\"},{\"hoverinfo\":\"text\",\"hovertext\":[\"\\u003cb\\u003eTopic 2\\u003c\\u002fb\\u003e\\u003cbr\\u003eWords: council, the, veto, of, this\",\"\\u003cb\\u003eTopic 2\\u003c\\u002fb\\u003e\\u003cbr\\u003eWords: which, the, of, in, it\",\"\\u003cb\\u003eTopic 2\\u003c\\u002fb\\u003e\\u003cbr\\u003eWords: of, the, this, in, to\",\"\\u003cb\\u003eTopic 2\\u003c\\u002fb\\u003e\\u003cbr\\u003eWords: rica, costa, trade, nations, united\",\"\\u003cb\\u003eTopic 2\\u003c\\u002fb\\u003e\\u003cbr\\u003eWords: environment, planetary, life, of, these\",\"\\u003cb\\u003eTopic 2\\u003c\\u002fb\\u003e\\u003cbr\\u003eWords: of, the, and, in, this\",\"\\u003cb\\u003eTopic 2\\u003c\\u002fb\\u003e\\u003cbr\\u003eWords: equatorial, guinea, by, which, independence\",\"\\u003cb\\u003eTopic 2\\u003c\\u002fb\\u003e\\u003cbr\\u003eWords: ireland, northern, irish, particular, this\",\"\\u003cb\\u003eTopic 2\\u003c\\u002fb\\u003e\\u003cbr\\u003eWords: jamahiriya, david, zionist, arab, camp\",\"\\u003cb\\u003eTopic 2\\u003c\\u002fb\\u003e\\u003cbr\\u003eWords: grenada, caribbean, imperialism, our, people\",\"\\u003cb\\u003eTopic 2\\u003c\\u002fb\\u003e\\u003cbr\\u003eWords: venezuela, of, and, the, countries\",\"\\u003cb\\u003eTopic 2\\u003c\\u002fb\\u003e\\u003cbr\\u003eWords: the, of, and, in, to\",\"\\u003cb\\u003eTopic 2\\u003c\\u002fb\\u003e\\u003cbr\\u003eWords: antarctica, my, small, we, contracting\",\"\\u003cb\\u003eTopic 2\\u003c\\u002fb\\u003e\\u003cbr\\u003eWords: salvador, el, the, democracy, has\",\"\\u003cb\\u003eTopic 2\\u003c\\u002fb\\u003e\\u003cbr\\u003eWords: rights, human, the, of, and\",\"\\u003cb\\u003eTopic 2\\u003c\\u002fb\\u003e\\u003cbr\\u003eWords: arf, thailand, development, agenda, meeting\",\"\\u003cb\\u003eTopic 2\\u003c\\u002fb\\u003e\\u003cbr\\u003eWords: senegal, conflicts, organization, must, of\",\"\\u003cb\\u003eTopic 2\\u003c\\u002fb\\u003e\\u003cbr\\u003eWords: pakistan, india, kashmir, ctbt, nuclear\",\"\\u003cb\\u003eTopic 2\\u003c\\u002fb\\u003e\\u003cbr\\u003eWords: mauritius, century, wto, the, in\",\"\\u003cb\\u003eTopic 2\\u003c\\u002fb\\u003e\\u003cbr\\u003eWords: angola, reconstruction, institutions, continent, african\",\"\\u003cb\\u003eTopic 2\\u003c\\u002fb\\u003e\\u003cbr\\u003eWords: germany, iran, sudan, responsibility, dialogue\",\"\\u003cb\\u003eTopic 2\\u003c\\u002fb\\u003e\\u003cbr\\u003eWords: hungary, afghanistan, canada, rights, democracy\",\"\\u003cb\\u003eTopic 2\\u003c\\u002fb\\u003e\\u003cbr\\u003eWords: niger, 2009, held, 52598, president\",\"\\u003cb\\u003eTopic 2\\u003c\\u002fb\\u003e\\u003cbr\\u003eWords: uruguay, system, 55396, country, haiti\",\"\\u003cb\\u003eTopic 2\\u003c\\u002fb\\u003e\\u003cbr\\u003eWords: spain, year, continue, will, to\",\"\\u003cb\\u003eTopic 2\\u003c\\u002fb\\u003e\\u003cbr\\u003eWords: afghanistan, afghan, socioeconomic, cooperation, decade\",\"\\u003cb\\u003eTopic 2\\u003c\\u002fb\\u003e\\u003cbr\\u003eWords: kenya, unep, sustainable, challenges, platform\",\"\\u003cb\\u003eTopic 2\\u003c\\u002fb\\u003e\\u003cbr\\u003eWords: korea, korean, peninsula, carbon, neutrality\",\"\\u003cb\\u003eTopic 2\\u003c\\u002fb\\u003e\\u003cbr\\u003eWords: ukraine, russia, global, we, italy\"],\"marker\":{\"color\":\"#009E73\"},\"mode\":\"lines\",\"name\":\"2_ukraine_republic_ukrainian_general\",\"x\":[1945.923,1953.092,1961.197,1963.224,1971.329,1972.342,1974.368,1976.395,1977.408,1978.421,1980.447,1981.461,1982.474,1987.539,1991.592,1993.618,1995.645,1997.671,1998.684,2002.737,2005.776,2006.789,2008.816,2009.829,2011.855,2013.882,2016.921,2020.974,2021.987],\"y\":[13,10,28,1,1,5,1,1,1,1,1,23,1,2,2,1,1,1,2,1,1,2,1,1,1,1,1,1,3],\"type\":\"scatter\"},{\"hoverinfo\":\"text\",\"hovertext\":[\"\\u003cb\\u003eTopic 3\\u003c\\u002fb\\u003e\\u003cbr\\u003eWords: atomic, appropriations, ussr, war, propaganda\",\"\\u003cb\\u003eTopic 3\\u003c\\u002fb\\u003e\\u003cbr\\u003eWords: is, it, the, of, mexico\",\"\\u003cb\\u003eTopic 3\\u003c\\u002fb\\u003e\\u003cbr\\u003eWords: of, the, mexico, to, in\",\"\\u003cb\\u003eTopic 3\\u003c\\u002fb\\u003e\\u003cbr\\u003eWords: of, arab, to, we, resolution\",\"\\u003cb\\u003eTopic 3\\u003c\\u002fb\\u003e\\u003cbr\\u003eWords: danish, denmark, co, operation, in\",\"\\u003cb\\u003eTopic 3\\u003c\\u002fb\\u003e\\u003cbr\\u003eWords: niger, we, our, uruguay, of\",\"\\u003cb\\u003eTopic 3\\u003c\\u002fb\\u003e\\u003cbr\\u003eWords: yemen, co, operation, countries, international\",\"\\u003cb\\u003eTopic 3\\u003c\\u002fb\\u003e\\u003cbr\\u003eWords: france, it, that, to, for\",\"\\u003cb\\u003eTopic 3\\u003c\\u002fb\\u003e\\u003cbr\\u003eWords: ecuador, of, that, justice, with\",\"\\u003cb\\u003eTopic 3\\u003c\\u002fb\\u003e\\u003cbr\\u003eWords: nigeria, africa, decade, to, south\",\"\\u003cb\\u003eTopic 3\\u003c\\u002fb\\u003e\\u003cbr\\u003eWords: of, that, the, is, to\",\"\\u003cb\\u003eTopic 3\\u003c\\u002fb\\u003e\\u003cbr\\u003eWords: gulf, of, the, continued, world\",\"\\u003cb\\u003eTopic 3\\u003c\\u002fb\\u003e\\u003cbr\\u003eWords: of, is, and, mexico, the\",\"\\u003cb\\u003eTopic 3\\u003c\\u002fb\\u003e\\u003cbr\\u003eWords: the, of, and, to, in\",\"\\u003cb\\u003eTopic 3\\u003c\\u002fb\\u003e\\u003cbr\\u003eWords: angola, hong, kong, south, for\",\"\\u003cb\\u003eTopic 3\\u003c\\u002fb\\u003e\\u003cbr\\u003eWords: the, in, of, and, mexico\",\"\\u003cb\\u003eTopic 3\\u003c\\u002fb\\u003e\\u003cbr\\u003eWords: keeping, gambia, peace, we, will\",\"\\u003cb\\u003eTopic 3\\u003c\\u002fb\\u003e\\u003cbr\\u003eWords: nuclear, iran, values, council, and\",\"\\u003cb\\u003eTopic 3\\u003c\\u002fb\\u003e\\u003cbr\\u003eWords: slovakia, slovak, united, nations, for\",\"\\u003cb\\u003eTopic 3\\u003c\\u002fb\\u003e\\u003cbr\\u003eWords: morocco, madagascar, quds, as, economic\",\"\\u003cb\\u003eTopic 3\\u003c\\u002fb\\u003e\\u003cbr\\u003eWords: spain, on, the, of, to\",\"\\u003cb\\u003eTopic 3\\u003c\\u002fb\\u003e\\u003cbr\\u003eWords: mexico, international, exclusion, that, shaping\",\"\\u003cb\\u003eTopic 3\\u003c\\u002fb\\u003e\\u003cbr\\u003eWords: that, the, to, in, we\",\"\\u003cb\\u003eTopic 3\\u003c\\u002fb\\u003e\\u003cbr\\u003eWords: philippines, debt, us, dot, francisco\",\"\\u003cb\\u003eTopic 3\\u003c\\u002fb\\u003e\\u003cbr\\u003eWords: ethiopia, millennium, igad, somalia, development\",\"\\u003cb\\u003eTopic 3\\u003c\\u002fb\\u003e\\u003cbr\\u003eWords: philippines, rule, rules, law, ramparts\",\"\\u003cb\\u003eTopic 3\\u003c\\u002fb\\u003e\\u003cbr\\u003eWords: marshall, islands, pacific, marshallese, mdgs\",\"\\u003cb\\u003eTopic 3\\u003c\\u002fb\\u003e\\u003cbr\\u003eWords: lao, lldcs, democratic, republic, cooperation\",\"\\u003cb\\u003eTopic 3\\u003c\\u002fb\\u003e\\u003cbr\\u003eWords: luxembourg, must, conflict, humanitarian, 2015\",\"\\u003cb\\u003eTopic 3\\u003c\\u002fb\\u003e\\u003cbr\\u003eWords: family, market, belarus, chaos, different\",\"\\u003cb\\u003eTopic 3\\u003c\\u002fb\\u003e\\u003cbr\\u003eWords: jamaica, madagascar, our, mexico, we\",\"\\u003cb\\u003eTopic 3\\u003c\\u002fb\\u003e\\u003cbr\\u003eWords: armenia, nagorno, tuvalu, karabakh, climate\",\"\\u003cb\\u003eTopic 3\\u003c\\u002fb\\u003e\\u003cbr\\u003eWords: romania, youth, un, covid, digital\",\"\\u003cb\\u003eTopic 3\\u003c\\u002fb\\u003e\\u003cbr\\u003eWords: st, kitts, nevis, covid, pandemic\",\"\\u003cb\\u003eTopic 3\\u003c\\u002fb\\u003e\\u003cbr\\u003eWords: sri, lanka, we, climate, food\"],\"marker\":{\"color\":\"#F0E442\"},\"mode\":\"lines\",\"name\":\"3_mexico_mexican_nations_international\",\"x\":[1949.039,1956.132,1968.289,1970.316,1971.329,1972.342,1976.395,1977.408,1978.421,1979.434,1981.461,1983.487,1986.526,1987.539,1988.553,1989.566,1991.592,1993.618,1995.645,1997.671,1998.684,2000.711,2003.75,2004.763,2007.803,2010.842,2011.855,2012.868,2013.882,2015.908,2016.921,2018.947,2019.961,2020.974,2021.987],\"y\":[2,5,22,1,1,2,1,1,1,1,3,1,2,8,2,26,2,1,1,2,2,1,6,1,1,1,1,1,1,1,2,2,1,1,1],\"type\":\"scatter\"},{\"hoverinfo\":\"text\",\"hovertext\":[\"\\u003cb\\u003eTopic 4\\u003c\\u002fb\\u003e\\u003cbr\\u003eWords: nepal, history, great, asia, of\",\"\\u003cb\\u003eTopic 4\\u003c\\u002fb\\u003e\\u003cbr\\u003eWords: arab, israel, algeria, properties, refugees\",\"\\u003cb\\u003eTopic 4\\u003c\\u002fb\\u003e\\u003cbr\\u003eWords: arab, algeria, arabian, league, lahej\",\"\\u003cb\\u003eTopic 4\\u003c\\u002fb\\u003e\\u003cbr\\u003eWords: arab, aggression, zionist, israel, struggle\",\"\\u003cb\\u003eTopic 4\\u003c\\u002fb\\u003e\\u003cbr\\u003eWords: palestine, racist, resolutions, states, the\",\"\\u003cb\\u003eTopic 4\\u003c\\u002fb\\u003e\\u003cbr\\u003eWords: argentina, of, latin, the, by\",\"\\u003cb\\u003eTopic 4\\u003c\\u002fb\\u003e\\u003cbr\\u003eWords: malaysia, antarctica, international, south, kampuchean\",\"\\u003cb\\u003eTopic 4\\u003c\\u002fb\\u003e\\u003cbr\\u003eWords: delegation, drug, waste, countries, must\",\"\\u003cb\\u003eTopic 4\\u003c\\u002fb\\u003e\\u003cbr\\u003eWords: the, of, in, and, to\",\"\\u003cb\\u003eTopic 4\\u003c\\u002fb\\u003e\\u003cbr\\u003eWords: ireland, timor, irish, agreement, the\",\"\\u003cb\\u003eTopic 4\\u003c\\u002fb\\u003e\\u003cbr\\u003eWords: gabon, poverty, africa, development, is\",\"\\u003cb\\u003eTopic 4\\u003c\\u002fb\\u003e\\u003cbr\\u003eWords: tobago, trinidad, suriname, we, aids\",\"\\u003cb\\u003eTopic 4\\u003c\\u002fb\\u003e\\u003cbr\\u003eWords: macedonia, republic, terrorism, civilizations, kosovo\",\"\\u003cb\\u003eTopic 4\\u003c\\u002fb\\u003e\\u003cbr\\u003eWords: and, africa, african, the, in\",\"\\u003cb\\u003eTopic 4\\u003c\\u002fb\\u003e\\u003cbr\\u003eWords: marino, san, vis, reform, women\",\"\\u003cb\\u003eTopic 4\\u003c\\u002fb\\u003e\\u003cbr\\u003eWords: leste, timor, horta, ramos, police\",\"\\u003cb\\u003eTopic 4\\u003c\\u002fb\\u003e\\u003cbr\\u003eWords: malta, and, to, the, of\",\"\\u003cb\\u003eTopic 4\\u003c\\u002fb\\u003e\\u003cbr\\u003eWords: zimbabwe, emirates, palestinian, arab, we\",\"\\u003cb\\u003eTopic 4\\u003c\\u002fb\\u003e\\u003cbr\\u003eWords: ethiopia, ethiopians, somalia, sudan, challenge\",\"\\u003cb\\u003eTopic 4\\u003c\\u002fb\\u003e\\u003cbr\\u003eWords: celac, caribbean, latin, region, american\",\"\\u003cb\\u003eTopic 4\\u003c\\u002fb\\u003e\\u003cbr\\u003eWords: micronesia, climate, change, montreal, and\",\"\\u003cb\\u003eTopic 4\\u003c\\u002fb\\u003e\\u003cbr\\u003eWords: poland, law, lemkin, war, international\",\"\\u003cb\\u003eTopic 4\\u003c\\u002fb\\u003e\\u003cbr\\u003eWords: we, our, and, to, the\",\"\\u003cb\\u003eTopic 4\\u003c\\u002fb\\u003e\\u003cbr\\u003eWords: croatia, global, and, peacekeeping, crises\",\"\\u003cb\\u003eTopic 4\\u003c\\u002fb\\u003e\\u003cbr\\u003eWords: tunisia, essebsi, our, women, and\",\"\\u003cb\\u003eTopic 4\\u003c\\u002fb\\u003e\\u003cbr\\u003eWords: bissau, guinea, covid, excellencies, excellency\",\"\\u003cb\\u003eTopic 4\\u003c\\u002fb\\u003e\\u003cbr\\u003eWords: macedonia, ukraine, north, global, solutions\"],\"marker\":{\"color\":\"#D55E00\"},\"mode\":\"lines\",\"name\":\"4_tanzania_republic_zimbabwe_nations\",\"x\":[1955.118,1956.132,1957.145,1970.316,1975.382,1979.434,1982.474,1987.539,1992.605,1998.684,1999.697,2000.711,2001.724,2003.75,2004.763,2005.776,2006.789,2009.829,2011.855,2012.868,2013.882,2014.895,2015.908,2016.921,2018.947,2019.961,2021.987],\"y\":[1,1,1,1,1,1,1,1,29,1,1,2,1,3,1,1,6,2,1,1,2,1,31,1,2,1,1],\"type\":\"scatter\"},{\"hoverinfo\":\"text\",\"hovertext\":[\"\\u003cb\\u003eTopic 5\\u003c\\u002fb\\u003e\\u003cbr\\u003eWords: and, of, the, war, to\",\"\\u003cb\\u003eTopic 5\\u003c\\u002fb\\u003e\\u003cbr\\u003eWords: france, which, we, us, have\",\"\\u003cb\\u003eTopic 5\\u003c\\u002fb\\u003e\\u003cbr\\u003eWords: question, it, in, be, disarmament\",\"\\u003cb\\u003eTopic 5\\u003c\\u002fb\\u003e\\u003cbr\\u003eWords: to, be, that, of, and\",\"\\u003cb\\u003eTopic 5\\u003c\\u002fb\\u003e\\u003cbr\\u003eWords: and, to, in, we, is\",\"\\u003cb\\u003eTopic 5\\u003c\\u002fb\\u003e\\u003cbr\\u003eWords: panama, canal, panamanian, states, american\",\"\\u003cb\\u003eTopic 5\\u003c\\u002fb\\u003e\\u003cbr\\u003eWords: and, the, of, in, to\",\"\\u003cb\\u003eTopic 5\\u003c\\u002fb\\u003e\\u003cbr\\u003eWords: mexico, world, that, america, and\",\"\\u003cb\\u003eTopic 5\\u003c\\u002fb\\u003e\\u003cbr\\u003eWords: and, we, the, of, world\",\"\\u003cb\\u003eTopic 5\\u003c\\u002fb\\u003e\\u003cbr\\u003eWords: latvia, latvian, former, citizenship, russian\",\"\\u003cb\\u003eTopic 5\\u003c\\u002fb\\u003e\\u003cbr\\u003eWords: peru, accordingly, cooperation, human, and\",\"\\u003cb\\u003eTopic 5\\u003c\\u002fb\\u003e\\u003cbr\\u003eWords: zealand, timor, council, security, new\",\"\\u003cb\\u003eTopic 5\\u003c\\u002fb\\u003e\\u003cbr\\u003eWords: children, spoke, canada, people, winnipeg\",\"\\u003cb\\u003eTopic 5\\u003c\\u002fb\\u003e\\u003cbr\\u003eWords: kenya, poverty, conflicts, terrorism, aids\",\"\\u003cb\\u003eTopic 5\\u003c\\u002fb\\u003e\\u003cbr\\u003eWords: kenya, we, to, in, the\",\"\\u003cb\\u003eTopic 5\\u003c\\u002fb\\u003e\\u003cbr\\u003eWords: we, that, our, must, human\",\"\\u003cb\\u003eTopic 5\\u003c\\u002fb\\u003e\\u003cbr\\u003eWords: tuvalu, climate, emissions, change, bali\",\"\\u003cb\\u003eTopic 5\\u003c\\u002fb\\u003e\\u003cbr\\u003eWords: emirates, energy, arab, we, to\",\"\\u003cb\\u003eTopic 5\\u003c\\u002fb\\u003e\\u003cbr\\u003eWords: lucia, saint, growth, sids, gdp\",\"\\u003cb\\u003eTopic 5\\u003c\\u002fb\\u003e\\u003cbr\\u003eWords: tunisia, tunisian, and, who, their\",\"\\u003cb\\u003eTopic 5\\u003c\\u002fb\\u003e\\u003cbr\\u003eWords: that, we, and, in, to\",\"\\u003cb\\u003eTopic 5\\u003c\\u002fb\\u003e\\u003cbr\\u003eWords: iran, rouhani, nuclear, he, marino\",\"\\u003cb\\u003eTopic 5\\u003c\\u002fb\\u003e\\u003cbr\\u003eWords: we, that, and, is, to\",\"\\u003cb\\u003eTopic 5\\u003c\\u002fb\\u003e\\u003cbr\\u003eWords: pandemic, we, ethiopia, sweden, our\"],\"marker\":{\"color\":\"#0072B2\"},\"mode\":\"lines\",\"name\":\"5_terrorists_terrorism_terrorist_iraq\",\"x\":[1951.066,1953.092,1958.158,1963.224,1966.263,1975.382,1983.487,1984.5,1985.513,1991.592,1996.658,1998.684,1999.697,2000.711,2002.737,2004.763,2006.789,2007.803,2009.829,2010.842,2011.855,2012.868,2018.947,2020.974],\"y\":[5,1,1,9,8,1,5,1,5,1,1,2,1,1,4,6,1,2,1,3,4,2,13,5],\"type\":\"scatter\"},{\"hoverinfo\":\"text\",\"hovertext\":[\"\\u003cb\\u003eTopic 6\\u003c\\u002fb\\u003e\\u003cbr\\u003eWords: had, chile, chilean, was, francisco\",\"\\u003cb\\u003eTopic 6\\u003c\\u002fb\\u003e\\u003cbr\\u003eWords: which, bolivia, the, my, that\",\"\\u003cb\\u003eTopic 6\\u003c\\u002fb\\u003e\\u003cbr\\u003eWords: bandung, palestine, be, geneva, freedom\",\"\\u003cb\\u003eTopic 6\\u003c\\u002fb\\u003e\\u003cbr\\u003eWords: agency, energy, the, in, of\",\"\\u003cb\\u003eTopic 6\\u003c\\u002fb\\u003e\\u003cbr\\u003eWords: million, cuban, cuba, be, to\",\"\\u003cb\\u003eTopic 6\\u003c\\u002fb\\u003e\\u003cbr\\u003eWords: turkey, these, disarmament, which, under\",\"\\u003cb\\u003eTopic 6\\u003c\\u002fb\\u003e\\u003cbr\\u003eWords: argentine, man, which, peoples, and\",\"\\u003cb\\u003eTopic 6\\u003c\\u002fb\\u003e\\u003cbr\\u003eWords: kuwait, nations, which, world, this\",\"\\u003cb\\u003eTopic 6\\u003c\\u002fb\\u003e\\u003cbr\\u003eWords: nuclear, viet, the, of, united\",\"\\u003cb\\u003eTopic 6\\u003c\\u002fb\\u003e\\u003cbr\\u003eWords: laotian, war, years, laos, twenty\",\"\\u003cb\\u003eTopic 6\\u003c\\u002fb\\u003e\\u003cbr\\u003eWords: israel, palestinian, which, italian, the\",\"\\u003cb\\u003eTopic 6\\u003c\\u002fb\\u003e\\u003cbr\\u003eWords: which, the, european, of, is\",\"\\u003cb\\u003eTopic 6\\u003c\\u002fb\\u003e\\u003cbr\\u003eWords: niger, rhodesia, which, in, this\",\"\\u003cb\\u003eTopic 6\\u003c\\u002fb\\u003e\\u003cbr\\u003eWords: laos, it, vientiane, which, be\",\"\\u003cb\\u003eTopic 6\\u003c\\u002fb\\u003e\\u003cbr\\u003eWords: the, of, ethiopia, my, countries\",\"\\u003cb\\u003eTopic 6\\u003c\\u002fb\\u003e\\u003cbr\\u003eWords: swaziland, my, peace, non, justice\",\"\\u003cb\\u003eTopic 6\\u003c\\u002fb\\u003e\\u003cbr\\u003eWords: ecuador, co, it, the, of\",\"\\u003cb\\u003eTopic 6\\u003c\\u002fb\\u003e\\u003cbr\\u003eWords: japan, my, hijacking, co, country\",\"\\u003cb\\u003eTopic 6\\u003c\\u002fb\\u003e\\u003cbr\\u003eWords: which, have, been, to, we\",\"\\u003cb\\u003eTopic 6\\u003c\\u002fb\\u003e\\u003cbr\\u003eWords: of, the, afghanistan, to, in\",\"\\u003cb\\u003eTopic 6\\u003c\\u002fb\\u003e\\u003cbr\\u003eWords: my, and, of, the, refugee\",\"\\u003cb\\u003eTopic 6\\u003c\\u002fb\\u003e\\u003cbr\\u003eWords: pakistan, of, to, the, must\",\"\\u003cb\\u003eTopic 6\\u003c\\u002fb\\u003e\\u003cbr\\u003eWords: honduras, central, american, government, america\",\"\\u003cb\\u003eTopic 6\\u003c\\u002fb\\u003e\\u003cbr\\u003eWords: the, of, imperialist, which, has\",\"\\u003cb\\u003eTopic 6\\u003c\\u002fb\\u003e\\u003cbr\\u003eWords: in, the, is, of, be\",\"\\u003cb\\u003eTopic 6\\u003c\\u002fb\\u003e\\u003cbr\\u003eWords: indonesia, the, be, and, in\",\"\\u003cb\\u003eTopic 6\\u003c\\u002fb\\u003e\\u003cbr\\u003eWords: gabon, should, solidarity, community, international\",\"\\u003cb\\u003eTopic 6\\u003c\\u002fb\\u003e\\u003cbr\\u003eWords: in, the, to, and, of\",\"\\u003cb\\u003eTopic 6\\u003c\\u002fb\\u003e\\u003cbr\\u003eWords: kazakstan, sudan, should, the, by\",\"\\u003cb\\u003eTopic 6\\u003c\\u002fb\\u003e\\u003cbr\\u003eWords: paraguay, to, the, this, on\",\"\\u003cb\\u003eTopic 6\\u003c\\u002fb\\u003e\\u003cbr\\u003eWords: vanuatu, eritrea, community, the, in\",\"\\u003cb\\u003eTopic 6\\u003c\\u002fb\\u003e\\u003cbr\\u003eWords: european, union, terror, against, nations\",\"\\u003cb\\u003eTopic 6\\u003c\\u002fb\\u003e\\u003cbr\\u003eWords: latvia, european, within, union, century\",\"\\u003cb\\u003eTopic 6\\u003c\\u002fb\\u003e\\u003cbr\\u003eWords: croatia, croatian, wmds, european, europe\",\"\\u003cb\\u003eTopic 6\\u003c\\u002fb\\u003e\\u003cbr\\u003eWords: peru, cape, potato, verde, change\",\"\\u003cb\\u003eTopic 6\\u003c\\u002fb\\u003e\\u003cbr\\u003eWords: crisis, cameroon, financial, that, global\",\"\\u003cb\\u003eTopic 6\\u003c\\u002fb\\u003e\\u003cbr\\u003eWords: syria, iraq, canc\\u00fan, israel, we\",\"\\u003cb\\u003eTopic 6\\u003c\\u002fb\\u003e\\u003cbr\\u003eWords: slovenia, 50847, rights, human, development\",\"\\u003cb\\u003eTopic 6\\u003c\\u002fb\\u003e\\u003cbr\\u003eWords: energy, dependency, nuclear, safety, lithuania\",\"\\u003cb\\u003eTopic 6\\u003c\\u002fb\\u003e\\u003cbr\\u003eWords: ghana, girls, are, marriage, those\",\"\\u003cb\\u003eTopic 6\\u003c\\u002fb\\u003e\\u003cbr\\u003eWords: denmark, bissau, guinea, our, we\",\"\\u003cb\\u003eTopic 6\\u003c\\u002fb\\u003e\\u003cbr\\u003eWords: cambodia, interference, multilateralism, world, being\",\"\\u003cb\\u003eTopic 6\\u003c\\u002fb\\u003e\\u003cbr\\u003eWords: rakhine, myanmar, state, qatar, covid\",\"\\u003cb\\u003eTopic 6\\u003c\\u002fb\\u003e\\u003cbr\\u003eWords: usav7, bahamas, un, 78th, 2023\"],\"marker\":{\"color\":\"#CC79A7\"},\"mode\":\"lines\",\"name\":\"6_luxembourg_general_council_nations\",\"x\":[1947.013,1949.039,1954.105,1955.118,1957.145,1958.158,1960.184,1962.211,1964.237,1966.263,1967.276,1970.316,1971.329,1972.342,1973.355,1975.382,1976.395,1977.408,1978.421,1979.434,1980.447,1982.474,1985.513,1986.526,1988.553,1989.566,1991.592,1992.605,1994.632,1996.658,2000.711,2001.724,2002.737,2003.75,2006.789,2008.816,2009.829,2010.842,2011.855,2014.895,2016.921,2018.947,2019.961,2021.987],\"y\":[1,1,1,1,1,1,1,1,3,1,2,3,1,1,3,1,1,1,1,6,1,1,1,3,6,1,1,10,2,3,3,1,1,1,2,1,1,1,1,1,2,1,2,2],\"type\":\"scatter\"},{\"hoverinfo\":\"text\",\"hovertext\":[\"\\u003cb\\u003eTopic 7\\u003c\\u002fb\\u003e\\u003cbr\\u003eWords: united, states, this, nations, to\",\"\\u003cb\\u003eTopic 7\\u003c\\u002fb\\u003e\\u003cbr\\u003eWords: communist, chinese, viet, regime, mainland\",\"\\u003cb\\u003eTopic 7\\u003c\\u002fb\\u003e\\u003cbr\\u003eWords: their, or, delegation, they, great\",\"\\u003cb\\u003eTopic 7\\u003c\\u002fb\\u003e\\u003cbr\\u003eWords: swaziland, delegation, your, mozambique, peace\",\"\\u003cb\\u003eTopic 7\\u003c\\u002fb\\u003e\\u003cbr\\u003eWords: socialist, czechoslovak, czechoslovakia, relations, of\",\"\\u003cb\\u003eTopic 7\\u003c\\u002fb\\u003e\\u003cbr\\u003eWords: bangladesh, through, countries, of, world\",\"\\u003cb\\u003eTopic 7\\u003c\\u002fb\\u003e\\u003cbr\\u003eWords: hungarian, government, nuclear, international, relations\",\"\\u003cb\\u003eTopic 7\\u003c\\u002fb\\u003e\\u003cbr\\u003eWords: the, of, to, in, and\",\"\\u003cb\\u003eTopic 7\\u003c\\u002fb\\u003e\\u003cbr\\u003eWords: ecuador, peru, my, countries, and\",\"\\u003cb\\u003eTopic 7\\u003c\\u002fb\\u003e\\u003cbr\\u003eWords: cameroon, africa, development, diplomacy, machinery\",\"\\u003cb\\u003eTopic 7\\u003c\\u002fb\\u003e\\u003cbr\\u003eWords: kenya, burundi, to, igadd, on\",\"\\u003cb\\u003eTopic 7\\u003c\\u002fb\\u003e\\u003cbr\\u003eWords: level, levels, community, increasingly, well\",\"\\u003cb\\u003eTopic 7\\u003c\\u002fb\\u003e\\u003cbr\\u003eWords: turkmenistan, caspian, cooperation, nations, of\",\"\\u003cb\\u003eTopic 7\\u003c\\u002fb\\u003e\\u003cbr\\u003eWords: suriname, indigenous, maritime, slave, award\",\"\\u003cb\\u003eTopic 7\\u003c\\u002fb\\u003e\\u003cbr\\u003eWords: bhutan, happiness, king, 52272, democracy\",\"\\u003cb\\u003eTopic 7\\u003c\\u002fb\\u003e\\u003cbr\\u003eWords: greece, european, macedonia, cyprus, our\",\"\\u003cb\\u003eTopic 7\\u003c\\u002fb\\u003e\\u003cbr\\u003eWords: malaysia, mediation, moderates, transformation, moderation\",\"\\u003cb\\u003eTopic 7\\u003c\\u002fb\\u003e\\u003cbr\\u003eWords: poverty, income, quality, social, development\",\"\\u003cb\\u003eTopic 7\\u003c\\u002fb\\u003e\\u003cbr\\u003eWords: australia, aliir, we, esh, smuggling\",\"\\u003cb\\u003eTopic 7\\u003c\\u002fb\\u003e\\u003cbr\\u003eWords: pandemic, covid, 19, and, we\"],\"marker\":{\"color\":\"#E69F00\"},\"mode\":\"lines\",\"name\":\"7_zambia_africa_african_namibia\",\"x\":[1969.303,1970.316,1971.329,1973.355,1975.382,1977.408,1983.487,1989.566,1991.592,1993.618,1995.645,1999.697,2003.75,2006.789,2007.803,2009.829,2010.842,2011.855,2015.908,2019.961],\"y\":[1,1,1,1,1,1,1,26,1,1,1,1,2,1,1,1,1,1,1,35],\"type\":\"scatter\"},{\"hoverinfo\":\"text\",\"hovertext\":[\"\\u003cb\\u003eTopic 8\\u003c\\u002fb\\u003e\\u003cbr\\u003eWords: the, of, united, nations, and\",\"\\u003cb\\u003eTopic 8\\u003c\\u002fb\\u003e\\u003cbr\\u003eWords: israel, and, of, the, to\",\"\\u003cb\\u003eTopic 8\\u003c\\u002fb\\u003e\\u003cbr\\u003eWords: and, we, our, the, to\"],\"marker\":{\"color\":\"#56B4E9\"},\"mode\":\"lines\",\"name\":\"8_freitas_amaral_nations_general\",\"x\":[1969.303,1980.447,2016.921],\"y\":[29,4,44],\"type\":\"scatter\"},{\"hoverinfo\":\"text\",\"hovertext\":[\"\\u003cb\\u003eTopic 9\\u003c\\u002fb\\u003e\\u003cbr\\u003eWords: council, nations, article, united, the\",\"\\u003cb\\u003eTopic 9\\u003c\\u002fb\\u003e\\u003cbr\\u003eWords: which, organization, african, south, this\",\"\\u003cb\\u003eTopic 9\\u003c\\u002fb\\u003e\\u003cbr\\u003eWords: in, nations, the, of, which\",\"\\u003cb\\u003eTopic 9\\u003c\\u002fb\\u003e\\u003cbr\\u003eWords: chairman, nations, the, of, in\",\"\\u003cb\\u003eTopic 9\\u003c\\u002fb\\u003e\\u003cbr\\u003eWords: netherlands, the, of, this, in\",\"\\u003cb\\u003eTopic 9\\u003c\\u002fb\\u003e\\u003cbr\\u003eWords: detente, poland, states, conference, of\",\"\\u003cb\\u003eTopic 9\\u003c\\u002fb\\u003e\\u003cbr\\u003eWords: the, of, and, to, in\",\"\\u003cb\\u003eTopic 9\\u003c\\u002fb\\u003e\\u003cbr\\u003eWords: malaysia, their, nations, rich, is\",\"\\u003cb\\u003eTopic 9\\u003c\\u002fb\\u003e\\u003cbr\\u003eWords: israeli, syria, israelis, lebanese, arab\",\"\\u003cb\\u003eTopic 9\\u003c\\u002fb\\u003e\\u003cbr\\u003eWords: international, countries, we, the, and\",\"\\u003cb\\u003eTopic 9\\u003c\\u002fb\\u003e\\u003cbr\\u003eWords: swaziland, accordingly, nations, of, south\",\"\\u003cb\\u003eTopic 9\\u003c\\u002fb\\u003e\\u003cbr\\u003eWords: fiji, and, nations, the, united\",\"\\u003cb\\u003eTopic 9\\u003c\\u002fb\\u003e\\u003cbr\\u003eWords: palestinian, barbados, process, israeli, this\",\"\\u003cb\\u003eTopic 9\\u003c\\u002fb\\u003e\\u003cbr\\u003eWords: iraq, al, globalization, okinawa, sharif\",\"\\u003cb\\u003eTopic 9\\u003c\\u002fb\\u003e\\u003cbr\\u003eWords: bissau, guinea, yal\\u00e1, kumba, programmes\",\"\\u003cb\\u003eTopic 9\\u003c\\u002fb\\u003e\\u003cbr\\u003eWords: my, delegation, your, issues, and\",\"\\u003cb\\u003eTopic 9\\u003c\\u002fb\\u003e\\u003cbr\\u003eWords: children, seen, humanity, children\\u00eds, nuclear\",\"\\u003cb\\u003eTopic 9\\u003c\\u002fb\\u003e\\u003cbr\\u003eWords: darussalam, brunei, causes, consensus, injustice\",\"\\u003cb\\u003eTopic 9\\u003c\\u002fb\\u003e\\u003cbr\\u003eWords: grenada, caribbean, delegation, my, looks\",\"\\u003cb\\u003eTopic 9\\u003c\\u002fb\\u003e\\u003cbr\\u003eWords: lao, cluster, munitions, democratic, uxo\",\"\\u003cb\\u003eTopic 9\\u003c\\u002fb\\u003e\\u003cbr\\u003eWords: mali, his, ldcs, mediation, development\",\"\\u003cb\\u003eTopic 9\\u003c\\u002fb\\u003e\\u003cbr\\u003eWords: paraguay, paraguayan, paraguayans, its, international\",\"\\u003cb\\u003eTopic 9\\u003c\\u002fb\\u003e\\u003cbr\\u003eWords: nepal, mr, un, president, rss\",\"\\u003cb\\u003eTopic 9\\u003c\\u002fb\\u003e\\u003cbr\\u003eWords: thailand, sustainable, global, climate, sustainability\"],\"marker\":{\"color\":\"#009E73\"},\"mode\":\"lines\",\"name\":\"9_malaysia_general_secretary_government\",\"x\":[1945.923,1950.053,1953.092,1961.197,1969.303,1974.368,1980.447,1981.461,1984.5,1988.553,1989.566,1994.632,1997.671,1999.697,2000.711,2002.737,2003.75,2004.763,2005.776,2008.816,2010.842,2011.855,2019.961,2021.987],\"y\":[4,1,7,7,2,1,32,1,1,2,1,4,2,1,1,1,1,1,1,1,1,1,2,1],\"type\":\"scatter\"},{\"hoverinfo\":\"text\",\"hovertext\":[\"\\u003cb\\u003eTopic 10\\u003c\\u002fb\\u003e\\u003cbr\\u003eWords: had, was, zeeland, van, were\",\"\\u003cb\\u003eTopic 10\\u003c\\u002fb\\u003e\\u003cbr\\u003eWords: the, of, and, international, in\",\"\\u003cb\\u003eTopic 10\\u003c\\u002fb\\u003e\\u003cbr\\u003eWords: modernity, malawi, montaigne, sadc, and\",\"\\u003cb\\u003eTopic 10\\u003c\\u002fb\\u003e\\u003cbr\\u003eWords: and, the, to, we, that\"],\"marker\":{\"color\":\"#F0E442\"},\"mode\":\"lines\",\"name\":\"10_caputo_general_conference_nations\",\"x\":[1948.026,1986.526,2000.711,2012.868],\"y\":[3,32,2,40],\"type\":\"scatter\"},{\"hoverinfo\":\"text\",\"hovertext\":[\"\\u003cb\\u003eTopic 11\\u003c\\u002fb\\u003e\\u003cbr\\u003eWords: veto, which, or, great, international\",\"\\u003cb\\u003eTopic 11\\u003c\\u002fb\\u003e\\u003cbr\\u003eWords: panama, liberty, system, individual, my\",\"\\u003cb\\u003eTopic 11\\u003c\\u002fb\\u003e\\u003cbr\\u003eWords: prove, what, tenth, would, prodigies\",\"\\u003cb\\u003eTopic 11\\u003c\\u002fb\\u003e\\u003cbr\\u003eWords: relations, favourable, it, colombia, that\",\"\\u003cb\\u003eTopic 11\\u003c\\u002fb\\u003e\\u003cbr\\u003eWords: algerian, french, government, colombia, and\",\"\\u003cb\\u003eTopic 11\\u003c\\u002fb\\u003e\\u003cbr\\u003eWords: portugal, colombia, decolonization, we, is\",\"\\u003cb\\u003eTopic 11\\u003c\\u002fb\\u003e\\u003cbr\\u003eWords: peking, australia, viet, nam, asia\",\"\\u003cb\\u003eTopic 11\\u003c\\u002fb\\u003e\\u003cbr\\u003eWords: viet, polish, colombia, nam, german\",\"\\u003cb\\u003eTopic 11\\u003c\\u002fb\\u003e\\u003cbr\\u003eWords: manifesto, african, africa, r\\u00e9gime, agencies\",\"\\u003cb\\u003eTopic 11\\u003c\\u002fb\\u003e\\u003cbr\\u003eWords: colombia, of, which, the, to\",\"\\u003cb\\u003eTopic 11\\u003c\\u002fb\\u003e\\u003cbr\\u003eWords: colombia, which, of, the, to\",\"\\u003cb\\u003eTopic 11\\u003c\\u002fb\\u003e\\u003cbr\\u003eWords: mauritania, problem, which, colombia, of\",\"\\u003cb\\u003eTopic 11\\u003c\\u002fb\\u003e\\u003cbr\\u003eWords: sweden, swedish, must, all, co\",\"\\u003cb\\u003eTopic 11\\u003c\\u002fb\\u003e\\u003cbr\\u003eWords: egypt, colombia, its, the, of\",\"\\u003cb\\u003eTopic 11\\u003c\\u002fb\\u003e\\u003cbr\\u003eWords: mexico, negotiations, colombia, or, which\",\"\\u003cb\\u003eTopic 11\\u003c\\u002fb\\u003e\\u003cbr\\u003eWords: pakistan, afghanistan, international, co, colombia\",\"\\u003cb\\u003eTopic 11\\u003c\\u002fb\\u003e\\u003cbr\\u003eWords: equatorial, guinea, of, countries, which\",\"\\u003cb\\u003eTopic 11\\u003c\\u002fb\\u003e\\u003cbr\\u003eWords: nevis, christopher, st, saint, dutch\",\"\\u003cb\\u003eTopic 11\\u003c\\u002fb\\u003e\\u003cbr\\u003eWords: japan, nuclear, colombia, to, efforts\",\"\\u003cb\\u003eTopic 11\\u003c\\u002fb\\u003e\\u003cbr\\u003eWords: cyprus, turkey, problem, super, resolutions\",\"\\u003cb\\u003eTopic 11\\u003c\\u002fb\\u003e\\u003cbr\\u003eWords: grenada, my, government, wishes, operatives\",\"\\u003cb\\u003eTopic 11\\u003c\\u002fb\\u003e\\u003cbr\\u003eWords: haiti, aristide, losing, output, billion\",\"\\u003cb\\u003eTopic 11\\u003c\\u002fb\\u003e\\u003cbr\\u003eWords: malawi, delegation, 1993, mozambique, my\",\"\\u003cb\\u003eTopic 11\\u003c\\u002fb\\u003e\\u003cbr\\u003eWords: slovenia, human, nations, united, of\",\"\\u003cb\\u003eTopic 11\\u003c\\u002fb\\u003e\\u003cbr\\u003eWords: lithuania, osce, keeping, nations, united\",\"\\u003cb\\u003eTopic 11\\u003c\\u002fb\\u003e\\u003cbr\\u003eWords: denmark, rights, human, landmine, must\",\"\\u003cb\\u003eTopic 11\\u003c\\u002fb\\u003e\\u003cbr\\u003eWords: dominica, caribbean, this, commonwealth, wto\",\"\\u003cb\\u003eTopic 11\\u003c\\u002fb\\u003e\\u003cbr\\u003eWords: portugal, angola, cplp, timorese, colombia\",\"\\u003cb\\u003eTopic 11\\u003c\\u002fb\\u003e\\u003cbr\\u003eWords: austria, terrorism, danube, vienna, odccp\",\"\\u003cb\\u003eTopic 11\\u003c\\u002fb\\u003e\\u003cbr\\u003eWords: russia, instruments, work, nations, united\",\"\\u003cb\\u003eTopic 11\\u003c\\u002fb\\u003e\\u003cbr\\u003eWords: sudan, with, community, international, darfur\",\"\\u003cb\\u003eTopic 11\\u003c\\u002fb\\u003e\\u003cbr\\u003eWords: climate, change, water, more, must\",\"\\u003cb\\u003eTopic 11\\u003c\\u002fb\\u003e\\u003cbr\\u003eWords: togo, togolese, 53129, audit, 08\",\"\\u003cb\\u003eTopic 11\\u003c\\u002fb\\u003e\\u003cbr\\u003eWords: bahamas, mozambique, colombia, our, haiti\",\"\\u003cb\\u003eTopic 11\\u003c\\u002fb\\u003e\\u003cbr\\u003eWords: maldives, our, india, colombia, pakistan\",\"\\u003cb\\u003eTopic 11\\u003c\\u002fb\\u003e\\u003cbr\\u003eWords: tonga, ncds, irena, elected, definition\",\"\\u003cb\\u003eTopic 11\\u003c\\u002fb\\u003e\\u003cbr\\u003eWords: bolivia, chile, eche\\u00f1ique, pi\\u00f1era, who\",\"\\u003cb\\u003eTopic 11\\u003c\\u002fb\\u003e\\u003cbr\\u003eWords: panama, colombia, our, that, we\",\"\\u003cb\\u003eTopic 11\\u003c\\u002fb\\u003e\\u003cbr\\u003eWords: colombia, and, we, to, our\",\"\\u003cb\\u003eTopic 11\\u003c\\u002fb\\u003e\\u003cbr\\u003eWords: suriname, covid, forest, 19, puzzle\",\"\\u003cb\\u003eTopic 11\\u003c\\u002fb\\u003e\\u003cbr\\u003eWords: paraguay, we, that, colombia, with\"],\"marker\":{\"color\":\"#D55E00\"},\"mode\":\"lines\",\"name\":\"11_colombia_colombian_nations_country\",\"x\":[1945.923,1949.039,1954.105,1955.118,1958.158,1962.211,1965.25,1966.263,1968.289,1970.316,1971.329,1974.368,1975.382,1977.408,1980.447,1981.461,1983.487,1984.5,1985.513,1986.526,1989.566,1990.579,1992.605,1993.618,1994.632,1995.645,1996.658,1997.671,2001.724,2002.737,2004.763,2005.776,2007.803,2008.816,2009.829,2010.842,2012.868,2014.895,2015.908,2020.974,2021.987],\"y\":[1,1,1,1,1,1,1,1,1,11,1,1,1,1,1,1,1,1,1,1,1,1,1,1,1,1,1,1,1,1,1,1,1,3,2,1,1,1,22,1,1],\"type\":\"scatter\"},{\"hoverinfo\":\"text\",\"hovertext\":[\"\\u003cb\\u003eTopic 12\\u003c\\u002fb\\u003e\\u003cbr\\u003eWords: liberian, definite, had, would, world\",\"\\u003cb\\u003eTopic 12\\u003c\\u002fb\\u003e\\u003cbr\\u003eWords: panama, peace, which, not, authority\",\"\\u003cb\\u003eTopic 12\\u003c\\u002fb\\u003e\\u003cbr\\u003eWords: panama, soviet, cuba, union, which\",\"\\u003cb\\u003eTopic 12\\u003c\\u002fb\\u003e\\u003cbr\\u003eWords: panama, canal, which, of, the\",\"\\u003cb\\u003eTopic 12\\u003c\\u002fb\\u003e\\u003cbr\\u003eWords: romanian, panama, german, germany, states\",\"\\u003cb\\u003eTopic 12\\u003c\\u002fb\\u003e\\u003cbr\\u003eWords: panama, delegation, my, which, this\",\"\\u003cb\\u003eTopic 12\\u003c\\u002fb\\u003e\\u003cbr\\u003eWords: british, panama, manila, federation, malaysia\",\"\\u003cb\\u003eTopic 12\\u003c\\u002fb\\u003e\\u003cbr\\u003eWords: mali, panama, government, stanleyville, republic\",\"\\u003cb\\u003eTopic 12\\u003c\\u002fb\\u003e\\u003cbr\\u003eWords: goa, indian, india, panama, or\",\"\\u003cb\\u003eTopic 12\\u003c\\u002fb\\u003e\\u003cbr\\u003eWords: somaliland, panama, french, territory, ethiopia\",\"\\u003cb\\u003eTopic 12\\u003c\\u002fb\\u003e\\u003cbr\\u003eWords: yemen, palestine, panama, yemeni, people\",\"\\u003cb\\u003eTopic 12\\u003c\\u002fb\\u003e\\u003cbr\\u003eWords: portuguese, panama, overseas, portugal, provinces\",\"\\u003cb\\u003eTopic 12\\u003c\\u002fb\\u003e\\u003cbr\\u003eWords: panama, oil, of, the, which\",\"\\u003cb\\u003eTopic 12\\u003c\\u002fb\\u003e\\u003cbr\\u003eWords: afghanistan, panama, this, session, of\",\"\\u003cb\\u003eTopic 12\\u003c\\u002fb\\u003e\\u003cbr\\u003eWords: bolivia, panama, tin, andean, of\",\"\\u003cb\\u003eTopic 12\\u003c\\u002fb\\u003e\\u003cbr\\u003eWords: panama, which, haiti, haitian, of\",\"\\u003cb\\u003eTopic 12\\u003c\\u002fb\\u003e\\u003cbr\\u003eWords: panama, which, andean, money, screen\",\"\\u003cb\\u003eTopic 12\\u003c\\u002fb\\u003e\\u003cbr\\u003eWords: paraguay, panama, republic, that, of\",\"\\u003cb\\u003eTopic 12\\u003c\\u002fb\\u003e\\u003cbr\\u003eWords: panama, mexico, respect, latin, american\",\"\\u003cb\\u003eTopic 12\\u003c\\u002fb\\u003e\\u003cbr\\u003eWords: panama, pacific, kuwait, south, our\",\"\\u003cb\\u003eTopic 12\\u003c\\u002fb\\u003e\\u003cbr\\u003eWords: greece, panama, democracy, cyprus, greeks\",\"\\u003cb\\u003eTopic 12\\u003c\\u002fb\\u003e\\u003cbr\\u003eWords: nigeria, panama, liberia, peace, in\",\"\\u003cb\\u003eTopic 12\\u003c\\u002fb\\u003e\\u003cbr\\u003eWords: burundi, panama, has, the, and\",\"\\u003cb\\u003eTopic 12\\u003c\\u002fb\\u003e\\u003cbr\\u003eWords: senegal, panama, solidarity, new, conflicts\",\"\\u003cb\\u003eTopic 12\\u003c\\u002fb\\u003e\\u003cbr\\u003eWords: azerbaijan, osce, panama, azerbaijani, population\",\"\\u003cb\\u003eTopic 12\\u003c\\u002fb\\u003e\\u003cbr\\u003eWords: korean, korea, reunification, peninsula, panama\",\"\\u003cb\\u003eTopic 12\\u003c\\u002fb\\u003e\\u003cbr\\u003eWords: georgia, abkhazia, panama, unomig, georgian\",\"\\u003cb\\u003eTopic 12\\u003c\\u002fb\\u003e\\u003cbr\\u003eWords: gabon, panama, of, african, the\",\"\\u003cb\\u003eTopic 12\\u003c\\u002fb\\u003e\\u003cbr\\u003eWords: nauru, panama, pacific, bless, laundering\",\"\\u003cb\\u003eTopic 12\\u003c\\u002fb\\u003e\\u003cbr\\u003eWords: leste, timor, panama, genocide, oda\",\"\\u003cb\\u003eTopic 12\\u003c\\u002fb\\u003e\\u003cbr\\u003eWords: senegal, panama, fund, debt, with\",\"\\u003cb\\u003eTopic 12\\u003c\\u002fb\\u003e\\u003cbr\\u003eWords: ecuador, minimums, minimum, panama, mdgs\",\"\\u003cb\\u003eTopic 12\\u003c\\u002fb\\u003e\\u003cbr\\u003eWords: azerbaijan, region, panama, territories, eiti\",\"\\u003cb\\u003eTopic 12\\u003c\\u002fb\\u003e\\u003cbr\\u003eWords: egypt, panama, 52586, international, in\",\"\\u003cb\\u003eTopic 12\\u003c\\u002fb\\u003e\\u003cbr\\u003eWords: colom, panama, guatemala, 55276, have\",\"\\u003cb\\u003eTopic 12\\u003c\\u002fb\\u003e\\u003cbr\\u003eWords: price, panama, food, financial, barrel\",\"\\u003cb\\u003eTopic 12\\u003c\\u002fb\\u003e\\u003cbr\\u003eWords: lao, asean, panama, democratic, community\",\"\\u003cb\\u003eTopic 12\\u003c\\u002fb\\u003e\\u003cbr\\u003eWords: herzegovina, bosnia, panama, european, and\",\"\\u003cb\\u003eTopic 12\\u003c\\u002fb\\u003e\\u003cbr\\u003eWords: grenada, panama, island, climate, energy\",\"\\u003cb\\u003eTopic 12\\u003c\\u002fb\\u003e\\u003cbr\\u003eWords: tonga, panama, samaritan, conservation, pacific\",\"\\u003cb\\u003eTopic 12\\u003c\\u002fb\\u003e\\u003cbr\\u003eWords: climate, change, panama, dominica, insurance\",\"\\u003cb\\u003eTopic 12\\u003c\\u002fb\\u003e\\u003cbr\\u003eWords: mongolia, panama, young, energy, climate\",\"\\u003cb\\u003eTopic 12\\u003c\\u002fb\\u003e\\u003cbr\\u003eWords: panama, pandemic, covid, un, 19\",\"\\u003cb\\u003eTopic 12\\u003c\\u002fb\\u003e\\u003cbr\\u003eWords: russia, lithuania, ukrainian, ukraine, gentlemen\"],\"marker\":{\"color\":\"#0072B2\"},\"mode\":\"lines\",\"name\":\"12_panamanian_panama_panamanians_nations\",\"x\":[1948.026,1950.053,1952.079,1955.118,1960.184,1961.197,1962.211,1963.224,1964.237,1965.25,1967.276,1971.329,1973.355,1974.368,1978.421,1980.447,1983.487,1986.526,1987.539,1989.566,1990.579,1992.605,1993.618,1994.632,1995.645,1996.658,1997.671,1998.684,2000.711,2003.75,2005.776,2006.789,2007.803,2008.816,2009.829,2010.842,2011.855,2012.868,2013.882,2015.908,2017.934,2018.947,2019.961,2021.987],\"y\":[1,1,1,11,1,1,1,1,1,1,1,1,3,1,1,1,1,1,1,1,1,1,1,1,1,1,1,1,1,1,1,1,1,1,1,1,1,1,1,1,2,1,19,1],\"type\":\"scatter\"},{\"hoverinfo\":\"text\",\"hovertext\":[\"\\u003cb\\u003eTopic 13\\u003c\\u002fb\\u003e\\u003cbr\\u003eWords: relief, norwegian, must, problems, we\",\"\\u003cb\\u003eTopic 13\\u003c\\u002fb\\u003e\\u003cbr\\u003eWords: and, the, to, of, international\",\"\\u003cb\\u003eTopic 13\\u003c\\u002fb\\u003e\\u003cbr\\u003eWords: boy, summit, challenge, sweden, commitments\",\"\\u003cb\\u003eTopic 13\\u003c\\u002fb\\u003e\\u003cbr\\u003eWords: holy, holiness, pope, francis, cultures\",\"\\u003cb\\u003eTopic 13\\u003c\\u002fb\\u003e\\u003cbr\\u003eWords: our, we, and, climate, to\"],\"marker\":{\"color\":\"#CC79A7\"},\"mode\":\"lines\",\"name\":\"13_jeremi\\u0107_president_republic_arab\",\"x\":[1968.289,1985.513,2004.763,2013.882,2018.947],\"y\":[1,40,1,1,32],\"type\":\"scatter\"},{\"hoverinfo\":\"text\",\"hovertext\":[\"\\u003cb\\u003eTopic 14\\u003c\\u002fb\\u003e\\u003cbr\\u003eWords: had, egypt, was, egyptian, which\",\"\\u003cb\\u003eTopic 14\\u003c\\u002fb\\u003e\\u003cbr\\u003eWords: the, of, in, united, to\",\"\\u003cb\\u003eTopic 14\\u003c\\u002fb\\u003e\\u003cbr\\u003eWords: shatt, persian, iranian, al, this\",\"\\u003cb\\u003eTopic 14\\u003c\\u002fb\\u003e\\u003cbr\\u003eWords: which, of, the, in, to\",\"\\u003cb\\u003eTopic 14\\u003c\\u002fb\\u003e\\u003cbr\\u003eWords: this, rights, human, the, of\",\"\\u003cb\\u003eTopic 14\\u003c\\u002fb\\u003e\\u003cbr\\u003eWords: this, for, of, independence, and\",\"\\u003cb\\u003eTopic 14\\u003c\\u002fb\\u003e\\u003cbr\\u003eWords: papua, pacific, my, government, guinea\",\"\\u003cb\\u003eTopic 14\\u003c\\u002fb\\u003e\\u003cbr\\u003eWords: thailand, delegation, kampuchean, thai, international\",\"\\u003cb\\u003eTopic 14\\u003c\\u002fb\\u003e\\u003cbr\\u003eWords: nicaragua, made, economic, nicaraguan, social\",\"\\u003cb\\u003eTopic 14\\u003c\\u002fb\\u003e\\u003cbr\\u003eWords: to, the, and, of, for\",\"\\u003cb\\u003eTopic 14\\u003c\\u002fb\\u003e\\u003cbr\\u003eWords: malaysia, iraq, nations, must, islam\",\"\\u003cb\\u003eTopic 14\\u003c\\u002fb\\u003e\\u003cbr\\u003eWords: iran, germany, emissions, departed, is\",\"\\u003cb\\u003eTopic 14\\u003c\\u002fb\\u003e\\u003cbr\\u003eWords: czech, fukushima, energy, north, locations\",\"\\u003cb\\u003eTopic 14\\u003c\\u002fb\\u003e\\u003cbr\\u003eWords: jordan, muslim, global, syria, communities\",\"\\u003cb\\u003eTopic 14\\u003c\\u002fb\\u003e\\u003cbr\\u003eWords: inequality, jobs, cent, per, 29437\",\"\\u003cb\\u003eTopic 14\\u003c\\u002fb\\u003e\\u003cbr\\u003eWords: africa, marked, continent, development, flows\",\"\\u003cb\\u003eTopic 14\\u003c\\u002fb\\u003e\\u003cbr\\u003eWords: our, we, to, and, vanuatu\",\"\\u003cb\\u003eTopic 14\\u003c\\u002fb\\u003e\\u003cbr\\u003eWords: francis, pope, holy, compact, common\",\"\\u003cb\\u003eTopic 14\\u003c\\u002fb\\u003e\\u003cbr\\u003eWords: portugal, multilateralism, pandemic, pandemics, crises\",\"\\u003cb\\u003eTopic 14\\u003c\\u002fb\\u003e\\u003cbr\\u003eWords: mauritius, chagos, archipelago, law, 295\"],\"marker\":{\"color\":\"#E69F00\"},\"mode\":\"lines\",\"name\":\"14_guyana_general_venezuela_nations\",\"x\":[1947.013,1957.145,1968.289,1971.329,1976.395,1977.408,1978.421,1985.513,1991.592,2001.724,2003.75,2006.789,2010.842,2013.882,2014.895,2015.908,2016.921,2018.947,2020.974,2021.987],\"y\":[1,22,1,5,2,1,1,1,1,23,1,1,1,1,2,1,6,1,1,1],\"type\":\"scatter\"}],                        {\"template\":{\"data\":{\"barpolar\":[{\"marker\":{\"line\":{\"color\":\"white\",\"width\":0.5},\"pattern\":{\"fillmode\":\"overlay\",\"size\":10,\"solidity\":0.2}},\"type\":\"barpolar\"}],\"bar\":[{\"error_x\":{\"color\":\"rgb(36,36,36)\"},\"error_y\":{\"color\":\"rgb(36,36,36)\"},\"marker\":{\"line\":{\"color\":\"white\",\"width\":0.5},\"pattern\":{\"fillmode\":\"overlay\",\"size\":10,\"solidity\":0.2}},\"type\":\"bar\"}],\"carpet\":[{\"aaxis\":{\"endlinecolor\":\"rgb(36,36,36)\",\"gridcolor\":\"white\",\"linecolor\":\"white\",\"minorgridcolor\":\"white\",\"startlinecolor\":\"rgb(36,36,36)\"},\"baxis\":{\"endlinecolor\":\"rgb(36,36,36)\",\"gridcolor\":\"white\",\"linecolor\":\"white\",\"minorgridcolor\":\"white\",\"startlinecolor\":\"rgb(36,36,36)\"},\"type\":\"carpet\"}],\"choropleth\":[{\"colorbar\":{\"outlinewidth\":1,\"tickcolor\":\"rgb(36,36,36)\",\"ticks\":\"outside\"},\"type\":\"choropleth\"}],\"contourcarpet\":[{\"colorbar\":{\"outlinewidth\":1,\"tickcolor\":\"rgb(36,36,36)\",\"ticks\":\"outside\"},\"type\":\"contourcarpet\"}],\"contour\":[{\"colorbar\":{\"outlinewidth\":1,\"tickcolor\":\"rgb(36,36,36)\",\"ticks\":\"outside\"},\"colorscale\":[[0.0,\"#440154\"],[0.1111111111111111,\"#482878\"],[0.2222222222222222,\"#3e4989\"],[0.3333333333333333,\"#31688e\"],[0.4444444444444444,\"#26828e\"],[0.5555555555555556,\"#1f9e89\"],[0.6666666666666666,\"#35b779\"],[0.7777777777777778,\"#6ece58\"],[0.8888888888888888,\"#b5de2b\"],[1.0,\"#fde725\"]],\"type\":\"contour\"}],\"heatmapgl\":[{\"colorbar\":{\"outlinewidth\":1,\"tickcolor\":\"rgb(36,36,36)\",\"ticks\":\"outside\"},\"colorscale\":[[0.0,\"#440154\"],[0.1111111111111111,\"#482878\"],[0.2222222222222222,\"#3e4989\"],[0.3333333333333333,\"#31688e\"],[0.4444444444444444,\"#26828e\"],[0.5555555555555556,\"#1f9e89\"],[0.6666666666666666,\"#35b779\"],[0.7777777777777778,\"#6ece58\"],[0.8888888888888888,\"#b5de2b\"],[1.0,\"#fde725\"]],\"type\":\"heatmapgl\"}],\"heatmap\":[{\"colorbar\":{\"outlinewidth\":1,\"tickcolor\":\"rgb(36,36,36)\",\"ticks\":\"outside\"},\"colorscale\":[[0.0,\"#440154\"],[0.1111111111111111,\"#482878\"],[0.2222222222222222,\"#3e4989\"],[0.3333333333333333,\"#31688e\"],[0.4444444444444444,\"#26828e\"],[0.5555555555555556,\"#1f9e89\"],[0.6666666666666666,\"#35b779\"],[0.7777777777777778,\"#6ece58\"],[0.8888888888888888,\"#b5de2b\"],[1.0,\"#fde725\"]],\"type\":\"heatmap\"}],\"histogram2dcontour\":[{\"colorbar\":{\"outlinewidth\":1,\"tickcolor\":\"rgb(36,36,36)\",\"ticks\":\"outside\"},\"colorscale\":[[0.0,\"#440154\"],[0.1111111111111111,\"#482878\"],[0.2222222222222222,\"#3e4989\"],[0.3333333333333333,\"#31688e\"],[0.4444444444444444,\"#26828e\"],[0.5555555555555556,\"#1f9e89\"],[0.6666666666666666,\"#35b779\"],[0.7777777777777778,\"#6ece58\"],[0.8888888888888888,\"#b5de2b\"],[1.0,\"#fde725\"]],\"type\":\"histogram2dcontour\"}],\"histogram2d\":[{\"colorbar\":{\"outlinewidth\":1,\"tickcolor\":\"rgb(36,36,36)\",\"ticks\":\"outside\"},\"colorscale\":[[0.0,\"#440154\"],[0.1111111111111111,\"#482878\"],[0.2222222222222222,\"#3e4989\"],[0.3333333333333333,\"#31688e\"],[0.4444444444444444,\"#26828e\"],[0.5555555555555556,\"#1f9e89\"],[0.6666666666666666,\"#35b779\"],[0.7777777777777778,\"#6ece58\"],[0.8888888888888888,\"#b5de2b\"],[1.0,\"#fde725\"]],\"type\":\"histogram2d\"}],\"histogram\":[{\"marker\":{\"line\":{\"color\":\"white\",\"width\":0.6}},\"type\":\"histogram\"}],\"mesh3d\":[{\"colorbar\":{\"outlinewidth\":1,\"tickcolor\":\"rgb(36,36,36)\",\"ticks\":\"outside\"},\"type\":\"mesh3d\"}],\"parcoords\":[{\"line\":{\"colorbar\":{\"outlinewidth\":1,\"tickcolor\":\"rgb(36,36,36)\",\"ticks\":\"outside\"}},\"type\":\"parcoords\"}],\"pie\":[{\"automargin\":true,\"type\":\"pie\"}],\"scatter3d\":[{\"line\":{\"colorbar\":{\"outlinewidth\":1,\"tickcolor\":\"rgb(36,36,36)\",\"ticks\":\"outside\"}},\"marker\":{\"colorbar\":{\"outlinewidth\":1,\"tickcolor\":\"rgb(36,36,36)\",\"ticks\":\"outside\"}},\"type\":\"scatter3d\"}],\"scattercarpet\":[{\"marker\":{\"colorbar\":{\"outlinewidth\":1,\"tickcolor\":\"rgb(36,36,36)\",\"ticks\":\"outside\"}},\"type\":\"scattercarpet\"}],\"scattergeo\":[{\"marker\":{\"colorbar\":{\"outlinewidth\":1,\"tickcolor\":\"rgb(36,36,36)\",\"ticks\":\"outside\"}},\"type\":\"scattergeo\"}],\"scattergl\":[{\"marker\":{\"colorbar\":{\"outlinewidth\":1,\"tickcolor\":\"rgb(36,36,36)\",\"ticks\":\"outside\"}},\"type\":\"scattergl\"}],\"scattermapbox\":[{\"marker\":{\"colorbar\":{\"outlinewidth\":1,\"tickcolor\":\"rgb(36,36,36)\",\"ticks\":\"outside\"}},\"type\":\"scattermapbox\"}],\"scatterpolargl\":[{\"marker\":{\"colorbar\":{\"outlinewidth\":1,\"tickcolor\":\"rgb(36,36,36)\",\"ticks\":\"outside\"}},\"type\":\"scatterpolargl\"}],\"scatterpolar\":[{\"marker\":{\"colorbar\":{\"outlinewidth\":1,\"tickcolor\":\"rgb(36,36,36)\",\"ticks\":\"outside\"}},\"type\":\"scatterpolar\"}],\"scatter\":[{\"fillpattern\":{\"fillmode\":\"overlay\",\"size\":10,\"solidity\":0.2},\"type\":\"scatter\"}],\"scatterternary\":[{\"marker\":{\"colorbar\":{\"outlinewidth\":1,\"tickcolor\":\"rgb(36,36,36)\",\"ticks\":\"outside\"}},\"type\":\"scatterternary\"}],\"surface\":[{\"colorbar\":{\"outlinewidth\":1,\"tickcolor\":\"rgb(36,36,36)\",\"ticks\":\"outside\"},\"colorscale\":[[0.0,\"#440154\"],[0.1111111111111111,\"#482878\"],[0.2222222222222222,\"#3e4989\"],[0.3333333333333333,\"#31688e\"],[0.4444444444444444,\"#26828e\"],[0.5555555555555556,\"#1f9e89\"],[0.6666666666666666,\"#35b779\"],[0.7777777777777778,\"#6ece58\"],[0.8888888888888888,\"#b5de2b\"],[1.0,\"#fde725\"]],\"type\":\"surface\"}],\"table\":[{\"cells\":{\"fill\":{\"color\":\"rgb(237,237,237)\"},\"line\":{\"color\":\"white\"}},\"header\":{\"fill\":{\"color\":\"rgb(217,217,217)\"},\"line\":{\"color\":\"white\"}},\"type\":\"table\"}]},\"layout\":{\"annotationdefaults\":{\"arrowhead\":0,\"arrowwidth\":1},\"autotypenumbers\":\"strict\",\"coloraxis\":{\"colorbar\":{\"outlinewidth\":1,\"tickcolor\":\"rgb(36,36,36)\",\"ticks\":\"outside\"}},\"colorscale\":{\"diverging\":[[0.0,\"rgb(103,0,31)\"],[0.1,\"rgb(178,24,43)\"],[0.2,\"rgb(214,96,77)\"],[0.3,\"rgb(244,165,130)\"],[0.4,\"rgb(253,219,199)\"],[0.5,\"rgb(247,247,247)\"],[0.6,\"rgb(209,229,240)\"],[0.7,\"rgb(146,197,222)\"],[0.8,\"rgb(67,147,195)\"],[0.9,\"rgb(33,102,172)\"],[1.0,\"rgb(5,48,97)\"]],\"sequential\":[[0.0,\"#440154\"],[0.1111111111111111,\"#482878\"],[0.2222222222222222,\"#3e4989\"],[0.3333333333333333,\"#31688e\"],[0.4444444444444444,\"#26828e\"],[0.5555555555555556,\"#1f9e89\"],[0.6666666666666666,\"#35b779\"],[0.7777777777777778,\"#6ece58\"],[0.8888888888888888,\"#b5de2b\"],[1.0,\"#fde725\"]],\"sequentialminus\":[[0.0,\"#440154\"],[0.1111111111111111,\"#482878\"],[0.2222222222222222,\"#3e4989\"],[0.3333333333333333,\"#31688e\"],[0.4444444444444444,\"#26828e\"],[0.5555555555555556,\"#1f9e89\"],[0.6666666666666666,\"#35b779\"],[0.7777777777777778,\"#6ece58\"],[0.8888888888888888,\"#b5de2b\"],[1.0,\"#fde725\"]]},\"colorway\":[\"#1F77B4\",\"#FF7F0E\",\"#2CA02C\",\"#D62728\",\"#9467BD\",\"#8C564B\",\"#E377C2\",\"#7F7F7F\",\"#BCBD22\",\"#17BECF\"],\"font\":{\"color\":\"rgb(36,36,36)\"},\"geo\":{\"bgcolor\":\"white\",\"lakecolor\":\"white\",\"landcolor\":\"white\",\"showlakes\":true,\"showland\":true,\"subunitcolor\":\"white\"},\"hoverlabel\":{\"align\":\"left\"},\"hovermode\":\"closest\",\"mapbox\":{\"style\":\"light\"},\"paper_bgcolor\":\"white\",\"plot_bgcolor\":\"white\",\"polar\":{\"angularaxis\":{\"gridcolor\":\"rgb(232,232,232)\",\"linecolor\":\"rgb(36,36,36)\",\"showgrid\":false,\"showline\":true,\"ticks\":\"outside\"},\"bgcolor\":\"white\",\"radialaxis\":{\"gridcolor\":\"rgb(232,232,232)\",\"linecolor\":\"rgb(36,36,36)\",\"showgrid\":false,\"showline\":true,\"ticks\":\"outside\"}},\"scene\":{\"xaxis\":{\"backgroundcolor\":\"white\",\"gridcolor\":\"rgb(232,232,232)\",\"gridwidth\":2,\"linecolor\":\"rgb(36,36,36)\",\"showbackground\":true,\"showgrid\":false,\"showline\":true,\"ticks\":\"outside\",\"zeroline\":false,\"zerolinecolor\":\"rgb(36,36,36)\"},\"yaxis\":{\"backgroundcolor\":\"white\",\"gridcolor\":\"rgb(232,232,232)\",\"gridwidth\":2,\"linecolor\":\"rgb(36,36,36)\",\"showbackground\":true,\"showgrid\":false,\"showline\":true,\"ticks\":\"outside\",\"zeroline\":false,\"zerolinecolor\":\"rgb(36,36,36)\"},\"zaxis\":{\"backgroundcolor\":\"white\",\"gridcolor\":\"rgb(232,232,232)\",\"gridwidth\":2,\"linecolor\":\"rgb(36,36,36)\",\"showbackground\":true,\"showgrid\":false,\"showline\":true,\"ticks\":\"outside\",\"zeroline\":false,\"zerolinecolor\":\"rgb(36,36,36)\"}},\"shapedefaults\":{\"fillcolor\":\"black\",\"line\":{\"width\":0},\"opacity\":0.3},\"ternary\":{\"aaxis\":{\"gridcolor\":\"rgb(232,232,232)\",\"linecolor\":\"rgb(36,36,36)\",\"showgrid\":false,\"showline\":true,\"ticks\":\"outside\"},\"baxis\":{\"gridcolor\":\"rgb(232,232,232)\",\"linecolor\":\"rgb(36,36,36)\",\"showgrid\":false,\"showline\":true,\"ticks\":\"outside\"},\"bgcolor\":\"white\",\"caxis\":{\"gridcolor\":\"rgb(232,232,232)\",\"linecolor\":\"rgb(36,36,36)\",\"showgrid\":false,\"showline\":true,\"ticks\":\"outside\"}},\"title\":{\"x\":0.05},\"xaxis\":{\"automargin\":true,\"gridcolor\":\"rgb(232,232,232)\",\"linecolor\":\"rgb(36,36,36)\",\"showgrid\":false,\"showline\":true,\"ticks\":\"outside\",\"title\":{\"standoff\":15},\"zeroline\":false,\"zerolinecolor\":\"rgb(36,36,36)\"},\"yaxis\":{\"automargin\":true,\"gridcolor\":\"rgb(232,232,232)\",\"linecolor\":\"rgb(36,36,36)\",\"showgrid\":false,\"showline\":true,\"ticks\":\"outside\",\"title\":{\"standoff\":15},\"zeroline\":false,\"zerolinecolor\":\"rgb(36,36,36)\"}}},\"xaxis\":{\"showgrid\":true},\"yaxis\":{\"showgrid\":true,\"title\":{\"text\":\"Frequency\"}},\"title\":{\"font\":{\"size\":22,\"color\":\"Black\"},\"text\":\"\\u003cb\\u003eTopics over Time\\u003c\\u002fb\\u003e\",\"y\":0.95,\"x\":0.4,\"xanchor\":\"center\",\"yanchor\":\"top\"},\"hoverlabel\":{\"font\":{\"size\":16,\"family\":\"Rockwell\"},\"bgcolor\":\"white\"},\"width\":1250,\"height\":450,\"legend\":{\"title\":{\"text\":\"\\u003cb\\u003eGlobal Topic Representation\"}}},                        {\"responsive\": true}                    )                };                            </script>        </div>"
      ],
      "text/plain": [
       "Figure({\n",
       "    'data': [{'hoverinfo': 'text',\n",
       "              'hovertext': [<b>Topic 0</b><br>Words: soviet, atomic, war, union,\n",
       "                            states, <b>Topic 0</b><br>Words: had, was, council,\n",
       "                            were, social, <b>Topic 0</b><br>Words: had, jerusalem,\n",
       "                            israel, greece, was, <b>Topic 0</b><br>Words: korea,\n",
       "                            it, which, is, the, <b>Topic 0</b><br>Words:\n",
       "                            imprisonment, court, executed, police, supervision,\n",
       "                            <b>Topic 0</b><br>Words: bolivia, it, which, creditor,\n",
       "                            not, <b>Topic 0</b><br>Words: dulles, soviet, circles,\n",
       "                            union, aggressive, <b>Topic 0</b><br>Words: it, not,\n",
       "                            is, that, atomic, <b>Topic 0</b><br>Words: egypt,\n",
       "                            israel, canal, not, united, <b>Topic 0</b><br>Words:\n",
       "                            the, that, soviet, of, not, <b>Topic 0</b><br>Words:\n",
       "                            this, be, is, in, of, <b>Topic 0</b><br>Words:\n",
       "                            algerian, oman, optimism, united, arab, <b>Topic\n",
       "                            0</b><br>Words: is, of, not, that, the, <b>Topic\n",
       "                            0</b><br>Words: german, the, of, is, netherlands,\n",
       "                            <b>Topic 0</b><br>Words: volta, upper, the, of, which,\n",
       "                            <b>Topic 0</b><br>Words: the, of, which, that, to,\n",
       "                            <b>Topic 0</b><br>Words: of, the, which, it, to,\n",
       "                            <b>Topic 0</b><br>Words: the, of, to, viet, in,\n",
       "                            <b>Topic 0</b><br>Words: that, the, is, of, which,\n",
       "                            <b>Topic 0</b><br>Words: soviet, viet, of, the, is,\n",
       "                            <b>Topic 0</b><br>Words: of, is, the, which, that,\n",
       "                            <b>Topic 0</b><br>Words: of, which, the, in, is,\n",
       "                            <b>Topic 0</b><br>Words: of, the, which, that, it,\n",
       "                            <b>Topic 0</b><br>Words: of, the, to, that, and,\n",
       "                            <b>Topic 0</b><br>Words: of, soviet, the, that, by,\n",
       "                            <b>Topic 0</b><br>Words: of, the, to, that, is,\n",
       "                            <b>Topic 0</b><br>Words: of, the, and, in, to, <b>Topic\n",
       "                            0</b><br>Words: of, the, and, in, to, <b>Topic\n",
       "                            0</b><br>Words: of, the, detente, and, in, <b>Topic\n",
       "                            0</b><br>Words: the, of, and, to, in, <b>Topic\n",
       "                            0</b><br>Words: which, venezuela, new, is, of, <b>Topic\n",
       "                            0</b><br>Words: the, of, that, and, in, <b>Topic\n",
       "                            0</b><br>Words: of, the, and, to, in, <b>Topic\n",
       "                            0</b><br>Words: the, of, in, to, and, <b>Topic\n",
       "                            0</b><br>Words: of, the, and, to, in, <b>Topic\n",
       "                            0</b><br>Words: of, the, and, to, in, <b>Topic\n",
       "                            0</b><br>Words: of, the, and, to, in, <b>Topic\n",
       "                            0</b><br>Words: the, of, and, to, in, <b>Topic\n",
       "                            0</b><br>Words: iranian, iran, iraq, regime, the,\n",
       "                            <b>Topic 0</b><br>Words: the, of, in, that, to,\n",
       "                            <b>Topic 0</b><br>Words: burundi, the, in, that, to,\n",
       "                            <b>Topic 0</b><br>Words: the, of, in, and, to, <b>Topic\n",
       "                            0</b><br>Words: the, of, and, in, to, <b>Topic\n",
       "                            0</b><br>Words: the, of, and, in, to, <b>Topic\n",
       "                            0</b><br>Words: to, the, is, in, that, <b>Topic\n",
       "                            0</b><br>Words: the, of, and, to, in, <b>Topic\n",
       "                            0</b><br>Words: united, nations, the, to, and, <b>Topic\n",
       "                            0</b><br>Words: the, to, and, united, in, <b>Topic\n",
       "                            0</b><br>Words: the, to, of, and, we, <b>Topic\n",
       "                            0</b><br>Words: taliban, the, to, of, human, <b>Topic\n",
       "                            0</b><br>Words: the, of, to, in, and, <b>Topic\n",
       "                            0</b><br>Words: the, of, to, united, and, <b>Topic\n",
       "                            0</b><br>Words: we, and, to, the, in, <b>Topic\n",
       "                            0</b><br>Words: we, the, to, and, of, <b>Topic\n",
       "                            0</b><br>Words: to, and, that, the, we, <b>Topic\n",
       "                            0</b><br>Words: to, the, in, and, of, <b>Topic\n",
       "                            0</b><br>Words: and, to, the, we, of, <b>Topic\n",
       "                            0</b><br>Words: and, development, the, that, to,\n",
       "                            <b>Topic 0</b><br>Words: climate, change, to, that,\n",
       "                            the, <b>Topic 0</b><br>Words: that, food, we, to, and,\n",
       "                            <b>Topic 0</b><br>Words: global, we, and, to, that,\n",
       "                            <b>Topic 0</b><br>Words: and, to, the, that, united,\n",
       "                            <b>Topic 0</b><br>Words: the, to, we, of, and, <b>Topic\n",
       "                            0</b><br>Words: we, and, is, to, our, <b>Topic\n",
       "                            0</b><br>Words: development, we, that, and, the,\n",
       "                            <b>Topic 0</b><br>Words: we, our, and, to, that,\n",
       "                            <b>Topic 0</b><br>Words: we, 70, that, and, is,\n",
       "                            <b>Topic 0</b><br>Words: our, we, is, that, and,\n",
       "                            <b>Topic 0</b><br>Words: sudan, that, our, to, algeria,\n",
       "                            <b>Topic 0</b><br>Words: we, that, and, to, our,\n",
       "                            <b>Topic 0</b><br>Words: we, our, that, are, climate,\n",
       "                            <b>Topic 0</b><br>Words: pandemic, un, covid, mr, our,\n",
       "                            <b>Topic 0</b><br>Words: pandemic, and, covid, to, we,\n",
       "                            <b>Topic 0</b><br>Words: we, our, climate, and, is],\n",
       "              'marker': {'color': '#E69F00'},\n",
       "              'mode': 'lines',\n",
       "              'name': '0_peace_nations_general_organization',\n",
       "              'type': 'scatter',\n",
       "              'x': array([1945.923, 1947.013, 1948.026, 1949.039, 1950.053, 1951.066, 1952.079,\n",
       "                          1953.092, 1955.118, 1956.132, 1957.145, 1958.158, 1959.171, 1960.184,\n",
       "                          1961.197, 1962.211, 1964.237, 1965.25 , 1966.263, 1967.276, 1968.289,\n",
       "                          1969.303, 1970.316, 1971.329, 1972.342, 1973.355, 1974.368, 1975.382,\n",
       "                          1976.395, 1977.408, 1978.421, 1979.434, 1980.447, 1981.461, 1982.474,\n",
       "                          1983.487, 1984.5  , 1985.513, 1986.526, 1987.539, 1988.553, 1989.566,\n",
       "                          1990.579, 1991.592, 1992.605, 1993.618, 1994.632, 1995.645, 1996.658,\n",
       "                          1997.671, 1998.684, 1999.697, 2000.711, 2001.724, 2002.737, 2003.75 ,\n",
       "                          2004.763, 2005.776, 2006.789, 2007.803, 2008.816, 2009.829, 2010.842,\n",
       "                          2011.855, 2012.868, 2013.882, 2014.895, 2015.908, 2016.921, 2017.934,\n",
       "                          2018.947, 2019.961, 2020.974, 2021.987]),\n",
       "              'y': array([  5,   5,   3,  19,   2,   2,   1,   4,   7,   6,   4,   2,   8,   5,\n",
       "                            3,   9,  21,  52,   4,   5,  17,   6,  12,  12,   5,  39,  23,  21,\n",
       "                            6,  32,   2,   5,  13,   7,  13,  10,  13,  15,   5,  20,   4,  10,\n",
       "                           34,  19,   8,  28,  32,  14,  14,   7,  10,  29,  11,   8,  13,  13,\n",
       "                           30,  30,  12,  24,   9,  15,  21,  12,  13,  26,  12,   9,   6, 107,\n",
       "                           26,   8,  42,  23])},\n",
       "             {'hoverinfo': 'text',\n",
       "              'hovertext': [<b>Topic 1</b><br>Words: veto, charter, the, of,\n",
       "                            members, <b>Topic 1</b><br>Words: had, was, were,\n",
       "                            would, nations, <b>Topic 1</b><br>Words: had, was,\n",
       "                            would, were, assembly, <b>Topic 1</b><br>Words: ussr,\n",
       "                            salvadorean, delegation, united, it, <b>Topic\n",
       "                            1</b><br>Words: korea, the, of, chinese, is, <b>Topic\n",
       "                            1</b><br>Words: atomic, czechoslovak, propaganda, war,\n",
       "                            1954, <b>Topic 1</b><br>Words: economic, ten, which,\n",
       "                            it, this, <b>Topic 1</b><br>Words: hungarian, hungary,\n",
       "                            1957, resolution, counter, <b>Topic 1</b><br>Words:\n",
       "                            states, united, kingdom, the, of, <b>Topic\n",
       "                            1</b><br>Words: not, or, it, there, this, <b>Topic\n",
       "                            1</b><br>Words: cameroon, cameroons, delegation, or,\n",
       "                            federal, <b>Topic 1</b><br>Words: cuba, you, not, it,\n",
       "                            is, <b>Topic 1</b><br>Words: which, of, be, this, in,\n",
       "                            <b>Topic 1</b><br>Words: it, not, is, zealand, we,\n",
       "                            <b>Topic 1</b><br>Words: of, the, viet, this, united,\n",
       "                            <b>Topic 1</b><br>Words: is, that, in, of, the,\n",
       "                            <b>Topic 1</b><br>Words: which, it, that, of, to,\n",
       "                            <b>Topic 1</b><br>Words: mongolian, nam, republic,\n",
       "                            viet, asia, <b>Topic 1</b><br>Words: committees,\n",
       "                            lebanon, nations, united, which, <b>Topic\n",
       "                            1</b><br>Words: which, of, it, the, to, <b>Topic\n",
       "                            1</b><br>Words: of, the, in, which, this, <b>Topic\n",
       "                            1</b><br>Words: poland, of, operation, the, all,\n",
       "                            <b>Topic 1</b><br>Words: of, the, that, to, in,\n",
       "                            <b>Topic 1</b><br>Words: kampuchea, of, the, and,\n",
       "                            which, <b>Topic 1</b><br>Words: soviet, union, of,\n",
       "                            states, it, <b>Topic 1</b><br>Words: zionist, the, of,\n",
       "                            in, entity, <b>Topic 1</b><br>Words: fish, oceans,\n",
       "                            ocean, global, are, <b>Topic 1</b><br>Words: of, the,\n",
       "                            this, which, in, <b>Topic 1</b><br>Words: of, the, and,\n",
       "                            in, to, <b>Topic 1</b><br>Words: japan, to, northsouth,\n",
       "                            be, the, <b>Topic 1</b><br>Words: of, the, and, to, in,\n",
       "                            <b>Topic 1</b><br>Words: of, the, to, in, and, <b>Topic\n",
       "                            1</b><br>Words: of, the, to, in, and, <b>Topic\n",
       "                            1</b><br>Words: us, not, people, some, our, <b>Topic\n",
       "                            1</b><br>Words: israel, jews, soviet, lebanon, terror,\n",
       "                            <b>Topic 1</b><br>Words: the, of, is, to, that,\n",
       "                            <b>Topic 1</b><br>Words: of, the, in, to, that,\n",
       "                            <b>Topic 1</b><br>Words: the, of, to, in, and, <b>Topic\n",
       "                            1</b><br>Words: the, of, in, and, that, <b>Topic\n",
       "                            1</b><br>Words: jordan, to, the, of, and, <b>Topic\n",
       "                            1</b><br>Words: some, in, that, body, should, <b>Topic\n",
       "                            1</b><br>Words: the, and, of, in, to, <b>Topic\n",
       "                            1</b><br>Words: albania, greek, in, to, the, <b>Topic\n",
       "                            1</b><br>Words: the, of, to, in, and, <b>Topic\n",
       "                            1</b><br>Words: the, of, this, in, and, <b>Topic\n",
       "                            1</b><br>Words: china, democracy, nicaragua,\n",
       "                            programmes, central, <b>Topic 1</b><br>Words: the, of,\n",
       "                            to, in, and, <b>Topic 1</b><br>Words: the, this, and,\n",
       "                            to, be, <b>Topic 1</b><br>Words: kosovo, and, the,\n",
       "                            human, to, <b>Topic 1</b><br>Words: terrorism, and,\n",
       "                            the, to, united, <b>Topic 1</b><br>Words: to, the, of,\n",
       "                            and, that, <b>Topic 1</b><br>Words: iraq, iraqi, and,\n",
       "                            iraqis, the, <b>Topic 1</b><br>Words: and, that, the,\n",
       "                            to, we, <b>Topic 1</b><br>Words: tuvalu, and, to, the,\n",
       "                            we, <b>Topic 1</b><br>Words: tonga, ireland, islam,\n",
       "                            muslim, the, <b>Topic 1</b><br>Words: to, ethiopia,\n",
       "                            and, the, in, <b>Topic 1</b><br>Words: latvia, yemen,\n",
       "                            that, and, the, <b>Topic 1</b><br>Words: to, and, we,\n",
       "                            our, the, <b>Topic 1</b><br>Words: palau, our, pacific,\n",
       "                            climate, change, <b>Topic 1</b><br>Words: malta, libya,\n",
       "                            libyan, africa, au, <b>Topic 1</b><br>Words: ireland,\n",
       "                            we, our, are, rights, <b>Topic 1</b><br>Words:\n",
       "                            development, 2015, that, to, the, <b>Topic\n",
       "                            1</b><br>Words: development, we, that, the, and,\n",
       "                            <b>Topic 1</b><br>Words: 70, we, and, that, to,\n",
       "                            <b>Topic 1</b><br>Words: sustainable, we, and,\n",
       "                            development, our, <b>Topic 1</b><br>Words: and, we, to,\n",
       "                            our, that, <b>Topic 1</b><br>Words: yemen, mexico,\n",
       "                            yemeni, croatia, our, <b>Topic 1</b><br>Words: cabo,\n",
       "                            korean, korea, peninsula, verde, <b>Topic\n",
       "                            1</b><br>Words: azerbaijan, armenia, un, moldova,\n",
       "                            pandemic, <b>Topic 1</b><br>Words: covid, thailand, 19,\n",
       "                            pandemic, herzegovina, <b>Topic 1</b><br>Words: our,\n",
       "                            we, and, to, is],\n",
       "              'marker': {'color': '#56B4E9'},\n",
       "              'mode': 'lines',\n",
       "              'name': '1_general_nations_political_government',\n",
       "              'type': 'scatter',\n",
       "              'x': array([1945.923, 1947.013, 1948.026, 1950.053, 1952.079, 1953.092, 1954.105,\n",
       "                          1956.132, 1957.145, 1959.171, 1960.184, 1961.197, 1962.211, 1963.224,\n",
       "                          1964.237, 1965.25 , 1967.276, 1968.289, 1969.303, 1970.316, 1971.329,\n",
       "                          1972.342, 1973.355, 1974.368, 1975.382, 1976.395, 1977.408, 1978.421,\n",
       "                          1979.434, 1980.447, 1981.461, 1982.474, 1983.487, 1984.5  , 1985.513,\n",
       "                          1986.526, 1987.539, 1988.553, 1989.566, 1990.579, 1991.592, 1992.605,\n",
       "                          1993.618, 1994.632, 1995.645, 1996.658, 1997.671, 1998.684, 1999.697,\n",
       "                          2000.711, 2001.724, 2002.737, 2003.75 , 2004.763, 2005.776, 2006.789,\n",
       "                          2007.803, 2008.816, 2009.829, 2010.842, 2011.855, 2012.868, 2013.882,\n",
       "                          2014.895, 2015.908, 2016.921, 2017.934, 2018.947, 2019.961, 2020.974,\n",
       "                          2021.987]),\n",
       "              'y': array([ 7,  3,  2,  2,  5,  1,  1,  1,  6,  6,  2,  2,  9,  3, 15,  7,  7,  1,\n",
       "                           2, 11, 19,  3,  9,  5,  1,  7,  1, 14, 17,  2,  7, 23,  6,  1,  1, 14,\n",
       "                           6, 13,  7,  4,  1, 18,  4, 17, 26,  1, 30,  6,  8,  8, 13,  6, 13,  7,\n",
       "                           3, 13,  4, 26,  3,  2,  3, 12,  9, 27, 11, 16,  3,  4,  7,  4, 19])},\n",
       "             {'hoverinfo': 'text',\n",
       "              'hovertext': [<b>Topic 2</b><br>Words: council, the, veto, of, this,\n",
       "                            <b>Topic 2</b><br>Words: which, the, of, in, it,\n",
       "                            <b>Topic 2</b><br>Words: of, the, this, in, to,\n",
       "                            <b>Topic 2</b><br>Words: rica, costa, trade, nations,\n",
       "                            united, <b>Topic 2</b><br>Words: environment,\n",
       "                            planetary, life, of, these, <b>Topic 2</b><br>Words:\n",
       "                            of, the, and, in, this, <b>Topic 2</b><br>Words:\n",
       "                            equatorial, guinea, by, which, independence, <b>Topic\n",
       "                            2</b><br>Words: ireland, northern, irish, particular,\n",
       "                            this, <b>Topic 2</b><br>Words: jamahiriya, david,\n",
       "                            zionist, arab, camp, <b>Topic 2</b><br>Words: grenada,\n",
       "                            caribbean, imperialism, our, people, <b>Topic\n",
       "                            2</b><br>Words: venezuela, of, and, the, countries,\n",
       "                            <b>Topic 2</b><br>Words: the, of, and, in, to, <b>Topic\n",
       "                            2</b><br>Words: antarctica, my, small, we, contracting,\n",
       "                            <b>Topic 2</b><br>Words: salvador, el, the, democracy,\n",
       "                            has, <b>Topic 2</b><br>Words: rights, human, the, of,\n",
       "                            and, <b>Topic 2</b><br>Words: arf, thailand,\n",
       "                            development, agenda, meeting, <b>Topic 2</b><br>Words:\n",
       "                            senegal, conflicts, organization, must, of, <b>Topic\n",
       "                            2</b><br>Words: pakistan, india, kashmir, ctbt,\n",
       "                            nuclear, <b>Topic 2</b><br>Words: mauritius, century,\n",
       "                            wto, the, in, <b>Topic 2</b><br>Words: angola,\n",
       "                            reconstruction, institutions, continent, african,\n",
       "                            <b>Topic 2</b><br>Words: germany, iran, sudan,\n",
       "                            responsibility, dialogue, <b>Topic 2</b><br>Words:\n",
       "                            hungary, afghanistan, canada, rights, democracy,\n",
       "                            <b>Topic 2</b><br>Words: niger, 2009, held, 52598,\n",
       "                            president, <b>Topic 2</b><br>Words: uruguay, system,\n",
       "                            55396, country, haiti, <b>Topic 2</b><br>Words: spain,\n",
       "                            year, continue, will, to, <b>Topic 2</b><br>Words:\n",
       "                            afghanistan, afghan, socioeconomic, cooperation,\n",
       "                            decade, <b>Topic 2</b><br>Words: kenya, unep,\n",
       "                            sustainable, challenges, platform, <b>Topic\n",
       "                            2</b><br>Words: korea, korean, peninsula, carbon,\n",
       "                            neutrality, <b>Topic 2</b><br>Words: ukraine, russia,\n",
       "                            global, we, italy],\n",
       "              'marker': {'color': '#009E73'},\n",
       "              'mode': 'lines',\n",
       "              'name': '2_ukraine_republic_ukrainian_general',\n",
       "              'type': 'scatter',\n",
       "              'x': array([1945.923, 1953.092, 1961.197, 1963.224, 1971.329, 1972.342, 1974.368,\n",
       "                          1976.395, 1977.408, 1978.421, 1980.447, 1981.461, 1982.474, 1987.539,\n",
       "                          1991.592, 1993.618, 1995.645, 1997.671, 1998.684, 2002.737, 2005.776,\n",
       "                          2006.789, 2008.816, 2009.829, 2011.855, 2013.882, 2016.921, 2020.974,\n",
       "                          2021.987]),\n",
       "              'y': array([13, 10, 28,  1,  1,  5,  1,  1,  1,  1,  1, 23,  1,  2,  2,  1,  1,  1,\n",
       "                           2,  1,  1,  2,  1,  1,  1,  1,  1,  1,  3])},\n",
       "             {'hoverinfo': 'text',\n",
       "              'hovertext': [<b>Topic 3</b><br>Words: atomic, appropriations, ussr,\n",
       "                            war, propaganda, <b>Topic 3</b><br>Words: is, it, the,\n",
       "                            of, mexico, <b>Topic 3</b><br>Words: of, the, mexico,\n",
       "                            to, in, <b>Topic 3</b><br>Words: of, arab, to, we,\n",
       "                            resolution, <b>Topic 3</b><br>Words: danish, denmark,\n",
       "                            co, operation, in, <b>Topic 3</b><br>Words: niger, we,\n",
       "                            our, uruguay, of, <b>Topic 3</b><br>Words: yemen, co,\n",
       "                            operation, countries, international, <b>Topic\n",
       "                            3</b><br>Words: france, it, that, to, for, <b>Topic\n",
       "                            3</b><br>Words: ecuador, of, that, justice, with,\n",
       "                            <b>Topic 3</b><br>Words: nigeria, africa, decade, to,\n",
       "                            south, <b>Topic 3</b><br>Words: of, that, the, is, to,\n",
       "                            <b>Topic 3</b><br>Words: gulf, of, the, continued,\n",
       "                            world, <b>Topic 3</b><br>Words: of, is, and, mexico,\n",
       "                            the, <b>Topic 3</b><br>Words: the, of, and, to, in,\n",
       "                            <b>Topic 3</b><br>Words: angola, hong, kong, south,\n",
       "                            for, <b>Topic 3</b><br>Words: the, in, of, and, mexico,\n",
       "                            <b>Topic 3</b><br>Words: keeping, gambia, peace, we,\n",
       "                            will, <b>Topic 3</b><br>Words: nuclear, iran, values,\n",
       "                            council, and, <b>Topic 3</b><br>Words: slovakia,\n",
       "                            slovak, united, nations, for, <b>Topic 3</b><br>Words:\n",
       "                            morocco, madagascar, quds, as, economic, <b>Topic\n",
       "                            3</b><br>Words: spain, on, the, of, to, <b>Topic\n",
       "                            3</b><br>Words: mexico, international, exclusion, that,\n",
       "                            shaping, <b>Topic 3</b><br>Words: that, the, to, in,\n",
       "                            we, <b>Topic 3</b><br>Words: philippines, debt, us,\n",
       "                            dot, francisco, <b>Topic 3</b><br>Words: ethiopia,\n",
       "                            millennium, igad, somalia, development, <b>Topic\n",
       "                            3</b><br>Words: philippines, rule, rules, law,\n",
       "                            ramparts, <b>Topic 3</b><br>Words: marshall, islands,\n",
       "                            pacific, marshallese, mdgs, <b>Topic 3</b><br>Words:\n",
       "                            lao, lldcs, democratic, republic, cooperation, <b>Topic\n",
       "                            3</b><br>Words: luxembourg, must, conflict,\n",
       "                            humanitarian, 2015, <b>Topic 3</b><br>Words: family,\n",
       "                            market, belarus, chaos, different, <b>Topic\n",
       "                            3</b><br>Words: jamaica, madagascar, our, mexico, we,\n",
       "                            <b>Topic 3</b><br>Words: armenia, nagorno, tuvalu,\n",
       "                            karabakh, climate, <b>Topic 3</b><br>Words: romania,\n",
       "                            youth, un, covid, digital, <b>Topic 3</b><br>Words: st,\n",
       "                            kitts, nevis, covid, pandemic, <b>Topic 3</b><br>Words:\n",
       "                            sri, lanka, we, climate, food],\n",
       "              'marker': {'color': '#F0E442'},\n",
       "              'mode': 'lines',\n",
       "              'name': '3_mexico_mexican_nations_international',\n",
       "              'type': 'scatter',\n",
       "              'x': array([1949.039, 1956.132, 1968.289, 1970.316, 1971.329, 1972.342, 1976.395,\n",
       "                          1977.408, 1978.421, 1979.434, 1981.461, 1983.487, 1986.526, 1987.539,\n",
       "                          1988.553, 1989.566, 1991.592, 1993.618, 1995.645, 1997.671, 1998.684,\n",
       "                          2000.711, 2003.75 , 2004.763, 2007.803, 2010.842, 2011.855, 2012.868,\n",
       "                          2013.882, 2015.908, 2016.921, 2018.947, 2019.961, 2020.974, 2021.987]),\n",
       "              'y': array([ 2,  5, 22,  1,  1,  2,  1,  1,  1,  1,  3,  1,  2,  8,  2, 26,  2,  1,\n",
       "                           1,  2,  2,  1,  6,  1,  1,  1,  1,  1,  1,  1,  2,  2,  1,  1,  1])},\n",
       "             {'hoverinfo': 'text',\n",
       "              'hovertext': [<b>Topic 4</b><br>Words: nepal, history, great, asia,\n",
       "                            of, <b>Topic 4</b><br>Words: arab, israel, algeria,\n",
       "                            properties, refugees, <b>Topic 4</b><br>Words: arab,\n",
       "                            algeria, arabian, league, lahej, <b>Topic\n",
       "                            4</b><br>Words: arab, aggression, zionist, israel,\n",
       "                            struggle, <b>Topic 4</b><br>Words: palestine, racist,\n",
       "                            resolutions, states, the, <b>Topic 4</b><br>Words:\n",
       "                            argentina, of, latin, the, by, <b>Topic 4</b><br>Words:\n",
       "                            malaysia, antarctica, international, south, kampuchean,\n",
       "                            <b>Topic 4</b><br>Words: delegation, drug, waste,\n",
       "                            countries, must, <b>Topic 4</b><br>Words: the, of, in,\n",
       "                            and, to, <b>Topic 4</b><br>Words: ireland, timor,\n",
       "                            irish, agreement, the, <b>Topic 4</b><br>Words: gabon,\n",
       "                            poverty, africa, development, is, <b>Topic\n",
       "                            4</b><br>Words: tobago, trinidad, suriname, we, aids,\n",
       "                            <b>Topic 4</b><br>Words: macedonia, republic,\n",
       "                            terrorism, civilizations, kosovo, <b>Topic\n",
       "                            4</b><br>Words: and, africa, african, the, in, <b>Topic\n",
       "                            4</b><br>Words: marino, san, vis, reform, women,\n",
       "                            <b>Topic 4</b><br>Words: leste, timor, horta, ramos,\n",
       "                            police, <b>Topic 4</b><br>Words: malta, and, to, the,\n",
       "                            of, <b>Topic 4</b><br>Words: zimbabwe, emirates,\n",
       "                            palestinian, arab, we, <b>Topic 4</b><br>Words:\n",
       "                            ethiopia, ethiopians, somalia, sudan, challenge,\n",
       "                            <b>Topic 4</b><br>Words: celac, caribbean, latin,\n",
       "                            region, american, <b>Topic 4</b><br>Words: micronesia,\n",
       "                            climate, change, montreal, and, <b>Topic\n",
       "                            4</b><br>Words: poland, law, lemkin, war,\n",
       "                            international, <b>Topic 4</b><br>Words: we, our, and,\n",
       "                            to, the, <b>Topic 4</b><br>Words: croatia, global, and,\n",
       "                            peacekeeping, crises, <b>Topic 4</b><br>Words: tunisia,\n",
       "                            essebsi, our, women, and, <b>Topic 4</b><br>Words:\n",
       "                            bissau, guinea, covid, excellencies, excellency,\n",
       "                            <b>Topic 4</b><br>Words: macedonia, ukraine, north,\n",
       "                            global, solutions],\n",
       "              'marker': {'color': '#D55E00'},\n",
       "              'mode': 'lines',\n",
       "              'name': '4_tanzania_republic_zimbabwe_nations',\n",
       "              'type': 'scatter',\n",
       "              'x': array([1955.118, 1956.132, 1957.145, 1970.316, 1975.382, 1979.434, 1982.474,\n",
       "                          1987.539, 1992.605, 1998.684, 1999.697, 2000.711, 2001.724, 2003.75 ,\n",
       "                          2004.763, 2005.776, 2006.789, 2009.829, 2011.855, 2012.868, 2013.882,\n",
       "                          2014.895, 2015.908, 2016.921, 2018.947, 2019.961, 2021.987]),\n",
       "              'y': array([ 1,  1,  1,  1,  1,  1,  1,  1, 29,  1,  1,  2,  1,  3,  1,  1,  6,  2,\n",
       "                           1,  1,  2,  1, 31,  1,  2,  1,  1])},\n",
       "             {'hoverinfo': 'text',\n",
       "              'hovertext': [<b>Topic 5</b><br>Words: and, of, the, war, to,\n",
       "                            <b>Topic 5</b><br>Words: france, which, we, us, have,\n",
       "                            <b>Topic 5</b><br>Words: question, it, in, be,\n",
       "                            disarmament, <b>Topic 5</b><br>Words: to, be, that, of,\n",
       "                            and, <b>Topic 5</b><br>Words: and, to, in, we, is,\n",
       "                            <b>Topic 5</b><br>Words: panama, canal, panamanian,\n",
       "                            states, american, <b>Topic 5</b><br>Words: and, the,\n",
       "                            of, in, to, <b>Topic 5</b><br>Words: mexico, world,\n",
       "                            that, america, and, <b>Topic 5</b><br>Words: and, we,\n",
       "                            the, of, world, <b>Topic 5</b><br>Words: latvia,\n",
       "                            latvian, former, citizenship, russian, <b>Topic\n",
       "                            5</b><br>Words: peru, accordingly, cooperation, human,\n",
       "                            and, <b>Topic 5</b><br>Words: zealand, timor, council,\n",
       "                            security, new, <b>Topic 5</b><br>Words: children,\n",
       "                            spoke, canada, people, winnipeg, <b>Topic\n",
       "                            5</b><br>Words: kenya, poverty, conflicts, terrorism,\n",
       "                            aids, <b>Topic 5</b><br>Words: kenya, we, to, in, the,\n",
       "                            <b>Topic 5</b><br>Words: we, that, our, must, human,\n",
       "                            <b>Topic 5</b><br>Words: tuvalu, climate, emissions,\n",
       "                            change, bali, <b>Topic 5</b><br>Words: emirates,\n",
       "                            energy, arab, we, to, <b>Topic 5</b><br>Words: lucia,\n",
       "                            saint, growth, sids, gdp, <b>Topic 5</b><br>Words:\n",
       "                            tunisia, tunisian, and, who, their, <b>Topic\n",
       "                            5</b><br>Words: that, we, and, in, to, <b>Topic\n",
       "                            5</b><br>Words: iran, rouhani, nuclear, he, marino,\n",
       "                            <b>Topic 5</b><br>Words: we, that, and, is, to,\n",
       "                            <b>Topic 5</b><br>Words: pandemic, we, ethiopia,\n",
       "                            sweden, our],\n",
       "              'marker': {'color': '#0072B2'},\n",
       "              'mode': 'lines',\n",
       "              'name': '5_terrorists_terrorism_terrorist_iraq',\n",
       "              'type': 'scatter',\n",
       "              'x': array([1951.066, 1953.092, 1958.158, 1963.224, 1966.263, 1975.382, 1983.487,\n",
       "                          1984.5  , 1985.513, 1991.592, 1996.658, 1998.684, 1999.697, 2000.711,\n",
       "                          2002.737, 2004.763, 2006.789, 2007.803, 2009.829, 2010.842, 2011.855,\n",
       "                          2012.868, 2018.947, 2020.974]),\n",
       "              'y': array([ 5,  1,  1,  9,  8,  1,  5,  1,  5,  1,  1,  2,  1,  1,  4,  6,  1,  2,\n",
       "                           1,  3,  4,  2, 13,  5])},\n",
       "             {'hoverinfo': 'text',\n",
       "              'hovertext': [<b>Topic 6</b><br>Words: had, chile, chilean, was,\n",
       "                            francisco, <b>Topic 6</b><br>Words: which, bolivia,\n",
       "                            the, my, that, <b>Topic 6</b><br>Words: bandung,\n",
       "                            palestine, be, geneva, freedom, <b>Topic\n",
       "                            6</b><br>Words: agency, energy, the, in, of, <b>Topic\n",
       "                            6</b><br>Words: million, cuban, cuba, be, to, <b>Topic\n",
       "                            6</b><br>Words: turkey, these, disarmament, which,\n",
       "                            under, <b>Topic 6</b><br>Words: argentine, man, which,\n",
       "                            peoples, and, <b>Topic 6</b><br>Words: kuwait, nations,\n",
       "                            which, world, this, <b>Topic 6</b><br>Words: nuclear,\n",
       "                            viet, the, of, united, <b>Topic 6</b><br>Words:\n",
       "                            laotian, war, years, laos, twenty, <b>Topic\n",
       "                            6</b><br>Words: israel, palestinian, which, italian,\n",
       "                            the, <b>Topic 6</b><br>Words: which, the, european, of,\n",
       "                            is, <b>Topic 6</b><br>Words: niger, rhodesia, which,\n",
       "                            in, this, <b>Topic 6</b><br>Words: laos, it, vientiane,\n",
       "                            which, be, <b>Topic 6</b><br>Words: the, of, ethiopia,\n",
       "                            my, countries, <b>Topic 6</b><br>Words: swaziland, my,\n",
       "                            peace, non, justice, <b>Topic 6</b><br>Words: ecuador,\n",
       "                            co, it, the, of, <b>Topic 6</b><br>Words: japan, my,\n",
       "                            hijacking, co, country, <b>Topic 6</b><br>Words: which,\n",
       "                            have, been, to, we, <b>Topic 6</b><br>Words: of, the,\n",
       "                            afghanistan, to, in, <b>Topic 6</b><br>Words: my, and,\n",
       "                            of, the, refugee, <b>Topic 6</b><br>Words: pakistan,\n",
       "                            of, to, the, must, <b>Topic 6</b><br>Words: honduras,\n",
       "                            central, american, government, america, <b>Topic\n",
       "                            6</b><br>Words: the, of, imperialist, which, has,\n",
       "                            <b>Topic 6</b><br>Words: in, the, is, of, be, <b>Topic\n",
       "                            6</b><br>Words: indonesia, the, be, and, in, <b>Topic\n",
       "                            6</b><br>Words: gabon, should, solidarity, community,\n",
       "                            international, <b>Topic 6</b><br>Words: in, the, to,\n",
       "                            and, of, <b>Topic 6</b><br>Words: kazakstan, sudan,\n",
       "                            should, the, by, <b>Topic 6</b><br>Words: paraguay, to,\n",
       "                            the, this, on, <b>Topic 6</b><br>Words: vanuatu,\n",
       "                            eritrea, community, the, in, <b>Topic 6</b><br>Words:\n",
       "                            european, union, terror, against, nations, <b>Topic\n",
       "                            6</b><br>Words: latvia, european, within, union,\n",
       "                            century, <b>Topic 6</b><br>Words: croatia, croatian,\n",
       "                            wmds, european, europe, <b>Topic 6</b><br>Words: peru,\n",
       "                            cape, potato, verde, change, <b>Topic 6</b><br>Words:\n",
       "                            crisis, cameroon, financial, that, global, <b>Topic\n",
       "                            6</b><br>Words: syria, iraq, cancún, israel, we,\n",
       "                            <b>Topic 6</b><br>Words: slovenia, 50847, rights,\n",
       "                            human, development, <b>Topic 6</b><br>Words: energy,\n",
       "                            dependency, nuclear, safety, lithuania, <b>Topic\n",
       "                            6</b><br>Words: ghana, girls, are, marriage, those,\n",
       "                            <b>Topic 6</b><br>Words: denmark, bissau, guinea, our,\n",
       "                            we, <b>Topic 6</b><br>Words: cambodia, interference,\n",
       "                            multilateralism, world, being, <b>Topic 6</b><br>Words:\n",
       "                            rakhine, myanmar, state, qatar, covid, <b>Topic\n",
       "                            6</b><br>Words: usav7, bahamas, un, 78th, 2023],\n",
       "              'marker': {'color': '#CC79A7'},\n",
       "              'mode': 'lines',\n",
       "              'name': '6_luxembourg_general_council_nations',\n",
       "              'type': 'scatter',\n",
       "              'x': array([1947.013, 1949.039, 1954.105, 1955.118, 1957.145, 1958.158, 1960.184,\n",
       "                          1962.211, 1964.237, 1966.263, 1967.276, 1970.316, 1971.329, 1972.342,\n",
       "                          1973.355, 1975.382, 1976.395, 1977.408, 1978.421, 1979.434, 1980.447,\n",
       "                          1982.474, 1985.513, 1986.526, 1988.553, 1989.566, 1991.592, 1992.605,\n",
       "                          1994.632, 1996.658, 2000.711, 2001.724, 2002.737, 2003.75 , 2006.789,\n",
       "                          2008.816, 2009.829, 2010.842, 2011.855, 2014.895, 2016.921, 2018.947,\n",
       "                          2019.961, 2021.987]),\n",
       "              'y': array([ 1,  1,  1,  1,  1,  1,  1,  1,  3,  1,  2,  3,  1,  1,  3,  1,  1,  1,\n",
       "                           1,  6,  1,  1,  1,  3,  6,  1,  1, 10,  2,  3,  3,  1,  1,  1,  2,  1,\n",
       "                           1,  1,  1,  1,  2,  1,  2,  2])},\n",
       "             {'hoverinfo': 'text',\n",
       "              'hovertext': [<b>Topic 7</b><br>Words: united, states, this,\n",
       "                            nations, to, <b>Topic 7</b><br>Words: communist,\n",
       "                            chinese, viet, regime, mainland, <b>Topic\n",
       "                            7</b><br>Words: their, or, delegation, they, great,\n",
       "                            <b>Topic 7</b><br>Words: swaziland, delegation, your,\n",
       "                            mozambique, peace, <b>Topic 7</b><br>Words: socialist,\n",
       "                            czechoslovak, czechoslovakia, relations, of, <b>Topic\n",
       "                            7</b><br>Words: bangladesh, through, countries, of,\n",
       "                            world, <b>Topic 7</b><br>Words: hungarian, government,\n",
       "                            nuclear, international, relations, <b>Topic\n",
       "                            7</b><br>Words: the, of, to, in, and, <b>Topic\n",
       "                            7</b><br>Words: ecuador, peru, my, countries, and,\n",
       "                            <b>Topic 7</b><br>Words: cameroon, africa, development,\n",
       "                            diplomacy, machinery, <b>Topic 7</b><br>Words: kenya,\n",
       "                            burundi, to, igadd, on, <b>Topic 7</b><br>Words: level,\n",
       "                            levels, community, increasingly, well, <b>Topic\n",
       "                            7</b><br>Words: turkmenistan, caspian, cooperation,\n",
       "                            nations, of, <b>Topic 7</b><br>Words: suriname,\n",
       "                            indigenous, maritime, slave, award, <b>Topic\n",
       "                            7</b><br>Words: bhutan, happiness, king, 52272,\n",
       "                            democracy, <b>Topic 7</b><br>Words: greece, european,\n",
       "                            macedonia, cyprus, our, <b>Topic 7</b><br>Words:\n",
       "                            malaysia, mediation, moderates, transformation,\n",
       "                            moderation, <b>Topic 7</b><br>Words: poverty, income,\n",
       "                            quality, social, development, <b>Topic 7</b><br>Words:\n",
       "                            australia, aliir, we, esh, smuggling, <b>Topic\n",
       "                            7</b><br>Words: pandemic, covid, 19, and, we],\n",
       "              'marker': {'color': '#E69F00'},\n",
       "              'mode': 'lines',\n",
       "              'name': '7_zambia_africa_african_namibia',\n",
       "              'type': 'scatter',\n",
       "              'x': array([1969.303, 1970.316, 1971.329, 1973.355, 1975.382, 1977.408, 1983.487,\n",
       "                          1989.566, 1991.592, 1993.618, 1995.645, 1999.697, 2003.75 , 2006.789,\n",
       "                          2007.803, 2009.829, 2010.842, 2011.855, 2015.908, 2019.961]),\n",
       "              'y': array([ 1,  1,  1,  1,  1,  1,  1, 26,  1,  1,  1,  1,  2,  1,  1,  1,  1,  1,\n",
       "                           1, 35])},\n",
       "             {'hoverinfo': 'text',\n",
       "              'hovertext': [<b>Topic 8</b><br>Words: the, of, united, nations,\n",
       "                            and, <b>Topic 8</b><br>Words: israel, and, of, the, to,\n",
       "                            <b>Topic 8</b><br>Words: and, we, our, the, to],\n",
       "              'marker': {'color': '#56B4E9'},\n",
       "              'mode': 'lines',\n",
       "              'name': '8_freitas_amaral_nations_general',\n",
       "              'type': 'scatter',\n",
       "              'x': array([1969.303, 1980.447, 2016.921]),\n",
       "              'y': array([29,  4, 44])},\n",
       "             {'hoverinfo': 'text',\n",
       "              'hovertext': [<b>Topic 9</b><br>Words: council, nations, article,\n",
       "                            united, the, <b>Topic 9</b><br>Words: which,\n",
       "                            organization, african, south, this, <b>Topic\n",
       "                            9</b><br>Words: in, nations, the, of, which, <b>Topic\n",
       "                            9</b><br>Words: chairman, nations, the, of, in,\n",
       "                            <b>Topic 9</b><br>Words: netherlands, the, of, this,\n",
       "                            in, <b>Topic 9</b><br>Words: detente, poland, states,\n",
       "                            conference, of, <b>Topic 9</b><br>Words: the, of, and,\n",
       "                            to, in, <b>Topic 9</b><br>Words: malaysia, their,\n",
       "                            nations, rich, is, <b>Topic 9</b><br>Words: israeli,\n",
       "                            syria, israelis, lebanese, arab, <b>Topic\n",
       "                            9</b><br>Words: international, countries, we, the, and,\n",
       "                            <b>Topic 9</b><br>Words: swaziland, accordingly,\n",
       "                            nations, of, south, <b>Topic 9</b><br>Words: fiji, and,\n",
       "                            nations, the, united, <b>Topic 9</b><br>Words:\n",
       "                            palestinian, barbados, process, israeli, this, <b>Topic\n",
       "                            9</b><br>Words: iraq, al, globalization, okinawa,\n",
       "                            sharif, <b>Topic 9</b><br>Words: bissau, guinea, yalá,\n",
       "                            kumba, programmes, <b>Topic 9</b><br>Words: my,\n",
       "                            delegation, your, issues, and, <b>Topic 9</b><br>Words:\n",
       "                            children, seen, humanity, childrenís, nuclear, <b>Topic\n",
       "                            9</b><br>Words: darussalam, brunei, causes, consensus,\n",
       "                            injustice, <b>Topic 9</b><br>Words: grenada, caribbean,\n",
       "                            delegation, my, looks, <b>Topic 9</b><br>Words: lao,\n",
       "                            cluster, munitions, democratic, uxo, <b>Topic\n",
       "                            9</b><br>Words: mali, his, ldcs, mediation,\n",
       "                            development, <b>Topic 9</b><br>Words: paraguay,\n",
       "                            paraguayan, paraguayans, its, international, <b>Topic\n",
       "                            9</b><br>Words: nepal, mr, un, president, rss, <b>Topic\n",
       "                            9</b><br>Words: thailand, sustainable, global, climate,\n",
       "                            sustainability],\n",
       "              'marker': {'color': '#009E73'},\n",
       "              'mode': 'lines',\n",
       "              'name': '9_malaysia_general_secretary_government',\n",
       "              'type': 'scatter',\n",
       "              'x': array([1945.923, 1950.053, 1953.092, 1961.197, 1969.303, 1974.368, 1980.447,\n",
       "                          1981.461, 1984.5  , 1988.553, 1989.566, 1994.632, 1997.671, 1999.697,\n",
       "                          2000.711, 2002.737, 2003.75 , 2004.763, 2005.776, 2008.816, 2010.842,\n",
       "                          2011.855, 2019.961, 2021.987]),\n",
       "              'y': array([ 4,  1,  7,  7,  2,  1, 32,  1,  1,  2,  1,  4,  2,  1,  1,  1,  1,  1,\n",
       "                           1,  1,  1,  1,  2,  1])},\n",
       "             {'hoverinfo': 'text',\n",
       "              'hovertext': [<b>Topic 10</b><br>Words: had, was, zeeland, van,\n",
       "                            were, <b>Topic 10</b><br>Words: the, of, and,\n",
       "                            international, in, <b>Topic 10</b><br>Words: modernity,\n",
       "                            malawi, montaigne, sadc, and, <b>Topic 10</b><br>Words:\n",
       "                            and, the, to, we, that],\n",
       "              'marker': {'color': '#F0E442'},\n",
       "              'mode': 'lines',\n",
       "              'name': '10_caputo_general_conference_nations',\n",
       "              'type': 'scatter',\n",
       "              'x': array([1948.026, 1986.526, 2000.711, 2012.868]),\n",
       "              'y': array([ 3, 32,  2, 40])},\n",
       "             {'hoverinfo': 'text',\n",
       "              'hovertext': [<b>Topic 11</b><br>Words: veto, which, or, great,\n",
       "                            international, <b>Topic 11</b><br>Words: panama,\n",
       "                            liberty, system, individual, my, <b>Topic\n",
       "                            11</b><br>Words: prove, what, tenth, would, prodigies,\n",
       "                            <b>Topic 11</b><br>Words: relations, favourable, it,\n",
       "                            colombia, that, <b>Topic 11</b><br>Words: algerian,\n",
       "                            french, government, colombia, and, <b>Topic\n",
       "                            11</b><br>Words: portugal, colombia, decolonization,\n",
       "                            we, is, <b>Topic 11</b><br>Words: peking, australia,\n",
       "                            viet, nam, asia, <b>Topic 11</b><br>Words: viet,\n",
       "                            polish, colombia, nam, german, <b>Topic\n",
       "                            11</b><br>Words: manifesto, african, africa, régime,\n",
       "                            agencies, <b>Topic 11</b><br>Words: colombia, of,\n",
       "                            which, the, to, <b>Topic 11</b><br>Words: colombia,\n",
       "                            which, of, the, to, <b>Topic 11</b><br>Words:\n",
       "                            mauritania, problem, which, colombia, of, <b>Topic\n",
       "                            11</b><br>Words: sweden, swedish, must, all, co,\n",
       "                            <b>Topic 11</b><br>Words: egypt, colombia, its, the,\n",
       "                            of, <b>Topic 11</b><br>Words: mexico, negotiations,\n",
       "                            colombia, or, which, <b>Topic 11</b><br>Words:\n",
       "                            pakistan, afghanistan, international, co, colombia,\n",
       "                            <b>Topic 11</b><br>Words: equatorial, guinea, of,\n",
       "                            countries, which, <b>Topic 11</b><br>Words: nevis,\n",
       "                            christopher, st, saint, dutch, <b>Topic\n",
       "                            11</b><br>Words: japan, nuclear, colombia, to, efforts,\n",
       "                            <b>Topic 11</b><br>Words: cyprus, turkey, problem,\n",
       "                            super, resolutions, <b>Topic 11</b><br>Words: grenada,\n",
       "                            my, government, wishes, operatives, <b>Topic\n",
       "                            11</b><br>Words: haiti, aristide, losing, output,\n",
       "                            billion, <b>Topic 11</b><br>Words: malawi, delegation,\n",
       "                            1993, mozambique, my, <b>Topic 11</b><br>Words:\n",
       "                            slovenia, human, nations, united, of, <b>Topic\n",
       "                            11</b><br>Words: lithuania, osce, keeping, nations,\n",
       "                            united, <b>Topic 11</b><br>Words: denmark, rights,\n",
       "                            human, landmine, must, <b>Topic 11</b><br>Words:\n",
       "                            dominica, caribbean, this, commonwealth, wto, <b>Topic\n",
       "                            11</b><br>Words: portugal, angola, cplp, timorese,\n",
       "                            colombia, <b>Topic 11</b><br>Words: austria, terrorism,\n",
       "                            danube, vienna, odccp, <b>Topic 11</b><br>Words:\n",
       "                            russia, instruments, work, nations, united, <b>Topic\n",
       "                            11</b><br>Words: sudan, with, community, international,\n",
       "                            darfur, <b>Topic 11</b><br>Words: climate, change,\n",
       "                            water, more, must, <b>Topic 11</b><br>Words: togo,\n",
       "                            togolese, 53129, audit, 08, <b>Topic 11</b><br>Words:\n",
       "                            bahamas, mozambique, colombia, our, haiti, <b>Topic\n",
       "                            11</b><br>Words: maldives, our, india, colombia,\n",
       "                            pakistan, <b>Topic 11</b><br>Words: tonga, ncds, irena,\n",
       "                            elected, definition, <b>Topic 11</b><br>Words: bolivia,\n",
       "                            chile, echeñique, piñera, who, <b>Topic\n",
       "                            11</b><br>Words: panama, colombia, our, that, we,\n",
       "                            <b>Topic 11</b><br>Words: colombia, and, we, to, our,\n",
       "                            <b>Topic 11</b><br>Words: suriname, covid, forest, 19,\n",
       "                            puzzle, <b>Topic 11</b><br>Words: paraguay, we, that,\n",
       "                            colombia, with],\n",
       "              'marker': {'color': '#D55E00'},\n",
       "              'mode': 'lines',\n",
       "              'name': '11_colombia_colombian_nations_country',\n",
       "              'type': 'scatter',\n",
       "              'x': array([1945.923, 1949.039, 1954.105, 1955.118, 1958.158, 1962.211, 1965.25 ,\n",
       "                          1966.263, 1968.289, 1970.316, 1971.329, 1974.368, 1975.382, 1977.408,\n",
       "                          1980.447, 1981.461, 1983.487, 1984.5  , 1985.513, 1986.526, 1989.566,\n",
       "                          1990.579, 1992.605, 1993.618, 1994.632, 1995.645, 1996.658, 1997.671,\n",
       "                          2001.724, 2002.737, 2004.763, 2005.776, 2007.803, 2008.816, 2009.829,\n",
       "                          2010.842, 2012.868, 2014.895, 2015.908, 2020.974, 2021.987]),\n",
       "              'y': array([ 1,  1,  1,  1,  1,  1,  1,  1,  1, 11,  1,  1,  1,  1,  1,  1,  1,  1,\n",
       "                           1,  1,  1,  1,  1,  1,  1,  1,  1,  1,  1,  1,  1,  1,  1,  3,  2,  1,\n",
       "                           1,  1, 22,  1,  1])},\n",
       "             {'hoverinfo': 'text',\n",
       "              'hovertext': [<b>Topic 12</b><br>Words: liberian, definite, had,\n",
       "                            would, world, <b>Topic 12</b><br>Words: panama, peace,\n",
       "                            which, not, authority, <b>Topic 12</b><br>Words:\n",
       "                            panama, soviet, cuba, union, which, <b>Topic\n",
       "                            12</b><br>Words: panama, canal, which, of, the,\n",
       "                            <b>Topic 12</b><br>Words: romanian, panama, german,\n",
       "                            germany, states, <b>Topic 12</b><br>Words: panama,\n",
       "                            delegation, my, which, this, <b>Topic 12</b><br>Words:\n",
       "                            british, panama, manila, federation, malaysia, <b>Topic\n",
       "                            12</b><br>Words: mali, panama, government,\n",
       "                            stanleyville, republic, <b>Topic 12</b><br>Words: goa,\n",
       "                            indian, india, panama, or, <b>Topic 12</b><br>Words:\n",
       "                            somaliland, panama, french, territory, ethiopia,\n",
       "                            <b>Topic 12</b><br>Words: yemen, palestine, panama,\n",
       "                            yemeni, people, <b>Topic 12</b><br>Words: portuguese,\n",
       "                            panama, overseas, portugal, provinces, <b>Topic\n",
       "                            12</b><br>Words: panama, oil, of, the, which, <b>Topic\n",
       "                            12</b><br>Words: afghanistan, panama, this, session,\n",
       "                            of, <b>Topic 12</b><br>Words: bolivia, panama, tin,\n",
       "                            andean, of, <b>Topic 12</b><br>Words: panama, which,\n",
       "                            haiti, haitian, of, <b>Topic 12</b><br>Words: panama,\n",
       "                            which, andean, money, screen, <b>Topic 12</b><br>Words:\n",
       "                            paraguay, panama, republic, that, of, <b>Topic\n",
       "                            12</b><br>Words: panama, mexico, respect, latin,\n",
       "                            american, <b>Topic 12</b><br>Words: panama, pacific,\n",
       "                            kuwait, south, our, <b>Topic 12</b><br>Words: greece,\n",
       "                            panama, democracy, cyprus, greeks, <b>Topic\n",
       "                            12</b><br>Words: nigeria, panama, liberia, peace, in,\n",
       "                            <b>Topic 12</b><br>Words: burundi, panama, has, the,\n",
       "                            and, <b>Topic 12</b><br>Words: senegal, panama,\n",
       "                            solidarity, new, conflicts, <b>Topic 12</b><br>Words:\n",
       "                            azerbaijan, osce, panama, azerbaijani, population,\n",
       "                            <b>Topic 12</b><br>Words: korean, korea, reunification,\n",
       "                            peninsula, panama, <b>Topic 12</b><br>Words: georgia,\n",
       "                            abkhazia, panama, unomig, georgian, <b>Topic\n",
       "                            12</b><br>Words: gabon, panama, of, african, the,\n",
       "                            <b>Topic 12</b><br>Words: nauru, panama, pacific,\n",
       "                            bless, laundering, <b>Topic 12</b><br>Words: leste,\n",
       "                            timor, panama, genocide, oda, <b>Topic 12</b><br>Words:\n",
       "                            senegal, panama, fund, debt, with, <b>Topic\n",
       "                            12</b><br>Words: ecuador, minimums, minimum, panama,\n",
       "                            mdgs, <b>Topic 12</b><br>Words: azerbaijan, region,\n",
       "                            panama, territories, eiti, <b>Topic 12</b><br>Words:\n",
       "                            egypt, panama, 52586, international, in, <b>Topic\n",
       "                            12</b><br>Words: colom, panama, guatemala, 55276, have,\n",
       "                            <b>Topic 12</b><br>Words: price, panama, food,\n",
       "                            financial, barrel, <b>Topic 12</b><br>Words: lao,\n",
       "                            asean, panama, democratic, community, <b>Topic\n",
       "                            12</b><br>Words: herzegovina, bosnia, panama, european,\n",
       "                            and, <b>Topic 12</b><br>Words: grenada, panama, island,\n",
       "                            climate, energy, <b>Topic 12</b><br>Words: tonga,\n",
       "                            panama, samaritan, conservation, pacific, <b>Topic\n",
       "                            12</b><br>Words: climate, change, panama, dominica,\n",
       "                            insurance, <b>Topic 12</b><br>Words: mongolia, panama,\n",
       "                            young, energy, climate, <b>Topic 12</b><br>Words:\n",
       "                            panama, pandemic, covid, un, 19, <b>Topic\n",
       "                            12</b><br>Words: russia, lithuania, ukrainian, ukraine,\n",
       "                            gentlemen],\n",
       "              'marker': {'color': '#0072B2'},\n",
       "              'mode': 'lines',\n",
       "              'name': '12_panamanian_panama_panamanians_nations',\n",
       "              'type': 'scatter',\n",
       "              'x': array([1948.026, 1950.053, 1952.079, 1955.118, 1960.184, 1961.197, 1962.211,\n",
       "                          1963.224, 1964.237, 1965.25 , 1967.276, 1971.329, 1973.355, 1974.368,\n",
       "                          1978.421, 1980.447, 1983.487, 1986.526, 1987.539, 1989.566, 1990.579,\n",
       "                          1992.605, 1993.618, 1994.632, 1995.645, 1996.658, 1997.671, 1998.684,\n",
       "                          2000.711, 2003.75 , 2005.776, 2006.789, 2007.803, 2008.816, 2009.829,\n",
       "                          2010.842, 2011.855, 2012.868, 2013.882, 2015.908, 2017.934, 2018.947,\n",
       "                          2019.961, 2021.987]),\n",
       "              'y': array([ 1,  1,  1, 11,  1,  1,  1,  1,  1,  1,  1,  1,  3,  1,  1,  1,  1,  1,\n",
       "                           1,  1,  1,  1,  1,  1,  1,  1,  1,  1,  1,  1,  1,  1,  1,  1,  1,  1,\n",
       "                           1,  1,  1,  1,  2,  1, 19,  1])},\n",
       "             {'hoverinfo': 'text',\n",
       "              'hovertext': [<b>Topic 13</b><br>Words: relief, norwegian, must,\n",
       "                            problems, we, <b>Topic 13</b><br>Words: and, the, to,\n",
       "                            of, international, <b>Topic 13</b><br>Words: boy,\n",
       "                            summit, challenge, sweden, commitments, <b>Topic\n",
       "                            13</b><br>Words: holy, holiness, pope, francis,\n",
       "                            cultures, <b>Topic 13</b><br>Words: our, we, and,\n",
       "                            climate, to],\n",
       "              'marker': {'color': '#CC79A7'},\n",
       "              'mode': 'lines',\n",
       "              'name': '13_jeremić_president_republic_arab',\n",
       "              'type': 'scatter',\n",
       "              'x': array([1968.289, 1985.513, 2004.763, 2013.882, 2018.947]),\n",
       "              'y': array([ 1, 40,  1,  1, 32])},\n",
       "             {'hoverinfo': 'text',\n",
       "              'hovertext': [<b>Topic 14</b><br>Words: had, egypt, was, egyptian,\n",
       "                            which, <b>Topic 14</b><br>Words: the, of, in, united,\n",
       "                            to, <b>Topic 14</b><br>Words: shatt, persian, iranian,\n",
       "                            al, this, <b>Topic 14</b><br>Words: which, of, the, in,\n",
       "                            to, <b>Topic 14</b><br>Words: this, rights, human, the,\n",
       "                            of, <b>Topic 14</b><br>Words: this, for, of,\n",
       "                            independence, and, <b>Topic 14</b><br>Words: papua,\n",
       "                            pacific, my, government, guinea, <b>Topic\n",
       "                            14</b><br>Words: thailand, delegation, kampuchean,\n",
       "                            thai, international, <b>Topic 14</b><br>Words:\n",
       "                            nicaragua, made, economic, nicaraguan, social, <b>Topic\n",
       "                            14</b><br>Words: to, the, and, of, for, <b>Topic\n",
       "                            14</b><br>Words: malaysia, iraq, nations, must, islam,\n",
       "                            <b>Topic 14</b><br>Words: iran, germany, emissions,\n",
       "                            departed, is, <b>Topic 14</b><br>Words: czech,\n",
       "                            fukushima, energy, north, locations, <b>Topic\n",
       "                            14</b><br>Words: jordan, muslim, global, syria,\n",
       "                            communities, <b>Topic 14</b><br>Words: inequality,\n",
       "                            jobs, cent, per, 29437, <b>Topic 14</b><br>Words:\n",
       "                            africa, marked, continent, development, flows, <b>Topic\n",
       "                            14</b><br>Words: our, we, to, and, vanuatu, <b>Topic\n",
       "                            14</b><br>Words: francis, pope, holy, compact, common,\n",
       "                            <b>Topic 14</b><br>Words: portugal, multilateralism,\n",
       "                            pandemic, pandemics, crises, <b>Topic 14</b><br>Words:\n",
       "                            mauritius, chagos, archipelago, law, 295],\n",
       "              'marker': {'color': '#E69F00'},\n",
       "              'mode': 'lines',\n",
       "              'name': '14_guyana_general_venezuela_nations',\n",
       "              'type': 'scatter',\n",
       "              'x': array([1947.013, 1957.145, 1968.289, 1971.329, 1976.395, 1977.408, 1978.421,\n",
       "                          1985.513, 1991.592, 2001.724, 2003.75 , 2006.789, 2010.842, 2013.882,\n",
       "                          2014.895, 2015.908, 2016.921, 2018.947, 2020.974, 2021.987]),\n",
       "              'y': array([ 1, 22,  1,  5,  2,  1,  1,  1,  1, 23,  1,  1,  1,  1,  2,  1,  6,  1,\n",
       "                           1,  1])}],\n",
       "    'layout': {'height': 450,\n",
       "               'hoverlabel': {'bgcolor': 'white', 'font': {'family': 'Rockwell', 'size': 16}},\n",
       "               'legend': {'title': {'text': '<b>Global Topic Representation'}},\n",
       "               'template': '...',\n",
       "               'title': {'font': {'color': 'Black', 'size': 22},\n",
       "                         'text': '<b>Topics over Time</b>',\n",
       "                         'x': 0.4,\n",
       "                         'xanchor': 'center',\n",
       "                         'y': 0.95,\n",
       "                         'yanchor': 'top'},\n",
       "               'width': 1250,\n",
       "               'xaxis': {'showgrid': True},\n",
       "               'yaxis': {'showgrid': True, 'title': {'text': 'Frequency'}}}\n",
       "})"
      ]
     },
     "execution_count": 16,
     "metadata": {},
     "output_type": "execute_result"
    }
   ],
   "source": [
    "# visualize topics over time\n",
    "model.visualize_topics_over_time(topics_over_time, top_n_topics = N_TOP)"
   ]
  }
 ],
 "metadata": {
  "kernelspec": {
   "display_name": "nlp-un",
   "language": "python",
   "name": "python3"
  },
  "language_info": {
   "codemirror_mode": {
    "name": "ipython",
    "version": 3
   },
   "file_extension": ".py",
   "mimetype": "text/x-python",
   "name": "python",
   "nbconvert_exporter": "python",
   "pygments_lexer": "ipython3",
   "version": "3.9.18"
  }
 },
 "nbformat": 4,
 "nbformat_minor": 2
}
