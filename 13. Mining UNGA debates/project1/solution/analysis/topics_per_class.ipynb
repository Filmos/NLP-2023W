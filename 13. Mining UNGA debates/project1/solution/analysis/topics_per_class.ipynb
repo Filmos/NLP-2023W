{
 "cells": [
  {
   "cell_type": "code",
   "execution_count": 207,
   "metadata": {},
   "outputs": [],
   "source": [
    "# imports\n",
    "import ast\n",
    "import pandas as pd\n",
    "from pathlib import Path\n",
    "\n",
    "import sys\n",
    "sys.path.append('..')\n",
    "\n",
    "from modeling.bertopic_models import get_texts, EMBEDDING_MODELS\n",
    "\n",
    "from bertopic import BERTopic"
   ]
  },
  {
   "cell_type": "code",
   "execution_count": 208,
   "metadata": {},
   "outputs": [],
   "source": [
    "# set global vars\n",
    "CORPUS_DIR = Path('../corpora/UN General Debate Corpus/TXT')\n",
    "MODELS_DIR = Path('../models')\n",
    "PATH_METADATA = Path('../metadata/enhanced_metadata.csv')"
   ]
  },
  {
   "cell_type": "code",
   "execution_count": 209,
   "metadata": {},
   "outputs": [
    {
     "name": "stderr",
     "output_type": "stream",
     "text": [
      "2023-12-11 14:37:18,351 - BERTopic - WARNING: You are loading a BERTopic model without explicitly defining an embedding model.If you want to also load in an embedding model, make sure to useBERTopic.load(my_model, embedding_model=my_embedding_model).\n"
     ]
    },
    {
     "name": "stdout",
     "output_type": "stream",
     "text": [
      "Loading model all-MiniLM-L6-v2\n"
     ]
    },
    {
     "name": "stderr",
     "output_type": "stream",
     "text": [
      "2023-12-11 14:37:18,731 - BERTopic - WARNING: You are loading a BERTopic model without explicitly defining an embedding model.If you want to also load in an embedding model, make sure to useBERTopic.load(my_model, embedding_model=my_embedding_model).\n"
     ]
    },
    {
     "name": "stdout",
     "output_type": "stream",
     "text": [
      "Loading model all-mpnet-base-v2\n"
     ]
    },
    {
     "name": "stderr",
     "output_type": "stream",
     "text": [
      "2023-12-11 14:37:20,097 - BERTopic - WARNING: You are loading a BERTopic model without explicitly defining an embedding model.If you want to also load in an embedding model, make sure to useBERTopic.load(my_model, embedding_model=my_embedding_model).\n"
     ]
    },
    {
     "name": "stdout",
     "output_type": "stream",
     "text": [
      "Loading model all-MiniLM-L12-v2\n"
     ]
    },
    {
     "data": {
      "text/plain": [
       "dict_keys(['all-MiniLM-L6-v2', 'all-mpnet-base-v2', 'all-MiniLM-L12-v2'])"
      ]
     },
     "execution_count": 209,
     "metadata": {},
     "output_type": "execute_result"
    }
   ],
   "source": [
    "# load models to dict\n",
    "TOPIC_MODELS = {}\n",
    "\n",
    "for name, embedding_model in EMBEDDING_MODELS.items():\n",
    "    saved_model_path = Path(MODELS_DIR) / name\n",
    "    if not saved_model_path.exists():\n",
    "        print(f\"Skipping model '{name}' because it does not exist\")\n",
    "        continue\n",
    "    else:\n",
    "        print(f\"Loading model {name}\")\n",
    "    TOPIC_MODELS[name] = BERTopic.load(saved_model_path, embedding_model=name)\n",
    "\n",
    "TOPIC_MODELS.keys()"
   ]
  },
  {
   "cell_type": "code",
   "execution_count": 210,
   "metadata": {},
   "outputs": [],
   "source": [
    "# set more global vars\n",
    "MODEL_NAME = 'all-MiniLM-L12-v2'\n",
    "TOP_N = 20"
   ]
  },
  {
   "cell_type": "code",
   "execution_count": 211,
   "metadata": {},
   "outputs": [],
   "source": [
    "# pick specific model\n",
    "model = TOPIC_MODELS[MODEL_NAME]"
   ]
  },
  {
   "cell_type": "code",
   "execution_count": 212,
   "metadata": {},
   "outputs": [],
   "source": [
    "# get txts and class info\n",
    "all_texts = get_texts(CORPUS_DIR)\n",
    "texts = [text[0] for text in all_texts]"
   ]
  },
  {
   "cell_type": "code",
   "execution_count": 213,
   "metadata": {},
   "outputs": [],
   "source": [
    "metadata = pd.read_csv(PATH_METADATA)"
   ]
  },
  {
   "cell_type": "code",
   "execution_count": 214,
   "metadata": {},
   "outputs": [
    {
     "data": {
      "text/plain": [
       "Index(['Year', 'Session', 'ISO Code', 'Country', 'Name of Person Speaking',\n",
       "       'Post', 'Population', 'TFR', 'HDI', 'GDP', 'Unemployment Rate', 'Gini',\n",
       "       'CO2', 'Democracy Index', 'Region Name', 'Sub-region Name',\n",
       "       'text_path'],\n",
       "      dtype='object')"
      ]
     },
     "execution_count": 214,
     "metadata": {},
     "output_type": "execute_result"
    }
   ],
   "source": [
    "metadata.columns"
   ]
  },
  {
   "cell_type": "code",
   "execution_count": 215,
   "metadata": {},
   "outputs": [],
   "source": [
    "def get_topics_per_class(class_name):\n",
    "    txt_to_class = []\n",
    "    for _, idx in all_texts:\n",
    "        iso_code = idx['country']\n",
    "        session = idx['session']\n",
    "        year = idx['year']\n",
    "        info = metadata[\n",
    "            (metadata['ISO Code'] == iso_code) &\n",
    "            (metadata['Session'] == int(session)) & \n",
    "            (metadata['Year'] == int(year))]\n",
    "        try:\n",
    "            info = info[class_name].values[0]\n",
    "            txt_to_class.append(info)\n",
    "        except:\n",
    "            txt_to_class.append('none')\n",
    "    \n",
    "    # get topics per class\n",
    "    topics_per_class = model.topics_per_class(texts, classes = txt_to_class)\n",
    "    \n",
    "    # visualize topics per class\n",
    "    return topics_per_class\n",
    "    "
   ]
  },
  {
   "cell_type": "code",
   "execution_count": 216,
   "metadata": {},
   "outputs": [
    {
     "name": "stderr",
     "output_type": "stream",
     "text": [
      "6it [00:17,  2.86s/it]\n"
     ]
    },
    {
     "ename": "ValueError",
     "evalue": "Mime type rendering requires nbformat>=4.2.0 but it is not installed",
     "output_type": "error",
     "traceback": [
      "\u001b[0;31m---------------------------------------------------------------------------\u001b[0m",
      "\u001b[0;31mValueError\u001b[0m                                Traceback (most recent call last)",
      "File \u001b[0;32m~/miniforge3/envs/nlp-un/lib/python3.9/site-packages/IPython/core/formatters.py:922\u001b[0m, in \u001b[0;36mIPythonDisplayFormatter.__call__\u001b[0;34m(self, obj)\u001b[0m\n\u001b[1;32m    920\u001b[0m method \u001b[38;5;241m=\u001b[39m get_real_method(obj, \u001b[38;5;28mself\u001b[39m\u001b[38;5;241m.\u001b[39mprint_method)\n\u001b[1;32m    921\u001b[0m \u001b[38;5;28;01mif\u001b[39;00m method \u001b[38;5;129;01mis\u001b[39;00m \u001b[38;5;129;01mnot\u001b[39;00m \u001b[38;5;28;01mNone\u001b[39;00m:\n\u001b[0;32m--> 922\u001b[0m     \u001b[43mmethod\u001b[49m\u001b[43m(\u001b[49m\u001b[43m)\u001b[49m\n\u001b[1;32m    923\u001b[0m     \u001b[38;5;28;01mreturn\u001b[39;00m \u001b[38;5;28;01mTrue\u001b[39;00m\n",
      "File \u001b[0;32m~/miniforge3/envs/nlp-un/lib/python3.9/site-packages/plotly/basedatatypes.py:832\u001b[0m, in \u001b[0;36mBaseFigure._ipython_display_\u001b[0;34m(self)\u001b[0m\n\u001b[1;32m    829\u001b[0m \u001b[38;5;28;01mimport\u001b[39;00m \u001b[38;5;21;01mplotly\u001b[39;00m\u001b[38;5;21;01m.\u001b[39;00m\u001b[38;5;21;01mio\u001b[39;00m \u001b[38;5;28;01mas\u001b[39;00m \u001b[38;5;21;01mpio\u001b[39;00m\n\u001b[1;32m    831\u001b[0m \u001b[38;5;28;01mif\u001b[39;00m pio\u001b[38;5;241m.\u001b[39mrenderers\u001b[38;5;241m.\u001b[39mrender_on_display \u001b[38;5;129;01mand\u001b[39;00m pio\u001b[38;5;241m.\u001b[39mrenderers\u001b[38;5;241m.\u001b[39mdefault:\n\u001b[0;32m--> 832\u001b[0m     \u001b[43mpio\u001b[49m\u001b[38;5;241;43m.\u001b[39;49m\u001b[43mshow\u001b[49m\u001b[43m(\u001b[49m\u001b[38;5;28;43mself\u001b[39;49m\u001b[43m)\u001b[49m\n\u001b[1;32m    833\u001b[0m \u001b[38;5;28;01melse\u001b[39;00m:\n\u001b[1;32m    834\u001b[0m     \u001b[38;5;28mprint\u001b[39m(\u001b[38;5;28mrepr\u001b[39m(\u001b[38;5;28mself\u001b[39m))\n",
      "File \u001b[0;32m~/miniforge3/envs/nlp-un/lib/python3.9/site-packages/plotly/io/_renderers.py:394\u001b[0m, in \u001b[0;36mshow\u001b[0;34m(fig, renderer, validate, **kwargs)\u001b[0m\n\u001b[1;32m    389\u001b[0m         \u001b[38;5;28;01mraise\u001b[39;00m \u001b[38;5;167;01mValueError\u001b[39;00m(\n\u001b[1;32m    390\u001b[0m             \u001b[38;5;124m\"\u001b[39m\u001b[38;5;124mMime type rendering requires ipython but it is not installed\u001b[39m\u001b[38;5;124m\"\u001b[39m\n\u001b[1;32m    391\u001b[0m         )\n\u001b[1;32m    393\u001b[0m     \u001b[38;5;28;01mif\u001b[39;00m \u001b[38;5;129;01mnot\u001b[39;00m nbformat \u001b[38;5;129;01mor\u001b[39;00m Version(nbformat\u001b[38;5;241m.\u001b[39m__version__) \u001b[38;5;241m<\u001b[39m Version(\u001b[38;5;124m\"\u001b[39m\u001b[38;5;124m4.2.0\u001b[39m\u001b[38;5;124m\"\u001b[39m):\n\u001b[0;32m--> 394\u001b[0m         \u001b[38;5;28;01mraise\u001b[39;00m \u001b[38;5;167;01mValueError\u001b[39;00m(\n\u001b[1;32m    395\u001b[0m             \u001b[38;5;124m\"\u001b[39m\u001b[38;5;124mMime type rendering requires nbformat>=4.2.0 but it is not installed\u001b[39m\u001b[38;5;124m\"\u001b[39m\n\u001b[1;32m    396\u001b[0m         )\n\u001b[1;32m    398\u001b[0m     ipython_display\u001b[38;5;241m.\u001b[39mdisplay(bundle, raw\u001b[38;5;241m=\u001b[39m\u001b[38;5;28;01mTrue\u001b[39;00m)\n\u001b[1;32m    400\u001b[0m \u001b[38;5;66;03m# external renderers\u001b[39;00m\n",
      "\u001b[0;31mValueError\u001b[0m: Mime type rendering requires nbformat>=4.2.0 but it is not installed"
     ]
    },
    {
     "data": {
      "application/vnd.plotly.v1+json": {
       "config": {
        "plotlyServerURL": "https://plot.ly"
       },
       "data": [
        {
         "hoverinfo": "text",
         "hovertext": [
          "<b>Topic 0</b><br>Words: the, of, and, to, in",
          "<b>Topic 0</b><br>Words: pacific, we, our, to, that",
          "<b>Topic 0</b><br>Words: the, of, is, to, in",
          "<b>Topic 0</b><br>Words: the, of, to, and, that",
          "<b>Topic 0</b><br>Words: the, of, states, united, soviet",
          "<b>Topic 0</b><br>Words: that, of, the, to, and"
         ],
         "marker": {
          "color": "#E69F00"
         },
         "name": "0_peace_nations_general_organization",
         "orientation": "h",
         "type": "bar",
         "visible": true,
         "x": [
          258,
          58,
          230,
          312,
          43,
          221
         ],
         "y": [
          "Asia",
          "Oceania",
          "Europe",
          "Africa",
          "none",
          "Americas"
         ]
        },
        {
         "hoverinfo": "text",
         "hovertext": [
          "<b>Topic 1</b><br>Words: the, of, and, to, in",
          "<b>Topic 1</b><br>Words: our, we, to, pacific, the",
          "<b>Topic 1</b><br>Words: the, of, in, is, to",
          "<b>Topic 1</b><br>Words: the, of, to, in, that",
          "<b>Topic 1</b><br>Words: of, the, in, and, is",
          "<b>Topic 1</b><br>Words: of, the, to, that, in"
         ],
         "marker": {
          "color": "#56B4E9"
         },
         "name": "1_general_nations_political_government",
         "orientation": "h",
         "type": "bar",
         "visible": "legendonly",
         "x": [
          139,
          31,
          117,
          141,
          30,
          119
         ],
         "y": [
          "Asia",
          "Oceania",
          "Europe",
          "Africa",
          "none",
          "Americas"
         ]
        },
        {
         "hoverinfo": "text",
         "hovertext": [
          "<b>Topic 2</b><br>Words: of, the, and, in, to",
          "<b>Topic 2</b><br>Words: zealand, veto, council, as, it",
          "<b>Topic 2</b><br>Words: the, in, of, to, and",
          "<b>Topic 2</b><br>Words: the, of, to, and, in",
          "<b>Topic 2</b><br>Words: the, of, this, in, and",
          "<b>Topic 2</b><br>Words: of, the, and, in, to"
         ],
         "marker": {
          "color": "#009E73"
         },
         "name": "2_ukraine_republic_ukrainian_general",
         "orientation": "h",
         "type": "bar",
         "visible": "legendonly",
         "x": [
          27,
          2,
          22,
          27,
          7,
          24
         ],
         "y": [
          "Asia",
          "Oceania",
          "Europe",
          "Africa",
          "none",
          "Americas"
         ]
        },
        {
         "hoverinfo": "text",
         "hovertext": [
          "<b>Topic 3</b><br>Words: the, of, and, mexico, to",
          "<b>Topic 3</b><br>Words: tuvalu, marshall, climate, islands, our",
          "<b>Topic 3</b><br>Words: the, of, in, mexico, to",
          "<b>Topic 3</b><br>Words: of, the, mexico, to, in",
          "<b>Topic 3</b><br>Words: atomic, war, appropriations, ussr, propaganda",
          "<b>Topic 3</b><br>Words: mexico, and, we, of, to"
         ],
         "marker": {
          "color": "#F0E442"
         },
         "name": "3_mexico_mexican_nations_international",
         "orientation": "h",
         "type": "bar",
         "visible": "legendonly",
         "x": [
          27,
          3,
          28,
          30,
          2,
          18
         ],
         "y": [
          "Asia",
          "Oceania",
          "Europe",
          "Africa",
          "none",
          "Americas"
         ]
        },
        {
         "hoverinfo": "text",
         "hovertext": [
          "<b>Topic 4</b><br>Words: and, the, of, to, in",
          "<b>Topic 4</b><br>Words: our, islands, we, development, tuvalu",
          "<b>Topic 4</b><br>Words: latvia, the, and, of, to",
          "<b>Topic 4</b><br>Words: the, and, to, of, in",
          "<b>Topic 4</b><br>Words: and, of, the, to, we"
         ],
         "marker": {
          "color": "#D55E00"
         },
         "name": "4_tanzania_republic_zimbabwe_nations",
         "orientation": "h",
         "type": "bar",
         "visible": "legendonly",
         "x": [
          22,
          7,
          19,
          27,
          21
         ],
         "y": [
          "Asia",
          "Oceania",
          "Europe",
          "Africa",
          "Americas"
         ]
        },
        {
         "hoverinfo": "text",
         "hovertext": [
          "<b>Topic 5</b><br>Words: and, that, we, iran, to",
          "<b>Topic 5</b><br>Words: tuvalu, zealand, timor, council, new",
          "<b>Topic 5</b><br>Words: we, to, in, the, that",
          "<b>Topic 5</b><br>Words: and, to, the, in, we",
          "<b>Topic 5</b><br>Words: we, it, in, that, of",
          "<b>Topic 5</b><br>Words: we, that, and, to, the"
         ],
         "marker": {
          "color": "#0072B2"
         },
         "name": "5_terrorists_terrorism_terrorist_iraq",
         "orientation": "h",
         "type": "bar",
         "visible": "legendonly",
         "x": [
          17,
          2,
          17,
          23,
          3,
          21
         ],
         "y": [
          "Asia",
          "Oceania",
          "Europe",
          "Africa",
          "none",
          "Americas"
         ]
        },
        {
         "hoverinfo": "text",
         "hovertext": [
          "<b>Topic 6</b><br>Words: the, in, of, to, and",
          "<b>Topic 6</b><br>Words: papua, vanuatu, guinea, government, new",
          "<b>Topic 6</b><br>Words: european, the, to, of, in",
          "<b>Topic 6</b><br>Words: the, of, to, in, that",
          "<b>Topic 6</b><br>Words: german, the, of, in, is",
          "<b>Topic 6</b><br>Words: the, which, of, in, to"
         ],
         "marker": {
          "color": "#CC79A7"
         },
         "name": "6_luxembourg_general_council_nations",
         "orientation": "h",
         "type": "bar",
         "visible": "legendonly",
         "x": [
          28,
          2,
          12,
          20,
          5,
          14
         ],
         "y": [
          "Asia",
          "Oceania",
          "Europe",
          "Africa",
          "none",
          "Americas"
         ]
        },
        {
         "hoverinfo": "text",
         "hovertext": [
          "<b>Topic 7</b><br>Words: the, and, to, of, in",
          "<b>Topic 7</b><br>Words: australia, we, new, our, pacific",
          "<b>Topic 7</b><br>Words: the, europe, and, of, to",
          "<b>Topic 7</b><br>Words: pandemic, covid, the, and, to",
          "<b>Topic 7</b><br>Words: of, the, in, we, to",
          "<b>Topic 7</b><br>Words: to, the, we, and, of"
         ],
         "marker": {
          "color": "#E69F00"
         },
         "name": "7_zambia_africa_african_namibia",
         "orientation": "h",
         "type": "bar",
         "visible": "legendonly",
         "x": [
          19,
          5,
          15,
          25,
          4,
          12
         ],
         "y": [
          "Asia",
          "Oceania",
          "Europe",
          "Africa",
          "none",
          "Americas"
         ]
        },
        {
         "hoverinfo": "text",
         "hovertext": [
          "<b>Topic 8</b><br>Words: and, united, nations, the, of",
          "<b>Topic 8</b><br>Words: islands, pacific, nations, united, the",
          "<b>Topic 8</b><br>Words: and, the, united, of, nations",
          "<b>Topic 8</b><br>Words: the, and, of, nations, united",
          "<b>Topic 8</b><br>Words: world, of, nations, this, united",
          "<b>Topic 8</b><br>Words: of, the, and, we, to"
         ],
         "marker": {
          "color": "#56B4E9"
         },
         "name": "8_freitas_amaral_nations_general",
         "orientation": "h",
         "type": "bar",
         "visible": "legendonly",
         "x": [
          22,
          4,
          16,
          19,
          1,
          15
         ],
         "y": [
          "Asia",
          "Oceania",
          "Europe",
          "Africa",
          "none",
          "Americas"
         ]
        },
        {
         "hoverinfo": "text",
         "hovertext": [
          "<b>Topic 9</b><br>Words: and, the, of, to, in",
          "<b>Topic 9</b><br>Words: fiji, australia, papua, to, the",
          "<b>Topic 9</b><br>Words: the, of, in, to, is",
          "<b>Topic 9</b><br>Words: the, of, to, and, in",
          "<b>Topic 9</b><br>Words: is, soviet, the, on, to",
          "<b>Topic 9</b><br>Words: the, of, in, and, to"
         ],
         "marker": {
          "color": "#009E73"
         },
         "name": "9_malaysia_general_secretary_government",
         "orientation": "h",
         "type": "bar",
         "visible": "legendonly",
         "x": [
          21,
          3,
          10,
          22,
          3,
          18
         ],
         "y": [
          "Asia",
          "Oceania",
          "Europe",
          "Africa",
          "none",
          "Americas"
         ]
        },
        {
         "hoverinfo": "text",
         "hovertext": [
          "<b>Topic 10</b><br>Words: and, the, of, in, international",
          "<b>Topic 10</b><br>Words: tuvalu, australia, climate, to, the",
          "<b>Topic 10</b><br>Words: the, and, of, in, that",
          "<b>Topic 10</b><br>Words: the, to, and, of, in",
          "<b>Topic 10</b><br>Words: syria, chemical, european, we, is",
          "<b>Topic 10</b><br>Words: and, the, of, we, that"
         ],
         "marker": {
          "color": "#F0E442"
         },
         "name": "10_caputo_general_conference_nations",
         "orientation": "h",
         "type": "bar",
         "visible": "legendonly",
         "x": [
          18,
          4,
          17,
          19,
          1,
          18
         ],
         "y": [
          "Asia",
          "Oceania",
          "Europe",
          "Africa",
          "none",
          "Americas"
         ]
        },
        {
         "hoverinfo": "text",
         "hovertext": [
          "<b>Topic 11</b><br>Words: colombia, and, to, the, of",
          "<b>Topic 11</b><br>Words: solomon, islands, peking, australia, colombia",
          "<b>Topic 11</b><br>Words: colombia, of, the, in, to",
          "<b>Topic 11</b><br>Words: colombia, the, of, to, which",
          "<b>Topic 11</b><br>Words: relations, favourable, it, colombia, that",
          "<b>Topic 11</b><br>Words: colombia, that, of, the, to"
         ],
         "marker": {
          "color": "#D55E00"
         },
         "name": "11_colombia_colombian_nations_country",
         "orientation": "h",
         "type": "bar",
         "visible": "legendonly",
         "x": [
          12,
          3,
          20,
          20,
          1,
          19
         ],
         "y": [
          "Asia",
          "Oceania",
          "Europe",
          "Africa",
          "none",
          "Americas"
         ]
        },
        {
         "hoverinfo": "text",
         "hovertext": [
          "<b>Topic 12</b><br>Words: panama, of, the, and, to",
          "<b>Topic 12</b><br>Words: panama, tonga, pacific, our, nauru",
          "<b>Topic 12</b><br>Words: panama, canal, the, of, which",
          "<b>Topic 12</b><br>Words: panama, of, the, which, to",
          "<b>Topic 12</b><br>Words: russia, lithuania, ukrainian, ukraine, gentlemen",
          "<b>Topic 12</b><br>Words: panama, which, of, the, that"
         ],
         "marker": {
          "color": "#0072B2"
         },
         "name": "12_panamanian_panama_panamanians_nations",
         "orientation": "h",
         "type": "bar",
         "visible": "legendonly",
         "x": [
          17,
          4,
          19,
          16,
          1,
          18
         ],
         "y": [
          "Asia",
          "Oceania",
          "Europe",
          "Africa",
          "none",
          "Americas"
         ]
        },
        {
         "hoverinfo": "text",
         "hovertext": [
          "<b>Topic 13</b><br>Words: and, to, the, that, we",
          "<b>Topic 13</b><br>Words: pacific, solomon, climate, islands, our",
          "<b>Topic 13</b><br>Words: we, and, in, to, for",
          "<b>Topic 13</b><br>Words: and, to, the, of, our",
          "<b>Topic 13</b><br>Words: and, our, that, we, to"
         ],
         "marker": {
          "color": "#CC79A7"
         },
         "name": "13_jeremić_president_republic_arab",
         "orientation": "h",
         "type": "bar",
         "visible": "legendonly",
         "x": [
          11,
          5,
          18,
          18,
          23
         ],
         "y": [
          "Asia",
          "Oceania",
          "Europe",
          "Africa",
          "Americas"
         ]
        },
        {
         "hoverinfo": "text",
         "hovertext": [
          "<b>Topic 14</b><br>Words: the, of, in, to, and",
          "<b>Topic 14</b><br>Words: pacific, we, to, tuvalu, in",
          "<b>Topic 14</b><br>Words: united, the, of, states, in",
          "<b>Topic 14</b><br>Words: the, to, of, and, in",
          "<b>Topic 14</b><br>Words: communism, taiwan, mainland, chinese, communists",
          "<b>Topic 14</b><br>Words: the, of, in, to, that"
         ],
         "marker": {
          "color": "#E69F00"
         },
         "name": "14_guyana_general_venezuela_nations",
         "orientation": "h",
         "type": "bar",
         "visible": "legendonly",
         "x": [
          15,
          6,
          20,
          14,
          1,
          18
         ],
         "y": [
          "Asia",
          "Oceania",
          "Europe",
          "Africa",
          "none",
          "Americas"
         ]
        },
        {
         "hoverinfo": "text",
         "hovertext": [
          "<b>Topic 15</b><br>Words: and, food, the, to, international",
          "<b>Topic 15</b><br>Words: pacific, fiji, zealand, food, and",
          "<b>Topic 15</b><br>Words: the, and, bulgaria, to, food",
          "<b>Topic 15</b><br>Words: food, to, the, and, of",
          "<b>Topic 15</b><br>Words: our, we, and, to, food"
         ],
         "marker": {
          "color": "#56B4E9"
         },
         "name": "15_democracy_general_brockmann_nations",
         "orientation": "h",
         "type": "bar",
         "visible": "legendonly",
         "x": [
          16,
          6,
          9,
          23,
          20
         ],
         "y": [
          "Asia",
          "Oceania",
          "Europe",
          "Africa",
          "Americas"
         ]
        },
        {
         "hoverinfo": "text",
         "hovertext": [
          "<b>Topic 16</b><br>Words: the, and, of, in, to",
          "<b>Topic 16</b><br>Words: papua, pacific, guinea, new, countries",
          "<b>Topic 16</b><br>Words: the, of, in, to, and",
          "<b>Topic 16</b><br>Words: the, of, to, and, in",
          "<b>Topic 16</b><br>Words: german, democratic, soviet, republic, union",
          "<b>Topic 16</b><br>Words: of, the, and, to, in"
         ],
         "marker": {
          "color": "#009E73"
         },
         "name": "16_opertti_republic_general_democratic",
         "orientation": "h",
         "type": "bar",
         "visible": "legendonly",
         "x": [
          19,
          2,
          10,
          25,
          2,
          15
         ],
         "y": [
          "Asia",
          "Oceania",
          "Europe",
          "Africa",
          "none",
          "Americas"
         ]
        },
        {
         "hoverinfo": "text",
         "hovertext": [
          "<b>Topic 17</b><br>Words: israel, the, to, and, of",
          "<b>Topic 17</b><br>Words: australia, we, how, to, that",
          "<b>Topic 17</b><br>Words: the, of, to, that, in",
          "<b>Topic 17</b><br>Words: to, the, of, and, in",
          "<b>Topic 17</b><br>Words: acheson, mao, american, tse, tung",
          "<b>Topic 17</b><br>Words: the, to, of, we, in"
         ],
         "marker": {
          "color": "#F0E442"
         },
         "name": "17_president_republic_kavan_timor",
         "orientation": "h",
         "type": "bar",
         "visible": "legendonly",
         "x": [
          12,
          3,
          12,
          21,
          2,
          21
         ],
         "y": [
          "Asia",
          "Oceania",
          "Europe",
          "Africa",
          "none",
          "Americas"
         ]
        },
        {
         "hoverinfo": "text",
         "hovertext": [
          "<b>Topic 18</b><br>Words: the, and, of, in, to",
          "<b>Topic 18</b><br>Words: solomon, islands, pacific, bougainville, forum",
          "<b>Topic 18</b><br>Words: the, in, on, and, to",
          "<b>Topic 18</b><br>Words: to, the, and, of, in",
          "<b>Topic 18</b><br>Words: of, the, in, and, on",
          "<b>Topic 18</b><br>Words: and, our, to, of, the"
         ],
         "marker": {
          "color": "#D55E00"
         },
         "name": "18_treki_general_crises_council",
         "orientation": "h",
         "type": "bar",
         "visible": "legendonly",
         "x": [
          17,
          1,
          7,
          17,
          5,
          21
         ],
         "y": [
          "Asia",
          "Oceania",
          "Europe",
          "Africa",
          "none",
          "Americas"
         ]
        },
        {
         "hoverinfo": "text",
         "hovertext": [
          "<b>Topic 19</b><br>Words: armenia, azerbaijan, and, we, to",
          "<b>Topic 19</b><br>Words: our, climate, global, we, development",
          "<b>Topic 19</b><br>Words: we, development, climate, and, our",
          "<b>Topic 19</b><br>Words: development, and, our, to, for",
          "<b>Topic 19</b><br>Words: development, we, our, and, climate"
         ],
         "marker": {
          "color": "#0072B2"
         },
         "name": "19_kutesa_republic_general_nations",
         "orientation": "h",
         "type": "bar",
         "visible": "legendonly",
         "x": [
          14,
          12,
          13,
          21,
          8
         ],
         "y": [
          "Asia",
          "Oceania",
          "Europe",
          "Africa",
          "Americas"
         ]
        }
       ],
       "layout": {
        "height": 900,
        "hoverlabel": {
         "bgcolor": "white",
         "font": {
          "family": "Rockwell",
          "size": 16
         }
        },
        "legend": {
         "title": {
          "text": "<b>Global Topic Representation"
         }
        },
        "template": {
         "data": {
          "bar": [
           {
            "error_x": {
             "color": "rgb(36,36,36)"
            },
            "error_y": {
             "color": "rgb(36,36,36)"
            },
            "marker": {
             "line": {
              "color": "white",
              "width": 0.5
             },
             "pattern": {
              "fillmode": "overlay",
              "size": 10,
              "solidity": 0.2
             }
            },
            "type": "bar"
           }
          ],
          "barpolar": [
           {
            "marker": {
             "line": {
              "color": "white",
              "width": 0.5
             },
             "pattern": {
              "fillmode": "overlay",
              "size": 10,
              "solidity": 0.2
             }
            },
            "type": "barpolar"
           }
          ],
          "carpet": [
           {
            "aaxis": {
             "endlinecolor": "rgb(36,36,36)",
             "gridcolor": "white",
             "linecolor": "white",
             "minorgridcolor": "white",
             "startlinecolor": "rgb(36,36,36)"
            },
            "baxis": {
             "endlinecolor": "rgb(36,36,36)",
             "gridcolor": "white",
             "linecolor": "white",
             "minorgridcolor": "white",
             "startlinecolor": "rgb(36,36,36)"
            },
            "type": "carpet"
           }
          ],
          "choropleth": [
           {
            "colorbar": {
             "outlinewidth": 1,
             "tickcolor": "rgb(36,36,36)",
             "ticks": "outside"
            },
            "type": "choropleth"
           }
          ],
          "contour": [
           {
            "colorbar": {
             "outlinewidth": 1,
             "tickcolor": "rgb(36,36,36)",
             "ticks": "outside"
            },
            "colorscale": [
             [
              0,
              "#440154"
             ],
             [
              0.1111111111111111,
              "#482878"
             ],
             [
              0.2222222222222222,
              "#3e4989"
             ],
             [
              0.3333333333333333,
              "#31688e"
             ],
             [
              0.4444444444444444,
              "#26828e"
             ],
             [
              0.5555555555555556,
              "#1f9e89"
             ],
             [
              0.6666666666666666,
              "#35b779"
             ],
             [
              0.7777777777777778,
              "#6ece58"
             ],
             [
              0.8888888888888888,
              "#b5de2b"
             ],
             [
              1,
              "#fde725"
             ]
            ],
            "type": "contour"
           }
          ],
          "contourcarpet": [
           {
            "colorbar": {
             "outlinewidth": 1,
             "tickcolor": "rgb(36,36,36)",
             "ticks": "outside"
            },
            "type": "contourcarpet"
           }
          ],
          "heatmap": [
           {
            "colorbar": {
             "outlinewidth": 1,
             "tickcolor": "rgb(36,36,36)",
             "ticks": "outside"
            },
            "colorscale": [
             [
              0,
              "#440154"
             ],
             [
              0.1111111111111111,
              "#482878"
             ],
             [
              0.2222222222222222,
              "#3e4989"
             ],
             [
              0.3333333333333333,
              "#31688e"
             ],
             [
              0.4444444444444444,
              "#26828e"
             ],
             [
              0.5555555555555556,
              "#1f9e89"
             ],
             [
              0.6666666666666666,
              "#35b779"
             ],
             [
              0.7777777777777778,
              "#6ece58"
             ],
             [
              0.8888888888888888,
              "#b5de2b"
             ],
             [
              1,
              "#fde725"
             ]
            ],
            "type": "heatmap"
           }
          ],
          "heatmapgl": [
           {
            "colorbar": {
             "outlinewidth": 1,
             "tickcolor": "rgb(36,36,36)",
             "ticks": "outside"
            },
            "colorscale": [
             [
              0,
              "#440154"
             ],
             [
              0.1111111111111111,
              "#482878"
             ],
             [
              0.2222222222222222,
              "#3e4989"
             ],
             [
              0.3333333333333333,
              "#31688e"
             ],
             [
              0.4444444444444444,
              "#26828e"
             ],
             [
              0.5555555555555556,
              "#1f9e89"
             ],
             [
              0.6666666666666666,
              "#35b779"
             ],
             [
              0.7777777777777778,
              "#6ece58"
             ],
             [
              0.8888888888888888,
              "#b5de2b"
             ],
             [
              1,
              "#fde725"
             ]
            ],
            "type": "heatmapgl"
           }
          ],
          "histogram": [
           {
            "marker": {
             "line": {
              "color": "white",
              "width": 0.6
             }
            },
            "type": "histogram"
           }
          ],
          "histogram2d": [
           {
            "colorbar": {
             "outlinewidth": 1,
             "tickcolor": "rgb(36,36,36)",
             "ticks": "outside"
            },
            "colorscale": [
             [
              0,
              "#440154"
             ],
             [
              0.1111111111111111,
              "#482878"
             ],
             [
              0.2222222222222222,
              "#3e4989"
             ],
             [
              0.3333333333333333,
              "#31688e"
             ],
             [
              0.4444444444444444,
              "#26828e"
             ],
             [
              0.5555555555555556,
              "#1f9e89"
             ],
             [
              0.6666666666666666,
              "#35b779"
             ],
             [
              0.7777777777777778,
              "#6ece58"
             ],
             [
              0.8888888888888888,
              "#b5de2b"
             ],
             [
              1,
              "#fde725"
             ]
            ],
            "type": "histogram2d"
           }
          ],
          "histogram2dcontour": [
           {
            "colorbar": {
             "outlinewidth": 1,
             "tickcolor": "rgb(36,36,36)",
             "ticks": "outside"
            },
            "colorscale": [
             [
              0,
              "#440154"
             ],
             [
              0.1111111111111111,
              "#482878"
             ],
             [
              0.2222222222222222,
              "#3e4989"
             ],
             [
              0.3333333333333333,
              "#31688e"
             ],
             [
              0.4444444444444444,
              "#26828e"
             ],
             [
              0.5555555555555556,
              "#1f9e89"
             ],
             [
              0.6666666666666666,
              "#35b779"
             ],
             [
              0.7777777777777778,
              "#6ece58"
             ],
             [
              0.8888888888888888,
              "#b5de2b"
             ],
             [
              1,
              "#fde725"
             ]
            ],
            "type": "histogram2dcontour"
           }
          ],
          "mesh3d": [
           {
            "colorbar": {
             "outlinewidth": 1,
             "tickcolor": "rgb(36,36,36)",
             "ticks": "outside"
            },
            "type": "mesh3d"
           }
          ],
          "parcoords": [
           {
            "line": {
             "colorbar": {
              "outlinewidth": 1,
              "tickcolor": "rgb(36,36,36)",
              "ticks": "outside"
             }
            },
            "type": "parcoords"
           }
          ],
          "pie": [
           {
            "automargin": true,
            "type": "pie"
           }
          ],
          "scatter": [
           {
            "fillpattern": {
             "fillmode": "overlay",
             "size": 10,
             "solidity": 0.2
            },
            "type": "scatter"
           }
          ],
          "scatter3d": [
           {
            "line": {
             "colorbar": {
              "outlinewidth": 1,
              "tickcolor": "rgb(36,36,36)",
              "ticks": "outside"
             }
            },
            "marker": {
             "colorbar": {
              "outlinewidth": 1,
              "tickcolor": "rgb(36,36,36)",
              "ticks": "outside"
             }
            },
            "type": "scatter3d"
           }
          ],
          "scattercarpet": [
           {
            "marker": {
             "colorbar": {
              "outlinewidth": 1,
              "tickcolor": "rgb(36,36,36)",
              "ticks": "outside"
             }
            },
            "type": "scattercarpet"
           }
          ],
          "scattergeo": [
           {
            "marker": {
             "colorbar": {
              "outlinewidth": 1,
              "tickcolor": "rgb(36,36,36)",
              "ticks": "outside"
             }
            },
            "type": "scattergeo"
           }
          ],
          "scattergl": [
           {
            "marker": {
             "colorbar": {
              "outlinewidth": 1,
              "tickcolor": "rgb(36,36,36)",
              "ticks": "outside"
             }
            },
            "type": "scattergl"
           }
          ],
          "scattermapbox": [
           {
            "marker": {
             "colorbar": {
              "outlinewidth": 1,
              "tickcolor": "rgb(36,36,36)",
              "ticks": "outside"
             }
            },
            "type": "scattermapbox"
           }
          ],
          "scatterpolar": [
           {
            "marker": {
             "colorbar": {
              "outlinewidth": 1,
              "tickcolor": "rgb(36,36,36)",
              "ticks": "outside"
             }
            },
            "type": "scatterpolar"
           }
          ],
          "scatterpolargl": [
           {
            "marker": {
             "colorbar": {
              "outlinewidth": 1,
              "tickcolor": "rgb(36,36,36)",
              "ticks": "outside"
             }
            },
            "type": "scatterpolargl"
           }
          ],
          "scatterternary": [
           {
            "marker": {
             "colorbar": {
              "outlinewidth": 1,
              "tickcolor": "rgb(36,36,36)",
              "ticks": "outside"
             }
            },
            "type": "scatterternary"
           }
          ],
          "surface": [
           {
            "colorbar": {
             "outlinewidth": 1,
             "tickcolor": "rgb(36,36,36)",
             "ticks": "outside"
            },
            "colorscale": [
             [
              0,
              "#440154"
             ],
             [
              0.1111111111111111,
              "#482878"
             ],
             [
              0.2222222222222222,
              "#3e4989"
             ],
             [
              0.3333333333333333,
              "#31688e"
             ],
             [
              0.4444444444444444,
              "#26828e"
             ],
             [
              0.5555555555555556,
              "#1f9e89"
             ],
             [
              0.6666666666666666,
              "#35b779"
             ],
             [
              0.7777777777777778,
              "#6ece58"
             ],
             [
              0.8888888888888888,
              "#b5de2b"
             ],
             [
              1,
              "#fde725"
             ]
            ],
            "type": "surface"
           }
          ],
          "table": [
           {
            "cells": {
             "fill": {
              "color": "rgb(237,237,237)"
             },
             "line": {
              "color": "white"
             }
            },
            "header": {
             "fill": {
              "color": "rgb(217,217,217)"
             },
             "line": {
              "color": "white"
             }
            },
            "type": "table"
           }
          ]
         },
         "layout": {
          "annotationdefaults": {
           "arrowhead": 0,
           "arrowwidth": 1
          },
          "autotypenumbers": "strict",
          "coloraxis": {
           "colorbar": {
            "outlinewidth": 1,
            "tickcolor": "rgb(36,36,36)",
            "ticks": "outside"
           }
          },
          "colorscale": {
           "diverging": [
            [
             0,
             "rgb(103,0,31)"
            ],
            [
             0.1,
             "rgb(178,24,43)"
            ],
            [
             0.2,
             "rgb(214,96,77)"
            ],
            [
             0.3,
             "rgb(244,165,130)"
            ],
            [
             0.4,
             "rgb(253,219,199)"
            ],
            [
             0.5,
             "rgb(247,247,247)"
            ],
            [
             0.6,
             "rgb(209,229,240)"
            ],
            [
             0.7,
             "rgb(146,197,222)"
            ],
            [
             0.8,
             "rgb(67,147,195)"
            ],
            [
             0.9,
             "rgb(33,102,172)"
            ],
            [
             1,
             "rgb(5,48,97)"
            ]
           ],
           "sequential": [
            [
             0,
             "#440154"
            ],
            [
             0.1111111111111111,
             "#482878"
            ],
            [
             0.2222222222222222,
             "#3e4989"
            ],
            [
             0.3333333333333333,
             "#31688e"
            ],
            [
             0.4444444444444444,
             "#26828e"
            ],
            [
             0.5555555555555556,
             "#1f9e89"
            ],
            [
             0.6666666666666666,
             "#35b779"
            ],
            [
             0.7777777777777778,
             "#6ece58"
            ],
            [
             0.8888888888888888,
             "#b5de2b"
            ],
            [
             1,
             "#fde725"
            ]
           ],
           "sequentialminus": [
            [
             0,
             "#440154"
            ],
            [
             0.1111111111111111,
             "#482878"
            ],
            [
             0.2222222222222222,
             "#3e4989"
            ],
            [
             0.3333333333333333,
             "#31688e"
            ],
            [
             0.4444444444444444,
             "#26828e"
            ],
            [
             0.5555555555555556,
             "#1f9e89"
            ],
            [
             0.6666666666666666,
             "#35b779"
            ],
            [
             0.7777777777777778,
             "#6ece58"
            ],
            [
             0.8888888888888888,
             "#b5de2b"
            ],
            [
             1,
             "#fde725"
            ]
           ]
          },
          "colorway": [
           "#1F77B4",
           "#FF7F0E",
           "#2CA02C",
           "#D62728",
           "#9467BD",
           "#8C564B",
           "#E377C2",
           "#7F7F7F",
           "#BCBD22",
           "#17BECF"
          ],
          "font": {
           "color": "rgb(36,36,36)"
          },
          "geo": {
           "bgcolor": "white",
           "lakecolor": "white",
           "landcolor": "white",
           "showlakes": true,
           "showland": true,
           "subunitcolor": "white"
          },
          "hoverlabel": {
           "align": "left"
          },
          "hovermode": "closest",
          "mapbox": {
           "style": "light"
          },
          "paper_bgcolor": "white",
          "plot_bgcolor": "white",
          "polar": {
           "angularaxis": {
            "gridcolor": "rgb(232,232,232)",
            "linecolor": "rgb(36,36,36)",
            "showgrid": false,
            "showline": true,
            "ticks": "outside"
           },
           "bgcolor": "white",
           "radialaxis": {
            "gridcolor": "rgb(232,232,232)",
            "linecolor": "rgb(36,36,36)",
            "showgrid": false,
            "showline": true,
            "ticks": "outside"
           }
          },
          "scene": {
           "xaxis": {
            "backgroundcolor": "white",
            "gridcolor": "rgb(232,232,232)",
            "gridwidth": 2,
            "linecolor": "rgb(36,36,36)",
            "showbackground": true,
            "showgrid": false,
            "showline": true,
            "ticks": "outside",
            "zeroline": false,
            "zerolinecolor": "rgb(36,36,36)"
           },
           "yaxis": {
            "backgroundcolor": "white",
            "gridcolor": "rgb(232,232,232)",
            "gridwidth": 2,
            "linecolor": "rgb(36,36,36)",
            "showbackground": true,
            "showgrid": false,
            "showline": true,
            "ticks": "outside",
            "zeroline": false,
            "zerolinecolor": "rgb(36,36,36)"
           },
           "zaxis": {
            "backgroundcolor": "white",
            "gridcolor": "rgb(232,232,232)",
            "gridwidth": 2,
            "linecolor": "rgb(36,36,36)",
            "showbackground": true,
            "showgrid": false,
            "showline": true,
            "ticks": "outside",
            "zeroline": false,
            "zerolinecolor": "rgb(36,36,36)"
           }
          },
          "shapedefaults": {
           "fillcolor": "black",
           "line": {
            "width": 0
           },
           "opacity": 0.3
          },
          "ternary": {
           "aaxis": {
            "gridcolor": "rgb(232,232,232)",
            "linecolor": "rgb(36,36,36)",
            "showgrid": false,
            "showline": true,
            "ticks": "outside"
           },
           "baxis": {
            "gridcolor": "rgb(232,232,232)",
            "linecolor": "rgb(36,36,36)",
            "showgrid": false,
            "showline": true,
            "ticks": "outside"
           },
           "bgcolor": "white",
           "caxis": {
            "gridcolor": "rgb(232,232,232)",
            "linecolor": "rgb(36,36,36)",
            "showgrid": false,
            "showline": true,
            "ticks": "outside"
           }
          },
          "title": {
           "x": 0.05
          },
          "xaxis": {
           "automargin": true,
           "gridcolor": "rgb(232,232,232)",
           "linecolor": "rgb(36,36,36)",
           "showgrid": false,
           "showline": true,
           "ticks": "outside",
           "title": {
            "standoff": 15
           },
           "zeroline": false,
           "zerolinecolor": "rgb(36,36,36)"
          },
          "yaxis": {
           "automargin": true,
           "gridcolor": "rgb(232,232,232)",
           "linecolor": "rgb(36,36,36)",
           "showgrid": false,
           "showline": true,
           "ticks": "outside",
           "title": {
            "standoff": 15
           },
           "zeroline": false,
           "zerolinecolor": "rgb(36,36,36)"
          }
         }
        },
        "title": {
         "font": {
          "color": "Black",
          "size": 22
         },
         "text": "<b>Topics per Class</b>",
         "x": 0.4,
         "xanchor": "center",
         "y": 0.95,
         "yanchor": "top"
        },
        "width": 1250,
        "xaxis": {
         "showgrid": true,
         "title": {
          "text": "Frequency"
         }
        },
        "yaxis": {
         "showgrid": true,
         "title": {
          "text": "Class"
         }
        }
       }
      },
      "text/html": [
       "<div>                        <script type=\"text/javascript\">window.PlotlyConfig = {MathJaxConfig: 'local'};</script>\n",
       "        <script charset=\"utf-8\" src=\"https://cdn.plot.ly/plotly-2.27.0.min.js\"></script>                <div id=\"f0d25e92-35bb-440c-8cd7-61793ee9ee4e\" class=\"plotly-graph-div\" style=\"height:900px; width:1250px;\"></div>            <script type=\"text/javascript\">                                    window.PLOTLYENV=window.PLOTLYENV || {};                                    if (document.getElementById(\"f0d25e92-35bb-440c-8cd7-61793ee9ee4e\")) {                    Plotly.newPlot(                        \"f0d25e92-35bb-440c-8cd7-61793ee9ee4e\",                        [{\"hoverinfo\":\"text\",\"hovertext\":[\"\\u003cb\\u003eTopic 0\\u003c\\u002fb\\u003e\\u003cbr\\u003eWords: the, of, and, to, in\",\"\\u003cb\\u003eTopic 0\\u003c\\u002fb\\u003e\\u003cbr\\u003eWords: pacific, we, our, to, that\",\"\\u003cb\\u003eTopic 0\\u003c\\u002fb\\u003e\\u003cbr\\u003eWords: the, of, is, to, in\",\"\\u003cb\\u003eTopic 0\\u003c\\u002fb\\u003e\\u003cbr\\u003eWords: the, of, to, and, that\",\"\\u003cb\\u003eTopic 0\\u003c\\u002fb\\u003e\\u003cbr\\u003eWords: the, of, states, united, soviet\",\"\\u003cb\\u003eTopic 0\\u003c\\u002fb\\u003e\\u003cbr\\u003eWords: that, of, the, to, and\"],\"marker\":{\"color\":\"#E69F00\"},\"name\":\"0_peace_nations_general_organization\",\"orientation\":\"h\",\"visible\":true,\"x\":[258,58,230,312,43,221],\"y\":[\"Asia\",\"Oceania\",\"Europe\",\"Africa\",\"none\",\"Americas\"],\"type\":\"bar\"},{\"hoverinfo\":\"text\",\"hovertext\":[\"\\u003cb\\u003eTopic 1\\u003c\\u002fb\\u003e\\u003cbr\\u003eWords: the, of, and, to, in\",\"\\u003cb\\u003eTopic 1\\u003c\\u002fb\\u003e\\u003cbr\\u003eWords: our, we, to, pacific, the\",\"\\u003cb\\u003eTopic 1\\u003c\\u002fb\\u003e\\u003cbr\\u003eWords: the, of, in, is, to\",\"\\u003cb\\u003eTopic 1\\u003c\\u002fb\\u003e\\u003cbr\\u003eWords: the, of, to, in, that\",\"\\u003cb\\u003eTopic 1\\u003c\\u002fb\\u003e\\u003cbr\\u003eWords: of, the, in, and, is\",\"\\u003cb\\u003eTopic 1\\u003c\\u002fb\\u003e\\u003cbr\\u003eWords: of, the, to, that, in\"],\"marker\":{\"color\":\"#56B4E9\"},\"name\":\"1_general_nations_political_government\",\"orientation\":\"h\",\"visible\":\"legendonly\",\"x\":[139,31,117,141,30,119],\"y\":[\"Asia\",\"Oceania\",\"Europe\",\"Africa\",\"none\",\"Americas\"],\"type\":\"bar\"},{\"hoverinfo\":\"text\",\"hovertext\":[\"\\u003cb\\u003eTopic 2\\u003c\\u002fb\\u003e\\u003cbr\\u003eWords: of, the, and, in, to\",\"\\u003cb\\u003eTopic 2\\u003c\\u002fb\\u003e\\u003cbr\\u003eWords: zealand, veto, council, as, it\",\"\\u003cb\\u003eTopic 2\\u003c\\u002fb\\u003e\\u003cbr\\u003eWords: the, in, of, to, and\",\"\\u003cb\\u003eTopic 2\\u003c\\u002fb\\u003e\\u003cbr\\u003eWords: the, of, to, and, in\",\"\\u003cb\\u003eTopic 2\\u003c\\u002fb\\u003e\\u003cbr\\u003eWords: the, of, this, in, and\",\"\\u003cb\\u003eTopic 2\\u003c\\u002fb\\u003e\\u003cbr\\u003eWords: of, the, and, in, to\"],\"marker\":{\"color\":\"#009E73\"},\"name\":\"2_ukraine_republic_ukrainian_general\",\"orientation\":\"h\",\"visible\":\"legendonly\",\"x\":[27,2,22,27,7,24],\"y\":[\"Asia\",\"Oceania\",\"Europe\",\"Africa\",\"none\",\"Americas\"],\"type\":\"bar\"},{\"hoverinfo\":\"text\",\"hovertext\":[\"\\u003cb\\u003eTopic 3\\u003c\\u002fb\\u003e\\u003cbr\\u003eWords: the, of, and, mexico, to\",\"\\u003cb\\u003eTopic 3\\u003c\\u002fb\\u003e\\u003cbr\\u003eWords: tuvalu, marshall, climate, islands, our\",\"\\u003cb\\u003eTopic 3\\u003c\\u002fb\\u003e\\u003cbr\\u003eWords: the, of, in, mexico, to\",\"\\u003cb\\u003eTopic 3\\u003c\\u002fb\\u003e\\u003cbr\\u003eWords: of, the, mexico, to, in\",\"\\u003cb\\u003eTopic 3\\u003c\\u002fb\\u003e\\u003cbr\\u003eWords: atomic, war, appropriations, ussr, propaganda\",\"\\u003cb\\u003eTopic 3\\u003c\\u002fb\\u003e\\u003cbr\\u003eWords: mexico, and, we, of, to\"],\"marker\":{\"color\":\"#F0E442\"},\"name\":\"3_mexico_mexican_nations_international\",\"orientation\":\"h\",\"visible\":\"legendonly\",\"x\":[27,3,28,30,2,18],\"y\":[\"Asia\",\"Oceania\",\"Europe\",\"Africa\",\"none\",\"Americas\"],\"type\":\"bar\"},{\"hoverinfo\":\"text\",\"hovertext\":[\"\\u003cb\\u003eTopic 4\\u003c\\u002fb\\u003e\\u003cbr\\u003eWords: and, the, of, to, in\",\"\\u003cb\\u003eTopic 4\\u003c\\u002fb\\u003e\\u003cbr\\u003eWords: our, islands, we, development, tuvalu\",\"\\u003cb\\u003eTopic 4\\u003c\\u002fb\\u003e\\u003cbr\\u003eWords: latvia, the, and, of, to\",\"\\u003cb\\u003eTopic 4\\u003c\\u002fb\\u003e\\u003cbr\\u003eWords: the, and, to, of, in\",\"\\u003cb\\u003eTopic 4\\u003c\\u002fb\\u003e\\u003cbr\\u003eWords: and, of, the, to, we\"],\"marker\":{\"color\":\"#D55E00\"},\"name\":\"4_tanzania_republic_zimbabwe_nations\",\"orientation\":\"h\",\"visible\":\"legendonly\",\"x\":[22,7,19,27,21],\"y\":[\"Asia\",\"Oceania\",\"Europe\",\"Africa\",\"Americas\"],\"type\":\"bar\"},{\"hoverinfo\":\"text\",\"hovertext\":[\"\\u003cb\\u003eTopic 5\\u003c\\u002fb\\u003e\\u003cbr\\u003eWords: and, that, we, iran, to\",\"\\u003cb\\u003eTopic 5\\u003c\\u002fb\\u003e\\u003cbr\\u003eWords: tuvalu, zealand, timor, council, new\",\"\\u003cb\\u003eTopic 5\\u003c\\u002fb\\u003e\\u003cbr\\u003eWords: we, to, in, the, that\",\"\\u003cb\\u003eTopic 5\\u003c\\u002fb\\u003e\\u003cbr\\u003eWords: and, to, the, in, we\",\"\\u003cb\\u003eTopic 5\\u003c\\u002fb\\u003e\\u003cbr\\u003eWords: we, it, in, that, of\",\"\\u003cb\\u003eTopic 5\\u003c\\u002fb\\u003e\\u003cbr\\u003eWords: we, that, and, to, the\"],\"marker\":{\"color\":\"#0072B2\"},\"name\":\"5_terrorists_terrorism_terrorist_iraq\",\"orientation\":\"h\",\"visible\":\"legendonly\",\"x\":[17,2,17,23,3,21],\"y\":[\"Asia\",\"Oceania\",\"Europe\",\"Africa\",\"none\",\"Americas\"],\"type\":\"bar\"},{\"hoverinfo\":\"text\",\"hovertext\":[\"\\u003cb\\u003eTopic 6\\u003c\\u002fb\\u003e\\u003cbr\\u003eWords: the, in, of, to, and\",\"\\u003cb\\u003eTopic 6\\u003c\\u002fb\\u003e\\u003cbr\\u003eWords: papua, vanuatu, guinea, government, new\",\"\\u003cb\\u003eTopic 6\\u003c\\u002fb\\u003e\\u003cbr\\u003eWords: european, the, to, of, in\",\"\\u003cb\\u003eTopic 6\\u003c\\u002fb\\u003e\\u003cbr\\u003eWords: the, of, to, in, that\",\"\\u003cb\\u003eTopic 6\\u003c\\u002fb\\u003e\\u003cbr\\u003eWords: german, the, of, in, is\",\"\\u003cb\\u003eTopic 6\\u003c\\u002fb\\u003e\\u003cbr\\u003eWords: the, which, of, in, to\"],\"marker\":{\"color\":\"#CC79A7\"},\"name\":\"6_luxembourg_general_council_nations\",\"orientation\":\"h\",\"visible\":\"legendonly\",\"x\":[28,2,12,20,5,14],\"y\":[\"Asia\",\"Oceania\",\"Europe\",\"Africa\",\"none\",\"Americas\"],\"type\":\"bar\"},{\"hoverinfo\":\"text\",\"hovertext\":[\"\\u003cb\\u003eTopic 7\\u003c\\u002fb\\u003e\\u003cbr\\u003eWords: the, and, to, of, in\",\"\\u003cb\\u003eTopic 7\\u003c\\u002fb\\u003e\\u003cbr\\u003eWords: australia, we, new, our, pacific\",\"\\u003cb\\u003eTopic 7\\u003c\\u002fb\\u003e\\u003cbr\\u003eWords: the, europe, and, of, to\",\"\\u003cb\\u003eTopic 7\\u003c\\u002fb\\u003e\\u003cbr\\u003eWords: pandemic, covid, the, and, to\",\"\\u003cb\\u003eTopic 7\\u003c\\u002fb\\u003e\\u003cbr\\u003eWords: of, the, in, we, to\",\"\\u003cb\\u003eTopic 7\\u003c\\u002fb\\u003e\\u003cbr\\u003eWords: to, the, we, and, of\"],\"marker\":{\"color\":\"#E69F00\"},\"name\":\"7_zambia_africa_african_namibia\",\"orientation\":\"h\",\"visible\":\"legendonly\",\"x\":[19,5,15,25,4,12],\"y\":[\"Asia\",\"Oceania\",\"Europe\",\"Africa\",\"none\",\"Americas\"],\"type\":\"bar\"},{\"hoverinfo\":\"text\",\"hovertext\":[\"\\u003cb\\u003eTopic 8\\u003c\\u002fb\\u003e\\u003cbr\\u003eWords: and, united, nations, the, of\",\"\\u003cb\\u003eTopic 8\\u003c\\u002fb\\u003e\\u003cbr\\u003eWords: islands, pacific, nations, united, the\",\"\\u003cb\\u003eTopic 8\\u003c\\u002fb\\u003e\\u003cbr\\u003eWords: and, the, united, of, nations\",\"\\u003cb\\u003eTopic 8\\u003c\\u002fb\\u003e\\u003cbr\\u003eWords: the, and, of, nations, united\",\"\\u003cb\\u003eTopic 8\\u003c\\u002fb\\u003e\\u003cbr\\u003eWords: world, of, nations, this, united\",\"\\u003cb\\u003eTopic 8\\u003c\\u002fb\\u003e\\u003cbr\\u003eWords: of, the, and, we, to\"],\"marker\":{\"color\":\"#56B4E9\"},\"name\":\"8_freitas_amaral_nations_general\",\"orientation\":\"h\",\"visible\":\"legendonly\",\"x\":[22,4,16,19,1,15],\"y\":[\"Asia\",\"Oceania\",\"Europe\",\"Africa\",\"none\",\"Americas\"],\"type\":\"bar\"},{\"hoverinfo\":\"text\",\"hovertext\":[\"\\u003cb\\u003eTopic 9\\u003c\\u002fb\\u003e\\u003cbr\\u003eWords: and, the, of, to, in\",\"\\u003cb\\u003eTopic 9\\u003c\\u002fb\\u003e\\u003cbr\\u003eWords: fiji, australia, papua, to, the\",\"\\u003cb\\u003eTopic 9\\u003c\\u002fb\\u003e\\u003cbr\\u003eWords: the, of, in, to, is\",\"\\u003cb\\u003eTopic 9\\u003c\\u002fb\\u003e\\u003cbr\\u003eWords: the, of, to, and, in\",\"\\u003cb\\u003eTopic 9\\u003c\\u002fb\\u003e\\u003cbr\\u003eWords: is, soviet, the, on, to\",\"\\u003cb\\u003eTopic 9\\u003c\\u002fb\\u003e\\u003cbr\\u003eWords: the, of, in, and, to\"],\"marker\":{\"color\":\"#009E73\"},\"name\":\"9_malaysia_general_secretary_government\",\"orientation\":\"h\",\"visible\":\"legendonly\",\"x\":[21,3,10,22,3,18],\"y\":[\"Asia\",\"Oceania\",\"Europe\",\"Africa\",\"none\",\"Americas\"],\"type\":\"bar\"},{\"hoverinfo\":\"text\",\"hovertext\":[\"\\u003cb\\u003eTopic 10\\u003c\\u002fb\\u003e\\u003cbr\\u003eWords: and, the, of, in, international\",\"\\u003cb\\u003eTopic 10\\u003c\\u002fb\\u003e\\u003cbr\\u003eWords: tuvalu, australia, climate, to, the\",\"\\u003cb\\u003eTopic 10\\u003c\\u002fb\\u003e\\u003cbr\\u003eWords: the, and, of, in, that\",\"\\u003cb\\u003eTopic 10\\u003c\\u002fb\\u003e\\u003cbr\\u003eWords: the, to, and, of, in\",\"\\u003cb\\u003eTopic 10\\u003c\\u002fb\\u003e\\u003cbr\\u003eWords: syria, chemical, european, we, is\",\"\\u003cb\\u003eTopic 10\\u003c\\u002fb\\u003e\\u003cbr\\u003eWords: and, the, of, we, that\"],\"marker\":{\"color\":\"#F0E442\"},\"name\":\"10_caputo_general_conference_nations\",\"orientation\":\"h\",\"visible\":\"legendonly\",\"x\":[18,4,17,19,1,18],\"y\":[\"Asia\",\"Oceania\",\"Europe\",\"Africa\",\"none\",\"Americas\"],\"type\":\"bar\"},{\"hoverinfo\":\"text\",\"hovertext\":[\"\\u003cb\\u003eTopic 11\\u003c\\u002fb\\u003e\\u003cbr\\u003eWords: colombia, and, to, the, of\",\"\\u003cb\\u003eTopic 11\\u003c\\u002fb\\u003e\\u003cbr\\u003eWords: solomon, islands, peking, australia, colombia\",\"\\u003cb\\u003eTopic 11\\u003c\\u002fb\\u003e\\u003cbr\\u003eWords: colombia, of, the, in, to\",\"\\u003cb\\u003eTopic 11\\u003c\\u002fb\\u003e\\u003cbr\\u003eWords: colombia, the, of, to, which\",\"\\u003cb\\u003eTopic 11\\u003c\\u002fb\\u003e\\u003cbr\\u003eWords: relations, favourable, it, colombia, that\",\"\\u003cb\\u003eTopic 11\\u003c\\u002fb\\u003e\\u003cbr\\u003eWords: colombia, that, of, the, to\"],\"marker\":{\"color\":\"#D55E00\"},\"name\":\"11_colombia_colombian_nations_country\",\"orientation\":\"h\",\"visible\":\"legendonly\",\"x\":[12,3,20,20,1,19],\"y\":[\"Asia\",\"Oceania\",\"Europe\",\"Africa\",\"none\",\"Americas\"],\"type\":\"bar\"},{\"hoverinfo\":\"text\",\"hovertext\":[\"\\u003cb\\u003eTopic 12\\u003c\\u002fb\\u003e\\u003cbr\\u003eWords: panama, of, the, and, to\",\"\\u003cb\\u003eTopic 12\\u003c\\u002fb\\u003e\\u003cbr\\u003eWords: panama, tonga, pacific, our, nauru\",\"\\u003cb\\u003eTopic 12\\u003c\\u002fb\\u003e\\u003cbr\\u003eWords: panama, canal, the, of, which\",\"\\u003cb\\u003eTopic 12\\u003c\\u002fb\\u003e\\u003cbr\\u003eWords: panama, of, the, which, to\",\"\\u003cb\\u003eTopic 12\\u003c\\u002fb\\u003e\\u003cbr\\u003eWords: russia, lithuania, ukrainian, ukraine, gentlemen\",\"\\u003cb\\u003eTopic 12\\u003c\\u002fb\\u003e\\u003cbr\\u003eWords: panama, which, of, the, that\"],\"marker\":{\"color\":\"#0072B2\"},\"name\":\"12_panamanian_panama_panamanians_nations\",\"orientation\":\"h\",\"visible\":\"legendonly\",\"x\":[17,4,19,16,1,18],\"y\":[\"Asia\",\"Oceania\",\"Europe\",\"Africa\",\"none\",\"Americas\"],\"type\":\"bar\"},{\"hoverinfo\":\"text\",\"hovertext\":[\"\\u003cb\\u003eTopic 13\\u003c\\u002fb\\u003e\\u003cbr\\u003eWords: and, to, the, that, we\",\"\\u003cb\\u003eTopic 13\\u003c\\u002fb\\u003e\\u003cbr\\u003eWords: pacific, solomon, climate, islands, our\",\"\\u003cb\\u003eTopic 13\\u003c\\u002fb\\u003e\\u003cbr\\u003eWords: we, and, in, to, for\",\"\\u003cb\\u003eTopic 13\\u003c\\u002fb\\u003e\\u003cbr\\u003eWords: and, to, the, of, our\",\"\\u003cb\\u003eTopic 13\\u003c\\u002fb\\u003e\\u003cbr\\u003eWords: and, our, that, we, to\"],\"marker\":{\"color\":\"#CC79A7\"},\"name\":\"13_jeremi\\u0107_president_republic_arab\",\"orientation\":\"h\",\"visible\":\"legendonly\",\"x\":[11,5,18,18,23],\"y\":[\"Asia\",\"Oceania\",\"Europe\",\"Africa\",\"Americas\"],\"type\":\"bar\"},{\"hoverinfo\":\"text\",\"hovertext\":[\"\\u003cb\\u003eTopic 14\\u003c\\u002fb\\u003e\\u003cbr\\u003eWords: the, of, in, to, and\",\"\\u003cb\\u003eTopic 14\\u003c\\u002fb\\u003e\\u003cbr\\u003eWords: pacific, we, to, tuvalu, in\",\"\\u003cb\\u003eTopic 14\\u003c\\u002fb\\u003e\\u003cbr\\u003eWords: united, the, of, states, in\",\"\\u003cb\\u003eTopic 14\\u003c\\u002fb\\u003e\\u003cbr\\u003eWords: the, to, of, and, in\",\"\\u003cb\\u003eTopic 14\\u003c\\u002fb\\u003e\\u003cbr\\u003eWords: communism, taiwan, mainland, chinese, communists\",\"\\u003cb\\u003eTopic 14\\u003c\\u002fb\\u003e\\u003cbr\\u003eWords: the, of, in, to, that\"],\"marker\":{\"color\":\"#E69F00\"},\"name\":\"14_guyana_general_venezuela_nations\",\"orientation\":\"h\",\"visible\":\"legendonly\",\"x\":[15,6,20,14,1,18],\"y\":[\"Asia\",\"Oceania\",\"Europe\",\"Africa\",\"none\",\"Americas\"],\"type\":\"bar\"},{\"hoverinfo\":\"text\",\"hovertext\":[\"\\u003cb\\u003eTopic 15\\u003c\\u002fb\\u003e\\u003cbr\\u003eWords: and, food, the, to, international\",\"\\u003cb\\u003eTopic 15\\u003c\\u002fb\\u003e\\u003cbr\\u003eWords: pacific, fiji, zealand, food, and\",\"\\u003cb\\u003eTopic 15\\u003c\\u002fb\\u003e\\u003cbr\\u003eWords: the, and, bulgaria, to, food\",\"\\u003cb\\u003eTopic 15\\u003c\\u002fb\\u003e\\u003cbr\\u003eWords: food, to, the, and, of\",\"\\u003cb\\u003eTopic 15\\u003c\\u002fb\\u003e\\u003cbr\\u003eWords: our, we, and, to, food\"],\"marker\":{\"color\":\"#56B4E9\"},\"name\":\"15_democracy_general_brockmann_nations\",\"orientation\":\"h\",\"visible\":\"legendonly\",\"x\":[16,6,9,23,20],\"y\":[\"Asia\",\"Oceania\",\"Europe\",\"Africa\",\"Americas\"],\"type\":\"bar\"},{\"hoverinfo\":\"text\",\"hovertext\":[\"\\u003cb\\u003eTopic 16\\u003c\\u002fb\\u003e\\u003cbr\\u003eWords: the, and, of, in, to\",\"\\u003cb\\u003eTopic 16\\u003c\\u002fb\\u003e\\u003cbr\\u003eWords: papua, pacific, guinea, new, countries\",\"\\u003cb\\u003eTopic 16\\u003c\\u002fb\\u003e\\u003cbr\\u003eWords: the, of, in, to, and\",\"\\u003cb\\u003eTopic 16\\u003c\\u002fb\\u003e\\u003cbr\\u003eWords: the, of, to, and, in\",\"\\u003cb\\u003eTopic 16\\u003c\\u002fb\\u003e\\u003cbr\\u003eWords: german, democratic, soviet, republic, union\",\"\\u003cb\\u003eTopic 16\\u003c\\u002fb\\u003e\\u003cbr\\u003eWords: of, the, and, to, in\"],\"marker\":{\"color\":\"#009E73\"},\"name\":\"16_opertti_republic_general_democratic\",\"orientation\":\"h\",\"visible\":\"legendonly\",\"x\":[19,2,10,25,2,15],\"y\":[\"Asia\",\"Oceania\",\"Europe\",\"Africa\",\"none\",\"Americas\"],\"type\":\"bar\"},{\"hoverinfo\":\"text\",\"hovertext\":[\"\\u003cb\\u003eTopic 17\\u003c\\u002fb\\u003e\\u003cbr\\u003eWords: israel, the, to, and, of\",\"\\u003cb\\u003eTopic 17\\u003c\\u002fb\\u003e\\u003cbr\\u003eWords: australia, we, how, to, that\",\"\\u003cb\\u003eTopic 17\\u003c\\u002fb\\u003e\\u003cbr\\u003eWords: the, of, to, that, in\",\"\\u003cb\\u003eTopic 17\\u003c\\u002fb\\u003e\\u003cbr\\u003eWords: to, the, of, and, in\",\"\\u003cb\\u003eTopic 17\\u003c\\u002fb\\u003e\\u003cbr\\u003eWords: acheson, mao, american, tse, tung\",\"\\u003cb\\u003eTopic 17\\u003c\\u002fb\\u003e\\u003cbr\\u003eWords: the, to, of, we, in\"],\"marker\":{\"color\":\"#F0E442\"},\"name\":\"17_president_republic_kavan_timor\",\"orientation\":\"h\",\"visible\":\"legendonly\",\"x\":[12,3,12,21,2,21],\"y\":[\"Asia\",\"Oceania\",\"Europe\",\"Africa\",\"none\",\"Americas\"],\"type\":\"bar\"},{\"hoverinfo\":\"text\",\"hovertext\":[\"\\u003cb\\u003eTopic 18\\u003c\\u002fb\\u003e\\u003cbr\\u003eWords: the, and, of, in, to\",\"\\u003cb\\u003eTopic 18\\u003c\\u002fb\\u003e\\u003cbr\\u003eWords: solomon, islands, pacific, bougainville, forum\",\"\\u003cb\\u003eTopic 18\\u003c\\u002fb\\u003e\\u003cbr\\u003eWords: the, in, on, and, to\",\"\\u003cb\\u003eTopic 18\\u003c\\u002fb\\u003e\\u003cbr\\u003eWords: to, the, and, of, in\",\"\\u003cb\\u003eTopic 18\\u003c\\u002fb\\u003e\\u003cbr\\u003eWords: of, the, in, and, on\",\"\\u003cb\\u003eTopic 18\\u003c\\u002fb\\u003e\\u003cbr\\u003eWords: and, our, to, of, the\"],\"marker\":{\"color\":\"#D55E00\"},\"name\":\"18_treki_general_crises_council\",\"orientation\":\"h\",\"visible\":\"legendonly\",\"x\":[17,1,7,17,5,21],\"y\":[\"Asia\",\"Oceania\",\"Europe\",\"Africa\",\"none\",\"Americas\"],\"type\":\"bar\"},{\"hoverinfo\":\"text\",\"hovertext\":[\"\\u003cb\\u003eTopic 19\\u003c\\u002fb\\u003e\\u003cbr\\u003eWords: armenia, azerbaijan, and, we, to\",\"\\u003cb\\u003eTopic 19\\u003c\\u002fb\\u003e\\u003cbr\\u003eWords: our, climate, global, we, development\",\"\\u003cb\\u003eTopic 19\\u003c\\u002fb\\u003e\\u003cbr\\u003eWords: we, development, climate, and, our\",\"\\u003cb\\u003eTopic 19\\u003c\\u002fb\\u003e\\u003cbr\\u003eWords: development, and, our, to, for\",\"\\u003cb\\u003eTopic 19\\u003c\\u002fb\\u003e\\u003cbr\\u003eWords: development, we, our, and, climate\"],\"marker\":{\"color\":\"#0072B2\"},\"name\":\"19_kutesa_republic_general_nations\",\"orientation\":\"h\",\"visible\":\"legendonly\",\"x\":[14,12,13,21,8],\"y\":[\"Asia\",\"Oceania\",\"Europe\",\"Africa\",\"Americas\"],\"type\":\"bar\"}],                        {\"template\":{\"data\":{\"barpolar\":[{\"marker\":{\"line\":{\"color\":\"white\",\"width\":0.5},\"pattern\":{\"fillmode\":\"overlay\",\"size\":10,\"solidity\":0.2}},\"type\":\"barpolar\"}],\"bar\":[{\"error_x\":{\"color\":\"rgb(36,36,36)\"},\"error_y\":{\"color\":\"rgb(36,36,36)\"},\"marker\":{\"line\":{\"color\":\"white\",\"width\":0.5},\"pattern\":{\"fillmode\":\"overlay\",\"size\":10,\"solidity\":0.2}},\"type\":\"bar\"}],\"carpet\":[{\"aaxis\":{\"endlinecolor\":\"rgb(36,36,36)\",\"gridcolor\":\"white\",\"linecolor\":\"white\",\"minorgridcolor\":\"white\",\"startlinecolor\":\"rgb(36,36,36)\"},\"baxis\":{\"endlinecolor\":\"rgb(36,36,36)\",\"gridcolor\":\"white\",\"linecolor\":\"white\",\"minorgridcolor\":\"white\",\"startlinecolor\":\"rgb(36,36,36)\"},\"type\":\"carpet\"}],\"choropleth\":[{\"colorbar\":{\"outlinewidth\":1,\"tickcolor\":\"rgb(36,36,36)\",\"ticks\":\"outside\"},\"type\":\"choropleth\"}],\"contourcarpet\":[{\"colorbar\":{\"outlinewidth\":1,\"tickcolor\":\"rgb(36,36,36)\",\"ticks\":\"outside\"},\"type\":\"contourcarpet\"}],\"contour\":[{\"colorbar\":{\"outlinewidth\":1,\"tickcolor\":\"rgb(36,36,36)\",\"ticks\":\"outside\"},\"colorscale\":[[0.0,\"#440154\"],[0.1111111111111111,\"#482878\"],[0.2222222222222222,\"#3e4989\"],[0.3333333333333333,\"#31688e\"],[0.4444444444444444,\"#26828e\"],[0.5555555555555556,\"#1f9e89\"],[0.6666666666666666,\"#35b779\"],[0.7777777777777778,\"#6ece58\"],[0.8888888888888888,\"#b5de2b\"],[1.0,\"#fde725\"]],\"type\":\"contour\"}],\"heatmapgl\":[{\"colorbar\":{\"outlinewidth\":1,\"tickcolor\":\"rgb(36,36,36)\",\"ticks\":\"outside\"},\"colorscale\":[[0.0,\"#440154\"],[0.1111111111111111,\"#482878\"],[0.2222222222222222,\"#3e4989\"],[0.3333333333333333,\"#31688e\"],[0.4444444444444444,\"#26828e\"],[0.5555555555555556,\"#1f9e89\"],[0.6666666666666666,\"#35b779\"],[0.7777777777777778,\"#6ece58\"],[0.8888888888888888,\"#b5de2b\"],[1.0,\"#fde725\"]],\"type\":\"heatmapgl\"}],\"heatmap\":[{\"colorbar\":{\"outlinewidth\":1,\"tickcolor\":\"rgb(36,36,36)\",\"ticks\":\"outside\"},\"colorscale\":[[0.0,\"#440154\"],[0.1111111111111111,\"#482878\"],[0.2222222222222222,\"#3e4989\"],[0.3333333333333333,\"#31688e\"],[0.4444444444444444,\"#26828e\"],[0.5555555555555556,\"#1f9e89\"],[0.6666666666666666,\"#35b779\"],[0.7777777777777778,\"#6ece58\"],[0.8888888888888888,\"#b5de2b\"],[1.0,\"#fde725\"]],\"type\":\"heatmap\"}],\"histogram2dcontour\":[{\"colorbar\":{\"outlinewidth\":1,\"tickcolor\":\"rgb(36,36,36)\",\"ticks\":\"outside\"},\"colorscale\":[[0.0,\"#440154\"],[0.1111111111111111,\"#482878\"],[0.2222222222222222,\"#3e4989\"],[0.3333333333333333,\"#31688e\"],[0.4444444444444444,\"#26828e\"],[0.5555555555555556,\"#1f9e89\"],[0.6666666666666666,\"#35b779\"],[0.7777777777777778,\"#6ece58\"],[0.8888888888888888,\"#b5de2b\"],[1.0,\"#fde725\"]],\"type\":\"histogram2dcontour\"}],\"histogram2d\":[{\"colorbar\":{\"outlinewidth\":1,\"tickcolor\":\"rgb(36,36,36)\",\"ticks\":\"outside\"},\"colorscale\":[[0.0,\"#440154\"],[0.1111111111111111,\"#482878\"],[0.2222222222222222,\"#3e4989\"],[0.3333333333333333,\"#31688e\"],[0.4444444444444444,\"#26828e\"],[0.5555555555555556,\"#1f9e89\"],[0.6666666666666666,\"#35b779\"],[0.7777777777777778,\"#6ece58\"],[0.8888888888888888,\"#b5de2b\"],[1.0,\"#fde725\"]],\"type\":\"histogram2d\"}],\"histogram\":[{\"marker\":{\"line\":{\"color\":\"white\",\"width\":0.6}},\"type\":\"histogram\"}],\"mesh3d\":[{\"colorbar\":{\"outlinewidth\":1,\"tickcolor\":\"rgb(36,36,36)\",\"ticks\":\"outside\"},\"type\":\"mesh3d\"}],\"parcoords\":[{\"line\":{\"colorbar\":{\"outlinewidth\":1,\"tickcolor\":\"rgb(36,36,36)\",\"ticks\":\"outside\"}},\"type\":\"parcoords\"}],\"pie\":[{\"automargin\":true,\"type\":\"pie\"}],\"scatter3d\":[{\"line\":{\"colorbar\":{\"outlinewidth\":1,\"tickcolor\":\"rgb(36,36,36)\",\"ticks\":\"outside\"}},\"marker\":{\"colorbar\":{\"outlinewidth\":1,\"tickcolor\":\"rgb(36,36,36)\",\"ticks\":\"outside\"}},\"type\":\"scatter3d\"}],\"scattercarpet\":[{\"marker\":{\"colorbar\":{\"outlinewidth\":1,\"tickcolor\":\"rgb(36,36,36)\",\"ticks\":\"outside\"}},\"type\":\"scattercarpet\"}],\"scattergeo\":[{\"marker\":{\"colorbar\":{\"outlinewidth\":1,\"tickcolor\":\"rgb(36,36,36)\",\"ticks\":\"outside\"}},\"type\":\"scattergeo\"}],\"scattergl\":[{\"marker\":{\"colorbar\":{\"outlinewidth\":1,\"tickcolor\":\"rgb(36,36,36)\",\"ticks\":\"outside\"}},\"type\":\"scattergl\"}],\"scattermapbox\":[{\"marker\":{\"colorbar\":{\"outlinewidth\":1,\"tickcolor\":\"rgb(36,36,36)\",\"ticks\":\"outside\"}},\"type\":\"scattermapbox\"}],\"scatterpolargl\":[{\"marker\":{\"colorbar\":{\"outlinewidth\":1,\"tickcolor\":\"rgb(36,36,36)\",\"ticks\":\"outside\"}},\"type\":\"scatterpolargl\"}],\"scatterpolar\":[{\"marker\":{\"colorbar\":{\"outlinewidth\":1,\"tickcolor\":\"rgb(36,36,36)\",\"ticks\":\"outside\"}},\"type\":\"scatterpolar\"}],\"scatter\":[{\"fillpattern\":{\"fillmode\":\"overlay\",\"size\":10,\"solidity\":0.2},\"type\":\"scatter\"}],\"scatterternary\":[{\"marker\":{\"colorbar\":{\"outlinewidth\":1,\"tickcolor\":\"rgb(36,36,36)\",\"ticks\":\"outside\"}},\"type\":\"scatterternary\"}],\"surface\":[{\"colorbar\":{\"outlinewidth\":1,\"tickcolor\":\"rgb(36,36,36)\",\"ticks\":\"outside\"},\"colorscale\":[[0.0,\"#440154\"],[0.1111111111111111,\"#482878\"],[0.2222222222222222,\"#3e4989\"],[0.3333333333333333,\"#31688e\"],[0.4444444444444444,\"#26828e\"],[0.5555555555555556,\"#1f9e89\"],[0.6666666666666666,\"#35b779\"],[0.7777777777777778,\"#6ece58\"],[0.8888888888888888,\"#b5de2b\"],[1.0,\"#fde725\"]],\"type\":\"surface\"}],\"table\":[{\"cells\":{\"fill\":{\"color\":\"rgb(237,237,237)\"},\"line\":{\"color\":\"white\"}},\"header\":{\"fill\":{\"color\":\"rgb(217,217,217)\"},\"line\":{\"color\":\"white\"}},\"type\":\"table\"}]},\"layout\":{\"annotationdefaults\":{\"arrowhead\":0,\"arrowwidth\":1},\"autotypenumbers\":\"strict\",\"coloraxis\":{\"colorbar\":{\"outlinewidth\":1,\"tickcolor\":\"rgb(36,36,36)\",\"ticks\":\"outside\"}},\"colorscale\":{\"diverging\":[[0.0,\"rgb(103,0,31)\"],[0.1,\"rgb(178,24,43)\"],[0.2,\"rgb(214,96,77)\"],[0.3,\"rgb(244,165,130)\"],[0.4,\"rgb(253,219,199)\"],[0.5,\"rgb(247,247,247)\"],[0.6,\"rgb(209,229,240)\"],[0.7,\"rgb(146,197,222)\"],[0.8,\"rgb(67,147,195)\"],[0.9,\"rgb(33,102,172)\"],[1.0,\"rgb(5,48,97)\"]],\"sequential\":[[0.0,\"#440154\"],[0.1111111111111111,\"#482878\"],[0.2222222222222222,\"#3e4989\"],[0.3333333333333333,\"#31688e\"],[0.4444444444444444,\"#26828e\"],[0.5555555555555556,\"#1f9e89\"],[0.6666666666666666,\"#35b779\"],[0.7777777777777778,\"#6ece58\"],[0.8888888888888888,\"#b5de2b\"],[1.0,\"#fde725\"]],\"sequentialminus\":[[0.0,\"#440154\"],[0.1111111111111111,\"#482878\"],[0.2222222222222222,\"#3e4989\"],[0.3333333333333333,\"#31688e\"],[0.4444444444444444,\"#26828e\"],[0.5555555555555556,\"#1f9e89\"],[0.6666666666666666,\"#35b779\"],[0.7777777777777778,\"#6ece58\"],[0.8888888888888888,\"#b5de2b\"],[1.0,\"#fde725\"]]},\"colorway\":[\"#1F77B4\",\"#FF7F0E\",\"#2CA02C\",\"#D62728\",\"#9467BD\",\"#8C564B\",\"#E377C2\",\"#7F7F7F\",\"#BCBD22\",\"#17BECF\"],\"font\":{\"color\":\"rgb(36,36,36)\"},\"geo\":{\"bgcolor\":\"white\",\"lakecolor\":\"white\",\"landcolor\":\"white\",\"showlakes\":true,\"showland\":true,\"subunitcolor\":\"white\"},\"hoverlabel\":{\"align\":\"left\"},\"hovermode\":\"closest\",\"mapbox\":{\"style\":\"light\"},\"paper_bgcolor\":\"white\",\"plot_bgcolor\":\"white\",\"polar\":{\"angularaxis\":{\"gridcolor\":\"rgb(232,232,232)\",\"linecolor\":\"rgb(36,36,36)\",\"showgrid\":false,\"showline\":true,\"ticks\":\"outside\"},\"bgcolor\":\"white\",\"radialaxis\":{\"gridcolor\":\"rgb(232,232,232)\",\"linecolor\":\"rgb(36,36,36)\",\"showgrid\":false,\"showline\":true,\"ticks\":\"outside\"}},\"scene\":{\"xaxis\":{\"backgroundcolor\":\"white\",\"gridcolor\":\"rgb(232,232,232)\",\"gridwidth\":2,\"linecolor\":\"rgb(36,36,36)\",\"showbackground\":true,\"showgrid\":false,\"showline\":true,\"ticks\":\"outside\",\"zeroline\":false,\"zerolinecolor\":\"rgb(36,36,36)\"},\"yaxis\":{\"backgroundcolor\":\"white\",\"gridcolor\":\"rgb(232,232,232)\",\"gridwidth\":2,\"linecolor\":\"rgb(36,36,36)\",\"showbackground\":true,\"showgrid\":false,\"showline\":true,\"ticks\":\"outside\",\"zeroline\":false,\"zerolinecolor\":\"rgb(36,36,36)\"},\"zaxis\":{\"backgroundcolor\":\"white\",\"gridcolor\":\"rgb(232,232,232)\",\"gridwidth\":2,\"linecolor\":\"rgb(36,36,36)\",\"showbackground\":true,\"showgrid\":false,\"showline\":true,\"ticks\":\"outside\",\"zeroline\":false,\"zerolinecolor\":\"rgb(36,36,36)\"}},\"shapedefaults\":{\"fillcolor\":\"black\",\"line\":{\"width\":0},\"opacity\":0.3},\"ternary\":{\"aaxis\":{\"gridcolor\":\"rgb(232,232,232)\",\"linecolor\":\"rgb(36,36,36)\",\"showgrid\":false,\"showline\":true,\"ticks\":\"outside\"},\"baxis\":{\"gridcolor\":\"rgb(232,232,232)\",\"linecolor\":\"rgb(36,36,36)\",\"showgrid\":false,\"showline\":true,\"ticks\":\"outside\"},\"bgcolor\":\"white\",\"caxis\":{\"gridcolor\":\"rgb(232,232,232)\",\"linecolor\":\"rgb(36,36,36)\",\"showgrid\":false,\"showline\":true,\"ticks\":\"outside\"}},\"title\":{\"x\":0.05},\"xaxis\":{\"automargin\":true,\"gridcolor\":\"rgb(232,232,232)\",\"linecolor\":\"rgb(36,36,36)\",\"showgrid\":false,\"showline\":true,\"ticks\":\"outside\",\"title\":{\"standoff\":15},\"zeroline\":false,\"zerolinecolor\":\"rgb(36,36,36)\"},\"yaxis\":{\"automargin\":true,\"gridcolor\":\"rgb(232,232,232)\",\"linecolor\":\"rgb(36,36,36)\",\"showgrid\":false,\"showline\":true,\"ticks\":\"outside\",\"title\":{\"standoff\":15},\"zeroline\":false,\"zerolinecolor\":\"rgb(36,36,36)\"}}},\"xaxis\":{\"showgrid\":true,\"title\":{\"text\":\"Frequency\"}},\"yaxis\":{\"showgrid\":true,\"title\":{\"text\":\"Class\"}},\"title\":{\"font\":{\"size\":22,\"color\":\"Black\"},\"text\":\"\\u003cb\\u003eTopics per Class\\u003c\\u002fb\\u003e\",\"y\":0.95,\"x\":0.4,\"xanchor\":\"center\",\"yanchor\":\"top\"},\"hoverlabel\":{\"font\":{\"size\":16,\"family\":\"Rockwell\"},\"bgcolor\":\"white\"},\"width\":1250,\"height\":900,\"legend\":{\"title\":{\"text\":\"\\u003cb\\u003eGlobal Topic Representation\"}}},                        {\"responsive\": true}                    )                };                            </script>        </div>"
      ],
      "text/plain": [
       "Figure({\n",
       "    'data': [{'hoverinfo': 'text',\n",
       "              'hovertext': [<b>Topic 0</b><br>Words: the, of, and, to, in,\n",
       "                            <b>Topic 0</b><br>Words: pacific, we, our, to, that,\n",
       "                            <b>Topic 0</b><br>Words: the, of, is, to, in, <b>Topic\n",
       "                            0</b><br>Words: the, of, to, and, that, <b>Topic\n",
       "                            0</b><br>Words: the, of, states, united, soviet,\n",
       "                            <b>Topic 0</b><br>Words: that, of, the, to, and],\n",
       "              'marker': {'color': '#E69F00'},\n",
       "              'name': '0_peace_nations_general_organization',\n",
       "              'orientation': 'h',\n",
       "              'type': 'bar',\n",
       "              'visible': True,\n",
       "              'x': array([258,  58, 230, 312,  43, 221]),\n",
       "              'y': array(['Asia', 'Oceania', 'Europe', 'Africa', 'none', 'Americas'], dtype=object)},\n",
       "             {'hoverinfo': 'text',\n",
       "              'hovertext': [<b>Topic 1</b><br>Words: the, of, and, to, in,\n",
       "                            <b>Topic 1</b><br>Words: our, we, to, pacific, the,\n",
       "                            <b>Topic 1</b><br>Words: the, of, in, is, to, <b>Topic\n",
       "                            1</b><br>Words: the, of, to, in, that, <b>Topic\n",
       "                            1</b><br>Words: of, the, in, and, is, <b>Topic\n",
       "                            1</b><br>Words: of, the, to, that, in],\n",
       "              'marker': {'color': '#56B4E9'},\n",
       "              'name': '1_general_nations_political_government',\n",
       "              'orientation': 'h',\n",
       "              'type': 'bar',\n",
       "              'visible': 'legendonly',\n",
       "              'x': array([139,  31, 117, 141,  30, 119]),\n",
       "              'y': array(['Asia', 'Oceania', 'Europe', 'Africa', 'none', 'Americas'], dtype=object)},\n",
       "             {'hoverinfo': 'text',\n",
       "              'hovertext': [<b>Topic 2</b><br>Words: of, the, and, in, to,\n",
       "                            <b>Topic 2</b><br>Words: zealand, veto, council, as,\n",
       "                            it, <b>Topic 2</b><br>Words: the, in, of, to, and,\n",
       "                            <b>Topic 2</b><br>Words: the, of, to, and, in, <b>Topic\n",
       "                            2</b><br>Words: the, of, this, in, and, <b>Topic\n",
       "                            2</b><br>Words: of, the, and, in, to],\n",
       "              'marker': {'color': '#009E73'},\n",
       "              'name': '2_ukraine_republic_ukrainian_general',\n",
       "              'orientation': 'h',\n",
       "              'type': 'bar',\n",
       "              'visible': 'legendonly',\n",
       "              'x': array([27,  2, 22, 27,  7, 24]),\n",
       "              'y': array(['Asia', 'Oceania', 'Europe', 'Africa', 'none', 'Americas'], dtype=object)},\n",
       "             {'hoverinfo': 'text',\n",
       "              'hovertext': [<b>Topic 3</b><br>Words: the, of, and, mexico, to,\n",
       "                            <b>Topic 3</b><br>Words: tuvalu, marshall, climate,\n",
       "                            islands, our, <b>Topic 3</b><br>Words: the, of, in,\n",
       "                            mexico, to, <b>Topic 3</b><br>Words: of, the, mexico,\n",
       "                            to, in, <b>Topic 3</b><br>Words: atomic, war,\n",
       "                            appropriations, ussr, propaganda, <b>Topic\n",
       "                            3</b><br>Words: mexico, and, we, of, to],\n",
       "              'marker': {'color': '#F0E442'},\n",
       "              'name': '3_mexico_mexican_nations_international',\n",
       "              'orientation': 'h',\n",
       "              'type': 'bar',\n",
       "              'visible': 'legendonly',\n",
       "              'x': array([27,  3, 28, 30,  2, 18]),\n",
       "              'y': array(['Asia', 'Oceania', 'Europe', 'Africa', 'none', 'Americas'], dtype=object)},\n",
       "             {'hoverinfo': 'text',\n",
       "              'hovertext': [<b>Topic 4</b><br>Words: and, the, of, to, in,\n",
       "                            <b>Topic 4</b><br>Words: our, islands, we, development,\n",
       "                            tuvalu, <b>Topic 4</b><br>Words: latvia, the, and, of,\n",
       "                            to, <b>Topic 4</b><br>Words: the, and, to, of, in,\n",
       "                            <b>Topic 4</b><br>Words: and, of, the, to, we],\n",
       "              'marker': {'color': '#D55E00'},\n",
       "              'name': '4_tanzania_republic_zimbabwe_nations',\n",
       "              'orientation': 'h',\n",
       "              'type': 'bar',\n",
       "              'visible': 'legendonly',\n",
       "              'x': array([22,  7, 19, 27, 21]),\n",
       "              'y': array(['Asia', 'Oceania', 'Europe', 'Africa', 'Americas'], dtype=object)},\n",
       "             {'hoverinfo': 'text',\n",
       "              'hovertext': [<b>Topic 5</b><br>Words: and, that, we, iran, to,\n",
       "                            <b>Topic 5</b><br>Words: tuvalu, zealand, timor,\n",
       "                            council, new, <b>Topic 5</b><br>Words: we, to, in, the,\n",
       "                            that, <b>Topic 5</b><br>Words: and, to, the, in, we,\n",
       "                            <b>Topic 5</b><br>Words: we, it, in, that, of, <b>Topic\n",
       "                            5</b><br>Words: we, that, and, to, the],\n",
       "              'marker': {'color': '#0072B2'},\n",
       "              'name': '5_terrorists_terrorism_terrorist_iraq',\n",
       "              'orientation': 'h',\n",
       "              'type': 'bar',\n",
       "              'visible': 'legendonly',\n",
       "              'x': array([17,  2, 17, 23,  3, 21]),\n",
       "              'y': array(['Asia', 'Oceania', 'Europe', 'Africa', 'none', 'Americas'], dtype=object)},\n",
       "             {'hoverinfo': 'text',\n",
       "              'hovertext': [<b>Topic 6</b><br>Words: the, in, of, to, and,\n",
       "                            <b>Topic 6</b><br>Words: papua, vanuatu, guinea,\n",
       "                            government, new, <b>Topic 6</b><br>Words: european,\n",
       "                            the, to, of, in, <b>Topic 6</b><br>Words: the, of, to,\n",
       "                            in, that, <b>Topic 6</b><br>Words: german, the, of, in,\n",
       "                            is, <b>Topic 6</b><br>Words: the, which, of, in, to],\n",
       "              'marker': {'color': '#CC79A7'},\n",
       "              'name': '6_luxembourg_general_council_nations',\n",
       "              'orientation': 'h',\n",
       "              'type': 'bar',\n",
       "              'visible': 'legendonly',\n",
       "              'x': array([28,  2, 12, 20,  5, 14]),\n",
       "              'y': array(['Asia', 'Oceania', 'Europe', 'Africa', 'none', 'Americas'], dtype=object)},\n",
       "             {'hoverinfo': 'text',\n",
       "              'hovertext': [<b>Topic 7</b><br>Words: the, and, to, of, in,\n",
       "                            <b>Topic 7</b><br>Words: australia, we, new, our,\n",
       "                            pacific, <b>Topic 7</b><br>Words: the, europe, and, of,\n",
       "                            to, <b>Topic 7</b><br>Words: pandemic, covid, the, and,\n",
       "                            to, <b>Topic 7</b><br>Words: of, the, in, we, to,\n",
       "                            <b>Topic 7</b><br>Words: to, the, we, and, of],\n",
       "              'marker': {'color': '#E69F00'},\n",
       "              'name': '7_zambia_africa_african_namibia',\n",
       "              'orientation': 'h',\n",
       "              'type': 'bar',\n",
       "              'visible': 'legendonly',\n",
       "              'x': array([19,  5, 15, 25,  4, 12]),\n",
       "              'y': array(['Asia', 'Oceania', 'Europe', 'Africa', 'none', 'Americas'], dtype=object)},\n",
       "             {'hoverinfo': 'text',\n",
       "              'hovertext': [<b>Topic 8</b><br>Words: and, united, nations, the,\n",
       "                            of, <b>Topic 8</b><br>Words: islands, pacific, nations,\n",
       "                            united, the, <b>Topic 8</b><br>Words: and, the, united,\n",
       "                            of, nations, <b>Topic 8</b><br>Words: the, and, of,\n",
       "                            nations, united, <b>Topic 8</b><br>Words: world, of,\n",
       "                            nations, this, united, <b>Topic 8</b><br>Words: of,\n",
       "                            the, and, we, to],\n",
       "              'marker': {'color': '#56B4E9'},\n",
       "              'name': '8_freitas_amaral_nations_general',\n",
       "              'orientation': 'h',\n",
       "              'type': 'bar',\n",
       "              'visible': 'legendonly',\n",
       "              'x': array([22,  4, 16, 19,  1, 15]),\n",
       "              'y': array(['Asia', 'Oceania', 'Europe', 'Africa', 'none', 'Americas'], dtype=object)},\n",
       "             {'hoverinfo': 'text',\n",
       "              'hovertext': [<b>Topic 9</b><br>Words: and, the, of, to, in,\n",
       "                            <b>Topic 9</b><br>Words: fiji, australia, papua, to,\n",
       "                            the, <b>Topic 9</b><br>Words: the, of, in, to, is,\n",
       "                            <b>Topic 9</b><br>Words: the, of, to, and, in, <b>Topic\n",
       "                            9</b><br>Words: is, soviet, the, on, to, <b>Topic\n",
       "                            9</b><br>Words: the, of, in, and, to],\n",
       "              'marker': {'color': '#009E73'},\n",
       "              'name': '9_malaysia_general_secretary_government',\n",
       "              'orientation': 'h',\n",
       "              'type': 'bar',\n",
       "              'visible': 'legendonly',\n",
       "              'x': array([21,  3, 10, 22,  3, 18]),\n",
       "              'y': array(['Asia', 'Oceania', 'Europe', 'Africa', 'none', 'Americas'], dtype=object)},\n",
       "             {'hoverinfo': 'text',\n",
       "              'hovertext': [<b>Topic 10</b><br>Words: and, the, of, in,\n",
       "                            international, <b>Topic 10</b><br>Words: tuvalu,\n",
       "                            australia, climate, to, the, <b>Topic 10</b><br>Words:\n",
       "                            the, and, of, in, that, <b>Topic 10</b><br>Words: the,\n",
       "                            to, and, of, in, <b>Topic 10</b><br>Words: syria,\n",
       "                            chemical, european, we, is, <b>Topic 10</b><br>Words:\n",
       "                            and, the, of, we, that],\n",
       "              'marker': {'color': '#F0E442'},\n",
       "              'name': '10_caputo_general_conference_nations',\n",
       "              'orientation': 'h',\n",
       "              'type': 'bar',\n",
       "              'visible': 'legendonly',\n",
       "              'x': array([18,  4, 17, 19,  1, 18]),\n",
       "              'y': array(['Asia', 'Oceania', 'Europe', 'Africa', 'none', 'Americas'], dtype=object)},\n",
       "             {'hoverinfo': 'text',\n",
       "              'hovertext': [<b>Topic 11</b><br>Words: colombia, and, to, the, of,\n",
       "                            <b>Topic 11</b><br>Words: solomon, islands, peking,\n",
       "                            australia, colombia, <b>Topic 11</b><br>Words:\n",
       "                            colombia, of, the, in, to, <b>Topic 11</b><br>Words:\n",
       "                            colombia, the, of, to, which, <b>Topic 11</b><br>Words:\n",
       "                            relations, favourable, it, colombia, that, <b>Topic\n",
       "                            11</b><br>Words: colombia, that, of, the, to],\n",
       "              'marker': {'color': '#D55E00'},\n",
       "              'name': '11_colombia_colombian_nations_country',\n",
       "              'orientation': 'h',\n",
       "              'type': 'bar',\n",
       "              'visible': 'legendonly',\n",
       "              'x': array([12,  3, 20, 20,  1, 19]),\n",
       "              'y': array(['Asia', 'Oceania', 'Europe', 'Africa', 'none', 'Americas'], dtype=object)},\n",
       "             {'hoverinfo': 'text',\n",
       "              'hovertext': [<b>Topic 12</b><br>Words: panama, of, the, and, to,\n",
       "                            <b>Topic 12</b><br>Words: panama, tonga, pacific, our,\n",
       "                            nauru, <b>Topic 12</b><br>Words: panama, canal, the,\n",
       "                            of, which, <b>Topic 12</b><br>Words: panama, of, the,\n",
       "                            which, to, <b>Topic 12</b><br>Words: russia, lithuania,\n",
       "                            ukrainian, ukraine, gentlemen, <b>Topic\n",
       "                            12</b><br>Words: panama, which, of, the, that],\n",
       "              'marker': {'color': '#0072B2'},\n",
       "              'name': '12_panamanian_panama_panamanians_nations',\n",
       "              'orientation': 'h',\n",
       "              'type': 'bar',\n",
       "              'visible': 'legendonly',\n",
       "              'x': array([17,  4, 19, 16,  1, 18]),\n",
       "              'y': array(['Asia', 'Oceania', 'Europe', 'Africa', 'none', 'Americas'], dtype=object)},\n",
       "             {'hoverinfo': 'text',\n",
       "              'hovertext': [<b>Topic 13</b><br>Words: and, to, the, that, we,\n",
       "                            <b>Topic 13</b><br>Words: pacific, solomon, climate,\n",
       "                            islands, our, <b>Topic 13</b><br>Words: we, and, in,\n",
       "                            to, for, <b>Topic 13</b><br>Words: and, to, the, of,\n",
       "                            our, <b>Topic 13</b><br>Words: and, our, that, we, to],\n",
       "              'marker': {'color': '#CC79A7'},\n",
       "              'name': '13_jeremić_president_republic_arab',\n",
       "              'orientation': 'h',\n",
       "              'type': 'bar',\n",
       "              'visible': 'legendonly',\n",
       "              'x': array([11,  5, 18, 18, 23]),\n",
       "              'y': array(['Asia', 'Oceania', 'Europe', 'Africa', 'Americas'], dtype=object)},\n",
       "             {'hoverinfo': 'text',\n",
       "              'hovertext': [<b>Topic 14</b><br>Words: the, of, in, to, and,\n",
       "                            <b>Topic 14</b><br>Words: pacific, we, to, tuvalu, in,\n",
       "                            <b>Topic 14</b><br>Words: united, the, of, states, in,\n",
       "                            <b>Topic 14</b><br>Words: the, to, of, and, in,\n",
       "                            <b>Topic 14</b><br>Words: communism, taiwan, mainland,\n",
       "                            chinese, communists, <b>Topic 14</b><br>Words: the, of,\n",
       "                            in, to, that],\n",
       "              'marker': {'color': '#E69F00'},\n",
       "              'name': '14_guyana_general_venezuela_nations',\n",
       "              'orientation': 'h',\n",
       "              'type': 'bar',\n",
       "              'visible': 'legendonly',\n",
       "              'x': array([15,  6, 20, 14,  1, 18]),\n",
       "              'y': array(['Asia', 'Oceania', 'Europe', 'Africa', 'none', 'Americas'], dtype=object)},\n",
       "             {'hoverinfo': 'text',\n",
       "              'hovertext': [<b>Topic 15</b><br>Words: and, food, the, to,\n",
       "                            international, <b>Topic 15</b><br>Words: pacific, fiji,\n",
       "                            zealand, food, and, <b>Topic 15</b><br>Words: the, and,\n",
       "                            bulgaria, to, food, <b>Topic 15</b><br>Words: food, to,\n",
       "                            the, and, of, <b>Topic 15</b><br>Words: our, we, and,\n",
       "                            to, food],\n",
       "              'marker': {'color': '#56B4E9'},\n",
       "              'name': '15_democracy_general_brockmann_nations',\n",
       "              'orientation': 'h',\n",
       "              'type': 'bar',\n",
       "              'visible': 'legendonly',\n",
       "              'x': array([16,  6,  9, 23, 20]),\n",
       "              'y': array(['Asia', 'Oceania', 'Europe', 'Africa', 'Americas'], dtype=object)},\n",
       "             {'hoverinfo': 'text',\n",
       "              'hovertext': [<b>Topic 16</b><br>Words: the, and, of, in, to,\n",
       "                            <b>Topic 16</b><br>Words: papua, pacific, guinea, new,\n",
       "                            countries, <b>Topic 16</b><br>Words: the, of, in, to,\n",
       "                            and, <b>Topic 16</b><br>Words: the, of, to, and, in,\n",
       "                            <b>Topic 16</b><br>Words: german, democratic, soviet,\n",
       "                            republic, union, <b>Topic 16</b><br>Words: of, the,\n",
       "                            and, to, in],\n",
       "              'marker': {'color': '#009E73'},\n",
       "              'name': '16_opertti_republic_general_democratic',\n",
       "              'orientation': 'h',\n",
       "              'type': 'bar',\n",
       "              'visible': 'legendonly',\n",
       "              'x': array([19,  2, 10, 25,  2, 15]),\n",
       "              'y': array(['Asia', 'Oceania', 'Europe', 'Africa', 'none', 'Americas'], dtype=object)},\n",
       "             {'hoverinfo': 'text',\n",
       "              'hovertext': [<b>Topic 17</b><br>Words: israel, the, to, and, of,\n",
       "                            <b>Topic 17</b><br>Words: australia, we, how, to, that,\n",
       "                            <b>Topic 17</b><br>Words: the, of, to, that, in,\n",
       "                            <b>Topic 17</b><br>Words: to, the, of, and, in,\n",
       "                            <b>Topic 17</b><br>Words: acheson, mao, american, tse,\n",
       "                            tung, <b>Topic 17</b><br>Words: the, to, of, we, in],\n",
       "              'marker': {'color': '#F0E442'},\n",
       "              'name': '17_president_republic_kavan_timor',\n",
       "              'orientation': 'h',\n",
       "              'type': 'bar',\n",
       "              'visible': 'legendonly',\n",
       "              'x': array([12,  3, 12, 21,  2, 21]),\n",
       "              'y': array(['Asia', 'Oceania', 'Europe', 'Africa', 'none', 'Americas'], dtype=object)},\n",
       "             {'hoverinfo': 'text',\n",
       "              'hovertext': [<b>Topic 18</b><br>Words: the, and, of, in, to,\n",
       "                            <b>Topic 18</b><br>Words: solomon, islands, pacific,\n",
       "                            bougainville, forum, <b>Topic 18</b><br>Words: the, in,\n",
       "                            on, and, to, <b>Topic 18</b><br>Words: to, the, and,\n",
       "                            of, in, <b>Topic 18</b><br>Words: of, the, in, and, on,\n",
       "                            <b>Topic 18</b><br>Words: and, our, to, of, the],\n",
       "              'marker': {'color': '#D55E00'},\n",
       "              'name': '18_treki_general_crises_council',\n",
       "              'orientation': 'h',\n",
       "              'type': 'bar',\n",
       "              'visible': 'legendonly',\n",
       "              'x': array([17,  1,  7, 17,  5, 21]),\n",
       "              'y': array(['Asia', 'Oceania', 'Europe', 'Africa', 'none', 'Americas'], dtype=object)},\n",
       "             {'hoverinfo': 'text',\n",
       "              'hovertext': [<b>Topic 19</b><br>Words: armenia, azerbaijan, and,\n",
       "                            we, to, <b>Topic 19</b><br>Words: our, climate, global,\n",
       "                            we, development, <b>Topic 19</b><br>Words: we,\n",
       "                            development, climate, and, our, <b>Topic\n",
       "                            19</b><br>Words: development, and, our, to, for,\n",
       "                            <b>Topic 19</b><br>Words: development, we, our, and,\n",
       "                            climate],\n",
       "              'marker': {'color': '#0072B2'},\n",
       "              'name': '19_kutesa_republic_general_nations',\n",
       "              'orientation': 'h',\n",
       "              'type': 'bar',\n",
       "              'visible': 'legendonly',\n",
       "              'x': array([14, 12, 13, 21,  8]),\n",
       "              'y': array(['Asia', 'Oceania', 'Europe', 'Africa', 'Americas'], dtype=object)}],\n",
       "    'layout': {'height': 900,\n",
       "               'hoverlabel': {'bgcolor': 'white', 'font': {'family': 'Rockwell', 'size': 16}},\n",
       "               'legend': {'title': {'text': '<b>Global Topic Representation'}},\n",
       "               'template': '...',\n",
       "               'title': {'font': {'color': 'Black', 'size': 22},\n",
       "                         'text': '<b>Topics per Class</b>',\n",
       "                         'x': 0.4,\n",
       "                         'xanchor': 'center',\n",
       "                         'y': 0.95,\n",
       "                         'yanchor': 'top'},\n",
       "               'width': 1250,\n",
       "               'xaxis': {'showgrid': True, 'title': {'text': 'Frequency'}},\n",
       "               'yaxis': {'showgrid': True, 'title': {'text': 'Class'}}}\n",
       "})"
      ]
     },
     "execution_count": 216,
     "metadata": {},
     "output_type": "execute_result"
    }
   ],
   "source": [
    "topics_per_class = get_topics_per_class('Region Name')\n",
    "model.visualize_topics_per_class(topics_per_class, top_n_topics = TOP_N)"
   ]
  },
  {
   "cell_type": "code",
   "execution_count": 217,
   "metadata": {},
   "outputs": [
    {
     "name": "stderr",
     "output_type": "stream",
     "text": [
      "18it [00:17,  1.02it/s]\n"
     ]
    },
    {
     "ename": "ValueError",
     "evalue": "Mime type rendering requires nbformat>=4.2.0 but it is not installed",
     "output_type": "error",
     "traceback": [
      "\u001b[0;31m---------------------------------------------------------------------------\u001b[0m",
      "\u001b[0;31mValueError\u001b[0m                                Traceback (most recent call last)",
      "File \u001b[0;32m~/miniforge3/envs/nlp-un/lib/python3.9/site-packages/IPython/core/formatters.py:922\u001b[0m, in \u001b[0;36mIPythonDisplayFormatter.__call__\u001b[0;34m(self, obj)\u001b[0m\n\u001b[1;32m    920\u001b[0m method \u001b[38;5;241m=\u001b[39m get_real_method(obj, \u001b[38;5;28mself\u001b[39m\u001b[38;5;241m.\u001b[39mprint_method)\n\u001b[1;32m    921\u001b[0m \u001b[38;5;28;01mif\u001b[39;00m method \u001b[38;5;129;01mis\u001b[39;00m \u001b[38;5;129;01mnot\u001b[39;00m \u001b[38;5;28;01mNone\u001b[39;00m:\n\u001b[0;32m--> 922\u001b[0m     \u001b[43mmethod\u001b[49m\u001b[43m(\u001b[49m\u001b[43m)\u001b[49m\n\u001b[1;32m    923\u001b[0m     \u001b[38;5;28;01mreturn\u001b[39;00m \u001b[38;5;28;01mTrue\u001b[39;00m\n",
      "File \u001b[0;32m~/miniforge3/envs/nlp-un/lib/python3.9/site-packages/plotly/basedatatypes.py:832\u001b[0m, in \u001b[0;36mBaseFigure._ipython_display_\u001b[0;34m(self)\u001b[0m\n\u001b[1;32m    829\u001b[0m \u001b[38;5;28;01mimport\u001b[39;00m \u001b[38;5;21;01mplotly\u001b[39;00m\u001b[38;5;21;01m.\u001b[39;00m\u001b[38;5;21;01mio\u001b[39;00m \u001b[38;5;28;01mas\u001b[39;00m \u001b[38;5;21;01mpio\u001b[39;00m\n\u001b[1;32m    831\u001b[0m \u001b[38;5;28;01mif\u001b[39;00m pio\u001b[38;5;241m.\u001b[39mrenderers\u001b[38;5;241m.\u001b[39mrender_on_display \u001b[38;5;129;01mand\u001b[39;00m pio\u001b[38;5;241m.\u001b[39mrenderers\u001b[38;5;241m.\u001b[39mdefault:\n\u001b[0;32m--> 832\u001b[0m     \u001b[43mpio\u001b[49m\u001b[38;5;241;43m.\u001b[39;49m\u001b[43mshow\u001b[49m\u001b[43m(\u001b[49m\u001b[38;5;28;43mself\u001b[39;49m\u001b[43m)\u001b[49m\n\u001b[1;32m    833\u001b[0m \u001b[38;5;28;01melse\u001b[39;00m:\n\u001b[1;32m    834\u001b[0m     \u001b[38;5;28mprint\u001b[39m(\u001b[38;5;28mrepr\u001b[39m(\u001b[38;5;28mself\u001b[39m))\n",
      "File \u001b[0;32m~/miniforge3/envs/nlp-un/lib/python3.9/site-packages/plotly/io/_renderers.py:394\u001b[0m, in \u001b[0;36mshow\u001b[0;34m(fig, renderer, validate, **kwargs)\u001b[0m\n\u001b[1;32m    389\u001b[0m         \u001b[38;5;28;01mraise\u001b[39;00m \u001b[38;5;167;01mValueError\u001b[39;00m(\n\u001b[1;32m    390\u001b[0m             \u001b[38;5;124m\"\u001b[39m\u001b[38;5;124mMime type rendering requires ipython but it is not installed\u001b[39m\u001b[38;5;124m\"\u001b[39m\n\u001b[1;32m    391\u001b[0m         )\n\u001b[1;32m    393\u001b[0m     \u001b[38;5;28;01mif\u001b[39;00m \u001b[38;5;129;01mnot\u001b[39;00m nbformat \u001b[38;5;129;01mor\u001b[39;00m Version(nbformat\u001b[38;5;241m.\u001b[39m__version__) \u001b[38;5;241m<\u001b[39m Version(\u001b[38;5;124m\"\u001b[39m\u001b[38;5;124m4.2.0\u001b[39m\u001b[38;5;124m\"\u001b[39m):\n\u001b[0;32m--> 394\u001b[0m         \u001b[38;5;28;01mraise\u001b[39;00m \u001b[38;5;167;01mValueError\u001b[39;00m(\n\u001b[1;32m    395\u001b[0m             \u001b[38;5;124m\"\u001b[39m\u001b[38;5;124mMime type rendering requires nbformat>=4.2.0 but it is not installed\u001b[39m\u001b[38;5;124m\"\u001b[39m\n\u001b[1;32m    396\u001b[0m         )\n\u001b[1;32m    398\u001b[0m     ipython_display\u001b[38;5;241m.\u001b[39mdisplay(bundle, raw\u001b[38;5;241m=\u001b[39m\u001b[38;5;28;01mTrue\u001b[39;00m)\n\u001b[1;32m    400\u001b[0m \u001b[38;5;66;03m# external renderers\u001b[39;00m\n",
      "\u001b[0;31mValueError\u001b[0m: Mime type rendering requires nbformat>=4.2.0 but it is not installed"
     ]
    },
    {
     "data": {
      "application/vnd.plotly.v1+json": {
       "config": {
        "plotlyServerURL": "https://plot.ly"
       },
       "data": [
        {
         "hoverinfo": "text",
         "hovertext": [
          "<b>Topic 0</b><br>Words: zealand, australia, we, is, new",
          "<b>Topic 0</b><br>Words: of, the, that, and, to",
          "<b>Topic 0</b><br>Words: the, and, of, to, that",
          "<b>Topic 0</b><br>Words: the, and, of, that, in",
          "<b>Topic 0</b><br>Words: to, the, is, that, in",
          "<b>Topic 0</b><br>Words: the, of, to, that, and",
          "<b>Topic 0</b><br>Words: and, the, to, of, is",
          "<b>Topic 0</b><br>Words: canada, we, united, that, nations",
          "<b>Topic 0</b><br>Words: japan, korea, the, united, of",
          "<b>Topic 0</b><br>Words: tuvalu, pacific, climate, samoa, change",
          "<b>Topic 0</b><br>Words: kazakhstan, tajikistan, kyrgyzstan, the, and",
          "<b>Topic 0</b><br>Words: the, and, of, to, in",
          "<b>Topic 0</b><br>Words: islands, our, marshall, pacific, climate",
          "<b>Topic 0</b><br>Words: we, to, is, united, the",
          "<b>Topic 0</b><br>Words: of, the, and, in, is",
          "<b>Topic 0</b><br>Words: the, of, states, united, soviet",
          "<b>Topic 0</b><br>Words: papua, fiji, vanuatu, pacific, we",
          "<b>Topic 0</b><br>Words: the, of, states, united, is"
         ],
         "marker": {
          "color": "#E69F00"
         },
         "name": "0_peace_nations_general_organization",
         "orientation": "h",
         "type": "bar",
         "visible": true,
         "x": [
          16,
          206,
          47,
          77,
          42,
          265,
          73,
          15,
          27,
          9,
          14,
          87,
          14,
          54,
          57,
          43,
          19,
          57
         ],
         "y": [
          "Australia and New Zealand",
          "Latin America and the Caribbean",
          "Northern Africa",
          "Southern Europe",
          "Western Europe",
          "Sub-Saharan Africa",
          "South-eastern Asia",
          "Northern America",
          "Eastern Asia",
          "Polynesia",
          "Central Asia",
          "Western Asia",
          "Micronesia",
          "Northern Europe",
          "Southern Asia",
          "none",
          "Melanesia",
          "Eastern Europe"
         ]
        },
        {
         "hoverinfo": "text",
         "hovertext": [
          "<b>Topic 1</b><br>Words: zealand, australia, this, it, is",
          "<b>Topic 1</b><br>Words: of, the, that, to, in",
          "<b>Topic 1</b><br>Words: and, the, of, to, in",
          "<b>Topic 1</b><br>Words: the, of, and, that, in",
          "<b>Topic 1</b><br>Words: is, to, the, in, that",
          "<b>Topic 1</b><br>Words: the, of, to, in, that",
          "<b>Topic 1</b><br>Words: the, and, to, of, in",
          "<b>Topic 1</b><br>Words: united, nations, this, to, be",
          "<b>Topic 1</b><br>Words: japan, the, of, and, to",
          "<b>Topic 1</b><br>Words: tonga, pacific, tuvalu, we, and",
          "<b>Topic 1</b><br>Words: tajikistan, turkmenistan, tajik, united, nations",
          "<b>Topic 1</b><br>Words: the, and, of, to, in",
          "<b>Topic 1</b><br>Words: our, palau, islands, we, pacific",
          "<b>Topic 1</b><br>Words: ireland, be, in, the, is",
          "<b>Topic 1</b><br>Words: of, the, in, to, be",
          "<b>Topic 1</b><br>Words: of, the, in, and, is",
          "<b>Topic 1</b><br>Words: fiji, pacific, our, papua, we",
          "<b>Topic 1</b><br>Words: of, the, in, and, states"
         ],
         "marker": {
          "color": "#56B4E9"
         },
         "name": "1_general_nations_political_government",
         "orientation": "h",
         "type": "bar",
         "visible": "legendonly",
         "x": [
          5,
          113,
          16,
          24,
          27,
          125,
          36,
          6,
          19,
          7,
          3,
          54,
          11,
          31,
          27,
          30,
          8,
          35
         ],
         "y": [
          "Australia and New Zealand",
          "Latin America and the Caribbean",
          "Northern Africa",
          "Southern Europe",
          "Western Europe",
          "Sub-Saharan Africa",
          "South-eastern Asia",
          "Northern America",
          "Eastern Asia",
          "Polynesia",
          "Central Asia",
          "Western Asia",
          "Micronesia",
          "Northern Europe",
          "Southern Asia",
          "none",
          "Melanesia",
          "Eastern Europe"
         ]
        },
        {
         "hoverinfo": "text",
         "hovertext": [
          "<b>Topic 2</b><br>Words: zealand, veto, council, as, it",
          "<b>Topic 2</b><br>Words: of, the, and, in, to",
          "<b>Topic 2</b><br>Words: the, of, its, and, in",
          "<b>Topic 2</b><br>Words: indian, goa, and, the, to",
          "<b>Topic 2</b><br>Words: austria, austrian, the, in, of",
          "<b>Topic 2</b><br>Words: the, of, to, and, in",
          "<b>Topic 2</b><br>Words: laos, arf, neutrality, any, will",
          "<b>Topic 2</b><br>Words: canada, afghanistan, canadian, united, security",
          "<b>Topic 2</b><br>Words: mongolian, korea, korean, republic, peninsula",
          "<b>Topic 2</b><br>Words: of, the, and, nations, united",
          "<b>Topic 2</b><br>Words: ireland, in, this, the, to",
          "<b>Topic 2</b><br>Words: the, of, in, to, and",
          "<b>Topic 2</b><br>Words: the, of, this, in, and",
          "<b>Topic 2</b><br>Words: nuclear, states, the, cuba, of"
         ],
         "marker": {
          "color": "#009E73"
         },
         "name": "2_ukraine_republic_ukrainian_general",
         "orientation": "h",
         "type": "bar",
         "visible": "legendonly",
         "x": [
          2,
          22,
          6,
          7,
          8,
          21,
          3,
          2,
          2,
          11,
          4,
          11,
          7,
          3
         ],
         "y": [
          "Australia and New Zealand",
          "Latin America and the Caribbean",
          "Northern Africa",
          "Southern Europe",
          "Western Europe",
          "Sub-Saharan Africa",
          "South-eastern Asia",
          "Northern America",
          "Eastern Asia",
          "Western Asia",
          "Northern Europe",
          "Southern Asia",
          "none",
          "Eastern Europe"
         ]
        },
        {
         "hoverinfo": "text",
         "hovertext": [
          "<b>Topic 3</b><br>Words: zealand, viet, nam, believe, new",
          "<b>Topic 3</b><br>Words: mexico, of, and, we, the",
          "<b>Topic 3</b><br>Words: tunisia, the, morocco, international, and",
          "<b>Topic 3</b><br>Words: spain, it, is, that, the",
          "<b>Topic 3</b><br>Words: that, to, mexico, the, of",
          "<b>Topic 3</b><br>Words: of, the, mexico, to, in",
          "<b>Topic 3</b><br>Words: mexico, philippines, the, to, of",
          "<b>Topic 3</b><br>Words: keeping, canada, nations, we, united",
          "<b>Topic 3</b><br>Words: tuvalu, climate, change, target, our",
          "<b>Topic 3</b><br>Words: the, of, to, and, in",
          "<b>Topic 3</b><br>Words: marshall, islands, pacific, marshallese, mdgs",
          "<b>Topic 3</b><br>Words: is, in, must, to, for",
          "<b>Topic 3</b><br>Words: of, the, and, mexico, in",
          "<b>Topic 3</b><br>Words: atomic, war, appropriations, ussr, propaganda",
          "<b>Topic 3</b><br>Words: of, and, the, in, mexico"
         ],
         "marker": {
          "color": "#F0E442"
         },
         "name": "3_mexico_mexican_nations_international",
         "orientation": "h",
         "type": "bar",
         "visible": "legendonly",
         "x": [
          1,
          16,
          2,
          2,
          9,
          28,
          8,
          2,
          1,
          14,
          1,
          7,
          5,
          2,
          10
         ],
         "y": [
          "Australia and New Zealand",
          "Latin America and the Caribbean",
          "Northern Africa",
          "Southern Europe",
          "Western Europe",
          "Sub-Saharan Africa",
          "South-eastern Asia",
          "Northern America",
          "Polynesia",
          "Western Asia",
          "Micronesia",
          "Northern Europe",
          "Southern Asia",
          "none",
          "Eastern Europe"
         ]
        },
        {
         "hoverinfo": "text",
         "hovertext": [
          "<b>Topic 4</b><br>Words: of, the, and, to, in",
          "<b>Topic 4</b><br>Words: tunisia, algeria, and, international, the",
          "<b>Topic 4</b><br>Words: macedonia, malta, and, the, of",
          "<b>Topic 4</b><br>Words: european, peace, community, must, the",
          "<b>Topic 4</b><br>Words: the, to, of, and, in",
          "<b>Topic 4</b><br>Words: asean, malaysia, in, of, and",
          "<b>Topic 4</b><br>Words: we, do, have, that, but",
          "<b>Topic 4</b><br>Words: korean, reunification, peninsula, nuclear, korea",
          "<b>Topic 4</b><br>Words: tuvalu, sids, gcf, climate, change",
          "<b>Topic 4</b><br>Words: kazakhstan, water, tajikistan, cis, aral",
          "<b>Topic 4</b><br>Words: arab, israel, the, and, of",
          "<b>Topic 4</b><br>Words: islands, micronesia, island, marshall, our",
          "<b>Topic 4</b><br>Words: latvia, ireland, the, russian, to",
          "<b>Topic 4</b><br>Words: nepal, and, of, the, we",
          "<b>Topic 4</b><br>Words: papua, fijian, fiji, guinea, our",
          "<b>Topic 4</b><br>Words: ukraine, the, of, law, and"
         ],
         "marker": {
          "color": "#D55E00"
         },
         "name": "4_tanzania_republic_zimbabwe_nations",
         "orientation": "h",
         "type": "bar",
         "visible": "legendonly",
         "x": [
          19,
          2,
          9,
          2,
          25,
          5,
          2,
          1,
          1,
          2,
          10,
          4,
          5,
          4,
          2,
          3
         ],
         "y": [
          "Latin America and the Caribbean",
          "Northern Africa",
          "Southern Europe",
          "Western Europe",
          "Sub-Saharan Africa",
          "South-eastern Asia",
          "Northern America",
          "Eastern Asia",
          "Polynesia",
          "Central Asia",
          "Western Asia",
          "Micronesia",
          "Northern Europe",
          "Southern Asia",
          "Melanesia",
          "Eastern Europe"
         ]
        },
        {
         "hoverinfo": "text",
         "hovertext": [
          "<b>Topic 5</b><br>Words: zealand, timor, council, new, east",
          "<b>Topic 5</b><br>Words: we, that, and, to, the",
          "<b>Topic 5</b><br>Words: tunisia, tunisian, and, to, all",
          "<b>Topic 5</b><br>Words: marino, slovenia, portugal, water, san",
          "<b>Topic 5</b><br>Words: we, that, to, are, our",
          "<b>Topic 5</b><br>Words: and, to, we, in, the",
          "<b>Topic 5</b><br>Words: burma, their, to, and, of",
          "<b>Topic 5</b><br>Words: canada, we, that, children, is",
          "<b>Topic 5</b><br>Words: chinese, china, international, security, taiwan",
          "<b>Topic 5</b><br>Words: tuvalu, climate, emissions, change, bali",
          "<b>Topic 5</b><br>Words: iran, arab, israel, rouhani, that",
          "<b>Topic 5</b><br>Words: latvia, we, must, be, have",
          "<b>Topic 5</b><br>Words: muslims, what, afghanistan, that, and",
          "<b>Topic 5</b><br>Words: we, it, in, that, of",
          "<b>Topic 5</b><br>Words: czech, united, eu, the, atomic"
         ],
         "marker": {
          "color": "#0072B2"
         },
         "name": "5_terrorists_terrorism_terrorist_iraq",
         "orientation": "h",
         "type": "bar",
         "visible": "legendonly",
         "x": [
          1,
          19,
          3,
          3,
          3,
          20,
          3,
          2,
          1,
          1,
          8,
          7,
          5,
          3,
          4
         ],
         "y": [
          "Australia and New Zealand",
          "Latin America and the Caribbean",
          "Northern Africa",
          "Southern Europe",
          "Western Europe",
          "Sub-Saharan Africa",
          "South-eastern Asia",
          "Northern America",
          "Eastern Asia",
          "Polynesia",
          "Western Asia",
          "Northern Europe",
          "Southern Asia",
          "none",
          "Eastern Europe"
         ]
        },
        {
         "hoverinfo": "text",
         "hovertext": [
          "<b>Topic 6</b><br>Words: the, which, of, in, to",
          "<b>Topic 6</b><br>Words: which, to, the, of, tunisia",
          "<b>Topic 6</b><br>Words: the, of, to, in, we",
          "<b>Topic 6</b><br>Words: europe, which, not, european, it",
          "<b>Topic 6</b><br>Words: the, of, in, to, that",
          "<b>Topic 6</b><br>Words: myanmar, rakhine, in, the, be",
          "<b>Topic 6</b><br>Words: japan, this, the, it, nuclear",
          "<b>Topic 6</b><br>Words: kazakstan, asian, asia, central, should",
          "<b>Topic 6</b><br>Words: the, which, in, of, to",
          "<b>Topic 6</b><br>Words: denmark, european, energy, latvia, union",
          "<b>Topic 6</b><br>Words: afghanistan, sri, lanka, of, the",
          "<b>Topic 6</b><br>Words: german, the, of, in, is",
          "<b>Topic 6</b><br>Words: papua, vanuatu, guinea, government, new",
          "<b>Topic 6</b><br>Words: bulgaria, european, ukrainian, the, of"
         ],
         "marker": {
          "color": "#CC79A7"
         },
         "name": "6_luxembourg_general_council_nations",
         "orientation": "h",
         "type": "bar",
         "visible": "legendonly",
         "x": [
          14,
          4,
          5,
          1,
          16,
          8,
          3,
          1,
          9,
          4,
          7,
          5,
          2,
          2
         ],
         "y": [
          "Latin America and the Caribbean",
          "Northern Africa",
          "Southern Europe",
          "Western Europe",
          "Sub-Saharan Africa",
          "South-eastern Asia",
          "Eastern Asia",
          "Central Asia",
          "Western Asia",
          "Northern Europe",
          "Southern Asia",
          "none",
          "Melanesia",
          "Eastern Europe"
         ]
        },
        {
         "hoverinfo": "text",
         "hovertext": [
          "<b>Topic 7</b><br>Words: australia, we, new, aliir, to",
          "<b>Topic 7</b><br>Words: to, and, the, we, of",
          "<b>Topic 7</b><br>Words: morocco, pandemic, covid, 19, mohammed",
          "<b>Topic 7</b><br>Words: herzegovina, bosnia, and, european, pandemic",
          "<b>Topic 7</b><br>Words: europe, the, for, we, of",
          "<b>Topic 7</b><br>Words: the, and, to, of, countries",
          "<b>Topic 7</b><br>Words: malaysia, the, myanmar, to, of",
          "<b>Topic 7</b><br>Words: united, nations, states, this, to",
          "<b>Topic 7</b><br>Words: turkmenistan, kazakhstan, un, caspian, cooperation",
          "<b>Topic 7</b><br>Words: arab, iran, aggression, and, international",
          "<b>Topic 7</b><br>Words: kiribati, family, seafarers, covid, our",
          "<b>Topic 7</b><br>Words: ireland, irish, lithuania, in, the",
          "<b>Topic 7</b><br>Words: bangladesh, maldives, and, the, of",
          "<b>Topic 7</b><br>Words: of, the, in, we, to",
          "<b>Topic 7</b><br>Words: papua, guinea, pacific, new, bougainville",
          "<b>Topic 7</b><br>Words: czech, hungarian, republic, international, europe"
         ],
         "marker": {
          "color": "#E69F00"
         },
         "name": "7_zambia_africa_african_namibia",
         "orientation": "h",
         "type": "bar",
         "visible": "legendonly",
         "x": [
          3,
          10,
          1,
          7,
          4,
          24,
          6,
          2,
          2,
          5,
          1,
          2,
          6,
          4,
          1,
          2
         ],
         "y": [
          "Australia and New Zealand",
          "Latin America and the Caribbean",
          "Northern Africa",
          "Southern Europe",
          "Western Europe",
          "Sub-Saharan Africa",
          "South-eastern Asia",
          "Northern America",
          "Central Asia",
          "Western Asia",
          "Micronesia",
          "Northern Europe",
          "Southern Asia",
          "none",
          "Melanesia",
          "Eastern Europe"
         ]
        },
        {
         "hoverinfo": "text",
         "hovertext": [
          "<b>Topic 8</b><br>Words: australia, australian, nations, vietnam, and",
          "<b>Topic 8</b><br>Words: of, the, and, we, that",
          "<b>Topic 8</b><br>Words: the, united, of, its, and",
          "<b>Topic 8</b><br>Words: their, peoples, imperialists, and, imperialist",
          "<b>Topic 8</b><br>Words: are, france, be, the, in",
          "<b>Topic 8</b><br>Words: and, the, of, nations, to",
          "<b>Topic 8</b><br>Words: indonesia, global, development, nations, united",
          "<b>Topic 8</b><br>Words: improvements, assembly, ceasefire, committee, new",
          "<b>Topic 8</b><br>Words: should, peace, united, nations, china",
          "<b>Topic 8</b><br>Words: tajikistan, sustainable, water, goals, development",
          "<b>Topic 8</b><br>Words: and, the, of, to, its",
          "<b>Topic 8</b><br>Words: islands, pacific, marshall, kigali, island",
          "<b>Topic 8</b><br>Words: ireland, nations, we, united, and",
          "<b>Topic 8</b><br>Words: pakistan, and, nations, we, our",
          "<b>Topic 8</b><br>Words: world, of, nations, this, united",
          "<b>Topic 8</b><br>Words: solomon, islands, pacific, papua, our",
          "<b>Topic 8</b><br>Words: socialist, united, of, the, nations"
         ],
         "marker": {
          "color": "#56B4E9"
         },
         "name": "8_freitas_amaral_nations_general",
         "orientation": "h",
         "type": "bar",
         "visible": "legendonly",
         "x": [
          1,
          14,
          5,
          4,
          3,
          14,
          2,
          1,
          2,
          1,
          12,
          2,
          5,
          5,
          1,
          1,
          4
         ],
         "y": [
          "Australia and New Zealand",
          "Latin America and the Caribbean",
          "Northern Africa",
          "Southern Europe",
          "Western Europe",
          "Sub-Saharan Africa",
          "South-eastern Asia",
          "Northern America",
          "Eastern Asia",
          "Central Asia",
          "Western Asia",
          "Micronesia",
          "Northern Europe",
          "Southern Asia",
          "none",
          "Melanesia",
          "Eastern Europe"
         ]
        },
        {
         "hoverinfo": "text",
         "hovertext": [
          "<b>Topic 9</b><br>Words: australia, australian, some, this, in",
          "<b>Topic 9</b><br>Words: the, of, in, and, to",
          "<b>Topic 9</b><br>Words: international, the, libyan, jamahiriya, and",
          "<b>Topic 9</b><br>Words: which, has, to, for, of",
          "<b>Topic 9</b><br>Words: netherlands, to, in, this, the",
          "<b>Topic 9</b><br>Words: the, of, south, to, in",
          "<b>Topic 9</b><br>Words: malaysia, the, and, countries, of",
          "<b>Topic 9</b><br>Words: united, nations, unanimity, the, of",
          "<b>Topic 9</b><br>Words: israel, and, the, of, in",
          "<b>Topic 9</b><br>Words: in, nations, council, it, the",
          "<b>Topic 9</b><br>Words: afghanistan, the, and, of, to",
          "<b>Topic 9</b><br>Words: is, soviet, the, on, to",
          "<b>Topic 9</b><br>Words: fiji, papua, pacific, guinea, nuclear",
          "<b>Topic 9</b><br>Words: of, the, states, and, in"
         ],
         "marker": {
          "color": "#009E73"
         },
         "name": "9_malaysia_general_secretary_government",
         "orientation": "h",
         "type": "bar",
         "visible": "legendonly",
         "x": [
          1,
          16,
          3,
          1,
          2,
          19,
          6,
          2,
          8,
          3,
          7,
          3,
          2,
          4
         ],
         "y": [
          "Australia and New Zealand",
          "Latin America and the Caribbean",
          "Northern Africa",
          "Southern Europe",
          "Western Europe",
          "Sub-Saharan Africa",
          "South-eastern Asia",
          "Northern America",
          "Western Asia",
          "Northern Europe",
          "Southern Asia",
          "none",
          "Melanesia",
          "Eastern Europe"
         ]
        },
        {
         "hoverinfo": "text",
         "hovertext": [
          "<b>Topic 10</b><br>Words: australia, australians, debt, trade, hayden",
          "<b>Topic 10</b><br>Words: and, of, the, we, that",
          "<b>Topic 10</b><br>Words: the, libya, and, of, to",
          "<b>Topic 10</b><br>Words: modernity, montaigne, is, it, religious",
          "<b>Topic 10</b><br>Words: had, zeeland, europe, van, belgium",
          "<b>Topic 10</b><br>Words: to, the, and, in, of",
          "<b>Topic 10</b><br>Words: nam, viet, kampuchea, vietnamese, cambodia",
          "<b>Topic 10</b><br>Words: canada, 1987, soviet, in, we",
          "<b>Topic 10</b><br>Words: mongolian, region, nuclear, strengthening, of",
          "<b>Topic 10</b><br>Words: tuvalu, sids, mdgs, mdg, climate",
          "<b>Topic 10</b><br>Words: and, the, of, international, in",
          "<b>Topic 10</b><br>Words: sustainable, climate, leadership, palau, we",
          "<b>Topic 10</b><br>Words: denmark, development, finland, and, for",
          "<b>Topic 10</b><br>Words: lanka, sri, development, the, in",
          "<b>Topic 10</b><br>Words: syria, chemical, european, we, is",
          "<b>Topic 10</b><br>Words: the, of, and, international, on"
         ],
         "marker": {
          "color": "#F0E442"
         },
         "name": "10_caputo_general_conference_nations",
         "orientation": "h",
         "type": "bar",
         "visible": "legendonly",
         "x": [
          1,
          16,
          5,
          2,
          3,
          14,
          5,
          2,
          1,
          1,
          7,
          2,
          5,
          5,
          1,
          7
         ],
         "y": [
          "Australia and New Zealand",
          "Latin America and the Caribbean",
          "Northern Africa",
          "Southern Europe",
          "Western Europe",
          "Sub-Saharan Africa",
          "South-eastern Asia",
          "Northern America",
          "Eastern Asia",
          "Polynesia",
          "Western Asia",
          "Micronesia",
          "Northern Europe",
          "Southern Asia",
          "none",
          "Eastern Europe"
         ]
        },
        {
         "hoverinfo": "text",
         "hovertext": [
          "<b>Topic 11</b><br>Words: peking, australia, viet, nam, asia",
          "<b>Topic 11</b><br>Words: colombia, that, of, the, to",
          "<b>Topic 11</b><br>Words: morocco, egypt, colombia, and, the",
          "<b>Topic 11</b><br>Words: portugal, slovenia, colombia, the, of",
          "<b>Topic 11</b><br>Words: austria, colombia, of, europe, the",
          "<b>Topic 11</b><br>Words: colombia, of, the, which, to",
          "<b>Topic 11</b><br>Words: japan, mongolia, colombia, to, will",
          "<b>Topic 11</b><br>Words: tonga, ncds, irena, elected, definition",
          "<b>Topic 11</b><br>Words: kyrgyzstan, odihr, nomad, mountain, kyrgyz",
          "<b>Topic 11</b><br>Words: cyprus, problem, turkey, colombia, to",
          "<b>Topic 11</b><br>Words: denmark, colombia, must, we, to",
          "<b>Topic 11</b><br>Words: afghanistan, maldives, colombia, our, and",
          "<b>Topic 11</b><br>Words: relations, favourable, it, colombia, that",
          "<b>Topic 11</b><br>Words: solomon, islands, papua, agreement, taiwan",
          "<b>Topic 11</b><br>Words: colombia, of, the, and, in"
         ],
         "marker": {
          "color": "#D55E00"
         },
         "name": "11_colombia_colombian_nations_country",
         "orientation": "h",
         "type": "bar",
         "visible": "legendonly",
         "x": [
          1,
          19,
          4,
          4,
          3,
          16,
          2,
          1,
          1,
          3,
          7,
          6,
          1,
          1,
          6
         ],
         "y": [
          "Australia and New Zealand",
          "Latin America and the Caribbean",
          "Northern Africa",
          "Southern Europe",
          "Western Europe",
          "Sub-Saharan Africa",
          "Eastern Asia",
          "Polynesia",
          "Central Asia",
          "Western Asia",
          "Northern Europe",
          "Southern Asia",
          "none",
          "Melanesia",
          "Eastern Europe"
         ]
        },
        {
         "hoverinfo": "text",
         "hovertext": [
          "<b>Topic 12</b><br>Words: panama, which, of, the, that",
          "<b>Topic 12</b><br>Words: panama, egypt, canal, the, and",
          "<b>Topic 12</b><br>Words: panama, of, the, which, and",
          "<b>Topic 12</b><br>Words: panama, canal, the, which, of",
          "<b>Topic 12</b><br>Words: panama, of, the, which, to",
          "<b>Topic 12</b><br>Words: panama, british, manila, of, the",
          "<b>Topic 12</b><br>Words: panama, korean, korea, mongolia, reunification",
          "<b>Topic 12</b><br>Words: tonga, panama, pacific, covid, 19",
          "<b>Topic 12</b><br>Words: panama, azerbaijan, of, and, the",
          "<b>Topic 12</b><br>Words: nauru, panama, pacific, bless, laundering",
          "<b>Topic 12</b><br>Words: panama, canal, the, we, of",
          "<b>Topic 12</b><br>Words: panama, india, oil, of, the",
          "<b>Topic 12</b><br>Words: russia, lithuania, ukrainian, ukraine, gentlemen",
          "<b>Topic 12</b><br>Words: panama, pacific, kuwait, south, our",
          "<b>Topic 12</b><br>Words: romanian, panama, german, germany, states"
         ],
         "marker": {
          "color": "#0072B2"
         },
         "name": "12_panamanian_panama_panamanians_nations",
         "orientation": "h",
         "type": "bar",
         "visible": "legendonly",
         "x": [
          18,
          2,
          7,
          4,
          14,
          4,
          2,
          2,
          7,
          1,
          7,
          4,
          1,
          1,
          1
         ],
         "y": [
          "Latin America and the Caribbean",
          "Northern Africa",
          "Southern Europe",
          "Western Europe",
          "Sub-Saharan Africa",
          "South-eastern Asia",
          "Eastern Asia",
          "Polynesia",
          "Western Asia",
          "Micronesia",
          "Northern Europe",
          "Southern Asia",
          "none",
          "Melanesia",
          "Eastern Europe"
         ]
        },
        {
         "hoverinfo": "text",
         "hovertext": [
          "<b>Topic 13</b><br>Words: and, our, that, we, to",
          "<b>Topic 13</b><br>Words: morocco, and, our, to, region",
          "<b>Topic 13</b><br>Words: malta, mediterranean, and, in, greece",
          "<b>Topic 13</b><br>Words: liechtenstein, our, we, in, that",
          "<b>Topic 13</b><br>Words: and, to, the, international, of",
          "<b>Topic 13</b><br>Words: vietnamese, and, to, kampuchea, that",
          "<b>Topic 13</b><br>Words: china, japan, japanese, girls, global",
          "<b>Topic 13</b><br>Words: pacific, caledonia, nuclear, we, year",
          "<b>Topic 13</b><br>Words: azerbaijan, international, efforts, and, resolutions",
          "<b>Topic 13</b><br>Words: climate, palau, ocean, micronesia, marine",
          "<b>Topic 13</b><br>Words: norway, we, to, and, our",
          "<b>Topic 13</b><br>Words: sri, lanka, pakistan, and, global",
          "<b>Topic 13</b><br>Words: solomon, islands, pacific, our, tuna",
          "<b>Topic 13</b><br>Words: moldova, poland, bulgaria, transnistrian, republic"
         ],
         "marker": {
          "color": "#CC79A7"
         },
         "name": "13_jeremić_president_republic_arab",
         "orientation": "h",
         "type": "bar",
         "visible": "legendonly",
         "x": [
          23,
          2,
          6,
          2,
          16,
          4,
          2,
          1,
          3,
          2,
          6,
          2,
          2,
          4
         ],
         "y": [
          "Latin America and the Caribbean",
          "Northern Africa",
          "Southern Europe",
          "Western Europe",
          "Sub-Saharan Africa",
          "South-eastern Asia",
          "Eastern Asia",
          "Polynesia",
          "Western Asia",
          "Micronesia",
          "Northern Europe",
          "Southern Asia",
          "Melanesia",
          "Eastern Europe"
         ]
        },
        {
         "hoverinfo": "text",
         "hovertext": [
          "<b>Topic 14</b><br>Words: zealand, be, there, in, nations",
          "<b>Topic 14</b><br>Words: the, of, in, to, and",
          "<b>Topic 14</b><br>Words: algerian, government, france, french, had",
          "<b>Topic 14</b><br>Words: the, of, states, and, united",
          "<b>Topic 14</b><br>Words: is, in, switzerland, human, be",
          "<b>Topic 14</b><br>Words: our, the, to, we, development",
          "<b>Topic 14</b><br>Words: thailand, the, of, in, delegation",
          "<b>Topic 14</b><br>Words: states, united, near, that, this",
          "<b>Topic 14</b><br>Words: tuvalu, island, particularly, our, islands",
          "<b>Topic 14</b><br>Words: iraq, lebanon, the, to, and",
          "<b>Topic 14</b><br>Words: united, we, be, to, this",
          "<b>Topic 14</b><br>Words: we, this, of, the, in",
          "<b>Topic 14</b><br>Words: communism, taiwan, mainland, chinese, communists",
          "<b>Topic 14</b><br>Words: pacific, vanuatu, my, government, we",
          "<b>Topic 14</b><br>Words: united, states, the, of, czech"
         ],
         "marker": {
          "color": "#E69F00"
         },
         "name": "14_guyana_general_venezuela_nations",
         "orientation": "h",
         "type": "bar",
         "visible": "legendonly",
         "x": [
          2,
          17,
          3,
          5,
          5,
          11,
          5,
          1,
          1,
          6,
          3,
          4,
          1,
          3,
          7
         ],
         "y": [
          "Australia and New Zealand",
          "Latin America and the Caribbean",
          "Northern Africa",
          "Southern Europe",
          "Western Europe",
          "Sub-Saharan Africa",
          "South-eastern Asia",
          "Northern America",
          "Polynesia",
          "Western Asia",
          "Northern Europe",
          "Southern Asia",
          "none",
          "Melanesia",
          "Eastern Europe"
         ]
        },
        {
         "hoverinfo": "text",
         "hovertext": [
          "<b>Topic 15</b><br>Words: zealand, pacific, nuclear, south, treaty",
          "<b>Topic 15</b><br>Words: our, we, and, to, food",
          "<b>Topic 15</b><br>Words: international, and, to, that, millennium",
          "<b>Topic 15</b><br>Words: france, private, sector, is, to",
          "<b>Topic 15</b><br>Words: food, to, the, and, in",
          "<b>Topic 15</b><br>Words: millennium, nations, united, food, summit",
          "<b>Topic 15</b><br>Words: mongolia, nuclear, weapon, millennium, as",
          "<b>Topic 15</b><br>Words: tajikistan, kyrgyzstan, turkmenistan, kyrgyz, food",
          "<b>Topic 15</b><br>Words: israel, and, international, its, the",
          "<b>Topic 15</b><br>Words: pacific, nauru, island, forum, nations",
          "<b>Topic 15</b><br>Words: finland, development, security, council, food",
          "<b>Topic 15</b><br>Words: nepal, the, nations, international, and",
          "<b>Topic 15</b><br>Words: fiji, fijians, rotumans, communities, indigenous",
          "<b>Topic 15</b><br>Words: bulgaria, and, the, millennium, of"
         ],
         "marker": {
          "color": "#56B4E9"
         },
         "name": "15_democracy_general_brockmann_nations",
         "orientation": "h",
         "type": "bar",
         "visible": "legendonly",
         "x": [
          2,
          20,
          4,
          2,
          19,
          4,
          1,
          3,
          5,
          2,
          2,
          3,
          2,
          5
         ],
         "y": [
          "Australia and New Zealand",
          "Latin America and the Caribbean",
          "Northern Africa",
          "Western Europe",
          "Sub-Saharan Africa",
          "South-eastern Asia",
          "Eastern Asia",
          "Central Asia",
          "Western Asia",
          "Micronesia",
          "Northern Europe",
          "Southern Asia",
          "Melanesia",
          "Eastern Europe"
         ]
        },
        {
         "hoverinfo": "text",
         "hovertext": [
          "<b>Topic 16</b><br>Words: of, the, and, to, in",
          "<b>Topic 16</b><br>Words: egypt, the, of, its, and",
          "<b>Topic 16</b><br>Words: italy, in, of, the, to",
          "<b>Topic 16</b><br>Words: the, to, of, detente, that",
          "<b>Topic 16</b><br>Words: of, the, to, and, in",
          "<b>Topic 16</b><br>Words: countries, the, of, and, in",
          "<b>Topic 16</b><br>Words: reagan, strength, we, our, or",
          "<b>Topic 16</b><br>Words: mongolian, republic, of, states, the",
          "<b>Topic 16</b><br>Words: and, the, of, in, to",
          "<b>Topic 16</b><br>Words: norway, should, ten, in, the",
          "<b>Topic 16</b><br>Words: the, of, and, islamic, countries",
          "<b>Topic 16</b><br>Words: german, democratic, soviet, republic, union",
          "<b>Topic 16</b><br>Words: papua, pacific, guinea, new, countries",
          "<b>Topic 16</b><br>Words: of, the, in, international, nuclear"
         ],
         "marker": {
          "color": "#009E73"
         },
         "name": "16_opertti_republic_general_democratic",
         "orientation": "h",
         "type": "bar",
         "visible": "legendonly",
         "x": [
          14,
          3,
          2,
          3,
          22,
          5,
          1,
          1,
          9,
          2,
          4,
          2,
          2,
          3
         ],
         "y": [
          "Latin America and the Caribbean",
          "Northern Africa",
          "Southern Europe",
          "Western Europe",
          "Sub-Saharan Africa",
          "South-eastern Asia",
          "Northern America",
          "Eastern Asia",
          "Western Asia",
          "Northern Europe",
          "Southern Asia",
          "none",
          "Melanesia",
          "Eastern Europe"
         ]
        },
        {
         "hoverinfo": "text",
         "hovertext": [
          "<b>Topic 17</b><br>Words: australia, australian, treaty, issue, that",
          "<b>Topic 17</b><br>Words: the, of, to, in, and",
          "<b>Topic 17</b><br>Words: to, in, the, and, countries",
          "<b>Topic 17</b><br>Words: the, to, of, in, we",
          "<b>Topic 17</b><br>Words: to, we, effort, is, be",
          "<b>Topic 17</b><br>Words: to, the, of, and, in",
          "<b>Topic 17</b><br>Words: viet, nam, states, united, the",
          "<b>Topic 17</b><br>Words: we, to, that, nam, nuclear",
          "<b>Topic 17</b><br>Words: samoa, terrorism, work, meeting, small",
          "<b>Topic 17</b><br>Words: uzbekistan, afghanistan, terrorism, transport, central",
          "<b>Topic 17</b><br>Words: israel, arab, and, to, the",
          "<b>Topic 17</b><br>Words: atlantic, treaty, war, had, it",
          "<b>Topic 17</b><br>Words: viet, nam, ceylon, decade, that",
          "<b>Topic 17</b><br>Words: acheson, mao, american, tse, tung",
          "<b>Topic 17</b><br>Words: how, we, our, us, south",
          "<b>Topic 17</b><br>Words: poland, united, of, the, states"
         ],
         "marker": {
          "color": "#F0E442"
         },
         "name": "17_president_republic_kavan_timor",
         "orientation": "h",
         "type": "bar",
         "visible": "legendonly",
         "x": [
          1,
          18,
          2,
          4,
          2,
          19,
          3,
          3,
          1,
          1,
          7,
          2,
          1,
          2,
          1,
          4
         ],
         "y": [
          "Australia and New Zealand",
          "Latin America and the Caribbean",
          "Northern Africa",
          "Southern Europe",
          "Western Europe",
          "Sub-Saharan Africa",
          "South-eastern Asia",
          "Northern America",
          "Polynesia",
          "Central Asia",
          "Western Asia",
          "Northern Europe",
          "Southern Asia",
          "none",
          "Melanesia",
          "Eastern Europe"
         ]
        },
        {
         "hoverinfo": "text",
         "hovertext": [
          "<b>Topic 18</b><br>Words: and, our, to, of, panama",
          "<b>Topic 18</b><br>Words: zionist, arab, corporations, and, mines",
          "<b>Topic 18</b><br>Words: italy, spain, the, of, and",
          "<b>Topic 18</b><br>Words: netherlands, operation, co, on, nations",
          "<b>Topic 18</b><br>Words: to, zaire, the, and, of",
          "<b>Topic 18</b><br>Words: laos, indonesia, and, of, the",
          "<b>Topic 18</b><br>Words: states, we, united, nuclear, and",
          "<b>Topic 18</b><br>Words: korean, super, korea, countries, the",
          "<b>Topic 18</b><br>Words: uzbekistan, aral, seminar, are, of",
          "<b>Topic 18</b><br>Words: cyprus, turkish, turkey, the, and",
          "<b>Topic 18</b><br>Words: lithuania, nations, security, united, on",
          "<b>Topic 18</b><br>Words: nuclear, weapons, weapon, countries, to",
          "<b>Topic 18</b><br>Words: of, the, in, and, on",
          "<b>Topic 18</b><br>Words: solomon, islands, pacific, bougainville, forum",
          "<b>Topic 18</b><br>Words: peacekeeping, slovakia, operations, reform, financial"
         ],
         "marker": {
          "color": "#D55E00"
         },
         "name": "18_treki_general_crises_council",
         "orientation": "h",
         "type": "bar",
         "visible": "legendonly",
         "x": [
          20,
          1,
          3,
          1,
          16,
          4,
          1,
          2,
          1,
          8,
          2,
          2,
          5,
          1,
          1
         ],
         "y": [
          "Latin America and the Caribbean",
          "Northern Africa",
          "Southern Europe",
          "Western Europe",
          "Sub-Saharan Africa",
          "South-eastern Asia",
          "Northern America",
          "Eastern Asia",
          "Central Asia",
          "Western Asia",
          "Northern Europe",
          "Southern Asia",
          "none",
          "Melanesia",
          "Eastern Europe"
         ]
        },
        {
         "hoverinfo": "text",
         "hovertext": [
          "<b>Topic 19</b><br>Words: australia, zealand, our, global, we",
          "<b>Topic 19</b><br>Words: development, we, and, our, colombia",
          "<b>Topic 19</b><br>Words: morocco, kingdom, his, mohammed, majesty",
          "<b>Topic 19</b><br>Words: and, we, human, development, climate",
          "<b>Topic 19</b><br>Words: netherlands, climate, summer, development, we",
          "<b>Topic 19</b><br>Words: development, and, our, to, for",
          "<b>Topic 19</b><br>Words: pdr, muslims, lao, muslim, covid",
          "<b>Topic 19</b><br>Words: canada, we, our, hands, climate",
          "<b>Topic 19</b><br>Words: tonga, samoa, sustainable, development, pacific",
          "<b>Topic 19</b><br>Words: armenia, azerbaijan, israel, and, our",
          "<b>Topic 19</b><br>Words: kiribati, marshall, islands, our, un",
          "<b>Topic 19</b><br>Words: finland, climate, global, health, we",
          "<b>Topic 19</b><br>Words: maldives, nepal, and, we, for",
          "<b>Topic 19</b><br>Words: fiji, cop26, climate, zero, un",
          "<b>Topic 19</b><br>Words: slovakia, czech, romania, security, development"
         ],
         "marker": {
          "color": "#0072B2"
         },
         "name": "19_kutesa_republic_general_nations",
         "orientation": "h",
         "type": "bar",
         "visible": "legendonly",
         "x": [
          4,
          7,
          1,
          6,
          2,
          20,
          2,
          1,
          3,
          8,
          4,
          1,
          4,
          1,
          4
         ],
         "y": [
          "Australia and New Zealand",
          "Latin America and the Caribbean",
          "Northern Africa",
          "Southern Europe",
          "Western Europe",
          "Sub-Saharan Africa",
          "South-eastern Asia",
          "Northern America",
          "Polynesia",
          "Western Asia",
          "Micronesia",
          "Northern Europe",
          "Southern Asia",
          "Melanesia",
          "Eastern Europe"
         ]
        }
       ],
       "layout": {
        "height": 900,
        "hoverlabel": {
         "bgcolor": "white",
         "font": {
          "family": "Rockwell",
          "size": 16
         }
        },
        "legend": {
         "title": {
          "text": "<b>Global Topic Representation"
         }
        },
        "template": {
         "data": {
          "bar": [
           {
            "error_x": {
             "color": "rgb(36,36,36)"
            },
            "error_y": {
             "color": "rgb(36,36,36)"
            },
            "marker": {
             "line": {
              "color": "white",
              "width": 0.5
             },
             "pattern": {
              "fillmode": "overlay",
              "size": 10,
              "solidity": 0.2
             }
            },
            "type": "bar"
           }
          ],
          "barpolar": [
           {
            "marker": {
             "line": {
              "color": "white",
              "width": 0.5
             },
             "pattern": {
              "fillmode": "overlay",
              "size": 10,
              "solidity": 0.2
             }
            },
            "type": "barpolar"
           }
          ],
          "carpet": [
           {
            "aaxis": {
             "endlinecolor": "rgb(36,36,36)",
             "gridcolor": "white",
             "linecolor": "white",
             "minorgridcolor": "white",
             "startlinecolor": "rgb(36,36,36)"
            },
            "baxis": {
             "endlinecolor": "rgb(36,36,36)",
             "gridcolor": "white",
             "linecolor": "white",
             "minorgridcolor": "white",
             "startlinecolor": "rgb(36,36,36)"
            },
            "type": "carpet"
           }
          ],
          "choropleth": [
           {
            "colorbar": {
             "outlinewidth": 1,
             "tickcolor": "rgb(36,36,36)",
             "ticks": "outside"
            },
            "type": "choropleth"
           }
          ],
          "contour": [
           {
            "colorbar": {
             "outlinewidth": 1,
             "tickcolor": "rgb(36,36,36)",
             "ticks": "outside"
            },
            "colorscale": [
             [
              0,
              "#440154"
             ],
             [
              0.1111111111111111,
              "#482878"
             ],
             [
              0.2222222222222222,
              "#3e4989"
             ],
             [
              0.3333333333333333,
              "#31688e"
             ],
             [
              0.4444444444444444,
              "#26828e"
             ],
             [
              0.5555555555555556,
              "#1f9e89"
             ],
             [
              0.6666666666666666,
              "#35b779"
             ],
             [
              0.7777777777777778,
              "#6ece58"
             ],
             [
              0.8888888888888888,
              "#b5de2b"
             ],
             [
              1,
              "#fde725"
             ]
            ],
            "type": "contour"
           }
          ],
          "contourcarpet": [
           {
            "colorbar": {
             "outlinewidth": 1,
             "tickcolor": "rgb(36,36,36)",
             "ticks": "outside"
            },
            "type": "contourcarpet"
           }
          ],
          "heatmap": [
           {
            "colorbar": {
             "outlinewidth": 1,
             "tickcolor": "rgb(36,36,36)",
             "ticks": "outside"
            },
            "colorscale": [
             [
              0,
              "#440154"
             ],
             [
              0.1111111111111111,
              "#482878"
             ],
             [
              0.2222222222222222,
              "#3e4989"
             ],
             [
              0.3333333333333333,
              "#31688e"
             ],
             [
              0.4444444444444444,
              "#26828e"
             ],
             [
              0.5555555555555556,
              "#1f9e89"
             ],
             [
              0.6666666666666666,
              "#35b779"
             ],
             [
              0.7777777777777778,
              "#6ece58"
             ],
             [
              0.8888888888888888,
              "#b5de2b"
             ],
             [
              1,
              "#fde725"
             ]
            ],
            "type": "heatmap"
           }
          ],
          "heatmapgl": [
           {
            "colorbar": {
             "outlinewidth": 1,
             "tickcolor": "rgb(36,36,36)",
             "ticks": "outside"
            },
            "colorscale": [
             [
              0,
              "#440154"
             ],
             [
              0.1111111111111111,
              "#482878"
             ],
             [
              0.2222222222222222,
              "#3e4989"
             ],
             [
              0.3333333333333333,
              "#31688e"
             ],
             [
              0.4444444444444444,
              "#26828e"
             ],
             [
              0.5555555555555556,
              "#1f9e89"
             ],
             [
              0.6666666666666666,
              "#35b779"
             ],
             [
              0.7777777777777778,
              "#6ece58"
             ],
             [
              0.8888888888888888,
              "#b5de2b"
             ],
             [
              1,
              "#fde725"
             ]
            ],
            "type": "heatmapgl"
           }
          ],
          "histogram": [
           {
            "marker": {
             "line": {
              "color": "white",
              "width": 0.6
             }
            },
            "type": "histogram"
           }
          ],
          "histogram2d": [
           {
            "colorbar": {
             "outlinewidth": 1,
             "tickcolor": "rgb(36,36,36)",
             "ticks": "outside"
            },
            "colorscale": [
             [
              0,
              "#440154"
             ],
             [
              0.1111111111111111,
              "#482878"
             ],
             [
              0.2222222222222222,
              "#3e4989"
             ],
             [
              0.3333333333333333,
              "#31688e"
             ],
             [
              0.4444444444444444,
              "#26828e"
             ],
             [
              0.5555555555555556,
              "#1f9e89"
             ],
             [
              0.6666666666666666,
              "#35b779"
             ],
             [
              0.7777777777777778,
              "#6ece58"
             ],
             [
              0.8888888888888888,
              "#b5de2b"
             ],
             [
              1,
              "#fde725"
             ]
            ],
            "type": "histogram2d"
           }
          ],
          "histogram2dcontour": [
           {
            "colorbar": {
             "outlinewidth": 1,
             "tickcolor": "rgb(36,36,36)",
             "ticks": "outside"
            },
            "colorscale": [
             [
              0,
              "#440154"
             ],
             [
              0.1111111111111111,
              "#482878"
             ],
             [
              0.2222222222222222,
              "#3e4989"
             ],
             [
              0.3333333333333333,
              "#31688e"
             ],
             [
              0.4444444444444444,
              "#26828e"
             ],
             [
              0.5555555555555556,
              "#1f9e89"
             ],
             [
              0.6666666666666666,
              "#35b779"
             ],
             [
              0.7777777777777778,
              "#6ece58"
             ],
             [
              0.8888888888888888,
              "#b5de2b"
             ],
             [
              1,
              "#fde725"
             ]
            ],
            "type": "histogram2dcontour"
           }
          ],
          "mesh3d": [
           {
            "colorbar": {
             "outlinewidth": 1,
             "tickcolor": "rgb(36,36,36)",
             "ticks": "outside"
            },
            "type": "mesh3d"
           }
          ],
          "parcoords": [
           {
            "line": {
             "colorbar": {
              "outlinewidth": 1,
              "tickcolor": "rgb(36,36,36)",
              "ticks": "outside"
             }
            },
            "type": "parcoords"
           }
          ],
          "pie": [
           {
            "automargin": true,
            "type": "pie"
           }
          ],
          "scatter": [
           {
            "fillpattern": {
             "fillmode": "overlay",
             "size": 10,
             "solidity": 0.2
            },
            "type": "scatter"
           }
          ],
          "scatter3d": [
           {
            "line": {
             "colorbar": {
              "outlinewidth": 1,
              "tickcolor": "rgb(36,36,36)",
              "ticks": "outside"
             }
            },
            "marker": {
             "colorbar": {
              "outlinewidth": 1,
              "tickcolor": "rgb(36,36,36)",
              "ticks": "outside"
             }
            },
            "type": "scatter3d"
           }
          ],
          "scattercarpet": [
           {
            "marker": {
             "colorbar": {
              "outlinewidth": 1,
              "tickcolor": "rgb(36,36,36)",
              "ticks": "outside"
             }
            },
            "type": "scattercarpet"
           }
          ],
          "scattergeo": [
           {
            "marker": {
             "colorbar": {
              "outlinewidth": 1,
              "tickcolor": "rgb(36,36,36)",
              "ticks": "outside"
             }
            },
            "type": "scattergeo"
           }
          ],
          "scattergl": [
           {
            "marker": {
             "colorbar": {
              "outlinewidth": 1,
              "tickcolor": "rgb(36,36,36)",
              "ticks": "outside"
             }
            },
            "type": "scattergl"
           }
          ],
          "scattermapbox": [
           {
            "marker": {
             "colorbar": {
              "outlinewidth": 1,
              "tickcolor": "rgb(36,36,36)",
              "ticks": "outside"
             }
            },
            "type": "scattermapbox"
           }
          ],
          "scatterpolar": [
           {
            "marker": {
             "colorbar": {
              "outlinewidth": 1,
              "tickcolor": "rgb(36,36,36)",
              "ticks": "outside"
             }
            },
            "type": "scatterpolar"
           }
          ],
          "scatterpolargl": [
           {
            "marker": {
             "colorbar": {
              "outlinewidth": 1,
              "tickcolor": "rgb(36,36,36)",
              "ticks": "outside"
             }
            },
            "type": "scatterpolargl"
           }
          ],
          "scatterternary": [
           {
            "marker": {
             "colorbar": {
              "outlinewidth": 1,
              "tickcolor": "rgb(36,36,36)",
              "ticks": "outside"
             }
            },
            "type": "scatterternary"
           }
          ],
          "surface": [
           {
            "colorbar": {
             "outlinewidth": 1,
             "tickcolor": "rgb(36,36,36)",
             "ticks": "outside"
            },
            "colorscale": [
             [
              0,
              "#440154"
             ],
             [
              0.1111111111111111,
              "#482878"
             ],
             [
              0.2222222222222222,
              "#3e4989"
             ],
             [
              0.3333333333333333,
              "#31688e"
             ],
             [
              0.4444444444444444,
              "#26828e"
             ],
             [
              0.5555555555555556,
              "#1f9e89"
             ],
             [
              0.6666666666666666,
              "#35b779"
             ],
             [
              0.7777777777777778,
              "#6ece58"
             ],
             [
              0.8888888888888888,
              "#b5de2b"
             ],
             [
              1,
              "#fde725"
             ]
            ],
            "type": "surface"
           }
          ],
          "table": [
           {
            "cells": {
             "fill": {
              "color": "rgb(237,237,237)"
             },
             "line": {
              "color": "white"
             }
            },
            "header": {
             "fill": {
              "color": "rgb(217,217,217)"
             },
             "line": {
              "color": "white"
             }
            },
            "type": "table"
           }
          ]
         },
         "layout": {
          "annotationdefaults": {
           "arrowhead": 0,
           "arrowwidth": 1
          },
          "autotypenumbers": "strict",
          "coloraxis": {
           "colorbar": {
            "outlinewidth": 1,
            "tickcolor": "rgb(36,36,36)",
            "ticks": "outside"
           }
          },
          "colorscale": {
           "diverging": [
            [
             0,
             "rgb(103,0,31)"
            ],
            [
             0.1,
             "rgb(178,24,43)"
            ],
            [
             0.2,
             "rgb(214,96,77)"
            ],
            [
             0.3,
             "rgb(244,165,130)"
            ],
            [
             0.4,
             "rgb(253,219,199)"
            ],
            [
             0.5,
             "rgb(247,247,247)"
            ],
            [
             0.6,
             "rgb(209,229,240)"
            ],
            [
             0.7,
             "rgb(146,197,222)"
            ],
            [
             0.8,
             "rgb(67,147,195)"
            ],
            [
             0.9,
             "rgb(33,102,172)"
            ],
            [
             1,
             "rgb(5,48,97)"
            ]
           ],
           "sequential": [
            [
             0,
             "#440154"
            ],
            [
             0.1111111111111111,
             "#482878"
            ],
            [
             0.2222222222222222,
             "#3e4989"
            ],
            [
             0.3333333333333333,
             "#31688e"
            ],
            [
             0.4444444444444444,
             "#26828e"
            ],
            [
             0.5555555555555556,
             "#1f9e89"
            ],
            [
             0.6666666666666666,
             "#35b779"
            ],
            [
             0.7777777777777778,
             "#6ece58"
            ],
            [
             0.8888888888888888,
             "#b5de2b"
            ],
            [
             1,
             "#fde725"
            ]
           ],
           "sequentialminus": [
            [
             0,
             "#440154"
            ],
            [
             0.1111111111111111,
             "#482878"
            ],
            [
             0.2222222222222222,
             "#3e4989"
            ],
            [
             0.3333333333333333,
             "#31688e"
            ],
            [
             0.4444444444444444,
             "#26828e"
            ],
            [
             0.5555555555555556,
             "#1f9e89"
            ],
            [
             0.6666666666666666,
             "#35b779"
            ],
            [
             0.7777777777777778,
             "#6ece58"
            ],
            [
             0.8888888888888888,
             "#b5de2b"
            ],
            [
             1,
             "#fde725"
            ]
           ]
          },
          "colorway": [
           "#1F77B4",
           "#FF7F0E",
           "#2CA02C",
           "#D62728",
           "#9467BD",
           "#8C564B",
           "#E377C2",
           "#7F7F7F",
           "#BCBD22",
           "#17BECF"
          ],
          "font": {
           "color": "rgb(36,36,36)"
          },
          "geo": {
           "bgcolor": "white",
           "lakecolor": "white",
           "landcolor": "white",
           "showlakes": true,
           "showland": true,
           "subunitcolor": "white"
          },
          "hoverlabel": {
           "align": "left"
          },
          "hovermode": "closest",
          "mapbox": {
           "style": "light"
          },
          "paper_bgcolor": "white",
          "plot_bgcolor": "white",
          "polar": {
           "angularaxis": {
            "gridcolor": "rgb(232,232,232)",
            "linecolor": "rgb(36,36,36)",
            "showgrid": false,
            "showline": true,
            "ticks": "outside"
           },
           "bgcolor": "white",
           "radialaxis": {
            "gridcolor": "rgb(232,232,232)",
            "linecolor": "rgb(36,36,36)",
            "showgrid": false,
            "showline": true,
            "ticks": "outside"
           }
          },
          "scene": {
           "xaxis": {
            "backgroundcolor": "white",
            "gridcolor": "rgb(232,232,232)",
            "gridwidth": 2,
            "linecolor": "rgb(36,36,36)",
            "showbackground": true,
            "showgrid": false,
            "showline": true,
            "ticks": "outside",
            "zeroline": false,
            "zerolinecolor": "rgb(36,36,36)"
           },
           "yaxis": {
            "backgroundcolor": "white",
            "gridcolor": "rgb(232,232,232)",
            "gridwidth": 2,
            "linecolor": "rgb(36,36,36)",
            "showbackground": true,
            "showgrid": false,
            "showline": true,
            "ticks": "outside",
            "zeroline": false,
            "zerolinecolor": "rgb(36,36,36)"
           },
           "zaxis": {
            "backgroundcolor": "white",
            "gridcolor": "rgb(232,232,232)",
            "gridwidth": 2,
            "linecolor": "rgb(36,36,36)",
            "showbackground": true,
            "showgrid": false,
            "showline": true,
            "ticks": "outside",
            "zeroline": false,
            "zerolinecolor": "rgb(36,36,36)"
           }
          },
          "shapedefaults": {
           "fillcolor": "black",
           "line": {
            "width": 0
           },
           "opacity": 0.3
          },
          "ternary": {
           "aaxis": {
            "gridcolor": "rgb(232,232,232)",
            "linecolor": "rgb(36,36,36)",
            "showgrid": false,
            "showline": true,
            "ticks": "outside"
           },
           "baxis": {
            "gridcolor": "rgb(232,232,232)",
            "linecolor": "rgb(36,36,36)",
            "showgrid": false,
            "showline": true,
            "ticks": "outside"
           },
           "bgcolor": "white",
           "caxis": {
            "gridcolor": "rgb(232,232,232)",
            "linecolor": "rgb(36,36,36)",
            "showgrid": false,
            "showline": true,
            "ticks": "outside"
           }
          },
          "title": {
           "x": 0.05
          },
          "xaxis": {
           "automargin": true,
           "gridcolor": "rgb(232,232,232)",
           "linecolor": "rgb(36,36,36)",
           "showgrid": false,
           "showline": true,
           "ticks": "outside",
           "title": {
            "standoff": 15
           },
           "zeroline": false,
           "zerolinecolor": "rgb(36,36,36)"
          },
          "yaxis": {
           "automargin": true,
           "gridcolor": "rgb(232,232,232)",
           "linecolor": "rgb(36,36,36)",
           "showgrid": false,
           "showline": true,
           "ticks": "outside",
           "title": {
            "standoff": 15
           },
           "zeroline": false,
           "zerolinecolor": "rgb(36,36,36)"
          }
         }
        },
        "title": {
         "font": {
          "color": "Black",
          "size": 22
         },
         "text": "<b>Topics per Class</b>",
         "x": 0.4,
         "xanchor": "center",
         "y": 0.95,
         "yanchor": "top"
        },
        "width": 1250,
        "xaxis": {
         "showgrid": true,
         "title": {
          "text": "Frequency"
         }
        },
        "yaxis": {
         "showgrid": true,
         "title": {
          "text": "Class"
         }
        }
       }
      },
      "text/html": [
       "<div>                        <script type=\"text/javascript\">window.PlotlyConfig = {MathJaxConfig: 'local'};</script>\n",
       "        <script charset=\"utf-8\" src=\"https://cdn.plot.ly/plotly-2.27.0.min.js\"></script>                <div id=\"7c19e68e-0023-497b-8fe9-8ae364be883b\" class=\"plotly-graph-div\" style=\"height:900px; width:1250px;\"></div>            <script type=\"text/javascript\">                                    window.PLOTLYENV=window.PLOTLYENV || {};                                    if (document.getElementById(\"7c19e68e-0023-497b-8fe9-8ae364be883b\")) {                    Plotly.newPlot(                        \"7c19e68e-0023-497b-8fe9-8ae364be883b\",                        [{\"hoverinfo\":\"text\",\"hovertext\":[\"\\u003cb\\u003eTopic 0\\u003c\\u002fb\\u003e\\u003cbr\\u003eWords: zealand, australia, we, is, new\",\"\\u003cb\\u003eTopic 0\\u003c\\u002fb\\u003e\\u003cbr\\u003eWords: of, the, that, and, to\",\"\\u003cb\\u003eTopic 0\\u003c\\u002fb\\u003e\\u003cbr\\u003eWords: the, and, of, to, that\",\"\\u003cb\\u003eTopic 0\\u003c\\u002fb\\u003e\\u003cbr\\u003eWords: the, and, of, that, in\",\"\\u003cb\\u003eTopic 0\\u003c\\u002fb\\u003e\\u003cbr\\u003eWords: to, the, is, that, in\",\"\\u003cb\\u003eTopic 0\\u003c\\u002fb\\u003e\\u003cbr\\u003eWords: the, of, to, that, and\",\"\\u003cb\\u003eTopic 0\\u003c\\u002fb\\u003e\\u003cbr\\u003eWords: and, the, to, of, is\",\"\\u003cb\\u003eTopic 0\\u003c\\u002fb\\u003e\\u003cbr\\u003eWords: canada, we, united, that, nations\",\"\\u003cb\\u003eTopic 0\\u003c\\u002fb\\u003e\\u003cbr\\u003eWords: japan, korea, the, united, of\",\"\\u003cb\\u003eTopic 0\\u003c\\u002fb\\u003e\\u003cbr\\u003eWords: tuvalu, pacific, climate, samoa, change\",\"\\u003cb\\u003eTopic 0\\u003c\\u002fb\\u003e\\u003cbr\\u003eWords: kazakhstan, tajikistan, kyrgyzstan, the, and\",\"\\u003cb\\u003eTopic 0\\u003c\\u002fb\\u003e\\u003cbr\\u003eWords: the, and, of, to, in\",\"\\u003cb\\u003eTopic 0\\u003c\\u002fb\\u003e\\u003cbr\\u003eWords: islands, our, marshall, pacific, climate\",\"\\u003cb\\u003eTopic 0\\u003c\\u002fb\\u003e\\u003cbr\\u003eWords: we, to, is, united, the\",\"\\u003cb\\u003eTopic 0\\u003c\\u002fb\\u003e\\u003cbr\\u003eWords: of, the, and, in, is\",\"\\u003cb\\u003eTopic 0\\u003c\\u002fb\\u003e\\u003cbr\\u003eWords: the, of, states, united, soviet\",\"\\u003cb\\u003eTopic 0\\u003c\\u002fb\\u003e\\u003cbr\\u003eWords: papua, fiji, vanuatu, pacific, we\",\"\\u003cb\\u003eTopic 0\\u003c\\u002fb\\u003e\\u003cbr\\u003eWords: the, of, states, united, is\"],\"marker\":{\"color\":\"#E69F00\"},\"name\":\"0_peace_nations_general_organization\",\"orientation\":\"h\",\"visible\":true,\"x\":[16,206,47,77,42,265,73,15,27,9,14,87,14,54,57,43,19,57],\"y\":[\"Australia and New Zealand\",\"Latin America and the Caribbean\",\"Northern Africa\",\"Southern Europe\",\"Western Europe\",\"Sub-Saharan Africa\",\"South-eastern Asia\",\"Northern America\",\"Eastern Asia\",\"Polynesia\",\"Central Asia\",\"Western Asia\",\"Micronesia\",\"Northern Europe\",\"Southern Asia\",\"none\",\"Melanesia\",\"Eastern Europe\"],\"type\":\"bar\"},{\"hoverinfo\":\"text\",\"hovertext\":[\"\\u003cb\\u003eTopic 1\\u003c\\u002fb\\u003e\\u003cbr\\u003eWords: zealand, australia, this, it, is\",\"\\u003cb\\u003eTopic 1\\u003c\\u002fb\\u003e\\u003cbr\\u003eWords: of, the, that, to, in\",\"\\u003cb\\u003eTopic 1\\u003c\\u002fb\\u003e\\u003cbr\\u003eWords: and, the, of, to, in\",\"\\u003cb\\u003eTopic 1\\u003c\\u002fb\\u003e\\u003cbr\\u003eWords: the, of, and, that, in\",\"\\u003cb\\u003eTopic 1\\u003c\\u002fb\\u003e\\u003cbr\\u003eWords: is, to, the, in, that\",\"\\u003cb\\u003eTopic 1\\u003c\\u002fb\\u003e\\u003cbr\\u003eWords: the, of, to, in, that\",\"\\u003cb\\u003eTopic 1\\u003c\\u002fb\\u003e\\u003cbr\\u003eWords: the, and, to, of, in\",\"\\u003cb\\u003eTopic 1\\u003c\\u002fb\\u003e\\u003cbr\\u003eWords: united, nations, this, to, be\",\"\\u003cb\\u003eTopic 1\\u003c\\u002fb\\u003e\\u003cbr\\u003eWords: japan, the, of, and, to\",\"\\u003cb\\u003eTopic 1\\u003c\\u002fb\\u003e\\u003cbr\\u003eWords: tonga, pacific, tuvalu, we, and\",\"\\u003cb\\u003eTopic 1\\u003c\\u002fb\\u003e\\u003cbr\\u003eWords: tajikistan, turkmenistan, tajik, united, nations\",\"\\u003cb\\u003eTopic 1\\u003c\\u002fb\\u003e\\u003cbr\\u003eWords: the, and, of, to, in\",\"\\u003cb\\u003eTopic 1\\u003c\\u002fb\\u003e\\u003cbr\\u003eWords: our, palau, islands, we, pacific\",\"\\u003cb\\u003eTopic 1\\u003c\\u002fb\\u003e\\u003cbr\\u003eWords: ireland, be, in, the, is\",\"\\u003cb\\u003eTopic 1\\u003c\\u002fb\\u003e\\u003cbr\\u003eWords: of, the, in, to, be\",\"\\u003cb\\u003eTopic 1\\u003c\\u002fb\\u003e\\u003cbr\\u003eWords: of, the, in, and, is\",\"\\u003cb\\u003eTopic 1\\u003c\\u002fb\\u003e\\u003cbr\\u003eWords: fiji, pacific, our, papua, we\",\"\\u003cb\\u003eTopic 1\\u003c\\u002fb\\u003e\\u003cbr\\u003eWords: of, the, in, and, states\"],\"marker\":{\"color\":\"#56B4E9\"},\"name\":\"1_general_nations_political_government\",\"orientation\":\"h\",\"visible\":\"legendonly\",\"x\":[5,113,16,24,27,125,36,6,19,7,3,54,11,31,27,30,8,35],\"y\":[\"Australia and New Zealand\",\"Latin America and the Caribbean\",\"Northern Africa\",\"Southern Europe\",\"Western Europe\",\"Sub-Saharan Africa\",\"South-eastern Asia\",\"Northern America\",\"Eastern Asia\",\"Polynesia\",\"Central Asia\",\"Western Asia\",\"Micronesia\",\"Northern Europe\",\"Southern Asia\",\"none\",\"Melanesia\",\"Eastern Europe\"],\"type\":\"bar\"},{\"hoverinfo\":\"text\",\"hovertext\":[\"\\u003cb\\u003eTopic 2\\u003c\\u002fb\\u003e\\u003cbr\\u003eWords: zealand, veto, council, as, it\",\"\\u003cb\\u003eTopic 2\\u003c\\u002fb\\u003e\\u003cbr\\u003eWords: of, the, and, in, to\",\"\\u003cb\\u003eTopic 2\\u003c\\u002fb\\u003e\\u003cbr\\u003eWords: the, of, its, and, in\",\"\\u003cb\\u003eTopic 2\\u003c\\u002fb\\u003e\\u003cbr\\u003eWords: indian, goa, and, the, to\",\"\\u003cb\\u003eTopic 2\\u003c\\u002fb\\u003e\\u003cbr\\u003eWords: austria, austrian, the, in, of\",\"\\u003cb\\u003eTopic 2\\u003c\\u002fb\\u003e\\u003cbr\\u003eWords: the, of, to, and, in\",\"\\u003cb\\u003eTopic 2\\u003c\\u002fb\\u003e\\u003cbr\\u003eWords: laos, arf, neutrality, any, will\",\"\\u003cb\\u003eTopic 2\\u003c\\u002fb\\u003e\\u003cbr\\u003eWords: canada, afghanistan, canadian, united, security\",\"\\u003cb\\u003eTopic 2\\u003c\\u002fb\\u003e\\u003cbr\\u003eWords: mongolian, korea, korean, republic, peninsula\",\"\\u003cb\\u003eTopic 2\\u003c\\u002fb\\u003e\\u003cbr\\u003eWords: of, the, and, nations, united\",\"\\u003cb\\u003eTopic 2\\u003c\\u002fb\\u003e\\u003cbr\\u003eWords: ireland, in, this, the, to\",\"\\u003cb\\u003eTopic 2\\u003c\\u002fb\\u003e\\u003cbr\\u003eWords: the, of, in, to, and\",\"\\u003cb\\u003eTopic 2\\u003c\\u002fb\\u003e\\u003cbr\\u003eWords: the, of, this, in, and\",\"\\u003cb\\u003eTopic 2\\u003c\\u002fb\\u003e\\u003cbr\\u003eWords: nuclear, states, the, cuba, of\"],\"marker\":{\"color\":\"#009E73\"},\"name\":\"2_ukraine_republic_ukrainian_general\",\"orientation\":\"h\",\"visible\":\"legendonly\",\"x\":[2,22,6,7,8,21,3,2,2,11,4,11,7,3],\"y\":[\"Australia and New Zealand\",\"Latin America and the Caribbean\",\"Northern Africa\",\"Southern Europe\",\"Western Europe\",\"Sub-Saharan Africa\",\"South-eastern Asia\",\"Northern America\",\"Eastern Asia\",\"Western Asia\",\"Northern Europe\",\"Southern Asia\",\"none\",\"Eastern Europe\"],\"type\":\"bar\"},{\"hoverinfo\":\"text\",\"hovertext\":[\"\\u003cb\\u003eTopic 3\\u003c\\u002fb\\u003e\\u003cbr\\u003eWords: zealand, viet, nam, believe, new\",\"\\u003cb\\u003eTopic 3\\u003c\\u002fb\\u003e\\u003cbr\\u003eWords: mexico, of, and, we, the\",\"\\u003cb\\u003eTopic 3\\u003c\\u002fb\\u003e\\u003cbr\\u003eWords: tunisia, the, morocco, international, and\",\"\\u003cb\\u003eTopic 3\\u003c\\u002fb\\u003e\\u003cbr\\u003eWords: spain, it, is, that, the\",\"\\u003cb\\u003eTopic 3\\u003c\\u002fb\\u003e\\u003cbr\\u003eWords: that, to, mexico, the, of\",\"\\u003cb\\u003eTopic 3\\u003c\\u002fb\\u003e\\u003cbr\\u003eWords: of, the, mexico, to, in\",\"\\u003cb\\u003eTopic 3\\u003c\\u002fb\\u003e\\u003cbr\\u003eWords: mexico, philippines, the, to, of\",\"\\u003cb\\u003eTopic 3\\u003c\\u002fb\\u003e\\u003cbr\\u003eWords: keeping, canada, nations, we, united\",\"\\u003cb\\u003eTopic 3\\u003c\\u002fb\\u003e\\u003cbr\\u003eWords: tuvalu, climate, change, target, our\",\"\\u003cb\\u003eTopic 3\\u003c\\u002fb\\u003e\\u003cbr\\u003eWords: the, of, to, and, in\",\"\\u003cb\\u003eTopic 3\\u003c\\u002fb\\u003e\\u003cbr\\u003eWords: marshall, islands, pacific, marshallese, mdgs\",\"\\u003cb\\u003eTopic 3\\u003c\\u002fb\\u003e\\u003cbr\\u003eWords: is, in, must, to, for\",\"\\u003cb\\u003eTopic 3\\u003c\\u002fb\\u003e\\u003cbr\\u003eWords: of, the, and, mexico, in\",\"\\u003cb\\u003eTopic 3\\u003c\\u002fb\\u003e\\u003cbr\\u003eWords: atomic, war, appropriations, ussr, propaganda\",\"\\u003cb\\u003eTopic 3\\u003c\\u002fb\\u003e\\u003cbr\\u003eWords: of, and, the, in, mexico\"],\"marker\":{\"color\":\"#F0E442\"},\"name\":\"3_mexico_mexican_nations_international\",\"orientation\":\"h\",\"visible\":\"legendonly\",\"x\":[1,16,2,2,9,28,8,2,1,14,1,7,5,2,10],\"y\":[\"Australia and New Zealand\",\"Latin America and the Caribbean\",\"Northern Africa\",\"Southern Europe\",\"Western Europe\",\"Sub-Saharan Africa\",\"South-eastern Asia\",\"Northern America\",\"Polynesia\",\"Western Asia\",\"Micronesia\",\"Northern Europe\",\"Southern Asia\",\"none\",\"Eastern Europe\"],\"type\":\"bar\"},{\"hoverinfo\":\"text\",\"hovertext\":[\"\\u003cb\\u003eTopic 4\\u003c\\u002fb\\u003e\\u003cbr\\u003eWords: of, the, and, to, in\",\"\\u003cb\\u003eTopic 4\\u003c\\u002fb\\u003e\\u003cbr\\u003eWords: tunisia, algeria, and, international, the\",\"\\u003cb\\u003eTopic 4\\u003c\\u002fb\\u003e\\u003cbr\\u003eWords: macedonia, malta, and, the, of\",\"\\u003cb\\u003eTopic 4\\u003c\\u002fb\\u003e\\u003cbr\\u003eWords: european, peace, community, must, the\",\"\\u003cb\\u003eTopic 4\\u003c\\u002fb\\u003e\\u003cbr\\u003eWords: the, to, of, and, in\",\"\\u003cb\\u003eTopic 4\\u003c\\u002fb\\u003e\\u003cbr\\u003eWords: asean, malaysia, in, of, and\",\"\\u003cb\\u003eTopic 4\\u003c\\u002fb\\u003e\\u003cbr\\u003eWords: we, do, have, that, but\",\"\\u003cb\\u003eTopic 4\\u003c\\u002fb\\u003e\\u003cbr\\u003eWords: korean, reunification, peninsula, nuclear, korea\",\"\\u003cb\\u003eTopic 4\\u003c\\u002fb\\u003e\\u003cbr\\u003eWords: tuvalu, sids, gcf, climate, change\",\"\\u003cb\\u003eTopic 4\\u003c\\u002fb\\u003e\\u003cbr\\u003eWords: kazakhstan, water, tajikistan, cis, aral\",\"\\u003cb\\u003eTopic 4\\u003c\\u002fb\\u003e\\u003cbr\\u003eWords: arab, israel, the, and, of\",\"\\u003cb\\u003eTopic 4\\u003c\\u002fb\\u003e\\u003cbr\\u003eWords: islands, micronesia, island, marshall, our\",\"\\u003cb\\u003eTopic 4\\u003c\\u002fb\\u003e\\u003cbr\\u003eWords: latvia, ireland, the, russian, to\",\"\\u003cb\\u003eTopic 4\\u003c\\u002fb\\u003e\\u003cbr\\u003eWords: nepal, and, of, the, we\",\"\\u003cb\\u003eTopic 4\\u003c\\u002fb\\u003e\\u003cbr\\u003eWords: papua, fijian, fiji, guinea, our\",\"\\u003cb\\u003eTopic 4\\u003c\\u002fb\\u003e\\u003cbr\\u003eWords: ukraine, the, of, law, and\"],\"marker\":{\"color\":\"#D55E00\"},\"name\":\"4_tanzania_republic_zimbabwe_nations\",\"orientation\":\"h\",\"visible\":\"legendonly\",\"x\":[19,2,9,2,25,5,2,1,1,2,10,4,5,4,2,3],\"y\":[\"Latin America and the Caribbean\",\"Northern Africa\",\"Southern Europe\",\"Western Europe\",\"Sub-Saharan Africa\",\"South-eastern Asia\",\"Northern America\",\"Eastern Asia\",\"Polynesia\",\"Central Asia\",\"Western Asia\",\"Micronesia\",\"Northern Europe\",\"Southern Asia\",\"Melanesia\",\"Eastern Europe\"],\"type\":\"bar\"},{\"hoverinfo\":\"text\",\"hovertext\":[\"\\u003cb\\u003eTopic 5\\u003c\\u002fb\\u003e\\u003cbr\\u003eWords: zealand, timor, council, new, east\",\"\\u003cb\\u003eTopic 5\\u003c\\u002fb\\u003e\\u003cbr\\u003eWords: we, that, and, to, the\",\"\\u003cb\\u003eTopic 5\\u003c\\u002fb\\u003e\\u003cbr\\u003eWords: tunisia, tunisian, and, to, all\",\"\\u003cb\\u003eTopic 5\\u003c\\u002fb\\u003e\\u003cbr\\u003eWords: marino, slovenia, portugal, water, san\",\"\\u003cb\\u003eTopic 5\\u003c\\u002fb\\u003e\\u003cbr\\u003eWords: we, that, to, are, our\",\"\\u003cb\\u003eTopic 5\\u003c\\u002fb\\u003e\\u003cbr\\u003eWords: and, to, we, in, the\",\"\\u003cb\\u003eTopic 5\\u003c\\u002fb\\u003e\\u003cbr\\u003eWords: burma, their, to, and, of\",\"\\u003cb\\u003eTopic 5\\u003c\\u002fb\\u003e\\u003cbr\\u003eWords: canada, we, that, children, is\",\"\\u003cb\\u003eTopic 5\\u003c\\u002fb\\u003e\\u003cbr\\u003eWords: chinese, china, international, security, taiwan\",\"\\u003cb\\u003eTopic 5\\u003c\\u002fb\\u003e\\u003cbr\\u003eWords: tuvalu, climate, emissions, change, bali\",\"\\u003cb\\u003eTopic 5\\u003c\\u002fb\\u003e\\u003cbr\\u003eWords: iran, arab, israel, rouhani, that\",\"\\u003cb\\u003eTopic 5\\u003c\\u002fb\\u003e\\u003cbr\\u003eWords: latvia, we, must, be, have\",\"\\u003cb\\u003eTopic 5\\u003c\\u002fb\\u003e\\u003cbr\\u003eWords: muslims, what, afghanistan, that, and\",\"\\u003cb\\u003eTopic 5\\u003c\\u002fb\\u003e\\u003cbr\\u003eWords: we, it, in, that, of\",\"\\u003cb\\u003eTopic 5\\u003c\\u002fb\\u003e\\u003cbr\\u003eWords: czech, united, eu, the, atomic\"],\"marker\":{\"color\":\"#0072B2\"},\"name\":\"5_terrorists_terrorism_terrorist_iraq\",\"orientation\":\"h\",\"visible\":\"legendonly\",\"x\":[1,19,3,3,3,20,3,2,1,1,8,7,5,3,4],\"y\":[\"Australia and New Zealand\",\"Latin America and the Caribbean\",\"Northern Africa\",\"Southern Europe\",\"Western Europe\",\"Sub-Saharan Africa\",\"South-eastern Asia\",\"Northern America\",\"Eastern Asia\",\"Polynesia\",\"Western Asia\",\"Northern Europe\",\"Southern Asia\",\"none\",\"Eastern Europe\"],\"type\":\"bar\"},{\"hoverinfo\":\"text\",\"hovertext\":[\"\\u003cb\\u003eTopic 6\\u003c\\u002fb\\u003e\\u003cbr\\u003eWords: the, which, of, in, to\",\"\\u003cb\\u003eTopic 6\\u003c\\u002fb\\u003e\\u003cbr\\u003eWords: which, to, the, of, tunisia\",\"\\u003cb\\u003eTopic 6\\u003c\\u002fb\\u003e\\u003cbr\\u003eWords: the, of, to, in, we\",\"\\u003cb\\u003eTopic 6\\u003c\\u002fb\\u003e\\u003cbr\\u003eWords: europe, which, not, european, it\",\"\\u003cb\\u003eTopic 6\\u003c\\u002fb\\u003e\\u003cbr\\u003eWords: the, of, in, to, that\",\"\\u003cb\\u003eTopic 6\\u003c\\u002fb\\u003e\\u003cbr\\u003eWords: myanmar, rakhine, in, the, be\",\"\\u003cb\\u003eTopic 6\\u003c\\u002fb\\u003e\\u003cbr\\u003eWords: japan, this, the, it, nuclear\",\"\\u003cb\\u003eTopic 6\\u003c\\u002fb\\u003e\\u003cbr\\u003eWords: kazakstan, asian, asia, central, should\",\"\\u003cb\\u003eTopic 6\\u003c\\u002fb\\u003e\\u003cbr\\u003eWords: the, which, in, of, to\",\"\\u003cb\\u003eTopic 6\\u003c\\u002fb\\u003e\\u003cbr\\u003eWords: denmark, european, energy, latvia, union\",\"\\u003cb\\u003eTopic 6\\u003c\\u002fb\\u003e\\u003cbr\\u003eWords: afghanistan, sri, lanka, of, the\",\"\\u003cb\\u003eTopic 6\\u003c\\u002fb\\u003e\\u003cbr\\u003eWords: german, the, of, in, is\",\"\\u003cb\\u003eTopic 6\\u003c\\u002fb\\u003e\\u003cbr\\u003eWords: papua, vanuatu, guinea, government, new\",\"\\u003cb\\u003eTopic 6\\u003c\\u002fb\\u003e\\u003cbr\\u003eWords: bulgaria, european, ukrainian, the, of\"],\"marker\":{\"color\":\"#CC79A7\"},\"name\":\"6_luxembourg_general_council_nations\",\"orientation\":\"h\",\"visible\":\"legendonly\",\"x\":[14,4,5,1,16,8,3,1,9,4,7,5,2,2],\"y\":[\"Latin America and the Caribbean\",\"Northern Africa\",\"Southern Europe\",\"Western Europe\",\"Sub-Saharan Africa\",\"South-eastern Asia\",\"Eastern Asia\",\"Central Asia\",\"Western Asia\",\"Northern Europe\",\"Southern Asia\",\"none\",\"Melanesia\",\"Eastern Europe\"],\"type\":\"bar\"},{\"hoverinfo\":\"text\",\"hovertext\":[\"\\u003cb\\u003eTopic 7\\u003c\\u002fb\\u003e\\u003cbr\\u003eWords: australia, we, new, aliir, to\",\"\\u003cb\\u003eTopic 7\\u003c\\u002fb\\u003e\\u003cbr\\u003eWords: to, and, the, we, of\",\"\\u003cb\\u003eTopic 7\\u003c\\u002fb\\u003e\\u003cbr\\u003eWords: morocco, pandemic, covid, 19, mohammed\",\"\\u003cb\\u003eTopic 7\\u003c\\u002fb\\u003e\\u003cbr\\u003eWords: herzegovina, bosnia, and, european, pandemic\",\"\\u003cb\\u003eTopic 7\\u003c\\u002fb\\u003e\\u003cbr\\u003eWords: europe, the, for, we, of\",\"\\u003cb\\u003eTopic 7\\u003c\\u002fb\\u003e\\u003cbr\\u003eWords: the, and, to, of, countries\",\"\\u003cb\\u003eTopic 7\\u003c\\u002fb\\u003e\\u003cbr\\u003eWords: malaysia, the, myanmar, to, of\",\"\\u003cb\\u003eTopic 7\\u003c\\u002fb\\u003e\\u003cbr\\u003eWords: united, nations, states, this, to\",\"\\u003cb\\u003eTopic 7\\u003c\\u002fb\\u003e\\u003cbr\\u003eWords: turkmenistan, kazakhstan, un, caspian, cooperation\",\"\\u003cb\\u003eTopic 7\\u003c\\u002fb\\u003e\\u003cbr\\u003eWords: arab, iran, aggression, and, international\",\"\\u003cb\\u003eTopic 7\\u003c\\u002fb\\u003e\\u003cbr\\u003eWords: kiribati, family, seafarers, covid, our\",\"\\u003cb\\u003eTopic 7\\u003c\\u002fb\\u003e\\u003cbr\\u003eWords: ireland, irish, lithuania, in, the\",\"\\u003cb\\u003eTopic 7\\u003c\\u002fb\\u003e\\u003cbr\\u003eWords: bangladesh, maldives, and, the, of\",\"\\u003cb\\u003eTopic 7\\u003c\\u002fb\\u003e\\u003cbr\\u003eWords: of, the, in, we, to\",\"\\u003cb\\u003eTopic 7\\u003c\\u002fb\\u003e\\u003cbr\\u003eWords: papua, guinea, pacific, new, bougainville\",\"\\u003cb\\u003eTopic 7\\u003c\\u002fb\\u003e\\u003cbr\\u003eWords: czech, hungarian, republic, international, europe\"],\"marker\":{\"color\":\"#E69F00\"},\"name\":\"7_zambia_africa_african_namibia\",\"orientation\":\"h\",\"visible\":\"legendonly\",\"x\":[3,10,1,7,4,24,6,2,2,5,1,2,6,4,1,2],\"y\":[\"Australia and New Zealand\",\"Latin America and the Caribbean\",\"Northern Africa\",\"Southern Europe\",\"Western Europe\",\"Sub-Saharan Africa\",\"South-eastern Asia\",\"Northern America\",\"Central Asia\",\"Western Asia\",\"Micronesia\",\"Northern Europe\",\"Southern Asia\",\"none\",\"Melanesia\",\"Eastern Europe\"],\"type\":\"bar\"},{\"hoverinfo\":\"text\",\"hovertext\":[\"\\u003cb\\u003eTopic 8\\u003c\\u002fb\\u003e\\u003cbr\\u003eWords: australia, australian, nations, vietnam, and\",\"\\u003cb\\u003eTopic 8\\u003c\\u002fb\\u003e\\u003cbr\\u003eWords: of, the, and, we, that\",\"\\u003cb\\u003eTopic 8\\u003c\\u002fb\\u003e\\u003cbr\\u003eWords: the, united, of, its, and\",\"\\u003cb\\u003eTopic 8\\u003c\\u002fb\\u003e\\u003cbr\\u003eWords: their, peoples, imperialists, and, imperialist\",\"\\u003cb\\u003eTopic 8\\u003c\\u002fb\\u003e\\u003cbr\\u003eWords: are, france, be, the, in\",\"\\u003cb\\u003eTopic 8\\u003c\\u002fb\\u003e\\u003cbr\\u003eWords: and, the, of, nations, to\",\"\\u003cb\\u003eTopic 8\\u003c\\u002fb\\u003e\\u003cbr\\u003eWords: indonesia, global, development, nations, united\",\"\\u003cb\\u003eTopic 8\\u003c\\u002fb\\u003e\\u003cbr\\u003eWords: improvements, assembly, ceasefire, committee, new\",\"\\u003cb\\u003eTopic 8\\u003c\\u002fb\\u003e\\u003cbr\\u003eWords: should, peace, united, nations, china\",\"\\u003cb\\u003eTopic 8\\u003c\\u002fb\\u003e\\u003cbr\\u003eWords: tajikistan, sustainable, water, goals, development\",\"\\u003cb\\u003eTopic 8\\u003c\\u002fb\\u003e\\u003cbr\\u003eWords: and, the, of, to, its\",\"\\u003cb\\u003eTopic 8\\u003c\\u002fb\\u003e\\u003cbr\\u003eWords: islands, pacific, marshall, kigali, island\",\"\\u003cb\\u003eTopic 8\\u003c\\u002fb\\u003e\\u003cbr\\u003eWords: ireland, nations, we, united, and\",\"\\u003cb\\u003eTopic 8\\u003c\\u002fb\\u003e\\u003cbr\\u003eWords: pakistan, and, nations, we, our\",\"\\u003cb\\u003eTopic 8\\u003c\\u002fb\\u003e\\u003cbr\\u003eWords: world, of, nations, this, united\",\"\\u003cb\\u003eTopic 8\\u003c\\u002fb\\u003e\\u003cbr\\u003eWords: solomon, islands, pacific, papua, our\",\"\\u003cb\\u003eTopic 8\\u003c\\u002fb\\u003e\\u003cbr\\u003eWords: socialist, united, of, the, nations\"],\"marker\":{\"color\":\"#56B4E9\"},\"name\":\"8_freitas_amaral_nations_general\",\"orientation\":\"h\",\"visible\":\"legendonly\",\"x\":[1,14,5,4,3,14,2,1,2,1,12,2,5,5,1,1,4],\"y\":[\"Australia and New Zealand\",\"Latin America and the Caribbean\",\"Northern Africa\",\"Southern Europe\",\"Western Europe\",\"Sub-Saharan Africa\",\"South-eastern Asia\",\"Northern America\",\"Eastern Asia\",\"Central Asia\",\"Western Asia\",\"Micronesia\",\"Northern Europe\",\"Southern Asia\",\"none\",\"Melanesia\",\"Eastern Europe\"],\"type\":\"bar\"},{\"hoverinfo\":\"text\",\"hovertext\":[\"\\u003cb\\u003eTopic 9\\u003c\\u002fb\\u003e\\u003cbr\\u003eWords: australia, australian, some, this, in\",\"\\u003cb\\u003eTopic 9\\u003c\\u002fb\\u003e\\u003cbr\\u003eWords: the, of, in, and, to\",\"\\u003cb\\u003eTopic 9\\u003c\\u002fb\\u003e\\u003cbr\\u003eWords: international, the, libyan, jamahiriya, and\",\"\\u003cb\\u003eTopic 9\\u003c\\u002fb\\u003e\\u003cbr\\u003eWords: which, has, to, for, of\",\"\\u003cb\\u003eTopic 9\\u003c\\u002fb\\u003e\\u003cbr\\u003eWords: netherlands, to, in, this, the\",\"\\u003cb\\u003eTopic 9\\u003c\\u002fb\\u003e\\u003cbr\\u003eWords: the, of, south, to, in\",\"\\u003cb\\u003eTopic 9\\u003c\\u002fb\\u003e\\u003cbr\\u003eWords: malaysia, the, and, countries, of\",\"\\u003cb\\u003eTopic 9\\u003c\\u002fb\\u003e\\u003cbr\\u003eWords: united, nations, unanimity, the, of\",\"\\u003cb\\u003eTopic 9\\u003c\\u002fb\\u003e\\u003cbr\\u003eWords: israel, and, the, of, in\",\"\\u003cb\\u003eTopic 9\\u003c\\u002fb\\u003e\\u003cbr\\u003eWords: in, nations, council, it, the\",\"\\u003cb\\u003eTopic 9\\u003c\\u002fb\\u003e\\u003cbr\\u003eWords: afghanistan, the, and, of, to\",\"\\u003cb\\u003eTopic 9\\u003c\\u002fb\\u003e\\u003cbr\\u003eWords: is, soviet, the, on, to\",\"\\u003cb\\u003eTopic 9\\u003c\\u002fb\\u003e\\u003cbr\\u003eWords: fiji, papua, pacific, guinea, nuclear\",\"\\u003cb\\u003eTopic 9\\u003c\\u002fb\\u003e\\u003cbr\\u003eWords: of, the, states, and, in\"],\"marker\":{\"color\":\"#009E73\"},\"name\":\"9_malaysia_general_secretary_government\",\"orientation\":\"h\",\"visible\":\"legendonly\",\"x\":[1,16,3,1,2,19,6,2,8,3,7,3,2,4],\"y\":[\"Australia and New Zealand\",\"Latin America and the Caribbean\",\"Northern Africa\",\"Southern Europe\",\"Western Europe\",\"Sub-Saharan Africa\",\"South-eastern Asia\",\"Northern America\",\"Western Asia\",\"Northern Europe\",\"Southern Asia\",\"none\",\"Melanesia\",\"Eastern Europe\"],\"type\":\"bar\"},{\"hoverinfo\":\"text\",\"hovertext\":[\"\\u003cb\\u003eTopic 10\\u003c\\u002fb\\u003e\\u003cbr\\u003eWords: australia, australians, debt, trade, hayden\",\"\\u003cb\\u003eTopic 10\\u003c\\u002fb\\u003e\\u003cbr\\u003eWords: and, of, the, we, that\",\"\\u003cb\\u003eTopic 10\\u003c\\u002fb\\u003e\\u003cbr\\u003eWords: the, libya, and, of, to\",\"\\u003cb\\u003eTopic 10\\u003c\\u002fb\\u003e\\u003cbr\\u003eWords: modernity, montaigne, is, it, religious\",\"\\u003cb\\u003eTopic 10\\u003c\\u002fb\\u003e\\u003cbr\\u003eWords: had, zeeland, europe, van, belgium\",\"\\u003cb\\u003eTopic 10\\u003c\\u002fb\\u003e\\u003cbr\\u003eWords: to, the, and, in, of\",\"\\u003cb\\u003eTopic 10\\u003c\\u002fb\\u003e\\u003cbr\\u003eWords: nam, viet, kampuchea, vietnamese, cambodia\",\"\\u003cb\\u003eTopic 10\\u003c\\u002fb\\u003e\\u003cbr\\u003eWords: canada, 1987, soviet, in, we\",\"\\u003cb\\u003eTopic 10\\u003c\\u002fb\\u003e\\u003cbr\\u003eWords: mongolian, region, nuclear, strengthening, of\",\"\\u003cb\\u003eTopic 10\\u003c\\u002fb\\u003e\\u003cbr\\u003eWords: tuvalu, sids, mdgs, mdg, climate\",\"\\u003cb\\u003eTopic 10\\u003c\\u002fb\\u003e\\u003cbr\\u003eWords: and, the, of, international, in\",\"\\u003cb\\u003eTopic 10\\u003c\\u002fb\\u003e\\u003cbr\\u003eWords: sustainable, climate, leadership, palau, we\",\"\\u003cb\\u003eTopic 10\\u003c\\u002fb\\u003e\\u003cbr\\u003eWords: denmark, development, finland, and, for\",\"\\u003cb\\u003eTopic 10\\u003c\\u002fb\\u003e\\u003cbr\\u003eWords: lanka, sri, development, the, in\",\"\\u003cb\\u003eTopic 10\\u003c\\u002fb\\u003e\\u003cbr\\u003eWords: syria, chemical, european, we, is\",\"\\u003cb\\u003eTopic 10\\u003c\\u002fb\\u003e\\u003cbr\\u003eWords: the, of, and, international, on\"],\"marker\":{\"color\":\"#F0E442\"},\"name\":\"10_caputo_general_conference_nations\",\"orientation\":\"h\",\"visible\":\"legendonly\",\"x\":[1,16,5,2,3,14,5,2,1,1,7,2,5,5,1,7],\"y\":[\"Australia and New Zealand\",\"Latin America and the Caribbean\",\"Northern Africa\",\"Southern Europe\",\"Western Europe\",\"Sub-Saharan Africa\",\"South-eastern Asia\",\"Northern America\",\"Eastern Asia\",\"Polynesia\",\"Western Asia\",\"Micronesia\",\"Northern Europe\",\"Southern Asia\",\"none\",\"Eastern Europe\"],\"type\":\"bar\"},{\"hoverinfo\":\"text\",\"hovertext\":[\"\\u003cb\\u003eTopic 11\\u003c\\u002fb\\u003e\\u003cbr\\u003eWords: peking, australia, viet, nam, asia\",\"\\u003cb\\u003eTopic 11\\u003c\\u002fb\\u003e\\u003cbr\\u003eWords: colombia, that, of, the, to\",\"\\u003cb\\u003eTopic 11\\u003c\\u002fb\\u003e\\u003cbr\\u003eWords: morocco, egypt, colombia, and, the\",\"\\u003cb\\u003eTopic 11\\u003c\\u002fb\\u003e\\u003cbr\\u003eWords: portugal, slovenia, colombia, the, of\",\"\\u003cb\\u003eTopic 11\\u003c\\u002fb\\u003e\\u003cbr\\u003eWords: austria, colombia, of, europe, the\",\"\\u003cb\\u003eTopic 11\\u003c\\u002fb\\u003e\\u003cbr\\u003eWords: colombia, of, the, which, to\",\"\\u003cb\\u003eTopic 11\\u003c\\u002fb\\u003e\\u003cbr\\u003eWords: japan, mongolia, colombia, to, will\",\"\\u003cb\\u003eTopic 11\\u003c\\u002fb\\u003e\\u003cbr\\u003eWords: tonga, ncds, irena, elected, definition\",\"\\u003cb\\u003eTopic 11\\u003c\\u002fb\\u003e\\u003cbr\\u003eWords: kyrgyzstan, odihr, nomad, mountain, kyrgyz\",\"\\u003cb\\u003eTopic 11\\u003c\\u002fb\\u003e\\u003cbr\\u003eWords: cyprus, problem, turkey, colombia, to\",\"\\u003cb\\u003eTopic 11\\u003c\\u002fb\\u003e\\u003cbr\\u003eWords: denmark, colombia, must, we, to\",\"\\u003cb\\u003eTopic 11\\u003c\\u002fb\\u003e\\u003cbr\\u003eWords: afghanistan, maldives, colombia, our, and\",\"\\u003cb\\u003eTopic 11\\u003c\\u002fb\\u003e\\u003cbr\\u003eWords: relations, favourable, it, colombia, that\",\"\\u003cb\\u003eTopic 11\\u003c\\u002fb\\u003e\\u003cbr\\u003eWords: solomon, islands, papua, agreement, taiwan\",\"\\u003cb\\u003eTopic 11\\u003c\\u002fb\\u003e\\u003cbr\\u003eWords: colombia, of, the, and, in\"],\"marker\":{\"color\":\"#D55E00\"},\"name\":\"11_colombia_colombian_nations_country\",\"orientation\":\"h\",\"visible\":\"legendonly\",\"x\":[1,19,4,4,3,16,2,1,1,3,7,6,1,1,6],\"y\":[\"Australia and New Zealand\",\"Latin America and the Caribbean\",\"Northern Africa\",\"Southern Europe\",\"Western Europe\",\"Sub-Saharan Africa\",\"Eastern Asia\",\"Polynesia\",\"Central Asia\",\"Western Asia\",\"Northern Europe\",\"Southern Asia\",\"none\",\"Melanesia\",\"Eastern Europe\"],\"type\":\"bar\"},{\"hoverinfo\":\"text\",\"hovertext\":[\"\\u003cb\\u003eTopic 12\\u003c\\u002fb\\u003e\\u003cbr\\u003eWords: panama, which, of, the, that\",\"\\u003cb\\u003eTopic 12\\u003c\\u002fb\\u003e\\u003cbr\\u003eWords: panama, egypt, canal, the, and\",\"\\u003cb\\u003eTopic 12\\u003c\\u002fb\\u003e\\u003cbr\\u003eWords: panama, of, the, which, and\",\"\\u003cb\\u003eTopic 12\\u003c\\u002fb\\u003e\\u003cbr\\u003eWords: panama, canal, the, which, of\",\"\\u003cb\\u003eTopic 12\\u003c\\u002fb\\u003e\\u003cbr\\u003eWords: panama, of, the, which, to\",\"\\u003cb\\u003eTopic 12\\u003c\\u002fb\\u003e\\u003cbr\\u003eWords: panama, british, manila, of, the\",\"\\u003cb\\u003eTopic 12\\u003c\\u002fb\\u003e\\u003cbr\\u003eWords: panama, korean, korea, mongolia, reunification\",\"\\u003cb\\u003eTopic 12\\u003c\\u002fb\\u003e\\u003cbr\\u003eWords: tonga, panama, pacific, covid, 19\",\"\\u003cb\\u003eTopic 12\\u003c\\u002fb\\u003e\\u003cbr\\u003eWords: panama, azerbaijan, of, and, the\",\"\\u003cb\\u003eTopic 12\\u003c\\u002fb\\u003e\\u003cbr\\u003eWords: nauru, panama, pacific, bless, laundering\",\"\\u003cb\\u003eTopic 12\\u003c\\u002fb\\u003e\\u003cbr\\u003eWords: panama, canal, the, we, of\",\"\\u003cb\\u003eTopic 12\\u003c\\u002fb\\u003e\\u003cbr\\u003eWords: panama, india, oil, of, the\",\"\\u003cb\\u003eTopic 12\\u003c\\u002fb\\u003e\\u003cbr\\u003eWords: russia, lithuania, ukrainian, ukraine, gentlemen\",\"\\u003cb\\u003eTopic 12\\u003c\\u002fb\\u003e\\u003cbr\\u003eWords: panama, pacific, kuwait, south, our\",\"\\u003cb\\u003eTopic 12\\u003c\\u002fb\\u003e\\u003cbr\\u003eWords: romanian, panama, german, germany, states\"],\"marker\":{\"color\":\"#0072B2\"},\"name\":\"12_panamanian_panama_panamanians_nations\",\"orientation\":\"h\",\"visible\":\"legendonly\",\"x\":[18,2,7,4,14,4,2,2,7,1,7,4,1,1,1],\"y\":[\"Latin America and the Caribbean\",\"Northern Africa\",\"Southern Europe\",\"Western Europe\",\"Sub-Saharan Africa\",\"South-eastern Asia\",\"Eastern Asia\",\"Polynesia\",\"Western Asia\",\"Micronesia\",\"Northern Europe\",\"Southern Asia\",\"none\",\"Melanesia\",\"Eastern Europe\"],\"type\":\"bar\"},{\"hoverinfo\":\"text\",\"hovertext\":[\"\\u003cb\\u003eTopic 13\\u003c\\u002fb\\u003e\\u003cbr\\u003eWords: and, our, that, we, to\",\"\\u003cb\\u003eTopic 13\\u003c\\u002fb\\u003e\\u003cbr\\u003eWords: morocco, and, our, to, region\",\"\\u003cb\\u003eTopic 13\\u003c\\u002fb\\u003e\\u003cbr\\u003eWords: malta, mediterranean, and, in, greece\",\"\\u003cb\\u003eTopic 13\\u003c\\u002fb\\u003e\\u003cbr\\u003eWords: liechtenstein, our, we, in, that\",\"\\u003cb\\u003eTopic 13\\u003c\\u002fb\\u003e\\u003cbr\\u003eWords: and, to, the, international, of\",\"\\u003cb\\u003eTopic 13\\u003c\\u002fb\\u003e\\u003cbr\\u003eWords: vietnamese, and, to, kampuchea, that\",\"\\u003cb\\u003eTopic 13\\u003c\\u002fb\\u003e\\u003cbr\\u003eWords: china, japan, japanese, girls, global\",\"\\u003cb\\u003eTopic 13\\u003c\\u002fb\\u003e\\u003cbr\\u003eWords: pacific, caledonia, nuclear, we, year\",\"\\u003cb\\u003eTopic 13\\u003c\\u002fb\\u003e\\u003cbr\\u003eWords: azerbaijan, international, efforts, and, resolutions\",\"\\u003cb\\u003eTopic 13\\u003c\\u002fb\\u003e\\u003cbr\\u003eWords: climate, palau, ocean, micronesia, marine\",\"\\u003cb\\u003eTopic 13\\u003c\\u002fb\\u003e\\u003cbr\\u003eWords: norway, we, to, and, our\",\"\\u003cb\\u003eTopic 13\\u003c\\u002fb\\u003e\\u003cbr\\u003eWords: sri, lanka, pakistan, and, global\",\"\\u003cb\\u003eTopic 13\\u003c\\u002fb\\u003e\\u003cbr\\u003eWords: solomon, islands, pacific, our, tuna\",\"\\u003cb\\u003eTopic 13\\u003c\\u002fb\\u003e\\u003cbr\\u003eWords: moldova, poland, bulgaria, transnistrian, republic\"],\"marker\":{\"color\":\"#CC79A7\"},\"name\":\"13_jeremi\\u0107_president_republic_arab\",\"orientation\":\"h\",\"visible\":\"legendonly\",\"x\":[23,2,6,2,16,4,2,1,3,2,6,2,2,4],\"y\":[\"Latin America and the Caribbean\",\"Northern Africa\",\"Southern Europe\",\"Western Europe\",\"Sub-Saharan Africa\",\"South-eastern Asia\",\"Eastern Asia\",\"Polynesia\",\"Western Asia\",\"Micronesia\",\"Northern Europe\",\"Southern Asia\",\"Melanesia\",\"Eastern Europe\"],\"type\":\"bar\"},{\"hoverinfo\":\"text\",\"hovertext\":[\"\\u003cb\\u003eTopic 14\\u003c\\u002fb\\u003e\\u003cbr\\u003eWords: zealand, be, there, in, nations\",\"\\u003cb\\u003eTopic 14\\u003c\\u002fb\\u003e\\u003cbr\\u003eWords: the, of, in, to, and\",\"\\u003cb\\u003eTopic 14\\u003c\\u002fb\\u003e\\u003cbr\\u003eWords: algerian, government, france, french, had\",\"\\u003cb\\u003eTopic 14\\u003c\\u002fb\\u003e\\u003cbr\\u003eWords: the, of, states, and, united\",\"\\u003cb\\u003eTopic 14\\u003c\\u002fb\\u003e\\u003cbr\\u003eWords: is, in, switzerland, human, be\",\"\\u003cb\\u003eTopic 14\\u003c\\u002fb\\u003e\\u003cbr\\u003eWords: our, the, to, we, development\",\"\\u003cb\\u003eTopic 14\\u003c\\u002fb\\u003e\\u003cbr\\u003eWords: thailand, the, of, in, delegation\",\"\\u003cb\\u003eTopic 14\\u003c\\u002fb\\u003e\\u003cbr\\u003eWords: states, united, near, that, this\",\"\\u003cb\\u003eTopic 14\\u003c\\u002fb\\u003e\\u003cbr\\u003eWords: tuvalu, island, particularly, our, islands\",\"\\u003cb\\u003eTopic 14\\u003c\\u002fb\\u003e\\u003cbr\\u003eWords: iraq, lebanon, the, to, and\",\"\\u003cb\\u003eTopic 14\\u003c\\u002fb\\u003e\\u003cbr\\u003eWords: united, we, be, to, this\",\"\\u003cb\\u003eTopic 14\\u003c\\u002fb\\u003e\\u003cbr\\u003eWords: we, this, of, the, in\",\"\\u003cb\\u003eTopic 14\\u003c\\u002fb\\u003e\\u003cbr\\u003eWords: communism, taiwan, mainland, chinese, communists\",\"\\u003cb\\u003eTopic 14\\u003c\\u002fb\\u003e\\u003cbr\\u003eWords: pacific, vanuatu, my, government, we\",\"\\u003cb\\u003eTopic 14\\u003c\\u002fb\\u003e\\u003cbr\\u003eWords: united, states, the, of, czech\"],\"marker\":{\"color\":\"#E69F00\"},\"name\":\"14_guyana_general_venezuela_nations\",\"orientation\":\"h\",\"visible\":\"legendonly\",\"x\":[2,17,3,5,5,11,5,1,1,6,3,4,1,3,7],\"y\":[\"Australia and New Zealand\",\"Latin America and the Caribbean\",\"Northern Africa\",\"Southern Europe\",\"Western Europe\",\"Sub-Saharan Africa\",\"South-eastern Asia\",\"Northern America\",\"Polynesia\",\"Western Asia\",\"Northern Europe\",\"Southern Asia\",\"none\",\"Melanesia\",\"Eastern Europe\"],\"type\":\"bar\"},{\"hoverinfo\":\"text\",\"hovertext\":[\"\\u003cb\\u003eTopic 15\\u003c\\u002fb\\u003e\\u003cbr\\u003eWords: zealand, pacific, nuclear, south, treaty\",\"\\u003cb\\u003eTopic 15\\u003c\\u002fb\\u003e\\u003cbr\\u003eWords: our, we, and, to, food\",\"\\u003cb\\u003eTopic 15\\u003c\\u002fb\\u003e\\u003cbr\\u003eWords: international, and, to, that, millennium\",\"\\u003cb\\u003eTopic 15\\u003c\\u002fb\\u003e\\u003cbr\\u003eWords: france, private, sector, is, to\",\"\\u003cb\\u003eTopic 15\\u003c\\u002fb\\u003e\\u003cbr\\u003eWords: food, to, the, and, in\",\"\\u003cb\\u003eTopic 15\\u003c\\u002fb\\u003e\\u003cbr\\u003eWords: millennium, nations, united, food, summit\",\"\\u003cb\\u003eTopic 15\\u003c\\u002fb\\u003e\\u003cbr\\u003eWords: mongolia, nuclear, weapon, millennium, as\",\"\\u003cb\\u003eTopic 15\\u003c\\u002fb\\u003e\\u003cbr\\u003eWords: tajikistan, kyrgyzstan, turkmenistan, kyrgyz, food\",\"\\u003cb\\u003eTopic 15\\u003c\\u002fb\\u003e\\u003cbr\\u003eWords: israel, and, international, its, the\",\"\\u003cb\\u003eTopic 15\\u003c\\u002fb\\u003e\\u003cbr\\u003eWords: pacific, nauru, island, forum, nations\",\"\\u003cb\\u003eTopic 15\\u003c\\u002fb\\u003e\\u003cbr\\u003eWords: finland, development, security, council, food\",\"\\u003cb\\u003eTopic 15\\u003c\\u002fb\\u003e\\u003cbr\\u003eWords: nepal, the, nations, international, and\",\"\\u003cb\\u003eTopic 15\\u003c\\u002fb\\u003e\\u003cbr\\u003eWords: fiji, fijians, rotumans, communities, indigenous\",\"\\u003cb\\u003eTopic 15\\u003c\\u002fb\\u003e\\u003cbr\\u003eWords: bulgaria, and, the, millennium, of\"],\"marker\":{\"color\":\"#56B4E9\"},\"name\":\"15_democracy_general_brockmann_nations\",\"orientation\":\"h\",\"visible\":\"legendonly\",\"x\":[2,20,4,2,19,4,1,3,5,2,2,3,2,5],\"y\":[\"Australia and New Zealand\",\"Latin America and the Caribbean\",\"Northern Africa\",\"Western Europe\",\"Sub-Saharan Africa\",\"South-eastern Asia\",\"Eastern Asia\",\"Central Asia\",\"Western Asia\",\"Micronesia\",\"Northern Europe\",\"Southern Asia\",\"Melanesia\",\"Eastern Europe\"],\"type\":\"bar\"},{\"hoverinfo\":\"text\",\"hovertext\":[\"\\u003cb\\u003eTopic 16\\u003c\\u002fb\\u003e\\u003cbr\\u003eWords: of, the, and, to, in\",\"\\u003cb\\u003eTopic 16\\u003c\\u002fb\\u003e\\u003cbr\\u003eWords: egypt, the, of, its, and\",\"\\u003cb\\u003eTopic 16\\u003c\\u002fb\\u003e\\u003cbr\\u003eWords: italy, in, of, the, to\",\"\\u003cb\\u003eTopic 16\\u003c\\u002fb\\u003e\\u003cbr\\u003eWords: the, to, of, detente, that\",\"\\u003cb\\u003eTopic 16\\u003c\\u002fb\\u003e\\u003cbr\\u003eWords: of, the, to, and, in\",\"\\u003cb\\u003eTopic 16\\u003c\\u002fb\\u003e\\u003cbr\\u003eWords: countries, the, of, and, in\",\"\\u003cb\\u003eTopic 16\\u003c\\u002fb\\u003e\\u003cbr\\u003eWords: reagan, strength, we, our, or\",\"\\u003cb\\u003eTopic 16\\u003c\\u002fb\\u003e\\u003cbr\\u003eWords: mongolian, republic, of, states, the\",\"\\u003cb\\u003eTopic 16\\u003c\\u002fb\\u003e\\u003cbr\\u003eWords: and, the, of, in, to\",\"\\u003cb\\u003eTopic 16\\u003c\\u002fb\\u003e\\u003cbr\\u003eWords: norway, should, ten, in, the\",\"\\u003cb\\u003eTopic 16\\u003c\\u002fb\\u003e\\u003cbr\\u003eWords: the, of, and, islamic, countries\",\"\\u003cb\\u003eTopic 16\\u003c\\u002fb\\u003e\\u003cbr\\u003eWords: german, democratic, soviet, republic, union\",\"\\u003cb\\u003eTopic 16\\u003c\\u002fb\\u003e\\u003cbr\\u003eWords: papua, pacific, guinea, new, countries\",\"\\u003cb\\u003eTopic 16\\u003c\\u002fb\\u003e\\u003cbr\\u003eWords: of, the, in, international, nuclear\"],\"marker\":{\"color\":\"#009E73\"},\"name\":\"16_opertti_republic_general_democratic\",\"orientation\":\"h\",\"visible\":\"legendonly\",\"x\":[14,3,2,3,22,5,1,1,9,2,4,2,2,3],\"y\":[\"Latin America and the Caribbean\",\"Northern Africa\",\"Southern Europe\",\"Western Europe\",\"Sub-Saharan Africa\",\"South-eastern Asia\",\"Northern America\",\"Eastern Asia\",\"Western Asia\",\"Northern Europe\",\"Southern Asia\",\"none\",\"Melanesia\",\"Eastern Europe\"],\"type\":\"bar\"},{\"hoverinfo\":\"text\",\"hovertext\":[\"\\u003cb\\u003eTopic 17\\u003c\\u002fb\\u003e\\u003cbr\\u003eWords: australia, australian, treaty, issue, that\",\"\\u003cb\\u003eTopic 17\\u003c\\u002fb\\u003e\\u003cbr\\u003eWords: the, of, to, in, and\",\"\\u003cb\\u003eTopic 17\\u003c\\u002fb\\u003e\\u003cbr\\u003eWords: to, in, the, and, countries\",\"\\u003cb\\u003eTopic 17\\u003c\\u002fb\\u003e\\u003cbr\\u003eWords: the, to, of, in, we\",\"\\u003cb\\u003eTopic 17\\u003c\\u002fb\\u003e\\u003cbr\\u003eWords: to, we, effort, is, be\",\"\\u003cb\\u003eTopic 17\\u003c\\u002fb\\u003e\\u003cbr\\u003eWords: to, the, of, and, in\",\"\\u003cb\\u003eTopic 17\\u003c\\u002fb\\u003e\\u003cbr\\u003eWords: viet, nam, states, united, the\",\"\\u003cb\\u003eTopic 17\\u003c\\u002fb\\u003e\\u003cbr\\u003eWords: we, to, that, nam, nuclear\",\"\\u003cb\\u003eTopic 17\\u003c\\u002fb\\u003e\\u003cbr\\u003eWords: samoa, terrorism, work, meeting, small\",\"\\u003cb\\u003eTopic 17\\u003c\\u002fb\\u003e\\u003cbr\\u003eWords: uzbekistan, afghanistan, terrorism, transport, central\",\"\\u003cb\\u003eTopic 17\\u003c\\u002fb\\u003e\\u003cbr\\u003eWords: israel, arab, and, to, the\",\"\\u003cb\\u003eTopic 17\\u003c\\u002fb\\u003e\\u003cbr\\u003eWords: atlantic, treaty, war, had, it\",\"\\u003cb\\u003eTopic 17\\u003c\\u002fb\\u003e\\u003cbr\\u003eWords: viet, nam, ceylon, decade, that\",\"\\u003cb\\u003eTopic 17\\u003c\\u002fb\\u003e\\u003cbr\\u003eWords: acheson, mao, american, tse, tung\",\"\\u003cb\\u003eTopic 17\\u003c\\u002fb\\u003e\\u003cbr\\u003eWords: how, we, our, us, south\",\"\\u003cb\\u003eTopic 17\\u003c\\u002fb\\u003e\\u003cbr\\u003eWords: poland, united, of, the, states\"],\"marker\":{\"color\":\"#F0E442\"},\"name\":\"17_president_republic_kavan_timor\",\"orientation\":\"h\",\"visible\":\"legendonly\",\"x\":[1,18,2,4,2,19,3,3,1,1,7,2,1,2,1,4],\"y\":[\"Australia and New Zealand\",\"Latin America and the Caribbean\",\"Northern Africa\",\"Southern Europe\",\"Western Europe\",\"Sub-Saharan Africa\",\"South-eastern Asia\",\"Northern America\",\"Polynesia\",\"Central Asia\",\"Western Asia\",\"Northern Europe\",\"Southern Asia\",\"none\",\"Melanesia\",\"Eastern Europe\"],\"type\":\"bar\"},{\"hoverinfo\":\"text\",\"hovertext\":[\"\\u003cb\\u003eTopic 18\\u003c\\u002fb\\u003e\\u003cbr\\u003eWords: and, our, to, of, panama\",\"\\u003cb\\u003eTopic 18\\u003c\\u002fb\\u003e\\u003cbr\\u003eWords: zionist, arab, corporations, and, mines\",\"\\u003cb\\u003eTopic 18\\u003c\\u002fb\\u003e\\u003cbr\\u003eWords: italy, spain, the, of, and\",\"\\u003cb\\u003eTopic 18\\u003c\\u002fb\\u003e\\u003cbr\\u003eWords: netherlands, operation, co, on, nations\",\"\\u003cb\\u003eTopic 18\\u003c\\u002fb\\u003e\\u003cbr\\u003eWords: to, zaire, the, and, of\",\"\\u003cb\\u003eTopic 18\\u003c\\u002fb\\u003e\\u003cbr\\u003eWords: laos, indonesia, and, of, the\",\"\\u003cb\\u003eTopic 18\\u003c\\u002fb\\u003e\\u003cbr\\u003eWords: states, we, united, nuclear, and\",\"\\u003cb\\u003eTopic 18\\u003c\\u002fb\\u003e\\u003cbr\\u003eWords: korean, super, korea, countries, the\",\"\\u003cb\\u003eTopic 18\\u003c\\u002fb\\u003e\\u003cbr\\u003eWords: uzbekistan, aral, seminar, are, of\",\"\\u003cb\\u003eTopic 18\\u003c\\u002fb\\u003e\\u003cbr\\u003eWords: cyprus, turkish, turkey, the, and\",\"\\u003cb\\u003eTopic 18\\u003c\\u002fb\\u003e\\u003cbr\\u003eWords: lithuania, nations, security, united, on\",\"\\u003cb\\u003eTopic 18\\u003c\\u002fb\\u003e\\u003cbr\\u003eWords: nuclear, weapons, weapon, countries, to\",\"\\u003cb\\u003eTopic 18\\u003c\\u002fb\\u003e\\u003cbr\\u003eWords: of, the, in, and, on\",\"\\u003cb\\u003eTopic 18\\u003c\\u002fb\\u003e\\u003cbr\\u003eWords: solomon, islands, pacific, bougainville, forum\",\"\\u003cb\\u003eTopic 18\\u003c\\u002fb\\u003e\\u003cbr\\u003eWords: peacekeeping, slovakia, operations, reform, financial\"],\"marker\":{\"color\":\"#D55E00\"},\"name\":\"18_treki_general_crises_council\",\"orientation\":\"h\",\"visible\":\"legendonly\",\"x\":[20,1,3,1,16,4,1,2,1,8,2,2,5,1,1],\"y\":[\"Latin America and the Caribbean\",\"Northern Africa\",\"Southern Europe\",\"Western Europe\",\"Sub-Saharan Africa\",\"South-eastern Asia\",\"Northern America\",\"Eastern Asia\",\"Central Asia\",\"Western Asia\",\"Northern Europe\",\"Southern Asia\",\"none\",\"Melanesia\",\"Eastern Europe\"],\"type\":\"bar\"},{\"hoverinfo\":\"text\",\"hovertext\":[\"\\u003cb\\u003eTopic 19\\u003c\\u002fb\\u003e\\u003cbr\\u003eWords: australia, zealand, our, global, we\",\"\\u003cb\\u003eTopic 19\\u003c\\u002fb\\u003e\\u003cbr\\u003eWords: development, we, and, our, colombia\",\"\\u003cb\\u003eTopic 19\\u003c\\u002fb\\u003e\\u003cbr\\u003eWords: morocco, kingdom, his, mohammed, majesty\",\"\\u003cb\\u003eTopic 19\\u003c\\u002fb\\u003e\\u003cbr\\u003eWords: and, we, human, development, climate\",\"\\u003cb\\u003eTopic 19\\u003c\\u002fb\\u003e\\u003cbr\\u003eWords: netherlands, climate, summer, development, we\",\"\\u003cb\\u003eTopic 19\\u003c\\u002fb\\u003e\\u003cbr\\u003eWords: development, and, our, to, for\",\"\\u003cb\\u003eTopic 19\\u003c\\u002fb\\u003e\\u003cbr\\u003eWords: pdr, muslims, lao, muslim, covid\",\"\\u003cb\\u003eTopic 19\\u003c\\u002fb\\u003e\\u003cbr\\u003eWords: canada, we, our, hands, climate\",\"\\u003cb\\u003eTopic 19\\u003c\\u002fb\\u003e\\u003cbr\\u003eWords: tonga, samoa, sustainable, development, pacific\",\"\\u003cb\\u003eTopic 19\\u003c\\u002fb\\u003e\\u003cbr\\u003eWords: armenia, azerbaijan, israel, and, our\",\"\\u003cb\\u003eTopic 19\\u003c\\u002fb\\u003e\\u003cbr\\u003eWords: kiribati, marshall, islands, our, un\",\"\\u003cb\\u003eTopic 19\\u003c\\u002fb\\u003e\\u003cbr\\u003eWords: finland, climate, global, health, we\",\"\\u003cb\\u003eTopic 19\\u003c\\u002fb\\u003e\\u003cbr\\u003eWords: maldives, nepal, and, we, for\",\"\\u003cb\\u003eTopic 19\\u003c\\u002fb\\u003e\\u003cbr\\u003eWords: fiji, cop26, climate, zero, un\",\"\\u003cb\\u003eTopic 19\\u003c\\u002fb\\u003e\\u003cbr\\u003eWords: slovakia, czech, romania, security, development\"],\"marker\":{\"color\":\"#0072B2\"},\"name\":\"19_kutesa_republic_general_nations\",\"orientation\":\"h\",\"visible\":\"legendonly\",\"x\":[4,7,1,6,2,20,2,1,3,8,4,1,4,1,4],\"y\":[\"Australia and New Zealand\",\"Latin America and the Caribbean\",\"Northern Africa\",\"Southern Europe\",\"Western Europe\",\"Sub-Saharan Africa\",\"South-eastern Asia\",\"Northern America\",\"Polynesia\",\"Western Asia\",\"Micronesia\",\"Northern Europe\",\"Southern Asia\",\"Melanesia\",\"Eastern Europe\"],\"type\":\"bar\"}],                        {\"template\":{\"data\":{\"barpolar\":[{\"marker\":{\"line\":{\"color\":\"white\",\"width\":0.5},\"pattern\":{\"fillmode\":\"overlay\",\"size\":10,\"solidity\":0.2}},\"type\":\"barpolar\"}],\"bar\":[{\"error_x\":{\"color\":\"rgb(36,36,36)\"},\"error_y\":{\"color\":\"rgb(36,36,36)\"},\"marker\":{\"line\":{\"color\":\"white\",\"width\":0.5},\"pattern\":{\"fillmode\":\"overlay\",\"size\":10,\"solidity\":0.2}},\"type\":\"bar\"}],\"carpet\":[{\"aaxis\":{\"endlinecolor\":\"rgb(36,36,36)\",\"gridcolor\":\"white\",\"linecolor\":\"white\",\"minorgridcolor\":\"white\",\"startlinecolor\":\"rgb(36,36,36)\"},\"baxis\":{\"endlinecolor\":\"rgb(36,36,36)\",\"gridcolor\":\"white\",\"linecolor\":\"white\",\"minorgridcolor\":\"white\",\"startlinecolor\":\"rgb(36,36,36)\"},\"type\":\"carpet\"}],\"choropleth\":[{\"colorbar\":{\"outlinewidth\":1,\"tickcolor\":\"rgb(36,36,36)\",\"ticks\":\"outside\"},\"type\":\"choropleth\"}],\"contourcarpet\":[{\"colorbar\":{\"outlinewidth\":1,\"tickcolor\":\"rgb(36,36,36)\",\"ticks\":\"outside\"},\"type\":\"contourcarpet\"}],\"contour\":[{\"colorbar\":{\"outlinewidth\":1,\"tickcolor\":\"rgb(36,36,36)\",\"ticks\":\"outside\"},\"colorscale\":[[0.0,\"#440154\"],[0.1111111111111111,\"#482878\"],[0.2222222222222222,\"#3e4989\"],[0.3333333333333333,\"#31688e\"],[0.4444444444444444,\"#26828e\"],[0.5555555555555556,\"#1f9e89\"],[0.6666666666666666,\"#35b779\"],[0.7777777777777778,\"#6ece58\"],[0.8888888888888888,\"#b5de2b\"],[1.0,\"#fde725\"]],\"type\":\"contour\"}],\"heatmapgl\":[{\"colorbar\":{\"outlinewidth\":1,\"tickcolor\":\"rgb(36,36,36)\",\"ticks\":\"outside\"},\"colorscale\":[[0.0,\"#440154\"],[0.1111111111111111,\"#482878\"],[0.2222222222222222,\"#3e4989\"],[0.3333333333333333,\"#31688e\"],[0.4444444444444444,\"#26828e\"],[0.5555555555555556,\"#1f9e89\"],[0.6666666666666666,\"#35b779\"],[0.7777777777777778,\"#6ece58\"],[0.8888888888888888,\"#b5de2b\"],[1.0,\"#fde725\"]],\"type\":\"heatmapgl\"}],\"heatmap\":[{\"colorbar\":{\"outlinewidth\":1,\"tickcolor\":\"rgb(36,36,36)\",\"ticks\":\"outside\"},\"colorscale\":[[0.0,\"#440154\"],[0.1111111111111111,\"#482878\"],[0.2222222222222222,\"#3e4989\"],[0.3333333333333333,\"#31688e\"],[0.4444444444444444,\"#26828e\"],[0.5555555555555556,\"#1f9e89\"],[0.6666666666666666,\"#35b779\"],[0.7777777777777778,\"#6ece58\"],[0.8888888888888888,\"#b5de2b\"],[1.0,\"#fde725\"]],\"type\":\"heatmap\"}],\"histogram2dcontour\":[{\"colorbar\":{\"outlinewidth\":1,\"tickcolor\":\"rgb(36,36,36)\",\"ticks\":\"outside\"},\"colorscale\":[[0.0,\"#440154\"],[0.1111111111111111,\"#482878\"],[0.2222222222222222,\"#3e4989\"],[0.3333333333333333,\"#31688e\"],[0.4444444444444444,\"#26828e\"],[0.5555555555555556,\"#1f9e89\"],[0.6666666666666666,\"#35b779\"],[0.7777777777777778,\"#6ece58\"],[0.8888888888888888,\"#b5de2b\"],[1.0,\"#fde725\"]],\"type\":\"histogram2dcontour\"}],\"histogram2d\":[{\"colorbar\":{\"outlinewidth\":1,\"tickcolor\":\"rgb(36,36,36)\",\"ticks\":\"outside\"},\"colorscale\":[[0.0,\"#440154\"],[0.1111111111111111,\"#482878\"],[0.2222222222222222,\"#3e4989\"],[0.3333333333333333,\"#31688e\"],[0.4444444444444444,\"#26828e\"],[0.5555555555555556,\"#1f9e89\"],[0.6666666666666666,\"#35b779\"],[0.7777777777777778,\"#6ece58\"],[0.8888888888888888,\"#b5de2b\"],[1.0,\"#fde725\"]],\"type\":\"histogram2d\"}],\"histogram\":[{\"marker\":{\"line\":{\"color\":\"white\",\"width\":0.6}},\"type\":\"histogram\"}],\"mesh3d\":[{\"colorbar\":{\"outlinewidth\":1,\"tickcolor\":\"rgb(36,36,36)\",\"ticks\":\"outside\"},\"type\":\"mesh3d\"}],\"parcoords\":[{\"line\":{\"colorbar\":{\"outlinewidth\":1,\"tickcolor\":\"rgb(36,36,36)\",\"ticks\":\"outside\"}},\"type\":\"parcoords\"}],\"pie\":[{\"automargin\":true,\"type\":\"pie\"}],\"scatter3d\":[{\"line\":{\"colorbar\":{\"outlinewidth\":1,\"tickcolor\":\"rgb(36,36,36)\",\"ticks\":\"outside\"}},\"marker\":{\"colorbar\":{\"outlinewidth\":1,\"tickcolor\":\"rgb(36,36,36)\",\"ticks\":\"outside\"}},\"type\":\"scatter3d\"}],\"scattercarpet\":[{\"marker\":{\"colorbar\":{\"outlinewidth\":1,\"tickcolor\":\"rgb(36,36,36)\",\"ticks\":\"outside\"}},\"type\":\"scattercarpet\"}],\"scattergeo\":[{\"marker\":{\"colorbar\":{\"outlinewidth\":1,\"tickcolor\":\"rgb(36,36,36)\",\"ticks\":\"outside\"}},\"type\":\"scattergeo\"}],\"scattergl\":[{\"marker\":{\"colorbar\":{\"outlinewidth\":1,\"tickcolor\":\"rgb(36,36,36)\",\"ticks\":\"outside\"}},\"type\":\"scattergl\"}],\"scattermapbox\":[{\"marker\":{\"colorbar\":{\"outlinewidth\":1,\"tickcolor\":\"rgb(36,36,36)\",\"ticks\":\"outside\"}},\"type\":\"scattermapbox\"}],\"scatterpolargl\":[{\"marker\":{\"colorbar\":{\"outlinewidth\":1,\"tickcolor\":\"rgb(36,36,36)\",\"ticks\":\"outside\"}},\"type\":\"scatterpolargl\"}],\"scatterpolar\":[{\"marker\":{\"colorbar\":{\"outlinewidth\":1,\"tickcolor\":\"rgb(36,36,36)\",\"ticks\":\"outside\"}},\"type\":\"scatterpolar\"}],\"scatter\":[{\"fillpattern\":{\"fillmode\":\"overlay\",\"size\":10,\"solidity\":0.2},\"type\":\"scatter\"}],\"scatterternary\":[{\"marker\":{\"colorbar\":{\"outlinewidth\":1,\"tickcolor\":\"rgb(36,36,36)\",\"ticks\":\"outside\"}},\"type\":\"scatterternary\"}],\"surface\":[{\"colorbar\":{\"outlinewidth\":1,\"tickcolor\":\"rgb(36,36,36)\",\"ticks\":\"outside\"},\"colorscale\":[[0.0,\"#440154\"],[0.1111111111111111,\"#482878\"],[0.2222222222222222,\"#3e4989\"],[0.3333333333333333,\"#31688e\"],[0.4444444444444444,\"#26828e\"],[0.5555555555555556,\"#1f9e89\"],[0.6666666666666666,\"#35b779\"],[0.7777777777777778,\"#6ece58\"],[0.8888888888888888,\"#b5de2b\"],[1.0,\"#fde725\"]],\"type\":\"surface\"}],\"table\":[{\"cells\":{\"fill\":{\"color\":\"rgb(237,237,237)\"},\"line\":{\"color\":\"white\"}},\"header\":{\"fill\":{\"color\":\"rgb(217,217,217)\"},\"line\":{\"color\":\"white\"}},\"type\":\"table\"}]},\"layout\":{\"annotationdefaults\":{\"arrowhead\":0,\"arrowwidth\":1},\"autotypenumbers\":\"strict\",\"coloraxis\":{\"colorbar\":{\"outlinewidth\":1,\"tickcolor\":\"rgb(36,36,36)\",\"ticks\":\"outside\"}},\"colorscale\":{\"diverging\":[[0.0,\"rgb(103,0,31)\"],[0.1,\"rgb(178,24,43)\"],[0.2,\"rgb(214,96,77)\"],[0.3,\"rgb(244,165,130)\"],[0.4,\"rgb(253,219,199)\"],[0.5,\"rgb(247,247,247)\"],[0.6,\"rgb(209,229,240)\"],[0.7,\"rgb(146,197,222)\"],[0.8,\"rgb(67,147,195)\"],[0.9,\"rgb(33,102,172)\"],[1.0,\"rgb(5,48,97)\"]],\"sequential\":[[0.0,\"#440154\"],[0.1111111111111111,\"#482878\"],[0.2222222222222222,\"#3e4989\"],[0.3333333333333333,\"#31688e\"],[0.4444444444444444,\"#26828e\"],[0.5555555555555556,\"#1f9e89\"],[0.6666666666666666,\"#35b779\"],[0.7777777777777778,\"#6ece58\"],[0.8888888888888888,\"#b5de2b\"],[1.0,\"#fde725\"]],\"sequentialminus\":[[0.0,\"#440154\"],[0.1111111111111111,\"#482878\"],[0.2222222222222222,\"#3e4989\"],[0.3333333333333333,\"#31688e\"],[0.4444444444444444,\"#26828e\"],[0.5555555555555556,\"#1f9e89\"],[0.6666666666666666,\"#35b779\"],[0.7777777777777778,\"#6ece58\"],[0.8888888888888888,\"#b5de2b\"],[1.0,\"#fde725\"]]},\"colorway\":[\"#1F77B4\",\"#FF7F0E\",\"#2CA02C\",\"#D62728\",\"#9467BD\",\"#8C564B\",\"#E377C2\",\"#7F7F7F\",\"#BCBD22\",\"#17BECF\"],\"font\":{\"color\":\"rgb(36,36,36)\"},\"geo\":{\"bgcolor\":\"white\",\"lakecolor\":\"white\",\"landcolor\":\"white\",\"showlakes\":true,\"showland\":true,\"subunitcolor\":\"white\"},\"hoverlabel\":{\"align\":\"left\"},\"hovermode\":\"closest\",\"mapbox\":{\"style\":\"light\"},\"paper_bgcolor\":\"white\",\"plot_bgcolor\":\"white\",\"polar\":{\"angularaxis\":{\"gridcolor\":\"rgb(232,232,232)\",\"linecolor\":\"rgb(36,36,36)\",\"showgrid\":false,\"showline\":true,\"ticks\":\"outside\"},\"bgcolor\":\"white\",\"radialaxis\":{\"gridcolor\":\"rgb(232,232,232)\",\"linecolor\":\"rgb(36,36,36)\",\"showgrid\":false,\"showline\":true,\"ticks\":\"outside\"}},\"scene\":{\"xaxis\":{\"backgroundcolor\":\"white\",\"gridcolor\":\"rgb(232,232,232)\",\"gridwidth\":2,\"linecolor\":\"rgb(36,36,36)\",\"showbackground\":true,\"showgrid\":false,\"showline\":true,\"ticks\":\"outside\",\"zeroline\":false,\"zerolinecolor\":\"rgb(36,36,36)\"},\"yaxis\":{\"backgroundcolor\":\"white\",\"gridcolor\":\"rgb(232,232,232)\",\"gridwidth\":2,\"linecolor\":\"rgb(36,36,36)\",\"showbackground\":true,\"showgrid\":false,\"showline\":true,\"ticks\":\"outside\",\"zeroline\":false,\"zerolinecolor\":\"rgb(36,36,36)\"},\"zaxis\":{\"backgroundcolor\":\"white\",\"gridcolor\":\"rgb(232,232,232)\",\"gridwidth\":2,\"linecolor\":\"rgb(36,36,36)\",\"showbackground\":true,\"showgrid\":false,\"showline\":true,\"ticks\":\"outside\",\"zeroline\":false,\"zerolinecolor\":\"rgb(36,36,36)\"}},\"shapedefaults\":{\"fillcolor\":\"black\",\"line\":{\"width\":0},\"opacity\":0.3},\"ternary\":{\"aaxis\":{\"gridcolor\":\"rgb(232,232,232)\",\"linecolor\":\"rgb(36,36,36)\",\"showgrid\":false,\"showline\":true,\"ticks\":\"outside\"},\"baxis\":{\"gridcolor\":\"rgb(232,232,232)\",\"linecolor\":\"rgb(36,36,36)\",\"showgrid\":false,\"showline\":true,\"ticks\":\"outside\"},\"bgcolor\":\"white\",\"caxis\":{\"gridcolor\":\"rgb(232,232,232)\",\"linecolor\":\"rgb(36,36,36)\",\"showgrid\":false,\"showline\":true,\"ticks\":\"outside\"}},\"title\":{\"x\":0.05},\"xaxis\":{\"automargin\":true,\"gridcolor\":\"rgb(232,232,232)\",\"linecolor\":\"rgb(36,36,36)\",\"showgrid\":false,\"showline\":true,\"ticks\":\"outside\",\"title\":{\"standoff\":15},\"zeroline\":false,\"zerolinecolor\":\"rgb(36,36,36)\"},\"yaxis\":{\"automargin\":true,\"gridcolor\":\"rgb(232,232,232)\",\"linecolor\":\"rgb(36,36,36)\",\"showgrid\":false,\"showline\":true,\"ticks\":\"outside\",\"title\":{\"standoff\":15},\"zeroline\":false,\"zerolinecolor\":\"rgb(36,36,36)\"}}},\"xaxis\":{\"showgrid\":true,\"title\":{\"text\":\"Frequency\"}},\"yaxis\":{\"showgrid\":true,\"title\":{\"text\":\"Class\"}},\"title\":{\"font\":{\"size\":22,\"color\":\"Black\"},\"text\":\"\\u003cb\\u003eTopics per Class\\u003c\\u002fb\\u003e\",\"y\":0.95,\"x\":0.4,\"xanchor\":\"center\",\"yanchor\":\"top\"},\"hoverlabel\":{\"font\":{\"size\":16,\"family\":\"Rockwell\"},\"bgcolor\":\"white\"},\"width\":1250,\"height\":900,\"legend\":{\"title\":{\"text\":\"\\u003cb\\u003eGlobal Topic Representation\"}}},                        {\"responsive\": true}                    )                };                            </script>        </div>"
      ],
      "text/plain": [
       "Figure({\n",
       "    'data': [{'hoverinfo': 'text',\n",
       "              'hovertext': [<b>Topic 0</b><br>Words: zealand, australia, we, is,\n",
       "                            new, <b>Topic 0</b><br>Words: of, the, that, and, to,\n",
       "                            <b>Topic 0</b><br>Words: the, and, of, to, that,\n",
       "                            <b>Topic 0</b><br>Words: the, and, of, that, in,\n",
       "                            <b>Topic 0</b><br>Words: to, the, is, that, in,\n",
       "                            <b>Topic 0</b><br>Words: the, of, to, that, and,\n",
       "                            <b>Topic 0</b><br>Words: and, the, to, of, is, <b>Topic\n",
       "                            0</b><br>Words: canada, we, united, that, nations,\n",
       "                            <b>Topic 0</b><br>Words: japan, korea, the, united, of,\n",
       "                            <b>Topic 0</b><br>Words: tuvalu, pacific, climate,\n",
       "                            samoa, change, <b>Topic 0</b><br>Words: kazakhstan,\n",
       "                            tajikistan, kyrgyzstan, the, and, <b>Topic\n",
       "                            0</b><br>Words: the, and, of, to, in, <b>Topic\n",
       "                            0</b><br>Words: islands, our, marshall, pacific,\n",
       "                            climate, <b>Topic 0</b><br>Words: we, to, is, united,\n",
       "                            the, <b>Topic 0</b><br>Words: of, the, and, in, is,\n",
       "                            <b>Topic 0</b><br>Words: the, of, states, united,\n",
       "                            soviet, <b>Topic 0</b><br>Words: papua, fiji, vanuatu,\n",
       "                            pacific, we, <b>Topic 0</b><br>Words: the, of, states,\n",
       "                            united, is],\n",
       "              'marker': {'color': '#E69F00'},\n",
       "              'name': '0_peace_nations_general_organization',\n",
       "              'orientation': 'h',\n",
       "              'type': 'bar',\n",
       "              'visible': True,\n",
       "              'x': array([ 16, 206,  47,  77,  42, 265,  73,  15,  27,   9,  14,  87,  14,  54,\n",
       "                           57,  43,  19,  57]),\n",
       "              'y': array(['Australia and New Zealand', 'Latin America and the Caribbean',\n",
       "                          'Northern Africa', 'Southern Europe', 'Western Europe',\n",
       "                          'Sub-Saharan Africa', 'South-eastern Asia', 'Northern America',\n",
       "                          'Eastern Asia', 'Polynesia', 'Central Asia', 'Western Asia',\n",
       "                          'Micronesia', 'Northern Europe', 'Southern Asia', 'none', 'Melanesia',\n",
       "                          'Eastern Europe'], dtype=object)},\n",
       "             {'hoverinfo': 'text',\n",
       "              'hovertext': [<b>Topic 1</b><br>Words: zealand, australia, this, it,\n",
       "                            is, <b>Topic 1</b><br>Words: of, the, that, to, in,\n",
       "                            <b>Topic 1</b><br>Words: and, the, of, to, in, <b>Topic\n",
       "                            1</b><br>Words: the, of, and, that, in, <b>Topic\n",
       "                            1</b><br>Words: is, to, the, in, that, <b>Topic\n",
       "                            1</b><br>Words: the, of, to, in, that, <b>Topic\n",
       "                            1</b><br>Words: the, and, to, of, in, <b>Topic\n",
       "                            1</b><br>Words: united, nations, this, to, be, <b>Topic\n",
       "                            1</b><br>Words: japan, the, of, and, to, <b>Topic\n",
       "                            1</b><br>Words: tonga, pacific, tuvalu, we, and,\n",
       "                            <b>Topic 1</b><br>Words: tajikistan, turkmenistan,\n",
       "                            tajik, united, nations, <b>Topic 1</b><br>Words: the,\n",
       "                            and, of, to, in, <b>Topic 1</b><br>Words: our, palau,\n",
       "                            islands, we, pacific, <b>Topic 1</b><br>Words: ireland,\n",
       "                            be, in, the, is, <b>Topic 1</b><br>Words: of, the, in,\n",
       "                            to, be, <b>Topic 1</b><br>Words: of, the, in, and, is,\n",
       "                            <b>Topic 1</b><br>Words: fiji, pacific, our, papua, we,\n",
       "                            <b>Topic 1</b><br>Words: of, the, in, and, states],\n",
       "              'marker': {'color': '#56B4E9'},\n",
       "              'name': '1_general_nations_political_government',\n",
       "              'orientation': 'h',\n",
       "              'type': 'bar',\n",
       "              'visible': 'legendonly',\n",
       "              'x': array([  5, 113,  16,  24,  27, 125,  36,   6,  19,   7,   3,  54,  11,  31,\n",
       "                           27,  30,   8,  35]),\n",
       "              'y': array(['Australia and New Zealand', 'Latin America and the Caribbean',\n",
       "                          'Northern Africa', 'Southern Europe', 'Western Europe',\n",
       "                          'Sub-Saharan Africa', 'South-eastern Asia', 'Northern America',\n",
       "                          'Eastern Asia', 'Polynesia', 'Central Asia', 'Western Asia',\n",
       "                          'Micronesia', 'Northern Europe', 'Southern Asia', 'none', 'Melanesia',\n",
       "                          'Eastern Europe'], dtype=object)},\n",
       "             {'hoverinfo': 'text',\n",
       "              'hovertext': [<b>Topic 2</b><br>Words: zealand, veto, council, as,\n",
       "                            it, <b>Topic 2</b><br>Words: of, the, and, in, to,\n",
       "                            <b>Topic 2</b><br>Words: the, of, its, and, in,\n",
       "                            <b>Topic 2</b><br>Words: indian, goa, and, the, to,\n",
       "                            <b>Topic 2</b><br>Words: austria, austrian, the, in,\n",
       "                            of, <b>Topic 2</b><br>Words: the, of, to, and, in,\n",
       "                            <b>Topic 2</b><br>Words: laos, arf, neutrality, any,\n",
       "                            will, <b>Topic 2</b><br>Words: canada, afghanistan,\n",
       "                            canadian, united, security, <b>Topic 2</b><br>Words:\n",
       "                            mongolian, korea, korean, republic, peninsula, <b>Topic\n",
       "                            2</b><br>Words: of, the, and, nations, united, <b>Topic\n",
       "                            2</b><br>Words: ireland, in, this, the, to, <b>Topic\n",
       "                            2</b><br>Words: the, of, in, to, and, <b>Topic\n",
       "                            2</b><br>Words: the, of, this, in, and, <b>Topic\n",
       "                            2</b><br>Words: nuclear, states, the, cuba, of],\n",
       "              'marker': {'color': '#009E73'},\n",
       "              'name': '2_ukraine_republic_ukrainian_general',\n",
       "              'orientation': 'h',\n",
       "              'type': 'bar',\n",
       "              'visible': 'legendonly',\n",
       "              'x': array([ 2, 22,  6,  7,  8, 21,  3,  2,  2, 11,  4, 11,  7,  3]),\n",
       "              'y': array(['Australia and New Zealand', 'Latin America and the Caribbean',\n",
       "                          'Northern Africa', 'Southern Europe', 'Western Europe',\n",
       "                          'Sub-Saharan Africa', 'South-eastern Asia', 'Northern America',\n",
       "                          'Eastern Asia', 'Western Asia', 'Northern Europe', 'Southern Asia',\n",
       "                          'none', 'Eastern Europe'], dtype=object)},\n",
       "             {'hoverinfo': 'text',\n",
       "              'hovertext': [<b>Topic 3</b><br>Words: zealand, viet, nam, believe,\n",
       "                            new, <b>Topic 3</b><br>Words: mexico, of, and, we, the,\n",
       "                            <b>Topic 3</b><br>Words: tunisia, the, morocco,\n",
       "                            international, and, <b>Topic 3</b><br>Words: spain, it,\n",
       "                            is, that, the, <b>Topic 3</b><br>Words: that, to,\n",
       "                            mexico, the, of, <b>Topic 3</b><br>Words: of, the,\n",
       "                            mexico, to, in, <b>Topic 3</b><br>Words: mexico,\n",
       "                            philippines, the, to, of, <b>Topic 3</b><br>Words:\n",
       "                            keeping, canada, nations, we, united, <b>Topic\n",
       "                            3</b><br>Words: tuvalu, climate, change, target, our,\n",
       "                            <b>Topic 3</b><br>Words: the, of, to, and, in, <b>Topic\n",
       "                            3</b><br>Words: marshall, islands, pacific,\n",
       "                            marshallese, mdgs, <b>Topic 3</b><br>Words: is, in,\n",
       "                            must, to, for, <b>Topic 3</b><br>Words: of, the, and,\n",
       "                            mexico, in, <b>Topic 3</b><br>Words: atomic, war,\n",
       "                            appropriations, ussr, propaganda, <b>Topic\n",
       "                            3</b><br>Words: of, and, the, in, mexico],\n",
       "              'marker': {'color': '#F0E442'},\n",
       "              'name': '3_mexico_mexican_nations_international',\n",
       "              'orientation': 'h',\n",
       "              'type': 'bar',\n",
       "              'visible': 'legendonly',\n",
       "              'x': array([ 1, 16,  2,  2,  9, 28,  8,  2,  1, 14,  1,  7,  5,  2, 10]),\n",
       "              'y': array(['Australia and New Zealand', 'Latin America and the Caribbean',\n",
       "                          'Northern Africa', 'Southern Europe', 'Western Europe',\n",
       "                          'Sub-Saharan Africa', 'South-eastern Asia', 'Northern America',\n",
       "                          'Polynesia', 'Western Asia', 'Micronesia', 'Northern Europe',\n",
       "                          'Southern Asia', 'none', 'Eastern Europe'], dtype=object)},\n",
       "             {'hoverinfo': 'text',\n",
       "              'hovertext': [<b>Topic 4</b><br>Words: of, the, and, to, in,\n",
       "                            <b>Topic 4</b><br>Words: tunisia, algeria, and,\n",
       "                            international, the, <b>Topic 4</b><br>Words: macedonia,\n",
       "                            malta, and, the, of, <b>Topic 4</b><br>Words: european,\n",
       "                            peace, community, must, the, <b>Topic 4</b><br>Words:\n",
       "                            the, to, of, and, in, <b>Topic 4</b><br>Words: asean,\n",
       "                            malaysia, in, of, and, <b>Topic 4</b><br>Words: we, do,\n",
       "                            have, that, but, <b>Topic 4</b><br>Words: korean,\n",
       "                            reunification, peninsula, nuclear, korea, <b>Topic\n",
       "                            4</b><br>Words: tuvalu, sids, gcf, climate, change,\n",
       "                            <b>Topic 4</b><br>Words: kazakhstan, water, tajikistan,\n",
       "                            cis, aral, <b>Topic 4</b><br>Words: arab, israel, the,\n",
       "                            and, of, <b>Topic 4</b><br>Words: islands, micronesia,\n",
       "                            island, marshall, our, <b>Topic 4</b><br>Words: latvia,\n",
       "                            ireland, the, russian, to, <b>Topic 4</b><br>Words:\n",
       "                            nepal, and, of, the, we, <b>Topic 4</b><br>Words:\n",
       "                            papua, fijian, fiji, guinea, our, <b>Topic\n",
       "                            4</b><br>Words: ukraine, the, of, law, and],\n",
       "              'marker': {'color': '#D55E00'},\n",
       "              'name': '4_tanzania_republic_zimbabwe_nations',\n",
       "              'orientation': 'h',\n",
       "              'type': 'bar',\n",
       "              'visible': 'legendonly',\n",
       "              'x': array([19,  2,  9,  2, 25,  5,  2,  1,  1,  2, 10,  4,  5,  4,  2,  3]),\n",
       "              'y': array(['Latin America and the Caribbean', 'Northern Africa', 'Southern Europe',\n",
       "                          'Western Europe', 'Sub-Saharan Africa', 'South-eastern Asia',\n",
       "                          'Northern America', 'Eastern Asia', 'Polynesia', 'Central Asia',\n",
       "                          'Western Asia', 'Micronesia', 'Northern Europe', 'Southern Asia',\n",
       "                          'Melanesia', 'Eastern Europe'], dtype=object)},\n",
       "             {'hoverinfo': 'text',\n",
       "              'hovertext': [<b>Topic 5</b><br>Words: zealand, timor, council, new,\n",
       "                            east, <b>Topic 5</b><br>Words: we, that, and, to, the,\n",
       "                            <b>Topic 5</b><br>Words: tunisia, tunisian, and, to,\n",
       "                            all, <b>Topic 5</b><br>Words: marino, slovenia,\n",
       "                            portugal, water, san, <b>Topic 5</b><br>Words: we,\n",
       "                            that, to, are, our, <b>Topic 5</b><br>Words: and, to,\n",
       "                            we, in, the, <b>Topic 5</b><br>Words: burma, their, to,\n",
       "                            and, of, <b>Topic 5</b><br>Words: canada, we, that,\n",
       "                            children, is, <b>Topic 5</b><br>Words: chinese, china,\n",
       "                            international, security, taiwan, <b>Topic\n",
       "                            5</b><br>Words: tuvalu, climate, emissions, change,\n",
       "                            bali, <b>Topic 5</b><br>Words: iran, arab, israel,\n",
       "                            rouhani, that, <b>Topic 5</b><br>Words: latvia, we,\n",
       "                            must, be, have, <b>Topic 5</b><br>Words: muslims, what,\n",
       "                            afghanistan, that, and, <b>Topic 5</b><br>Words: we,\n",
       "                            it, in, that, of, <b>Topic 5</b><br>Words: czech,\n",
       "                            united, eu, the, atomic],\n",
       "              'marker': {'color': '#0072B2'},\n",
       "              'name': '5_terrorists_terrorism_terrorist_iraq',\n",
       "              'orientation': 'h',\n",
       "              'type': 'bar',\n",
       "              'visible': 'legendonly',\n",
       "              'x': array([ 1, 19,  3,  3,  3, 20,  3,  2,  1,  1,  8,  7,  5,  3,  4]),\n",
       "              'y': array(['Australia and New Zealand', 'Latin America and the Caribbean',\n",
       "                          'Northern Africa', 'Southern Europe', 'Western Europe',\n",
       "                          'Sub-Saharan Africa', 'South-eastern Asia', 'Northern America',\n",
       "                          'Eastern Asia', 'Polynesia', 'Western Asia', 'Northern Europe',\n",
       "                          'Southern Asia', 'none', 'Eastern Europe'], dtype=object)},\n",
       "             {'hoverinfo': 'text',\n",
       "              'hovertext': [<b>Topic 6</b><br>Words: the, which, of, in, to,\n",
       "                            <b>Topic 6</b><br>Words: which, to, the, of, tunisia,\n",
       "                            <b>Topic 6</b><br>Words: the, of, to, in, we, <b>Topic\n",
       "                            6</b><br>Words: europe, which, not, european, it,\n",
       "                            <b>Topic 6</b><br>Words: the, of, in, to, that,\n",
       "                            <b>Topic 6</b><br>Words: myanmar, rakhine, in, the, be,\n",
       "                            <b>Topic 6</b><br>Words: japan, this, the, it, nuclear,\n",
       "                            <b>Topic 6</b><br>Words: kazakstan, asian, asia,\n",
       "                            central, should, <b>Topic 6</b><br>Words: the, which,\n",
       "                            in, of, to, <b>Topic 6</b><br>Words: denmark, european,\n",
       "                            energy, latvia, union, <b>Topic 6</b><br>Words:\n",
       "                            afghanistan, sri, lanka, of, the, <b>Topic\n",
       "                            6</b><br>Words: german, the, of, in, is, <b>Topic\n",
       "                            6</b><br>Words: papua, vanuatu, guinea, government,\n",
       "                            new, <b>Topic 6</b><br>Words: bulgaria, european,\n",
       "                            ukrainian, the, of],\n",
       "              'marker': {'color': '#CC79A7'},\n",
       "              'name': '6_luxembourg_general_council_nations',\n",
       "              'orientation': 'h',\n",
       "              'type': 'bar',\n",
       "              'visible': 'legendonly',\n",
       "              'x': array([14,  4,  5,  1, 16,  8,  3,  1,  9,  4,  7,  5,  2,  2]),\n",
       "              'y': array(['Latin America and the Caribbean', 'Northern Africa', 'Southern Europe',\n",
       "                          'Western Europe', 'Sub-Saharan Africa', 'South-eastern Asia',\n",
       "                          'Eastern Asia', 'Central Asia', 'Western Asia', 'Northern Europe',\n",
       "                          'Southern Asia', 'none', 'Melanesia', 'Eastern Europe'], dtype=object)},\n",
       "             {'hoverinfo': 'text',\n",
       "              'hovertext': [<b>Topic 7</b><br>Words: australia, we, new, aliir,\n",
       "                            to, <b>Topic 7</b><br>Words: to, and, the, we, of,\n",
       "                            <b>Topic 7</b><br>Words: morocco, pandemic, covid, 19,\n",
       "                            mohammed, <b>Topic 7</b><br>Words: herzegovina, bosnia,\n",
       "                            and, european, pandemic, <b>Topic 7</b><br>Words:\n",
       "                            europe, the, for, we, of, <b>Topic 7</b><br>Words: the,\n",
       "                            and, to, of, countries, <b>Topic 7</b><br>Words:\n",
       "                            malaysia, the, myanmar, to, of, <b>Topic\n",
       "                            7</b><br>Words: united, nations, states, this, to,\n",
       "                            <b>Topic 7</b><br>Words: turkmenistan, kazakhstan, un,\n",
       "                            caspian, cooperation, <b>Topic 7</b><br>Words: arab,\n",
       "                            iran, aggression, and, international, <b>Topic\n",
       "                            7</b><br>Words: kiribati, family, seafarers, covid,\n",
       "                            our, <b>Topic 7</b><br>Words: ireland, irish,\n",
       "                            lithuania, in, the, <b>Topic 7</b><br>Words:\n",
       "                            bangladesh, maldives, and, the, of, <b>Topic\n",
       "                            7</b><br>Words: of, the, in, we, to, <b>Topic\n",
       "                            7</b><br>Words: papua, guinea, pacific, new,\n",
       "                            bougainville, <b>Topic 7</b><br>Words: czech,\n",
       "                            hungarian, republic, international, europe],\n",
       "              'marker': {'color': '#E69F00'},\n",
       "              'name': '7_zambia_africa_african_namibia',\n",
       "              'orientation': 'h',\n",
       "              'type': 'bar',\n",
       "              'visible': 'legendonly',\n",
       "              'x': array([ 3, 10,  1,  7,  4, 24,  6,  2,  2,  5,  1,  2,  6,  4,  1,  2]),\n",
       "              'y': array(['Australia and New Zealand', 'Latin America and the Caribbean',\n",
       "                          'Northern Africa', 'Southern Europe', 'Western Europe',\n",
       "                          'Sub-Saharan Africa', 'South-eastern Asia', 'Northern America',\n",
       "                          'Central Asia', 'Western Asia', 'Micronesia', 'Northern Europe',\n",
       "                          'Southern Asia', 'none', 'Melanesia', 'Eastern Europe'], dtype=object)},\n",
       "             {'hoverinfo': 'text',\n",
       "              'hovertext': [<b>Topic 8</b><br>Words: australia, australian,\n",
       "                            nations, vietnam, and, <b>Topic 8</b><br>Words: of,\n",
       "                            the, and, we, that, <b>Topic 8</b><br>Words: the,\n",
       "                            united, of, its, and, <b>Topic 8</b><br>Words: their,\n",
       "                            peoples, imperialists, and, imperialist, <b>Topic\n",
       "                            8</b><br>Words: are, france, be, the, in, <b>Topic\n",
       "                            8</b><br>Words: and, the, of, nations, to, <b>Topic\n",
       "                            8</b><br>Words: indonesia, global, development,\n",
       "                            nations, united, <b>Topic 8</b><br>Words: improvements,\n",
       "                            assembly, ceasefire, committee, new, <b>Topic\n",
       "                            8</b><br>Words: should, peace, united, nations, china,\n",
       "                            <b>Topic 8</b><br>Words: tajikistan, sustainable,\n",
       "                            water, goals, development, <b>Topic 8</b><br>Words:\n",
       "                            and, the, of, to, its, <b>Topic 8</b><br>Words:\n",
       "                            islands, pacific, marshall, kigali, island, <b>Topic\n",
       "                            8</b><br>Words: ireland, nations, we, united, and,\n",
       "                            <b>Topic 8</b><br>Words: pakistan, and, nations, we,\n",
       "                            our, <b>Topic 8</b><br>Words: world, of, nations, this,\n",
       "                            united, <b>Topic 8</b><br>Words: solomon, islands,\n",
       "                            pacific, papua, our, <b>Topic 8</b><br>Words:\n",
       "                            socialist, united, of, the, nations],\n",
       "              'marker': {'color': '#56B4E9'},\n",
       "              'name': '8_freitas_amaral_nations_general',\n",
       "              'orientation': 'h',\n",
       "              'type': 'bar',\n",
       "              'visible': 'legendonly',\n",
       "              'x': array([ 1, 14,  5,  4,  3, 14,  2,  1,  2,  1, 12,  2,  5,  5,  1,  1,  4]),\n",
       "              'y': array(['Australia and New Zealand', 'Latin America and the Caribbean',\n",
       "                          'Northern Africa', 'Southern Europe', 'Western Europe',\n",
       "                          'Sub-Saharan Africa', 'South-eastern Asia', 'Northern America',\n",
       "                          'Eastern Asia', 'Central Asia', 'Western Asia', 'Micronesia',\n",
       "                          'Northern Europe', 'Southern Asia', 'none', 'Melanesia',\n",
       "                          'Eastern Europe'], dtype=object)},\n",
       "             {'hoverinfo': 'text',\n",
       "              'hovertext': [<b>Topic 9</b><br>Words: australia, australian, some,\n",
       "                            this, in, <b>Topic 9</b><br>Words: the, of, in, and,\n",
       "                            to, <b>Topic 9</b><br>Words: international, the,\n",
       "                            libyan, jamahiriya, and, <b>Topic 9</b><br>Words:\n",
       "                            which, has, to, for, of, <b>Topic 9</b><br>Words:\n",
       "                            netherlands, to, in, this, the, <b>Topic\n",
       "                            9</b><br>Words: the, of, south, to, in, <b>Topic\n",
       "                            9</b><br>Words: malaysia, the, and, countries, of,\n",
       "                            <b>Topic 9</b><br>Words: united, nations, unanimity,\n",
       "                            the, of, <b>Topic 9</b><br>Words: israel, and, the, of,\n",
       "                            in, <b>Topic 9</b><br>Words: in, nations, council, it,\n",
       "                            the, <b>Topic 9</b><br>Words: afghanistan, the, and,\n",
       "                            of, to, <b>Topic 9</b><br>Words: is, soviet, the, on,\n",
       "                            to, <b>Topic 9</b><br>Words: fiji, papua, pacific,\n",
       "                            guinea, nuclear, <b>Topic 9</b><br>Words: of, the,\n",
       "                            states, and, in],\n",
       "              'marker': {'color': '#009E73'},\n",
       "              'name': '9_malaysia_general_secretary_government',\n",
       "              'orientation': 'h',\n",
       "              'type': 'bar',\n",
       "              'visible': 'legendonly',\n",
       "              'x': array([ 1, 16,  3,  1,  2, 19,  6,  2,  8,  3,  7,  3,  2,  4]),\n",
       "              'y': array(['Australia and New Zealand', 'Latin America and the Caribbean',\n",
       "                          'Northern Africa', 'Southern Europe', 'Western Europe',\n",
       "                          'Sub-Saharan Africa', 'South-eastern Asia', 'Northern America',\n",
       "                          'Western Asia', 'Northern Europe', 'Southern Asia', 'none', 'Melanesia',\n",
       "                          'Eastern Europe'], dtype=object)},\n",
       "             {'hoverinfo': 'text',\n",
       "              'hovertext': [<b>Topic 10</b><br>Words: australia, australians,\n",
       "                            debt, trade, hayden, <b>Topic 10</b><br>Words: and, of,\n",
       "                            the, we, that, <b>Topic 10</b><br>Words: the, libya,\n",
       "                            and, of, to, <b>Topic 10</b><br>Words: modernity,\n",
       "                            montaigne, is, it, religious, <b>Topic 10</b><br>Words:\n",
       "                            had, zeeland, europe, van, belgium, <b>Topic\n",
       "                            10</b><br>Words: to, the, and, in, of, <b>Topic\n",
       "                            10</b><br>Words: nam, viet, kampuchea, vietnamese,\n",
       "                            cambodia, <b>Topic 10</b><br>Words: canada, 1987,\n",
       "                            soviet, in, we, <b>Topic 10</b><br>Words: mongolian,\n",
       "                            region, nuclear, strengthening, of, <b>Topic\n",
       "                            10</b><br>Words: tuvalu, sids, mdgs, mdg, climate,\n",
       "                            <b>Topic 10</b><br>Words: and, the, of, international,\n",
       "                            in, <b>Topic 10</b><br>Words: sustainable, climate,\n",
       "                            leadership, palau, we, <b>Topic 10</b><br>Words:\n",
       "                            denmark, development, finland, and, for, <b>Topic\n",
       "                            10</b><br>Words: lanka, sri, development, the, in,\n",
       "                            <b>Topic 10</b><br>Words: syria, chemical, european,\n",
       "                            we, is, <b>Topic 10</b><br>Words: the, of, and,\n",
       "                            international, on],\n",
       "              'marker': {'color': '#F0E442'},\n",
       "              'name': '10_caputo_general_conference_nations',\n",
       "              'orientation': 'h',\n",
       "              'type': 'bar',\n",
       "              'visible': 'legendonly',\n",
       "              'x': array([ 1, 16,  5,  2,  3, 14,  5,  2,  1,  1,  7,  2,  5,  5,  1,  7]),\n",
       "              'y': array(['Australia and New Zealand', 'Latin America and the Caribbean',\n",
       "                          'Northern Africa', 'Southern Europe', 'Western Europe',\n",
       "                          'Sub-Saharan Africa', 'South-eastern Asia', 'Northern America',\n",
       "                          'Eastern Asia', 'Polynesia', 'Western Asia', 'Micronesia',\n",
       "                          'Northern Europe', 'Southern Asia', 'none', 'Eastern Europe'],\n",
       "                         dtype=object)},\n",
       "             {'hoverinfo': 'text',\n",
       "              'hovertext': [<b>Topic 11</b><br>Words: peking, australia, viet,\n",
       "                            nam, asia, <b>Topic 11</b><br>Words: colombia, that,\n",
       "                            of, the, to, <b>Topic 11</b><br>Words: morocco, egypt,\n",
       "                            colombia, and, the, <b>Topic 11</b><br>Words: portugal,\n",
       "                            slovenia, colombia, the, of, <b>Topic 11</b><br>Words:\n",
       "                            austria, colombia, of, europe, the, <b>Topic\n",
       "                            11</b><br>Words: colombia, of, the, which, to, <b>Topic\n",
       "                            11</b><br>Words: japan, mongolia, colombia, to, will,\n",
       "                            <b>Topic 11</b><br>Words: tonga, ncds, irena, elected,\n",
       "                            definition, <b>Topic 11</b><br>Words: kyrgyzstan,\n",
       "                            odihr, nomad, mountain, kyrgyz, <b>Topic\n",
       "                            11</b><br>Words: cyprus, problem, turkey, colombia, to,\n",
       "                            <b>Topic 11</b><br>Words: denmark, colombia, must, we,\n",
       "                            to, <b>Topic 11</b><br>Words: afghanistan, maldives,\n",
       "                            colombia, our, and, <b>Topic 11</b><br>Words:\n",
       "                            relations, favourable, it, colombia, that, <b>Topic\n",
       "                            11</b><br>Words: solomon, islands, papua, agreement,\n",
       "                            taiwan, <b>Topic 11</b><br>Words: colombia, of, the,\n",
       "                            and, in],\n",
       "              'marker': {'color': '#D55E00'},\n",
       "              'name': '11_colombia_colombian_nations_country',\n",
       "              'orientation': 'h',\n",
       "              'type': 'bar',\n",
       "              'visible': 'legendonly',\n",
       "              'x': array([ 1, 19,  4,  4,  3, 16,  2,  1,  1,  3,  7,  6,  1,  1,  6]),\n",
       "              'y': array(['Australia and New Zealand', 'Latin America and the Caribbean',\n",
       "                          'Northern Africa', 'Southern Europe', 'Western Europe',\n",
       "                          'Sub-Saharan Africa', 'Eastern Asia', 'Polynesia', 'Central Asia',\n",
       "                          'Western Asia', 'Northern Europe', 'Southern Asia', 'none', 'Melanesia',\n",
       "                          'Eastern Europe'], dtype=object)},\n",
       "             {'hoverinfo': 'text',\n",
       "              'hovertext': [<b>Topic 12</b><br>Words: panama, which, of, the,\n",
       "                            that, <b>Topic 12</b><br>Words: panama, egypt, canal,\n",
       "                            the, and, <b>Topic 12</b><br>Words: panama, of, the,\n",
       "                            which, and, <b>Topic 12</b><br>Words: panama, canal,\n",
       "                            the, which, of, <b>Topic 12</b><br>Words: panama, of,\n",
       "                            the, which, to, <b>Topic 12</b><br>Words: panama,\n",
       "                            british, manila, of, the, <b>Topic 12</b><br>Words:\n",
       "                            panama, korean, korea, mongolia, reunification,\n",
       "                            <b>Topic 12</b><br>Words: tonga, panama, pacific,\n",
       "                            covid, 19, <b>Topic 12</b><br>Words: panama,\n",
       "                            azerbaijan, of, and, the, <b>Topic 12</b><br>Words:\n",
       "                            nauru, panama, pacific, bless, laundering, <b>Topic\n",
       "                            12</b><br>Words: panama, canal, the, we, of, <b>Topic\n",
       "                            12</b><br>Words: panama, india, oil, of, the, <b>Topic\n",
       "                            12</b><br>Words: russia, lithuania, ukrainian, ukraine,\n",
       "                            gentlemen, <b>Topic 12</b><br>Words: panama, pacific,\n",
       "                            kuwait, south, our, <b>Topic 12</b><br>Words: romanian,\n",
       "                            panama, german, germany, states],\n",
       "              'marker': {'color': '#0072B2'},\n",
       "              'name': '12_panamanian_panama_panamanians_nations',\n",
       "              'orientation': 'h',\n",
       "              'type': 'bar',\n",
       "              'visible': 'legendonly',\n",
       "              'x': array([18,  2,  7,  4, 14,  4,  2,  2,  7,  1,  7,  4,  1,  1,  1]),\n",
       "              'y': array(['Latin America and the Caribbean', 'Northern Africa', 'Southern Europe',\n",
       "                          'Western Europe', 'Sub-Saharan Africa', 'South-eastern Asia',\n",
       "                          'Eastern Asia', 'Polynesia', 'Western Asia', 'Micronesia',\n",
       "                          'Northern Europe', 'Southern Asia', 'none', 'Melanesia',\n",
       "                          'Eastern Europe'], dtype=object)},\n",
       "             {'hoverinfo': 'text',\n",
       "              'hovertext': [<b>Topic 13</b><br>Words: and, our, that, we, to,\n",
       "                            <b>Topic 13</b><br>Words: morocco, and, our, to,\n",
       "                            region, <b>Topic 13</b><br>Words: malta, mediterranean,\n",
       "                            and, in, greece, <b>Topic 13</b><br>Words:\n",
       "                            liechtenstein, our, we, in, that, <b>Topic\n",
       "                            13</b><br>Words: and, to, the, international, of,\n",
       "                            <b>Topic 13</b><br>Words: vietnamese, and, to,\n",
       "                            kampuchea, that, <b>Topic 13</b><br>Words: china,\n",
       "                            japan, japanese, girls, global, <b>Topic\n",
       "                            13</b><br>Words: pacific, caledonia, nuclear, we, year,\n",
       "                            <b>Topic 13</b><br>Words: azerbaijan, international,\n",
       "                            efforts, and, resolutions, <b>Topic 13</b><br>Words:\n",
       "                            climate, palau, ocean, micronesia, marine, <b>Topic\n",
       "                            13</b><br>Words: norway, we, to, and, our, <b>Topic\n",
       "                            13</b><br>Words: sri, lanka, pakistan, and, global,\n",
       "                            <b>Topic 13</b><br>Words: solomon, islands, pacific,\n",
       "                            our, tuna, <b>Topic 13</b><br>Words: moldova, poland,\n",
       "                            bulgaria, transnistrian, republic],\n",
       "              'marker': {'color': '#CC79A7'},\n",
       "              'name': '13_jeremić_president_republic_arab',\n",
       "              'orientation': 'h',\n",
       "              'type': 'bar',\n",
       "              'visible': 'legendonly',\n",
       "              'x': array([23,  2,  6,  2, 16,  4,  2,  1,  3,  2,  6,  2,  2,  4]),\n",
       "              'y': array(['Latin America and the Caribbean', 'Northern Africa', 'Southern Europe',\n",
       "                          'Western Europe', 'Sub-Saharan Africa', 'South-eastern Asia',\n",
       "                          'Eastern Asia', 'Polynesia', 'Western Asia', 'Micronesia',\n",
       "                          'Northern Europe', 'Southern Asia', 'Melanesia', 'Eastern Europe'],\n",
       "                         dtype=object)},\n",
       "             {'hoverinfo': 'text',\n",
       "              'hovertext': [<b>Topic 14</b><br>Words: zealand, be, there, in,\n",
       "                            nations, <b>Topic 14</b><br>Words: the, of, in, to,\n",
       "                            and, <b>Topic 14</b><br>Words: algerian, government,\n",
       "                            france, french, had, <b>Topic 14</b><br>Words: the, of,\n",
       "                            states, and, united, <b>Topic 14</b><br>Words: is, in,\n",
       "                            switzerland, human, be, <b>Topic 14</b><br>Words: our,\n",
       "                            the, to, we, development, <b>Topic 14</b><br>Words:\n",
       "                            thailand, the, of, in, delegation, <b>Topic\n",
       "                            14</b><br>Words: states, united, near, that, this,\n",
       "                            <b>Topic 14</b><br>Words: tuvalu, island, particularly,\n",
       "                            our, islands, <b>Topic 14</b><br>Words: iraq, lebanon,\n",
       "                            the, to, and, <b>Topic 14</b><br>Words: united, we, be,\n",
       "                            to, this, <b>Topic 14</b><br>Words: we, this, of, the,\n",
       "                            in, <b>Topic 14</b><br>Words: communism, taiwan,\n",
       "                            mainland, chinese, communists, <b>Topic\n",
       "                            14</b><br>Words: pacific, vanuatu, my, government, we,\n",
       "                            <b>Topic 14</b><br>Words: united, states, the, of,\n",
       "                            czech],\n",
       "              'marker': {'color': '#E69F00'},\n",
       "              'name': '14_guyana_general_venezuela_nations',\n",
       "              'orientation': 'h',\n",
       "              'type': 'bar',\n",
       "              'visible': 'legendonly',\n",
       "              'x': array([ 2, 17,  3,  5,  5, 11,  5,  1,  1,  6,  3,  4,  1,  3,  7]),\n",
       "              'y': array(['Australia and New Zealand', 'Latin America and the Caribbean',\n",
       "                          'Northern Africa', 'Southern Europe', 'Western Europe',\n",
       "                          'Sub-Saharan Africa', 'South-eastern Asia', 'Northern America',\n",
       "                          'Polynesia', 'Western Asia', 'Northern Europe', 'Southern Asia', 'none',\n",
       "                          'Melanesia', 'Eastern Europe'], dtype=object)},\n",
       "             {'hoverinfo': 'text',\n",
       "              'hovertext': [<b>Topic 15</b><br>Words: zealand, pacific, nuclear,\n",
       "                            south, treaty, <b>Topic 15</b><br>Words: our, we, and,\n",
       "                            to, food, <b>Topic 15</b><br>Words: international, and,\n",
       "                            to, that, millennium, <b>Topic 15</b><br>Words: france,\n",
       "                            private, sector, is, to, <b>Topic 15</b><br>Words:\n",
       "                            food, to, the, and, in, <b>Topic 15</b><br>Words:\n",
       "                            millennium, nations, united, food, summit, <b>Topic\n",
       "                            15</b><br>Words: mongolia, nuclear, weapon, millennium,\n",
       "                            as, <b>Topic 15</b><br>Words: tajikistan, kyrgyzstan,\n",
       "                            turkmenistan, kyrgyz, food, <b>Topic 15</b><br>Words:\n",
       "                            israel, and, international, its, the, <b>Topic\n",
       "                            15</b><br>Words: pacific, nauru, island, forum,\n",
       "                            nations, <b>Topic 15</b><br>Words: finland,\n",
       "                            development, security, council, food, <b>Topic\n",
       "                            15</b><br>Words: nepal, the, nations, international,\n",
       "                            and, <b>Topic 15</b><br>Words: fiji, fijians, rotumans,\n",
       "                            communities, indigenous, <b>Topic 15</b><br>Words:\n",
       "                            bulgaria, and, the, millennium, of],\n",
       "              'marker': {'color': '#56B4E9'},\n",
       "              'name': '15_democracy_general_brockmann_nations',\n",
       "              'orientation': 'h',\n",
       "              'type': 'bar',\n",
       "              'visible': 'legendonly',\n",
       "              'x': array([ 2, 20,  4,  2, 19,  4,  1,  3,  5,  2,  2,  3,  2,  5]),\n",
       "              'y': array(['Australia and New Zealand', 'Latin America and the Caribbean',\n",
       "                          'Northern Africa', 'Western Europe', 'Sub-Saharan Africa',\n",
       "                          'South-eastern Asia', 'Eastern Asia', 'Central Asia', 'Western Asia',\n",
       "                          'Micronesia', 'Northern Europe', 'Southern Asia', 'Melanesia',\n",
       "                          'Eastern Europe'], dtype=object)},\n",
       "             {'hoverinfo': 'text',\n",
       "              'hovertext': [<b>Topic 16</b><br>Words: of, the, and, to, in,\n",
       "                            <b>Topic 16</b><br>Words: egypt, the, of, its, and,\n",
       "                            <b>Topic 16</b><br>Words: italy, in, of, the, to,\n",
       "                            <b>Topic 16</b><br>Words: the, to, of, detente, that,\n",
       "                            <b>Topic 16</b><br>Words: of, the, to, and, in,\n",
       "                            <b>Topic 16</b><br>Words: countries, the, of, and, in,\n",
       "                            <b>Topic 16</b><br>Words: reagan, strength, we, our,\n",
       "                            or, <b>Topic 16</b><br>Words: mongolian, republic, of,\n",
       "                            states, the, <b>Topic 16</b><br>Words: and, the, of,\n",
       "                            in, to, <b>Topic 16</b><br>Words: norway, should, ten,\n",
       "                            in, the, <b>Topic 16</b><br>Words: the, of, and,\n",
       "                            islamic, countries, <b>Topic 16</b><br>Words: german,\n",
       "                            democratic, soviet, republic, union, <b>Topic\n",
       "                            16</b><br>Words: papua, pacific, guinea, new,\n",
       "                            countries, <b>Topic 16</b><br>Words: of, the, in,\n",
       "                            international, nuclear],\n",
       "              'marker': {'color': '#009E73'},\n",
       "              'name': '16_opertti_republic_general_democratic',\n",
       "              'orientation': 'h',\n",
       "              'type': 'bar',\n",
       "              'visible': 'legendonly',\n",
       "              'x': array([14,  3,  2,  3, 22,  5,  1,  1,  9,  2,  4,  2,  2,  3]),\n",
       "              'y': array(['Latin America and the Caribbean', 'Northern Africa', 'Southern Europe',\n",
       "                          'Western Europe', 'Sub-Saharan Africa', 'South-eastern Asia',\n",
       "                          'Northern America', 'Eastern Asia', 'Western Asia', 'Northern Europe',\n",
       "                          'Southern Asia', 'none', 'Melanesia', 'Eastern Europe'], dtype=object)},\n",
       "             {'hoverinfo': 'text',\n",
       "              'hovertext': [<b>Topic 17</b><br>Words: australia, australian,\n",
       "                            treaty, issue, that, <b>Topic 17</b><br>Words: the, of,\n",
       "                            to, in, and, <b>Topic 17</b><br>Words: to, in, the,\n",
       "                            and, countries, <b>Topic 17</b><br>Words: the, to, of,\n",
       "                            in, we, <b>Topic 17</b><br>Words: to, we, effort, is,\n",
       "                            be, <b>Topic 17</b><br>Words: to, the, of, and, in,\n",
       "                            <b>Topic 17</b><br>Words: viet, nam, states, united,\n",
       "                            the, <b>Topic 17</b><br>Words: we, to, that, nam,\n",
       "                            nuclear, <b>Topic 17</b><br>Words: samoa, terrorism,\n",
       "                            work, meeting, small, <b>Topic 17</b><br>Words:\n",
       "                            uzbekistan, afghanistan, terrorism, transport, central,\n",
       "                            <b>Topic 17</b><br>Words: israel, arab, and, to, the,\n",
       "                            <b>Topic 17</b><br>Words: atlantic, treaty, war, had,\n",
       "                            it, <b>Topic 17</b><br>Words: viet, nam, ceylon,\n",
       "                            decade, that, <b>Topic 17</b><br>Words: acheson, mao,\n",
       "                            american, tse, tung, <b>Topic 17</b><br>Words: how, we,\n",
       "                            our, us, south, <b>Topic 17</b><br>Words: poland,\n",
       "                            united, of, the, states],\n",
       "              'marker': {'color': '#F0E442'},\n",
       "              'name': '17_president_republic_kavan_timor',\n",
       "              'orientation': 'h',\n",
       "              'type': 'bar',\n",
       "              'visible': 'legendonly',\n",
       "              'x': array([ 1, 18,  2,  4,  2, 19,  3,  3,  1,  1,  7,  2,  1,  2,  1,  4]),\n",
       "              'y': array(['Australia and New Zealand', 'Latin America and the Caribbean',\n",
       "                          'Northern Africa', 'Southern Europe', 'Western Europe',\n",
       "                          'Sub-Saharan Africa', 'South-eastern Asia', 'Northern America',\n",
       "                          'Polynesia', 'Central Asia', 'Western Asia', 'Northern Europe',\n",
       "                          'Southern Asia', 'none', 'Melanesia', 'Eastern Europe'], dtype=object)},\n",
       "             {'hoverinfo': 'text',\n",
       "              'hovertext': [<b>Topic 18</b><br>Words: and, our, to, of, panama,\n",
       "                            <b>Topic 18</b><br>Words: zionist, arab, corporations,\n",
       "                            and, mines, <b>Topic 18</b><br>Words: italy, spain,\n",
       "                            the, of, and, <b>Topic 18</b><br>Words: netherlands,\n",
       "                            operation, co, on, nations, <b>Topic 18</b><br>Words:\n",
       "                            to, zaire, the, and, of, <b>Topic 18</b><br>Words:\n",
       "                            laos, indonesia, and, of, the, <b>Topic\n",
       "                            18</b><br>Words: states, we, united, nuclear, and,\n",
       "                            <b>Topic 18</b><br>Words: korean, super, korea,\n",
       "                            countries, the, <b>Topic 18</b><br>Words: uzbekistan,\n",
       "                            aral, seminar, are, of, <b>Topic 18</b><br>Words:\n",
       "                            cyprus, turkish, turkey, the, and, <b>Topic\n",
       "                            18</b><br>Words: lithuania, nations, security, united,\n",
       "                            on, <b>Topic 18</b><br>Words: nuclear, weapons, weapon,\n",
       "                            countries, to, <b>Topic 18</b><br>Words: of, the, in,\n",
       "                            and, on, <b>Topic 18</b><br>Words: solomon, islands,\n",
       "                            pacific, bougainville, forum, <b>Topic 18</b><br>Words:\n",
       "                            peacekeeping, slovakia, operations, reform, financial],\n",
       "              'marker': {'color': '#D55E00'},\n",
       "              'name': '18_treki_general_crises_council',\n",
       "              'orientation': 'h',\n",
       "              'type': 'bar',\n",
       "              'visible': 'legendonly',\n",
       "              'x': array([20,  1,  3,  1, 16,  4,  1,  2,  1,  8,  2,  2,  5,  1,  1]),\n",
       "              'y': array(['Latin America and the Caribbean', 'Northern Africa', 'Southern Europe',\n",
       "                          'Western Europe', 'Sub-Saharan Africa', 'South-eastern Asia',\n",
       "                          'Northern America', 'Eastern Asia', 'Central Asia', 'Western Asia',\n",
       "                          'Northern Europe', 'Southern Asia', 'none', 'Melanesia',\n",
       "                          'Eastern Europe'], dtype=object)},\n",
       "             {'hoverinfo': 'text',\n",
       "              'hovertext': [<b>Topic 19</b><br>Words: australia, zealand, our,\n",
       "                            global, we, <b>Topic 19</b><br>Words: development, we,\n",
       "                            and, our, colombia, <b>Topic 19</b><br>Words: morocco,\n",
       "                            kingdom, his, mohammed, majesty, <b>Topic\n",
       "                            19</b><br>Words: and, we, human, development, climate,\n",
       "                            <b>Topic 19</b><br>Words: netherlands, climate, summer,\n",
       "                            development, we, <b>Topic 19</b><br>Words: development,\n",
       "                            and, our, to, for, <b>Topic 19</b><br>Words: pdr,\n",
       "                            muslims, lao, muslim, covid, <b>Topic 19</b><br>Words:\n",
       "                            canada, we, our, hands, climate, <b>Topic\n",
       "                            19</b><br>Words: tonga, samoa, sustainable,\n",
       "                            development, pacific, <b>Topic 19</b><br>Words:\n",
       "                            armenia, azerbaijan, israel, and, our, <b>Topic\n",
       "                            19</b><br>Words: kiribati, marshall, islands, our, un,\n",
       "                            <b>Topic 19</b><br>Words: finland, climate, global,\n",
       "                            health, we, <b>Topic 19</b><br>Words: maldives, nepal,\n",
       "                            and, we, for, <b>Topic 19</b><br>Words: fiji, cop26,\n",
       "                            climate, zero, un, <b>Topic 19</b><br>Words: slovakia,\n",
       "                            czech, romania, security, development],\n",
       "              'marker': {'color': '#0072B2'},\n",
       "              'name': '19_kutesa_republic_general_nations',\n",
       "              'orientation': 'h',\n",
       "              'type': 'bar',\n",
       "              'visible': 'legendonly',\n",
       "              'x': array([ 4,  7,  1,  6,  2, 20,  2,  1,  3,  8,  4,  1,  4,  1,  4]),\n",
       "              'y': array(['Australia and New Zealand', 'Latin America and the Caribbean',\n",
       "                          'Northern Africa', 'Southern Europe', 'Western Europe',\n",
       "                          'Sub-Saharan Africa', 'South-eastern Asia', 'Northern America',\n",
       "                          'Polynesia', 'Western Asia', 'Micronesia', 'Northern Europe',\n",
       "                          'Southern Asia', 'Melanesia', 'Eastern Europe'], dtype=object)}],\n",
       "    'layout': {'height': 900,\n",
       "               'hoverlabel': {'bgcolor': 'white', 'font': {'family': 'Rockwell', 'size': 16}},\n",
       "               'legend': {'title': {'text': '<b>Global Topic Representation'}},\n",
       "               'template': '...',\n",
       "               'title': {'font': {'color': 'Black', 'size': 22},\n",
       "                         'text': '<b>Topics per Class</b>',\n",
       "                         'x': 0.4,\n",
       "                         'xanchor': 'center',\n",
       "                         'y': 0.95,\n",
       "                         'yanchor': 'top'},\n",
       "               'width': 1250,\n",
       "               'xaxis': {'showgrid': True, 'title': {'text': 'Frequency'}},\n",
       "               'yaxis': {'showgrid': True, 'title': {'text': 'Class'}}}\n",
       "})"
      ]
     },
     "execution_count": 217,
     "metadata": {},
     "output_type": "execute_result"
    }
   ],
   "source": [
    "topics_per_class = get_topics_per_class('Sub-region Name')\n",
    "model.visualize_topics_per_class(topics_per_class, top_n_topics = TOP_N)"
   ]
  }
 ],
 "metadata": {
  "kernelspec": {
   "display_name": "nlp-un",
   "language": "python",
   "name": "python3"
  },
  "language_info": {
   "codemirror_mode": {
    "name": "ipython",
    "version": 3
   },
   "file_extension": ".py",
   "mimetype": "text/x-python",
   "name": "python",
   "nbconvert_exporter": "python",
   "pygments_lexer": "ipython3",
   "version": "3.9.18"
  }
 },
 "nbformat": 4,
 "nbformat_minor": 2
}
