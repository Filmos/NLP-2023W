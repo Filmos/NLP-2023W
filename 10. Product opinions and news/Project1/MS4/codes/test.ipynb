{
 "cells": [
  {
   "cell_type": "code",
   "execution_count": 1,
   "metadata": {},
   "outputs": [],
   "source": [
    "from overall_anotator import OverallAnotator\n",
    "from data_structures import SentimentAnnotation, AspectAnnotation, AspectBasedResults\n",
    "from transforms import transform_aspects"
   ]
  },
  {
   "cell_type": "code",
   "execution_count": 2,
   "metadata": {},
   "outputs": [],
   "source": [
    "import pandas as pd\n",
    "import numpy as np\n",
    "laptops = pd.read_csv(\"../data/Laptop_Train_v2.csv\").sort_values(by=['id'])\n",
    "amazon = pd.read_csv(\"../data/amazon_electronics.csv\")\n",
    "to_annotate = list(laptops['Sentence'].unique()[1:10])\n"
   ]
  },
  {
   "cell_type": "code",
   "execution_count": 3,
   "metadata": {},
   "outputs": [],
   "source": [
    "laptops_sentiment = transform_aspects(laptops, \"id\", \"Sentence\", \"Aspect Term\", \"polarity\")"
   ]
  },
  {
   "cell_type": "code",
   "execution_count": 12,
   "metadata": {},
   "outputs": [],
   "source": [
    "flair_annotator = OverallAnotator(tool = \"flair\")\n",
    "chat_annotator = OverallAnotator(tool = \"chat_gpt\", gpt_key=\"\")"
   ]
  },
  {
   "cell_type": "code",
   "execution_count": 5,
   "metadata": {},
   "outputs": [
    {
     "data": {
      "text/plain": [
       "[SentimentAnnotation(text='I bought a protector for my key pad and it works great :)', label='POSITIVE', score=0.9991540908813477),\n",
       " SentimentAnnotation(text=\"The mouse is a little bit different than what you're used to though- it has one big flat panel and one full bar (instead of two separate ones) to click with- but you get used to it quite quickly.\", label='POSITIVE', score=0.9994208812713623),\n",
       " SentimentAnnotation(text='AND the best part is that it even comes with a free printer (when they have a certain promotion/offer going, of course)!', label='POSITIVE', score=0.9260944724082947),\n",
       " SentimentAnnotation(text='Overall, this laptop is definitely a keeper with its simple yet stylish design and its array of fantastic colors to choose from.', label='POSITIVE', score=0.9996365308761597),\n",
       " SentimentAnnotation(text='The Apple team also assists you very nicely when choosing which computer is right for you :)', label='POSITIVE', score=0.9991105198860168),\n",
       " SentimentAnnotation(text='For the [$] price (special offer) this is a great laptop.', label='POSITIVE', score=0.9969485402107239),\n",
       " SentimentAnnotation(text='The AMD Turin processor seems to always perform so much better than Intel.', label='POSITIVE', score=0.9967971444129944),\n",
       " SentimentAnnotation(text='Not too much \"junk\" software to remove.', label='POSITIVE', score=0.9910181760787964),\n",
       " SentimentAnnotation(text='Runs fast and the regular layout keyboard is so much better.', label='POSITIVE', score=0.9807704091072083)]"
      ]
     },
     "execution_count": 5,
     "metadata": {},
     "output_type": "execute_result"
    }
   ],
   "source": [
    "flair_annotator.annotate(to_annotate)"
   ]
  },
  {
   "cell_type": "code",
   "execution_count": 13,
   "metadata": {},
   "outputs": [
    {
     "ename": "APIRemovedInV1",
     "evalue": "\n\nYou tried to access openai.ChatCompletion, but this is no longer supported in openai>=1.0.0 - see the README at https://github.com/openai/openai-python for the API.\n\nYou can run `openai migrate` to automatically upgrade your codebase to use the 1.0.0 interface. \n\nAlternatively, you can pin your installation to the old version, e.g. `pip install openai==0.28`\n\nA detailed migration guide is available here: https://github.com/openai/openai-python/discussions/742\n",
     "output_type": "error",
     "traceback": [
      "\u001b[1;31m---------------------------------------------------------------------------\u001b[0m",
      "\u001b[1;31mAPIRemovedInV1\u001b[0m                            Traceback (most recent call last)",
      "\u001b[1;32mc:\\Users\\marty\\OneDrive\\Dokumenty\\notatki\\9 semestr\\NLP\\NLP-BAMK-project\\codes\\test.ipynb Cell 6\u001b[0m line \u001b[0;36m1\n\u001b[1;32m----> <a href='vscode-notebook-cell:/c%3A/Users/marty/OneDrive/Dokumenty/notatki/9%20semestr/NLP/NLP-BAMK-project/codes/test.ipynb#W5sZmlsZQ%3D%3D?line=0'>1</a>\u001b[0m chat_annotator\u001b[39m.\u001b[39;49mannotate(to_annotate[\u001b[39m1\u001b[39;49m:\u001b[39m3\u001b[39;49m])\n",
      "File \u001b[1;32mc:\\Users\\marty\\OneDrive\\Dokumenty\\notatki\\9 semestr\\NLP\\NLP-BAMK-project\\codes\\overall_anotator.py:67\u001b[0m, in \u001b[0;36mOverallAnotator.annotate\u001b[1;34m(self, texts)\u001b[0m\n\u001b[0;32m     55\u001b[0m \u001b[39mfor\u001b[39;00m text \u001b[39min\u001b[39;00m texts:\n\u001b[0;32m     56\u001b[0m     message \u001b[39m=\u001b[39m [\n\u001b[0;32m     57\u001b[0m         {\n\u001b[0;32m     58\u001b[0m             \u001b[39m\"\u001b[39m\u001b[39mrole\u001b[39m\u001b[39m\"\u001b[39m: \u001b[39m\"\u001b[39m\u001b[39msystem\u001b[39m\u001b[39m\"\u001b[39m,\n\u001b[1;32m   (...)\u001b[0m\n\u001b[0;32m     65\u001b[0m         }\n\u001b[0;32m     66\u001b[0m     ]\n\u001b[1;32m---> 67\u001b[0m     chat \u001b[39m=\u001b[39m openai\u001b[39m.\u001b[39;49mChatCompletion\u001b[39m.\u001b[39;49mcreate(\n\u001b[0;32m     68\u001b[0m         model\u001b[39m=\u001b[39m\u001b[39m\"\u001b[39m\u001b[39mgpt-3.5-turbo\u001b[39m\u001b[39m\"\u001b[39m, messages\u001b[39m=\u001b[39mmessage\n\u001b[0;32m     69\u001b[0m     )\n\u001b[0;32m     70\u001b[0m     reply \u001b[39m=\u001b[39m chat\u001b[39m.\u001b[39mchoices[\u001b[39m0\u001b[39m]\u001b[39m.\u001b[39mmessage\u001b[39m.\u001b[39mcontent\n\u001b[0;32m     72\u001b[0m     \u001b[39mtry\u001b[39;00m:\n",
      "File \u001b[1;32mc:\\Users\\marty\\OneDrive\\Dokumenty\\notatki\\9 semestr\\NLP\\NLP-BAMK-project\\venv\\Lib\\site-packages\\openai\\_utils\\_proxy.py:22\u001b[0m, in \u001b[0;36mLazyProxy.__getattr__\u001b[1;34m(self, attr)\u001b[0m\n\u001b[0;32m     21\u001b[0m \u001b[39mdef\u001b[39;00m \u001b[39m__getattr__\u001b[39m(\u001b[39mself\u001b[39m, attr: \u001b[39mstr\u001b[39m) \u001b[39m-\u001b[39m\u001b[39m>\u001b[39m \u001b[39mobject\u001b[39m:\n\u001b[1;32m---> 22\u001b[0m     \u001b[39mreturn\u001b[39;00m \u001b[39mgetattr\u001b[39m(\u001b[39mself\u001b[39;49m\u001b[39m.\u001b[39;49m__get_proxied__(), attr)\n",
      "File \u001b[1;32mc:\\Users\\marty\\OneDrive\\Dokumenty\\notatki\\9 semestr\\NLP\\NLP-BAMK-project\\venv\\Lib\\site-packages\\openai\\_utils\\_proxy.py:43\u001b[0m, in \u001b[0;36mLazyProxy.__get_proxied__\u001b[1;34m(self)\u001b[0m\n\u001b[0;32m     41\u001b[0m \u001b[39mdef\u001b[39;00m \u001b[39m__get_proxied__\u001b[39m(\u001b[39mself\u001b[39m) \u001b[39m-\u001b[39m\u001b[39m>\u001b[39m T:\n\u001b[0;32m     42\u001b[0m     \u001b[39mif\u001b[39;00m \u001b[39mnot\u001b[39;00m \u001b[39mself\u001b[39m\u001b[39m.\u001b[39mshould_cache:\n\u001b[1;32m---> 43\u001b[0m         \u001b[39mreturn\u001b[39;00m \u001b[39mself\u001b[39;49m\u001b[39m.\u001b[39;49m__load__()\n\u001b[0;32m     45\u001b[0m     proxied \u001b[39m=\u001b[39m \u001b[39mself\u001b[39m\u001b[39m.\u001b[39m__proxied\n\u001b[0;32m     46\u001b[0m     \u001b[39mif\u001b[39;00m proxied \u001b[39mis\u001b[39;00m \u001b[39mnot\u001b[39;00m \u001b[39mNone\u001b[39;00m:\n",
      "File \u001b[1;32mc:\\Users\\marty\\OneDrive\\Dokumenty\\notatki\\9 semestr\\NLP\\NLP-BAMK-project\\venv\\Lib\\site-packages\\openai\\lib\\_old_api.py:33\u001b[0m, in \u001b[0;36mAPIRemovedInV1Proxy.__load__\u001b[1;34m(self)\u001b[0m\n\u001b[0;32m     31\u001b[0m \u001b[39m@override\u001b[39m\n\u001b[0;32m     32\u001b[0m \u001b[39mdef\u001b[39;00m \u001b[39m__load__\u001b[39m(\u001b[39mself\u001b[39m) \u001b[39m-\u001b[39m\u001b[39m>\u001b[39m \u001b[39mNone\u001b[39;00m:\n\u001b[1;32m---> 33\u001b[0m     \u001b[39mraise\u001b[39;00m APIRemovedInV1(symbol\u001b[39m=\u001b[39m\u001b[39mself\u001b[39m\u001b[39m.\u001b[39m_symbol)\n",
      "\u001b[1;31mAPIRemovedInV1\u001b[0m: \n\nYou tried to access openai.ChatCompletion, but this is no longer supported in openai>=1.0.0 - see the README at https://github.com/openai/openai-python for the API.\n\nYou can run `openai migrate` to automatically upgrade your codebase to use the 1.0.0 interface. \n\nAlternatively, you can pin your installation to the old version, e.g. `pip install openai==0.28`\n\nA detailed migration guide is available here: https://github.com/openai/openai-python/discussions/742\n"
     ]
    }
   ],
   "source": [
    "chat_annotator.annotate(to_annotate[1:3])"
   ]
  },
  {
   "cell_type": "code",
   "execution_count": 17,
   "metadata": {},
   "outputs": [],
   "source": [
    "from aspect_anotator import AspectAnotator"
   ]
  },
  {
   "cell_type": "code",
   "execution_count": 19,
   "metadata": {},
   "outputs": [],
   "source": [
    "aspect_annotator = AspectAnotator(stage1_tool = \"spacy\", \n",
    "                                stage2_tool=\"sentistrength\", \n",
    "                                ss_jar_path='/home/bartoszrozek/Downloads/pysenti/PySentiStrength-1.0.1/pysenti/original/SentiStrength.jar',\n",
    "                                ss_lang_path='/home/bartoszrozek/Downloads/pysenti/PySentiStrength-1.0.1/pysenti/original/data')\n"
   ]
  },
  {
   "cell_type": "code",
   "execution_count": 20,
   "metadata": {},
   "outputs": [
    {
     "name": "stdout",
     "output_type": "stream",
     "text": [
      "[2023-12-01 19:04:16] (2.3.4) Please specify the task code, e.g. from pyabsa import TaskCodeOption\n"
     ]
    },
    {
     "name": "stdout",
     "output_type": "stream",
     "text": [
      "[2023-12-01 19:04:19] (2.3.4) \u001b[32mDownloading checkpoint:multilingual \u001b[0m\n",
      "[2023-12-01 19:04:19] (2.3.4) \u001b[31mNotice: The pretrained model are used for testing, it is recommended to train the model on your own custom datasets\u001b[0m\n"
     ]
    },
    {
     "name": "stderr",
     "output_type": "stream",
     "text": [
      "Downloading checkpoint: 811MB [02:18,  5.85MB/s]                         "
     ]
    },
    {
     "name": "stdout",
     "output_type": "stream",
     "text": [
      "Find zipped checkpoint: ./checkpoints\\ATEPC_MULTILINGUAL_CHECKPOINT\\fast_lcf_atepc_Multilingual_cdw_apcacc_85.1_apcf1_80.2_atef1_76.45.zip, unzipping\n"
     ]
    },
    {
     "name": "stderr",
     "output_type": "stream",
     "text": [
      "\n"
     ]
    },
    {
     "name": "stdout",
     "output_type": "stream",
     "text": [
      "Done.\n",
      "[2023-12-01 19:06:54] (2.3.4) \u001b[33mIf the auto-downloading failed, please download it via browser: https://huggingface.co/spaces/yangheng/PyABSA/resolve/main/checkpoints/Multilingual/ATEPC/fast_lcf_atepc_Multilingual_cdw_apcacc_85.1_apcf1_80.2_atef1_76.45.zip \u001b[0m\n",
      "[2023-12-01 19:06:54] (2.3.4) Load aspect extractor from checkpoints\\ATEPC_MULTILINGUAL_CHECKPOINT\n",
      "[2023-12-01 19:06:54] (2.3.4) config: checkpoints\\ATEPC_MULTILINGUAL_CHECKPOINT\\fast_lcf_atepc.config\n",
      "[2023-12-01 19:06:54] (2.3.4) state_dict: checkpoints\\ATEPC_MULTILINGUAL_CHECKPOINT\\fast_lcf_atepc.state_dict\n",
      "[2023-12-01 19:06:54] (2.3.4) model: None\n",
      "[2023-12-01 19:06:54] (2.3.4) tokenizer: checkpoints\\ATEPC_MULTILINGUAL_CHECKPOINT\\fast_lcf_atepc.tokenizer\n",
      "[2023-12-01 19:06:55] (2.3.4) Set Model Device: cpu\n",
      "[2023-12-01 19:06:55] (2.3.4) Device Name: Unknown\n"
     ]
    },
    {
     "data": {
      "application/vnd.jupyter.widget-view+json": {
       "model_id": "8c3ff60ac3eb4ed6b740ef887f885847",
       "version_major": 2,
       "version_minor": 0
      },
      "text/plain": [
       "config.json:   0%|          | 0.00/579 [00:00<?, ?B/s]"
      ]
     },
     "metadata": {},
     "output_type": "display_data"
    },
    {
     "name": "stderr",
     "output_type": "stream",
     "text": [
      "c:\\Users\\marty\\OneDrive\\Dokumenty\\notatki\\9 semestr\\NLP\\NLP-BAMK-project\\venv\\Lib\\site-packages\\huggingface_hub\\file_download.py:147: UserWarning: `huggingface_hub` cache-system uses symlinks by default to efficiently store duplicated files but your machine does not support them in C:\\Users\\marty\\.cache\\huggingface\\hub. Caching files will still work but in a degraded version that might require more space on your disk. This warning can be disabled by setting the `HF_HUB_DISABLE_SYMLINKS_WARNING` environment variable. For more details, see https://huggingface.co/docs/huggingface_hub/how-to-cache#limitations.\n",
      "To support symlinks on Windows, you either need to activate Developer Mode or to run Python as an administrator. In order to see activate developer mode, see this article: https://docs.microsoft.com/en-us/windows/apps/get-started/enable-your-device-for-development\n"
     ]
    },
    {
     "data": {
      "application/vnd.jupyter.widget-view+json": {
       "model_id": "1b23b654b8de43e69d96587992494c20",
       "version_major": 2,
       "version_minor": 0
      },
      "text/plain": [
       "pytorch_model.bin:   0%|          | 0.00/1.33G [00:00<?, ?B/s]"
      ]
     },
     "metadata": {},
     "output_type": "display_data"
    },
    {
     "data": {
      "application/vnd.jupyter.widget-view+json": {
       "model_id": "e07f2e327b94492d97182de2fd731935",
       "version_major": 2,
       "version_minor": 0
      },
      "text/plain": [
       "tokenizer_config.json:   0%|          | 0.00/52.0 [00:00<?, ?B/s]"
      ]
     },
     "metadata": {},
     "output_type": "display_data"
    },
    {
     "data": {
      "application/vnd.jupyter.widget-view+json": {
       "model_id": "87894ae4824a4fc19b51a7a602a63776",
       "version_major": 2,
       "version_minor": 0
      },
      "text/plain": [
       "spm.model:   0%|          | 0.00/4.31M [00:00<?, ?B/s]"
      ]
     },
     "metadata": {},
     "output_type": "display_data"
    },
    {
     "name": "stderr",
     "output_type": "stream",
     "text": [
      "c:\\Users\\marty\\OneDrive\\Dokumenty\\notatki\\9 semestr\\NLP\\NLP-BAMK-project\\venv\\Lib\\site-packages\\transformers\\convert_slow_tokenizer.py:473: UserWarning: The sentencepiece tokenizer that you are converting to a fast tokenizer uses the byte fallback option which is not implemented in the fast tokenizers. In practice this means that the fast version of the tokenizer can produce unknown tokens whereas the sentencepiece version would have converted these unknown tokens into a sequence of byte tokens matching the original piece of text.\n"
     ]
    }
   ],
   "source": [
    "aspect_annotator = AspectAnotator(full_tool=\"pyabsa\")"
   ]
  },
  {
   "cell_type": "code",
   "execution_count": 21,
   "metadata": {},
   "outputs": [],
   "source": [
    "ind = list(np.random.randint(1,len(laptops_sentiment), 200))\n",
    "true_annots = [laptops_sentiment[i] for i in ind]\n",
    "texts = [x.text for x in true_annots]"
   ]
  },
  {
   "cell_type": "code",
   "execution_count": 22,
   "metadata": {},
   "outputs": [
    {
     "name": "stderr",
     "output_type": "stream",
     "text": [
      "preparing ate inference dataloader: 100%|██████████| 200/200 [00:00<00:00, 285.65it/s]\n",
      "extracting aspect terms: 100%|██████████| 7/7 [01:56<00:00, 16.63s/it]\n",
      "preparing apc inference dataloader: 100%|██████████| 326/326 [00:02<00:00, 144.99it/s]\n",
      "c:\\Users\\marty\\OneDrive\\Dokumenty\\notatki\\9 semestr\\NLP\\NLP-BAMK-project\\venv\\Lib\\site-packages\\pyabsa\\tasks\\AspectTermExtraction\\prediction\\aspect_extractor.py:566: UserWarning: Creating a tensor from a list of numpy.ndarrays is extremely slow. Please consider converting the list to a single numpy.ndarray with numpy.array() before converting to a tensor. (Triggered internally at ..\\torch\\csrc\\utils\\tensor_new.cpp:264.)\n",
      "classifying aspect sentiments: 100%|██████████| 11/11 [02:53<00:00, 15.79s/it]\n"
     ]
    }
   ],
   "source": [
    "res = aspect_annotator.test_annotator(true_annotations=true_annots)"
   ]
  },
  {
   "cell_type": "code",
   "execution_count": 23,
   "metadata": {},
   "outputs": [
    {
     "data": {
      "text/plain": [
       "AspectBasedResults(correct=258, incorrect=8, partial=29, missing=25, spurious=31, possible=320, actual=326, precision=0.7914110429447853, recall=0.80625, f1=0.7987616099071208, name=None)"
      ]
     },
     "execution_count": 23,
     "metadata": {},
     "output_type": "execute_result"
    }
   ],
   "source": [
    "res"
   ]
  },
  {
   "cell_type": "code",
   "execution_count": 24,
   "metadata": {},
   "outputs": [
    {
     "name": "stderr",
     "output_type": "stream",
     "text": [
      "c:\\Users\\marty\\OneDrive\\Dokumenty\\notatki\\9 semestr\\NLP\\NLP-BAMK-project\\venv\\Lib\\site-packages\\matplotlib_inline\\config.py:68: DeprecationWarning: InlineBackend._figure_format_changed is deprecated in traitlets 4.1: use @observe and @unobserve instead.\n"
     ]
    },
    {
     "data": {
      "image/png": "[encoded data removed]",
      "text/plain": [
       "<Figure size 640x480 with 1 Axes>"
      ]
     },
     "metadata": {
      "image/png": {
       "height": 480,
       "width": 640
      }
     },
     "output_type": "display_data"
    },
    {
     "data": {
      "text/plain": [
       "<Figure Size: (640 x 480)>"
      ]
     },
     "execution_count": 24,
     "metadata": {},
     "output_type": "execute_result"
    }
   ],
   "source": [
    "res.plot()"
   ]
  },
  {
   "cell_type": "code",
   "execution_count": 25,
   "metadata": {},
   "outputs": [
    {
     "name": "stderr",
     "output_type": "stream",
     "text": [
      "preparing ate inference dataloader: 100%|██████████| 200/200 [00:00<00:00, 274.75it/s]\n",
      "extracting aspect terms: 100%|██████████| 7/7 [01:50<00:00, 15.83s/it]\n",
      "preparing apc inference dataloader: 100%|██████████| 326/326 [00:01<00:00, 177.59it/s]\n",
      "classifying aspect sentiments: 100%|██████████| 11/11 [03:06<00:00, 16.94s/it]\n"
     ]
    },
    {
     "data": {
      "text/plain": [
       "[AspectAnnotation(text='I hope to edit this in the next few hours , I am going to try to install my own copy of Windows 7 .', aspects=[SentimentAnnotation(text='Windows 7', label='Neutral', score=0.9657)]),\n",
       " AspectAnnotation(text='I had 3 months when the ports started going out .', aspects=[SentimentAnnotation(text='ports', label='Negative', score=0.9966)]),\n",
       " AspectAnnotation(text='Although the price is higher then Dell laptops , the Macbooks are worth the dough .', aspects=[SentimentAnnotation(text='price', label='Negative', score=0.9891), SentimentAnnotation(text='dough', label='Positive', score=0.9952)]),\n",
       " AspectAnnotation(text='The computer is currently in West Verginia doe to the method of shipping choosen by Toshiba .', aspects=[SentimentAnnotation(text='shipping', label='Negative', score=0.9688)]),\n",
       " AspectAnnotation(text=\"I know that everyone thinks Macs are overpriced and overrated , but once you get past the initial expense you ' ll find that they ' re worth every penny ( besides , there ' s always the financing plan that Best Buy offers ) .\", aspects=[SentimentAnnotation(text='financing', label='Positive', score=0.941)]),\n",
       " AspectAnnotation(text='The first fell apart right after the 1 - year - warranty .', aspects=[SentimentAnnotation(text='warranty', label='Neutral', score=0.9805)]),\n",
       " AspectAnnotation(text='Ive had to call tech support many times .', aspects=[SentimentAnnotation(text='tech support', label='Neutral', score=0.9833)]),\n",
       " AspectAnnotation(text=\"I ' ve had to call Apple support to set up my new printer and have had wonderful experiences with helpful , english speaking ( from Vancouver ) techs that walked me through the processes to help me .\", aspects=[SentimentAnnotation(text='Apple support', label='Positive', score=0.6637), SentimentAnnotation(text='techs', label='Positive', score=0.9952)]),\n",
       " AspectAnnotation(text='It is very well built .', aspects=[SentimentAnnotation(text='built', label='Positive', score=0.9988)]),\n",
       " AspectAnnotation(text='The body is a bit cheaply made so it will be interesting to see how long it holds up .', aspects=[SentimentAnnotation(text='body', label='Negative', score=0.9752)]),\n",
       " AspectAnnotation(text='Runs Hot I thought we were paying for quality in our decision to buy an Apple product .', aspects=[SentimentAnnotation(text='quality', label='Negative', score=0.8052)]),\n",
       " AspectAnnotation(text='They don t translate from a Mac , even on Word , resulting in a ton of run - on sentences .', aspects=[SentimentAnnotation(text='translate', label='Negative', score=0.9926), SentimentAnnotation(text='Word', label='Negative', score=0.9879)]),\n",
       " AspectAnnotation(text='I got it back and my built - in webcam and built - in mic were shorting out anytime I touched the lid , ( mind you this was my means of communication with my fiance who was deployed ) but I suffered thru it and would constandly have to reset the computer to be able to use my cam and mic anytime they went out .', aspects=[SentimentAnnotation(text='built - in webcam', label='Negative', score=0.9931), SentimentAnnotation(text='built - in mic', label='Negative', score=0.9954), SentimentAnnotation(text='cam', label='Negative', score=0.993), SentimentAnnotation(text='mic', label='Negative', score=0.9941)]),\n",
       " AspectAnnotation(text='Other installed features , such as certain printer software , are also most attractive .', aspects=[SentimentAnnotation(text='features', label='Positive', score=0.9951), SentimentAnnotation(text='printer software', label='Positive', score=0.9817)]),\n",
       " AspectAnnotation(text='The quality , engineering design and warranty are superior - - covers damage from dropping the laptop .', aspects=[SentimentAnnotation(text='quality', label='Positive', score=0.9983), SentimentAnnotation(text='engineering design', label='Positive', score=0.9983), SentimentAnnotation(text='warranty', label='Positive', score=0.9981)]),\n",
       " AspectAnnotation(text='My husband uses it mostly for games , email and music .', aspects=[SentimentAnnotation(text='games', label='Neutral', score=0.9888), SentimentAnnotation(text='music', label='Neutral', score=0.985)]),\n",
       " AspectAnnotation(text='The Apple team also assists you very nicely when choosing which computer is right for you : )', aspects=[SentimentAnnotation(text='Apple team', label='Positive', score=0.9982)]),\n",
       " AspectAnnotation(text='I like those programs better than Office and you can save your files to be completely compatible with the Office programs as well .', aspects=[SentimentAnnotation(text='programs', label='Positive', score=0.8597), SentimentAnnotation(text='Office', label='Negative', score=0.7877), SentimentAnnotation(text='Office programs', label='Neutral', score=0.8768)]),\n",
       " AspectAnnotation(text='Keyboard good sized and wasy to use .', aspects=[SentimentAnnotation(text='Keyboard', label='Positive', score=0.9977), SentimentAnnotation(text='use', label='Positive', score=0.998)]),\n",
       " AspectAnnotation(text='I had purchased it from a major electronics store and took it to their service department to find out what the problem was .', aspects=[SentimentAnnotation(text='service department', label='Neutral', score=0.9767)]),\n",
       " AspectAnnotation(text='So then you may be lucky to get ahold to someone who understands that its no good and they will let you send it back , but of course you are taking a chance of them testing it out to see what has happened , and they tell you that it was not on their side , then you are stuck paying for the repair ( the price of a new one ) .', aspects=[SentimentAnnotation(text='repair', label='Negative', score=0.8963), SentimentAnnotation(text='price', label='Negative', score=0.8919)]),\n",
       " AspectAnnotation(text=\"It has a 10 hour battery life when you ' re doing web browsing and word editing , making it perfect for the classroom or office , and in terms of gaming and movie playing it ' ll have a battery life of just over 5 hours .\", aspects=[SentimentAnnotation(text='battery life', label='Positive', score=0.9189), SentimentAnnotation(text='web browsing', label='Neutral', score=0.8777), SentimentAnnotation(text='word editing', label='Neutral', score=0.9339), SentimentAnnotation(text='gaming', label='Neutral', score=0.8775), SentimentAnnotation(text='movie playing', label='Neutral', score=0.8555), SentimentAnnotation(text='life', label='Positive', score=0.9228)]),\n",
       " AspectAnnotation(text='My favorite part of this computer is that it has a vga port so I can connect it to a bigger screen .', aspects=[SentimentAnnotation(text='vga port', label='Positive', score=0.9846), SentimentAnnotation(text='screen', label='Neutral', score=0.9833)]),\n",
       " AspectAnnotation(text=\"This computer is exceptionally thin for it ' s screen size and processing power .\", aspects=[SentimentAnnotation(text='screen size', label='Positive', score=0.9954), SentimentAnnotation(text='processing power', label='Positive', score=0.9944)]),\n",
       " AspectAnnotation(text='I ordered through MacMall , which saved me the sales tax I would have incurred buying locally .', aspects=[SentimentAnnotation(text='sales tax', label='Positive', score=0.9969)]),\n",
       " AspectAnnotation(text='I respond that I do not have the old computer and this way I would lose the data on my hard drive .', aspects=[SentimentAnnotation(text='data', label='Negative', score=0.9872), SentimentAnnotation(text='hard drive', label='Negative', score=0.9953)]),\n",
       " AspectAnnotation(text='Connecting to my wireless router via built - in wireless took no time at all .', aspects=[SentimentAnnotation(text='Connecting', label='Positive', score=0.9786), SentimentAnnotation(text='router', label='Positive', score=0.8837), SentimentAnnotation(text='built', label='Positive', score=0.8744), SentimentAnnotation(text='wireless', label='Positive', score=0.9302)]),\n",
       " AspectAnnotation(text=\"the touch pad is fine - again , it ' s a real touch pad .\", aspects=[SentimentAnnotation(text='touch pad', label='Positive', score=0.9935)]),\n",
       " AspectAnnotation(text=\"I don ' t have stupid pop up windows ( even when I have pop ups blocked ) , I don ' t have to wait 5 minutes for a webpage to download , and best of all I can run all the web programming software I need to use all at once without slowing me down .\", aspects=[SentimentAnnotation(text='pop up windows', label='Positive', score=0.9549), SentimentAnnotation(text='pop', label='Positive', score=0.9691), SentimentAnnotation(text='web programming software', label='Positive', score=0.993)]),\n",
       " AspectAnnotation(text='I thought the white Mac computers looked dirty too quicly where you use the mousepad and where you place your hands when typing .', aspects=[SentimentAnnotation(text='mousepad', label='Neutral', score=0.9174)]),\n",
       " AspectAnnotation(text='Easy to start up and does not overheat as much as other laptops .', aspects=[SentimentAnnotation(text='start up', label='Positive', score=0.9982)]),\n",
       " AspectAnnotation(text='Was very much worth the price i paid .', aspects=[SentimentAnnotation(text='price', label='Positive', score=0.9986)]),\n",
       " AspectAnnotation(text='One suggestion I do have , is to not bother getting Microsoft office for the mac expecting it will work just like you knew it to on a PC .', aspects=[SentimentAnnotation(text='Microsoft office', label='Negative', score=0.9926)]),\n",
       " AspectAnnotation(text='You can even run a parallels type program easily and run any leftover PC software that you absolutely cannot be without .', aspects=[SentimentAnnotation(text='program', label='Positive', score=0.9921), SentimentAnnotation(text='PC software', label='Positive', score=0.9969)]),\n",
       " AspectAnnotation(text='Size : I know 13 is small ( especially for a desktop replacement ) but with an external monitor , who cares .', aspects=[SentimentAnnotation(text='Size', label='Negative', score=0.9804), SentimentAnnotation(text='external monitor', label='Neutral', score=0.9899)]),\n",
       " AspectAnnotation(text='We paid for the three year warranty and the extended warranty after that one ended as well .', aspects=[SentimentAnnotation(text='warranty', label='Neutral', score=0.9488), SentimentAnnotation(text='extended warranty', label='Neutral', score=0.9845)]),\n",
       " AspectAnnotation(text=\"Maximum sound isn ' t nearly as loud as it should be .\", aspects=[SentimentAnnotation(text='sound', label='Negative', score=0.9855)]),\n",
       " AspectAnnotation(text='Still under warrenty so called Toshiba , no help at all .', aspects=[SentimentAnnotation(text='warrenty', label='Negative', score=0.9924)]),\n",
       " AspectAnnotation(text='The difference is the Toshiba had a lot more memory and hard drive space .', aspects=[SentimentAnnotation(text='memory', label='Positive', score=0.9915), SentimentAnnotation(text='hard drive space', label='Positive', score=0.9941)]),\n",
       " AspectAnnotation(text=\"I ' m really impressed with the quality and performance for the price of the computer .\", aspects=[SentimentAnnotation(text='quality', label='Positive', score=0.9961), SentimentAnnotation(text='performance', label='Positive', score=0.9944), SentimentAnnotation(text='price', label='Positive', score=0.9911)]),\n",
       " AspectAnnotation(text='And the screen on this thing is absolutely amazing for high quality videos and movies and gaming .', aspects=[SentimentAnnotation(text='screen', label='Positive', score=0.9985), SentimentAnnotation(text='videos', label='Positive', score=0.9984), SentimentAnnotation(text='gaming', label='Positive', score=0.9983)]),\n",
       " AspectAnnotation(text='A cheaper price should not equal a \" cheap \" product .', aspects=[SentimentAnnotation(text='price', label='Positive', score=0.984)]),\n",
       " AspectAnnotation(text='Runs smooth and quick .', aspects=[SentimentAnnotation(text='Runs', label='Positive', score=0.9989)]),\n",
       " AspectAnnotation(text=\"If you really want a bang - up system and don ' t need to run Windows applications , go with an Apple ;\", aspects=[SentimentAnnotation(text='system', label='Positive', score=0.9352), SentimentAnnotation(text='Windows applications', label='Neutral', score=0.9836)]),\n",
       " AspectAnnotation(text='I charge it at night and skip taking the cord with me because of the good battery life .', aspects=[SentimentAnnotation(text='charge', label='Neutral', score=0.8063), SentimentAnnotation(text='cord', label='Neutral', score=0.9686), SentimentAnnotation(text='battery life', label='Positive', score=0.9854)]),\n",
       " AspectAnnotation(text='I love the keyboard .', aspects=[SentimentAnnotation(text='keyboard', label='Positive', score=0.9984)]),\n",
       " AspectAnnotation(text=\"Additional caveat : the base installation comes with some Toshiba - specific software that may or may not be to a user ' s liking .\", aspects=[SentimentAnnotation(text='base installation', label='Negative', score=0.9927), SentimentAnnotation(text='software', label='Negative', score=0.9852)]),\n",
       " AspectAnnotation(text='Keyboard could use some trimming .', aspects=[SentimentAnnotation(text='Keyboard', label='Negative', score=0.975)]),\n",
       " AspectAnnotation(text='I love this program , it is superior to windows movie maker .', aspects=[SentimentAnnotation(text='program', label='Positive', score=0.9929), SentimentAnnotation(text='windows', label='Negative', score=0.7411)]),\n",
       " AspectAnnotation(text='I dislike the weight and size , cubersome .', aspects=[SentimentAnnotation(text='weight', label='Negative', score=0.9964), SentimentAnnotation(text='size', label='Negative', score=0.9966)]),\n",
       " AspectAnnotation(text='My laptop now has no battery .', aspects=[SentimentAnnotation(text='battery', label='Negative', score=0.9213)]),\n",
       " AspectAnnotation(text='The software is amazing .', aspects=[SentimentAnnotation(text='software', label='Positive', score=0.9984)]),\n",
       " AspectAnnotation(text='Also , macbooks come with much more features which are so cool !', aspects=[SentimentAnnotation(text='features', label='Positive', score=0.9984)]),\n",
       " AspectAnnotation(text='Crisp screen , great battery life , and plenty of storage .', aspects=[SentimentAnnotation(text='screen', label='Positive', score=0.9981), SentimentAnnotation(text='battery life', label='Positive', score=0.9985), SentimentAnnotation(text='storage', label='Positive', score=0.9982)]),\n",
       " AspectAnnotation(text='I could save ten essay papers and have hardly any memory left .', aspects=[SentimentAnnotation(text='essay papers', label='Negative', score=0.9235)]),\n",
       " AspectAnnotation(text=\"Which is great I am running Vista Business and scored a 5 . X on the index I have never seen a windows machine have a total score in the 5 ' s .\", aspects=[SentimentAnnotation(text='Vista Business', label='Positive', score=0.9974), SentimentAnnotation(text='windows', label='Positive', score=0.834)]),\n",
       " AspectAnnotation(text='No tutorials on the display .', aspects=[]),\n",
       " AspectAnnotation(text='I could save ten essay papers and have hardly any memory left .', aspects=[SentimentAnnotation(text='essay papers', label='Negative', score=0.9235)]),\n",
       " AspectAnnotation(text='I am forever changed and will no longer buy a Windows based machine for personal use .', aspects=[SentimentAnnotation(text='Windows', label='Negative', score=0.9899)]),\n",
       " AspectAnnotation(text='It is easy to use , its keyboard easily accommodates large hands , and its weight is fantasic .', aspects=[SentimentAnnotation(text='use', label='Positive', score=0.9972), SentimentAnnotation(text='keyboard', label='Positive', score=0.9961), SentimentAnnotation(text='weight', label='Positive', score=0.9977)]),\n",
       " AspectAnnotation(text='There is no number pad to the right of the keyboard which is a bummer .', aspects=[SentimentAnnotation(text='number pad', label='Negative', score=0.9968), SentimentAnnotation(text='keyboard', label='Negative', score=0.9858)]),\n",
       " AspectAnnotation(text='We researched and found the best price at MacConnection .', aspects=[SentimentAnnotation(text='price', label='Positive', score=0.9972)]),\n",
       " AspectAnnotation(text='defective software .', aspects=[SentimentAnnotation(text='software', label='Negative', score=0.9969)]),\n",
       " AspectAnnotation(text=\"I ' have had it for about a 1 1 / 2 and yes I have had an issue with it one month out of warranty .\", aspects=[SentimentAnnotation(text='warranty', label='Neutral', score=0.9736)]),\n",
       " AspectAnnotation(text='I was loving this Netbook because it had an amazing screen and display and was small and light , but after 1 week it stopped openning web pages for me ( even after installing new browsers ) then eventually it just started giving me a blue screen and crashing everytime I booted it .', aspects=[SentimentAnnotation(text='screen', label='Positive', score=0.9931), SentimentAnnotation(text='display', label='Positive', score=0.9922)]),\n",
       " AspectAnnotation(text='Apple is always great about the aesthetics of things , they always come up with good looking products .', aspects=[SentimentAnnotation(text='products', label='Positive', score=0.9981)]),\n",
       " AspectAnnotation(text='in May I started having problems with the USB ports not working .', aspects=[SentimentAnnotation(text='USB ports', label='Negative', score=0.9967)]),\n",
       " AspectAnnotation(text='defective software .', aspects=[SentimentAnnotation(text='software', label='Negative', score=0.9969)]),\n",
       " AspectAnnotation(text='Theres a built in camera with special effects - for video and photography .', aspects=[SentimentAnnotation(text='built in camera', label='Positive', score=0.7994), SentimentAnnotation(text='effects', label='Neutral', score=0.5077)]),\n",
       " AspectAnnotation(text=\"With a mac you don ' t have to worry about antivirus software or firewall , it ' s so wonderful .\", aspects=[SentimentAnnotation(text='antivirus software', label='Neutral', score=0.8714), SentimentAnnotation(text='firewall', label='Neutral', score=0.8751)]),\n",
       " AspectAnnotation(text='The design is awesome , quality is unprecedented .', aspects=[SentimentAnnotation(text='design', label='Positive', score=0.9985), SentimentAnnotation(text='quality', label='Positive', score=0.9985)]),\n",
       " AspectAnnotation(text='Unless you need the Bluetooth 3 .', aspects=[SentimentAnnotation(text='Bluetooth', label='Neutral', score=0.9765)]),\n",
       " AspectAnnotation(text='I sent it back to Toshiba twice they covered it under the warranty .', aspects=[SentimentAnnotation(text='warranty', label='Positive', score=0.9895)]),\n",
       " AspectAnnotation(text='The start menu is not the easiest thing to navigate due to the stacking .', aspects=[SentimentAnnotation(text='menu', label='Neutral', score=0.7566)]),\n",
       " AspectAnnotation(text='If a website ever freezes ( which is rare ) , its really easy to force quit .', aspects=[SentimentAnnotation(text='website', label='Negative', score=0.594)]),\n",
       " AspectAnnotation(text=\"In due course , I ' ll remove the hard disc from this new MacBook Pro and dump it where it belongs - in the trash .\", aspects=[SentimentAnnotation(text='hard disc', label='Negative', score=0.9955)]),\n",
       " AspectAnnotation(text='The letter A stopped working after the first week .', aspects=[SentimentAnnotation(text='letter', label='Negative', score=0.9932)]),\n",
       " AspectAnnotation(text='Second HDD cover has walls inside that need to be broken if you what to install one .', aspects=[SentimentAnnotation(text='HDD cover', label='Neutral', score=0.9313)]),\n",
       " AspectAnnotation(text='The start menu is not the easiest thing to navigate due to the stacking .', aspects=[SentimentAnnotation(text='menu', label='Neutral', score=0.7566)]),\n",
       " AspectAnnotation(text='The speed is incredible and I am more than satisfied .', aspects=[SentimentAnnotation(text='speed', label='Positive', score=0.9988)]),\n",
       " AspectAnnotation(text='Only a few days after I received the computer back , the screen froze again .', aspects=[SentimentAnnotation(text='screen', label='Negative', score=0.9956)]),\n",
       " AspectAnnotation(text='Awesome graphics !', aspects=[SentimentAnnotation(text='graphics', label='Positive', score=0.9988)]),\n",
       " AspectAnnotation(text='I sent it back and found this time that the battery was faulty , so I got a new one and some other fixes they found .', aspects=[SentimentAnnotation(text='battery', label='Negative', score=0.9942)]),\n",
       " AspectAnnotation(text='I have had no problems with it unlike some hardware defects on past models .', aspects=[SentimentAnnotation(text='hardware', label='Negative', score=0.995)]),\n",
       " AspectAnnotation(text='They are about the same size keys .', aspects=[SentimentAnnotation(text='keys', label='Neutral', score=0.9818)]),\n",
       " AspectAnnotation(text='It takes me approximately 3 tries to get to each site , then after closing the browser and reopening it it actually works .', aspects=[SentimentAnnotation(text='site', label='Negative', score=0.5271), SentimentAnnotation(text='browser', label='Neutral', score=0.7902)]),\n",
       " AspectAnnotation(text='The best thing about this laptop is the price along with some of the newer features .', aspects=[SentimentAnnotation(text='price', label='Positive', score=0.9981), SentimentAnnotation(text='features', label='Positive', score=0.9977)]),\n",
       " AspectAnnotation(text='I play a lot of casual games online , and the touchpad is very responsive .', aspects=[SentimentAnnotation(text='touchpad', label='Positive', score=0.8317)]),\n",
       " AspectAnnotation(text=\"It ' s so bad that I ' m thinking I only got half a battery or something .\", aspects=[SentimentAnnotation(text='battery', label='Negative', score=0.9912)]),\n",
       " AspectAnnotation(text='It has many great programs , such as ILife , iPhotos and others .', aspects=[SentimentAnnotation(text='programs', label='Positive', score=0.9986), SentimentAnnotation(text='ILife', label='Positive', score=0.9987), SentimentAnnotation(text='iPhotos', label='Positive', score=0.9988)]),\n",
       " AspectAnnotation(text='Screen is crystal clear and the system is very responsive .', aspects=[SentimentAnnotation(text='Screen', label='Positive', score=0.9983), SentimentAnnotation(text='system', label='Positive', score=0.9986)]),\n",
       " AspectAnnotation(text=\"It ' s wonderful for computer gaming .\", aspects=[SentimentAnnotation(text='gaming', label='Positive', score=0.9983)]),\n",
       " AspectAnnotation(text='It is extremely portable and easily connects to WIFI at the library and elsewhere .', aspects=[SentimentAnnotation(text='WIFI', label='Positive', score=0.9712)]),\n",
       " AspectAnnotation(text='The speed is incredible and I am more than satisfied .', aspects=[SentimentAnnotation(text='speed', label='Positive', score=0.9988)]),\n",
       " AspectAnnotation(text='Im glad that it has such great features in it .', aspects=[SentimentAnnotation(text='features', label='Positive', score=0.9986)]),\n",
       " AspectAnnotation(text='You may need to special order a bag .', aspects=[SentimentAnnotation(text='bag', label='Neutral', score=0.7421)]),\n",
       " AspectAnnotation(text=\"I ' m tired of the inept service .\", aspects=[SentimentAnnotation(text='service', label='Negative', score=0.9958)]),\n",
       " AspectAnnotation(text='But I needed a laptop for school use .', aspects=[SentimentAnnotation(text='laptop', label='Neutral', score=0.9899), SentimentAnnotation(text='school', label='Neutral', score=0.9903)]),\n",
       " AspectAnnotation(text='Its Office compatible , but the features and its functioning is all new again so you might as well save the money and just learn the pre installed mac programs .', aspects=[SentimentAnnotation(text='Office', label='Positive', score=0.9294), SentimentAnnotation(text='features', label='Neutral', score=0.9567), SentimentAnnotation(text='functioning', label='Neutral', score=0.9504)]),\n",
       " AspectAnnotation(text='He has replaced his hard drive twice and ( of course ) has had to pay for antivirus software every year .', aspects=[SentimentAnnotation(text='hard drive', label='Negative', score=0.9872), SentimentAnnotation(text='antivirus software', label='Negative', score=0.9846)]),\n",
       " AspectAnnotation(text='Screen , keyboard , and mouse : If you cant see yourself spending the extra money to jump up to a Mac the beautiful screen , responsive island backlit keyboard , and fun multi - touch mouse is worth the extra money to me alone .', aspects=[SentimentAnnotation(text='Screen', label='Neutral', score=0.9704), SentimentAnnotation(text='keyboard', label='Neutral', score=0.973), SentimentAnnotation(text='mouse', label='Neutral', score=0.9709), SentimentAnnotation(text='screen', label='Positive', score=0.993), SentimentAnnotation(text='island backlit keyboard', label='Positive', score=0.9978), SentimentAnnotation(text='multi - touch mouse', label='Positive', score=0.9981)]),\n",
       " AspectAnnotation(text='The OS is still as fast as the day that the laptop was purchased and continues to run flawlessly .', aspects=[SentimentAnnotation(text='OS', label='Positive', score=0.9979), SentimentAnnotation(text='run', label='Positive', score=0.9967)]),\n",
       " AspectAnnotation(text=\"Well , I have to say since I bought my Mac , I won ' t ever go back to any Windows .\", aspects=[SentimentAnnotation(text='Windows', label='Negative', score=0.9954)]),\n",
       " AspectAnnotation(text='Sells for the same as a netbook without sacrificing size .', aspects=[SentimentAnnotation(text='size', label='Positive', score=0.9903)]),\n",
       " AspectAnnotation(text='So I called customer support ( which is good too ) and they went through it and it is just a safety feature and it does not affect performance at all , I just chose to hide the message .', aspects=[SentimentAnnotation(text='customer support', label='Positive', score=0.9943), SentimentAnnotation(text='safety', label='Neutral', score=0.972), SentimentAnnotation(text='performance', label='Neutral', score=0.974)]),\n",
       " AspectAnnotation(text=\"Ever since I bought this laptop , so far I ' ve experience nothing but constant break downs of the laptop and bad customer services I received over the phone with toshiba customer services hotlines .\", aspects=[SentimentAnnotation(text='customer services', label='Negative', score=0.9967), SentimentAnnotation(text='services', label='Negative', score=0.9967)]),\n",
       " AspectAnnotation(text='The only drawback for me is how dirty the screen gets , and rather quickly too .', aspects=[SentimentAnnotation(text='screen', label='Negative', score=0.9964)]),\n",
       " AspectAnnotation(text='Even though it is running Snow Leopard , 2 . 4 GHz C2D is a bit of an antiquated CPU and thus the occasional spinning wheel would appear when running Office Mac applications such as Word or Excel .', aspects=[SentimentAnnotation(text='Snow Leopard', label='Positive', score=0.9735), SentimentAnnotation(text='CPU', label='Negative', score=0.995), SentimentAnnotation(text='spinning wheel', label='Negative', score=0.9936), SentimentAnnotation(text='Office Mac applications', label='Negative', score=0.9898), SentimentAnnotation(text='Word', label='Negative', score=0.9836), SentimentAnnotation(text='Excel', label='Negative', score=0.9817)]),\n",
       " AspectAnnotation(text='Keyboard was also very nice and had a solid feel .', aspects=[SentimentAnnotation(text='Keyboard', label='Positive', score=0.9978)]),\n",
       " AspectAnnotation(text='EITHER THE COMPUTER IS TOO SLOW TO DETECT THE KEYS TYPED ( THIS IS UNLIKELY AS I AM A SLOW TYPIST ) OR THE KEYBOARD SIMPLY DOES NOT DETECT THE KEYS BEING TYPED .', aspects=[SentimentAnnotation(text='KEYS', label='Negative', score=0.9939), SentimentAnnotation(text='KEYBOARD', label='Negative', score=0.9955)]),\n",
       " AspectAnnotation(text='defective software .', aspects=[SentimentAnnotation(text='software', label='Negative', score=0.9969)]),\n",
       " AspectAnnotation(text=\"More times that not the screen pops up saying I have a bad internet connection , or the page can ' t be displayed .\", aspects=[SentimentAnnotation(text='screen', label='Negative', score=0.9075), SentimentAnnotation(text='internet connection', label='Negative', score=0.9969)]),\n",
       " AspectAnnotation(text=\"When I called Toshiba , they would not do anything and even tried to charge me $ 35 for the phone call , even though they didn ' t offer any technical support .\", aspects=[SentimentAnnotation(text='technical support', label='Negative', score=0.9898)]),\n",
       " AspectAnnotation(text=\"Reason why ? It ' s because when you buy it , you know first thing that you will not lose any value for that laptop , the price will stay the same for the next year , and even if Apple does decides to change mode , your laptop value will only drop 10 - 20 % , unlike PC laptops which drop more than 80 % .\", aspects=[SentimentAnnotation(text='value', label='Positive', score=0.9902), SentimentAnnotation(text='price', label='Positive', score=0.9593)]),\n",
       " AspectAnnotation(text='Now mainboard is broken , have to wait for a new one .', aspects=[SentimentAnnotation(text='mainboard', label='Negative', score=0.9961)]),\n",
       " AspectAnnotation(text='There is a small red circle next to it with a x in the middle , and when I click on it it says : \" Consider replacing your battery \" and it does not hold full charge .', aspects=[SentimentAnnotation(text='battery', label='Neutral', score=0.7409), SentimentAnnotation(text='charge', label='Neutral', score=0.6307)]),\n",
       " AspectAnnotation(text='The price was very good , and the product is top quality .', aspects=[SentimentAnnotation(text='price', label='Positive', score=0.998), SentimentAnnotation(text='quality', label='Positive', score=0.9983)]),\n",
       " AspectAnnotation(text='The Final Cut Pro on this laptop is so fast and easy , and I can use this to seemlessly transfer all my work to my home computer , which is also a mac .', aspects=[SentimentAnnotation(text='Final Cut Pro', label='Positive', score=0.9984), SentimentAnnotation(text='work', label='Neutral', score=0.6865)]),\n",
       " AspectAnnotation(text='Also , macbooks come with much more features which are so cool !', aspects=[SentimentAnnotation(text='features', label='Positive', score=0.9984)]),\n",
       " AspectAnnotation(text='The guy then said that if I insist on having the hinge tightened , they can do it for me but I have to accept the condition after the \" repair \" .', aspects=[SentimentAnnotation(text='guy', label='Negative', score=0.9441), SentimentAnnotation(text='hinge', label='Neutral', score=0.9578)]),\n",
       " AspectAnnotation(text='Summary : HP knew they were shipping out bad BIOS and did nothing proactive to resolve it .', aspects=[SentimentAnnotation(text='BIOS', label='Negative', score=0.9966)]),\n",
       " AspectAnnotation(text='Thus , when you carry it at a slanted angle , the screen will \" topple \" or \" slide \" down , if you understand what I mean .', aspects=[SentimentAnnotation(text='screen', label='Negative', score=0.9961)]),\n",
       " AspectAnnotation(text='It made the computer much easier to use and navigate .', aspects=[SentimentAnnotation(text='use', label='Positive', score=0.9986), SentimentAnnotation(text='navigate', label='Positive', score=0.9987)]),\n",
       " AspectAnnotation(text='Though the picture , video , and music software is nowhere close to professional grade software Im used to ( CS5 ) but does the job for beginner and even intermediate media designers .', aspects=[SentimentAnnotation(text='picture', label='Negative', score=0.6734), SentimentAnnotation(text='video', label='Negative', score=0.6827), SentimentAnnotation(text='music software', label='Negative', score=0.7688)]),\n",
       " AspectAnnotation(text='I would rate this computer at 5 stars , but considering it has a short life span I can only give it 1 and implore anyone looking at laptops to stay away from this machine .', aspects=[SentimentAnnotation(text='life span', label='Negative', score=0.9929)]),\n",
       " AspectAnnotation(text='Tech support tells me the latter problem is a power supply problem and have offered to fix it if it happens again .', aspects=[SentimentAnnotation(text='Tech support', label='Positive', score=0.983), SentimentAnnotation(text='power supply', label='Negative', score=0.9816)]),\n",
       " AspectAnnotation(text='Moral of the story : - Do not buy anything from companies that do not respect their customers .', aspects=[SentimentAnnotation(text='companies', label='Negative', score=0.9881)]),\n",
       " AspectAnnotation(text=\": - ) If you buy this - don ' t go into it expecting 7 hrs of battery life , and you ' ll be perfectly satisfied .\", aspects=[SentimentAnnotation(text='battery life', label='Negative', score=0.658)]),\n",
       " AspectAnnotation(text='Although i do believe that Windows operating system may be to fault for some of the problems .', aspects=[SentimentAnnotation(text='Windows operating system', label='Negative', score=0.9916)]),\n",
       " AspectAnnotation(text='The feature are good enough for what I need .', aspects=[SentimentAnnotation(text='feature', label='Positive', score=0.9963)]),\n",
       " AspectAnnotation(text='We researched and found the best price at MacConnection .', aspects=[SentimentAnnotation(text='price', label='Positive', score=0.9972)]),\n",
       " AspectAnnotation(text=\"I contacted Acer and they are giving me FREE recovery DVDs , so don ' t go and pay for them , just ask for them and they should give them to you .\", aspects=[SentimentAnnotation(text='recovery DVDs', label='Positive', score=0.9507)]),\n",
       " AspectAnnotation(text='even though I had the receipt in front of me proving it still had 2 months left on the warranty .', aspects=[SentimentAnnotation(text='warranty', label='Negative', score=0.9357)]),\n",
       " AspectAnnotation(text='And having to deal with the company has been a even worse nightmare .', aspects=[SentimentAnnotation(text='company', label='Negative', score=0.997)]),\n",
       " AspectAnnotation(text=\"For me , keys were starting to get stuck and wouldn ' t type very well .\", aspects=[SentimentAnnotation(text='keys', label='Negative', score=0.9964)]),\n",
       " AspectAnnotation(text='I \\' m still within the one year warranty but the repair \" depot \" has deemed that this time it was caused by physical abuse and is not covered .', aspects=[SentimentAnnotation(text='warranty', label='Negative', score=0.9756)]),\n",
       " AspectAnnotation(text='The Nortons virus scan is only for a very short time unlike others that usually are good for a year .', aspects=[SentimentAnnotation(text='scan', label='Negative', score=0.8976)]),\n",
       " AspectAnnotation(text='Very good quality and well made .', aspects=[SentimentAnnotation(text='quality', label='Positive', score=0.9988), SentimentAnnotation(text='made', label='Positive', score=0.9988)]),\n",
       " AspectAnnotation(text='The reality was , it heated up very quickly , and took way too long to do simple things , like opening my Documents folder .', aspects=[]),\n",
       " AspectAnnotation(text='Startup in about 30 seconds , shutdown in 2 - 4 seconds , resume from sleep in 0 - 2 seconds .', aspects=[SentimentAnnotation(text='Startup', label='Neutral', score=0.8503), SentimentAnnotation(text='shutdown', label='Neutral', score=0.8511), SentimentAnnotation(text='resume from sleep', label='Neutral', score=0.6922)]),\n",
       " AspectAnnotation(text='I also purchased Office Max \\' s \" Max Assurance \" with the \" no lemon \" clause .', aspects=[]),\n",
       " AspectAnnotation(text='Seems like maybe a bad shipment from Toshiba .', aspects=[SentimentAnnotation(text='shipment', label='Negative', score=0.9972)]),\n",
       " AspectAnnotation(text='also the battery is completely shot .', aspects=[SentimentAnnotation(text='battery', label='Negative', score=0.9969)]),\n",
       " AspectAnnotation(text=\"It ' s so much easier to navigate through the operating system , to find files , and it runs a lot faster !\", aspects=[SentimentAnnotation(text='navigate', label='Positive', score=0.9971), SentimentAnnotation(text='operating system', label='Positive', score=0.9978), SentimentAnnotation(text='find files', label='Positive', score=0.9973), SentimentAnnotation(text='runs', label='Positive', score=0.9973)]),\n",
       " AspectAnnotation(text=\"I wasn ' t a big fan of the Netbooks but this one was very well designed .\", aspects=[SentimentAnnotation(text='designed', label='Positive', score=0.9965)]),\n",
       " AspectAnnotation(text='not using wired lan not sure what thats about .', aspects=[SentimentAnnotation(text='wired lan', label='Neutral', score=0.9794)]),\n",
       " AspectAnnotation(text='The macbooks are small enough to be very portable yet hold tons of information and performance .', aspects=[SentimentAnnotation(text='information', label='Positive', score=0.9973), SentimentAnnotation(text='performance', label='Positive', score=0.9974)]),\n",
       " AspectAnnotation(text='- 4 RAM slots , 2 HDD Bays * , 16GB RAM support - No Wireless Issues , at least for me .', aspects=[SentimentAnnotation(text='RAM slots', label='Neutral', score=0.9706), SentimentAnnotation(text='HDD Bays', label='Neutral', score=0.9695), SentimentAnnotation(text='16GB RAM support', label='Neutral', score=0.7726), SentimentAnnotation(text='Wireless', label='Positive', score=0.9062)]),\n",
       " AspectAnnotation(text=\"Maximum sound isn ' t nearly as loud as it should be .\", aspects=[SentimentAnnotation(text='sound', label='Negative', score=0.9855)]),\n",
       " AspectAnnotation(text=\"The driver updates don ' t fix the issue , very frustrating .\", aspects=[SentimentAnnotation(text='driver updates', label='Negative', score=0.9962)]),\n",
       " AspectAnnotation(text=\"Speakers doesn ' t sound that great .\", aspects=[SentimentAnnotation(text='sound', label='Negative', score=0.9684)]),\n",
       " AspectAnnotation(text=\"I love windows 7 but i can ' t give Toshiba any credit for that , unless y ' all get serious about ergonomics and making required connections less obtrusive i will be looking to different manufacturer next time .\", aspects=[SentimentAnnotation(text='windows 7', label='Positive', score=0.9855), SentimentAnnotation(text='ergonomics', label='Negative', score=0.9795), SentimentAnnotation(text='connections', label='Negative', score=0.9744)]),\n",
       " AspectAnnotation(text='DO NOT BUY GATEWAY COMPUTERS THEY ARE JUNK AND THE WARRANTY COMPANY IS HORRIBLE .', aspects=[SentimentAnnotation(text='WARRANTY COMPANY', label='Negative', score=0.9968)]),\n",
       " AspectAnnotation(text='The neat and organized icon list is a welcome change from cluttered and confusing desktop icons .', aspects=[SentimentAnnotation(text='icon', label='Positive', score=0.9947), SentimentAnnotation(text='icons', label='Negative', score=0.9933)]),\n",
       " AspectAnnotation(text=\"In due course , I ' ll remove the hard disc from this new MacBook Pro and dump it where it belongs - in the trash .\", aspects=[SentimentAnnotation(text='hard disc', label='Negative', score=0.9955)]),\n",
       " AspectAnnotation(text='I have found it very easy to use , very imformative , wonder alerts and tutorials making it very easy for someone like me who is not exactly technologically advanced to learn to use the various features and programs .', aspects=[SentimentAnnotation(text='use', label='Positive', score=0.9982), SentimentAnnotation(text='tutorials', label='Positive', score=0.9975), SentimentAnnotation(text='features', label='Positive', score=0.9905), SentimentAnnotation(text='programs', label='Positive', score=0.9891)]),\n",
       " AspectAnnotation(text='From the get - go , the M6809 was unsteady in its operation ;', aspects=[SentimentAnnotation(text='operation', label='Negative', score=0.9956)]),\n",
       " AspectAnnotation(text='I can barely use any usb devices because they will not stay connected properly .', aspects=[SentimentAnnotation(text='usb devices', label='Negative', score=0.9947)]),\n",
       " AspectAnnotation(text='I bought it from HSN because it was \" bundled \" with extra software , but as it turns out , that software just crashes it more often . . . . .', aspects=[SentimentAnnotation(text='software', label='Negative', score=0.9942)]),\n",
       " AspectAnnotation(text='The PhotoBooth is a great program , it takes very good pictures with the built - in camera .', aspects=[SentimentAnnotation(text='program', label='Positive', score=0.9951), SentimentAnnotation(text='pictures', label='Positive', score=0.9626)]),\n",
       " AspectAnnotation(text='My macbook is so much better looking and so thin !', aspects=[SentimentAnnotation(text='looking', label='Positive', score=0.9981)]),\n",
       " AspectAnnotation(text='It is VERY easy to type on and feels great - besides the added feature that the keyboard is lighted .', aspects=[SentimentAnnotation(text='type', label='Positive', score=0.9979), SentimentAnnotation(text='feature', label='Positive', score=0.9771), SentimentAnnotation(text='keyboard', label='Positive', score=0.9725)]),\n",
       " AspectAnnotation(text='For the [ $ ] price ( special offer ) this is a great laptop .', aspects=[SentimentAnnotation(text='price', label='Positive', score=0.9379)]),\n",
       " AspectAnnotation(text='The system constantly overheats , the battery life is too short , the case is coming apart , and my core applications that I use every day in my work as a graphic artist run poorly .', aspects=[SentimentAnnotation(text='system', label='Negative', score=0.9957), SentimentAnnotation(text='battery life', label='Negative', score=0.9963), SentimentAnnotation(text='case', label='Negative', score=0.996), SentimentAnnotation(text='core applications', label='Negative', score=0.9957)]),\n",
       " AspectAnnotation(text='Very fast boot up and shut down .', aspects=[SentimentAnnotation(text='boot up', label='Positive', score=0.9985), SentimentAnnotation(text='shut down', label='Positive', score=0.9983)]),\n",
       " AspectAnnotation(text='In fact , somehow ( and I never opened it up ) some specks of dust or something got inside the screen and are now there permanently , behind the front of the screen , in the way of the display .', aspects=[SentimentAnnotation(text='screen', label='Negative', score=0.9961), SentimentAnnotation(text='display', label='Negative', score=0.9951)]),\n",
       " AspectAnnotation(text='little short on RAM but you get what you pay for .', aspects=[SentimentAnnotation(text='RAM', label='Negative', score=0.9886)]),\n",
       " AspectAnnotation(text='The video card is great for media , and above average for gaming , but not a gamers first choice .', aspects=[SentimentAnnotation(text='video card', label='Positive', score=0.9964), SentimentAnnotation(text='media', label='Positive', score=0.9942), SentimentAnnotation(text='gaming', label='Positive', score=0.9374)]),\n",
       " AspectAnnotation(text='After replacing the hard drive the battery stopped working ( 3 months of use ) which was frustrating .', aspects=[SentimentAnnotation(text='hard drive', label='Neutral', score=0.9489), SentimentAnnotation(text='battery', label='Neutral', score=0.5578)]),\n",
       " AspectAnnotation(text='A seventy dollar mouse !', aspects=[SentimentAnnotation(text='mouse', label='Neutral', score=0.9765)]),\n",
       " AspectAnnotation(text='For the [ $ ] price ( special offer ) this is a great laptop .', aspects=[SentimentAnnotation(text='price', label='Positive', score=0.9379)]),\n",
       " AspectAnnotation(text=\"Speakers doesn ' t sound that great .\", aspects=[SentimentAnnotation(text='sound', label='Negative', score=0.9684)]),\n",
       " AspectAnnotation(text='Also , I have had alot of trouble with the keys sticking and will not type correctly .', aspects=[SentimentAnnotation(text='keys', label='Negative', score=0.9937)]),\n",
       " AspectAnnotation(text='Overall the computer is very easy to use , the screen is perfect , great computer , my daughter loves .', aspects=[SentimentAnnotation(text='use', label='Positive', score=0.9985), SentimentAnnotation(text='screen', label='Positive', score=0.9987)]),\n",
       " AspectAnnotation(text='This is a great value for the money .', aspects=[SentimentAnnotation(text='value', label='Positive', score=0.9982), SentimentAnnotation(text='money', label='Positive', score=0.9979)]),\n",
       " AspectAnnotation(text='Anyway , in early July of this year , the DVD burner stopped working , and the computer stared having issues with power supply .', aspects=[SentimentAnnotation(text='DVD burner', label='Negative', score=0.9908), SentimentAnnotation(text='power supply', label='Negative', score=0.9953)]),\n",
       " AspectAnnotation(text='The difference is the Toshiba had a lot more memory and hard drive space .', aspects=[SentimentAnnotation(text='memory', label='Positive', score=0.9915), SentimentAnnotation(text='hard drive space', label='Positive', score=0.9941)]),\n",
       " AspectAnnotation(text='I also enjoy the fact that my MacBook Pro laptop allows me to run Windows 7 on it by using the VMWare program .', aspects=[SentimentAnnotation(text='Windows 7', label='Positive', score=0.9586), SentimentAnnotation(text='VMWare program', label='Neutral', score=0.946)]),\n",
       " AspectAnnotation(text='Great Laptop for the price , works well with action pack games .', aspects=[SentimentAnnotation(text='price', label='Positive', score=0.9943), SentimentAnnotation(text='games', label='Neutral', score=0.9796)]),\n",
       " AspectAnnotation(text='( If you ever see the spinning beachball come up when you think it shouldn \\' t , check the \" Activity Monitor \" app to see if the disk throughput has temporarily dropped to zero .', aspects=[SentimentAnnotation(text='spinning', label='Negative', score=0.9927), SentimentAnnotation(text='disk', label='Neutral', score=0.9544)]),\n",
       " AspectAnnotation(text=\"The battery holds up well , it ' s built very solidly , and runs fast .\", aspects=[SentimentAnnotation(text='battery', label='Positive', score=0.9982), SentimentAnnotation(text='built', label='Positive', score=0.9981), SentimentAnnotation(text='runs', label='Positive', score=0.9983)]),\n",
       " AspectAnnotation(text='I chose the iBookG4 , a laptop that is an attractive computer with a large screen big enough to please anyone .', aspects=[SentimentAnnotation(text='screen', label='Positive', score=0.9969)]),\n",
       " AspectAnnotation(text=\": - ) If you buy this - don ' t go into it expecting 7 hrs of battery life , and you ' ll be perfectly satisfied .\", aspects=[SentimentAnnotation(text='battery life', label='Negative', score=0.658)]),\n",
       " AspectAnnotation(text='Keys stick periodically and I havent had the laptop for 45 days yet .', aspects=[SentimentAnnotation(text='Keys', label='Negative', score=0.9575)]),\n",
       " AspectAnnotation(text='I needed a driver for my HP and they would not help me with out me paying over $ 50 for it .', aspects=[SentimentAnnotation(text='driver', label='Neutral', score=0.9738)]),\n",
       " AspectAnnotation(text=\"It ' s a great product for a great price !\", aspects=[SentimentAnnotation(text='price', label='Positive', score=0.9984)]),\n",
       " AspectAnnotation(text='Another included program that is laughable is the chess game .', aspects=[SentimentAnnotation(text='program', label='Negative', score=0.9861), SentimentAnnotation(text='chess', label='Negative', score=0.9755)]),\n",
       " AspectAnnotation(text='The ease of use is wonderful .', aspects=[SentimentAnnotation(text='use', label='Positive', score=0.9986)]),\n",
       " AspectAnnotation(text=') I also tried the touch pad and compared it to other netbooks in the store .', aspects=[SentimentAnnotation(text='touch pad', label='Neutral', score=0.962)]),\n",
       " AspectAnnotation(text='All the things you can do with the trackpad make navigating around the computer and its programs so much simpler , quicker , and easier .', aspects=[SentimentAnnotation(text='trackpad', label='Positive', score=0.9943), SentimentAnnotation(text='navigating', label='Positive', score=0.9948), SentimentAnnotation(text='programs', label='Positive', score=0.9941)]),\n",
       " AspectAnnotation(text='The right speaker did not work .', aspects=[SentimentAnnotation(text='speaker', label='Negative', score=0.9896)]),\n",
       " AspectAnnotation(text=\"Also , because of the size and consistancy of the laptop computer , some websites wouldn ' t even attempt to work on the computer because of browser problems .\", aspects=[SentimentAnnotation(text='size', label='Negative', score=0.9912), SentimentAnnotation(text='consistancy', label='Negative', score=0.9928)]),\n",
       " AspectAnnotation(text='the laptop preformed pretty well .', aspects=[SentimentAnnotation(text='preformed', label='Positive', score=0.9985)]),\n",
       " AspectAnnotation(text='I actually contact Toshiba before I started having problem and was given run around after I supplied serial number in order to delay me sending in laptop until after warrenty expired .', aspects=[SentimentAnnotation(text='warrenty', label='Negative', score=0.9923)]),\n",
       " AspectAnnotation(text=\"Quality Display I love HP , , it ' s the only computer / printer we will buy .\", aspects=[SentimentAnnotation(text='Quality Display', label='Positive', score=0.9981)]),\n",
       " AspectAnnotation(text='The OS takes some getting used to especially after being a Windows user for so long but the learning curve is so worth it !', aspects=[SentimentAnnotation(text='OS', label='Negative', score=0.888), SentimentAnnotation(text='Windows', label='Neutral', score=0.923), SentimentAnnotation(text='learning curve', label='Positive', score=0.9862)]),\n",
       " AspectAnnotation(text='Lightweight and the screen is beautiful !', aspects=[SentimentAnnotation(text='screen', label='Positive', score=0.9983)]),\n",
       " AspectAnnotation(text='The Nortons virus scan is only for a very short time unlike others that usually are good for a year .', aspects=[SentimentAnnotation(text='scan', label='Negative', score=0.8976)]),\n",
       " AspectAnnotation(text=\"However , the multi - touch gestures and large tracking area make having an external mouse unnecessary ( unless you ' re gaming ) .\", aspects=[SentimentAnnotation(text='multi - touch gestures', label='Positive', score=0.991), SentimentAnnotation(text='tracking area', label='Positive', score=0.5251), SentimentAnnotation(text='external mouse', label='Neutral', score=0.9753)]),\n",
       " AspectAnnotation(text='No temporary replacement , they are out of replacements because \" many computers had problems with the Nvidia chipset \" - Inquired status of repair .', aspects=[SentimentAnnotation(text='Nvidia chipset', label='Negative', score=0.9923)])]"
      ]
     },
     "execution_count": 25,
     "metadata": {},
     "output_type": "execute_result"
    }
   ],
   "source": [
    "aspect_annotator.annotate(texts)"
   ]
  },
  {
   "cell_type": "code",
   "execution_count": 26,
   "metadata": {},
   "outputs": [],
   "source": [
    "results = amazon['overall'].copy().astype(str)"
   ]
  },
  {
   "cell_type": "code",
   "execution_count": 27,
   "metadata": {},
   "outputs": [],
   "source": [
    "results[amazon['overall']>3] = \"positive\"\n",
    "results[amazon['overall']==3] = \"neutral\"\n",
    "results[amazon['overall']<3] = \"negative\""
   ]
  },
  {
   "cell_type": "code",
   "execution_count": 28,
   "metadata": {},
   "outputs": [],
   "source": [
    "annotator = OverallAnotator(tool = \"sentistrength\", \n",
    "                            ss_jar_path='/home/bartoszrozek/Downloads/pysenti/PySentiStrength-1.0.1/pysenti/original/SentiStrength.jar',\n",
    "                            ss_lang_path='/home/bartoszrozek/Downloads/pysenti/PySentiStrength-1.0.1/pysenti/original/data')"
   ]
  },
  {
   "cell_type": "code",
   "execution_count": 30,
   "metadata": {},
   "outputs": [
    {
     "ename": "Exception",
     "evalue": "",
     "output_type": "error",
     "traceback": [
      "\u001b[1;31m---------------------------------------------------------------------------\u001b[0m",
      "\u001b[1;31mValueError\u001b[0m                                Traceback (most recent call last)",
      "File \u001b[1;32mc:\\Users\\marty\\OneDrive\\Dokumenty\\notatki\\9 semestr\\NLP\\NLP-BAMK-project\\venv\\Lib\\site-packages\\sentistrength\\__init__.py:42\u001b[0m, in \u001b[0;36mPySentiStr.getSentiment\u001b[1;34m(self, df_text, score)\u001b[0m\n\u001b[0;32m     41\u001b[0m \u001b[39mtry\u001b[39;00m:\n\u001b[1;32m---> 42\u001b[0m     senti_score \u001b[39m=\u001b[39m \u001b[39mlist\u001b[39;49m(\u001b[39mmap\u001b[39;49m(\u001b[39mfloat\u001b[39;49m, senti_score))\n\u001b[0;32m     43\u001b[0m \u001b[39mexcept\u001b[39;00m:\n",
      "\u001b[1;31mValueError\u001b[0m: could not convert string to float: ''",
      "\nDuring handling of the above exception, another exception occurred:\n",
      "\u001b[1;31mException\u001b[0m                                 Traceback (most recent call last)",
      "\u001b[1;32mc:\\Users\\marty\\OneDrive\\Dokumenty\\notatki\\9 semestr\\NLP\\NLP-BAMK-project\\codes\\test.ipynb Cell 18\u001b[0m line \u001b[0;36m2\n\u001b[0;32m      <a href='vscode-notebook-cell:/c%3A/Users/marty/OneDrive/Dokumenty/notatki/9%20semestr/NLP/NLP-BAMK-project/codes/test.ipynb#X23sZmlsZQ%3D%3D?line=0'>1</a>\u001b[0m ind \u001b[39m=\u001b[39m \u001b[39mlist\u001b[39m(np\u001b[39m.\u001b[39mrandom\u001b[39m.\u001b[39mrandint(\u001b[39m1\u001b[39m,\u001b[39mlen\u001b[39m(results), \u001b[39m100\u001b[39m))\n\u001b[1;32m----> <a href='vscode-notebook-cell:/c%3A/Users/marty/OneDrive/Dokumenty/notatki/9%20semestr/NLP/NLP-BAMK-project/codes/test.ipynb#X23sZmlsZQ%3D%3D?line=1'>2</a>\u001b[0m res \u001b[39m=\u001b[39m annotator\u001b[39m.\u001b[39;49mtest_annotator(amazon[\u001b[39m'\u001b[39;49m\u001b[39mreviewText\u001b[39;49m\u001b[39m'\u001b[39;49m][ind], results[ind])\n",
      "File \u001b[1;32mc:\\Users\\marty\\OneDrive\\Dokumenty\\notatki\\9 semestr\\NLP\\NLP-BAMK-project\\codes\\overall_anotator.py:101\u001b[0m, in \u001b[0;36mOverallAnotator.test_annotator\u001b[1;34m(self, texts, true_labels)\u001b[0m\n\u001b[0;32m    100\u001b[0m \u001b[39mdef\u001b[39;00m \u001b[39mtest_annotator\u001b[39m(\u001b[39mself\u001b[39m, texts, true_labels) \u001b[39m-\u001b[39m\u001b[39m>\u001b[39m OrdinaryResults:\n\u001b[1;32m--> 101\u001b[0m     predicted_labels \u001b[39m=\u001b[39m \u001b[39mself\u001b[39;49m\u001b[39m.\u001b[39;49mannotate(texts)\n\u001b[0;32m    102\u001b[0m     predicted_labels \u001b[39m=\u001b[39m [\n\u001b[0;32m    103\u001b[0m         predicted_label\u001b[39m.\u001b[39mlabel\u001b[39m.\u001b[39mlower() \u001b[39mfor\u001b[39;00m predicted_label \u001b[39min\u001b[39;00m predicted_labels\n\u001b[0;32m    104\u001b[0m     ]\n\u001b[0;32m    105\u001b[0m     true_labels \u001b[39m=\u001b[39m [true_label\u001b[39m.\u001b[39mlower() \u001b[39mfor\u001b[39;00m true_label \u001b[39min\u001b[39;00m true_labels]\n",
      "File \u001b[1;32mc:\\Users\\marty\\OneDrive\\Dokumenty\\notatki\\9 semestr\\NLP\\NLP-BAMK-project\\codes\\overall_anotator.py:85\u001b[0m, in \u001b[0;36mOverallAnotator.annotate\u001b[1;34m(self, texts)\u001b[0m\n\u001b[0;32m     83\u001b[0m \u001b[39mif\u001b[39;00m \u001b[39mself\u001b[39m\u001b[39m.\u001b[39mtool \u001b[39m==\u001b[39m \u001b[39m\"\u001b[39m\u001b[39msentistrength\u001b[39m\u001b[39m\"\u001b[39m:\n\u001b[0;32m     84\u001b[0m     \u001b[39mfor\u001b[39;00m text \u001b[39min\u001b[39;00m texts:\n\u001b[1;32m---> 85\u001b[0m         sentiment_score \u001b[39m=\u001b[39m \u001b[39mself\u001b[39;49m\u001b[39m.\u001b[39;49mtagger\u001b[39m.\u001b[39;49mgetSentiment(text, score\u001b[39m=\u001b[39;49m\u001b[39m\"\u001b[39;49m\u001b[39mtrinary\u001b[39;49m\u001b[39m\"\u001b[39;49m)\n\u001b[0;32m     86\u001b[0m         sentiment_index \u001b[39m=\u001b[39m [\n\u001b[0;32m     87\u001b[0m             np\u001b[39m.\u001b[39margmax(np\u001b[39m.\u001b[39mabs(sentiment)) \u001b[39mfor\u001b[39;00m sentiment \u001b[39min\u001b[39;00m sentiment_score\n\u001b[0;32m     88\u001b[0m         ]\n\u001b[0;32m     89\u001b[0m         sentiment \u001b[39m=\u001b[39m \u001b[39mlist\u001b[39m(\u001b[39mmap\u001b[39m(\u001b[39mself\u001b[39m\u001b[39m.\u001b[39mmap_senti, sentiment_index))[\u001b[39m0\u001b[39m]\n",
      "File \u001b[1;32mc:\\Users\\marty\\OneDrive\\Dokumenty\\notatki\\9 semestr\\NLP\\NLP-BAMK-project\\venv\\Lib\\site-packages\\sentistrength\\__init__.py:44\u001b[0m, in \u001b[0;36mPySentiStr.getSentiment\u001b[1;34m(self, df_text, score)\u001b[0m\n\u001b[0;32m     42\u001b[0m     senti_score \u001b[39m=\u001b[39m \u001b[39mlist\u001b[39m(\u001b[39mmap\u001b[39m(\u001b[39mfloat\u001b[39m, senti_score))\n\u001b[0;32m     43\u001b[0m \u001b[39mexcept\u001b[39;00m:\n\u001b[1;32m---> 44\u001b[0m     \u001b[39mraise\u001b[39;00m \u001b[39mException\u001b[39;00m(stdout_text)\n\u001b[0;32m     46\u001b[0m senti_score \u001b[39m=\u001b[39m [\u001b[39mint\u001b[39m(i) \u001b[39mfor\u001b[39;00m i \u001b[39min\u001b[39;00m senti_score]\n\u001b[0;32m     47\u001b[0m \u001b[39mif\u001b[39;00m score \u001b[39m==\u001b[39m \u001b[39m'\u001b[39m\u001b[39mscale\u001b[39m\u001b[39m'\u001b[39m: \u001b[39m# Returns from -4 to 4\u001b[39;00m\n",
      "\u001b[1;31mException\u001b[0m: "
     ]
    }
   ],
   "source": [
    "ind = list(np.random.randint(1,len(results), 100))\n",
    "res = annotator.test_annotator(amazon['reviewText'][ind], results[ind])"
   ]
  },
  {
   "cell_type": "code",
   "execution_count": 31,
   "metadata": {},
   "outputs": [
    {
     "data": {
      "image/png": "[encoded data removed]",
      "text/plain": [
       "<Figure size 640x480 with 1 Axes>"
      ]
     },
     "metadata": {
      "image/png": {
       "height": 480,
       "width": 640
      }
     },
     "output_type": "display_data"
    },
    {
     "data": {
      "text/plain": [
       "<Figure Size: (640 x 480)>"
      ]
     },
     "execution_count": 31,
     "metadata": {},
     "output_type": "execute_result"
    }
   ],
   "source": [
    "res.plot()"
   ]
  }
 ],
 "metadata": {
  "kernelspec": {
   "display_name": ".venv",
   "language": "python",
   "name": "python3"
  },
  "language_info": {
   "codemirror_mode": {
    "name": "ipython",
    "version": 3
   },
   "file_extension": ".py",
   "mimetype": "text/x-python",
   "name": "python",
   "nbconvert_exporter": "python",
   "pygments_lexer": "ipython3",
   "version": "3.11.6"
  }
 },
 "nbformat": 4,
 "nbformat_minor": 2
}
