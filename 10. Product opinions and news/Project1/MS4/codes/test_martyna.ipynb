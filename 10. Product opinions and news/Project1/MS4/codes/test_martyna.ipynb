{
 "cells": [
  {
   "cell_type": "code",
   "execution_count": 4,
   "metadata": {},
   "outputs": [],
   "source": [
    "# First time running this cell after kernel restart it returns an error - run it again, should be fine. Don't know why tho xd\n",
    "from overall_anotator import OverallAnotator\n",
    "from aspect_anotator import AspectAnotator\n",
    "from data_structures import SentimentAnnotation, AspectAnnotation, AspectBasedResults\n",
    "from transforms import transform_aspects\n",
    "import pandas as pd\n",
    "import numpy as np\n",
    "import time\n",
    "from openai import OpenAI\n",
    "import openai\n",
    "openai.api_key = \"\""
   ]
  },
  {
   "cell_type": "code",
   "execution_count": 2,
   "metadata": {},
   "outputs": [],
   "source": [
    "laptops = pd.read_csv(\"../data/Laptop_Train_v2.csv\").sort_values(by=['id'])\n",
    "laptops_sentiment = transform_aspects(laptops, \"id\", \"Sentence\", \"Aspect Term\", \"polarity\")"
   ]
  },
  {
   "cell_type": "code",
   "execution_count": 3,
   "metadata": {},
   "outputs": [
    {
     "data": {
      "text/plain": [
       "['The 17 inch screen is very large, but the computer is very light.',\n",
       " 'But, for the cost this is a winner.',\n",
       " 'He has replaced his hard drive twice and (of course) has had to pay for antivirus software every year.']"
      ]
     },
     "execution_count": 3,
     "metadata": {},
     "output_type": "execute_result"
    }
   ],
   "source": [
    "ind = list(np.random.randint(1,len(laptops_sentiment), 3))\n",
    "true_annots = [laptops_sentiment[i] for i in ind]\n",
    "texts = [x.text for x in true_annots]\n",
    "texts"
   ]
  },
  {
   "cell_type": "markdown",
   "metadata": {},
   "source": [
    "## Full ChatGPT"
   ]
  },
  {
   "cell_type": "code",
   "execution_count": 12,
   "metadata": {},
   "outputs": [
    {
     "data": {
      "text/plain": [
       "['The 17 inch screen is very large, but the computer is very light.',\n",
       " 'But, for the cost this is a winner.',\n",
       " 'He has replaced his hard drive twice and (of course) has had to pay for antivirus software every year.']"
      ]
     },
     "execution_count": 12,
     "metadata": {},
     "output_type": "execute_result"
    }
   ],
   "source": [
    "texts"
   ]
  },
  {
   "cell_type": "code",
   "execution_count": 13,
   "metadata": {},
   "outputs": [],
   "source": [
    "aspect_annotator = AspectAnotator(full_tool=\"chat_gpt\")"
   ]
  },
  {
   "cell_type": "code",
   "execution_count": 14,
   "metadata": {},
   "outputs": [
    {
     "data": {
      "text/plain": [
       "[AspectAnnotation(text='The 17 inch screen is very large, but the computer is very light.', aspects=[]),\n",
       " AspectAnnotation(text='But, for the cost this is a winner.', aspects=[SentimentAnnotation(text=' Cost', label='Positive', score=0.8)]),\n",
       " AspectAnnotation(text='He has replaced his hard drive twice and (of course) has had to pay for antivirus software every year.', aspects=[SentimentAnnotation(text=' Hard drive replacement', label='Negative', score=-0.5), SentimentAnnotation(text=' Antivirus software', label='Negative', score=-0.4)])]"
      ]
     },
     "execution_count": 14,
     "metadata": {},
     "output_type": "execute_result"
    }
   ],
   "source": [
    "aspect_annotator.annotate(texts)"
   ]
  },
  {
   "cell_type": "markdown",
   "metadata": {},
   "source": [
    "## ChatGPT + sentistrength"
   ]
  },
  {
   "cell_type": "code",
   "execution_count": 7,
   "metadata": {},
   "outputs": [
    {
     "data": {
      "text/plain": [
       "['The 17 inch screen is very large, but the computer is very light.',\n",
       " 'But, for the cost this is a winner.',\n",
       " 'He has replaced his hard drive twice and (of course) has had to pay for antivirus software every year.']"
      ]
     },
     "execution_count": 7,
     "metadata": {},
     "output_type": "execute_result"
    }
   ],
   "source": [
    "texts"
   ]
  },
  {
   "cell_type": "code",
   "execution_count": 8,
   "metadata": {},
   "outputs": [],
   "source": [
    "aspect_annotator1 = AspectAnotator(stage1_tool = \"chat_gpt\", \n",
    "                                stage2_tool=\"sentistrength\",\n",
    "                                ss_jar_path=r\"C:\\Users\\marty\\OneDrive\\Dokumenty\\notatki\\9 semestr\\NLP\\NLP-BAMK-project\\external\\data\\SentiStrength.jar\",\n",
    "                                ss_lang_path=r\"C:\\Users\\marty\\OneDrive\\Dokumenty\\notatki\\9 semestr\\NLP\\NLP-BAMK-project\\external\\data\")"
   ]
  },
  {
   "cell_type": "code",
   "execution_count": 11,
   "metadata": {},
   "outputs": [
    {
     "ename": "Exception",
     "evalue": "",
     "output_type": "error",
     "traceback": [
      "\u001b[1;31m---------------------------------------------------------------------------\u001b[0m",
      "\u001b[1;31mValueError\u001b[0m                                Traceback (most recent call last)",
      "File \u001b[1;32mc:\\Users\\marty\\OneDrive\\Dokumenty\\notatki\\9 semestr\\NLP\\NLP-BAMK-project\\venv\\Lib\\site-packages\\sentistrength\\__init__.py:65\u001b[0m, in \u001b[0;36mPySentiStr.getSentiment\u001b[1;34m(self, df_text, score, keywords)\u001b[0m\n\u001b[0;32m     64\u001b[0m \u001b[39mtry\u001b[39;00m:\n\u001b[1;32m---> 65\u001b[0m     senti_score \u001b[39m=\u001b[39m \u001b[39mlist\u001b[39;49m(\u001b[39mmap\u001b[39;49m(\u001b[39mfloat\u001b[39;49m, senti_score))\n\u001b[0;32m     66\u001b[0m \u001b[39mexcept\u001b[39;00m:\n",
      "\u001b[1;31mValueError\u001b[0m: could not convert string to float: ''",
      "\nDuring handling of the above exception, another exception occurred:\n",
      "\u001b[1;31mException\u001b[0m                                 Traceback (most recent call last)",
      "\u001b[1;32mc:\\Users\\marty\\OneDrive\\Dokumenty\\notatki\\9 semestr\\NLP\\NLP-BAMK-project\\codes\\test_martyna.ipynb Cell 10\u001b[0m line \u001b[0;36m1\n\u001b[1;32m----> <a href='vscode-notebook-cell:/c%3A/Users/marty/OneDrive/Dokumenty/notatki/9%20semestr/NLP/NLP-BAMK-project/codes/test_martyna.ipynb#X21sZmlsZQ%3D%3D?line=0'>1</a>\u001b[0m annotations1 \u001b[39m=\u001b[39m aspect_annotator1\u001b[39m.\u001b[39;49mannotate(texts)\n\u001b[0;32m      <a href='vscode-notebook-cell:/c%3A/Users/marty/OneDrive/Dokumenty/notatki/9%20semestr/NLP/NLP-BAMK-project/codes/test_martyna.ipynb#X21sZmlsZQ%3D%3D?line=1'>2</a>\u001b[0m annotations1\n",
      "File \u001b[1;32mc:\\Users\\marty\\OneDrive\\Dokumenty\\notatki\\9 semestr\\NLP\\NLP-BAMK-project\\codes\\aspect_anotator.py:198\u001b[0m, in \u001b[0;36mAspectAnotator.annotate\u001b[1;34m(self, texts)\u001b[0m\n\u001b[0;32m    196\u001b[0m \u001b[39mif\u001b[39;00m \u001b[39mself\u001b[39m\u001b[39m.\u001b[39mstage1_tool \u001b[39m==\u001b[39m \u001b[39m\"\u001b[39m\u001b[39mchat_gpt\u001b[39m\u001b[39m\"\u001b[39m:\n\u001b[0;32m    197\u001b[0m     aspects_unlist \u001b[39m=\u001b[39m [a \u001b[39mfor\u001b[39;00m a \u001b[39min\u001b[39;00m \u001b[39mlist\u001b[39m(chain\u001b[39m.\u001b[39mfrom_iterable(aspects))]\n\u001b[1;32m--> 198\u001b[0m sentiments \u001b[39m=\u001b[39m \u001b[39mself\u001b[39;49m\u001b[39m.\u001b[39;49mstage2_annotator\u001b[39m.\u001b[39;49mgetSentiment(\n\u001b[0;32m    199\u001b[0m     texts_rep, keywords\u001b[39m=\u001b[39;49maspects_unlist, score\u001b[39m=\u001b[39;49m\u001b[39m\"\u001b[39;49m\u001b[39mtrinary\u001b[39;49m\u001b[39m\"\u001b[39;49m\n\u001b[0;32m    200\u001b[0m )\n\u001b[0;32m    201\u001b[0m sentiments \u001b[39m=\u001b[39m [np\u001b[39m.\u001b[39margmax(np\u001b[39m.\u001b[39mabs(sentiment)) \u001b[39mfor\u001b[39;00m sentiment \u001b[39min\u001b[39;00m sentiments]\n\u001b[0;32m    202\u001b[0m sentiments \u001b[39m=\u001b[39m \u001b[39mlist\u001b[39m(\u001b[39mmap\u001b[39m(\u001b[39mself\u001b[39m\u001b[39m.\u001b[39mmap_senti, sentiments))\n",
      "File \u001b[1;32mc:\\Users\\marty\\OneDrive\\Dokumenty\\notatki\\9 semestr\\NLP\\NLP-BAMK-project\\venv\\Lib\\site-packages\\sentistrength\\__init__.py:67\u001b[0m, in \u001b[0;36mPySentiStr.getSentiment\u001b[1;34m(self, df_text, score, keywords)\u001b[0m\n\u001b[0;32m     65\u001b[0m     senti_score \u001b[39m=\u001b[39m \u001b[39mlist\u001b[39m(\u001b[39mmap\u001b[39m(\u001b[39mfloat\u001b[39m, senti_score))\n\u001b[0;32m     66\u001b[0m \u001b[39mexcept\u001b[39;00m:\n\u001b[1;32m---> 67\u001b[0m     \u001b[39mraise\u001b[39;00m \u001b[39mException\u001b[39;00m(stdout_text)\n\u001b[0;32m     69\u001b[0m senti_score \u001b[39m=\u001b[39m [\u001b[39mint\u001b[39m(i) \u001b[39mfor\u001b[39;00m i \u001b[39min\u001b[39;00m senti_score]\n\u001b[0;32m     70\u001b[0m \u001b[39mif\u001b[39;00m score \u001b[39m==\u001b[39m \u001b[39m\"\u001b[39m\u001b[39mscale\u001b[39m\u001b[39m\"\u001b[39m:  \u001b[39m# Returns from -4 to 4\u001b[39;00m\n",
      "\u001b[1;31mException\u001b[0m: "
     ]
    }
   ],
   "source": [
    "annotations1 = aspect_annotator1.annotate(texts)\n",
    "annotations1"
   ]
  },
  {
   "cell_type": "markdown",
   "metadata": {},
   "source": [
    "Correction in sentistrength code for chatgpt needed!"
   ]
  },
  {
   "cell_type": "markdown",
   "metadata": {},
   "source": [
    "## ChatGPT + Flair"
   ]
  },
  {
   "cell_type": "code",
   "execution_count": 5,
   "metadata": {},
   "outputs": [],
   "source": [
    "aspect_annotator2 = AspectAnotator(stage1_tool = \"chat_gpt\", \n",
    "                                stage2_tool = \"flair\")"
   ]
  },
  {
   "cell_type": "code",
   "execution_count": 6,
   "metadata": {},
   "outputs": [
    {
     "data": {
      "text/plain": [
       "[AspectAnnotation(text='The 17 inch screen is very large, but the computer is very light.', aspects=[SentimentAnnotation(text='Screen size', label='NEGATIVE', score=0.999645471572876), SentimentAnnotation(text='Computer weight', label='NEGATIVE', score=0.9990482926368713)]),\n",
       " AspectAnnotation(text='But, for the cost this is a winner.', aspects=[SentimentAnnotation(text='Cost', label='POSITIVE', score=0.9953450560569763)]),\n",
       " AspectAnnotation(text='He has replaced his hard drive twice and (of course) has had to pay for antivirus software every year.', aspects=[SentimentAnnotation(text='Hardware replacement', label='POSITIVE', score=0.813917875289917), SentimentAnnotation(text='Antivirus software', label='NEGATIVE', score=0.9995920062065125)])]"
      ]
     },
     "execution_count": 6,
     "metadata": {},
     "output_type": "execute_result"
    }
   ],
   "source": [
    "annotations2 = aspect_annotator2.annotate(texts)\n",
    "annotations2"
   ]
  }
 ],
 "metadata": {
  "kernelspec": {
   "display_name": "venv",
   "language": "python",
   "name": "python3"
  },
  "language_info": {
   "codemirror_mode": {
    "name": "ipython",
    "version": 3
   },
   "file_extension": ".py",
   "mimetype": "text/x-python",
   "name": "python",
   "nbconvert_exporter": "python",
   "pygments_lexer": "ipython3",
   "version": "3.11.6"
  }
 },
 "nbformat": 4,
 "nbformat_minor": 2
}
