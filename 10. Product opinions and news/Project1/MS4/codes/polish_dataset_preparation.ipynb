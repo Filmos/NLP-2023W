{
 "cells": [
  {
   "cell_type": "markdown",
   "metadata": {},
   "source": [
    "\n",
    "## Libraries import"
   ]
  },
  {
   "cell_type": "code",
   "execution_count": 1,
   "metadata": {
    "scrolled": true
   },
   "outputs": [
    {
     "name": "stderr",
     "output_type": "stream",
     "text": [
      "C:\\Users\\welki\\AppData\\Local\\Programs\\Python\\Python311\\Lib\\site-packages\\tqdm\\auto.py:21: TqdmWarning: IProgress not found. Please update jupyter and ipywidgets. See https://ipywidgets.readthedocs.io/en/stable/user_install.html\n"
     ]
    },
    {
     "name": "stdout",
     "output_type": "stream",
     "text": [
      "No CUDA GPU found in your device\n",
      "[2023-12-10 09:46:46] (2.3.4) \u001b[31mPyABSA(2.3.4): If your code crashes on Colab, please use the GPU runtime. Then run \"pip install pyabsa[dev] -U\" and restart the kernel.\n",
      "Or if it does not work, you can use v1.x versions, e.g., pip install pyabsa<2.0 -U\n",
      "\n",
      "\n",
      "\n",
      "\n",
      "WARNING: When you fails to load a checkpoint, e.g., Unexpected key(s),\n",
      "Try to downgrade transformers<=4.29.0.\n",
      "\n",
      "\n",
      "\n",
      "\u001b[0m\n"
     ]
    },
    {
     "name": "stderr",
     "output_type": "stream",
     "text": [
      "C:\\Users\\welki\\AppData\\Local\\Programs\\Python\\Python311\\Lib\\multiprocessing\\pool.py:268: ResourceWarning: unclosed running multiprocessing pool <multiprocessing.pool.Pool state=RUN pool_size=1>\n"
     ]
    }
   ],
   "source": [
    "from pysent import AspectAnotator\n",
    "import pysent.aspect_annotators.extrassifiers as extrassifiers\n",
    "from pysent.data_structures import concat_results, transform_output\n",
    "\n",
    "import pandas as pd"
   ]
  },
  {
   "cell_type": "markdown",
   "metadata": {},
   "source": [
    "## Load and filter the PolEmo dataset"
   ]
  },
  {
   "cell_type": "code",
   "execution_count": 2,
   "metadata": {},
   "outputs": [],
   "source": [
    "polemo = pd.read_csv(\"../data/polemo.csv\", index_col=0)"
   ]
  },
  {
   "cell_type": "code",
   "execution_count": 3,
   "metadata": {},
   "outputs": [],
   "source": [
    "polemo = polemo.loc[polemo['review'].str.len() < 375,[\"review\"]].reset_index(drop=True)"
   ]
  },
  {
   "cell_type": "markdown",
   "metadata": {},
   "source": [
    "## Annotate the filtered PolEmo dataset using pyabsa \"extraclassifier\""
   ]
  },
  {
   "cell_type": "code",
   "execution_count": 4,
   "metadata": {},
   "outputs": [],
   "source": [
    "polemo_reviews_list = polemo.review.to_list()"
   ]
  },
  {
   "cell_type": "code",
   "execution_count": 5,
   "metadata": {},
   "outputs": [
    {
     "name": "stdout",
     "output_type": "stream",
     "text": [
      "[2023-12-10 09:46:57] (2.3.4) Please specify the task code, e.g. from pyabsa import TaskCodeOption\n",
      "[2023-12-10 09:46:58] (2.3.4) \u001b[32mDownloading checkpoint:multilingual \u001b[0m\n",
      "[2023-12-10 09:46:58] (2.3.4) \u001b[31mNotice: The pretrained model are used for testing, it is recommended to train the model on your own custom datasets\u001b[0m\n",
      "[2023-12-10 09:46:58] (2.3.4) Checkpoint already downloaded, skip\n",
      "[2023-12-10 09:46:58] (2.3.4) Load aspect extractor from checkpoints\\ATEPC_MULTILINGUAL_CHECKPOINT\n",
      "[2023-12-10 09:46:58] (2.3.4) config: checkpoints\\ATEPC_MULTILINGUAL_CHECKPOINT\\fast_lcf_atepc.config\n",
      "[2023-12-10 09:46:58] (2.3.4) state_dict: checkpoints\\ATEPC_MULTILINGUAL_CHECKPOINT\\fast_lcf_atepc.state_dict\n",
      "[2023-12-10 09:46:58] (2.3.4) model: None\n",
      "[2023-12-10 09:46:58] (2.3.4) tokenizer: checkpoints\\ATEPC_MULTILINGUAL_CHECKPOINT\\fast_lcf_atepc.tokenizer\n",
      "[2023-12-10 09:46:58] (2.3.4) Set Model Device: cpu\n",
      "[2023-12-10 09:46:58] (2.3.4) Device Name: Unknown\n"
     ]
    },
    {
     "name": "stderr",
     "output_type": "stream",
     "text": [
      "C:\\Users\\welki\\AppData\\Local\\Programs\\Python\\Python311\\Lib\\site-packages\\transformers\\convert_slow_tokenizer.py:473: UserWarning: The sentencepiece tokenizer that you are converting to a fast tokenizer uses the byte fallback option which is not implemented in the fast tokenizers. In practice this means that the fast version of the tokenizer can produce unknown tokens whereas the sentencepiece version would have converted these unknown tokens into a sequence of byte tokens matching the original piece of text.\n"
     ]
    }
   ],
   "source": [
    "pyabsa_full = extrassifiers.PyabsaExtrassifier()"
   ]
  },
  {
   "cell_type": "code",
   "execution_count": 6,
   "metadata": {},
   "outputs": [],
   "source": [
    "annotator = AspectAnotator([pyabsa_full])"
   ]
  },
  {
   "cell_type": "code",
   "execution_count": 7,
   "metadata": {},
   "outputs": [
    {
     "name": "stderr",
     "output_type": "stream",
     "text": [
      "preparing ate inference dataloader: 100%|███████████████████████████████████████████| 992/992 [00:03<00:00, 255.61it/s]\n",
      "extracting aspect terms: 100%|█████████████████████████████████████████████████████████| 31/31 [04:06<00:00,  7.95s/it]\n",
      "preparing apc inference dataloader: 100%|█████████████████████████████████████████| 2489/2489 [00:14<00:00, 167.32it/s]\n",
      "C:\\Users\\welki\\AppData\\Roaming\\Python\\Python311\\site-packages\\pyabsa\\tasks\\AspectTermExtraction\\prediction\\aspect_extractor.py:566: UserWarning: Creating a tensor from a list of numpy.ndarrays is extremely slow. Please consider converting the list to a single numpy.ndarray with numpy.array() before converting to a tensor. (Triggered internally at ..\\torch\\csrc\\utils\\tensor_new.cpp:264.)\n",
      "classifying aspect sentiments: 100%|███████████████████████████████████████████████████| 78/78 [12:39<00:00,  9.74s/it]\n"
     ]
    }
   ],
   "source": [
    "annotations = annotator.annotate(polemo_reviews_list)"
   ]
  },
  {
   "cell_type": "markdown",
   "metadata": {},
   "source": [
    "## Restructure output"
   ]
  },
  {
   "cell_type": "code",
   "execution_count": 8,
   "metadata": {},
   "outputs": [],
   "source": [
    "df_out = transform_output(reviews=polemo_reviews_list,\n",
    "                          annotations=annotations)"
   ]
  },
  {
   "cell_type": "code",
   "execution_count": 9,
   "metadata": {},
   "outputs": [],
   "source": [
    "df_out.to_csv(\"../data/polemo_labelled.csv\", index=False)"
   ]
  },
  {
   "cell_type": "markdown",
   "metadata": {},
   "source": [
    "## Manual tests"
   ]
  },
  {
   "cell_type": "markdown",
   "metadata": {},
   "source": [
    "### Analayze 10 sample aspects"
   ]
  },
  {
   "cell_type": "code",
   "execution_count": 10,
   "metadata": {
    "scrolled": true
   },
   "outputs": [
    {
     "name": "stdout",
     "output_type": "stream",
     "text": [
      "#################\n",
      "Hotel bardzo dobrze położony . Pokój przestronny , ładnie urządzony . Posiłki dobre , ale bez rewelacji . WiFi właściwie nie działa . Duży aquapark to na pewno atrakcja . Dopłata za korzystanie z lodówki w pokoju , brak chusteczek higienicznych w łazience . Zepsutą suszarkę w łazience wymieniono dopiero następnego dnia . Ogólnie ok , ale szału nie ma .\n",
      "######\n",
      "WiFi -> negative\n",
      "#################\n",
      "Hotel podaje fałszywy adres na portalach rezerwacyjnych naprawdę znajduje się w miejscowości i odległej o 7 km od Gdańska drogowskaz stoi obok hotelu , z koszmarnym dojazdem ( 1 , 5 h jak masz szczęście ) mimo , ze rozmawiał em o tym z obsługą w hotelu nie widzą oni nic złego w oszukiwaniu klientów , Po za tym niewygodne łóżka , drogie posiłki\n",
      "######\n",
      "obsługą -> negative\n",
      "#################\n",
      "Mam sentyment do tego miejsca spędził em w tym hotelu wiele nocy . Hotel jest świetnie ulokowany - w centrum miasta . Jak na tą lokalizację ceny są dobre . Śniadania do przyjęcia ale to już nie to co kiedyś . Pokoje mają wystrój z poprzedniej epoki , małe łazienji z małumi kabinami prysznicowymi . Jest czysto . Parking w podwórzu nie zawsze są miejsca .\n",
      "######\n",
      "Pokoje -> neutral\n",
      "#################\n",
      "Jak się okazuje poza wspaniała reklama na stronie web zamek Kliczkow daleki jest od ideału . Byli śmy w wielu miejscach na świecie jak i w mnogich hotelach wellness & spa g dzi\n",
      "######\n",
      "zamek -> negative\n",
      "#################\n",
      "Odwiedziła m basen i restaurację . Standard hotelu mocno rozczarowuje , otoczenie również . wiele rzeczy jest zniszczonych lub niedorobionych - ścieżki , toalety , szatnie basenowe , raczej 2 * nie 4 * . Dania w restauracji smaczne , ale jedno z nich kompletnie przesolone . Szef kuchni probowal ratowac , ale nieudolnie . Nie polecam .\n",
      "######\n",
      "toalety -> positive\n",
      "#################\n",
      "W apartamencie papierowe kubki , przez 24 mimo prośby nie uzupełniono kawy - na 2 osoby dostali śmy 3 kapsułki . Przy meldowaniu obsługa nachalnie domagała się godziny wymeldowania wykupione pożnę wymeldowanie . Brak możliwości przedłożenia apartamentu o kolejne 2 dni . . . !\n",
      "######\n",
      "kawy -> negative\n",
      "#################\n",
      "Bardzo dobry lekarz , doradził mi szkła o innych parametrach niż zawsze miałem i wreszcie dobrze widze . Musiałem co prawda się trochę przestawić na nowe okulary , ale jest ok . W optyku obok gabinetu duży wybór oprawek , ceny średnie , przeciętne jak w Kielcach .\n",
      "######\n",
      "oprawek -> neutral\n",
      "#################\n",
      "Wybrali śmy z mężem pokój dwuosobowy z podwójnym łóżkiem , oprócz tego że podwójne łóżko polegało na połączeniu dwóch pojedynczych łóżek to więcej nie mamy uwag . W recepcji mile Panie , hotel nie jest nowy , ale ma swój klimacik . Jeśli ktoś nie wymaga nowego wykończenia wnętrz to polecam : )\n",
      "######\n",
      "Panie -> neutral\n",
      "#################\n",
      "Warunki bardzo dobre , restauracja , basen , siłownia , wypożyczalnia sprzętu narciarskiego - można odczuwać pewien brak klubu lub dyskoteki Pokoje wygodne i czyste . Telewizja trochę szwankuje ( jest jakaś internetowa i czasem się przycina ) Niestety od przyszłego roku podobno ma być drożej ze względu na remont .\n",
      "######\n",
      "wypożyczalnia sprzętu -> positive\n",
      "#################\n",
      "Hotel bardzo dobrze położony . Pokój przestronny , ładnie urządzony . Posiłki dobre , ale bez rewelacji . WiFi właściwie nie działa . Duży aquapark to na pewno atrakcja . Dopłata za korzystanie z lodówki w pokoju , brak chusteczek higienicznych w łazience . Zepsutą suszarkę w łazience wymieniono dopiero następnego dnia . Ogólnie ok , ale szału nie ma .\n",
      "######\n",
      "suszarkę -> negative\n"
     ]
    }
   ],
   "source": [
    "for index, row in df_out.sample(10).iterrows():\n",
    "    print(\"#################\")\n",
    "    print(row['review'])\n",
    "    print(\"######\")\n",
    "    print(f\"{row['aspect']} -> {row['label']}\")"
   ]
  },
  {
   "cell_type": "markdown",
   "metadata": {},
   "source": [
    "### Analyze 5 sample whole reviews"
   ]
  },
  {
   "cell_type": "code",
   "execution_count": 11,
   "metadata": {},
   "outputs": [],
   "source": [
    "sample_whole_reviews = df_out.loc[df_out.review.isin(df_out.sample(5).review.to_list()),:]"
   ]
  },
  {
   "cell_type": "code",
   "execution_count": 12,
   "metadata": {},
   "outputs": [
    {
     "name": "stdout",
     "output_type": "stream",
     "text": [
      "#################\n",
      "Spędzone tu 4 dni będę wspominała miło . Profesjonalny , miły , uśmiechnięty i przede wszystkim pomocny personel . Pokoje czyste zadbane komfortowe . Posiłki smaczne świeże po prostu mmm pycha : ) Bardzo blisko ( 2 - 3 min pieszo ) Galeria Łódzka , żabka . nie ma problemu z komunikacją : ) wszędzie się dotrze . Polecam bardzo fajne miejsce\n",
      "######\n",
      "personel -> positive\n",
      "#################\n",
      "Spędzone tu 4 dni będę wspominała miło . Profesjonalny , miły , uśmiechnięty i przede wszystkim pomocny personel . Pokoje czyste zadbane komfortowe . Posiłki smaczne świeże po prostu mmm pycha : ) Bardzo blisko ( 2 - 3 min pieszo ) Galeria Łódzka , żabka . nie ma problemu z komunikacją : ) wszędzie się dotrze . Polecam bardzo fajne miejsce\n",
      "######\n",
      "Pokoje -> positive\n",
      "#################\n",
      "Spędzone tu 4 dni będę wspominała miło . Profesjonalny , miły , uśmiechnięty i przede wszystkim pomocny personel . Pokoje czyste zadbane komfortowe . Posiłki smaczne świeże po prostu mmm pycha : ) Bardzo blisko ( 2 - 3 min pieszo ) Galeria Łódzka , żabka . nie ma problemu z komunikacją : ) wszędzie się dotrze . Polecam bardzo fajne miejsce\n",
      "######\n",
      "Posiłki -> positive\n",
      "#################\n",
      "Spędzone tu 4 dni będę wspominała miło . Profesjonalny , miły , uśmiechnięty i przede wszystkim pomocny personel . Pokoje czyste zadbane komfortowe . Posiłki smaczne świeże po prostu mmm pycha : ) Bardzo blisko ( 2 - 3 min pieszo ) Galeria Łódzka , żabka . nie ma problemu z komunikacją : ) wszędzie się dotrze . Polecam bardzo fajne miejsce\n",
      "######\n",
      "miejsce -> positive\n",
      "#################\n",
      "Wspaniały pensjonat , cudowna obsługa , przepyszne i w ogromnej ilości jedzenie ( można sporo przytyć ) , rewelacyjne imprezy z góralska muzyką , śpiewem i ogniskiem . Miejsce również uwielbiane przez dzieci bo jest ich tutaj sporo i zawiązują się przyjaznie . Miejsce w 100 % godne polecenia .\n",
      "######\n",
      "pensjonat -> positive\n",
      "#################\n",
      "Wspaniały pensjonat , cudowna obsługa , przepyszne i w ogromnej ilości jedzenie ( można sporo przytyć ) , rewelacyjne imprezy z góralska muzyką , śpiewem i ogniskiem . Miejsce również uwielbiane przez dzieci bo jest ich tutaj sporo i zawiązują się przyjaznie . Miejsce w 100 % godne polecenia .\n",
      "######\n",
      "obsługa -> positive\n",
      "#################\n",
      "Wspaniały pensjonat , cudowna obsługa , przepyszne i w ogromnej ilości jedzenie ( można sporo przytyć ) , rewelacyjne imprezy z góralska muzyką , śpiewem i ogniskiem . Miejsce również uwielbiane przez dzieci bo jest ich tutaj sporo i zawiązują się przyjaznie . Miejsce w 100 % godne polecenia .\n",
      "######\n",
      "jedzenie -> positive\n",
      "#################\n",
      "Wspaniały pensjonat , cudowna obsługa , przepyszne i w ogromnej ilości jedzenie ( można sporo przytyć ) , rewelacyjne imprezy z góralska muzyką , śpiewem i ogniskiem . Miejsce również uwielbiane przez dzieci bo jest ich tutaj sporo i zawiązują się przyjaznie . Miejsce w 100 % godne polecenia .\n",
      "######\n",
      "imprezy -> positive\n",
      "#################\n",
      "Wspaniały pensjonat , cudowna obsługa , przepyszne i w ogromnej ilości jedzenie ( można sporo przytyć ) , rewelacyjne imprezy z góralska muzyką , śpiewem i ogniskiem . Miejsce również uwielbiane przez dzieci bo jest ich tutaj sporo i zawiązują się przyjaznie . Miejsce w 100 % godne polecenia .\n",
      "######\n",
      "Miejsce -> positive\n",
      "#################\n",
      "Hotel należący do sieci Accor lecz nie przestrzega przynależnych przywilejów w programie klubu Accor . Mając status platinum podczas pobytu nie otrzymał em powitalnego drinku , upominku VIP nie mówiąc o podniesieniu statusu pokoju . Jest to argument , który przekonuje mnie do zainteresowania się hotelami innej sieci .\n",
      "######\n",
      "Hotel -> negative\n",
      "#################\n",
      "Hotel należący do sieci Accor lecz nie przestrzega przynależnych przywilejów w programie klubu Accor . Mając status platinum podczas pobytu nie otrzymał em powitalnego drinku , upominku VIP nie mówiąc o podniesieniu statusu pokoju . Jest to argument , który przekonuje mnie do zainteresowania się hotelami innej sieci .\n",
      "######\n",
      "powitalnego drinku -> negative\n",
      "#################\n",
      "Hotel należący do sieci Accor lecz nie przestrzega przynależnych przywilejów w programie klubu Accor . Mając status platinum podczas pobytu nie otrzymał em powitalnego drinku , upominku VIP nie mówiąc o podniesieniu statusu pokoju . Jest to argument , który przekonuje mnie do zainteresowania się hotelami innej sieci .\n",
      "######\n",
      "upominku -> negative\n",
      "#################\n",
      "Hotel należący do sieci Accor lecz nie przestrzega przynależnych przywilejów w programie klubu Accor . Mając status platinum podczas pobytu nie otrzymał em powitalnego drinku , upominku VIP nie mówiąc o podniesieniu statusu pokoju . Jest to argument , który przekonuje mnie do zainteresowania się hotelami innej sieci .\n",
      "######\n",
      "pokoju -> negative\n",
      "#################\n",
      "Zdecydowanie odradzam . Pokoje w rzeczywistosci nie mają nic wspólnego z tym co widzimy na stronie hotelu . Ja trafilam na malą ciemna klitke typu hotel pracowniczy * * .\n",
      "######\n",
      "Pokoje -> negative\n",
      "#################\n",
      "Miejsce godne polecenia zwłaszcza dla osób lubiących ciszę i spokój położone z dala od centrum ale sympatycznej leśnej okolice minusem brak widoków górskich pokoje nie duże ale czyste obsługa sympatyczna ale sama szefowa mogła by być nieco milsza jedzenie dość dobre ilość wystarczająca natomiast brakło mu finezji na przykład dań regionalnych\n",
      "######\n",
      "Miejsce -> positive\n",
      "#################\n",
      "Miejsce godne polecenia zwłaszcza dla osób lubiących ciszę i spokój położone z dala od centrum ale sympatycznej leśnej okolice minusem brak widoków górskich pokoje nie duże ale czyste obsługa sympatyczna ale sama szefowa mogła by być nieco milsza jedzenie dość dobre ilość wystarczająca natomiast brakło mu finezji na przykład dań regionalnych\n",
      "######\n",
      "okolice -> positive\n",
      "#################\n",
      "Miejsce godne polecenia zwłaszcza dla osób lubiących ciszę i spokój położone z dala od centrum ale sympatycznej leśnej okolice minusem brak widoków górskich pokoje nie duże ale czyste obsługa sympatyczna ale sama szefowa mogła by być nieco milsza jedzenie dość dobre ilość wystarczająca natomiast brakło mu finezji na przykład dań regionalnych\n",
      "######\n",
      "widoków -> positive\n",
      "#################\n",
      "Miejsce godne polecenia zwłaszcza dla osób lubiących ciszę i spokój położone z dala od centrum ale sympatycznej leśnej okolice minusem brak widoków górskich pokoje nie duże ale czyste obsługa sympatyczna ale sama szefowa mogła by być nieco milsza jedzenie dość dobre ilość wystarczająca natomiast brakło mu finezji na przykład dań regionalnych\n",
      "######\n",
      "pokoje -> positive\n",
      "#################\n",
      "Miejsce godne polecenia zwłaszcza dla osób lubiących ciszę i spokój położone z dala od centrum ale sympatycznej leśnej okolice minusem brak widoków górskich pokoje nie duże ale czyste obsługa sympatyczna ale sama szefowa mogła by być nieco milsza jedzenie dość dobre ilość wystarczająca natomiast brakło mu finezji na przykład dań regionalnych\n",
      "######\n",
      "obsługa -> positive\n",
      "#################\n",
      "Miejsce godne polecenia zwłaszcza dla osób lubiących ciszę i spokój położone z dala od centrum ale sympatycznej leśnej okolice minusem brak widoków górskich pokoje nie duże ale czyste obsługa sympatyczna ale sama szefowa mogła by być nieco milsza jedzenie dość dobre ilość wystarczająca natomiast brakło mu finezji na przykład dań regionalnych\n",
      "######\n",
      "szefowa -> positive\n",
      "#################\n",
      "Miejsce godne polecenia zwłaszcza dla osób lubiących ciszę i spokój położone z dala od centrum ale sympatycznej leśnej okolice minusem brak widoków górskich pokoje nie duże ale czyste obsługa sympatyczna ale sama szefowa mogła by być nieco milsza jedzenie dość dobre ilość wystarczająca natomiast brakło mu finezji na przykład dań regionalnych\n",
      "######\n",
      "jedzenie -> positive\n",
      "#################\n",
      "Miejsce godne polecenia zwłaszcza dla osób lubiących ciszę i spokój położone z dala od centrum ale sympatycznej leśnej okolice minusem brak widoków górskich pokoje nie duże ale czyste obsługa sympatyczna ale sama szefowa mogła by być nieco milsza jedzenie dość dobre ilość wystarczająca natomiast brakło mu finezji na przykład dań regionalnych\n",
      "######\n",
      "dań -> positive\n"
     ]
    }
   ],
   "source": [
    "for index, row in sample_whole_reviews.iterrows():\n",
    "    print(\"#################\")\n",
    "    print(row['review'])\n",
    "    print(\"######\")\n",
    "    print(f\"{row['aspect']} -> {row['label']}\")"
   ]
  },
  {
   "cell_type": "markdown",
   "metadata": {},
   "source": [
    "### Basic characteristics of the prepared dataset"
   ]
  },
  {
   "cell_type": "code",
   "execution_count": 13,
   "metadata": {},
   "outputs": [
    {
     "name": "stdout",
     "output_type": "stream",
     "text": [
      "The prepared dataset consists of 992 reviews\n",
      "The prepared dataset consists of 2489 aspects\n"
     ]
    }
   ],
   "source": [
    "print(f\"The prepared dataset consists of {polemo.shape[0]} reviews\")\n",
    "print(f\"The prepared dataset consists of {df_out.shape[0]} aspects\")"
   ]
  },
  {
   "cell_type": "code",
   "execution_count": null,
   "metadata": {},
   "outputs": [],
   "source": []
  }
 ],
 "metadata": {
  "kernelspec": {
   "display_name": "Python 3 (ipykernel)",
   "language": "python",
   "name": "python3"
  },
  "language_info": {
   "codemirror_mode": {
    "name": "ipython",
    "version": 3
   },
   "file_extension": ".py",
   "mimetype": "text/x-python",
   "name": "python",
   "nbconvert_exporter": "python",
   "pygments_lexer": "ipython3",
   "version": "3.11.6"
  }
 },
 "nbformat": 4,
 "nbformat_minor": 2
}
